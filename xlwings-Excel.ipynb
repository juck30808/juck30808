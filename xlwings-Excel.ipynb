{
 "cells": [
  {
   "cell_type": "markdown",
   "id": "fd5d86fa",
   "metadata": {},
   "source": [
    "## 清空舊檔 Clear file"
   ]
  },
  {
   "cell_type": "code",
   "execution_count": 1,
   "id": "9575c691",
   "metadata": {},
   "outputs": [],
   "source": [
    "from openpyxl import Workbook\n",
    "wb = Workbook()\n",
    "wb.save(\"input/xlwings-sample.xlsx\")"
   ]
  },
  {
   "cell_type": "markdown",
   "id": "bf200e6b",
   "metadata": {},
   "source": [
    "## Struction of Workbook "
   ]
  },
  {
   "cell_type": "code",
   "execution_count": 2,
   "id": "ec45b13b",
   "metadata": {},
   "outputs": [
    {
     "name": "stdout",
     "output_type": "stream",
     "text": [
      "Requirement already satisfied: xlwings in /Users/jerrychien/opt/anaconda3/lib/python3.9/site-packages (0.24.9)\n",
      "Requirement already satisfied: psutil>=2.0.0 in /Users/jerrychien/opt/anaconda3/lib/python3.9/site-packages (from xlwings) (5.8.0)\n",
      "Requirement already satisfied: appscript>=1.0.1 in /Users/jerrychien/opt/anaconda3/lib/python3.9/site-packages (from xlwings) (1.1.2)\n",
      "Requirement already satisfied: datetime in /Users/jerrychien/opt/anaconda3/lib/python3.9/site-packages (4.4)\n",
      "Requirement already satisfied: zope.interface in /Users/jerrychien/opt/anaconda3/lib/python3.9/site-packages (from datetime) (5.4.0)\n",
      "Requirement already satisfied: pytz in /Users/jerrychien/opt/anaconda3/lib/python3.9/site-packages (from datetime) (2021.3)\n",
      "Requirement already satisfied: setuptools in /Users/jerrychien/opt/anaconda3/lib/python3.9/site-packages (from zope.interface->datetime) (58.0.4)\n"
     ]
    }
   ],
   "source": [
    "!pip install xlwings\n",
    "!pip install datetime"
   ]
  },
  {
   "cell_type": "markdown",
   "id": "ab294508",
   "metadata": {},
   "source": [
    "### （1）新建文檔"
   ]
  },
  {
   "cell_type": "code",
   "execution_count": 3,
   "id": "d27e4bf9",
   "metadata": {},
   "outputs": [],
   "source": [
    "import xlwings as xw\n",
    "\n",
    "app=xw.App(visible=True,add_book=False)\n",
    "wb=app.books.add()\n",
    "wb.save(r'input/xlwings-sample.xlsx')"
   ]
  },
  {
   "cell_type": "markdown",
   "id": "dda79d2e",
   "metadata": {},
   "source": [
    "### （2）已存在的文檔案"
   ]
  },
  {
   "cell_type": "code",
   "execution_count": 4,
   "id": "c88960e1",
   "metadata": {},
   "outputs": [],
   "source": [
    "import xlwings as xw\n",
    "\n",
    "app=xw.App(visible=True,add_book=False)\n",
    "wb=app.books.open(r'input/xlwings-sample.xlsx')\n",
    "wb.save()"
   ]
  },
  {
   "cell_type": "markdown",
   "id": "a8ee8252",
   "metadata": {},
   "source": [
    "### （3）在單元格輸入值"
   ]
  },
  {
   "cell_type": "code",
   "execution_count": 5,
   "id": "52d6d80e",
   "metadata": {},
   "outputs": [],
   "source": [
    "import xlwings as xw\n",
    "\n",
    "app=xw.App(visible=True,add_book=False)\n",
    "wb=app.books.add()\n",
    "\n",
    "# wb就是新建的工作簿(workbook)，下面则对wb的sheet1的A1单元格赋值\n",
    "wb.sheets['工作表1'].range('A1').value='人生'\n",
    "wb.sheets['sheet1'].range('A2').value='苦短'\n",
    "wb.save(r'input/xlwings-sample.xlsx')"
   ]
  },
  {
   "cell_type": "markdown",
   "id": "2ac9a000",
   "metadata": {},
   "source": [
    "### 引用工作薄、工作表和单元格"
   ]
  },
  {
   "cell_type": "code",
   "execution_count": 6,
   "id": "b76a2e7c",
   "metadata": {},
   "outputs": [],
   "source": [
    "wb=xw.books.active\n",
    "sheet = wb.sheets['Sheet1']"
   ]
  },
  {
   "cell_type": "code",
   "execution_count": 7,
   "id": "dda44463",
   "metadata": {},
   "outputs": [
    {
     "data": {
      "text/plain": [
       "'Foo 1'"
      ]
     },
     "execution_count": 7,
     "metadata": {},
     "output_type": "execute_result"
    }
   ],
   "source": [
    "## String\n",
    "sheet.range('A1').value = 'Foo 1'\n",
    "sheet.range('A1').value"
   ]
  },
  {
   "cell_type": "code",
   "execution_count": 8,
   "id": "926b578e",
   "metadata": {},
   "outputs": [],
   "source": [
    "## Row add A-Z\n",
    "sheet.range('A1').value=[1,2,3]   \n",
    "sheet.range('A1:D1').value = [1,2,3,4]   #[1,2,3,4]"
   ]
  },
  {
   "cell_type": "code",
   "execution_count": 9,
   "id": "4e9c64e9",
   "metadata": {},
   "outputs": [],
   "source": [
    "## Col Add 1-9                                                     #1\n",
    "sheet.range('A1').options(transpose=True).value = [1,2,3,4]        #2\n",
    "sheet.range('A1:A5').options(transpose=True).value= [1,2,3]        #3 "
   ]
  },
  {
   "cell_type": "code",
   "execution_count": 10,
   "id": "b77cb88f",
   "metadata": {},
   "outputs": [],
   "source": [
    "## 2D                                                                                 #a,b,c\n",
    "sheet.range('A1').options(expand='table').value = [[9,9,9],[8,8,8]]                   #d,e,f\n",
    "sheet.range('A1').expand('table').value = [['a','b','c'],['d','e','f'],['g','h','i']] #g,h,i"
   ]
  },
  {
   "cell_type": "code",
   "execution_count": 11,
   "id": "1d06f89b",
   "metadata": {
    "scrolled": true
   },
   "outputs": [
    {
     "data": {
      "text/plain": [
       "[['Foo 1', 'Foo 2', 'Foo 3', 4.0],\n",
       " [10.0, 20.0, 30.0, None],\n",
       " ['g', 'h', 'i', None],\n",
       " [4.0, None, None, None]]"
      ]
     },
     "execution_count": 11,
     "metadata": {},
     "output_type": "execute_result"
    }
   ],
   "source": [
    "## Select\n",
    "sheet.range('A1').value = [['Foo 1', 'Foo 2', 'Foo 3'], [10.0, 20.0, 30.0]]\n",
    "sheet.range('A1').expand().value"
   ]
  },
  {
   "cell_type": "markdown",
   "id": "90404a3f",
   "metadata": {},
   "source": [
    "## Data Structures Tutorial"
   ]
  },
  {
   "cell_type": "code",
   "execution_count": 12,
   "id": "d94cca5e",
   "metadata": {},
   "outputs": [],
   "source": [
    "wb=xw.books.active\n",
    "sheet = wb.sheets['Sheet1']"
   ]
  },
  {
   "cell_type": "code",
   "execution_count": 13,
   "id": "333dc9a1",
   "metadata": {},
   "outputs": [
    {
     "data": {
      "text/plain": [
       "[1.0, 'Hello', None, datetime.datetime(2000, 1, 1, 0, 0), None]"
      ]
     },
     "execution_count": 13,
     "metadata": {},
     "output_type": "execute_result"
    }
   ],
   "source": [
    "## Single Cell\n",
    "\n",
    "import datetime as dt\n",
    "sheet = xw.Book().sheets[0]\n",
    "sheet.range('A1').value = 1\n",
    "sheet.range('A2').value = 'Hello'\n",
    "sheet.range('A3').value is None\n",
    "sheet.range('A4').value = dt.datetime(2000, 1, 1)\n",
    "sheet.range('A1:A5').value"
   ]
  },
  {
   "cell_type": "code",
   "execution_count": 14,
   "id": "9e884cc1",
   "metadata": {},
   "outputs": [
    {
     "data": {
      "text/plain": [
       "[1.0, 1.0, 2.0, 3.0, 4.0]"
      ]
     },
     "execution_count": 14,
     "metadata": {},
     "output_type": "execute_result"
    }
   ],
   "source": [
    "## List\n",
    "\n",
    "sheet = xw.Book().sheets[0]\n",
    "sheet.range('A1').value = [[1],[2],[3],[4],[5]]  # Column orientation (nested list)\n",
    "sheet.range('B1').value = [1, 2, 3, 4, 5]\n",
    "sheet.range('A1:E1').value"
   ]
  },
  {
   "cell_type": "code",
   "execution_count": 15,
   "id": "ee2b5a66",
   "metadata": {},
   "outputs": [
    {
     "data": {
      "text/plain": [
       "[[1.0, 2.0], [3.0, 4.0], [5.0, 6.0]]"
      ]
     },
     "execution_count": 15,
     "metadata": {},
     "output_type": "execute_result"
    }
   ],
   "source": [
    "## Range expanding\n",
    "\n",
    "sheet = xw.Book().sheets[0]\n",
    "sheet.range('A1').value = [[1,2], [3,4]]\n",
    "rng1 = sheet.range('A1').expand('table')  # or just .expand()\n",
    "rng2 = sheet.range('A1').options(expand='table')\n",
    "rng1.value\n",
    "rng2.value\n",
    "sheet.range('A3').value = [5, 6]\n",
    "rng1.value\n",
    "rng2.value"
   ]
  },
  {
   "cell_type": "code",
   "execution_count": 16,
   "id": "20d6a633",
   "metadata": {},
   "outputs": [
    {
     "data": {
      "text/plain": [
       "array([[1., 0., 0.],\n",
       "       [0., 1., 0.],\n",
       "       [0., 0., 1.]])"
      ]
     },
     "execution_count": 16,
     "metadata": {},
     "output_type": "execute_result"
    }
   ],
   "source": [
    "## NumPy arrays\n",
    "\n",
    "import numpy as np\n",
    "sheet = xw.Book().sheets[0]\n",
    "sheet.range('A1').value = np.eye(3)\n",
    "sheet.range('A1').options(np.array, expand='table').value"
   ]
  },
  {
   "cell_type": "code",
   "execution_count": 17,
   "id": "01153c7b",
   "metadata": {},
   "outputs": [
    {
     "data": {
      "text/html": [
       "<div>\n",
       "<style scoped>\n",
       "    .dataframe tbody tr th:only-of-type {\n",
       "        vertical-align: middle;\n",
       "    }\n",
       "\n",
       "    .dataframe tbody tr th {\n",
       "        vertical-align: top;\n",
       "    }\n",
       "\n",
       "    .dataframe thead th {\n",
       "        text-align: right;\n",
       "    }\n",
       "</style>\n",
       "<table border=\"1\" class=\"dataframe\">\n",
       "  <thead>\n",
       "    <tr style=\"text-align: right;\">\n",
       "      <th></th>\n",
       "      <th>a</th>\n",
       "      <th>b</th>\n",
       "    </tr>\n",
       "  </thead>\n",
       "  <tbody>\n",
       "    <tr>\n",
       "      <th>0.0</th>\n",
       "      <td>1.0</td>\n",
       "      <td>2.0</td>\n",
       "    </tr>\n",
       "    <tr>\n",
       "      <th>1.0</th>\n",
       "      <td>3.0</td>\n",
       "      <td>4.0</td>\n",
       "    </tr>\n",
       "  </tbody>\n",
       "</table>\n",
       "</div>"
      ],
      "text/plain": [
       "       a    b\n",
       "0.0  1.0  2.0\n",
       "1.0  3.0  4.0"
      ]
     },
     "execution_count": 17,
     "metadata": {},
     "output_type": "execute_result"
    }
   ],
   "source": [
    "## DataFrame\n",
    "\n",
    "import pandas as pd\n",
    "df = pd.DataFrame([[1,2], [3,4]], columns=['a', 'b'])\n",
    "sheet.range('A1').value = df\n",
    "sheet.range('A1').options(pd.DataFrame, expand='table').value"
   ]
  },
  {
   "cell_type": "code",
   "execution_count": 18,
   "id": "2734d6af",
   "metadata": {},
   "outputs": [
    {
     "data": {
      "text/plain": [
       "0.0    1.1\n",
       "1.0    3.3\n",
       "2.0    5.0\n",
       "3.0    NaN\n",
       "4.0    6.0\n",
       "5.0    8.0\n",
       "Name: myseries, dtype: float64"
      ]
     },
     "execution_count": 18,
     "metadata": {},
     "output_type": "execute_result"
    }
   ],
   "source": [
    "## Pandas Series\n",
    "\n",
    "import pandas as pd\n",
    "import numpy as np\n",
    "sheet = xw.Book().sheets[0]\n",
    "s = pd.Series([1.1, 3.3, 5., np.nan, 6., 8.], name='myseries')\n",
    "s\n",
    "sheet.range('A1').value = s\n",
    "sheet.range('A1:B7').options(pd.Series).value"
   ]
  },
  {
   "cell_type": "code",
   "execution_count": 19,
   "id": "4523ba4a",
   "metadata": {},
   "outputs": [],
   "source": [
    "## Chunking: Read/Write big DataFrames etc.\n",
    "import pandas as pd\n",
    "import numpy as np\n",
    "\n",
    "sheet = xw.Book().sheets[0]\n",
    "data = np.arange(75_000 * 20).reshape(75_000, 20)\n",
    "df = pd.DataFrame(data=data)\n",
    "sheet['A1'].options(chunksize=10_000).value = df"
   ]
  },
  {
   "cell_type": "code",
   "execution_count": 20,
   "id": "5100379a",
   "metadata": {},
   "outputs": [],
   "source": [
    "# As DataFrame\n",
    "df = sheet['A1'].expand().options(pd.DataFrame, chunksize=10_000).value\n",
    "# As list of list\n",
    "df = sheet['A1'].expand().options(chunksize=10_000).value"
   ]
  },
  {
   "cell_type": "markdown",
   "id": "26ebf147",
   "metadata": {},
   "source": [
    "## Matplotlib & Plotly Charts"
   ]
  },
  {
   "cell_type": "code",
   "execution_count": 21,
   "id": "43d76e86",
   "metadata": {},
   "outputs": [],
   "source": [
    "wb=xw.books.active\n",
    "sheet = wb.sheets['Sheet1']"
   ]
  },
  {
   "cell_type": "code",
   "execution_count": 22,
   "id": "c450e380",
   "metadata": {},
   "outputs": [
    {
     "data": {
      "text/plain": [
       "<Picture 'MyPlot' in <Sheet [Book12]Sheet1>>"
      ]
     },
     "execution_count": 22,
     "metadata": {},
     "output_type": "execute_result"
    }
   ],
   "source": [
    "import matplotlib.pyplot as plt\n",
    "import xlwings as xw\n",
    "\n",
    "fig = plt.figure()\n",
    "plt.plot([1, 2, 3])\n",
    "\n",
    "sheet = xw.Book().sheets[0]\n",
    "sheet.pictures.add(fig, name='MyPlot', update=True)\n",
    "sheet.pictures.add(fig, name='MyPlot', update=True,left=sheet.range('B5').left, top=sheet.range('B5').top)"
   ]
  },
  {
   "cell_type": "code",
   "execution_count": 23,
   "id": "7588e5f1",
   "metadata": {},
   "outputs": [
    {
     "data": {
      "text/plain": [
       "<Picture 'MyPlot' in <Sheet [Book12]Sheet1>>"
      ]
     },
     "execution_count": 23,
     "metadata": {},
     "output_type": "execute_result"
    }
   ],
   "source": [
    "from matplotlib.figure import Figure\n",
    "import pandas as pd\n",
    "import numpy as np\n",
    "\n",
    "df = pd.DataFrame(np.random.rand(10, 4), columns=['a', 'b', 'c', 'd'])\n",
    "ax = df.plot(kind='bar')\n",
    "fig = ax.get_figure()\n",
    "\n",
    "sheet.pictures.add(fig, name='MyPlot', update=True)"
   ]
  },
  {
   "cell_type": "markdown",
   "id": "9eff80bf",
   "metadata": {},
   "source": [
    "## Plotly static charts"
   ]
  },
  {
   "cell_type": "code",
   "execution_count": 24,
   "id": "e4a57c5d",
   "metadata": {},
   "outputs": [],
   "source": [
    "# !pip install kaleido psutil requests\n",
    "# !pip install -U kaleido"
   ]
  },
  {
   "cell_type": "code",
   "execution_count": 25,
   "id": "78cba8af",
   "metadata": {},
   "outputs": [
    {
     "data": {
      "text/plain": [
       "<Picture 'IrisScatterPlot' in <Sheet [Book13]Sheet1>>"
      ]
     },
     "execution_count": 25,
     "metadata": {},
     "output_type": "execute_result"
    }
   ],
   "source": [
    "import xlwings as xw\n",
    "import plotly.express as px\n",
    "\n",
    "# Plotly chart\n",
    "df = px.data.iris()\n",
    "fig = px.scatter(df, x=\"sepal_width\", y=\"sepal_length\", color=\"species\")\n",
    "\n",
    "# Add it to Excel\n",
    "wb = xw.Book()\n",
    "wb.sheets[0].pictures.add(fig, name='IrisScatterPlot', update=True)"
   ]
  },
  {
   "cell_type": "markdown",
   "id": "f976ebfe",
   "metadata": {},
   "source": [
    "## Jupyter Notebooks: Interact with Excel"
   ]
  },
  {
   "cell_type": "code",
   "execution_count": 26,
   "id": "e464e362",
   "metadata": {},
   "outputs": [],
   "source": [
    "wb=xw.books.active\n",
    "sheet = wb.sheets['Sheet1']"
   ]
  },
  {
   "cell_type": "code",
   "execution_count": 27,
   "id": "fc629045",
   "metadata": {},
   "outputs": [
    {
     "data": {
      "text/html": [
       "<div>\n",
       "<style scoped>\n",
       "    .dataframe tbody tr th:only-of-type {\n",
       "        vertical-align: middle;\n",
       "    }\n",
       "\n",
       "    .dataframe tbody tr th {\n",
       "        vertical-align: top;\n",
       "    }\n",
       "\n",
       "    .dataframe thead th {\n",
       "        text-align: right;\n",
       "    }\n",
       "</style>\n",
       "<table border=\"1\" class=\"dataframe\">\n",
       "  <thead>\n",
       "    <tr style=\"text-align: right;\">\n",
       "      <th></th>\n",
       "      <th>one</th>\n",
       "      <th>two</th>\n",
       "    </tr>\n",
       "  </thead>\n",
       "  <tbody>\n",
       "    <tr>\n",
       "      <th>0</th>\n",
       "      <td>0</td>\n",
       "      <td>5</td>\n",
       "    </tr>\n",
       "    <tr>\n",
       "      <th>1</th>\n",
       "      <td>1</td>\n",
       "      <td>6</td>\n",
       "    </tr>\n",
       "    <tr>\n",
       "      <th>2</th>\n",
       "      <td>2</td>\n",
       "      <td>7</td>\n",
       "    </tr>\n",
       "    <tr>\n",
       "      <th>3</th>\n",
       "      <td>3</td>\n",
       "      <td>8</td>\n",
       "    </tr>\n",
       "    <tr>\n",
       "      <th>4</th>\n",
       "      <td>4</td>\n",
       "      <td>9</td>\n",
       "    </tr>\n",
       "  </tbody>\n",
       "</table>\n",
       "</div>"
      ],
      "text/plain": [
       "   one  two\n",
       "0    0    5\n",
       "1    1    6\n",
       "2    2    7\n",
       "3    3    8\n",
       "4    4    9"
      ]
     },
     "execution_count": 27,
     "metadata": {},
     "output_type": "execute_result"
    }
   ],
   "source": [
    "import pandas as pd\n",
    "from xlwings import view\n",
    "\n",
    "df = pd.DataFrame(data = {\"one\":[0,1,2,3,4],\n",
    "                          \"two\":[5,6,7,8,9]})\n",
    "df"
   ]
  },
  {
   "cell_type": "code",
   "execution_count": 28,
   "id": "33f54f72",
   "metadata": {},
   "outputs": [],
   "source": [
    "view(df)"
   ]
  },
  {
   "cell_type": "markdown",
   "id": "e2846337",
   "metadata": {},
   "source": [
    "## Converters and Options"
   ]
  },
  {
   "cell_type": "code",
   "execution_count": 29,
   "id": "838587ad",
   "metadata": {},
   "outputs": [
    {
     "data": {
      "text/plain": [
       "[[1.0], [3.0]]"
      ]
     },
     "execution_count": 29,
     "metadata": {},
     "output_type": "execute_result"
    }
   ],
   "source": [
    "# ndim : Force the value to have either 1 or 2 dimensions regardless of the shape of the range:\n",
    "\n",
    "import xlwings as xw\n",
    "sht = xw.Book().sheets[0]\n",
    "sht.range('A1').value = [[1, 2], [3, 4]]\n",
    "sht.range('A1').value\n",
    "sht.range('A1').options(ndim=1).value\n",
    "sht.range('A1').options(ndim=2).value\n",
    "sht.range('A1:A2').value\n",
    "sht.range('A1:A2').options(ndim=2).value"
   ]
  },
  {
   "cell_type": "code",
   "execution_count": 30,
   "id": "3e54f3b2",
   "metadata": {},
   "outputs": [
    {
     "data": {
      "text/plain": [
       "1"
      ]
     },
     "execution_count": 30,
     "metadata": {},
     "output_type": "execute_result"
    }
   ],
   "source": [
    "#numbers : By default cells with numbers are read as float, but you can change it to int:\n",
    "\n",
    "sht.range('A1').value = 1\n",
    "sht.range('A1').value\n",
    "sht.range('A1').options(numbers=int).value"
   ]
  },
  {
   "cell_type": "markdown",
   "id": "bf18fb94",
   "metadata": {},
   "source": [
    "## Example"
   ]
  },
  {
   "cell_type": "code",
   "execution_count": 31,
   "id": "acbb4858",
   "metadata": {},
   "outputs": [],
   "source": [
    "# 新建檔案\n",
    "def fun3_4_2():\n",
    "    \"\"\"\n",
    "    visible : Ture：可见excel, False：不可见excel\n",
    "    add_book: True:打开excel并且新建工作簿 , False：不新建工作簿\n",
    "    \"\"\"\n",
    "    app = xw.App(visible=True, add_book=False)\n",
    "    wb = app.books.add()\n",
    "    wb.save('input/xlwings-example.xlsx')\n",
    "    wb.close()\n",
    "    app.quit()"
   ]
  },
  {
   "cell_type": "code",
   "execution_count": 32,
   "id": "60297b8d",
   "metadata": {},
   "outputs": [],
   "source": [
    "fun3_4_2()"
   ]
  },
  {
   "cell_type": "code",
   "execution_count": 33,
   "id": "69662684",
   "metadata": {},
   "outputs": [],
   "source": [
    "# 另存新檔\n",
    "def fun3_4_3():\n",
    "    app = xw.App(visible=True, add_book=False)\n",
    "    app.display_alerts = False\n",
    "    app.screen_supdating = False\n",
    "\n",
    "    wb=app.books.open('input/xlwings-example.xlsx')\n",
    "    wb.save('input/xlwings-example2.xlsx')\n",
    "    wb.close() \n",
    "    app.quit()"
   ]
  },
  {
   "cell_type": "code",
   "execution_count": 34,
   "id": "2a3eb849",
   "metadata": {},
   "outputs": [],
   "source": [
    "fun3_4_3()"
   ]
  },
  {
   "cell_type": "code",
   "execution_count": 35,
   "id": "9b380ae9",
   "metadata": {},
   "outputs": [],
   "source": [
    "#  3.4.4 xlwings读写 Excel\n",
    "def fun3_4_4():\n",
    "    # 新建Excle 默认设置：程序可见，只打开不新建工作薄，屏幕更新关闭\n",
    "    app = xw.App(visible=True, add_book=False)\n",
    "    app.display_alerts = False\n",
    "    app.screen_updating = False\n",
    "    \n",
    "    wb=app.books.open('input/xlwings-example.xlsx')\n",
    "\n",
    "    # 获取sheet对象\n",
    "    print(wb.sheets)\n",
    "    sheet = wb.sheets[0]\n",
    "    # sheet = wb.sheets[\"sheet1\"]\n",
    "\n",
    "    # 清除单元格内容和格式\n",
    "    sheet.range('A1').clear()\n",
    "\n",
    "    # 写入单元格\n",
    "    sheet.range('A1').value = \"xlwings Hello\"\n",
    "    \n",
    "    # 读取Excel信息\n",
    "    cellB1_value = sheet.range('A1').value\n",
    "    print(\"A1内容为：\",cellB1_value)\n",
    "\n",
    "    wb.save('input/xlwings-example3.xlsx')\n",
    "    wb.close()\n",
    "    app.quit()"
   ]
  },
  {
   "cell_type": "code",
   "execution_count": 36,
   "id": "972a2d84",
   "metadata": {},
   "outputs": [
    {
     "name": "stdout",
     "output_type": "stream",
     "text": [
      "Sheets([<Sheet [xlwings-example.xlsx]Sheet1>])\n",
      "A1内容为： xlwings Hello\n"
     ]
    }
   ],
   "source": [
    "fun3_4_4()"
   ]
  },
  {
   "cell_type": "markdown",
   "id": "a4e435a3",
   "metadata": {},
   "source": [
    "## API Style"
   ]
  },
  {
   "cell_type": "code",
   "execution_count": 37,
   "id": "2d3bb5b0",
   "metadata": {},
   "outputs": [],
   "source": [
    "# # Book API\n",
    "# wb=xw.books.active\n",
    "\n",
    "# wb.fullname               # 絕對路徑 ('/Users/jerrychien/Documents/GitHub/WhaleFall/input/xlwings-sample.xlsx')\n",
    "# wb.name                   # 工作簿名稱 ('xlwings-sample.xlsx')\n",
    "# wb.save(path=None)        # 保存工作簿，默認為工作簿原路徑\n",
    "# wb.close()                # 關閉工作簿\n",
    "\n",
    "# # Sheet 常用 API\n",
    "# sheet = wb.sheets['Sheet1']\n",
    "\n",
    "# sheet.activate()\n",
    "# sheet.clear()\n",
    "# sheet.name\n",
    "# sheet.delete "
   ]
  },
  {
   "cell_type": "code",
   "execution_count": 38,
   "id": "23d9217d",
   "metadata": {},
   "outputs": [],
   "source": [
    "# # range常用的api\n",
    "# import xlwings as xw\n",
    "\n",
    "# rng = xw.Range('A1').value\n",
    "\n",
    "# rng=xw.Range('A1')\n",
    "\n",
    "# rng.add_hyperlink(r'www.google.com','Google','Tips:here')  # URL\n",
    "# rng.get_address()         # 取得當前 range 地址 ($A$1')\n",
    "# rng.clear_contents()      # Clean up range (delete)\n",
    "# rng.clear()               # 清除格式和内容\n",
    "\n",
    "# rng.color=(155,155,155)   # 設置 range 的顏色 (gray)\n",
    "# rng.color=None            # 清除 range 背景色\n",
    "\n",
    "# rng.formula='=SUM(B1:B5)' # formula\n",
    "# rng.formula_array         # formula call ('=SUM(B1:B5)')\n",
    "\n",
    "# rng.column              # 獲得 range 的第一列 (1)\n",
    "# rng.columns[0]          # 返回range的第一列\n",
    "# rng.columns.count       # 返回range的列数\n",
    "# rng.column_width        # 获得列宽\n",
    "# rng.columns.autofit()   # 所有列宽度自适应\n",
    "\n",
    "# rng.row                 # range的第一行行标\n",
    "# rng.rows[0]             # range的第一行\n",
    "# rng.rows.count          # range的总行数\n",
    "# rng.row_height          # 行的高度，所有行一样高返回行高，不一样返回None\n",
    "# rng.rows.autofit()      # 所有行宽度自适应\n",
    "\n",
    "# rng.count\n",
    "# rng.end('down')         # 返回ctrl + 方向\n",
    "# rng.autofit()           # 所有range的大小自适应\n",
    "\n",
    "# rng.get_address(row_absolute=True, column_absolute=True,include_sheetname=False, external=False) # 获得单元格的绝对地址\n",
    "# rng.width               # 返回range的总宽度\n",
    "# rng.last_cell           # 获得range中右下角最后一个单元格\n",
    "# rng.offset(row_offset=0,column_offset=0)   # range平移\n",
    "# rng.resize(row_size=None,column_size=None) # range进行resize改变range的大小\n",
    "# rng.height              # 返回 range 高度\n",
    "# rng.shape               # 返回 range 行数和列数\n",
    "# rng.sheet               # 返回 range 所在sheet"
   ]
  },
  {
   "cell_type": "markdown",
   "id": "6a35393b",
   "metadata": {},
   "source": [
    "## Connect to a Book"
   ]
  },
  {
   "cell_type": "code",
   "execution_count": 39,
   "id": "09b46066",
   "metadata": {},
   "outputs": [],
   "source": [
    "import xlwings as xw\n",
    "xw.Range('A1').value = 'something'"
   ]
  },
  {
   "cell_type": "code",
   "execution_count": 40,
   "id": "da5774a4",
   "metadata": {},
   "outputs": [
    {
     "data": {
      "text/plain": [
       "<Range [Book15]Sheet1!$A$1>"
      ]
     },
     "execution_count": 40,
     "metadata": {},
     "output_type": "execute_result"
    }
   ],
   "source": [
    "import xlwings as xw\n",
    "\n",
    "app = xw.apps.active\n",
    "\n",
    "wb = xw.books.active  # in active app\n",
    "wb = app.books.active  # in specific app\n",
    "\n",
    "sheet = xw.sheets.active  # in active book\n",
    "sheet = wb.sheets.active  # in specific book\n",
    "\n",
    "xw.Range('A1')  # on active sheet of active book of active app"
   ]
  },
  {
   "cell_type": "code",
   "execution_count": 41,
   "id": "8481e9a1",
   "metadata": {},
   "outputs": [
    {
     "data": {
      "text/plain": [
       "<Range [Book15]Sheet1!$A$1>"
      ]
     },
     "execution_count": 41,
     "metadata": {},
     "output_type": "execute_result"
    }
   ],
   "source": [
    "app = xw.apps.active\n",
    "\n",
    "wb = xw.books.active  # in active app\n",
    "wb = app.books.active  # in specific app\n",
    "\n",
    "sheet = xw.sheets.active  # in active book\n",
    "sheet = wb.sheets.active  # in specific book\n",
    "\n",
    "xw.Range('A1')  # on active sheet of active book of active app"
   ]
  },
  {
   "cell_type": "code",
   "execution_count": 42,
   "id": "ec589c35",
   "metadata": {},
   "outputs": [
    {
     "data": {
      "text/plain": [
       "<Range [Book16]Sheet1!$B$2:$C$3>"
      ]
     },
     "execution_count": 42,
     "metadata": {},
     "output_type": "execute_result"
    }
   ],
   "source": [
    "rng = xw.Book().sheets[0].range('A1:D5')\n",
    "rng[0, 0]\n",
    "rng[1]\n",
    "rng[:, 3:]\n",
    "rng[1:3, 1:3]"
   ]
  },
  {
   "cell_type": "code",
   "execution_count": 43,
   "id": "b11d2caa",
   "metadata": {},
   "outputs": [
    {
     "data": {
      "text/plain": [
       "<Range [Book17]Sheet1!$A$1:$J$10>"
      ]
     },
     "execution_count": 43,
     "metadata": {},
     "output_type": "execute_result"
    }
   ],
   "source": [
    "sheet = xw.Book().sheets['Sheet1']\n",
    "sheet['A1']\n",
    "sheet['A1:B5']\n",
    "sheet[0, 1]\n",
    "sheet[:10, :10]"
   ]
  }
 ],
 "metadata": {
  "kernelspec": {
   "display_name": "Python 3 (ipykernel)",
   "language": "python",
   "name": "python3"
  },
  "language_info": {
   "codemirror_mode": {
    "name": "ipython",
    "version": 3
   },
   "file_extension": ".py",
   "mimetype": "text/x-python",
   "name": "python",
   "nbconvert_exporter": "python",
   "pygments_lexer": "ipython3",
   "version": "3.11.3"
  }
 },
 "nbformat": 4,
 "nbformat_minor": 5
}
