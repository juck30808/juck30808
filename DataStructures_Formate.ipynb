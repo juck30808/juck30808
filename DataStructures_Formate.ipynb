{
 "cells": [
  {
   "cell_type": "markdown",
   "id": "c81f4c63",
   "metadata": {},
   "source": [
    "#### Formatting"
   ]
  },
  {
   "cell_type": "markdown",
   "id": "e6f46722",
   "metadata": {},
   "source": [
    "- {0：.2f}表示將第一個參數格式化為帶兩位小數的浮點數。\n",
    "- {1：s}表示將第二個參數格式化為字符串。\n",
    "- {2：d}表示將第三個參數格式化為精確的整數。 "
   ]
  },
  {
   "cell_type": "code",
   "execution_count": 17,
   "id": "4d8208cb",
   "metadata": {},
   "outputs": [],
   "source": [
    "template = '{0:.2f} {1:s} are worth US${2:d}'"
   ]
  },
  {
   "cell_type": "code",
   "execution_count": 18,
   "id": "287ac66a",
   "metadata": {
    "scrolled": true
   },
   "outputs": [
    {
     "data": {
      "text/plain": [
       "'4.56 Argentine Pesos are worth US$1'"
      ]
     },
     "execution_count": 18,
     "metadata": {},
     "output_type": "execute_result"
    }
   ],
   "source": [
    "template.format(4.5560, 'Argentine Pesos', 1)"
   ]
  },
  {
   "cell_type": "code",
   "execution_count": 42,
   "id": "b12353a8",
   "metadata": {},
   "outputs": [
    {
     "data": {
      "text/plain": [
       "'Zheng, Sam 太棒了！'"
      ]
     },
     "execution_count": 42,
     "metadata": {},
     "output_type": "execute_result"
    }
   ],
   "source": [
    "'{} is expected to introduce The {}'.format('Apple', 'iPhone')       # 花括號是佔位符\n",
    "'{0} is expected to introduce the {0},{1}'.format('Apple', 'iPhone') # 按位置或占位符提供值\n",
    "'{name} is expected to introduce the {product}'.format(name='Apple', product='iPhone') # 按位置或占位符提供值\n",
    "\n",
    "'{} squared is {}'.format(5, 5**2) # => '5 squared is 25'\n",
    "\"{:06.2f}\".format(3.14159)         # => '003.14'\n",
    "'{:10}'.format('left')             # => 'left'\n",
    "'{:*^12}'.format('CS41')           # => '****CS41****'\n",
    "f\"{', '.join(['Zheng', 'Sam'])} 太棒了！\""
   ]
  },
  {
   "cell_type": "code",
   "execution_count": 47,
   "id": "9c8fa3e9",
   "metadata": {},
   "outputs": [
    {
     "data": {
      "text/plain": [
       "'這是一顆蘋果'"
      ]
     },
     "execution_count": 47,
     "metadata": {},
     "output_type": "execute_result"
    }
   ],
   "source": [
    "\"Today is %d\" % 20\n",
    "\"%f四捨五入後是%.2f\" % (1.234, 1.234)  # 有多個地方需要取代的時候需要用()起來\n",
    "\"This is an %s\" % \"Apple\"\n",
    "\"熱愛{temperature}度的你\".format(temperature=105)\n",
    "\"{a}四捨五入後是{a:.2f}\".format(a=1.234)"
   ]
  },
  {
   "cell_type": "code",
   "execution_count": 48,
   "id": "58c9aa22",
   "metadata": {},
   "outputs": [
    {
     "data": {
      "text/plain": [
       "'這是一顆蘋果'"
      ]
     },
     "execution_count": 48,
     "metadata": {},
     "output_type": "execute_result"
    }
   ],
   "source": [
    "temperature = 105\n",
    "a = 1.234\n",
    "b = \"蘋果\"\n",
    "\n",
    "f\"熱愛{temperature}度的你\"   # 字串前面加f，中間用{}包變數名稱\n",
    "f\"{a}四捨五入後是{a:.2f}\"    # 可以和%一樣指定格式\n",
    "f\"這是一顆{b}\"              # 但不能和format一樣名稱留空"
   ]
  },
  {
   "cell_type": "code",
   "execution_count": 49,
   "id": "9618fed1",
   "metadata": {},
   "outputs": [
    {
     "data": {
      "text/plain": [
       "'綿羊'"
      ]
     },
     "execution_count": 49,
     "metadata": {},
     "output_type": "execute_result"
    }
   ],
   "source": [
    "s2 = \"一隻綿羊兩隻綿羊三隻綿羊\"\n",
    "\n",
    "\"第1隻綿羊在\", s2.find(\"綿羊\")     # 回傳的是開頭的index\n",
    "\"最後1隻綿羊在\", s2.rfind(\"綿羊\")  # rfind從右邊開始找\n",
    "s2[2:4]\n",
    "s2[10:10+len(s2)]"
   ]
  },
  {
   "cell_type": "markdown",
   "id": "c1d9dfe0",
   "metadata": {},
   "source": [
    "## Formate"
   ]
  },
  {
   "cell_type": "code",
   "execution_count": 1,
   "id": "6905704f",
   "metadata": {},
   "outputs": [
    {
     "name": "stdout",
     "output_type": "stream",
     "text": [
      "I have a BMW, it is X5.\n"
     ]
    }
   ],
   "source": [
    "# Adding named indexes inside {}\n",
    "neworder = \"I have a {carname}, it is {model}.\"\n",
    "print(neworder.format(carname = \"BMW\", model = \"X5\"))"
   ]
  },
  {
   "cell_type": "code",
   "execution_count": 2,
   "id": "ca15f5a8",
   "metadata": {},
   "outputs": [
    {
     "name": "stdout",
     "output_type": "stream",
     "text": [
      "The degree is 25.00 Celsius\n"
     ]
    }
   ],
   "source": [
    "# adding placeholder where you want to display the degree\n",
    "degree = 25\n",
    "newtext = \"The degree is {:.2f} Celsius\"\n",
    "print(newtext.format(degree))"
   ]
  },
  {
   "cell_type": "code",
   "execution_count": 3,
   "id": "c2fe5ea0",
   "metadata": {},
   "outputs": [
    {
     "name": "stdout",
     "output_type": "stream",
     "text": [
      "The player name is Joe. Joe is 39 years old!\n"
     ]
    }
   ],
   "source": [
    "# Multiple values to format method \n",
    "# quantity = 5\n",
    "# item_number = 150\n",
    "# price = 71\n",
    "# # add index numbers\n",
    "# neworder = \"We want {0} pieces of item number {1} and for {2:.2f} dollars\"\n",
    "# print(neworder.format(quantity, item_number, price))\n",
    "\n",
    "\n",
    "# adding the same value more than once\n",
    "age = 39\n",
    "name = \"Joe\"\n",
    "newtext = \"The player name is {1}. {1} is {0} years old!\"\n",
    "print(newtext.format(age, name))"
   ]
  },
  {
   "cell_type": "markdown",
   "id": "08cdea2e",
   "metadata": {},
   "source": [
    "## PJ"
   ]
  },
  {
   "cell_type": "code",
   "execution_count": 1,
   "id": "08d1f0f6",
   "metadata": {},
   "outputs": [
    {
     "name": "stdout",
     "output_type": "stream",
     "text": [
      "mensaje1: hola mundo, id: 0x22eb404c670\n",
      "mensaje2: Hola mundo, id: 0x22eb40519f0\n",
      "mensaje1: hola mundoadios, id: 0x22eb404c5b0\n"
     ]
    }
   ],
   "source": [
    "# Profundizando en el tipo str\n",
    "\n",
    "# help(str.capitalize)\n",
    "\n",
    "mensaje1 = 'hola mundo'\n",
    "mensaje2 = mensaje1.capitalize()\n",
    "print(f'mensaje1: {mensaje1}, id: {hex(id(mensaje1))}')\n",
    "print(f'mensaje2: {mensaje2}, id: {hex(id(mensaje2))}')\n",
    "mensaje1 += 'adios'\n",
    "print(f'mensaje1: {mensaje1}, id: {hex(id(mensaje1))}')\n"
   ]
  },
  {
   "cell_type": "code",
   "execution_count": 2,
   "id": "a684c548",
   "metadata": {},
   "outputs": [
    {
     "name": "stdout",
     "output_type": "stream",
     "text": [
      "Hola Mundo\n",
      "Notación simple: A\n",
      "Notación extendida: A\n",
      "Notación hexadecimal A\n"
     ]
    }
   ],
   "source": [
    "# Profundizando en el tipo str\n",
    "\n",
    "# caracteres unicode\n",
    "print('Hola\\u0020Mundo')\n",
    "print('Notación simple:', '\\u0041')\n",
    "print('Notación extendida:','\\U00000041')\n",
    "print('Notación hexadecimal','\\x41')\n",
    "print('Corazón:','\\u2665')\n",
    "print('Cara sonriendo:','\\U0001f600')\n",
    "print('Serpiente:','\\U0001F40D')\n",
    "\n",
    "# Caracteres ascii\n",
    "caracter = chr(65)\n",
    "print('A mayúscula:', caracter)\n",
    "caracter = chr(64)\n",
    "print('Símbolo @:', caracter)\n",
    "caracter = chr(97)\n",
    "print('a minúscula:', caracter)\n"
   ]
  },
  {
   "cell_type": "code",
   "execution_count": 3,
   "id": "d87f5d2f",
   "metadata": {},
   "outputs": [
    {
     "name": "stdout",
     "output_type": "stream",
     "text": [
      "Proporcione los siguientes datos del libro: \n",
      "Proporciona el nombre del libro: 56\n",
      "Proporciona el ID del libro: 56\n",
      "Proporciona el valor de libro: 5566\n",
      "Indica si es envío gratuito (True/False): \n",
      "\n",
      "    Nombre: 56\n",
      "    Id: 56\n",
      "    Precio: 5566.0\n",
      "    Envío Gratuito?: Valor incorrecto, debe escribir True/False\n",
      "\n"
     ]
    }
   ],
   "source": [
    "print('Proporcione los siguientes datos del libro: ')\n",
    "nombre = input('Proporciona el nombre del libro: ')\n",
    "id = int(input('Proporciona el ID del libro: '))\n",
    "precio = float(input('Proporciona el valor de libro: '))\n",
    "envioGratuito = input('Indica si es envío gratuito (True/False): ')\n",
    "\n",
    "if envioGratuito == 'True':\n",
    "    envioGratuito = True\n",
    "elif envioGratuito == 'False':\n",
    "    envioGratuito = False\n",
    "else:\n",
    "    envioGratuito = 'Valor incorrecto, debe escribir True/False'\n",
    "\n",
    "print(f'''\n",
    "    Nombre: {nombre}\n",
    "    Id: {id}\n",
    "    Precio: {precio}\n",
    "    Envío Gratuito?: {envioGratuito}\n",
    "''')"
   ]
  },
  {
   "cell_type": "code",
   "execution_count": 4,
   "id": "ae4c7da9",
   "metadata": {},
   "outputs": [
    {
     "name": "stdout",
     "output_type": "stream",
     "text": [
      "IDE: Integrated Developement Environment\n",
      "PK: Primary Key\n",
      "DBMS: Database Management System\n"
     ]
    }
   ],
   "source": [
    "def listarTerminos(**terminos):\n",
    "    for llave, valor in terminos.items():\n",
    "        print(f'{llave}: {valor}')\n",
    "\n",
    "listarTerminos(IDE='Integrated Developement Environment', PK='Primary Key')\n",
    "listarTerminos(DBMS='Database Management System')"
   ]
  },
  {
   "cell_type": "markdown",
   "id": "1bd90eb2",
   "metadata": {
    "id": "g7x49WlcDibj"
   },
   "source": [
    "# 十進制浮點運算\n",
    "decimal模塊提供了一種Decimal數據類型用於十進制浮點運算。相比內置的float二進制浮點實現，該類特別適用於\n",
    "<li>財務應用和其他需要精確十進製表示的用途，\n",
    "<li>控制精度，\n",
    "<li>控制四捨五入以滿足法律或監管要求，跟踪有效小數位，或\n",
    "<li>用戶期望結果與手工完成的計算相匹配的應用程序。\n",
    "    \n",
    "https://docs.python.org/zh-tw/3/library/decimal.html#module-decimal"
   ]
  },
  {
   "cell_type": "code",
   "execution_count": null,
   "id": "4b7749e1",
   "metadata": {
    "id": "CdoUXkrdDibk",
    "outputId": "3d5c7b2c-35b7-46ce-f732-204ab3ba1041"
   },
   "outputs": [
    {
     "data": {
      "text/plain": [
       "Decimal('0.74')"
      ]
     },
     "execution_count": 48,
     "metadata": {
      "tags": []
     },
     "output_type": "execute_result"
    }
   ],
   "source": [
    "# 例如，使用十進制浮點和二進制浮點數計算70美分手機和5％稅的總費用，會產生的不同結果。如果結果四捨五入到最接近的分數差異會更大\n",
    "from decimal import *\n",
    "round(Decimal('0.70') * Decimal('1.05'), 2)"
   ]
  },
  {
   "cell_type": "code",
   "execution_count": null,
   "id": "62aef129",
   "metadata": {
    "id": "btNQUEnsDibo",
    "outputId": "1c0f6711-8f95-4547-c242-4a240e8b9579"
   },
   "outputs": [
    {
     "data": {
      "text/plain": [
       "0.73"
      ]
     },
     "execution_count": 49,
     "metadata": {
      "tags": []
     },
     "output_type": "execute_result"
    }
   ],
   "source": [
    "round(.70 * 1.05, 2)"
   ]
  },
  {
   "cell_type": "code",
   "execution_count": null,
   "id": "11e38d5a",
   "metadata": {
    "id": "yTymQhx_Dibt",
    "outputId": "4d280dfc-88ee-4736-9556-6cfcf4a1918e"
   },
   "outputs": [
    {
     "data": {
      "text/plain": [
       "0.9999999999999999"
      ]
     },
     "execution_count": 53,
     "metadata": {
      "tags": []
     },
     "output_type": "execute_result"
    }
   ],
   "source": [
    "x = 0.1\n",
    "y = 0\n",
    "for i in range(0,10):\n",
    "    y = y+x\n",
    "y"
   ]
  },
  {
   "cell_type": "code",
   "execution_count": null,
   "id": "ef68c7cb",
   "metadata": {
    "id": "-3-SOkImDibw",
    "outputId": "4967e781-3140-4960-fb6a-2fc16aa9e79c"
   },
   "outputs": [
    {
     "data": {
      "text/plain": [
       "Decimal('1.0')"
      ]
     },
     "execution_count": 54,
     "metadata": {
      "tags": []
     },
     "output_type": "execute_result"
    }
   ],
   "source": [
    "x = Decimal('0.1')\n",
    "y = Decimal('0')\n",
    "for i in range(0,10):\n",
    "    y = y+x\n",
    "y"
   ]
  },
  {
   "cell_type": "code",
   "execution_count": null,
   "id": "0eba829b",
   "metadata": {
    "id": "cvu8eWb6Dib0",
    "outputId": "d53d589c-848b-4428-c278-1f7139cc80f3"
   },
   "outputs": [
    {
     "data": {
      "text/plain": [
       "Decimal('0.142857142857142857142857142857142857')"
      ]
     },
     "execution_count": 59,
     "metadata": {
      "tags": []
     },
     "output_type": "execute_result"
    }
   ],
   "source": [
    "# decimal 模塊提供了運算所需要的足夠精度\n",
    "getcontext().prec = 36\n",
    "Decimal(1) / Decimal(7)"
   ]
  },
  {
   "cell_type": "code",
   "execution_count": null,
   "id": "4988c6a4",
   "metadata": {
    "id": "cnAxB1q9Dib5",
    "outputId": "d8f042b5-c6ff-4c26-ae17-b6fb329df26e"
   },
   "outputs": [
    {
     "data": {
      "text/plain": [
       "0.14285714285714285"
      ]
     },
     "execution_count": 55,
     "metadata": {
      "tags": []
     },
     "output_type": "execute_result"
    }
   ],
   "source": [
    "1 / 7"
   ]
  },
  {
   "cell_type": "code",
   "execution_count": null,
   "id": "951e9cde",
   "metadata": {},
   "outputs": [],
   "source": [
    "# Profundizando listas\n",
    "# Listas son mutables\n",
    "nombres1 = ['Juan', 'Karla', 'Pedro']\n",
    "nombres2 = 'Laura María Gonzalo Ernesto'.split()\n",
    "# Sumar listas\n",
    "print(f'Sumar listas {nombres1 + nombres2}')\n",
    "# Extender una lista con otra lista\n",
    "nombres1.extend(nombres2)\n",
    "print(f'Extender la lista1: {nombres1}')\n",
    "\n",
    "# Lista de números\n",
    "numeros1 = [10, 40, 15, 4, 20, 90, 4]\n",
    "print(f'Lista original: {numeros1}')\n",
    "# obtener el índice del primer elemento encontrado en una lista\n",
    "# help(list.index)\n",
    "print(f'Índice 4: {numeros1.index(4)}')\n",
    "\n",
    "# Invertir el orden de los elementos de una lista\n",
    "numeros1.reverse()\n",
    "print(f'Lista invertida: {numeros1}')\n",
    "\n",
    "# Ordenar los elementos de una lista\n",
    "numeros1.sort()\n",
    "print(f'Lista ordenada (ascendente): {numeros1}')\n",
    "# Ordenar de manera descendente una lista\n",
    "numeros1.sort(reverse=True)\n",
    "print(f'Lista ordenada (descendente): {numeros1}')\n",
    "\n",
    "# Obtener el valor min y max de una lista\n",
    "print(f'Valor mínimo: {min(numeros1)}')\n",
    "print(f'Valor máximo: {max(numeros1)}')\n",
    "\n",
    "# Copiar los elementos de una lista\n",
    "numeros2 = numeros1.copy()\n",
    "# help(list.copy)\n",
    "print(f'Misma referencia? {numeros1 is numeros2}')\n",
    "print(f'Mismo contenido? {numeros1 == numeros2}')\n",
    "\n",
    "# Podemos usar el constructor de la lista\n",
    "numeros2 = list(numeros1)\n",
    "print(f'Misma referencia? {numeros1 is numeros2}')\n",
    "print(f'Mismo contenido? {numeros1 == numeros2}')\n",
    "\n",
    "# slicing\n",
    "numeros2 = numeros1[:]\n",
    "print(f'Misma referencia? {numeros1 is numeros2}')\n",
    "print(f'Mismo contenido? {numeros1 == numeros2}')\n",
    "\n",
    "# Multiplicación listas\n",
    "lista_multiplicacion = 5*[[2, 5]]\n",
    "print(lista_multiplicacion)\n",
    "print(f'Misma referencia: {lista_multiplicacion[0] is lista_multiplicacion[1]}')\n",
    "print(f'Mismo contenido: {lista_multiplicacion[0] == lista_multiplicacion[1]}')\n",
    "lista_multiplicacion[2].append(10)\n",
    "print(lista_multiplicacion)\n",
    "\n",
    "# Matrices en Python\n",
    "matriz = [[10, 20], [30, 40, 50], [60, 70, 80, 90]]\n",
    "print(f'Matriz original: {matriz}')\n",
    "print(f'Renglón 0, Columna 0: {matriz[0][0]}')\n",
    "print(f'Renglón 2, Columna 3: {matriz[2][3]}')\n",
    "matriz[2][0] = 65\n",
    "print(f'Matriz modificada: {matriz}')"
   ]
  },
  {
   "cell_type": "code",
   "execution_count": 2,
   "id": "3bf7178b",
   "metadata": {},
   "outputs": [
    {
     "data": {
      "text/plain": [
       "20.0"
      ]
     },
     "execution_count": 2,
     "metadata": {},
     "output_type": "execute_result"
    }
   ],
   "source": [
    "def find_percentage(value1, value2, value3):\n",
    "    return sum((value1, value2, value3)) * 0.20\n",
    "find_percentage(30,50,20)"
   ]
  },
  {
   "cell_type": "code",
   "execution_count": null,
   "id": "19ac4c6a",
   "metadata": {},
   "outputs": [],
   "source": [
    "def find_percentage(*args):\n",
    "    print(args)\n",
    "find_percentage(30,56,98,78,12)"
   ]
  },
  {
   "cell_type": "code",
   "execution_count": null,
   "id": "2a3d9d03",
   "metadata": {},
   "outputs": [],
   "source": [
    "def pets(**kwargs):\n",
    "   # print(kwargs)\n",
    "    if 'cat' in kwargs:\n",
    "        print(\"My cat's name is {}\".format(kwargs['cat']))\n",
    "    else:\n",
    "        print(\"No cat's name is found\")\n",
    "pets(cat='Luna', dog='charlie')"
   ]
  },
  {
   "cell_type": "code",
   "execution_count": null,
   "id": "d39dba8b",
   "metadata": {},
   "outputs": [],
   "source": [
    "def students(*args, **kwargs):\n",
    "    print('Students need {} {}.'.format(args[1], kwargs['equipment']))\n",
    "students(53,34,46,clothes='shirts',equipment='laptops',food='pizzas' )"
   ]
  },
  {
   "cell_type": "markdown",
   "id": "8b9efc68",
   "metadata": {},
   "source": [
    "#### Advance"
   ]
  },
  {
   "cell_type": "code",
   "execution_count": 85,
   "id": "ed267437",
   "metadata": {},
   "outputs": [
    {
     "name": "stdout",
     "output_type": "stream",
     "text": [
      "What is your name? It is lancelot.\n",
      "What is your quest? It is the holy grail.\n",
      "What is your favorite color? It is blue.\n"
     ]
    }
   ],
   "source": [
    "# Advanced Looping - Zip\n",
    "\n",
    "questions = ['name', 'quest', 'favorite color']\n",
    "answers = ['lancelot', 'the holy grail', 'blue']\n",
    "for q, a in zip(questions, answers):\n",
    "    print('What is your {0}? It is {1}.'.format(q, a))"
   ]
  },
  {
   "cell_type": "code",
   "execution_count": 86,
   "id": "edc079d6",
   "metadata": {},
   "outputs": [
    {
     "name": "stdout",
     "output_type": "stream",
     "text": [
      "apple\n",
      "banana\n",
      "orange\n",
      "pear\n"
     ]
    }
   ],
   "source": [
    "# Advanced Looping - Sort \n",
    "\n",
    "basket = ['apple', 'orange', 'apple', 'pear', 'orange','banana']\n",
    "for f in sorted(set(basket)):\n",
    "    print(f)"
   ]
  },
  {
   "cell_type": "code",
   "execution_count": 87,
   "id": "5514d518",
   "metadata": {},
   "outputs": [
    {
     "data": {
      "text/plain": [
       "[0, 1, 4, 9, 16, 25, 36, 49, 64, 81]"
      ]
     },
     "execution_count": 87,
     "metadata": {},
     "output_type": "execute_result"
    }
   ],
   "source": [
    "# Advanced Looping - Square Numbers\n",
    "\n",
    "squares = []\n",
    "for x in range(10):\n",
    "    squares.append(x**2)\n",
    "squares"
   ]
  },
  {
   "cell_type": "markdown",
   "id": "a0bb8dc2",
   "metadata": {},
   "source": [
    "## Formate"
   ]
  },
  {
   "cell_type": "code",
   "execution_count": null,
   "id": "cd0e8954",
   "metadata": {},
   "outputs": [],
   "source": [
    "# Adding named indexes inside {}\n",
    "neworder = \"I have a {carname}, it is {model}.\"\n",
    "print(neworder.format(carname = \"BMW\", model = \"X5\"))"
   ]
  },
  {
   "cell_type": "code",
   "execution_count": null,
   "id": "b07a2af6",
   "metadata": {},
   "outputs": [],
   "source": [
    "# adding placeholder where you want to display the degree\n",
    "degree = 25\n",
    "newtext = \"The degree is {:.2f} Celsius\"\n",
    "print(newtext.format(degree))"
   ]
  },
  {
   "cell_type": "code",
   "execution_count": null,
   "id": "991cee27",
   "metadata": {},
   "outputs": [],
   "source": [
    "# Multiple values to format method \n",
    "# quantity = 5\n",
    "# item_number = 150\n",
    "# price = 71\n",
    "# # add index numbers\n",
    "# neworder = \"We want {0} pieces of item number {1} and for {2:.2f} dollars\"\n",
    "# print(neworder.format(quantity, item_number, price))\n",
    "\n",
    "\n",
    "# adding the same value more than once\n",
    "age = 39\n",
    "name = \"Joe\"\n",
    "newtext = \"The player name is {1}. {1} is {0} years old!\"\n",
    "print(newtext.format(age, name))"
   ]
  },
  {
   "cell_type": "code",
   "execution_count": null,
   "id": "23cabae9",
   "metadata": {},
   "outputs": [],
   "source": [
    "# Profundizar en set\n",
    "# Un set es una colección de elementos únicos y es mutable\n",
    "# Los elementos de un set deben ser inmutables\n",
    "# conjunto = {[1,2],[3,4]}\n",
    "conjunto = {'Juan', True, 18.0}\n",
    "print(conjunto)\n",
    "# Set vacío\n",
    "# conjunto = {} genera un dict vacío\n",
    "# print(type(conjunto))\n",
    "# set vacío correcto\n",
    "conjunto = set()\n",
    "print(conjunto)\n",
    "print(type(conjunto))\n",
    "# Mutable\n",
    "conjunto.add('Juan')\n",
    "print(conjunto)\n",
    "# Contiene valores únicos\n",
    "conjunto.add('Juan')\n",
    "print(conjunto)\n",
    "# Crear un set a partir de un iterable\n",
    "conjunto = set([4,5,7,8,4])\n",
    "print(conjunto)\n",
    "# Podemos agregar más elementos on incluso otro set\n",
    "conjunto2 = {100,200,300,300}\n",
    "conjunto.update(conjunto2)\n",
    "print(conjunto)\n",
    "conjunto.update([20,30,40,40])\n",
    "print(conjunto)\n",
    "\n",
    "# Copiar un set (copia poco profunda, solo copia referencias)\n",
    "conjunto_copia = conjunto.copy()\n",
    "print(conjunto_copia)\n",
    "# Verificar igualdad\n",
    "print(f'Es igual en contenido? {conjunto == conjunto_copia}')\n",
    "print(f'Es la misma referencia? {conjunto is conjunto_copia}')\n",
    "\n",
    "# Operaciones de conjuntos con set\n",
    "# Personas con distintas características\n",
    "pelo_negro = {'Juan','Karla','Pedro','María'}\n",
    "pelo_rubio = {'Lorenzo','Laura','Marco'}\n",
    "ojos_cafe = {'Karla','Laura'}\n",
    "menores_30 = {'Juan','Karla','María'}\n",
    "# Todos con ojos_cafe y pelo rubio (Union) (no se repiten los elementos)\n",
    "print(ojos_cafe.union(pelo_rubio))\n",
    "# Invertir el orden con el mismo resultado (conmutativa)\n",
    "print(pelo_rubio.union(ojos_cafe))\n",
    "\n",
    "# (intersetion) Sólo las personas con ojos cafe y pelo rubio (conmutativa)\n",
    "print(ojos_cafe.intersection(pelo_rubio))\n",
    "\n",
    "# (difference) Pelo negro sin ojos cafe (no es conmutativa)\n",
    "# las personas que se encuentran en el primer set pero NO en el segundo\n",
    "print(pelo_negro.difference(ojos_cafe))\n",
    "\n",
    "# (diferencia simétrica) Pelo negro u ojos cafe, pero NO ambos (conmutativa)\n",
    "print(pelo_negro.symmetric_difference(ojos_cafe))\n",
    "\n",
    "# Preguntar si un set está contenido en otro (subset)\n",
    "# revismos si los elementos del primer set están contenidos en el segundo set\n",
    "print(menores_30.issubset(pelo_negro))\n",
    "\n",
    "# Preguntar si un set contiene a otro set (superset)\n",
    "# revisar si los elementos del primer set están contenidos en el segundo set\n",
    "print(menores_30.issuperset(pelo_negro))\n",
    "\n",
    "# Preguntar si los de pelo negro no tienen pelo rubio (distjoin)\n",
    "print(pelo_negro.isdisjoint(pelo_rubio))"
   ]
  },
  {
   "cell_type": "code",
   "execution_count": null,
   "id": "32ea3326",
   "metadata": {
    "scrolled": true
   },
   "outputs": [],
   "source": [
    "# Produndizando en diccionarios\n",
    "\n",
    "# Los dic guardan un orden (a diferencia de un set)\n",
    "diccionario = {'Nombre':'Juan','Apellido':'Perez','Edad':28}\n",
    "print(diccionario)\n",
    "\n",
    "# Los dic son mutables, pero las llaves deben ser inmutables\n",
    "# diccionario = {[1,2]:'Valor1'}\n",
    "# diccionario = {(1,2):'Valor1'}\n",
    "print(diccionario)\n",
    "\n",
    "# Se agrega una llave si no se encuentra\n",
    "diccionario['Departamento'] = 'Sistemas'\n",
    "print(diccionario)\n",
    "\n",
    "# No hay valores duplicados en las llaves de un diccionario (si ya existe se reemplaza)\n",
    "diccionario['Nombre'] = 'Juan Carlos'\n",
    "print(diccionario)\n",
    "\n",
    "# Recuperar un valor indicando una llave\n",
    "print(diccionario['Nombre'])\n",
    "# Si no encuentra la llave lanza una excepcion\n",
    "# print(diccionario['nombre'])\n",
    "\n",
    "# Método get recupera una llave, y si no existe NO lanza excepción\n",
    "# además podemos regresar un valor en caso de que no exista la llave\n",
    "print(diccionario.get('Nombres','No se encontró la llave'))\n",
    "print(diccionario)\n",
    "\n",
    "# setdefault sí modifica el diccionario, además se agregar un valor por default\n",
    "nombre = diccionario.setdefault('Nombres','Valor por default')\n",
    "print(nombre)\n",
    "print(diccionario)\n",
    "\n",
    "# Imprimir con pprint\n",
    "from pprint import pprint as pp\n",
    "# help(pp)\n",
    "pp(diccionario, sort_dicts=False)"
   ]
  },
  {
   "cell_type": "code",
   "execution_count": null,
   "id": "8c64769c",
   "metadata": {},
   "outputs": [],
   "source": []
  }
 ],
 "metadata": {
  "kernelspec": {
   "display_name": "Python 3 (ipykernel)",
   "language": "python",
   "name": "python3"
  },
  "language_info": {
   "codemirror_mode": {
    "name": "ipython",
    "version": 3
   },
   "file_extension": ".py",
   "mimetype": "text/x-python",
   "name": "python",
   "nbconvert_exporter": "python",
   "pygments_lexer": "ipython3",
   "version": "3.9.7"
  }
 },
 "nbformat": 4,
 "nbformat_minor": 5
}
