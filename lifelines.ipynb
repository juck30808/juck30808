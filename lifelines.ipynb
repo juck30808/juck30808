{
 "cells": [
  {
   "cell_type": "code",
   "execution_count": 1,
   "metadata": {
    "colab": {
     "base_uri": "https://localhost:8080/"
    },
    "id": "BDjislqiQK_C",
    "outputId": "d6596547-c821-4270-9b0a-890871e331bb"
   },
   "outputs": [
    {
     "name": "stdout",
     "output_type": "stream",
     "text": [
      "Collecting lifelines\n",
      "  Downloading lifelines-0.27.8-py3-none-any.whl (350 kB)\n",
      "                                              0.0/350.7 kB ? eta -:--:--\n",
      "     ----                                    41.0/350.7 kB 1.9 MB/s eta 0:00:01\n",
      "     -----------                            102.4/350.7 kB 1.5 MB/s eta 0:00:01\n",
      "     -------------------------              235.5/350.7 kB 1.8 MB/s eta 0:00:01\n",
      "     -------------------------------------- 350.7/350.7 kB 2.2 MB/s eta 0:00:00\n",
      "Requirement already satisfied: numpy<2.0,>=1.14.0 in c:\\users\\cti110016\\appdata\\local\\anaconda3\\lib\\site-packages (from lifelines) (1.25.2)\n",
      "Requirement already satisfied: scipy>=1.2.0 in c:\\users\\cti110016\\appdata\\local\\anaconda3\\lib\\site-packages (from lifelines) (1.11.1)\n",
      "Requirement already satisfied: pandas>=1.0.0 in c:\\users\\cti110016\\appdata\\local\\anaconda3\\lib\\site-packages (from lifelines) (1.5.3)\n",
      "Requirement already satisfied: matplotlib>=3.0 in c:\\users\\cti110016\\appdata\\local\\anaconda3\\lib\\site-packages (from lifelines) (3.7.2)\n",
      "Collecting autograd>=1.5 (from lifelines)\n",
      "  Downloading autograd-1.6.2-py3-none-any.whl (49 kB)\n",
      "                                              0.0/49.3 kB ? eta -:--:--\n",
      "     ---------------------------------------- 49.3/49.3 kB ? eta 0:00:00\n",
      "Collecting autograd-gamma>=0.3 (from lifelines)\n",
      "  Downloading autograd-gamma-0.5.0.tar.gz (4.0 kB)\n",
      "  Preparing metadata (setup.py): started\n",
      "  Preparing metadata (setup.py): finished with status 'done'\n",
      "Collecting formulaic>=0.2.2 (from lifelines)\n",
      "  Downloading formulaic-0.6.6-py3-none-any.whl (91 kB)\n",
      "                                              0.0/91.0 kB ? eta -:--:--\n",
      "     ---------------------------------------- 91.0/91.0 kB ? eta 0:00:00\n",
      "Requirement already satisfied: future>=0.15.2 in c:\\users\\cti110016\\appdata\\local\\anaconda3\\lib\\site-packages (from autograd>=1.5->lifelines) (0.18.3)\n",
      "Collecting astor>=0.8 (from formulaic>=0.2.2->lifelines)\n",
      "  Downloading astor-0.8.1-py2.py3-none-any.whl (27 kB)\n",
      "Collecting interface-meta>=1.2.0 (from formulaic>=0.2.2->lifelines)\n",
      "  Downloading interface_meta-1.3.0-py3-none-any.whl (14 kB)\n",
      "Requirement already satisfied: typing-extensions>=4.2.0 in c:\\users\\cti110016\\appdata\\local\\anaconda3\\lib\\site-packages (from formulaic>=0.2.2->lifelines) (4.5.0)\n",
      "Collecting wrapt>=1.0 (from formulaic>=0.2.2->lifelines)\n",
      "  Downloading wrapt-1.15.0-cp311-cp311-win_amd64.whl (36 kB)\n",
      "Requirement already satisfied: contourpy>=1.0.1 in c:\\users\\cti110016\\appdata\\local\\anaconda3\\lib\\site-packages (from matplotlib>=3.0->lifelines) (1.1.0)\n",
      "Requirement already satisfied: cycler>=0.10 in c:\\users\\cti110016\\appdata\\local\\anaconda3\\lib\\site-packages (from matplotlib>=3.0->lifelines) (0.11.0)\n",
      "Requirement already satisfied: fonttools>=4.22.0 in c:\\users\\cti110016\\appdata\\local\\anaconda3\\lib\\site-packages (from matplotlib>=3.0->lifelines) (4.42.0)\n",
      "Requirement already satisfied: kiwisolver>=1.0.1 in c:\\users\\cti110016\\appdata\\local\\anaconda3\\lib\\site-packages (from matplotlib>=3.0->lifelines) (1.4.4)\n",
      "Requirement already satisfied: packaging>=20.0 in c:\\users\\cti110016\\appdata\\local\\anaconda3\\lib\\site-packages (from matplotlib>=3.0->lifelines) (23.0)\n",
      "Requirement already satisfied: pillow>=6.2.0 in c:\\users\\cti110016\\appdata\\local\\anaconda3\\lib\\site-packages (from matplotlib>=3.0->lifelines) (9.4.0)\n",
      "Requirement already satisfied: pyparsing<3.1,>=2.3.1 in c:\\users\\cti110016\\appdata\\local\\anaconda3\\lib\\site-packages (from matplotlib>=3.0->lifelines) (3.0.9)\n",
      "Requirement already satisfied: python-dateutil>=2.7 in c:\\users\\cti110016\\appdata\\local\\anaconda3\\lib\\site-packages (from matplotlib>=3.0->lifelines) (2.8.2)\n",
      "Requirement already satisfied: pytz>=2020.1 in c:\\users\\cti110016\\appdata\\local\\anaconda3\\lib\\site-packages (from pandas>=1.0.0->lifelines) (2022.7)\n",
      "Requirement already satisfied: six>=1.5 in c:\\users\\cti110016\\appdata\\local\\anaconda3\\lib\\site-packages (from python-dateutil>=2.7->matplotlib>=3.0->lifelines) (1.16.0)\n",
      "Building wheels for collected packages: autograd-gamma\n",
      "  Building wheel for autograd-gamma (setup.py): started\n",
      "  Building wheel for autograd-gamma (setup.py): finished with status 'done'\n",
      "  Created wheel for autograd-gamma: filename=autograd_gamma-0.5.0-py3-none-any.whl size=4049 sha256=ba59e93fa53aac606a884e9e3c745b194b08d2e6dc09cbcc658a9c2badc01397\n",
      "  Stored in directory: c:\\users\\cti110016\\appdata\\local\\pip\\cache\\wheels\\8b\\67\\f4\\2caaae2146198dcb824f31a303833b07b14a5ec863fb3acd7b\n",
      "Successfully built autograd-gamma\n",
      "Installing collected packages: wrapt, interface-meta, autograd, astor, autograd-gamma, formulaic, lifelines\n",
      "Successfully installed astor-0.8.1 autograd-1.6.2 autograd-gamma-0.5.0 formulaic-0.6.6 interface-meta-1.3.0 lifelines-0.27.8 wrapt-1.15.0\n"
     ]
    },
    {
     "name": "stderr",
     "output_type": "stream",
     "text": [
      "ERROR: pip's dependency resolver does not currently take into account all the packages that are installed. This behaviour is the source of the following dependency conflicts.\n",
      "tensorflow-intel 2.13.0 requires h5py>=2.9.0, which is not installed.\n",
      "tensorflow-intel 2.13.0 requires numpy<=1.24.3,>=1.22, but you have numpy 1.25.2 which is incompatible.\n"
     ]
    }
   ],
   "source": [
    "!pip install lifelines"
   ]
  },
  {
   "cell_type": "code",
   "execution_count": 2,
   "metadata": {
    "id": "WRltBGfeQN1W"
   },
   "outputs": [
    {
     "data": {
      "text/html": [
       "<div>\n",
       "<style scoped>\n",
       "    .dataframe tbody tr th:only-of-type {\n",
       "        vertical-align: middle;\n",
       "    }\n",
       "\n",
       "    .dataframe tbody tr th {\n",
       "        vertical-align: top;\n",
       "    }\n",
       "\n",
       "    .dataframe thead th {\n",
       "        text-align: right;\n",
       "    }\n",
       "</style>\n",
       "<table border=\"1\" class=\"dataframe\">\n",
       "  <thead>\n",
       "    <tr style=\"text-align: right;\">\n",
       "      <th></th>\n",
       "      <th>inst</th>\n",
       "      <th>time</th>\n",
       "      <th>status</th>\n",
       "      <th>age</th>\n",
       "      <th>sex</th>\n",
       "      <th>ph.ecog</th>\n",
       "      <th>ph.karno</th>\n",
       "      <th>pat.karno</th>\n",
       "      <th>meal.cal</th>\n",
       "      <th>wt.loss</th>\n",
       "    </tr>\n",
       "  </thead>\n",
       "  <tbody>\n",
       "    <tr>\n",
       "      <th>0</th>\n",
       "      <td>3.0</td>\n",
       "      <td>306</td>\n",
       "      <td>2</td>\n",
       "      <td>74</td>\n",
       "      <td>1</td>\n",
       "      <td>1.0</td>\n",
       "      <td>90.0</td>\n",
       "      <td>100.0</td>\n",
       "      <td>1175.0</td>\n",
       "      <td>NaN</td>\n",
       "    </tr>\n",
       "    <tr>\n",
       "      <th>1</th>\n",
       "      <td>3.0</td>\n",
       "      <td>455</td>\n",
       "      <td>2</td>\n",
       "      <td>68</td>\n",
       "      <td>1</td>\n",
       "      <td>0.0</td>\n",
       "      <td>90.0</td>\n",
       "      <td>90.0</td>\n",
       "      <td>1225.0</td>\n",
       "      <td>15.0</td>\n",
       "    </tr>\n",
       "    <tr>\n",
       "      <th>2</th>\n",
       "      <td>3.0</td>\n",
       "      <td>1010</td>\n",
       "      <td>1</td>\n",
       "      <td>56</td>\n",
       "      <td>1</td>\n",
       "      <td>0.0</td>\n",
       "      <td>90.0</td>\n",
       "      <td>90.0</td>\n",
       "      <td>NaN</td>\n",
       "      <td>15.0</td>\n",
       "    </tr>\n",
       "    <tr>\n",
       "      <th>3</th>\n",
       "      <td>5.0</td>\n",
       "      <td>210</td>\n",
       "      <td>2</td>\n",
       "      <td>57</td>\n",
       "      <td>1</td>\n",
       "      <td>1.0</td>\n",
       "      <td>90.0</td>\n",
       "      <td>60.0</td>\n",
       "      <td>1150.0</td>\n",
       "      <td>11.0</td>\n",
       "    </tr>\n",
       "    <tr>\n",
       "      <th>4</th>\n",
       "      <td>1.0</td>\n",
       "      <td>883</td>\n",
       "      <td>2</td>\n",
       "      <td>60</td>\n",
       "      <td>1</td>\n",
       "      <td>0.0</td>\n",
       "      <td>100.0</td>\n",
       "      <td>90.0</td>\n",
       "      <td>NaN</td>\n",
       "      <td>0.0</td>\n",
       "    </tr>\n",
       "  </tbody>\n",
       "</table>\n",
       "</div>"
      ],
      "text/plain": [
       "   inst  time  status  age  sex  ph.ecog  ph.karno  pat.karno  meal.cal  \\\n",
       "0   3.0   306       2   74    1      1.0      90.0      100.0    1175.0   \n",
       "1   3.0   455       2   68    1      0.0      90.0       90.0    1225.0   \n",
       "2   3.0  1010       1   56    1      0.0      90.0       90.0       NaN   \n",
       "3   5.0   210       2   57    1      1.0      90.0       60.0    1150.0   \n",
       "4   1.0   883       2   60    1      0.0     100.0       90.0       NaN   \n",
       "\n",
       "   wt.loss  \n",
       "0      NaN  \n",
       "1     15.0  \n",
       "2     15.0  \n",
       "3     11.0  \n",
       "4      0.0  "
      ]
     },
     "execution_count": 2,
     "metadata": {},
     "output_type": "execute_result"
    }
   ],
   "source": [
    "# importing libraries\n",
    "import pandas as pd\n",
    "import matplotlib.pyplot as plt\n",
    "import lifelines\n",
    "data = pd.read_csv('input/lung.csv')\n",
    "data.head()"
   ]
  },
  {
   "cell_type": "code",
   "execution_count": 3,
   "metadata": {
    "id": "cCiN8_UWnykc"
   },
   "outputs": [
    {
     "data": {
      "text/html": [
       "<div>\n",
       "<style scoped>\n",
       "    .dataframe tbody tr th:only-of-type {\n",
       "        vertical-align: middle;\n",
       "    }\n",
       "\n",
       "    .dataframe tbody tr th {\n",
       "        vertical-align: top;\n",
       "    }\n",
       "\n",
       "    .dataframe thead th {\n",
       "        text-align: right;\n",
       "    }\n",
       "</style>\n",
       "<table border=\"1\" class=\"dataframe\">\n",
       "  <thead>\n",
       "    <tr style=\"text-align: right;\">\n",
       "      <th></th>\n",
       "      <th>inst</th>\n",
       "      <th>time</th>\n",
       "      <th>status</th>\n",
       "      <th>age</th>\n",
       "      <th>sex</th>\n",
       "      <th>ph.ecog</th>\n",
       "      <th>ph.karno</th>\n",
       "      <th>pat.karno</th>\n",
       "      <th>meal.cal</th>\n",
       "      <th>wt.loss</th>\n",
       "    </tr>\n",
       "  </thead>\n",
       "  <tbody>\n",
       "    <tr>\n",
       "      <th>0</th>\n",
       "      <td>3.0</td>\n",
       "      <td>306</td>\n",
       "      <td>1</td>\n",
       "      <td>74</td>\n",
       "      <td>1</td>\n",
       "      <td>1.0</td>\n",
       "      <td>90.0</td>\n",
       "      <td>100.0</td>\n",
       "      <td>1175.0</td>\n",
       "      <td>NaN</td>\n",
       "    </tr>\n",
       "    <tr>\n",
       "      <th>1</th>\n",
       "      <td>3.0</td>\n",
       "      <td>455</td>\n",
       "      <td>1</td>\n",
       "      <td>68</td>\n",
       "      <td>1</td>\n",
       "      <td>0.0</td>\n",
       "      <td>90.0</td>\n",
       "      <td>90.0</td>\n",
       "      <td>1225.0</td>\n",
       "      <td>15.0</td>\n",
       "    </tr>\n",
       "    <tr>\n",
       "      <th>2</th>\n",
       "      <td>3.0</td>\n",
       "      <td>1010</td>\n",
       "      <td>0</td>\n",
       "      <td>56</td>\n",
       "      <td>1</td>\n",
       "      <td>0.0</td>\n",
       "      <td>90.0</td>\n",
       "      <td>90.0</td>\n",
       "      <td>NaN</td>\n",
       "      <td>15.0</td>\n",
       "    </tr>\n",
       "    <tr>\n",
       "      <th>3</th>\n",
       "      <td>5.0</td>\n",
       "      <td>210</td>\n",
       "      <td>1</td>\n",
       "      <td>57</td>\n",
       "      <td>1</td>\n",
       "      <td>1.0</td>\n",
       "      <td>90.0</td>\n",
       "      <td>60.0</td>\n",
       "      <td>1150.0</td>\n",
       "      <td>11.0</td>\n",
       "    </tr>\n",
       "    <tr>\n",
       "      <th>4</th>\n",
       "      <td>1.0</td>\n",
       "      <td>883</td>\n",
       "      <td>1</td>\n",
       "      <td>60</td>\n",
       "      <td>1</td>\n",
       "      <td>0.0</td>\n",
       "      <td>100.0</td>\n",
       "      <td>90.0</td>\n",
       "      <td>NaN</td>\n",
       "      <td>0.0</td>\n",
       "    </tr>\n",
       "  </tbody>\n",
       "</table>\n",
       "</div>"
      ],
      "text/plain": [
       "   inst  time  status  age  sex  ph.ecog  ph.karno  pat.karno  meal.cal  \\\n",
       "0   3.0   306       1   74    1      1.0      90.0      100.0    1175.0   \n",
       "1   3.0   455       1   68    1      0.0      90.0       90.0    1225.0   \n",
       "2   3.0  1010       0   56    1      0.0      90.0       90.0       NaN   \n",
       "3   5.0   210       1   57    1      1.0      90.0       60.0    1150.0   \n",
       "4   1.0   883       1   60    1      0.0     100.0       90.0       NaN   \n",
       "\n",
       "   wt.loss  \n",
       "0      NaN  \n",
       "1     15.0  \n",
       "2     15.0  \n",
       "3     11.0  \n",
       "4      0.0  "
      ]
     },
     "execution_count": 3,
     "metadata": {},
     "output_type": "execute_result"
    }
   ],
   "source": [
    "#transforming dependent variable\n",
    "data.loc[data.status == 1, \"status\"] = 0\n",
    "data.loc[data.status == 2, \"status\"] = 1\n",
    "data.head()"
   ]
  },
  {
   "cell_type": "markdown",
   "metadata": {
    "id": "_k-RsESvDEV1"
   },
   "source": [
    "# Kaplan Meyer Estimator"
   ]
  },
  {
   "cell_type": "code",
   "execution_count": 4,
   "metadata": {
    "colab": {
     "base_uri": "https://localhost:8080/"
    },
    "id": "U5e91c5J_6MQ",
    "outputId": "34a5d177-0250-47c6-cdb3-b09d275b8f8b"
   },
   "outputs": [
    {
     "data": {
      "text/plain": [
       "<lifelines.KaplanMeierFitter:\"KM_estimate\", fitted with 228 total observations, 63 right-censored observations>"
      ]
     },
     "execution_count": 4,
     "metadata": {},
     "output_type": "execute_result"
    }
   ],
   "source": [
    "# importing KaplanMeierFitter using the lifelines library\n",
    "from lifelines import KaplanMeierFitter\n",
    "model = KaplanMeierFitter()\n",
    "model.fit(durations = data.time, event_observed = data.status)"
   ]
  },
  {
   "cell_type": "code",
   "execution_count": 5,
   "metadata": {
    "colab": {
     "base_uri": "https://localhost:8080/",
     "height": 450
    },
    "id": "cu3-rsjmDV5V",
    "outputId": "0f6478e3-4fdb-4418-fcfa-40922c8b5ecf"
   },
   "outputs": [
    {
     "data": {
      "text/html": [
       "<div>\n",
       "<style scoped>\n",
       "    .dataframe tbody tr th:only-of-type {\n",
       "        vertical-align: middle;\n",
       "    }\n",
       "\n",
       "    .dataframe tbody tr th {\n",
       "        vertical-align: top;\n",
       "    }\n",
       "\n",
       "    .dataframe thead th {\n",
       "        text-align: right;\n",
       "    }\n",
       "</style>\n",
       "<table border=\"1\" class=\"dataframe\">\n",
       "  <thead>\n",
       "    <tr style=\"text-align: right;\">\n",
       "      <th></th>\n",
       "      <th>removed</th>\n",
       "      <th>observed</th>\n",
       "      <th>censored</th>\n",
       "      <th>entrance</th>\n",
       "      <th>at_risk</th>\n",
       "    </tr>\n",
       "    <tr>\n",
       "      <th>event_at</th>\n",
       "      <th></th>\n",
       "      <th></th>\n",
       "      <th></th>\n",
       "      <th></th>\n",
       "      <th></th>\n",
       "    </tr>\n",
       "  </thead>\n",
       "  <tbody>\n",
       "    <tr>\n",
       "      <th>0.0</th>\n",
       "      <td>0</td>\n",
       "      <td>0</td>\n",
       "      <td>0</td>\n",
       "      <td>228</td>\n",
       "      <td>228</td>\n",
       "    </tr>\n",
       "    <tr>\n",
       "      <th>5.0</th>\n",
       "      <td>1</td>\n",
       "      <td>1</td>\n",
       "      <td>0</td>\n",
       "      <td>0</td>\n",
       "      <td>228</td>\n",
       "    </tr>\n",
       "    <tr>\n",
       "      <th>11.0</th>\n",
       "      <td>3</td>\n",
       "      <td>3</td>\n",
       "      <td>0</td>\n",
       "      <td>0</td>\n",
       "      <td>227</td>\n",
       "    </tr>\n",
       "    <tr>\n",
       "      <th>12.0</th>\n",
       "      <td>1</td>\n",
       "      <td>1</td>\n",
       "      <td>0</td>\n",
       "      <td>0</td>\n",
       "      <td>224</td>\n",
       "    </tr>\n",
       "    <tr>\n",
       "      <th>13.0</th>\n",
       "      <td>2</td>\n",
       "      <td>2</td>\n",
       "      <td>0</td>\n",
       "      <td>0</td>\n",
       "      <td>223</td>\n",
       "    </tr>\n",
       "    <tr>\n",
       "      <th>...</th>\n",
       "      <td>...</td>\n",
       "      <td>...</td>\n",
       "      <td>...</td>\n",
       "      <td>...</td>\n",
       "      <td>...</td>\n",
       "    </tr>\n",
       "    <tr>\n",
       "      <th>840.0</th>\n",
       "      <td>1</td>\n",
       "      <td>0</td>\n",
       "      <td>1</td>\n",
       "      <td>0</td>\n",
       "      <td>5</td>\n",
       "    </tr>\n",
       "    <tr>\n",
       "      <th>883.0</th>\n",
       "      <td>1</td>\n",
       "      <td>1</td>\n",
       "      <td>0</td>\n",
       "      <td>0</td>\n",
       "      <td>4</td>\n",
       "    </tr>\n",
       "    <tr>\n",
       "      <th>965.0</th>\n",
       "      <td>1</td>\n",
       "      <td>0</td>\n",
       "      <td>1</td>\n",
       "      <td>0</td>\n",
       "      <td>3</td>\n",
       "    </tr>\n",
       "    <tr>\n",
       "      <th>1010.0</th>\n",
       "      <td>1</td>\n",
       "      <td>0</td>\n",
       "      <td>1</td>\n",
       "      <td>0</td>\n",
       "      <td>2</td>\n",
       "    </tr>\n",
       "    <tr>\n",
       "      <th>1022.0</th>\n",
       "      <td>1</td>\n",
       "      <td>0</td>\n",
       "      <td>1</td>\n",
       "      <td>0</td>\n",
       "      <td>1</td>\n",
       "    </tr>\n",
       "  </tbody>\n",
       "</table>\n",
       "<p>187 rows × 5 columns</p>\n",
       "</div>"
      ],
      "text/plain": [
       "          removed  observed  censored  entrance  at_risk\n",
       "event_at                                                \n",
       "0.0             0         0         0       228      228\n",
       "5.0             1         1         0         0      228\n",
       "11.0            3         3         0         0      227\n",
       "12.0            1         1         0         0      224\n",
       "13.0            2         2         0         0      223\n",
       "...           ...       ...       ...       ...      ...\n",
       "840.0           1         0         1         0        5\n",
       "883.0           1         1         0         0        4\n",
       "965.0           1         0         1         0        3\n",
       "1010.0          1         0         1         0        2\n",
       "1022.0          1         0         1         0        1\n",
       "\n",
       "[187 rows x 5 columns]"
      ]
     },
     "execution_count": 5,
     "metadata": {},
     "output_type": "execute_result"
    }
   ],
   "source": [
    "model.event_table"
   ]
  },
  {
   "cell_type": "code",
   "execution_count": 6,
   "metadata": {
    "id": "qJNpQBSJVehk"
   },
   "outputs": [],
   "source": [
    "# S05 Survival Curves"
   ]
  },
  {
   "cell_type": "code",
   "execution_count": 7,
   "metadata": {
    "colab": {
     "base_uri": "https://localhost:8080/",
     "height": 421
    },
    "id": "ZvyO_HAhDaYD",
    "outputId": "8c1002af-3f17-4e2b-996b-d08ad8e03787"
   },
   "outputs": [
    {
     "data": {
      "text/plain": [
       "Text(0, 0.5, 'Survival')"
      ]
     },
     "execution_count": 7,
     "metadata": {},
     "output_type": "execute_result"
    },
    {
     "data": {
      "image/png": "[encoded data removed]",
      "text/plain": [
       "<Figure size 800x600 with 1 Axes>"
      ]
     },
     "metadata": {},
     "output_type": "display_data"
    }
   ],
   "source": [
    "# survival curve\n",
    "model.plot(figsize = (8,6))\n",
    "plt.title(\"Kaplan-Meier\")\n",
    "plt.xlabel(\"Days\")\n",
    "plt.ylabel(\"Survival\")"
   ]
  },
  {
   "cell_type": "markdown",
   "metadata": {
    "id": "CAzb1l4zVra6"
   },
   "source": [
    " S07 Log Rank Test"
   ]
  },
  {
   "cell_type": "code",
   "execution_count": 8,
   "metadata": {
    "id": "JHsrqsUR6lgt"
   },
   "outputs": [],
   "source": [
    "# creating dataframe into male and female\n",
    "male = data[data['sex']==1]\n",
    "female = data[data['sex']==2]"
   ]
  },
  {
   "cell_type": "code",
   "execution_count": 9,
   "metadata": {
    "colab": {
     "base_uri": "https://localhost:8080/",
     "height": 204
    },
    "id": "krK5K33ARHuq",
    "outputId": "42705be5-2271-4568-fc44-8a301da59a45"
   },
   "outputs": [
    {
     "data": {
      "text/html": [
       "<div>\n",
       "<style scoped>\n",
       "    .dataframe tbody tr th:only-of-type {\n",
       "        vertical-align: middle;\n",
       "    }\n",
       "\n",
       "    .dataframe tbody tr th {\n",
       "        vertical-align: top;\n",
       "    }\n",
       "\n",
       "    .dataframe thead th {\n",
       "        text-align: right;\n",
       "    }\n",
       "</style>\n",
       "<table border=\"1\" class=\"dataframe\">\n",
       "  <thead>\n",
       "    <tr style=\"text-align: right;\">\n",
       "      <th></th>\n",
       "      <th>inst</th>\n",
       "      <th>time</th>\n",
       "      <th>status</th>\n",
       "      <th>age</th>\n",
       "      <th>sex</th>\n",
       "      <th>ph.ecog</th>\n",
       "      <th>ph.karno</th>\n",
       "      <th>pat.karno</th>\n",
       "      <th>meal.cal</th>\n",
       "      <th>wt.loss</th>\n",
       "    </tr>\n",
       "  </thead>\n",
       "  <tbody>\n",
       "    <tr>\n",
       "      <th>0</th>\n",
       "      <td>3.0</td>\n",
       "      <td>306</td>\n",
       "      <td>1</td>\n",
       "      <td>74</td>\n",
       "      <td>1</td>\n",
       "      <td>1.0</td>\n",
       "      <td>90.0</td>\n",
       "      <td>100.0</td>\n",
       "      <td>1175.0</td>\n",
       "      <td>NaN</td>\n",
       "    </tr>\n",
       "    <tr>\n",
       "      <th>1</th>\n",
       "      <td>3.0</td>\n",
       "      <td>455</td>\n",
       "      <td>1</td>\n",
       "      <td>68</td>\n",
       "      <td>1</td>\n",
       "      <td>0.0</td>\n",
       "      <td>90.0</td>\n",
       "      <td>90.0</td>\n",
       "      <td>1225.0</td>\n",
       "      <td>15.0</td>\n",
       "    </tr>\n",
       "    <tr>\n",
       "      <th>2</th>\n",
       "      <td>3.0</td>\n",
       "      <td>1010</td>\n",
       "      <td>0</td>\n",
       "      <td>56</td>\n",
       "      <td>1</td>\n",
       "      <td>0.0</td>\n",
       "      <td>90.0</td>\n",
       "      <td>90.0</td>\n",
       "      <td>NaN</td>\n",
       "      <td>15.0</td>\n",
       "    </tr>\n",
       "    <tr>\n",
       "      <th>3</th>\n",
       "      <td>5.0</td>\n",
       "      <td>210</td>\n",
       "      <td>1</td>\n",
       "      <td>57</td>\n",
       "      <td>1</td>\n",
       "      <td>1.0</td>\n",
       "      <td>90.0</td>\n",
       "      <td>60.0</td>\n",
       "      <td>1150.0</td>\n",
       "      <td>11.0</td>\n",
       "    </tr>\n",
       "    <tr>\n",
       "      <th>4</th>\n",
       "      <td>1.0</td>\n",
       "      <td>883</td>\n",
       "      <td>1</td>\n",
       "      <td>60</td>\n",
       "      <td>1</td>\n",
       "      <td>0.0</td>\n",
       "      <td>100.0</td>\n",
       "      <td>90.0</td>\n",
       "      <td>NaN</td>\n",
       "      <td>0.0</td>\n",
       "    </tr>\n",
       "  </tbody>\n",
       "</table>\n",
       "</div>"
      ],
      "text/plain": [
       "   inst  time  status  age  sex  ph.ecog  ph.karno  pat.karno  meal.cal  \\\n",
       "0   3.0   306       1   74    1      1.0      90.0      100.0    1175.0   \n",
       "1   3.0   455       1   68    1      0.0      90.0       90.0    1225.0   \n",
       "2   3.0  1010       0   56    1      0.0      90.0       90.0       NaN   \n",
       "3   5.0   210       1   57    1      1.0      90.0       60.0    1150.0   \n",
       "4   1.0   883       1   60    1      0.0     100.0       90.0       NaN   \n",
       "\n",
       "   wt.loss  \n",
       "0      NaN  \n",
       "1     15.0  \n",
       "2     15.0  \n",
       "3     11.0  \n",
       "4      0.0  "
      ]
     },
     "execution_count": 9,
     "metadata": {},
     "output_type": "execute_result"
    }
   ],
   "source": [
    "male.head()"
   ]
  },
  {
   "cell_type": "code",
   "execution_count": 10,
   "metadata": {
    "colab": {
     "base_uri": "https://localhost:8080/",
     "height": 204
    },
    "id": "iIF8YqdjRI3n",
    "outputId": "0b64b2a8-dbc3-4d29-80e4-05bf968190b4"
   },
   "outputs": [
    {
     "data": {
      "text/html": [
       "<div>\n",
       "<style scoped>\n",
       "    .dataframe tbody tr th:only-of-type {\n",
       "        vertical-align: middle;\n",
       "    }\n",
       "\n",
       "    .dataframe tbody tr th {\n",
       "        vertical-align: top;\n",
       "    }\n",
       "\n",
       "    .dataframe thead th {\n",
       "        text-align: right;\n",
       "    }\n",
       "</style>\n",
       "<table border=\"1\" class=\"dataframe\">\n",
       "  <thead>\n",
       "    <tr style=\"text-align: right;\">\n",
       "      <th></th>\n",
       "      <th>inst</th>\n",
       "      <th>time</th>\n",
       "      <th>status</th>\n",
       "      <th>age</th>\n",
       "      <th>sex</th>\n",
       "      <th>ph.ecog</th>\n",
       "      <th>ph.karno</th>\n",
       "      <th>pat.karno</th>\n",
       "      <th>meal.cal</th>\n",
       "      <th>wt.loss</th>\n",
       "    </tr>\n",
       "  </thead>\n",
       "  <tbody>\n",
       "    <tr>\n",
       "      <th>6</th>\n",
       "      <td>7.0</td>\n",
       "      <td>310</td>\n",
       "      <td>1</td>\n",
       "      <td>68</td>\n",
       "      <td>2</td>\n",
       "      <td>2.0</td>\n",
       "      <td>70.0</td>\n",
       "      <td>60.0</td>\n",
       "      <td>384.0</td>\n",
       "      <td>10.0</td>\n",
       "    </tr>\n",
       "    <tr>\n",
       "      <th>7</th>\n",
       "      <td>11.0</td>\n",
       "      <td>361</td>\n",
       "      <td>1</td>\n",
       "      <td>71</td>\n",
       "      <td>2</td>\n",
       "      <td>2.0</td>\n",
       "      <td>60.0</td>\n",
       "      <td>80.0</td>\n",
       "      <td>538.0</td>\n",
       "      <td>1.0</td>\n",
       "    </tr>\n",
       "    <tr>\n",
       "      <th>11</th>\n",
       "      <td>16.0</td>\n",
       "      <td>654</td>\n",
       "      <td>1</td>\n",
       "      <td>68</td>\n",
       "      <td>2</td>\n",
       "      <td>2.0</td>\n",
       "      <td>70.0</td>\n",
       "      <td>70.0</td>\n",
       "      <td>NaN</td>\n",
       "      <td>23.0</td>\n",
       "    </tr>\n",
       "    <tr>\n",
       "      <th>12</th>\n",
       "      <td>11.0</td>\n",
       "      <td>728</td>\n",
       "      <td>1</td>\n",
       "      <td>68</td>\n",
       "      <td>2</td>\n",
       "      <td>1.0</td>\n",
       "      <td>90.0</td>\n",
       "      <td>90.0</td>\n",
       "      <td>NaN</td>\n",
       "      <td>5.0</td>\n",
       "    </tr>\n",
       "    <tr>\n",
       "      <th>18</th>\n",
       "      <td>1.0</td>\n",
       "      <td>61</td>\n",
       "      <td>1</td>\n",
       "      <td>56</td>\n",
       "      <td>2</td>\n",
       "      <td>2.0</td>\n",
       "      <td>60.0</td>\n",
       "      <td>60.0</td>\n",
       "      <td>238.0</td>\n",
       "      <td>10.0</td>\n",
       "    </tr>\n",
       "  </tbody>\n",
       "</table>\n",
       "</div>"
      ],
      "text/plain": [
       "    inst  time  status  age  sex  ph.ecog  ph.karno  pat.karno  meal.cal  \\\n",
       "6    7.0   310       1   68    2      2.0      70.0       60.0     384.0   \n",
       "7   11.0   361       1   71    2      2.0      60.0       80.0     538.0   \n",
       "11  16.0   654       1   68    2      2.0      70.0       70.0       NaN   \n",
       "12  11.0   728       1   68    2      1.0      90.0       90.0       NaN   \n",
       "18   1.0    61       1   56    2      2.0      60.0       60.0     238.0   \n",
       "\n",
       "    wt.loss  \n",
       "6      10.0  \n",
       "7       1.0  \n",
       "11     23.0  \n",
       "12      5.0  \n",
       "18     10.0  "
      ]
     },
     "execution_count": 10,
     "metadata": {},
     "output_type": "execute_result"
    }
   ],
   "source": [
    "female.head()"
   ]
  },
  {
   "cell_type": "code",
   "execution_count": 11,
   "metadata": {
    "colab": {
     "base_uri": "https://localhost:8080/"
    },
    "id": "-gWkLSvmRLqS",
    "outputId": "f427d71a-21f3-46a8-c573-5e254dd6260d"
   },
   "outputs": [
    {
     "data": {
      "text/plain": [
       "<lifelines.KaplanMeierFitter:\"KM_estimate\", fitted with 138 total observations, 26 right-censored observations>"
      ]
     },
     "execution_count": 11,
     "metadata": {},
     "output_type": "execute_result"
    }
   ],
   "source": [
    "# Kaplan meier estimator for male dataset\n",
    "model_male = KaplanMeierFitter()\n",
    "model_male.fit(durations = male.time, event_observed = male.status)"
   ]
  },
  {
   "cell_type": "code",
   "execution_count": 12,
   "metadata": {
    "colab": {
     "base_uri": "https://localhost:8080/"
    },
    "id": "gsJUzVmhiO2x",
    "outputId": "8bfa4dc4-9b97-423f-cc0c-8ce0f132330b"
   },
   "outputs": [
    {
     "data": {
      "text/plain": [
       "<lifelines.KaplanMeierFitter:\"KM_estimate\", fitted with 90 total observations, 37 right-censored observations>"
      ]
     },
     "execution_count": 12,
     "metadata": {},
     "output_type": "execute_result"
    }
   ],
   "source": [
    "# Kaplan meier estimator for female dataset\n",
    "model_female = KaplanMeierFitter()\n",
    "model_female.fit(durations = female.time, event_observed = female.status)"
   ]
  },
  {
   "cell_type": "code",
   "execution_count": 13,
   "metadata": {
    "colab": {
     "base_uri": "https://localhost:8080/",
     "height": 421
    },
    "id": "kqcBtqhgieYX",
    "outputId": "278e386b-e585-45f4-ae3c-7a4129df643b"
   },
   "outputs": [
    {
     "data": {
      "text/plain": [
       "Text(0, 0.5, 'Survival')"
      ]
     },
     "execution_count": 13,
     "metadata": {},
     "output_type": "execute_result"
    },
    {
     "data": {
      "image/png": "[encoded data removed]",
      "text/plain": [
       "<Figure size 800x600 with 1 Axes>"
      ]
     },
     "metadata": {},
     "output_type": "display_data"
    }
   ],
   "source": [
    "# survival curve for male\n",
    "model_male.plot(figsize = (8,6))\n",
    "plt.title(\"Kaplan-Meier for male\")\n",
    "plt.xlabel(\"Days\")\n",
    "plt.ylabel(\"Survival\")"
   ]
  },
  {
   "cell_type": "code",
   "execution_count": 14,
   "metadata": {
    "colab": {
     "base_uri": "https://localhost:8080/",
     "height": 421
    },
    "id": "K8v-mrZPiumL",
    "outputId": "0ac23e75-71b7-44fe-f649-432e668b6038"
   },
   "outputs": [
    {
     "data": {
      "text/plain": [
       "Text(0, 0.5, 'Survival')"
      ]
     },
     "execution_count": 14,
     "metadata": {},
     "output_type": "execute_result"
    },
    {
     "data": {
      "image/png": "[encoded data removed]",
      "text/plain": [
       "<Figure size 800x600 with 1 Axes>"
      ]
     },
     "metadata": {},
     "output_type": "display_data"
    }
   ],
   "source": [
    "# survival curve for female\n",
    "model_female.plot(figsize = (8,6))\n",
    "plt.title(\"Kaplan-Meier for female\")\n",
    "plt.xlabel(\"Days\")\n",
    "plt.ylabel(\"Survival\")"
   ]
  },
  {
   "cell_type": "code",
   "execution_count": 15,
   "metadata": {
    "colab": {
     "base_uri": "https://localhost:8080/",
     "height": 421
    },
    "id": "CcfEh2rli1Ld",
    "outputId": "1f080f4c-698a-4661-d2c8-f1ad56741dc5"
   },
   "outputs": [
    {
     "data": {
      "text/plain": [
       "Text(0, 0.5, 'Survival')"
      ]
     },
     "execution_count": 15,
     "metadata": {},
     "output_type": "execute_result"
    },
    {
     "data": {
      "image/png": "[encoded data removed]",
      "text/plain": [
       "<Figure size 800x600 with 1 Axes>"
      ]
     },
     "metadata": {},
     "output_type": "display_data"
    }
   ],
   "source": [
    "model_male.plot(figsize = (8,6),label = 'male')\n",
    "model_female.plot(label = 'female')\n",
    "plt.title(\"Kaplan-Meier\")\n",
    "plt.xlabel(\"Days\")\n",
    "plt.ylabel(\"Survival\")\n"
   ]
  },
  {
   "cell_type": "code",
   "execution_count": 16,
   "metadata": {
    "colab": {
     "base_uri": "https://localhost:8080/",
     "height": 204
    },
    "id": "O0h5PtUgjHPo",
    "outputId": "ecfb0a4d-dfc5-4fde-c9b6-d55280a146d2"
   },
   "outputs": [
    {
     "data": {
      "text/html": [
       "<div>\n",
       "<style scoped>\n",
       "    .dataframe tbody tr th:only-of-type {\n",
       "        vertical-align: middle;\n",
       "    }\n",
       "\n",
       "    .dataframe tbody tr th {\n",
       "        vertical-align: top;\n",
       "    }\n",
       "\n",
       "    .dataframe thead th {\n",
       "        text-align: right;\n",
       "    }\n",
       "</style>\n",
       "<table border=\"1\" class=\"dataframe\">\n",
       "  <tbody>\n",
       "    <tr>\n",
       "      <th>t_0</th>\n",
       "      <td>-1</td>\n",
       "    </tr>\n",
       "    <tr>\n",
       "      <th>null_distribution</th>\n",
       "      <td>chi squared</td>\n",
       "    </tr>\n",
       "    <tr>\n",
       "      <th>degrees_of_freedom</th>\n",
       "      <td>1</td>\n",
       "    </tr>\n",
       "    <tr>\n",
       "      <th>test_name</th>\n",
       "      <td>logrank_test</td>\n",
       "    </tr>\n",
       "  </tbody>\n",
       "</table>\n",
       "</div><table border=\"1\" class=\"dataframe\">\n",
       "  <thead>\n",
       "    <tr style=\"text-align: right;\">\n",
       "      <th></th>\n",
       "      <th>test_statistic</th>\n",
       "      <th>p</th>\n",
       "      <th>-log2(p)</th>\n",
       "    </tr>\n",
       "  </thead>\n",
       "  <tbody>\n",
       "    <tr>\n",
       "      <th>0</th>\n",
       "      <td>10.33</td>\n",
       "      <td>&lt;0.005</td>\n",
       "      <td>9.57</td>\n",
       "    </tr>\n",
       "  </tbody>\n",
       "</table>"
      ],
      "text/latex": [
       "\\begin{tabular}{lrrr}\n",
       " & test_statistic & p & -log2(p) \\\\\n",
       "0 & 10.33 & 0.00 & 9.57 \\\\\n",
       "\\end{tabular}\n"
      ],
      "text/plain": [
       "<lifelines.StatisticalResult: logrank_test>\n",
       "               t_0 = -1\n",
       " null_distribution = chi squared\n",
       "degrees_of_freedom = 1\n",
       "         test_name = logrank_test\n",
       "\n",
       "---\n",
       " test_statistic      p  -log2(p)\n",
       "          10.33 <0.005      9.57"
      ]
     },
     "execution_count": 16,
     "metadata": {},
     "output_type": "execute_result"
    }
   ],
   "source": [
    "# log rank test\n",
    "from lifelines.statistics import logrank_test\n",
    "logrank_test(durations_A=male.time,\n",
    "             durations_B=female.time,\n",
    "             event_observed_A=male.status,\n",
    "             event_observed_B=female.status)"
   ]
  }
 ],
 "metadata": {
  "colab": {
   "name": "Survival Analysis.ipynb",
   "provenance": []
  },
  "kernelspec": {
   "display_name": "Python 3 (ipykernel)",
   "language": "python",
   "name": "python3"
  },
  "language_info": {
   "codemirror_mode": {
    "name": "ipython",
    "version": 3
   },
   "file_extension": ".py",
   "mimetype": "text/x-python",
   "name": "python",
   "nbconvert_exporter": "python",
   "pygments_lexer": "ipython3",
   "version": "3.11.3"
  }
 },
 "nbformat": 4,
 "nbformat_minor": 4
}
