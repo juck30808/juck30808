{
 "cells": [
  {
   "cell_type": "code",
   "execution_count": 1,
   "id": "7ee3c4ef",
   "metadata": {},
   "outputs": [],
   "source": [
    "import requests\n",
    "import shutil\n",
    "\n",
    "img_url = 'https://www.google.com/images/branding/googlelogo/2x/googlelogo_color_272x92dp.png'\n",
    "img_name = 'bs4-google'\n",
    "r = requests.get(img_url, stream=True)\n",
    "file_name = img_name\n",
    "\n",
    "with open('input/' + file_name + '.jpg', 'wb+') as out_file:\n",
    "    shutil.copyfileobj(r.raw, out_file)"
   ]
  },
  {
   "cell_type": "code",
   "execution_count": 2,
   "id": "1316df86",
   "metadata": {},
   "outputs": [],
   "source": [
    "def download_img_from_article(img_url, img_name):\n",
    "    r = requests.get(img_url, stream=True)\n",
    "    file_name = str(img_name + 1)\n",
    "    print( 'save img to  ./image/'+ file_name + '.jpg')\n",
    "    try:\n",
    "        with open('./image/' + file_name + '.jpg', 'wb') as out_file:\n",
    "            shutil.copyfileobj(r.raw, out_file)\n",
    "    except:\n",
    "        print('can not save img', img_url)"
   ]
  },
  {
   "cell_type": "code",
   "execution_count": null,
   "id": "cc64ae5d",
   "metadata": {},
   "outputs": [],
   "source": []
  }
 ],
 "metadata": {
  "kernelspec": {
   "display_name": "Python 3 (ipykernel)",
   "language": "python",
   "name": "python3"
  },
  "language_info": {
   "codemirror_mode": {
    "name": "ipython",
    "version": 3
   },
   "file_extension": ".py",
   "mimetype": "text/x-python",
   "name": "python",
   "nbconvert_exporter": "python",
   "pygments_lexer": "ipython3",
   "version": "3.9.7"
  }
 },
 "nbformat": 4,
 "nbformat_minor": 5
}
