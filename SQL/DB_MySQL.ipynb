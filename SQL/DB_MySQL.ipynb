{
 "cells": [
  {
   "cell_type": "markdown",
   "id": "d4fd6dd4",
   "metadata": {},
   "source": [
    "# Installing MySQL Connector"
   ]
  },
  {
   "cell_type": "code",
   "execution_count": null,
   "id": "2ba740de",
   "metadata": {},
   "outputs": [],
   "source": [
    "# !python -m pip install mysql-connector-python"
   ]
  },
  {
   "cell_type": "code",
   "execution_count": null,
   "id": "085a0bdd",
   "metadata": {},
   "outputs": [],
   "source": [
    "# !pip install mysql-connector-python"
   ]
  },
  {
   "cell_type": "code",
   "execution_count": 1,
   "id": "03b219a5",
   "metadata": {},
   "outputs": [
    {
     "name": "stdout",
     "output_type": "stream",
     "text": [
      "hostname：········\n",
      "user：········\n",
      "password：········\n"
     ]
    }
   ],
   "source": [
    "import getpass\n",
    "inhost = getpass.getpass('hostname：')\n",
    "inuser = getpass.getpass('user：')\n",
    "inpwd = getpass.getpass('password：')"
   ]
  },
  {
   "cell_type": "code",
   "execution_count": 2,
   "id": "b37f27f0",
   "metadata": {},
   "outputs": [
    {
     "name": "stdout",
     "output_type": "stream",
     "text": [
      "<mysql.connector.connection.MySQLConnection object at 0x000001E6C52D9310>\n"
     ]
    }
   ],
   "source": [
    "import mysql.connector\n",
    "\n",
    "mydb = mysql.connector.connect(\n",
    "    host = inhost,\n",
    "    user = inuser,\n",
    "    password = inpwd\n",
    ")\n",
    "\n",
    "print(mydb)"
   ]
  },
  {
   "cell_type": "markdown",
   "id": "17186854",
   "metadata": {},
   "source": [
    "# Creating A Database"
   ]
  },
  {
   "cell_type": "code",
   "execution_count": null,
   "id": "5cf5bcff",
   "metadata": {},
   "outputs": [],
   "source": [
    "import mysql.connector\n",
    "\n",
    "try:\n",
    "    mydb = mysql.connector.connect(\n",
    "        host = inhost,\n",
    "        user = inuser,\n",
    "        password = inpwd\n",
    "    )\n",
    "    cursor = mydb.cursor()\n",
    "    cursor.execute(\"CREATE DATABASE Jerry\")\n",
    "    \n",
    "except:\n",
    "    print(\"Error, CREATE DATABASE\")\n",
    "mydb.close()"
   ]
  },
  {
   "cell_type": "code",
   "execution_count": null,
   "id": "99409ab5",
   "metadata": {},
   "outputs": [],
   "source": [
    "#Check DB exists\n",
    "import mysql.connector\n",
    "\n",
    "mydb = mysql.connector.connect(\n",
    "    host = inhost,\n",
    "    user = inuser,\n",
    "    password = inpwd\n",
    ")\n",
    "\n",
    "cursor = mydb.cursor()\n",
    "cursor.execute(\"SHOW DATABASES\")\n",
    "mydb.close()\n",
    "\n",
    "for n in cursor:\n",
    "    print(n)"
   ]
  },
  {
   "cell_type": "markdown",
   "id": "51d20e1f",
   "metadata": {},
   "source": [
    "# Creating Tables and Showing Data"
   ]
  },
  {
   "cell_type": "code",
   "execution_count": null,
   "id": "0eae5ec3",
   "metadata": {},
   "outputs": [],
   "source": [
    "import mysql.connector\n",
    "query= \"CREATE TABLE Jerry.orders (id INTEGER, sales_id INTEGER, sale_date TEXT, price REAL);\"\n",
    "query2 = \"CREATE TABLE Jerry.sales (id INTEGER, names TEXT,city TEXT);\"\n",
    "\n",
    "# Connect to DB  #Hightway\n",
    "mydb = mysql.connector.connect(\n",
    "    host=inhost,\n",
    "    user=inuser,\n",
    "    password=inpwd\n",
    ")\n",
    "\n",
    "# execute # The Product that Truck bring\n",
    "cursor = mydb.cursor()\n",
    "cursor.execute(query)\n",
    "mydb.commit() \n",
    "\n",
    "cursor.execute(query2)\n",
    "mydb.commit() \n",
    "print(\"Success Creating *orders and *sales Table\")\n",
    "    \n",
    "mydb.close()"
   ]
  },
  {
   "cell_type": "code",
   "execution_count": null,
   "id": "80192b5b",
   "metadata": {},
   "outputs": [],
   "source": [
    "# Check Table exists\n",
    "import mysql.connector\n",
    "\n",
    "mydb = mysql.connector.connect(\n",
    "    host=inhost,\n",
    "    user=inuser,\n",
    "    password=inpwd\n",
    "    database = \"Jerry\"\n",
    ")\n",
    "\n",
    "cursor = mydb.cursor()\n",
    "cursor.execute(\"SHOW TABLES\")\n",
    "mydb.close()\n",
    "\n",
    "for x in cursor:\n",
    "    print(x)"
   ]
  },
  {
   "cell_type": "markdown",
   "id": "b2c74e1a",
   "metadata": {},
   "source": [
    "# Add PRIMARY KEY when creating table"
   ]
  },
  {
   "cell_type": "code",
   "execution_count": 6,
   "id": "23a32272",
   "metadata": {},
   "outputs": [],
   "source": [
    "import mysql.connector\n",
    "\n",
    "mydb = mysql.connector.connect(\n",
    "    host=inhost,\n",
    "    user=inuser,\n",
    "    password=inpwd,\n",
    "    database = \"Jerry\"\n",
    ")\n",
    "\n",
    "cursor = mydb.cursor()\n",
    "cursor.execute(\"CREATE TABLE students (id INT AUTO_INCREMENT PRIMARY KEY, name VARCHAR(255), code VARCHAR(255))\")\n",
    "mydb.close()"
   ]
  },
  {
   "cell_type": "markdown",
   "id": "4df33595",
   "metadata": {},
   "source": [
    "# Add PRIMARY KEY if table already exists"
   ]
  },
  {
   "cell_type": "code",
   "execution_count": 8,
   "id": "d2b84505",
   "metadata": {},
   "outputs": [],
   "source": [
    "import mysql.connector\n",
    "\n",
    "mydb = mysql.connector.connect(\n",
    "    host=inhost,\n",
    "    user=inuser,\n",
    "    password=inpwd,\n",
    "    database = \"Jerry\"\n",
    ")\n",
    "\n",
    "cursor = mydb.cursor()\n",
    "#cursor.execute(\"ALTER TABLE students ADD COLUMN id INT AUTO_INCREMENT PRIMARY KEY\")\n",
    "mydb.close()"
   ]
  },
  {
   "cell_type": "markdown",
   "id": "4f633e4e",
   "metadata": {},
   "source": [
    "# Inserting data into tables"
   ]
  },
  {
   "cell_type": "code",
   "execution_count": 9,
   "id": "397a20e5",
   "metadata": {},
   "outputs": [
    {
     "name": "stdout",
     "output_type": "stream",
     "text": [
      "1 new record inserted\n"
     ]
    }
   ],
   "source": [
    "import mysql.connector\n",
    "\n",
    "mydb = mysql.connector.connect(\n",
    "    host=inhost,\n",
    "    user=inuser,\n",
    "    password=inpwd,\n",
    "    database = \"Jerry\"\n",
    ")\n",
    "\n",
    "cursor = mydb.cursor()\n",
    "new_sql = \"INSERT INTO students (name, code) VALUES (%s, %s)\"\n",
    "new_vals = (\"Ronaldo\", \"CODE12\")\n",
    "\n",
    "cursor.execute(new_sql, new_vals)\n",
    "mydb.commit()\n",
    "mydb.close()\n",
    "\n",
    "print(cursor.rowcount, \"new record inserted\")"
   ]
  },
  {
   "cell_type": "markdown",
   "id": "fc4b116b",
   "metadata": {},
   "source": [
    "# Inserting many records into tables"
   ]
  },
  {
   "cell_type": "code",
   "execution_count": 11,
   "id": "31e9b699",
   "metadata": {},
   "outputs": [
    {
     "name": "stdout",
     "output_type": "stream",
     "text": [
      "4 records inserted\n"
     ]
    }
   ],
   "source": [
    "import mysql.connector\n",
    "\n",
    "mydb = mysql.connector.connect(\n",
    "    host=inhost,\n",
    "    user=inuser,\n",
    "    password=inpwd,\n",
    "    database = \"Jerry\"\n",
    ")\n",
    "\n",
    "cursor = mydb.cursor()\n",
    "new_sql = \"INSERT INTO students (name, code) VALUES (%s, %s)\"\n",
    "new_vals = [(\"Jerry\", \"CODE30\"),\n",
    "            (\"Alan\", \"CODE06\"),\n",
    "            (\"SH\", \"CODE11\"),\n",
    "            (\"Peter\", \"CODE110\")]\n",
    "\n",
    "cursor.executemany(new_sql, new_vals)\n",
    "mydb.commit()\n",
    "mydb.close()\n",
    "\n",
    "print(cursor.rowcount, \"records inserted\")"
   ]
  },
  {
   "cell_type": "markdown",
   "id": "cd62a889",
   "metadata": {},
   "source": [
    "# Select Table's data"
   ]
  },
  {
   "cell_type": "code",
   "execution_count": 22,
   "id": "88cbb0c4",
   "metadata": {},
   "outputs": [
    {
     "name": "stdout",
     "output_type": "stream",
     "text": [
      "(1, 'Ronaldo', 'CODE12')\n",
      "(3, 'Pogba', 'CODE06')\n",
      "(4, 'SALAH', 'CODE11')\n",
      "(5, 'Someone', 'CODE110')\n",
      "(7, 'Pogba', 'CODE06')\n",
      "(8, 'SALAH', 'CODE11')\n",
      "(9, 'Someone', 'CODE110')\n"
     ]
    }
   ],
   "source": [
    "import mysql.connector\n",
    "\n",
    "mydb = mysql.connector.connect(\n",
    "    host=inhost,\n",
    "    user=inuser,\n",
    "    password=inpwd,\n",
    "    database = \"Jerry\"\n",
    ")\n",
    "\n",
    "cursor = mydb.cursor()\n",
    "cursor.execute(\"SELECT * FROM students\")\n",
    "new_data = cursor.fetchall()\n",
    "mydb.close()\n",
    "\n",
    "for x in new_data:\n",
    "    print(x)"
   ]
  },
  {
   "cell_type": "code",
   "execution_count": 25,
   "id": "7a0396ce",
   "metadata": {},
   "outputs": [
    {
     "name": "stdout",
     "output_type": "stream",
     "text": [
      "Success Database <class 'list'> 7\n"
     ]
    },
    {
     "data": {
      "text/html": [
       "<div>\n",
       "<style scoped>\n",
       "    .dataframe tbody tr th:only-of-type {\n",
       "        vertical-align: middle;\n",
       "    }\n",
       "\n",
       "    .dataframe tbody tr th {\n",
       "        vertical-align: top;\n",
       "    }\n",
       "\n",
       "    .dataframe thead th {\n",
       "        text-align: right;\n",
       "    }\n",
       "</style>\n",
       "<table border=\"1\" class=\"dataframe\">\n",
       "  <thead>\n",
       "    <tr style=\"text-align: right;\">\n",
       "      <th></th>\n",
       "      <th>0</th>\n",
       "      <th>1</th>\n",
       "      <th>2</th>\n",
       "    </tr>\n",
       "  </thead>\n",
       "  <tbody>\n",
       "    <tr>\n",
       "      <th>0</th>\n",
       "      <td>1</td>\n",
       "      <td>Ronaldo</td>\n",
       "      <td>CODE12</td>\n",
       "    </tr>\n",
       "    <tr>\n",
       "      <th>1</th>\n",
       "      <td>3</td>\n",
       "      <td>Pogba</td>\n",
       "      <td>CODE06</td>\n",
       "    </tr>\n",
       "    <tr>\n",
       "      <th>2</th>\n",
       "      <td>4</td>\n",
       "      <td>SALAH</td>\n",
       "      <td>CODE11</td>\n",
       "    </tr>\n",
       "    <tr>\n",
       "      <th>3</th>\n",
       "      <td>5</td>\n",
       "      <td>Someone</td>\n",
       "      <td>CODE110</td>\n",
       "    </tr>\n",
       "    <tr>\n",
       "      <th>4</th>\n",
       "      <td>7</td>\n",
       "      <td>Pogba</td>\n",
       "      <td>CODE06</td>\n",
       "    </tr>\n",
       "  </tbody>\n",
       "</table>\n",
       "</div>"
      ],
      "text/plain": [
       "   0        1        2\n",
       "0  1  Ronaldo   CODE12\n",
       "1  3    Pogba   CODE06\n",
       "2  4    SALAH   CODE11\n",
       "3  5  Someone  CODE110\n",
       "4  7    Pogba   CODE06"
      ]
     },
     "execution_count": 25,
     "metadata": {},
     "output_type": "execute_result"
    }
   ],
   "source": [
    "import mysql.connector\n",
    "\n",
    "mydb = mysql.connector.connect(\n",
    "    host=inhost,\n",
    "    user=inuser,\n",
    "    password=inpwd,\n",
    "    database = \"Jerry\"\n",
    ")\n",
    "\n",
    "cursor = mydb.cursor()\n",
    "cursor.execute(\"SELECT * FROM students\")\n",
    "result = cursor.fetchall()\n",
    "mydb.close()\n",
    "\n",
    "print(\"Success Database\",type(result),cursor.rowcount)\n",
    "\n",
    "\n",
    "import pandas as pd\n",
    "resultdf = pd.DataFrame(result)\n",
    "resultdf.head()"
   ]
  },
  {
   "cell_type": "markdown",
   "id": "f905ecd5",
   "metadata": {},
   "source": [
    "# Select data from columns"
   ]
  },
  {
   "cell_type": "code",
   "execution_count": 14,
   "id": "96f5f646",
   "metadata": {},
   "outputs": [
    {
     "name": "stdout",
     "output_type": "stream",
     "text": [
      "('Ronaldo',)\n",
      "('Messi',)\n",
      "('Pogba',)\n",
      "('SALAH',)\n",
      "('Someone',)\n",
      "('Messi',)\n",
      "('Pogba',)\n",
      "('SALAH',)\n",
      "('Someone',)\n"
     ]
    }
   ],
   "source": [
    "import mysql.connector\n",
    "\n",
    "mydb = mysql.connector.connect(\n",
    "    host=inhost,\n",
    "    user=inuser,\n",
    "    password=inpwd,\n",
    "    database = \"Jerry\"\n",
    ")\n",
    "\n",
    "cursor = mydb.cursor()\n",
    "cursor.execute(\"SELECT name FROM students\")\n",
    "new_data = cursor.fetchall()\n",
    "mydb.close()\n",
    "\n",
    "for x in new_data:\n",
    "    print(x)"
   ]
  },
  {
   "cell_type": "code",
   "execution_count": 13,
   "id": "1eabd264",
   "metadata": {},
   "outputs": [
    {
     "name": "stdout",
     "output_type": "stream",
     "text": [
      "(1, 'Ronaldo', 'CODE12')\n"
     ]
    }
   ],
   "source": [
    "import mysql.connector\n",
    "\n",
    "mydb = mysql.connector.connect(\n",
    "    host=inhost,\n",
    "    user=inuser,\n",
    "    password=inpwd,\n",
    "    database = \"Jerry\"\n",
    ")\n",
    "\n",
    "cursor = mydb.cursor()\n",
    "cursor.execute(\"SELECT * FROM students\")\n",
    "new_data = cursor.fetchone()\n",
    "mydb.close()\n",
    "\n",
    "print(new_data)"
   ]
  },
  {
   "cell_type": "markdown",
   "id": "abb8c340",
   "metadata": {},
   "source": [
    "# Filter the result"
   ]
  },
  {
   "cell_type": "code",
   "execution_count": 15,
   "id": "5e66aa0a",
   "metadata": {},
   "outputs": [
    {
     "name": "stdout",
     "output_type": "stream",
     "text": [
      "(3, 'Pogba', 'CODE06')\n",
      "(7, 'Pogba', 'CODE06')\n"
     ]
    }
   ],
   "source": [
    "import mysql.connector\n",
    "\n",
    "mydb = mysql.connector.connect(\n",
    "    host=inhost,\n",
    "    user=inuser,\n",
    "    password=inpwd,\n",
    "    database = \"Jerry\"\n",
    ")\n",
    "\n",
    "cursor = mydb.cursor()\n",
    "new_sql = \"SELECT * FROM students WHERE code = 'CODE06'\"\n",
    "cursor.execute(new_sql)\n",
    "new_data = cursor.fetchall()\n",
    "mydb.close()\n",
    "\n",
    "for x in new_data:\n",
    "    print(x)"
   ]
  },
  {
   "cell_type": "code",
   "execution_count": 16,
   "id": "ba126eb3",
   "metadata": {},
   "outputs": [
    {
     "name": "stdout",
     "output_type": "stream",
     "text": [
      "(3, 'Pogba', 'CODE06')\n",
      "(7, 'Pogba', 'CODE06')\n"
     ]
    }
   ],
   "source": [
    "import mysql.connector\n",
    "\n",
    "mydb = mysql.connector.connect(\n",
    "    host=inhost,\n",
    "    user=inuser,\n",
    "    password=inpwd,\n",
    "    database = \"Jerry\"\n",
    ")\n",
    "\n",
    "cursor = mydb.cursor()\n",
    "new_sql = \"SELECT * FROM students WHERE name LIKE '%Pogba%'\"\n",
    "cursor.execute(new_sql)\n",
    "new_data = cursor.fetchall()\n",
    "mydb.close()\n",
    "\n",
    "for x in new_data:\n",
    "    print(x)"
   ]
  },
  {
   "cell_type": "markdown",
   "id": "af88aa5f",
   "metadata": {},
   "source": [
    "# Sorting results"
   ]
  },
  {
   "cell_type": "code",
   "execution_count": 17,
   "id": "a8280168",
   "metadata": {},
   "outputs": [
    {
     "name": "stdout",
     "output_type": "stream",
     "text": [
      "(2, 'Messi', 'CODE30')\n",
      "(6, 'Messi', 'CODE30')\n",
      "(1, 'Ronaldo', 'CODE12')\n",
      "(5, 'Someone', 'CODE110')\n",
      "(9, 'Someone', 'CODE110')\n",
      "(4, 'SALAH', 'CODE11')\n",
      "(8, 'SALAH', 'CODE11')\n",
      "(3, 'Pogba', 'CODE06')\n",
      "(7, 'Pogba', 'CODE06')\n"
     ]
    }
   ],
   "source": [
    "import mysql.connector\n",
    "\n",
    "mydb = mysql.connector.connect(\n",
    "    host=inhost,\n",
    "    user=inuser,\n",
    "    password=inpwd,\n",
    "    database = \"Jerry\"\n",
    ")\n",
    "\n",
    "cursor = mydb.cursor()\n",
    "new_sql = \"SELECT * FROM students ORDER BY code DESC\"\n",
    "cursor.execute(new_sql)\n",
    "new_data = cursor.fetchall()\n",
    "mydb.close()\n",
    "\n",
    "for x in new_data:\n",
    "    print(x)"
   ]
  },
  {
   "cell_type": "markdown",
   "id": "93045de8",
   "metadata": {},
   "source": [
    "# Deleting records"
   ]
  },
  {
   "cell_type": "code",
   "execution_count": 18,
   "id": "0d23e773",
   "metadata": {},
   "outputs": [
    {
     "name": "stdout",
     "output_type": "stream",
     "text": [
      "2 records deleted from students from newdata\n"
     ]
    }
   ],
   "source": [
    "import mysql.connector\n",
    "\n",
    "mydb = mysql.connector.connect(\n",
    "    host=inhost,\n",
    "    user=inuser,\n",
    "    password=inpwd,\n",
    "    database = \"Jerry\"\n",
    ")\n",
    "\n",
    "cursor = mydb.cursor()\n",
    "new_sql = \"DELETE FROM students WHERE name = %s\"\n",
    "name = (\"Jerry\",)\n",
    "cursor.execute(new_sql, name)\n",
    "mydb.commit()\n",
    "mydb.close()\n",
    "\n",
    "print(cursor.rowcount, \"records deleted from students from newdata\")\n",
    "print(\"執行 Success 通常資料庫會設定為安全模式，可能刪除失敗,Code: 1175. You are using safe update mode and you tried to update a table without a WHERE that uses a KEY column To disable safe mode, toggle the option in Preferences -> SQL Editor and reconnect.\")"
   ]
  },
  {
   "cell_type": "markdown",
   "id": "c8c222e9",
   "metadata": {},
   "source": [
    "# Deleting table"
   ]
  },
  {
   "cell_type": "code",
   "execution_count": 19,
   "id": "c174b7b2",
   "metadata": {},
   "outputs": [],
   "source": [
    "import mysql.connector\n",
    "\n",
    "mydb = mysql.connector.connect(\n",
    "    host=inhost,\n",
    "    user=inuser,\n",
    "    password=inpwd,\n",
    "    database = \"Jerry\"\n",
    ")\n",
    "\n",
    "cursor = mydb.cursor()\n",
    "new_sql = \"DROP TABLE IF EXISTS clients\"\n",
    "cursor.execute(new_sql)\n",
    "mydb.close()"
   ]
  },
  {
   "cell_type": "markdown",
   "id": "e222a347",
   "metadata": {},
   "source": [
    "# Updating table"
   ]
  },
  {
   "cell_type": "code",
   "execution_count": 20,
   "id": "d3014445",
   "metadata": {},
   "outputs": [
    {
     "name": "stdout",
     "output_type": "stream",
     "text": [
      "0 records changed in students table!\n"
     ]
    }
   ],
   "source": [
    "import mysql.connector\n",
    "\n",
    "mydb = mysql.connector.connect(\n",
    "    host=inhost,\n",
    "    user=inuser,\n",
    "    password=inpwd,\n",
    "    database = \"Jerry\"\n",
    ")\n",
    "\n",
    "cursor = mydb.cursor()\n",
    "new_sql = \"UPDATE students SET code = %s WHERE code = %s\"\n",
    "new_vals = (\"CODE12\", \"CODE07\")\n",
    "cursor.execute(new_sql, new_vals)\n",
    "mydb.commit()\n",
    "mydb.close()\n",
    "\n",
    "print(cursor.rowcount, \"records changed in students table!\")"
   ]
  },
  {
   "cell_type": "code",
   "execution_count": null,
   "id": "b26f436f",
   "metadata": {},
   "outputs": [],
   "source": [
    "import mysql.connector\n",
    "query=\"UPDATE Jerry.orders SET price = 41.1, sales_id = 2 where id = 23;\"\n",
    "\n",
    "mydb = mysql.connector.connect(\n",
    "    host=inhost,\n",
    "    user=inuser,\n",
    "    password=inpwd\n",
    ")\n",
    "\n",
    "cursor = mydb.cursor() ## cursor\n",
    "cursor.execute(query)  ## 執行SQL命令 \n",
    "mydb.commit()          ## 上傳指令，必須執行這行指令 SQL 資料庫才會進行更新\n",
    "print(\"執行 Success 通常資料庫會設定為安全模式，可能更改失敗,Code: 1175. You are using safe update mode and you tried to update a table without a WHERE that uses a KEY column To disable safe mode, toggle the option in Preferences -> SQL Editor and reconnect.\")\n",
    "mydb.close()"
   ]
  },
  {
   "cell_type": "markdown",
   "id": "26287eb2",
   "metadata": {},
   "source": [
    "# Limit the records"
   ]
  },
  {
   "cell_type": "code",
   "execution_count": 21,
   "id": "f5fd786b",
   "metadata": {},
   "outputs": [
    {
     "name": "stdout",
     "output_type": "stream",
     "text": [
      "(8, 'SALAH', 'CODE11')\n",
      "(9, 'Someone', 'CODE110')\n"
     ]
    }
   ],
   "source": [
    "import mysql.connector\n",
    "\n",
    "mydb = mysql.connector.connect(\n",
    "    host=inhost,\n",
    "    user=inuser,\n",
    "    password=inpwd,\n",
    "    database = \"Jerry\"\n",
    ")\n",
    "\n",
    "cursor = mydb.cursor()\n",
    "new_sql = \"SELECT * FROM students LIMIT 4 OFFSET 5\"\n",
    "cursor.execute(new_sql)\n",
    "new_data = cursor.fetchall()\n",
    "mydb.close()\n",
    "\n",
    "for x in new_data:\n",
    "    print(x)"
   ]
  },
  {
   "cell_type": "code",
   "execution_count": null,
   "id": "75b41e1d",
   "metadata": {},
   "outputs": [],
   "source": []
  }
 ],
 "metadata": {
  "kernelspec": {
   "display_name": "Python 3 (ipykernel)",
   "language": "python",
   "name": "python3"
  },
  "language_info": {
   "codemirror_mode": {
    "name": "ipython",
    "version": 3
   },
   "file_extension": ".py",
   "mimetype": "text/x-python",
   "name": "python",
   "nbconvert_exporter": "python",
   "pygments_lexer": "ipython3",
   "version": "3.9.7"
  }
 },
 "nbformat": 4,
 "nbformat_minor": 5
}
