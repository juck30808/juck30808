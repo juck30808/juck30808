{
 "cells": [
  {
   "cell_type": "code",
   "execution_count": 3,
   "id": "cf14315b",
   "metadata": {},
   "outputs": [],
   "source": [
    "import sqlite3\n",
    "import pandas as pd\n",
    "\n",
    "# SQLite database connection\n",
    "new_connection = sqlite3.connect('input/SQL.db')\n",
    "\n",
    "# Loading data into DataFrame\n",
    "demo_data = pd.read_csv('input/SQL.csv')\n",
    "\n",
    "# Write the data to a sqlite table\n",
    "demo_data.to_sql('input/SQL', new_connection, if_exists = 'replace', index = False)\n",
    "\n",
    "# Close connection to SQLite database\n",
    "new_connection.close()"
   ]
  },
  {
   "cell_type": "code",
   "execution_count": null,
   "id": "cc4f9b34",
   "metadata": {},
   "outputs": [],
   "source": []
  }
 ],
 "metadata": {
  "kernelspec": {
   "display_name": "Python 3 (ipykernel)",
   "language": "python",
   "name": "python3"
  },
  "language_info": {
   "codemirror_mode": {
    "name": "ipython",
    "version": 3
   },
   "file_extension": ".py",
   "mimetype": "text/x-python",
   "name": "python",
   "nbconvert_exporter": "python",
   "pygments_lexer": "ipython3",
   "version": "3.9.7"
  }
 },
 "nbformat": 4,
 "nbformat_minor": 5
}
