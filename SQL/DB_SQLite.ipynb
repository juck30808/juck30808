{
 "cells": [
  {
   "cell_type": "code",
   "execution_count": 2,
   "id": "2e50ab61",
   "metadata": {},
   "outputs": [],
   "source": [
    "import sqlite3\n",
    "new_connection = sqlite3.connect(\"data_testing.db\")"
   ]
  },
  {
   "cell_type": "code",
   "execution_count": 3,
   "id": "6c3bbe0b",
   "metadata": {},
   "outputs": [
    {
     "data": {
      "text/plain": [
       "sqlite3.Connection"
      ]
     },
     "execution_count": 3,
     "metadata": {},
     "output_type": "execute_result"
    }
   ],
   "source": [
    "type(new_connection)"
   ]
  },
  {
   "cell_type": "code",
   "execution_count": 4,
   "id": "3c77dc22",
   "metadata": {},
   "outputs": [
    {
     "name": "stdout",
     "output_type": "stream",
     "text": [
      "<class 'sqlite3.Connection'>\n"
     ]
    }
   ],
   "source": [
    "print(type(new_connection))"
   ]
  },
  {
   "cell_type": "code",
   "execution_count": 5,
   "id": "d5bf12ed",
   "metadata": {},
   "outputs": [
    {
     "name": "stdout",
     "output_type": "stream",
     "text": [
      "<class 'sqlite3.Cursor'>\n"
     ]
    }
   ],
   "source": [
    "new_cursor = new_connection.cursor()\n",
    "print(type(new_cursor))"
   ]
  },
  {
   "cell_type": "code",
   "execution_count": 6,
   "id": "0406d8e5",
   "metadata": {},
   "outputs": [],
   "source": [
    "new_sql = \"SELECT datetime('now', 'localtime');\""
   ]
  },
  {
   "cell_type": "code",
   "execution_count": 7,
   "id": "dc41e932",
   "metadata": {},
   "outputs": [
    {
     "data": {
      "text/plain": [
       "<sqlite3.Cursor at 0x17bbc551c00>"
      ]
     },
     "execution_count": 7,
     "metadata": {},
     "output_type": "execute_result"
    }
   ],
   "source": [
    "new_cursor.execute(new_sql)"
   ]
  },
  {
   "cell_type": "code",
   "execution_count": 8,
   "id": "30827ff3",
   "metadata": {},
   "outputs": [
    {
     "data": {
      "text/plain": [
       "('2021-10-25 17:21:31',)"
      ]
     },
     "execution_count": 8,
     "metadata": {},
     "output_type": "execute_result"
    }
   ],
   "source": [
    "new_cursor.fetchone()"
   ]
  },
  {
   "cell_type": "code",
   "execution_count": 9,
   "id": "6194fddb",
   "metadata": {},
   "outputs": [],
   "source": [
    "new_dtime = new_cursor.execute(new_sql).fetchone()[0]"
   ]
  },
  {
   "cell_type": "code",
   "execution_count": 10,
   "id": "13386262",
   "metadata": {},
   "outputs": [
    {
     "name": "stdout",
     "output_type": "stream",
     "text": [
      "2021-10-25 17:22:31\n"
     ]
    }
   ],
   "source": [
    "print(new_dtime)"
   ]
  },
  {
   "cell_type": "code",
   "execution_count": 11,
   "id": "f9c892aa",
   "metadata": {},
   "outputs": [],
   "source": [
    "new_connection.close()"
   ]
  },
  {
   "cell_type": "code",
   "execution_count": 14,
   "id": "e62913eb",
   "metadata": {},
   "outputs": [],
   "source": [
    "with sqlite3.connect(\"data_testing.db\") as new_connection:\n",
    "    new_cursor = new_connection.cursor()\n",
    "    new_sql = \"SELECT datetime('now', 'localtime');\"\n",
    "    new_dtime = new_cursor.execute(new_sql).fetchone()[0]"
   ]
  },
  {
   "cell_type": "code",
   "execution_count": 15,
   "id": "4f3391e9",
   "metadata": {},
   "outputs": [
    {
     "name": "stdout",
     "output_type": "stream",
     "text": [
      "2021-10-25 17:26:08\n"
     ]
    }
   ],
   "source": [
    "print(new_dtime)"
   ]
  },
  {
   "cell_type": "markdown",
   "id": "62fc16d6",
   "metadata": {},
   "source": [
    "# Create table with values"
   ]
  },
  {
   "cell_type": "code",
   "execution_count": 19,
   "id": "0689c1a5",
   "metadata": {},
   "outputs": [],
   "source": [
    "import sqlite3\n",
    "\n",
    "new_connection = sqlite3.connect(\"data_testing.db\")\n",
    "new_cursor = new_connection.cursor()\n",
    "\n",
    "new_cursor.execute(\"CREATE TABLE clients(Name TEXT, Number INT);\")\n",
    "\n",
    "new_cursor.execute(\"INSERT INTO clients VALUES('Dany', 2030)\")\n",
    "\n",
    "new_connection.commit()\n",
    "new_connection.close()"
   ]
  },
  {
   "cell_type": "code",
   "execution_count": 20,
   "id": "7fd8cb81",
   "metadata": {},
   "outputs": [
    {
     "data": {
      "text/plain": [
       "<sqlite3.Cursor at 0x17bbc68e490>"
      ]
     },
     "execution_count": 20,
     "metadata": {},
     "output_type": "execute_result"
    }
   ],
   "source": [
    "new_connection = sqlite3.connect(\"data_testing.db\")\n",
    "new_cursor = new_connection.cursor()\n",
    "\n",
    "new_cursor.execute(\"SELECT * FROM clients;\")"
   ]
  },
  {
   "cell_type": "code",
   "execution_count": 21,
   "id": "9c6c1006",
   "metadata": {},
   "outputs": [
    {
     "data": {
      "text/plain": [
       "('Dany', 2030)"
      ]
     },
     "execution_count": 21,
     "metadata": {},
     "output_type": "execute_result"
    }
   ],
   "source": [
    "new_cursor.fetchone()"
   ]
  },
  {
   "cell_type": "code",
   "execution_count": 22,
   "id": "48df839c",
   "metadata": {},
   "outputs": [
    {
     "data": {
      "text/plain": [
       "<sqlite3.Cursor at 0x17bbc68e490>"
      ]
     },
     "execution_count": 22,
     "metadata": {},
     "output_type": "execute_result"
    }
   ],
   "source": [
    "new_cursor.execute(\"DROP TABLE clients;\")"
   ]
  },
  {
   "cell_type": "code",
   "execution_count": 23,
   "id": "ed0f7203",
   "metadata": {},
   "outputs": [],
   "source": [
    "new_connection.commit()\n",
    "new_connection.close()"
   ]
  },
  {
   "cell_type": "markdown",
   "id": "024a8014",
   "metadata": {},
   "source": [
    "# Full Program to fetch all data from data_testing"
   ]
  },
  {
   "cell_type": "code",
   "execution_count": 5,
   "id": "f3454e31",
   "metadata": {},
   "outputs": [
    {
     "name": "stdout",
     "output_type": "stream",
     "text": [
      "('Messi', 30)\n",
      "('Salah', 11)\n"
     ]
    }
   ],
   "source": [
    "import sqlite3\n",
    "\n",
    "new_values = (\n",
    "    (\"Ronaldo\", 7),\n",
    "    (\"Messi\", 30),\n",
    "    (\"Salah\", 11),\n",
    ")\n",
    "\n",
    "with sqlite3.connect(\"data_testing.db\") as new_connection:\n",
    "    new_cursor = new_connection.cursor()\n",
    "    new_cursor.execute(\"DROP TABLE IF EXISTS clients\")\n",
    "    new_cursor.execute(\"CREATE TABLE clients(Name TEXT, Number INT);\")\n",
    "    \n",
    "    new_cursor.executemany(\"INSERT INTO clients VALUES(?, ?)\", new_values)\n",
    "    \n",
    "    new_cursor.execute(\"SELECT Name, Number FROM clients WHERE Number > 7;\")\n",
    "    \n",
    "    for x in new_cursor.fetchall():\n",
    "        print(x)"
   ]
  },
  {
   "cell_type": "code",
   "execution_count": null,
   "id": "2c9a427e",
   "metadata": {},
   "outputs": [],
   "source": []
  },
  {
   "cell_type": "markdown",
   "id": "acb112b3",
   "metadata": {},
   "source": [
    "# SQLite"
   ]
  },
  {
   "cell_type": "code",
   "execution_count": 2,
   "id": "adf2549e",
   "metadata": {},
   "outputs": [],
   "source": [
    "import sqlite3\n",
    "\n",
    "query=\"select * from Jerry.orders where sales_id = 1 and price > 20 order by sale_date DESC;\"\n",
    "\n",
    "try:\n",
    "    # Connect to DB  #Hightway\n",
    "    conn = sqlite3.connect(\"database.db\")\n",
    "    \n",
    "    # Cursor # Send a Truck\n",
    "    cursor=conn.cursor()\n",
    "    \n",
    "    # execute # The Product that Truck bring\n",
    "    cursor.execute(query)\n",
    "    result = cursor.fetchall()\n",
    "    mydb.close()\n",
    "\n",
    "except sqlite3.Error as error:\n",
    "    print(\"Error in creating Database\")\n",
    "    conn.rollback()\n",
    "    \n",
    "finally:\n",
    "    if(conn):\n",
    "        conn.close()\n",
    "        print(\"Sqlite connection is closed\")\n",
    "\n",
    "cursor.close()"
   ]
  },
  {
   "cell_type": "code",
   "execution_count": null,
   "id": "be8d676c",
   "metadata": {},
   "outputs": [],
   "source": [
    "query=\"DELETE FROM STD WHERE name='BOB';\"\n",
    "\n",
    "cursor=conn.cursor()\n",
    "cursor.execute(query)\n",
    "conn.commit()\n",
    "conn.close()"
   ]
  },
  {
   "cell_type": "code",
   "execution_count": null,
   "id": "f293a9c2",
   "metadata": {},
   "outputs": [],
   "source": [
    "query=\"INSERT into STD(name,age,dept)values ('bob',20,'CS');\"\n",
    "\n",
    "cursor=conn.cursor()\n",
    "cursor.execute(query)\n",
    "conn.commit()\n",
    "conn.close()"
   ]
  },
  {
   "cell_type": "code",
   "execution_count": null,
   "id": "2a8a18f7",
   "metadata": {},
   "outputs": [],
   "source": [
    "query=\"SELECT * FROM STD LIMIT 2;\"\n",
    "\n",
    "cursor=conn.cursor()\n",
    "cursor.execute(query)\n",
    "fetch=cursor.fetchall()\n",
    "print(fetch,\"Record is \")\n",
    "conn.commit()\n",
    "conn.close()"
   ]
  },
  {
   "cell_type": "code",
   "execution_count": null,
   "id": "ff21373f",
   "metadata": {},
   "outputs": [],
   "source": [
    "query=\"UPDATE STD SET age=25 WHERE name='bob';\"\n",
    "\n",
    "cursor=conn.cursor()\n",
    "cursor.execute(query)\n",
    "conn.commit()\n",
    "conn.close()"
   ]
  }
 ],
 "metadata": {
  "kernelspec": {
   "display_name": "Python 3 (ipykernel)",
   "language": "python",
   "name": "python3"
  },
  "language_info": {
   "codemirror_mode": {
    "name": "ipython",
    "version": 3
   },
   "file_extension": ".py",
   "mimetype": "text/x-python",
   "name": "python",
   "nbconvert_exporter": "python",
   "pygments_lexer": "ipython3",
   "version": "3.9.7"
  }
 },
 "nbformat": 4,
 "nbformat_minor": 5
}
