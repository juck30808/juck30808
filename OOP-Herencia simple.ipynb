{
 "cells": [
  {
   "cell_type": "markdown",
   "metadata": {},
   "source": [
    "<font color=Green>\n",
    "    \n",
    "# **8.1 Herencia simple**\n",
    "\n",
    "</font>"
   ]
  },
  {
   "cell_type": "code",
   "execution_count": 1,
   "metadata": {},
   "outputs": [
    {
     "name": "stdout",
     "output_type": "stream",
     "text": [
      "<__main__.Producto object at 0x107b17f70>\n",
      "Harina de maíz (1Kg), Carne de res (2Kg), Detergente para ropa (500g)\n"
     ]
    }
   ],
   "source": [
    "class Producto:\n",
    "    def __init__(self, ref, nombre, pvp,  descripcion, \n",
    "                 marca=None, categoria=None, talla=None):\n",
    "        self.ref = ref\n",
    "        self.nombre = nombre\n",
    "        self.pvp = pvp\n",
    "        self.descripcion = descripcion\n",
    "        self.marca= marca\n",
    "        self.categoria= categoria\n",
    "        self.talla= talla\n",
    "        \n",
    "combo_1 = Producto('70010','Combo 1',150,'Harina de maíz (1Kg), Carne de res (2Kg), Detergente para ropa (500g)') \n",
    "\n",
    "print(combo_1)\n",
    "print(combo_1.descripcion)  "
   ]
  },
  {
   "cell_type": "markdown",
   "metadata": {},
   "source": [
    "<font color=#003d5c>\n",
    "\n",
    "## _Superclases y subclases_\n",
    "</font>   "
   ]
  },
  {
   "cell_type": "markdown",
   "metadata": {},
   "source": [
    "### Debemos identificar una superclase que contendrá todos los atributos comunes\n",
    "### A la superclase la llamaremos Producto"
   ]
  },
  {
   "cell_type": "code",
   "execution_count": 2,
   "metadata": {},
   "outputs": [],
   "source": [
    "class Producto:\n",
    "    def __init__(self, ref, nombre, pvp,  descripcion):\n",
    "        self.ref = ref\n",
    "        self.nombre = nombre\n",
    "        self.pvp = pvp\n",
    "        self.descripcion = descripcion\n",
    "                \n",
    "    def __str__(self):\n",
    "        return f\"Referencia:\\t {self.ref}\\n\" \\\n",
    "               f\"Nombre:\\t\\t {self.nombre}\\n\" \\\n",
    "               f\"PVP:\\t\\t {self.pvp}\\n\" \\\n",
    "               f\"Descripción:\\t {self.descripcion}\\n\"\n"
   ]
  },
  {
   "cell_type": "markdown",
   "metadata": {},
   "source": [
    "### A partir del tipo de producto, vamos a definir subclases: _Combo, Ropa, Alimentos_"
   ]
  },
  {
   "cell_type": "code",
   "execution_count": 3,
   "metadata": {},
   "outputs": [],
   "source": [
    "class Combo(Producto):\n",
    "    pass"
   ]
  },
  {
   "cell_type": "code",
   "execution_count": 4,
   "metadata": {},
   "outputs": [],
   "source": [
    "c_1 = Combo('70010','Combo 1',150,'Harina de maíz (1Kg), Carne de res (2Kg), Detergente para ropa (500g)')"
   ]
  },
  {
   "cell_type": "code",
   "execution_count": 5,
   "metadata": {
    "scrolled": true
   },
   "outputs": [
    {
     "name": "stdout",
     "output_type": "stream",
     "text": [
      "Referencia:\t 70010\n",
      "Nombre:\t\t Combo 1\n",
      "PVP:\t\t 150\n",
      "Descripción:\t Harina de maíz (1Kg), Carne de res (2Kg), Detergente para ropa (500g)\n",
      "\n"
     ]
    }
   ],
   "source": [
    "print(c_1)"
   ]
  },
  {
   "cell_type": "code",
   "execution_count": 6,
   "metadata": {},
   "outputs": [],
   "source": [
    "class Alimento(Producto):\n",
    "    marca = \"\"\n",
    "    categoria = \"\"\n",
    "\n",
    "    def __str__(self):\n",
    "            return f\"Referencia:\\t {self.ref}\\n\" \\\n",
    "                   f\"Nombre:\\t\\t {self.nombre}\\n\" \\\n",
    "                   f\"PVP:\\t\\t {self.pvp}\\n\" \\\n",
    "                   f\"Descripción:\\t {self.descripcion}\\n\" \\\n",
    "                   f\"Marca:\\t\\t {self.marca} \\n\" \\\n",
    "                   f\"Categoria:\\t {self.categoria}\\n\""
   ]
  },
  {
   "cell_type": "code",
   "execution_count": 7,
   "metadata": {},
   "outputs": [],
   "source": [
    "harina = Alimento(10001, \"Harina de Maíz\", 0.9, \"Harina precocida (1kg)\")\n"
   ]
  },
  {
   "cell_type": "code",
   "execution_count": 8,
   "metadata": {},
   "outputs": [
    {
     "name": "stdout",
     "output_type": "stream",
     "text": [
      "Referencia:\t 10001\n",
      "Nombre:\t\t Harina de Maíz\n",
      "PVP:\t\t 0.9\n",
      "Descripción:\t Harina precocida (1kg)\n",
      "Marca:\t\t  \n",
      "Categoria:\t \n",
      "\n"
     ]
    }
   ],
   "source": [
    "print(harina)"
   ]
  },
  {
   "cell_type": "code",
   "execution_count": 9,
   "metadata": {},
   "outputs": [],
   "source": [
    "harina.marca = \"Nestlé\"\n",
    "harina.categoria = \"Cereales\""
   ]
  },
  {
   "cell_type": "code",
   "execution_count": 10,
   "metadata": {},
   "outputs": [
    {
     "name": "stdout",
     "output_type": "stream",
     "text": [
      "Referencia:\t 10001\n",
      "Nombre:\t\t Harina de Maíz\n",
      "PVP:\t\t 0.9\n",
      "Descripción:\t Harina precocida (1kg)\n",
      "Marca:\t\t Nestlé \n",
      "Categoria:\t Cereales\n",
      "\n"
     ]
    }
   ],
   "source": [
    "print(harina)"
   ]
  },
  {
   "cell_type": "code",
   "execution_count": 11,
   "metadata": {},
   "outputs": [],
   "source": [
    "class Ropa(Producto):\n",
    "    marca = \"\"\n",
    "    categoria = \"\"\n",
    "    talla = \"\"\n",
    "    \n",
    "    def __str__(self):\n",
    "            return f\"Referencia:\\t {self.ref}\\n\" \\\n",
    "                   f\"Nombre:\\t\\t {self.nombre}\\n\" \\\n",
    "                   f\"PVP:\\t\\t {self.pvp}\\n\" \\\n",
    "                   f\"Descripción:\\t {self.descripcion}\\n\" \\\n",
    "                   f\"Marca:\\t\\t {self.marca}\\n\" \\\n",
    "                   f\"Categoria:\\t {self.categoria}\\n\" \\\n",
    "                   f\"Talla:\\t\\t {self.talla}\\n\"\n"
   ]
  },
  {
   "cell_type": "code",
   "execution_count": 12,
   "metadata": {},
   "outputs": [
    {
     "name": "stdout",
     "output_type": "stream",
     "text": [
      "Referencia:\t 20001\n",
      "Nombre:\t\t Pantalón\n",
      "PVP:\t\t 4.7\n",
      "Descripción:\t Stretch Color rojo\n",
      "Marca:\t\t Levi's\n",
      "Categoria:\t Dama\n",
      "Talla:\t\t 30\n",
      "\n"
     ]
    }
   ],
   "source": [
    "pantalon= Ropa(\"20001\", \"Pantalón\", 4.7,\"Stretch Color rojo\")\n",
    "pantalon.marca=\"Levi's\"\n",
    "pantalon.categoria=\"Dama\"\n",
    "pantalon.talla=30\n",
    "print(pantalon)"
   ]
  },
  {
   "cell_type": "markdown",
   "metadata": {},
   "source": [
    "<font color=Green>\n",
    "    \n",
    "# **8.2 Multiherencia**\n",
    "</font>\n",
    "\n",
    "### La multiherencia, o referencia múltiple, hace referencia a que en Python existe la posibliidad de que una subclase herede de varias superclases a la vez.  "
   ]
  },
  {
   "cell_type": "code",
   "execution_count": 13,
   "metadata": {},
   "outputs": [],
   "source": [
    "class A:\n",
    "    def __init__(self):\n",
    "        print(\"Soy de clase A\")\n",
    "        \n",
    "class B:\n",
    "    def __init__(self):\n",
    "        print(\"Soy de clase B\")\n"
   ]
  },
  {
   "cell_type": "code",
   "execution_count": 14,
   "metadata": {},
   "outputs": [],
   "source": [
    "class C(A,B):\n",
    "    pass"
   ]
  },
  {
   "cell_type": "code",
   "execution_count": 15,
   "metadata": {},
   "outputs": [
    {
     "name": "stdout",
     "output_type": "stream",
     "text": [
      "Soy de clase A\n",
      "Soy de clase B\n"
     ]
    }
   ],
   "source": [
    "objeto_1 = A()\n",
    "objeto_2 = B()"
   ]
  },
  {
   "cell_type": "code",
   "execution_count": 16,
   "metadata": {},
   "outputs": [
    {
     "name": "stdout",
     "output_type": "stream",
     "text": [
      "Soy de clase A\n"
     ]
    }
   ],
   "source": [
    "objeto_c = C()"
   ]
  },
  {
   "cell_type": "markdown",
   "metadata": {},
   "source": [
    "### Cuando las superclases tienen métodos/atributos iguales, Python da prioridad a las superclases que están más a la izquierda en la declaración de argumentos"
   ]
  },
  {
   "cell_type": "code",
   "execution_count": 17,
   "metadata": {},
   "outputs": [],
   "source": [
    "class D(B,A):\n",
    "    pass"
   ]
  },
  {
   "cell_type": "code",
   "execution_count": 18,
   "metadata": {},
   "outputs": [
    {
     "name": "stdout",
     "output_type": "stream",
     "text": [
      "Soy de clase B\n"
     ]
    }
   ],
   "source": [
    "objeto_d= D()"
   ]
  },
  {
   "cell_type": "code",
   "execution_count": 19,
   "metadata": {},
   "outputs": [],
   "source": [
    "class A:\n",
    "    def __init__(self):\n",
    "        print(\"Soy de clase A\")\n",
    "    def metodo_a(self):\n",
    "        print(\"Este método lo hereda de A\")\n",
    "        \n",
    "class B:\n",
    "    def __init__(self):\n",
    "        print(\"Soy de clase B\")\n",
    "    def metodo_b(self):\n",
    "        print(\"Este método lo hereda de B\")\n",
    "        \n",
    "class C(B,A):\n",
    "    def metodo_c(self):\n",
    "        print(\"Este método es de C\")"
   ]
  },
  {
   "cell_type": "code",
   "execution_count": 20,
   "metadata": {},
   "outputs": [
    {
     "name": "stdout",
     "output_type": "stream",
     "text": [
      "Soy de clase B\n"
     ]
    }
   ],
   "source": [
    "objeto_nuevo =C()"
   ]
  },
  {
   "cell_type": "code",
   "execution_count": 21,
   "metadata": {},
   "outputs": [
    {
     "name": "stdout",
     "output_type": "stream",
     "text": [
      "Este método lo hereda de A\n"
     ]
    }
   ],
   "source": [
    "objeto_nuevo.metodo_a()"
   ]
  },
  {
   "cell_type": "code",
   "execution_count": 22,
   "metadata": {},
   "outputs": [
    {
     "name": "stdout",
     "output_type": "stream",
     "text": [
      "Este método lo hereda de B\n"
     ]
    }
   ],
   "source": [
    "objeto_nuevo.metodo_b()"
   ]
  },
  {
   "cell_type": "code",
   "execution_count": 23,
   "metadata": {},
   "outputs": [
    {
     "name": "stdout",
     "output_type": "stream",
     "text": [
      "Este método es de C\n"
     ]
    }
   ],
   "source": [
    "objeto_nuevo.metodo_c()"
   ]
  },
  {
   "cell_type": "markdown",
   "metadata": {},
   "source": [
    "<font color=Green>\n",
    "    \n",
    "# **8.3 Polimorfismo**\n",
    "</font>\n",
    "\n",
    "### El polimorfismo es una propiedad de la herencia que permite que objetos de distintas clases puedan responder a la misma acción/llamada\n",
    "### En Python todas las clases son polimórficas por defecto ya que todas las clases son subclases de una superclase llamada Object"
   ]
  },
  {
   "cell_type": "code",
   "execution_count": 24,
   "metadata": {},
   "outputs": [],
   "source": [
    "class Producto:\n",
    "    def __init__(self, ref, nombre, pvp,  descripcion):\n",
    "        self.ref = ref\n",
    "        self.nombre = nombre\n",
    "        self.pvp = pvp\n",
    "        self.descripcion = descripcion\n",
    "                \n",
    "    def __str__(self):\n",
    "        return f\"Referencia:\\t {self.ref}\\n\" \\\n",
    "               f\"Nombre:\\t\\t {self.nombre}\\n\" \\\n",
    "               f\"PVP:\\t\\t {self.pvp}\\n\" \\\n",
    "               f\"Descripción:\\t {self.descripcion}\\n\"\n",
    "    \n",
    "class Combo(Producto):\n",
    "    pass\n",
    "\n",
    "class Ropa(Producto):\n",
    "    marca = \"\"\n",
    "    categoria = \"\"\n",
    "    talla = \"\"\n",
    "    \n",
    "    def __str__(self):\n",
    "            return f\"Referencia:\\t {self.ref}\\n\" \\\n",
    "                   f\"Nombre:\\t\\t {self.nombre}\\n\" \\\n",
    "                   f\"PVP:\\t\\t {self.pvp}\\n\" \\\n",
    "                   f\"Descripción:\\t {self.descripcion}\\n\" \\\n",
    "                   f\"Marca:\\t\\t {self.marca}\\n\" \\\n",
    "                   f\"Categoria:\\t {self.categoria}\\n\" \\\n",
    "                   f\"Talla:\\t\\t {self.talla}\\n\"\n",
    "\n",
    "\n",
    "class Alimento(Producto):\n",
    "    marca = \"\"\n",
    "    categoria = \"\"\n",
    "\n",
    "    def __str__(self):\n",
    "            return f\"Referencia:\\t {self.ref}\\n\" \\\n",
    "                   f\"Nombre:\\t\\t {self.nombre}\\n\" \\\n",
    "                   f\"PVP:\\t\\t {self.pvp}\\n\" \\\n",
    "                   f\"Descripción:\\t {self.descripcion}\\n\" \\\n",
    "                   f\"Marca:\\t\\t {self.marca} \\n\" \\\n",
    "                   f\"Categoria:\\t {self.categoria}\\n\""
   ]
  },
  {
   "cell_type": "code",
   "execution_count": 25,
   "metadata": {},
   "outputs": [],
   "source": [
    "combo_1 = Combo('70010','Combo 1',150,'Harina de maíz (1Kg), Carne de res (2Kg), Detergente para ropa (500g)')\n",
    "\n",
    "pant_1 =Ropa(\"20001\", \"Pantalón\",200,\"Stretch Color rojo\")\n",
    "pant_1.marca =\"Levi's\"\n",
    "pant_1.categoria = \"Dama\"\n",
    "pant_1.talla = 30\n",
    "\n",
    "harina = Alimento(10001, \"Harina de Maíz\", 30, \"Harina precocida (1kg)\")\n",
    "harina.marca = \"Nestlé\"\n",
    "harina.categoria = \"Cereales\"\n"
   ]
  },
  {
   "cell_type": "code",
   "execution_count": 26,
   "metadata": {},
   "outputs": [],
   "source": [
    "productos = [combo_1, harina]"
   ]
  },
  {
   "cell_type": "code",
   "execution_count": 27,
   "metadata": {},
   "outputs": [],
   "source": [
    "productos.append(pant_1)"
   ]
  },
  {
   "cell_type": "code",
   "execution_count": 28,
   "metadata": {},
   "outputs": [
    {
     "data": {
      "text/plain": [
       "[<__main__.Combo at 0x108515390>,\n",
       " <__main__.Alimento at 0x1085149d0>,\n",
       " <__main__.Ropa at 0x108516560>]"
      ]
     },
     "execution_count": 28,
     "metadata": {},
     "output_type": "execute_result"
    }
   ],
   "source": [
    "productos"
   ]
  },
  {
   "cell_type": "code",
   "execution_count": 29,
   "metadata": {},
   "outputs": [
    {
     "name": "stdout",
     "output_type": "stream",
     "text": [
      "70010 Combo 1\n",
      "10001 Harina de Maíz\n",
      "20001 Pantalón\n"
     ]
    }
   ],
   "source": [
    "for p in productos:\n",
    "    print(p.ref,p.nombre)"
   ]
  },
  {
   "cell_type": "code",
   "execution_count": 30,
   "metadata": {},
   "outputs": [
    {
     "ename": "AttributeError",
     "evalue": "'Combo' object has no attribute 'marca'",
     "output_type": "error",
     "traceback": [
      "\u001b[0;31m---------------------------------------------------------------------------\u001b[0m",
      "\u001b[0;31mAttributeError\u001b[0m                            Traceback (most recent call last)",
      "Cell \u001b[0;32mIn[30], line 2\u001b[0m\n\u001b[1;32m      1\u001b[0m \u001b[38;5;28;01mfor\u001b[39;00m p \u001b[38;5;129;01min\u001b[39;00m productos:\n\u001b[0;32m----> 2\u001b[0m     \u001b[38;5;28mprint\u001b[39m(\u001b[43mp\u001b[49m\u001b[38;5;241;43m.\u001b[39;49m\u001b[43mmarca\u001b[49m)\n",
      "\u001b[0;31mAttributeError\u001b[0m: 'Combo' object has no attribute 'marca'"
     ]
    }
   ],
   "source": [
    "for p in productos:\n",
    "    print(p.marca)"
   ]
  },
  {
   "cell_type": "code",
   "execution_count": null,
   "metadata": {},
   "outputs": [],
   "source": [
    "isinstance(combo_1,int)"
   ]
  },
  {
   "cell_type": "code",
   "execution_count": null,
   "metadata": {},
   "outputs": [],
   "source": [
    "for p in productos:\n",
    "    if ( isinstance(p,Combo) ):\n",
    "        print(p.ref,p.nombre)\n",
    "    elif (isinstance(p,Ropa)):\n",
    "        print(p.ref,p.nombre,p.talla)\n",
    "    elif (isinstance(p,Alimento)):\n",
    "        print(p.ref,p.nombre,p.marca)"
   ]
  },
  {
   "cell_type": "code",
   "execution_count": null,
   "metadata": {},
   "outputs": [],
   "source": [
    "def descuento(p, rebaja): #Función que devuelve un producto con un descuento en su precio\n",
    "    p.pvp = p.pvp - (p.pvp*(rebaja/100))\n",
    "    return p\n",
    "\n",
    "pantalon_desc = descuento(pant_1, 20)\n",
    "print(pantalon_desc)"
   ]
  },
  {
   "cell_type": "code",
   "execution_count": null,
   "metadata": {},
   "outputs": [],
   "source": [
    "print(pant_1)\n",
    "print(pantalon_desc)"
   ]
  },
  {
   "cell_type": "code",
   "execution_count": null,
   "metadata": {},
   "outputs": [],
   "source": [
    "copia_pant = pant_1"
   ]
  },
  {
   "cell_type": "code",
   "execution_count": null,
   "metadata": {},
   "outputs": [],
   "source": [
    "copia_pant.marca = \"Nike\""
   ]
  },
  {
   "cell_type": "code",
   "execution_count": null,
   "metadata": {},
   "outputs": [],
   "source": [
    "print(pant_1)\n",
    "print(copia_pant)"
   ]
  },
  {
   "cell_type": "markdown",
   "metadata": {},
   "source": [
    "<font color=#003d5c>\n",
    "\n",
    "# _Módulo copy_\n",
    "</font>"
   ]
  },
  {
   "cell_type": "code",
   "execution_count": null,
   "metadata": {},
   "outputs": [],
   "source": [
    "import copy\n",
    "\n",
    "copia_pant = copy.copy(pant_1)\n",
    "print(copia_pant)"
   ]
  },
  {
   "cell_type": "code",
   "execution_count": null,
   "metadata": {},
   "outputs": [],
   "source": [
    "copia_pant.pvp=500\n",
    "print(copia_pant)\n",
    "print(pant_1)"
   ]
  },
  {
   "cell_type": "markdown",
   "metadata": {},
   "source": [
    "<font color=Green>\n",
    "    \n",
    "# **8.3 Polimorfismo**\n",
    "</font>\n",
    "\n",
    "### El polimorfismo es una propiedad de la herencia que permite que objetos de distintas clases puedan responder a la misma acción/llamada\n",
    "### En Python todas las clases son polimórficas por defecto ya que todas las clases son subclases de una superclase llamada Object"
   ]
  },
  {
   "cell_type": "code",
   "execution_count": null,
   "metadata": {},
   "outputs": [],
   "source": [
    "class Producto:\n",
    "    def __init__(self, ref, nombre, pvp,  descripcion):\n",
    "        self.ref = ref\n",
    "        self.nombre = nombre\n",
    "        self.pvp = pvp\n",
    "        self.descripcion = descripcion\n",
    "                \n",
    "    def __str__(self):\n",
    "        return f\"Referencia:\\t {self.ref}\\n\" \\\n",
    "               f\"Nombre:\\t\\t {self.nombre}\\n\" \\\n",
    "               f\"PVP:\\t\\t {self.pvp}\\n\" \\\n",
    "               f\"Descripción:\\t {self.descripcion}\\n\"\n",
    "    \n",
    "class Combo(Producto):\n",
    "    pass\n",
    "\n",
    "class Ropa(Producto):\n",
    "    marca = \"\"\n",
    "    categoria = \"\"\n",
    "    talla = \"\"\n",
    "    \n",
    "    def __str__(self):\n",
    "            return f\"Referencia:\\t {self.ref}\\n\" \\\n",
    "                   f\"Nombre:\\t\\t {self.nombre}\\n\" \\\n",
    "                   f\"PVP:\\t\\t {self.pvp}\\n\" \\\n",
    "                   f\"Descripción:\\t {self.descripcion}\\n\" \\\n",
    "                   f\"Marca:\\t\\t {self.marca}\\n\" \\\n",
    "                   f\"Categoria:\\t {self.categoria}\\n\" \\\n",
    "                   f\"Talla:\\t\\t {self.talla}\\n\"\n",
    "\n",
    "\n",
    "class Alimento(Producto):\n",
    "    marca = \"\"\n",
    "    categoria = \"\"\n",
    "\n",
    "    def __str__(self):\n",
    "            return f\"Referencia:\\t {self.ref}\\n\" \\\n",
    "                   f\"Nombre:\\t\\t {self.nombre}\\n\" \\\n",
    "                   f\"PVP:\\t\\t {self.pvp}\\n\" \\\n",
    "                   f\"Descripción:\\t {self.descripcion}\\n\" \\\n",
    "                   f\"Marca:\\t\\t {self.marca} \\n\" \\\n",
    "                   f\"Categoria:\\t {self.categoria}\\n\""
   ]
  },
  {
   "cell_type": "code",
   "execution_count": null,
   "metadata": {},
   "outputs": [],
   "source": [
    "combo_1 = Combo('70010','Combo 1',150,'Harina de maíz (1Kg), Carne de res (2Kg), Detergente para ropa (500g)')\n",
    "\n",
    "pant_1 =Ropa(\"20001\", \"Pantalón\",200,\"Stretch Color rojo\")\n",
    "pant_1.marca =\"Levi's\"\n",
    "pant_1.categoria = \"Dama\"\n",
    "pant_1.talla = 30\n",
    "\n",
    "harina = Alimento(10001, \"Harina de Maíz\", 30, \"Harina precocida (1kg)\")\n",
    "harina.marca = \"Nestlé\"\n",
    "harina.categoria = \"Cereales\"\n"
   ]
  },
  {
   "cell_type": "code",
   "execution_count": null,
   "metadata": {},
   "outputs": [],
   "source": [
    "productos = [combo_1, harina]"
   ]
  },
  {
   "cell_type": "code",
   "execution_count": null,
   "metadata": {},
   "outputs": [],
   "source": [
    "productos.append(pant_1)"
   ]
  },
  {
   "cell_type": "code",
   "execution_count": null,
   "metadata": {},
   "outputs": [],
   "source": [
    "productos"
   ]
  },
  {
   "cell_type": "code",
   "execution_count": null,
   "metadata": {},
   "outputs": [],
   "source": [
    "for p in productos:\n",
    "    print(p.ref,p.nombre)"
   ]
  },
  {
   "cell_type": "code",
   "execution_count": null,
   "metadata": {},
   "outputs": [],
   "source": [
    "for p in productos:\n",
    "    print(p.marca)"
   ]
  },
  {
   "cell_type": "code",
   "execution_count": null,
   "metadata": {},
   "outputs": [],
   "source": [
    "isinstance(combo_1,int)"
   ]
  },
  {
   "cell_type": "code",
   "execution_count": null,
   "metadata": {},
   "outputs": [],
   "source": [
    "for p in productos:\n",
    "    if ( isinstance(p,Combo) ):\n",
    "        print(p.ref,p.nombre)\n",
    "    elif (isinstance(p,Ropa)):\n",
    "        print(p.ref,p.nombre,p.talla)\n",
    "    elif (isinstance(p,Alimento)):\n",
    "        print(p.ref,p.nombre,p.marca)"
   ]
  },
  {
   "cell_type": "code",
   "execution_count": null,
   "metadata": {},
   "outputs": [],
   "source": [
    "def descuento(p, rebaja): #Función que devuelve un producto con un descuento en su precio\n",
    "    p.pvp = p.pvp - (p.pvp*(rebaja/100))\n",
    "    return p\n",
    "\n",
    "pantalon_desc = descuento(pant_1, 20)\n",
    "print(pantalon_desc)"
   ]
  },
  {
   "cell_type": "code",
   "execution_count": null,
   "metadata": {},
   "outputs": [],
   "source": [
    "print(pant_1)\n",
    "print(pantalon_desc)"
   ]
  },
  {
   "cell_type": "code",
   "execution_count": null,
   "metadata": {},
   "outputs": [],
   "source": [
    "copia_pant = pant_1"
   ]
  },
  {
   "cell_type": "code",
   "execution_count": null,
   "metadata": {},
   "outputs": [],
   "source": [
    "copia_pant.marca = \"Nike\""
   ]
  },
  {
   "cell_type": "code",
   "execution_count": null,
   "metadata": {},
   "outputs": [],
   "source": [
    "print(pant_1)\n",
    "print(copia_pant)"
   ]
  },
  {
   "cell_type": "markdown",
   "metadata": {},
   "source": [
    "<font color=#003d5c>\n",
    "\n",
    "# _Módulo copy_\n",
    "</font>"
   ]
  },
  {
   "cell_type": "code",
   "execution_count": null,
   "metadata": {},
   "outputs": [],
   "source": [
    "import copy\n",
    "\n",
    "copia_pant = copy.copy(pant_1)\n",
    "print(copia_pant)"
   ]
  },
  {
   "cell_type": "code",
   "execution_count": null,
   "metadata": {},
   "outputs": [],
   "source": [
    "copia_pant.pvp=500\n",
    "print(copia_pant)\n",
    "print(pant_1)"
   ]
  },
  {
   "cell_type": "markdown",
   "metadata": {},
   "source": [
    "<font color=Green>\n",
    "    \n",
    "# **8.4 Ejercicio**\n",
    "</font>\n",
    "\n",
    "### 1) Crea una superclase llamada Vehículo cuyos atributos sean Color y Ruedas. Redefine el método _str_ para que devuelva por pantalla:\n",
    "> __Color: {El color del vehículo}, {Cantidad de ruedas} ruedas__. \n",
    "### Crea una subclase llamada Carro y agrega los atributos Velocidad, Cilindraje. Redefine el método _str_ para que devuelva por pantalla \n",
    "> __Color: {El color del vehículo}, {Velocidad} Km/h, {Cantidad de ruedas} ruedas, {Cilindraje} cc\".__"
   ]
  },
  {
   "cell_type": "code",
   "execution_count": null,
   "metadata": {},
   "outputs": [],
   "source": [
    "class Vehiculo():\n",
    "\n",
    "    def __init__(self, color, ruedas):\n",
    "        self.color = color\n",
    "        self.ruedas = ruedas\n",
    "\n",
    "    def __str__(self):\n",
    "        return \"Color {}, {} ruedas\".format(self.color,self.ruedas)\n",
    "\n",
    "class Carro(Vehiculo):\n",
    "\n",
    "    def __init__(self, color, ruedas, velocidad, cilindraje):\n",
    "        self.color = color\n",
    "        self.ruedas = ruedas\n",
    "        self.velocidad = velocidad\n",
    "        self.cilindraje = cilindraje\n",
    "\n",
    "    def __str__(self):\n",
    "        return \"Color {}, {} Km/h, {} ruedas, {} cc\".format(self.color,self.velocidad,self.ruedas,self.cilindraje)\n",
    "\n",
    "\n",
    "toyota = Carro(\"azul\", 4, 150, 1200)\n",
    "print(toyota)"
   ]
  },
  {
   "cell_type": "code",
   "execution_count": null,
   "metadata": {},
   "outputs": [],
   "source": [
    "class Vehiculo():\n",
    "\n",
    "    def __init__(self, color, ruedas):\n",
    "        self.color = color\n",
    "        self.ruedas = ruedas\n",
    "\n",
    "    def __str__(self):\n",
    "        return \"Color {}, {} ruedas\".format( self.color, self.ruedas )\n",
    "\n",
    "\n",
    "class Carro(Vehiculo):\n",
    "\n",
    "    def __init__(self, color, ruedas, velocidad, cilindraje):\n",
    "        Vehiculo.__init__(self, color, ruedas)\n",
    "        self.velocidad = velocidad\n",
    "        self.cilindraje = cilindraje\n",
    "\n",
    "    def __str__(self):\n",
    "        return Vehiculo.__str__(self) + \", {} Km/h, {} cc\".format(self.velocidad, self.cilindraje)\n",
    "\n",
    "\n",
    "toyota = Carro(\"azul\", 4, 150, 1200)\n",
    "print(toyota)"
   ]
  },
  {
   "cell_type": "markdown",
   "metadata": {},
   "source": [
    "### 2) Extiende las subclases siguiendo el siguiente esquema:\n",
    "<img src=\"https://pbs.twimg.com/media/EloOi68XYAEPK8u?format=png&name=900x900\">\n",
    "\n",
    "> PROTIP: Utiliza la función super()\n",
    "\n",
    "+ Crea al menos un objeto de cada subclase y añádelos a una lista llamada Vehiculos.\n",
    "+ Define una función llamada catalogar() que reciba un argumento optativo ruedas. La idea es que muestre únicamente los vehiculos cuyo número de ruedas coincida con el valor del argumento. Debe mostrar el siguiente mensaje solo si se envía el argumento ruedas:\n",
    "> __Se han encontrado {} vehículos con {} ruedas:__"
   ]
  },
  {
   "cell_type": "code",
   "execution_count": null,
   "metadata": {},
   "outputs": [],
   "source": [
    "class Vehiculo():\n",
    "\n",
    "    def __init__(self, color, ruedas):\n",
    "        self.color = color\n",
    "        self.ruedas = ruedas\n",
    "\n",
    "    def __str__(self):\n",
    "        return \"Color {}, {} ruedas\".format( self.color, self.ruedas )\n",
    "\n",
    "\n",
    "class Carro(Vehiculo):\n",
    "\n",
    "    def __init__(self, color, ruedas, velocidad, cilindraje):\n",
    "        super().__init__(color, ruedas)  # Utilizamos super()\n",
    "        self.velocidad = velocidad\n",
    "        self.cilindraje = cilindraje\n",
    "\n",
    "    def __str__(self):\n",
    "        return super().__str__() + \", {} Km/h, {} cc\".format(self.velocidad, self.cilindraje)\n",
    "\n",
    "\n",
    "class Camioneta(Carro):\n",
    "\n",
    "    def __init__(self, color, ruedas, velocidad, cilindraje, carga):\n",
    "        super().__init__(color, ruedas, velocidad, cilindraje)\n",
    "        self.carga = carga\n",
    "\n",
    "    def __str__(self):\n",
    "        return super().__str__() + \", {} Kg de carga\".format(self.carga)\n",
    "\n",
    "\n",
    "class Bicicleta(Vehiculo):\n",
    "\n",
    "    def __init__(self, color, ruedas, tipo):\n",
    "        super().__init__(color, ruedas)\n",
    "        self.tipo = tipo\n",
    "\n",
    "    def __str__(self):\n",
    "        return super().__str__() + \", {}\".format(self.tipo)\n",
    "\n",
    "\n",
    "class Motocicleta(Bicicleta):\n",
    "\n",
    "    def __init__(self, color, ruedas, tipo, velocidad, cilindraje):\n",
    "        super().__init__(color, ruedas, tipo)\n",
    "        self.velocidad = velocidad\n",
    "        self.cilindraje = cilindraje\n",
    "\n",
    "    def __str__(self):\n",
    "        return super().__str__() + \", {} Km/h, {} cc\".format(self.velocidad, self.cilindraje) \n",
    "\n",
    "\n",
    "# def catalogar(vehiculos):\n",
    "#    for v in vehiculos:\n",
    "#        print(type(v).__name__, v)\n",
    "\n",
    "def catalogar(vehiculos, ruedas=None):\n",
    "\n",
    "    if ruedas != None:\n",
    "        contador = 0\n",
    "        for v in vehiculos:\n",
    "            if v.ruedas == ruedas: \n",
    "                contador += 1\n",
    "        print(\"\\nSe han encontrado {} vehículos con {} ruedas:\".format(contador, ruedas))\n",
    "\n",
    "    for v in vehiculos:\n",
    "        if ruedas == None:\n",
    "            print(type(v).__name__, v)\n",
    "        else:\n",
    "            if v.ruedas == ruedas:\n",
    "                print(type(v).__name__, v)\n",
    "\n",
    "\n",
    "vehiculos = [\n",
    "    Carro(\"Azul\", 4, 150, 1200),\n",
    "    Camioneta(\"Blanco\", 4, 100, 1300, 1500),\n",
    "    Bicicleta(\"Verde\", 2, \"urbana\"),\n",
    "    Motocicleta(\"Negro\", 2, \"deportiva\", 180, 900)\n",
    "]"
   ]
  },
  {
   "cell_type": "code",
   "execution_count": null,
   "metadata": {},
   "outputs": [],
   "source": [
    "catalogar(vehiculos)"
   ]
  },
  {
   "cell_type": "code",
   "execution_count": null,
   "metadata": {},
   "outputs": [],
   "source": [
    "catalogar(vehiculos, 0)\n",
    "catalogar(vehiculos, 2)\n",
    "catalogar(vehiculos, 4)"
   ]
  }
 ],
 "metadata": {
  "kernelspec": {
   "display_name": "Python 3 (ipykernel)",
   "language": "python",
   "name": "python3"
  },
  "language_info": {
   "codemirror_mode": {
    "name": "ipython",
    "version": 3
   },
   "file_extension": ".py",
   "mimetype": "text/x-python",
   "name": "python",
   "nbconvert_exporter": "python",
   "pygments_lexer": "ipython3",
   "version": "3.10.9"
  }
 },
 "nbformat": 4,
 "nbformat_minor": 4
}
