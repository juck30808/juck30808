{
 "cells": [
  {
   "cell_type": "markdown",
   "id": "9cc33e77",
   "metadata": {},
   "source": [
    "## Inheritance 繼承\n",
    "\n",
    "繼承允許我們定義一個從另一個類繼承所有方法和屬性的類。\n",
    "- Parent class (父類) is the class being inherited from, also called base class.\n",
    "- Child class (子類) is the class that inherits from another class, also called derived class."
   ]
  },
  {
   "cell_type": "code",
   "execution_count": 1,
   "id": "54357573",
   "metadata": {},
   "outputs": [
    {
     "name": "stdout",
     "output_type": "stream",
     "text": [
      "Your name is Peter Paul Your age is 24\n"
     ]
    }
   ],
   "source": [
    "class Company:\n",
    "    def __init__(self, fname, lname):\n",
    "        self.firstname = fname\n",
    "        self.lastname = lname\n",
    "\n",
    "    def Employee(self):\n",
    "        print(\"Your name is \" + self.firstname + \" \" + self.lastname + \" Your age is \" + str(self.employmentage))\n",
    "\n",
    "class Worker(Company):  # Child class\n",
    "    def __init__(self, fname, lname, age):\n",
    "        super().__init__(fname, lname)\n",
    "        self.employmentage = age\n",
    "\n",
    "Comp = Worker(\"Peter\", \"Paul\", 24)\n",
    "Comp.Employee()"
   ]
  },
  {
   "cell_type": "code",
   "execution_count": 2,
   "id": "0a50e2cb",
   "metadata": {},
   "outputs": [
    {
     "name": "stdout",
     "output_type": "stream",
     "text": [
      "my Bird class constructor\n",
      "myPenfuin class constructor\n",
      "I am bird\n",
      "I am Penguin\n",
      "I can Swim\n",
      "I can Run\n"
     ]
    }
   ],
   "source": [
    "class myBird:\n",
    "    def __init__(self):\n",
    "        print(\"my Bird class constructor\")\n",
    "    def whatType(self):\n",
    "        print('I am bird')\n",
    "    def canSwin(self):\n",
    "        print('I can Swim')\n",
    "        \n",
    "class myPenguin(myBird):  #Child class\n",
    "    def __init__(self):\n",
    "        super().__init__()\n",
    "        print('myPenfuin class constructor')\n",
    "    def whoisThis(self):\n",
    "        print('I am Penguin')\n",
    "    def canRun(self):\n",
    "        print('I can Run')\n",
    "        \n",
    "pg1 = myPenguin()\n",
    "pg1.whatType()\n",
    "pg1.whoisThis()\n",
    "pg1.canSwin()\n",
    "pg1.canRun()"
   ]
  },
  {
   "cell_type": "code",
   "execution_count": 3,
   "id": "aeebd229",
   "metadata": {},
   "outputs": [],
   "source": [
    "class MyParrot:\n",
    "    def canSwin(self):\n",
    "        print('MyParrot can Swim')\n",
    "    def canFly(self):\n",
    "        print('MyParrot can Fly')"
   ]
  },
  {
   "cell_type": "code",
   "execution_count": 4,
   "id": "d7ba04b4",
   "metadata": {},
   "outputs": [],
   "source": [
    "class MyPenguin:\n",
    "    def canSwin(self):\n",
    "        print('MyPenguin can Swim')\n",
    "    def canFly(self):\n",
    "        print('MyPenguin can Fly')"
   ]
  },
  {
   "cell_type": "code",
   "execution_count": 5,
   "id": "3db1bc02",
   "metadata": {},
   "outputs": [],
   "source": [
    "def flying_bird_test(bird):\n",
    "    bird.canFly()\n",
    "    bird.canSwin()"
   ]
  },
  {
   "cell_type": "code",
   "execution_count": 6,
   "id": "64e7a082",
   "metadata": {},
   "outputs": [
    {
     "name": "stdout",
     "output_type": "stream",
     "text": [
      "MyParrot can Fly\n",
      "MyParrot can Swim\n",
      "\n",
      "MyPenguin can Fly\n",
      "MyPenguin can Swim\n"
     ]
    }
   ],
   "source": [
    "bird_parrot = MyParrot()\n",
    "bird_penguin = MyPenguin()\n",
    "\n",
    "flying_bird_test(bird_parrot)\n",
    "print()\n",
    "flying_bird_test(bird_penguin)"
   ]
  },
  {
   "cell_type": "code",
   "execution_count": 7,
   "id": "0232ca6a",
   "metadata": {},
   "outputs": [
    {
     "name": "stdout",
     "output_type": "stream",
     "text": [
      "Anita 36\n",
      "Kiran 17\n"
     ]
    }
   ],
   "source": [
    "class Person:\n",
    "    def __init__(self, name, age):\n",
    "        self.name = name\n",
    "        self.age = age\n",
    "    def display(self):\n",
    "        print(self.name, self.age)\n",
    "\n",
    "p1 = Person(\"Anita\", 36)\n",
    "p1.display()\n",
    "\n",
    "class student(Person):        #Child class (super)\n",
    "    def __init__(self,name,age):\n",
    "        super().__init__(name, age)\n",
    "        \n",
    "s1=student(\"Kiran\", 17)\n",
    "s1.display()"
   ]
  },
  {
   "cell_type": "code",
   "execution_count": 8,
   "id": "b6c68a7d",
   "metadata": {},
   "outputs": [
    {
     "name": "stdout",
     "output_type": "stream",
     "text": [
      "Here kady! Good Girl! Eat up.\n",
      "howl\n",
      "kady is 70 years old in dog years.\n",
      "\n",
      "HOWL HOWL HOWWWWWWWWWWLLLLLLLLLLL\n",
      "kady just brought back a duck.\n",
      "WOOF WOOF WOOF WOOF\n"
     ]
    }
   ],
   "source": [
    "class Dog():\n",
    "    \"\"\"A class to represent a general dog\"\"\"\n",
    "\n",
    "    def __init__(self, my_name, my_gender, my_age):\n",
    "        \"\"\"Initilize attributes\"\"\"\n",
    "        self.name = my_name\n",
    "        self.gender = my_gender\n",
    "        self.age = my_age\n",
    "\n",
    "    def eat(self):\n",
    "        \"\"\"Feed the dog\"\"\"\n",
    "        if self.gender == \"male\":\n",
    "            print(\"Here \" + self.name + \"! Good Boy!  Eat up.\")\n",
    "        else:\n",
    "            print(\"Here \" + self.name + \"! Good Girl! Eat up.\")\n",
    "\n",
    "    def bark(self, is_loud):\n",
    "        \"\"\"Get the dog to speak\"\"\"\n",
    "        if is_loud:\n",
    "            print(\"WOOF WOOF WOOF WOOF\")\n",
    "        else:\n",
    "            print(\"woof...\")\n",
    "\n",
    "    def compute_age(self):\n",
    "        \"\"\"Compute the age in dog years\"\"\"\n",
    "        dog_years = self.age*7\n",
    "        print(self.name + \" is \" + str(dog_years) + \" years old in dog years.\")\n",
    "\n",
    "class Beagle(Dog):\n",
    "    \"\"\"A class to represent a specific type of dog\"\"\"\n",
    "\n",
    "    def __init__(self, my_name, my_gender, my_age, is_gun_shy):\n",
    "        #Call the initializtion of the super (parent) class\n",
    "        super().__init__(my_name, my_gender, my_age)\n",
    "        self.is_gun_shy = is_gun_shy\n",
    "\n",
    "    def hunt(self):\n",
    "        \"\"\"If the dog is not gun shy, take them hunting\"\"\"\n",
    "        if not self.is_gun_shy:\n",
    "            self.bark(True)\n",
    "            print(self.name + \" just brought back a duck.\")\n",
    "        else:\n",
    "            print(self.name + \" is not a good hunting dog.\")\n",
    "\n",
    "    def bark(self, is_loud):\n",
    "        \"\"\"Get the dog to speak\"\"\"\n",
    "        if is_loud:\n",
    "            print(\"HOWL HOWL HOWWWWWWWWWWLLLLLLLLLLL\")\n",
    "        else:\n",
    "            print(\"howl\")\n",
    "\n",
    "\n",
    "\n",
    "beagle = Beagle(\"kady\", \"female\", 10, False)\n",
    "beagle.eat()\n",
    "beagle.bark(False)\n",
    "beagle.compute_age()\n",
    "print()\n",
    "beagle.hunt()\n",
    "\n",
    "#The Dog class can't hunt!\n",
    "dog = Dog(\"spotty dog\", \"male\", 3)\n",
    "#dog.hunt()\n",
    "dog.bark(True)"
   ]
  },
  {
   "cell_type": "markdown",
   "id": "e5e67ec2",
   "metadata": {},
   "source": [
    "## Multiple Inheritance"
   ]
  },
  {
   "cell_type": "code",
   "execution_count": 9,
   "id": "7bbee528",
   "metadata": {},
   "outputs": [],
   "source": [
    "class Base1:\n",
    "    def funcBase1(self):\n",
    "        print('funcBase1() is executing...')\n",
    "    \n",
    "class Base2:\n",
    "    def funcBase2(self):\n",
    "        print('funcBase2() is executing...')\n",
    "    \n",
    "class Base3:\n",
    "    def funcBase3(self):\n",
    "        print('funcBase3() is executing...')\n",
    "\n",
    "\n",
    "class MutiDerived(Base1,Base2,Base3):\n",
    "    def funcMuti(self):\n",
    "        print('funcMuti')\n",
    "        "
   ]
  },
  {
   "cell_type": "code",
   "execution_count": 10,
   "id": "4824e618",
   "metadata": {
    "scrolled": true
   },
   "outputs": [
    {
     "name": "stdout",
     "output_type": "stream",
     "text": [
      "funcBase1() is executing...\n",
      "funcBase2() is executing...\n",
      "funcBase3() is executing...\n",
      "funcMuti\n"
     ]
    }
   ],
   "source": [
    "md1 = MutiDerived()\n",
    "md1.funcBase1()\n",
    "md1.funcBase2()\n",
    "md1.funcBase3()\n",
    "md1.funcMuti()"
   ]
  },
  {
   "cell_type": "code",
   "execution_count": 11,
   "id": "9e74302c",
   "metadata": {},
   "outputs": [
    {
     "name": "stdout",
     "output_type": "stream",
     "text": [
      "David\n",
      "alexa\n"
     ]
    }
   ],
   "source": [
    "class father:\n",
    "    def __init__(self,fathername,fatherage):\n",
    "        self.name=fathername\n",
    "        self.age=fatherage\n",
    "    def showname(self):\n",
    "        print(self.name)\n",
    "    def age(self):\n",
    "        print(self.age)\n",
    "class mother:\n",
    "    def __init__(self,mothername):\n",
    "        self.mothername=mothername\n",
    "    def showmothername(self):\n",
    "        return self.mothername\n",
    "\n",
    "class son(father,mother):\n",
    "    def __init__(self,name,age,mothername):\n",
    "        father.__init__(self,name,age)\n",
    "        mother.__init__(self,mothername)\n",
    "s=son(\"David\",50,\"alexa\")\n",
    "s.showname()\n",
    "print(s.showmothername())\n",
    "\n"
   ]
  },
  {
   "cell_type": "code",
   "execution_count": 12,
   "id": "10520b37",
   "metadata": {},
   "outputs": [
    {
     "name": "stdout",
     "output_type": "stream",
     "text": [
      "Mo Salah\n"
     ]
    }
   ],
   "source": [
    "# parent class\n",
    "class Anyone:\n",
    "    def __init__(self, firstname, lastname):\n",
    "        self.firstname = firstname\n",
    "        self.lastname = lastname\n",
    "\n",
    "    def display(self):\n",
    "        print(self.firstname, self.lastname)\n",
    "\n",
    "# object\n",
    "myObj = Anyone(\"Mo\", \"Salah\")\n",
    "myObj.display()"
   ]
  },
  {
   "cell_type": "code",
   "execution_count": null,
   "id": "dd0c64a4",
   "metadata": {},
   "outputs": [],
   "source": []
  }
 ],
 "metadata": {
  "kernelspec": {
   "display_name": "Python 3 (ipykernel)",
   "language": "python",
   "name": "python3"
  },
  "language_info": {
   "codemirror_mode": {
    "name": "ipython",
    "version": 3
   },
   "file_extension": ".py",
   "mimetype": "text/x-python",
   "name": "python",
   "nbconvert_exporter": "python",
   "pygments_lexer": "ipython3",
   "version": "3.10.9"
  }
 },
 "nbformat": 4,
 "nbformat_minor": 5
}
