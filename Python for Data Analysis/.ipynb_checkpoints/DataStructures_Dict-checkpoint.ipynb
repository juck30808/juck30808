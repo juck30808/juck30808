{
 "cells": [
  {
   "cell_type": "markdown",
   "id": "b84233c6",
   "metadata": {},
   "source": [
    "## Data Structures and Sequences : dict"
   ]
  },
  {
   "cell_type": "markdown",
   "id": "3839ec68",
   "metadata": {},
   "source": [
    "#### 字典（Dictionary）\n",
    "Dictionary 有時被稱為 \"關聯記憶體\" (associative memories) 或 \"關聯矩陣\" (associative arrays) 。不像序列是由一個範圍內的數字當作索引， dictionary 是由 key （鍵）來當索引， key 可以是任何不可變的型態；字串和數字都可以當作 key 。 Tuple 也可以當作 key 如果他們只含有字串、數字或 tuple；若一個 tuple 直接或間接地含有任何可變的物件，它就不能當作 key 。我們無法使用 list 當作 key ，因為 list 可以經由索引操作、切片操作或是方法像是 append() 和 extend() 來修改。\n",
    "\n",
    "思考 dict 最好的方式是把它想成是一組鍵值對 (key: value pair) 的集合，其中 key 在同一個 dictionary（字典）裡必須是獨一無二的。使用一對大括號可創建一個空的字典 ：{}。將一串由逗號分隔的鍵值對置於大括號則可初始化字典。這同樣也是字典輸出時的格式。\n",
    "\n",
    "Dict 主要的操作為藉由鍵來儲存一個值並且可藉由該鍵來取出該值。也可以使用 del 來刪除鍵值對。如果我們使用用過的鍵來儲存，該鍵所對應的較舊的值會被覆蓋。使用不存在的鍵來取出值會造成錯誤。\n",
    "\n",
    "對字典使用 list(d) 會得到一個包含該字典所有鍵（key）的 list，其排列順序為插入時的順序。（若想要排序，則使用 sorted(d) 代替即可）。如果想確認一個鍵是否已存在於字典中，可使用關鍵字 in 。"
   ]
  },
  {
   "cell_type": "code",
   "execution_count": 99,
   "id": "c8956115",
   "metadata": {},
   "outputs": [
    {
     "data": {
      "text/plain": [
       "True"
      ]
     },
     "execution_count": 99,
     "metadata": {},
     "output_type": "execute_result"
    }
   ],
   "source": [
    "empty = {}\n",
    "type(empty) # => dict\n",
    "\n",
    "a = {\"one\": 1, \"two\": 2, \"three\": 3} \n",
    "b = dict(one=1, two=2, three=3) \n",
    "c = dict([('one', 1), ('two', 2), ('three', 3)])\n",
    "a == b == c # => True"
   ]
  },
  {
   "cell_type": "code",
   "execution_count": 32,
   "id": "9b1e48af",
   "metadata": {},
   "outputs": [
    {
     "name": "stdout",
     "output_type": "stream",
     "text": [
      "{1: 1, 2: 4, 3: 9, 4: 16, 5: 25, 6: 36, 7: 49, 8: 64, 9: 81}\n"
     ]
    }
   ],
   "source": [
    "d={num:num*num for num in range(1,10)}\n",
    "print(d)"
   ]
  },
  {
   "cell_type": "code",
   "execution_count": 33,
   "id": "00df4ab2",
   "metadata": {},
   "outputs": [
    {
     "data": {
      "text/plain": [
       "{'jack': 4098, 'david': 4139, 'mark': 4127}"
      ]
     },
     "execution_count": 33,
     "metadata": {},
     "output_type": "execute_result"
    }
   ],
   "source": [
    "tel = {'jack': 4098, 'david': 4139}\n",
    "tel['mark'] = 4127\n",
    "tel"
   ]
  },
  {
   "cell_type": "code",
   "execution_count": 34,
   "id": "44e68616",
   "metadata": {},
   "outputs": [
    {
     "data": {
      "text/plain": [
       "{'jack': 4098, 'mark': 4127}"
      ]
     },
     "execution_count": 34,
     "metadata": {},
     "output_type": "execute_result"
    }
   ],
   "source": [
    "del tel['david']\n",
    "tel"
   ]
  },
  {
   "cell_type": "code",
   "execution_count": 35,
   "id": "4e2ad91f",
   "metadata": {},
   "outputs": [
    {
     "data": {
      "text/plain": [
       "True"
      ]
     },
     "execution_count": 35,
     "metadata": {},
     "output_type": "execute_result"
    }
   ],
   "source": [
    "'mark' in tel"
   ]
  },
  {
   "cell_type": "code",
   "execution_count": 36,
   "id": "12d88830",
   "metadata": {},
   "outputs": [
    {
     "data": {
      "text/plain": [
       "{'sape': 4139, 'guido': 4127, 'jack': 4098}"
      ]
     },
     "execution_count": 36,
     "metadata": {},
     "output_type": "execute_result"
    }
   ],
   "source": [
    "# 函式 dict() 可直接透過一串鍵值對序列來創建 dict\n",
    "dict([('sape', 4139), ('guido', 4127), ('jack', 4098)])"
   ]
  },
  {
   "cell_type": "code",
   "execution_count": 37,
   "id": "f1fe61d4",
   "metadata": {},
   "outputs": [
    {
     "data": {
      "text/plain": [
       "{2: 4, 4: 16, 6: 36}"
      ]
     },
     "execution_count": 37,
     "metadata": {},
     "output_type": "execute_result"
    }
   ],
   "source": [
    "# 此外， dict comprehensions 也可以透過鍵與值的陳述式來創建 dict \n",
    "{x: x**2 for x in (2, 4, 6)}"
   ]
  },
  {
   "cell_type": "code",
   "execution_count": 38,
   "id": "5ec3629e",
   "metadata": {},
   "outputs": [
    {
     "data": {
      "text/plain": [
       "{'sape': 4139, 'guido': 4127, 'jack': 4098}"
      ]
     },
     "execution_count": 38,
     "metadata": {},
     "output_type": "execute_result"
    }
   ],
   "source": [
    "# 當鍵是簡單的字串時，使用關鍵字引數 (keyword arguments) 有時會較為簡潔\n",
    "dict(sape=4139, guido=4127, jack=4098)"
   ]
  },
  {
   "cell_type": "code",
   "execution_count": 39,
   "id": "566aaea2",
   "metadata": {},
   "outputs": [
    {
     "name": "stdout",
     "output_type": "stream",
     "text": [
      "sape's tel number is 4139\n",
      "guido's tel number is 4127\n",
      "jack's tel number is 4098\n"
     ]
    }
   ],
   "source": [
    "# 當對 dict 作迴圈時，鍵以及其對應的值可以藉由使用 items() 方法來同時取得\n",
    "tel = dict(sape=4139, guido=4127, jack=4098)\n",
    "for key, value in tel.items():\n",
    "    print(f'{key}\\'s tel number is {value}')"
   ]
  },
  {
   "cell_type": "code",
   "execution_count": 40,
   "id": "9ccea6f9",
   "metadata": {},
   "outputs": [
    {
     "name": "stdout",
     "output_type": "stream",
     "text": [
      "0 A0\n",
      "1 B1\n",
      "2 C2\n"
     ]
    }
   ],
   "source": [
    "# 當對序列作迴圈時，位置索引及其對應的值可以藉由使用 enumerate() 函式來同時取得\n",
    "for i, v in enumerate(['A0', 'B1', 'C2']):\n",
    "    print(i, v)"
   ]
  },
  {
   "cell_type": "code",
   "execution_count": 41,
   "id": "2e6557e0",
   "metadata": {},
   "outputs": [
    {
     "name": "stdout",
     "output_type": "stream",
     "text": [
      "A D\n",
      "B E\n",
      "C F\n"
     ]
    }
   ],
   "source": [
    "# 要同時對兩個以上的序列作迴圈，可以將其以成對的方式放入 zip() 函式：\n",
    "x = ['A','B','C']\n",
    "y = ['D','E','F']\n",
    "for i, j in zip(x, y):\n",
    "    print(i,j)"
   ]
  },
  {
   "cell_type": "code",
   "execution_count": 42,
   "id": "39608c6c",
   "metadata": {},
   "outputs": [
    {
     "name": "stdout",
     "output_type": "stream",
     "text": [
      "A D\n",
      "B E\n",
      "C F\n"
     ]
    }
   ],
   "source": [
    "# 當 list 長度不一樣時\n",
    "x = ['A','B','C']\n",
    "y = ['D','E','F','G']\n",
    "for i, j in zip(x, y):\n",
    "    print(i,j)"
   ]
  },
  {
   "cell_type": "code",
   "execution_count": 43,
   "id": "7de2f890",
   "metadata": {},
   "outputs": [
    {
     "name": "stdout",
     "output_type": "stream",
     "text": [
      "9\n",
      "7\n",
      "5\n",
      "3\n",
      "1\n"
     ]
    }
   ],
   "source": [
    "# 要對序列作反向的迴圈，首先先寫出正向的序列，在對其使用 reversed() 函式\n",
    "for i in reversed(range(1, 10, 2)):\n",
    "    print(i)"
   ]
  },
  {
   "cell_type": "code",
   "execution_count": 44,
   "id": "86fc0cec",
   "metadata": {},
   "outputs": [
    {
     "name": "stdout",
     "output_type": "stream",
     "text": [
      "apple\n",
      "apple\n",
      "banana\n",
      "orange\n",
      "orange\n",
      "pear\n"
     ]
    }
   ],
   "source": [
    "# 要以迴圈對序列作排序，使用 sorted() 函式會得到一個新的經排序過的 list ，但不會改變原本的序列\n",
    "basket = ['apple', 'orange', 'apple', 'pear', 'orange', 'banana']\n",
    "for i in sorted(basket):\n",
    "    print(i)    "
   ]
  },
  {
   "cell_type": "code",
   "execution_count": 45,
   "id": "fe6d35fc",
   "metadata": {},
   "outputs": [
    {
     "name": "stdout",
     "output_type": "stream",
     "text": [
      "apple\n",
      "banana\n",
      "orange\n",
      "pear\n"
     ]
    }
   ],
   "source": [
    "# 對一個序列使用set()將去除重複的元素。對一個序列使用sorted()加set()則是按排序後順序循環遍歷序列中唯一元素的一種慣用方式。\n",
    "basket = ['apple', 'orange', 'apple', 'pear', 'orange', 'banana']\n",
    "for f in sorted(set(basket)):\n",
    "    print(f)"
   ]
  },
  {
   "cell_type": "code",
   "execution_count": 46,
   "id": "bc327e91",
   "metadata": {},
   "outputs": [
    {
     "name": "stdout",
     "output_type": "stream",
     "text": [
      "Sumar listas ['Juan', 'Karla', 'Pedro', 'Laura', 'María', 'Gonzalo', 'Ernesto']\n",
      "Extender la lista1: ['Juan', 'Karla', 'Pedro', 'Laura', 'María', 'Gonzalo', 'Ernesto']\n",
      "Lista original: [10, 40, 15, 4, 20, 90, 4]\n",
      "Índice 4: 3\n",
      "Lista invertida: [4, 90, 20, 4, 15, 40, 10]\n",
      "Lista ordenada (ascendente): [4, 4, 10, 15, 20, 40, 90]\n",
      "Lista ordenada (descendente): [90, 40, 20, 15, 10, 4, 4]\n",
      "Valor mínimo: 4\n",
      "Valor máximo: 90\n",
      "Misma referencia? False\n",
      "Mismo contenido? True\n",
      "Misma referencia? False\n",
      "Mismo contenido? True\n",
      "Misma referencia? False\n",
      "Mismo contenido? True\n",
      "[[2, 5], [2, 5], [2, 5], [2, 5], [2, 5]]\n",
      "Misma referencia: True\n",
      "Mismo contenido: True\n",
      "[[2, 5, 10], [2, 5, 10], [2, 5, 10], [2, 5, 10], [2, 5, 10]]\n",
      "Matriz original: [[10, 20], [30, 40, 50], [60, 70, 80, 90]]\n",
      "Renglón 0, Columna 0: 10\n",
      "Renglón 2, Columna 3: 90\n",
      "Matriz modificada: [[10, 20], [30, 40, 50], [65, 70, 80, 90]]\n"
     ]
    }
   ],
   "source": [
    "# Profundizando listas\n",
    "# Listas son mutables\n",
    "nombres1 = ['Juan', 'Karla', 'Pedro']\n",
    "nombres2 = 'Laura María Gonzalo Ernesto'.split()\n",
    "# Sumar listas\n",
    "print(f'Sumar listas {nombres1 + nombres2}')\n",
    "# Extender una lista con otra lista\n",
    "nombres1.extend(nombres2)\n",
    "print(f'Extender la lista1: {nombres1}')\n",
    "\n",
    "# Lista de números\n",
    "numeros1 = [10, 40, 15, 4, 20, 90, 4]\n",
    "print(f'Lista original: {numeros1}')\n",
    "# obtener el índice del primer elemento encontrado en una lista\n",
    "# help(list.index)\n",
    "print(f'Índice 4: {numeros1.index(4)}')\n",
    "\n",
    "# Invertir el orden de los elementos de una lista\n",
    "numeros1.reverse()\n",
    "print(f'Lista invertida: {numeros1}')\n",
    "\n",
    "# Ordenar los elementos de una lista\n",
    "numeros1.sort()\n",
    "print(f'Lista ordenada (ascendente): {numeros1}')\n",
    "# Ordenar de manera descendente una lista\n",
    "numeros1.sort(reverse=True)\n",
    "print(f'Lista ordenada (descendente): {numeros1}')\n",
    "\n",
    "# Obtener el valor min y max de una lista\n",
    "print(f'Valor mínimo: {min(numeros1)}')\n",
    "print(f'Valor máximo: {max(numeros1)}')\n",
    "\n",
    "# Copiar los elementos de una lista\n",
    "numeros2 = numeros1.copy()\n",
    "# help(list.copy)\n",
    "print(f'Misma referencia? {numeros1 is numeros2}')\n",
    "print(f'Mismo contenido? {numeros1 == numeros2}')\n",
    "\n",
    "# Podemos usar el constructor de la lista\n",
    "numeros2 = list(numeros1)\n",
    "print(f'Misma referencia? {numeros1 is numeros2}')\n",
    "print(f'Mismo contenido? {numeros1 == numeros2}')\n",
    "\n",
    "# slicing\n",
    "numeros2 = numeros1[:]\n",
    "print(f'Misma referencia? {numeros1 is numeros2}')\n",
    "print(f'Mismo contenido? {numeros1 == numeros2}')\n",
    "\n",
    "# Multiplicación listas\n",
    "lista_multiplicacion = 5*[[2, 5]]\n",
    "print(lista_multiplicacion)\n",
    "print(f'Misma referencia: {lista_multiplicacion[0] is lista_multiplicacion[1]}')\n",
    "print(f'Mismo contenido: {lista_multiplicacion[0] == lista_multiplicacion[1]}')\n",
    "lista_multiplicacion[2].append(10)\n",
    "print(lista_multiplicacion)\n",
    "\n",
    "# Matrices en Python\n",
    "matriz = [[10, 20], [30, 40, 50], [60, 70, 80, 90]]\n",
    "print(f'Matriz original: {matriz}')\n",
    "print(f'Renglón 0, Columna 0: {matriz[0][0]}')\n",
    "print(f'Renglón 2, Columna 3: {matriz[2][3]}')\n",
    "matriz[2][0] = 65\n",
    "print(f'Matriz modificada: {matriz}')"
   ]
  },
  {
   "cell_type": "code",
   "execution_count": 47,
   "id": "cf9d2b17",
   "metadata": {},
   "outputs": [
    {
     "name": "stdout",
     "output_type": "stream",
     "text": [
      "{'IDE': 'Integrated Development Environment', 'OOP': 'Object Oriented Programming', 'DBMS': 'Database Management System'}\n",
      "3\n",
      "Integrated Development Environment\n",
      "Object Oriented Programming\n",
      "{'IDE': 'integrated development environment', 'OOP': 'Object Oriented Programming', 'DBMS': 'Database Management System'}\n"
     ]
    }
   ],
   "source": [
    "# dict (key, value)\n",
    "diccionario = {\n",
    "    'IDE':'Integrated Development Environment',\n",
    "    'OOP':'Object Oriented Programming',\n",
    "    'DBMS':'Database Management System'\n",
    "}\n",
    "print(diccionario)\n",
    "#largo\n",
    "print(len(diccionario))\n",
    "# acceder a un elemento (key)\n",
    "print( diccionario['IDE'])\n",
    "# otra forma de recuperar un elemento\n",
    "print(diccionario.get('OOP'))\n",
    "# modificando elementos\n",
    "diccionario['IDE'] = 'integrated development environment'\n",
    "print(diccionario)\n"
   ]
  },
  {
   "cell_type": "code",
   "execution_count": 48,
   "id": "ffe69b7c",
   "metadata": {},
   "outputs": [
    {
     "name": "stdout",
     "output_type": "stream",
     "text": [
      "{'Nombre': 'Juan', 'Apellido': 'Perez', 'Edad': 28}\n",
      "{'Nombre': 'Juan', 'Apellido': 'Perez', 'Edad': 28}\n",
      "{'Nombre': 'Juan', 'Apellido': 'Perez', 'Edad': 28, 'Departamento': 'Sistemas'}\n",
      "{'Nombre': 'Juan Carlos', 'Apellido': 'Perez', 'Edad': 28, 'Departamento': 'Sistemas'}\n",
      "Juan Carlos\n",
      "No se encontró la llave\n",
      "{'Nombre': 'Juan Carlos', 'Apellido': 'Perez', 'Edad': 28, 'Departamento': 'Sistemas'}\n",
      "Valor por default\n",
      "{'Nombre': 'Juan Carlos', 'Apellido': 'Perez', 'Edad': 28, 'Departamento': 'Sistemas', 'Nombres': 'Valor por default'}\n",
      "{'Nombre': 'Juan Carlos',\n",
      " 'Apellido': 'Perez',\n",
      " 'Edad': 28,\n",
      " 'Departamento': 'Sistemas',\n",
      " 'Nombres': 'Valor por default'}\n"
     ]
    }
   ],
   "source": [
    "# Produndizando en diccionarios\n",
    "\n",
    "# Los dic guardan un orden (a diferencia de un set)\n",
    "diccionario = {'Nombre':'Juan','Apellido':'Perez','Edad':28}\n",
    "print(diccionario)\n",
    "\n",
    "# Los dic son mutables, pero las llaves deben ser inmutables\n",
    "# diccionario = {[1,2]:'Valor1'}\n",
    "# diccionario = {(1,2):'Valor1'}\n",
    "print(diccionario)\n",
    "\n",
    "# Se agrega una llave si no se encuentra\n",
    "diccionario['Departamento'] = 'Sistemas'\n",
    "print(diccionario)\n",
    "\n",
    "# No hay valores duplicados en las llaves de un diccionario (si ya existe se reemplaza)\n",
    "diccionario['Nombre'] = 'Juan Carlos'\n",
    "print(diccionario)\n",
    "\n",
    "# Recuperar un valor indicando una llave\n",
    "print(diccionario['Nombre'])\n",
    "# Si no encuentra la llave lanza una excepcion\n",
    "# print(diccionario['nombre'])\n",
    "\n",
    "# Método get recupera una llave, y si no existe NO lanza excepción\n",
    "# además podemos regresar un valor en caso de que no exista la llave\n",
    "print(diccionario.get('Nombres','No se encontró la llave'))\n",
    "print(diccionario)\n",
    "\n",
    "# setdefault sí modifica el diccionario, además se agregar un valor por default\n",
    "nombre = diccionario.setdefault('Nombres','Valor por default')\n",
    "print(nombre)\n",
    "print(diccionario)\n",
    "\n",
    "# Imprimir con pprint\n",
    "from pprint import pprint as pp\n",
    "# help(pp)\n",
    "pp(diccionario, sort_dicts=False)"
   ]
  },
  {
   "cell_type": "code",
   "execution_count": 49,
   "id": "9a1da0e5",
   "metadata": {},
   "outputs": [],
   "source": [
    "numbers = [100, 200, 300, 400, 500]\n",
    "students = ['Joe', 'Ronald', 'Ahmed', 'Marcelo', 'Alves']"
   ]
  },
  {
   "cell_type": "code",
   "execution_count": 50,
   "id": "227f1df3",
   "metadata": {},
   "outputs": [
    {
     "name": "stdout",
     "output_type": "stream",
     "text": [
      "{'Joe': 100, 'Ronald': 200, 'Ahmed': 300, 'Marcelo': 400, 'Alves': 500}\n"
     ]
    }
   ],
   "source": [
    "new_dict = {x: y for (x, y) in zip(students, numbers)}\n",
    "print(new_dict)"
   ]
  },
  {
   "cell_type": "code",
   "execution_count": 51,
   "id": "dcf9e192",
   "metadata": {},
   "outputs": [
    {
     "name": "stdout",
     "output_type": "stream",
     "text": [
      "{10: 100, 20: 400}\n"
     ]
    }
   ],
   "source": [
    "numbers = [1, 5, 10, 15, 20, 25]\n",
    "my_dictionary = {x: x ** 2 for x in numbers if x ** 2 % 4 == 0}\n",
    "print(my_dictionary)"
   ]
  },
  {
   "cell_type": "markdown",
   "id": "b8751672",
   "metadata": {},
   "source": [
    "dict"
   ]
  },
  {
   "cell_type": "code",
   "execution_count": 38,
   "id": "bed035f0",
   "metadata": {},
   "outputs": [],
   "source": [
    "empty_dict = {}\n",
    "d1 = {'a' : 'some value', 'b' : [1, 2, 3, 4]}"
   ]
  },
  {
   "cell_type": "code",
   "execution_count": 39,
   "id": "11a5f4f1",
   "metadata": {},
   "outputs": [
    {
     "data": {
      "text/plain": [
       "[1, 2, 3, 4]"
      ]
     },
     "execution_count": 39,
     "metadata": {},
     "output_type": "execute_result"
    }
   ],
   "source": [
    "d1['b']"
   ]
  },
  {
   "cell_type": "code",
   "execution_count": 40,
   "id": "3b923c36",
   "metadata": {},
   "outputs": [
    {
     "data": {
      "text/plain": [
       "{'a': 'some value',\n",
       " 'b': [1, 2, 3, 4],\n",
       " 5: 'some value',\n",
       " 'dummy': 'another value'}"
      ]
     },
     "execution_count": 40,
     "metadata": {},
     "output_type": "execute_result"
    }
   ],
   "source": [
    "d1[5] = 'some value'\n",
    "d1['dummy'] = 'another value'\n",
    "d1"
   ]
  },
  {
   "cell_type": "code",
   "execution_count": 41,
   "id": "2594c3f9",
   "metadata": {},
   "outputs": [
    {
     "data": {
      "text/plain": [
       "'another value'"
      ]
     },
     "execution_count": 41,
     "metadata": {},
     "output_type": "execute_result"
    }
   ],
   "source": [
    "del d1[5]\n",
    "ret = d1.pop('dummy')\n",
    "ret"
   ]
  },
  {
   "cell_type": "code",
   "execution_count": 42,
   "id": "cdb7e146",
   "metadata": {},
   "outputs": [
    {
     "data": {
      "text/plain": [
       "['some value', [1, 2, 3, 4]]"
      ]
     },
     "execution_count": 42,
     "metadata": {},
     "output_type": "execute_result"
    }
   ],
   "source": [
    "list(d1.keys())\n",
    "list(d1.values())"
   ]
  },
  {
   "cell_type": "code",
   "execution_count": 43,
   "id": "5bfb0d62",
   "metadata": {},
   "outputs": [
    {
     "data": {
      "text/plain": [
       "{'a': 'some value', 'b': 'foo', 'c': 12}"
      ]
     },
     "execution_count": 43,
     "metadata": {},
     "output_type": "execute_result"
    }
   ],
   "source": [
    "d1.update({'b' : 'foo', 'c' : 12})\n",
    "d1"
   ]
  },
  {
   "cell_type": "markdown",
   "id": "bb047e8c",
   "metadata": {},
   "source": [
    "#### Creating dicts from sequences"
   ]
  },
  {
   "cell_type": "markdown",
   "id": "facf4824",
   "metadata": {},
   "source": [
    "mapping = {}\n",
    "for key, value in zip(key_list, value_list):\n",
    "    mapping[key] = value"
   ]
  },
  {
   "cell_type": "code",
   "execution_count": 44,
   "id": "165f4da3",
   "metadata": {},
   "outputs": [
    {
     "data": {
      "text/plain": [
       "{0: 4, 1: 3, 2: 2, 3: 1, 4: 0}"
      ]
     },
     "execution_count": 44,
     "metadata": {},
     "output_type": "execute_result"
    }
   ],
   "source": [
    "mapping = dict(zip(range(5), reversed(range(5))))\n",
    "mapping"
   ]
  },
  {
   "cell_type": "markdown",
   "id": "b798edaf",
   "metadata": {},
   "source": [
    "#### Default values"
   ]
  },
  {
   "cell_type": "markdown",
   "id": "00d3c630",
   "metadata": {},
   "source": [
    "if key in some_dict:\n",
    "    value = some_dict[key]\n",
    "else:\n",
    "    value = default_value"
   ]
  },
  {
   "cell_type": "markdown",
   "id": "70981c8f",
   "metadata": {},
   "source": [
    "value = some_dict.get(key, default_value)"
   ]
  },
  {
   "cell_type": "code",
   "execution_count": 45,
   "id": "671b5bcc",
   "metadata": {},
   "outputs": [
    {
     "data": {
      "text/plain": [
       "{'a': ['apple', 'atom'], 'b': ['bat', 'bar', 'book']}"
      ]
     },
     "execution_count": 45,
     "metadata": {},
     "output_type": "execute_result"
    }
   ],
   "source": [
    "words = ['apple', 'bat', 'bar', 'atom', 'book']\n",
    "by_letter = {}\n",
    "for word in words:\n",
    "    letter = word[0]\n",
    "    if letter not in by_letter:\n",
    "        by_letter[letter] = [word]\n",
    "    else:\n",
    "        by_letter[letter].append(word)\n",
    "by_letter"
   ]
  },
  {
   "cell_type": "markdown",
   "id": "3025b697",
   "metadata": {},
   "source": [
    "for word in words:\n",
    "    letter = word[0]\n",
    "    by_letter.setdefault(letter, []).append(word)"
   ]
  },
  {
   "cell_type": "markdown",
   "id": "bdaf6473",
   "metadata": {},
   "source": [
    "from collections import defaultdict\n",
    "by_letter = defaultdict(list)\n",
    "for word in words:\n",
    "    by_letter[word[0]].append(word)"
   ]
  },
  {
   "cell_type": "markdown",
   "id": "1f58b677",
   "metadata": {},
   "source": [
    "#### Valid dict key types"
   ]
  },
  {
   "cell_type": "code",
   "execution_count": 46,
   "id": "fd175ab6",
   "metadata": {},
   "outputs": [
    {
     "data": {
      "text/plain": [
       "-9209053662355515447"
      ]
     },
     "execution_count": 46,
     "metadata": {},
     "output_type": "execute_result"
    }
   ],
   "source": [
    "hash('string')\n",
    "hash((1, 2, (2, 3)))\n",
    "#hash((1, 2, [2, 3])) # fails because lists are mutable"
   ]
  },
  {
   "cell_type": "code",
   "execution_count": 47,
   "id": "ede53c26",
   "metadata": {},
   "outputs": [
    {
     "data": {
      "text/plain": [
       "{(1, 2, 3): 5}"
      ]
     },
     "execution_count": 47,
     "metadata": {},
     "output_type": "execute_result"
    }
   ],
   "source": [
    "d = {}\n",
    "d[tuple([1, 2, 3])] = 5\n",
    "d"
   ]
  },
  {
   "cell_type": "code",
   "execution_count": 1,
   "id": "9a191aae",
   "metadata": {},
   "outputs": [
    {
     "name": "stdout",
     "output_type": "stream",
     "text": [
      "name\n",
      "species\n",
      "age\n",
      "-------------------\n",
      "Zophie\n",
      "cat\n",
      "8\n",
      "-------------------\n",
      "('name', 'Zophie')\n",
      "('species', 'cat')\n",
      "('age', 8)\n"
     ]
    }
   ],
   "source": [
    "eggs = {'name':'Zophie', 'species':'cat','age':8}\n",
    "ham = {'species':'cat', 'name':'Zophie','age':8}\n",
    "eggs == ham\n",
    "\n",
    "list(eggs.keys())\n",
    "for k in eggs.keys():\n",
    "    print(k)\n",
    "print('-------------------')\n",
    "\n",
    "list(eggs.values())\n",
    "for k in eggs.values():\n",
    "    print(k)\n",
    "print('-------------------')\n",
    "\n",
    "list(eggs.items())\n",
    "for k in eggs.items():\n",
    "    print(k)"
   ]
  },
  {
   "cell_type": "code",
   "execution_count": 2,
   "id": "6b2f2132",
   "metadata": {},
   "outputs": [
    {
     "name": "stdout",
     "output_type": "stream",
     "text": [
      "---PICNIC ITEMS--\n",
      "sandwiches..    4\n",
      "apples......   12\n",
      "cups........    4\n",
      "cookies..... 8000\n",
      "-------PICNIC ITEMS-------\n",
      "sandwiches..........     4\n",
      "apples..............    12\n",
      "cups................     4\n",
      "cookies.............  8000\n"
     ]
    }
   ],
   "source": [
    "def printPicnic(itemsDict, leftWidth, rightWidth):\n",
    "    print('PICNIC ITEMS'.center(leftWidth + rightWidth, '-'))\n",
    "    for k, v in itemsDict.items():\n",
    "        print(k.ljust(leftWidth, '.') + str(v).rjust(rightWidth))\n",
    "\n",
    "picnicItems = {'sandwiches': 4, 'apples': 12, 'cups': 4, 'cookies': 8000}\n",
    "printPicnic(picnicItems, 12, 5)\n",
    "printPicnic(picnicItems, 20, 6)"
   ]
  },
  {
   "cell_type": "code",
   "execution_count": 3,
   "id": "1a96b07f",
   "metadata": {},
   "outputs": [
    {
     "name": "stdout",
     "output_type": "stream",
     "text": [
      "There is no account named -f\n"
     ]
    }
   ],
   "source": [
    "#! python3\n",
    "# pw.py - An insecure password locker program.\n",
    "\n",
    "PASSWORDS = {'email': 'F7minlBDDuvMJuxESSKHFhTxFtjVB6',\n",
    "             'blog': 'VmALvQyKAxiVH5G8v01if1MLZF3sdt',\n",
    "             'luggage': '12345'}\n",
    "\n",
    "import sys, pyperclip\n",
    "if len(sys.argv) < 2:\n",
    "    print('Usage: py pw.py [account] - copy account password')\n",
    "    sys.exit()\n",
    "\n",
    "account = sys.argv[1] # first command line arg is the account name\n",
    "\n",
    "if account in PASSWORDS:\n",
    "    pyperclip.copy(PASSWORDS[account])\n",
    "    print('Password for ' + account + ' copied to clipboard.')\n",
    "else:\n",
    "    print('There is no account named ' + account)\n"
   ]
  },
  {
   "cell_type": "markdown",
   "id": "7335875e",
   "metadata": {},
   "source": [
    "- Star"
   ]
  },
  {
   "cell_type": "code",
   "execution_count": 4,
   "id": "abbfa089",
   "metadata": {
    "scrolled": true
   },
   "outputs": [
    {
     "name": "stdout",
     "output_type": "stream",
     "text": [
      "{' ': 13,\n",
      " ',': 1,\n",
      " '.': 1,\n",
      " 'A': 1,\n",
      " 'I': 1,\n",
      " 'a': 4,\n",
      " 'b': 1,\n",
      " 'c': 3,\n",
      " 'd': 3,\n",
      " 'e': 5,\n",
      " 'g': 2,\n",
      " 'h': 3,\n",
      " 'i': 6,\n",
      " 'k': 2,\n",
      " 'l': 3,\n",
      " 'n': 4,\n",
      " 'o': 2,\n",
      " 'p': 1,\n",
      " 'r': 5,\n",
      " 's': 3,\n",
      " 't': 6,\n",
      " 'w': 2,\n",
      " 'y': 1}\n"
     ]
    }
   ],
   "source": [
    "import pprint\n",
    "\n",
    "message = 'It was a bright cold day in April, and the clocks were striking thirteen.'\n",
    "count = {}\n",
    "\n",
    "for character in message:\n",
    "    count.setdefault(character, 0)\n",
    "    count[character] = count[character] + 1\n",
    "\n",
    "pprint.pprint(count)"
   ]
  },
  {
   "cell_type": "code",
   "execution_count": null,
   "id": "31d4b8d5",
   "metadata": {},
   "outputs": [],
   "source": []
  }
 ],
 "metadata": {
  "kernelspec": {
   "display_name": "Python 3 (ipykernel)",
   "language": "python",
   "name": "python3"
  },
  "language_info": {
   "codemirror_mode": {
    "name": "ipython",
    "version": 3
   },
   "file_extension": ".py",
   "mimetype": "text/x-python",
   "name": "python",
   "nbconvert_exporter": "python",
   "pygments_lexer": "ipython3",
   "version": "3.9.7"
  }
 },
 "nbformat": 4,
 "nbformat_minor": 5
}
