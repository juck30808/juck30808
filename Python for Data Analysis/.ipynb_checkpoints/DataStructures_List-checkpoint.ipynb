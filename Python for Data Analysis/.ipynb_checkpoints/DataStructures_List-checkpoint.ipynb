{
 "cells": [
  {
   "cell_type": "markdown",
   "id": "84ec53b2",
   "metadata": {},
   "source": [
    "## Data Structures and Sequences : List\n",
    "\n",
    "- Lists: Finite, ordered, mutable sequence of elements. 有限、有序、可變的元素序列。\n",
    "- Tuples: Finite, ordered, immutable sequence ofelements. 有限、有序、不可變的元素序列。\n",
    "- Dictionaries: Mutable map from hashable values to (arbitrary) objects 從可散列值到（任意）對象的可變映射。\n",
    "- Sets: Unordered, finite collection of distinct, hashable elements 不同的、可散列的元素的無序、有限集合。"
   ]
  },
  {
   "cell_type": "markdown",
   "id": "9859424e",
   "metadata": {},
   "source": [
    "### Lists: Finite, ordered, mutable sequence of elements. 有限、有序、可變的元素序列。"
   ]
  },
  {
   "cell_type": "code",
   "execution_count": 72,
   "id": "486f071f",
   "metadata": {},
   "outputs": [
    {
     "data": {
      "text/plain": [
       "[0]"
      ]
     },
     "execution_count": 72,
     "metadata": {},
     "output_type": "execute_result"
    }
   ],
   "source": [
    "empty = []\n",
    "empty.append(0)   # 將 *single* 元素附加到列表中\n",
    "empty"
   ]
  },
  {
   "cell_type": "code",
   "execution_count": 73,
   "id": "95ca469b",
   "metadata": {},
   "outputs": [
    {
     "data": {
      "text/plain": [
       "[0, 2, 3, 5]"
      ]
     },
     "execution_count": 73,
     "metadata": {},
     "output_type": "execute_result"
    }
   ],
   "source": [
    "empty.extend([2, 3, 5])   # 通過附加 *all* 元素來擴展列表\n",
    "empty"
   ]
  },
  {
   "cell_type": "code",
   "execution_count": 74,
   "id": "1e94bd41",
   "metadata": {},
   "outputs": [
    {
     "data": {
      "text/plain": [
       "['SS', 'index', 0, 2, 3, 5]"
      ]
     },
     "execution_count": 74,
     "metadata": {},
     "output_type": "execute_result"
    }
   ],
   "source": [
    "empty.insert(0, \"index\")  # 將一個元素插入到列表中間的索引處\n",
    "empty.insert(0,'SS')\n",
    "empty"
   ]
  },
  {
   "cell_type": "code",
   "execution_count": 75,
   "id": "aec85c39",
   "metadata": {},
   "outputs": [
    {
     "data": {
      "text/plain": [
       "[5, 3, 2, 0, 'index', 'SS']"
      ]
     },
     "execution_count": 75,
     "metadata": {},
     "output_type": "execute_result"
    }
   ],
   "source": [
    "empty.reverse()           # 反轉列表\n",
    "empty"
   ]
  },
  {
   "cell_type": "code",
   "execution_count": 76,
   "id": "469a064e",
   "metadata": {},
   "outputs": [
    {
     "data": {
      "text/plain": [
       "[5, 2, 0, 'index']"
      ]
     },
     "execution_count": 76,
     "metadata": {},
     "output_type": "execute_result"
    }
   ],
   "source": [
    "empty.pop()               # 刪除最後一個元素\n",
    "empty.pop(1) \n",
    "empty"
   ]
  },
  {
   "cell_type": "code",
   "execution_count": 77,
   "id": "f970c97d",
   "metadata": {},
   "outputs": [
    {
     "data": {
      "text/plain": [
       "[5, 2, 0, 'index']"
      ]
     },
     "execution_count": 77,
     "metadata": {},
     "output_type": "execute_result"
    }
   ],
   "source": [
    "empty.copy()              # 回傳一個淺複製 (shallow copy) 的 list\n",
    "empty"
   ]
  },
  {
   "cell_type": "code",
   "execution_count": 78,
   "id": "645dea52",
   "metadata": {},
   "outputs": [
    {
     "data": {
      "text/plain": [
       "[5, 2, 0]"
      ]
     },
     "execution_count": 78,
     "metadata": {},
     "output_type": "execute_result"
    }
   ],
   "source": [
    "empty.remove('index')     # 移除列表中第一個值為 x 的元素。如果沒有這樣的元素則 Error。\n",
    "empty"
   ]
  },
  {
   "cell_type": "code",
   "execution_count": 79,
   "id": "144723ed",
   "metadata": {},
   "outputs": [
    {
     "data": {
      "text/plain": [
       "[5, 2, 0]"
      ]
     },
     "execution_count": 79,
     "metadata": {},
     "output_type": "execute_result"
    }
   ],
   "source": [
    "empty.sort(reverse=True)  # 將串列的元由值的大小排列，預設由小到大排列，當 reverse 為 True 時由大到小\n",
    "empty"
   ]
  },
  {
   "cell_type": "markdown",
   "id": "4f00f469",
   "metadata": {},
   "source": [
    "### List check"
   ]
  },
  {
   "cell_type": "code",
   "execution_count": 85,
   "id": "7278e87d",
   "metadata": {},
   "outputs": [
    {
     "data": {
      "text/plain": [
       "[5, 2, 0, 1314]"
      ]
     },
     "execution_count": 85,
     "metadata": {},
     "output_type": "execute_result"
    }
   ],
   "source": [
    "myList = [5, 2, 0]\n",
    "myList.insert(3, 1314)       # 插入 X 值索引為 y 位置\n",
    "myList"
   ]
  },
  {
   "cell_type": "code",
   "execution_count": 86,
   "id": "ffe033b6",
   "metadata": {},
   "outputs": [
    {
     "name": "stdout",
     "output_type": "stream",
     "text": [
      "[5, 2, 0]\n"
     ]
    }
   ],
   "source": [
    "myList.remove(1314)         # #移除第一個和 x 相等的元，並將後方的元向前移動\n",
    "myList"
   ]
  },
  {
   "cell_type": "code",
   "execution_count": 87,
   "id": "f9303e49",
   "metadata": {},
   "outputs": [
    {
     "data": {
      "text/plain": [
       "[5, 2]"
      ]
     },
     "execution_count": 87,
     "metadata": {},
     "output_type": "execute_result"
    }
   ],
   "source": [
    "myList.pop()\n",
    "myList"
   ]
  },
  {
   "cell_type": "code",
   "execution_count": 88,
   "id": "346b4ad1",
   "metadata": {},
   "outputs": [
    {
     "data": {
      "text/plain": [
       "[]"
      ]
     },
     "execution_count": 88,
     "metadata": {},
     "output_type": "execute_result"
    }
   ],
   "source": [
    "myList.clear()\n",
    "myList"
   ]
  },
  {
   "cell_type": "markdown",
   "id": "0f2aa978",
   "metadata": {},
   "source": [
    "### Capitalize & Replace"
   ]
  },
  {
   "cell_type": "code",
   "execution_count": 105,
   "id": "743d4897",
   "metadata": {},
   "outputs": [
    {
     "data": {
      "text/plain": [
       "False"
      ]
     },
     "execution_count": 105,
     "metadata": {},
     "output_type": "execute_result"
    }
   ],
   "source": [
    "'abc'.islower()\n",
    "'ABc'.islower()\n",
    "'ABC'.islower()"
   ]
  },
  {
   "cell_type": "code",
   "execution_count": 106,
   "id": "34a454d6",
   "metadata": {},
   "outputs": [
    {
     "data": {
      "text/plain": [
       "False"
      ]
     },
     "execution_count": 106,
     "metadata": {},
     "output_type": "execute_result"
    }
   ],
   "source": [
    "'ABC'.isupper()\n",
    "'AbC'.isupper()\n",
    "'abc'.isupper()"
   ]
  },
  {
   "cell_type": "code",
   "execution_count": 107,
   "id": "0939687b",
   "metadata": {},
   "outputs": [
    {
     "data": {
      "text/plain": [
       "True"
      ]
     },
     "execution_count": 107,
     "metadata": {},
     "output_type": "execute_result"
    }
   ],
   "source": [
    "'user_car'.endswith('car')\n",
    "'user_car'.endswith('car', 4)       # check from index 4 to end of string\n",
    "'user_car'.endswith('car', 5, 7)    # To check from index 5 to 7\n",
    "'user_car'.endswith('car',4, 8)     # To check from index 4 to 8\n",
    "'user_car'.endswith(('car', 'ar'), 4, 8)   # we check from index 4 to 8"
   ]
  },
  {
   "cell_type": "code",
   "execution_count": 108,
   "id": "fdbae6d2",
   "metadata": {},
   "outputs": [
    {
     "name": "stdout",
     "output_type": "stream",
     "text": [
      "Enter the given input value: abc\n",
      "Abc\n"
     ]
    }
   ],
   "source": [
    "def cap(s):\n",
    "    for x in s.split():\n",
    "        s = s.replace(x, x.capitalize())\n",
    "    print(s)\n",
    "s= input('Enter the given input value: ')\n",
    "cap(s)"
   ]
  },
  {
   "cell_type": "code",
   "execution_count": 3,
   "id": "e12ffb62",
   "metadata": {},
   "outputs": [
    {
     "data": {
      "text/plain": [
       "'Python is powerful language'"
      ]
     },
     "execution_count": 3,
     "metadata": {},
     "output_type": "execute_result"
    }
   ],
   "source": [
    "string = 'python is powerful language'\n",
    "string.capitalize() "
   ]
  },
  {
   "cell_type": "code",
   "execution_count": 4,
   "id": "f812e481",
   "metadata": {},
   "outputs": [
    {
     "data": {
      "text/plain": [
       "'1st programming language'"
      ]
     },
     "execution_count": 4,
     "metadata": {},
     "output_type": "execute_result"
    }
   ],
   "source": [
    "string = '1st programming language'\n",
    "string.capitalize() "
   ]
  },
  {
   "cell_type": "code",
   "execution_count": 5,
   "id": "4a1f6f70",
   "metadata": {},
   "outputs": [
    {
     "data": {
      "text/plain": [
       "'Python is powerful programming language'"
      ]
     },
     "execution_count": 5,
     "metadata": {},
     "output_type": "execute_result"
    }
   ],
   "source": [
    "string = 'pYTHON IS POWERFUL PROGRAMMING LANGUAGE'\n",
    "string.swapcase() "
   ]
  },
  {
   "cell_type": "code",
   "execution_count": 6,
   "id": "27d6d9f9",
   "metadata": {
    "scrolled": false
   },
   "outputs": [
    {
     "data": {
      "text/plain": [
       "'Python The Powerful Programming Language'"
      ]
     },
     "execution_count": 6,
     "metadata": {},
     "output_type": "execute_result"
    }
   ],
   "source": [
    "string = 'Python the powerful programming language'\n",
    "string.title()"
   ]
  },
  {
   "cell_type": "code",
   "execution_count": 110,
   "id": "c3349485",
   "metadata": {
    "scrolled": true
   },
   "outputs": [
    {
     "data": {
      "text/plain": [
       "'This is my car'"
      ]
     },
     "execution_count": 110,
     "metadata": {},
     "output_type": "execute_result"
    }
   ],
   "source": [
    "'This is user car'.replace('user', 'my')"
   ]
  },
  {
   "cell_type": "code",
   "execution_count": 111,
   "id": "a43a7ac8",
   "metadata": {},
   "outputs": [
    {
     "data": {
      "text/plain": [
       "'Thic ic ucer car'"
      ]
     },
     "execution_count": 111,
     "metadata": {},
     "output_type": "execute_result"
    }
   ],
   "source": [
    "#In order to replace a character many times:\n",
    "'This is user car'.replace('s', 'c', 3)"
   ]
  },
  {
   "cell_type": "code",
   "execution_count": 112,
   "id": "6a3aa91d",
   "metadata": {},
   "outputs": [
    {
     "name": "stdout",
     "output_type": "stream",
     "text": [
      "g0OD moRNing to alL\n",
      "good morning to all\n",
      "G0OD MORNING TO ALL\n",
      "13\n",
      "13\n"
     ]
    }
   ],
   "source": [
    "print (\"g0OD moRNing to alL\".replace('all', ' everybody'))\n",
    "print (\"gOoD moRNing to alL\".lower())\n",
    "print (\"g0OD moRNing to all\".upper())\n",
    "print (\"gooD moRNing to all\".find('to'))"
   ]
  },
  {
   "cell_type": "markdown",
   "id": "89cffb99",
   "metadata": {},
   "source": [
    "### List -> String"
   ]
  },
  {
   "cell_type": "code",
   "execution_count": 98,
   "id": "cda6f6e0",
   "metadata": {},
   "outputs": [
    {
     "data": {
      "text/plain": [
       "'Zheng, Sam'"
      ]
     },
     "execution_count": 98,
     "metadata": {},
     "output_type": "execute_result"
    }
   ],
   "source": [
    "list('Hair toss!')           # => ['H', 'a', 'i', 'r', ' ', 't', 'o', 's', 's', '!']\n",
    "'ham cheese bacon'.split()   # => ['ham', 'cheese', 'bacon']\n",
    "'3-14-2015'.split(sep='-')   # => ['3', '14', '2015']\n",
    "', '.join(['Zheng', 'Sam'])  # => 'Zheng, Sam'"
   ]
  },
  {
   "cell_type": "markdown",
   "id": "d3f90344",
   "metadata": {},
   "source": [
    "Useful String Methods"
   ]
  },
  {
   "cell_type": "code",
   "execution_count": 99,
   "id": "92db47b0",
   "metadata": {},
   "outputs": [
    {
     "data": {
      "text/plain": [
       "'ello! Love, unico'"
      ]
     },
     "execution_count": 99,
     "metadata": {},
     "output_type": "execute_result"
    }
   ],
   "source": [
    "greeting = \"Hello! Love, unicorn. \"\n",
    "greeting.find('lo') # => 3 (-1 if not found)\n",
    "greeting.replace('ello','iya') # => Hiya! Love, Unicorn.\n",
    "greeting.startswith('Hell') # => True\n",
    "greeting.endswith(' ') # => True\n",
    "greeting.isalpha() # => False\n",
    "greeting.lower() # => 'hello! love, unicorn.'\n",
    "greeting.title() # => 'Hello! Love, Unicorn.'\n",
    "greeting.upper() # => 'HELLO! LOVE, UNICORN.'\n",
    "greeting.strip() # => 'Hello! Love, unicorn.'\n",
    "greeting.strip('.nrH ') # => 'ello! Love, unico'"
   ]
  },
  {
   "cell_type": "markdown",
   "id": "3adde7eb",
   "metadata": {},
   "source": [
    "- 反斜杠字符\\是轉義字符，表示用於指定特殊字符，例如換行符\\ n或Unicode字符。 \n",
    "- 要編寫帶有反斜杠的字符串文字，您需要對其進行轉義： "
   ]
  },
  {
   "cell_type": "code",
   "execution_count": 48,
   "id": "5afef1dc",
   "metadata": {
    "scrolled": true
   },
   "outputs": [
    {
     "name": "stdout",
     "output_type": "stream",
     "text": [
      "12\\34\n"
     ]
    }
   ],
   "source": [
    "s = '12\\\\34'\n",
    "print(s)"
   ]
  },
  {
   "cell_type": "code",
   "execution_count": null,
   "id": "1c3b5299",
   "metadata": {},
   "outputs": [],
   "source": [
    "msg1=  \"I’m\"\n",
    "msg1=  \"I\\’m\"\n",
    "msg2=  \"I can’t\"\n",
    "msg2 = \" can\\’t\"\n",
    "print(msg1+\" \"+msg2)"
   ]
  },
  {
   "cell_type": "markdown",
   "id": "8546cf09",
   "metadata": {},
   "source": [
    "- 您可以在字符串的開頭加上r開頭，這意味著應該按原樣解釋字符： "
   ]
  },
  {
   "cell_type": "code",
   "execution_count": 49,
   "id": "05f00f38",
   "metadata": {},
   "outputs": [
    {
     "data": {
      "text/plain": [
       "'this\\\\has\\\\no\\\\special\\\\characters'"
      ]
     },
     "execution_count": 49,
     "metadata": {},
     "output_type": "execute_result"
    }
   ],
   "source": [
    "s = r'this\\has\\no\\special\\characters'\n",
    "s"
   ]
  },
  {
   "cell_type": "markdown",
   "id": "972e19c8",
   "metadata": {},
   "source": [
    "#### Bytes and Unicode\n",
    "\n",
    "在 Python 3 中，Unicode已成為一流的字符串類型，可以更一致地處理ASCII和非ASCII文本。 "
   ]
  },
  {
   "cell_type": "code",
   "execution_count": 98,
   "id": "acde5e21",
   "metadata": {},
   "outputs": [
    {
     "data": {
      "text/plain": [
       "'español'"
      ]
     },
     "execution_count": 98,
     "metadata": {},
     "output_type": "execute_result"
    }
   ],
   "source": [
    "val = \"español\"\n",
    "val"
   ]
  },
  {
   "cell_type": "code",
   "execution_count": 99,
   "id": "7afc3074",
   "metadata": {},
   "outputs": [
    {
     "data": {
      "text/plain": [
       "b'espa\\xc3\\xb1ol'"
      ]
     },
     "execution_count": 99,
     "metadata": {},
     "output_type": "execute_result"
    }
   ],
   "source": [
    "val.encode('utf-8')  #b'espa\\xc3\\xb1ol'"
   ]
  },
  {
   "cell_type": "code",
   "execution_count": 100,
   "id": "915ff6e2",
   "metadata": {},
   "outputs": [
    {
     "data": {
      "text/plain": [
       "'español'"
      ]
     },
     "execution_count": 100,
     "metadata": {},
     "output_type": "execute_result"
    }
   ],
   "source": [
    "val_utf8.decode('utf-8')"
   ]
  },
  {
   "cell_type": "code",
   "execution_count": 56,
   "id": "78e1dab7",
   "metadata": {},
   "outputs": [
    {
     "data": {
      "text/plain": [
       "b'e\\x00s\\x00p\\x00a\\x00\\xf1\\x00o\\x00l\\x00'"
      ]
     },
     "execution_count": 56,
     "metadata": {},
     "output_type": "execute_result"
    }
   ],
   "source": [
    "val.encode('latin1')\n",
    "val.encode('utf-16')\n",
    "val.encode('utf-16le')"
   ]
  },
  {
   "cell_type": "markdown",
   "id": "d50ea3f0",
   "metadata": {},
   "source": [
    "#### Tuple to List"
   ]
  },
  {
   "cell_type": "code",
   "execution_count": 9,
   "id": "2156cc6f",
   "metadata": {},
   "outputs": [
    {
     "data": {
      "text/plain": [
       "('foo', 'bar', 'baz')"
      ]
     },
     "execution_count": 9,
     "metadata": {},
     "output_type": "execute_result"
    }
   ],
   "source": [
    "tup = ('foo', 'bar', 'baz')\n",
    "tup"
   ]
  },
  {
   "cell_type": "code",
   "execution_count": 10,
   "id": "995d527c",
   "metadata": {},
   "outputs": [
    {
     "data": {
      "text/plain": [
       "['foo', 'bar', 'baz']"
      ]
     },
     "execution_count": 10,
     "metadata": {},
     "output_type": "execute_result"
    }
   ],
   "source": [
    "list(tup)"
   ]
  },
  {
   "cell_type": "code",
   "execution_count": 4,
   "id": "534de24e",
   "metadata": {},
   "outputs": [
    {
     "data": {
      "text/plain": [
       "range(0, 10)"
      ]
     },
     "execution_count": 4,
     "metadata": {},
     "output_type": "execute_result"
    }
   ],
   "source": [
    "gen = range(10)\n",
    "gen"
   ]
  },
  {
   "cell_type": "code",
   "execution_count": 5,
   "id": "abda5413",
   "metadata": {},
   "outputs": [
    {
     "data": {
      "text/plain": [
       "[0, 1, 2, 3, 4, 5, 6, 7, 8, 9]"
      ]
     },
     "execution_count": 5,
     "metadata": {},
     "output_type": "execute_result"
    }
   ],
   "source": [
    "list(gen)"
   ]
  },
  {
   "cell_type": "markdown",
   "id": "83e8895c",
   "metadata": {},
   "source": [
    "#### Adding and removing elements"
   ]
  },
  {
   "cell_type": "code",
   "execution_count": 15,
   "id": "f8fadfa1",
   "metadata": {},
   "outputs": [
    {
     "data": {
      "text/plain": [
       "['a', 'b', 'c', 'dwarf']"
      ]
     },
     "execution_count": 15,
     "metadata": {},
     "output_type": "execute_result"
    }
   ],
   "source": [
    "b_list=list(\"abc\")\n",
    "b_list.append('dwarf')\n",
    "b_list"
   ]
  },
  {
   "cell_type": "code",
   "execution_count": 15,
   "id": "4e3321c6",
   "metadata": {},
   "outputs": [
    {
     "data": {
      "text/plain": [
       "['a', 'red', 'b', 'c', 'dwarf']"
      ]
     },
     "execution_count": 15,
     "metadata": {},
     "output_type": "execute_result"
    }
   ],
   "source": [
    "b_list.insert(1, 'red')\n",
    "b_list"
   ]
  },
  {
   "cell_type": "code",
   "execution_count": 16,
   "id": "3a6fa752",
   "metadata": {},
   "outputs": [
    {
     "data": {
      "text/plain": [
       "['a', 'red', 'c', 'dwarf']"
      ]
     },
     "execution_count": 16,
     "metadata": {},
     "output_type": "execute_result"
    }
   ],
   "source": [
    "b_list.pop(2)\n",
    "b_list"
   ]
  },
  {
   "cell_type": "code",
   "execution_count": 12,
   "id": "71357f21",
   "metadata": {},
   "outputs": [
    {
     "data": {
      "text/plain": [
       "['foo', 'peekaboo', 'baz', 'foo']"
      ]
     },
     "execution_count": 12,
     "metadata": {},
     "output_type": "execute_result"
    }
   ],
   "source": [
    "b_list.append('foo')\n",
    "b_list"
   ]
  },
  {
   "cell_type": "code",
   "execution_count": 13,
   "id": "12e75581",
   "metadata": {},
   "outputs": [
    {
     "data": {
      "text/plain": [
       "['peekaboo', 'baz', 'foo']"
      ]
     },
     "execution_count": 13,
     "metadata": {},
     "output_type": "execute_result"
    }
   ],
   "source": [
    "b_list.remove('foo')\n",
    "b_list"
   ]
  },
  {
   "cell_type": "code",
   "execution_count": 14,
   "id": "0ca2f2e1",
   "metadata": {},
   "outputs": [
    {
     "data": {
      "text/plain": [
       "True"
      ]
     },
     "execution_count": 14,
     "metadata": {},
     "output_type": "execute_result"
    }
   ],
   "source": [
    "'dwarf' in b_list\n",
    "'dwarf' not in b_list"
   ]
  },
  {
   "cell_type": "markdown",
   "id": "ab8e30c2",
   "metadata": {},
   "source": [
    "#### Concatenating and combining lists"
   ]
  },
  {
   "cell_type": "code",
   "execution_count": 19,
   "id": "99b0c289",
   "metadata": {},
   "outputs": [
    {
     "data": {
      "text/plain": [
       "[4, None, 'foo', 7, 8, (2, 3)]"
      ]
     },
     "execution_count": 19,
     "metadata": {},
     "output_type": "execute_result"
    }
   ],
   "source": [
    "[4, None, 'foo'] + [7, 8, (2, 3)]"
   ]
  },
  {
   "cell_type": "code",
   "execution_count": 20,
   "id": "f58a4b41",
   "metadata": {},
   "outputs": [
    {
     "data": {
      "text/plain": [
       "[4, None, 'foo', 7, 8, (2, 3)]"
      ]
     },
     "execution_count": 20,
     "metadata": {},
     "output_type": "execute_result"
    }
   ],
   "source": [
    "x = [4, None, 'foo']\n",
    "x.extend([7, 8, (2, 3)])\n",
    "x"
   ]
  },
  {
   "cell_type": "markdown",
   "id": "c1c083b2",
   "metadata": {},
   "source": [
    "#### Sorting"
   ]
  },
  {
   "cell_type": "code",
   "execution_count": 21,
   "id": "31e5a5e4",
   "metadata": {},
   "outputs": [
    {
     "data": {
      "text/plain": [
       "[1, 2, 3, 5, 7]"
      ]
     },
     "execution_count": 21,
     "metadata": {},
     "output_type": "execute_result"
    }
   ],
   "source": [
    "a = [7, 2, 5, 1, 3]\n",
    "a.sort()\n",
    "a"
   ]
  },
  {
   "cell_type": "code",
   "execution_count": 22,
   "id": "814d4f6d",
   "metadata": {},
   "outputs": [
    {
     "data": {
      "text/plain": [
       "['He', 'saw', 'six', 'small', 'foxes']"
      ]
     },
     "execution_count": 22,
     "metadata": {},
     "output_type": "execute_result"
    }
   ],
   "source": [
    "b = ['saw', 'small', 'He', 'foxes', 'six']\n",
    "b.sort(key=len)\n",
    "b"
   ]
  },
  {
   "cell_type": "markdown",
   "id": "15ebf34b",
   "metadata": {},
   "source": [
    "#### Binary search and maintaining a sorted list"
   ]
  },
  {
   "cell_type": "code",
   "execution_count": 23,
   "id": "868f74f9",
   "metadata": {},
   "outputs": [
    {
     "data": {
      "text/plain": [
       "[1, 2, 2, 2, 3, 4, 6, 7]"
      ]
     },
     "execution_count": 23,
     "metadata": {},
     "output_type": "execute_result"
    }
   ],
   "source": [
    "import bisect\n",
    "c = [1, 2, 2, 2, 3, 4, 7]\n",
    "bisect.bisect(c, 2)\n",
    "bisect.bisect(c, 5)\n",
    "bisect.insort(c, 6)\n",
    "c"
   ]
  },
  {
   "cell_type": "markdown",
   "id": "4102a469",
   "metadata": {},
   "source": [
    "#### Slicing"
   ]
  },
  {
   "cell_type": "code",
   "execution_count": 24,
   "id": "bf630346",
   "metadata": {},
   "outputs": [
    {
     "data": {
      "text/plain": [
       "[7, 2, 3, 0, 0, 5, 6, 0, 1]"
      ]
     },
     "execution_count": 24,
     "metadata": {},
     "output_type": "execute_result"
    }
   ],
   "source": [
    "seq = [7, 2, 3, 7, 5, 6, 0, 1]\n",
    "seq[3:4] = [0, 0]\n",
    "seq"
   ]
  },
  {
   "cell_type": "code",
   "execution_count": 25,
   "id": "b03ec35d",
   "metadata": {},
   "outputs": [
    {
     "data": {
      "text/plain": [
       "[0, 0, 5, 6, 0, 1]"
      ]
     },
     "execution_count": 25,
     "metadata": {},
     "output_type": "execute_result"
    }
   ],
   "source": [
    "seq[:5]\n",
    "seq[3:]"
   ]
  },
  {
   "cell_type": "code",
   "execution_count": 26,
   "id": "9327aba5",
   "metadata": {},
   "outputs": [
    {
     "data": {
      "text/plain": [
       "[5, 6, 0, 1]"
      ]
     },
     "execution_count": 26,
     "metadata": {},
     "output_type": "execute_result"
    }
   ],
   "source": [
    "seq[-4:]"
   ]
  },
  {
   "cell_type": "code",
   "execution_count": 27,
   "id": "27ba12e4",
   "metadata": {},
   "outputs": [
    {
     "data": {
      "text/plain": [
       "[0, 0, 5, 6]"
      ]
     },
     "execution_count": 27,
     "metadata": {},
     "output_type": "execute_result"
    }
   ],
   "source": [
    "seq[-6:-2]"
   ]
  },
  {
   "cell_type": "code",
   "execution_count": 28,
   "id": "8d73a691",
   "metadata": {},
   "outputs": [
    {
     "data": {
      "text/plain": [
       "[7, 3, 0, 6, 1]"
      ]
     },
     "execution_count": 28,
     "metadata": {},
     "output_type": "execute_result"
    }
   ],
   "source": [
    "seq[::2]"
   ]
  },
  {
   "cell_type": "code",
   "execution_count": 29,
   "id": "cb1f1db0",
   "metadata": {},
   "outputs": [
    {
     "data": {
      "text/plain": [
       "[1, 0, 6, 5, 0, 0, 3, 2, 7]"
      ]
     },
     "execution_count": 29,
     "metadata": {},
     "output_type": "execute_result"
    }
   ],
   "source": [
    "seq[::-1]"
   ]
  },
  {
   "cell_type": "markdown",
   "id": "d8b145b9",
   "metadata": {},
   "source": [
    "### Built-in Sequence Functions"
   ]
  },
  {
   "cell_type": "markdown",
   "id": "11a95f4b",
   "metadata": {},
   "source": [
    "for i, value in enumerate(collection):\n",
    "   # do something with value"
   ]
  },
  {
   "cell_type": "code",
   "execution_count": 30,
   "id": "c0c46580",
   "metadata": {},
   "outputs": [
    {
     "data": {
      "text/plain": [
       "{'foo': 0, 'bar': 1, 'baz': 2}"
      ]
     },
     "execution_count": 30,
     "metadata": {},
     "output_type": "execute_result"
    }
   ],
   "source": [
    "some_list = ['foo', 'bar', 'baz']\n",
    "mapping = {}\n",
    "for i, v in enumerate(some_list):\n",
    "    mapping[v] = i\n",
    "mapping"
   ]
  },
  {
   "cell_type": "markdown",
   "id": "db488fb8",
   "metadata": {},
   "source": [
    "#### sorted"
   ]
  },
  {
   "cell_type": "code",
   "execution_count": 31,
   "id": "f7efb8fb",
   "metadata": {
    "scrolled": true
   },
   "outputs": [
    {
     "data": {
      "text/plain": [
       "[0, 1, 2, 2, 3, 6, 7]"
      ]
     },
     "execution_count": 31,
     "metadata": {},
     "output_type": "execute_result"
    }
   ],
   "source": [
    "sorted([7, 1, 2, 6, 0, 3, 2])"
   ]
  },
  {
   "cell_type": "code",
   "execution_count": 32,
   "id": "75d94d43",
   "metadata": {},
   "outputs": [
    {
     "data": {
      "text/plain": [
       "[' ', 'a', 'c', 'e', 'e', 'h', 'o', 'r', 'r', 's']"
      ]
     },
     "execution_count": 32,
     "metadata": {},
     "output_type": "execute_result"
    }
   ],
   "source": [
    "sorted('horse race')"
   ]
  },
  {
   "cell_type": "markdown",
   "id": "dd44011d",
   "metadata": {},
   "source": [
    "#### zip"
   ]
  },
  {
   "cell_type": "code",
   "execution_count": 33,
   "id": "4d25ca1d",
   "metadata": {},
   "outputs": [
    {
     "data": {
      "text/plain": [
       "[('foo', 'one'), ('bar', 'two'), ('baz', 'three')]"
      ]
     },
     "execution_count": 33,
     "metadata": {},
     "output_type": "execute_result"
    }
   ],
   "source": [
    "seq1 = ['foo', 'bar', 'baz']\n",
    "seq2 = ['one', 'two', 'three']\n",
    "zipped = zip(seq1, seq2)\n",
    "list(zipped)"
   ]
  },
  {
   "cell_type": "code",
   "execution_count": 34,
   "id": "b7af2d68",
   "metadata": {},
   "outputs": [
    {
     "data": {
      "text/plain": [
       "[('foo', 'one', False), ('bar', 'two', True)]"
      ]
     },
     "execution_count": 34,
     "metadata": {},
     "output_type": "execute_result"
    }
   ],
   "source": [
    "seq3 = [False, True]\n",
    "list(zip(seq1, seq2, seq3))"
   ]
  },
  {
   "cell_type": "code",
   "execution_count": 35,
   "id": "44cfb2ef",
   "metadata": {},
   "outputs": [
    {
     "name": "stdout",
     "output_type": "stream",
     "text": [
      "0: foo, one\n",
      "1: bar, two\n",
      "2: baz, three\n"
     ]
    }
   ],
   "source": [
    "for i, (a, b) in enumerate(zip(seq1, seq2)):\n",
    "    print('{0}: {1}, {2}'.format(i, a, b))"
   ]
  },
  {
   "cell_type": "code",
   "execution_count": 36,
   "id": "c5a0d129",
   "metadata": {},
   "outputs": [
    {
     "data": {
      "text/plain": [
       "('Nolan', 'Roger', 'Schilling')"
      ]
     },
     "execution_count": 36,
     "metadata": {},
     "output_type": "execute_result"
    }
   ],
   "source": [
    "pitchers = [('Nolan', 'Ryan'), ('Roger', 'Clemens'), ('Schilling', 'Curt')]\n",
    "first_names, last_names = zip(*pitchers)\n",
    "first_names\n",
    "#last_names"
   ]
  },
  {
   "cell_type": "markdown",
   "id": "849d4e22",
   "metadata": {},
   "source": [
    "#### reversed"
   ]
  },
  {
   "cell_type": "code",
   "execution_count": 37,
   "id": "e01d44d2",
   "metadata": {},
   "outputs": [
    {
     "data": {
      "text/plain": [
       "[9, 8, 7, 6, 5, 4, 3, 2, 1, 0]"
      ]
     },
     "execution_count": 37,
     "metadata": {},
     "output_type": "execute_result"
    }
   ],
   "source": [
    "list(reversed(range(10)))"
   ]
  },
  {
   "cell_type": "markdown",
   "id": "6183c74f",
   "metadata": {},
   "source": [
    "### Split - Formatting strings: Adding and removing spaces\n",
    "\n",
    "從字符串的開頭或結尾刪除空格（或其他字符）。刪除字符的基本方法是 ``strip()`` 方法，它從行的開頭和結尾去除空格："
   ]
  },
  {
   "cell_type": "code",
   "execution_count": 1,
   "id": "83881c4e",
   "metadata": {},
   "outputs": [
    {
     "data": {
      "text/plain": [
       "'this is the content'"
      ]
     },
     "execution_count": 1,
     "metadata": {},
     "output_type": "execute_result"
    }
   ],
   "source": [
    "line = '         this is the content         '\n",
    "line.strip()"
   ]
  },
  {
   "cell_type": "code",
   "execution_count": 3,
   "id": "2657e57d",
   "metadata": {},
   "outputs": [
    {
     "data": {
      "text/plain": [
       "'         this is the content'"
      ]
     },
     "execution_count": 3,
     "metadata": {},
     "output_type": "execute_result"
    }
   ],
   "source": [
    "line.rstrip()"
   ]
  },
  {
   "cell_type": "code",
   "execution_count": 4,
   "id": "3d6fa915",
   "metadata": {},
   "outputs": [
    {
     "data": {
      "text/plain": [
       "'this is the content         '"
      ]
     },
     "execution_count": 4,
     "metadata": {},
     "output_type": "execute_result"
    }
   ],
   "source": [
    "line.lstrip()"
   ]
  },
  {
   "cell_type": "code",
   "execution_count": 5,
   "id": "a2b6f460",
   "metadata": {},
   "outputs": [
    {
     "data": {
      "text/plain": [
       "'435'"
      ]
     },
     "execution_count": 5,
     "metadata": {},
     "output_type": "execute_result"
    }
   ],
   "source": [
    "num = \"000000000000435\"\n",
    "num.strip('0')"
   ]
  },
  {
   "cell_type": "code",
   "execution_count": 6,
   "id": "86b272f5",
   "metadata": {},
   "outputs": [
    {
     "data": {
      "text/plain": [
       "'     this is the content      '"
      ]
     },
     "execution_count": 6,
     "metadata": {},
     "output_type": "execute_result"
    }
   ],
   "source": [
    "line = \"this is the content\"\n",
    "line.center(30)"
   ]
  },
  {
   "cell_type": "code",
   "execution_count": 7,
   "id": "5ff307de",
   "metadata": {},
   "outputs": [
    {
     "data": {
      "text/plain": [
       "'this is the content           '"
      ]
     },
     "execution_count": 7,
     "metadata": {},
     "output_type": "execute_result"
    }
   ],
   "source": [
    "line.ljust(30)"
   ]
  },
  {
   "cell_type": "code",
   "execution_count": 8,
   "id": "4975b735",
   "metadata": {},
   "outputs": [
    {
     "data": {
      "text/plain": [
       "'           this is the content'"
      ]
     },
     "execution_count": 8,
     "metadata": {},
     "output_type": "execute_result"
    }
   ],
   "source": [
    "line.rjust(30)"
   ]
  },
  {
   "cell_type": "code",
   "execution_count": 9,
   "id": "07c6f735",
   "metadata": {},
   "outputs": [
    {
     "data": {
      "text/plain": [
       "'0000000435'"
      ]
     },
     "execution_count": 9,
     "metadata": {},
     "output_type": "execute_result"
    }
   ],
   "source": [
    "'435'.rjust(10, '0')"
   ]
  },
  {
   "cell_type": "code",
   "execution_count": 10,
   "id": "64360ee5",
   "metadata": {},
   "outputs": [
    {
     "data": {
      "text/plain": [
       "'0000000435'"
      ]
     },
     "execution_count": 10,
     "metadata": {},
     "output_type": "execute_result"
    }
   ],
   "source": [
    "'435'.zfill(10)"
   ]
  },
  {
   "cell_type": "code",
   "execution_count": 11,
   "id": "2aa1138a",
   "metadata": {},
   "outputs": [
    {
     "data": {
      "text/plain": [
       "False"
      ]
     },
     "execution_count": 11,
     "metadata": {},
     "output_type": "execute_result"
    }
   ],
   "source": [
    "line.endswith('dog')"
   ]
  },
  {
   "cell_type": "code",
   "execution_count": 12,
   "id": "697e6836",
   "metadata": {},
   "outputs": [
    {
     "data": {
      "text/plain": [
       "False"
      ]
     },
     "execution_count": 12,
     "metadata": {},
     "output_type": "execute_result"
    }
   ],
   "source": [
    "line.startswith('fox')"
   ]
  },
  {
   "cell_type": "code",
   "execution_count": 13,
   "id": "9a52d2e1",
   "metadata": {},
   "outputs": [
    {
     "data": {
      "text/plain": [
       "['matsushima-ya', 'aah matsushima-ya', 'matsushima-ya']"
      ]
     },
     "execution_count": 13,
     "metadata": {},
     "output_type": "execute_result"
    }
   ],
   "source": [
    "haiku = \"\"\"matsushima-ya\n",
    "aah matsushima-ya\n",
    "matsushima-ya\"\"\"\n",
    "\n",
    "haiku.splitlines()"
   ]
  },
  {
   "cell_type": "code",
   "execution_count": 122,
   "id": "a9908675",
   "metadata": {},
   "outputs": [
    {
     "name": "stdout",
     "output_type": "stream",
     "text": [
      "['蛋糕', '蘋果', '香蕉', '牛奶']\n"
     ]
    }
   ],
   "source": [
    "# 可變物件 (list, set, dict) : 物件所指向的「記憶體中的值能否」被改變\n",
    "fridge = ['蛋糕', '蘋果', '香蕉'] # 記錄冰箱存放的東西: 當修改b裡面的值內容時，fridge的內容也會真的受到影響。\n",
    "b = fridge\n",
    "b+= ['牛奶']\n",
    "print(fridge) "
   ]
  },
  {
   "cell_type": "markdown",
   "id": "6c007354",
   "metadata": {},
   "source": [
    "### Read data"
   ]
  },
  {
   "cell_type": "code",
   "execution_count": 101,
   "id": "5a55da59",
   "metadata": {},
   "outputs": [
    {
     "name": "stdout",
     "output_type": "stream",
     "text": [
      "Aeque enim contingit omnibus fidibus, ut incontentae sint.\n",
      "Lorem ipsum dolor sit amet, consectetur adipiscing elit. Quae cum ita sint, effectum est nihil esse malum, quod turpe non sit. Itaque nostrum est-quod nostrum dico, artis est-ad ea principia, quae accepimus. Quod totum contra est. Duo Reges: constructio interrete. Atqui iste locus est, Piso, tibi etiam atque etiam confirmandus, inquam; Quamvis enim depravatae non sint, pravae tamen esse possunt. Duarum enim vitarum nobis erunt instituta capienda.\n",
      "\n",
      "Non igitur de improbo, sed de callido improbo quaerimus, qualis Q. Audio equidem philosophi vocem, Epicure, sed quid tibi dicendum sit oblitus es. Ex ea difficultate illae fallaciloquae, ut ait Accius, malitiae natae sunt. At multis malis affectus. Nam quibus rebus efficiuntur voluptates, eae non sunt in potestate sapientis. Quis est tam dissimile homini. Ut proverbia non nulla veriora sint quam vestra dogmata. Si quicquam extra virtutem habeatur in bonis. Sed plane dicit quod intellegit. Paulum, cum regem Persem captum adduceret, eodem flumine invectio?\n",
      "\n",
      "Qui ita affectus, beatum esse numquam probabis; Sed nimis multa. Nam prius a se poterit quisque discedere quam appetitum earum rerum, quae sibi conducant, amittere. Familiares nostros, credo, Sironem dicis et Philodemum, cum optimos viros, tum homines doctissimos. Quod iam a me expectare noli. Quid ergo?\n",
      "\n",
      "Eademne, quae restincta siti? Ita relinquet duas, de quibus etiam atque etiam consideret. Illa videamus, quae a te de amicitia dicta sunt. Eaedem res maneant alio modo. Quid ergo attinet gloriose loqui, nisi constanter loquare? Prioris generis est docilitas, memoria; Portenta haec esse dicit, neque ea ratione ullo modo posse vivi; Beatum, inquit. Bestiarum vero nullum iudicium puto.\n",
      "\n",
      "Quem Tiberina descensio festo illo die tanto gaudio affecit, quanto L. Quorum sine causa fieri nihil putandum est. Tria genera bonorum; Nunc dicam de voluptate, nihil scilicet novi, ea tamen, quae te ipsum probaturum esse confidam. Illud dico, ea, quae dicat, praeclare inter se cohaerere. Fortemne possumus dicere eundem illum Torquatum? Hoc tu nunc in illo probas. Cur post Tarentum ad Archytam?\n",
      "\n",
      "Indicant pueri, in quibus ut in speculis natura cernitur.\n",
      "Sed tamen est aliquid, quod nobis non liceat, liceat illis. Virtutis, magnitudinis animi, patientiae, fortitudinis fomentis dolor mitigari solet. Piso igitur hoc modo, vir optimus tuique, ut scis, amantissimus. Non prorsus, inquit, omnisque, qui sine dolore sint, in voluptate, et ea quidem summa, esse dico. Potius inflammat, ut coercendi magis quam dedocendi esse videantur. Virtutis, magnitudinis animi, patientiae, fortitudinis fomentis dolor mitigari solet. Quae fere omnia appellantur uno ingenii nomine, easque virtutes qui habent, ingeniosi vocantur. Nec enim, dum metuit, iustus est, et certe, si metuere destiterit, non erit;\n"
     ]
    }
   ],
   "source": [
    "# 讀取純文字檔案\n",
    "text=\"\"\n",
    "with open(\"data/sample.txt\",\"r\") as f:\n",
    "    text = f.read()\n",
    "    print(text)"
   ]
  },
  {
   "cell_type": "code",
   "execution_count": 113,
   "id": "a365e489",
   "metadata": {},
   "outputs": [
    {
     "name": "stdout",
     "output_type": "stream",
     "text": [
      "[['Aeque enim contingit omnibus fidibus', ' ut incontentae sint.'], ['Lorem ipsum dolor sit amet', ' consectetur adipiscing elit. Quae cum ita sint', ' effectum est nihil esse malum', ' quod turpe non sit. Itaque nostrum est-quod nostrum dico', ' artis est-ad ea principia', ' quae accepimus. Quod totum contra est. Duo Reges: constructio interrete. Atqui iste locus est', ' Piso', ' tibi etiam atque etiam confirmandus', ' inquam; Quamvis enim depravatae non sint', ' pravae tamen esse possunt. Duarum enim vitarum nobis erunt instituta capienda.'], [''], ['Non igitur de improbo', ' sed de callido improbo quaerimus', ' qualis Q. Audio equidem philosophi vocem', ' Epicure', ' sed quid tibi dicendum sit oblitus es. Ex ea difficultate illae fallaciloquae', ' ut ait Accius', ' malitiae natae sunt. At multis malis affectus. Nam quibus rebus efficiuntur voluptates', ' eae non sunt in potestate sapientis. Quis est tam dissimile homini. Ut proverbia non nulla veriora sint quam vestra dogmata. Si quicquam extra virtutem habeatur in bonis. Sed plane dicit quod intellegit. Paulum', ' cum regem Persem captum adduceret', ' eodem flumine invectio?'], [''], ['Qui ita affectus', ' beatum esse numquam probabis; Sed nimis multa. Nam prius a se poterit quisque discedere quam appetitum earum rerum', ' quae sibi conducant', ' amittere. Familiares nostros', ' credo', ' Sironem dicis et Philodemum', ' cum optimos viros', ' tum homines doctissimos. Quod iam a me expectare noli. Quid ergo?'], [''], ['Eademne', ' quae restincta siti? Ita relinquet duas', ' de quibus etiam atque etiam consideret. Illa videamus', ' quae a te de amicitia dicta sunt. Eaedem res maneant alio modo. Quid ergo attinet gloriose loqui', ' nisi constanter loquare? Prioris generis est docilitas', ' memoria; Portenta haec esse dicit', ' neque ea ratione ullo modo posse vivi; Beatum', ' inquit. Bestiarum vero nullum iudicium puto.'], [''], ['Quem Tiberina descensio festo illo die tanto gaudio affecit', ' quanto L. Quorum sine causa fieri nihil putandum est. Tria genera bonorum; Nunc dicam de voluptate', ' nihil scilicet novi', ' ea tamen', ' quae te ipsum probaturum esse confidam. Illud dico', ' ea', ' quae dicat', ' praeclare inter se cohaerere. Fortemne possumus dicere eundem illum Torquatum? Hoc tu nunc in illo probas. Cur post Tarentum ad Archytam?'], [''], ['Indicant pueri', ' in quibus ut in speculis natura cernitur.'], ['Sed tamen est aliquid', ' quod nobis non liceat', ' liceat illis. Virtutis', ' magnitudinis animi', ' patientiae', ' fortitudinis fomentis dolor mitigari solet. Piso igitur hoc modo', ' vir optimus tuique', ' ut scis', ' amantissimus. Non prorsus', ' inquit', ' omnisque', ' qui sine dolore sint', ' in voluptate', ' et ea quidem summa', ' esse dico. Potius inflammat', ' ut coercendi magis quam dedocendi esse videantur. Virtutis', ' magnitudinis animi', ' patientiae', ' fortitudinis fomentis dolor mitigari solet. Quae fere omnia appellantur uno ingenii nomine', ' easque virtutes qui habent', ' ingeniosi vocantur. Nec enim', ' dum metuit', ' iustus est', ' et certe', ' si metuere destiterit', ' non erit;']]\n"
     ]
    }
   ],
   "source": [
    "# 逐行讀取\n",
    "data = []\n",
    "with open(\"data/sample.txt\",\"r\") as f:\n",
    "    for line in f:\n",
    "        line = line.strip()\n",
    "        data.append(line.split(\",\"))\n",
    "\n",
    "print(data)"
   ]
  },
  {
   "cell_type": "markdown",
   "id": "06dc7274",
   "metadata": {},
   "source": [
    "### Example"
   ]
  },
  {
   "cell_type": "code",
   "execution_count": 121,
   "id": "5e65e88a",
   "metadata": {},
   "outputs": [
    {
     "name": "stdout",
     "output_type": "stream",
     "text": [
      "It is @gmail.com \n"
     ]
    }
   ],
   "source": [
    "#reads email-id of a person in the form of a string and ensures that it\n",
    "#belongs to domain @gmail.com.(Assumption: No invalid characters are there in email-id).\n",
    "\n",
    "address = \"juck30808@gmail.com\"\n",
    "domain = \"@gmail.com\"\n",
    "\n",
    "if(address[(len(address)-len(domain)):])== (domain):\n",
    "    print(\"It is @gmail.com \")\n",
    "else:\n",
    "    print(\"It is Not belong to domain mail \")\n"
   ]
  },
  {
   "cell_type": "code",
   "execution_count": null,
   "id": "35b936f2",
   "metadata": {},
   "outputs": [],
   "source": []
  }
 ],
 "metadata": {
  "kernelspec": {
   "display_name": "Python 3 (ipykernel)",
   "language": "python",
   "name": "python3"
  },
  "language_info": {
   "codemirror_mode": {
    "name": "ipython",
    "version": 3
   },
   "file_extension": ".py",
   "mimetype": "text/x-python",
   "name": "python",
   "nbconvert_exporter": "python",
   "pygments_lexer": "ipython3",
   "version": "3.9.7"
  }
 },
 "nbformat": 4,
 "nbformat_minor": 5
}
