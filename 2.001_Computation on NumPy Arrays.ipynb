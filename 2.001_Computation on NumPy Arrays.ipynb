{
 "cells": [
  {
   "cell_type": "markdown",
   "id": "e2292b51",
   "metadata": {},
   "source": [
    "# Computation on NumPy Arrays: Universal Functions\n",
    "\n",
    "# NumPy數組運算：通用函數"
   ]
  },
  {
   "cell_type": "markdown",
   "id": "fb55936d",
   "metadata": {},
   "source": [
    "## The Slowness of Loops 循環，慢的實現\n",
    "\n",
    "> The relative sluggishness of Python generally manifests itself in situations where many small operations are being repeated – for instance looping over arrays to operate on each element.\n",
    "For example, imagine we have an array of values and we'd like to compute the reciprocal of each.\n",
    "A straightforward approach might look like this: This implementation probably feels fairly natural to someone from, say, a C or Java background. But if we measure the execution time of this code for a large input, we see that this operation is very slow, perhaps surprisingly so! We'll benchmark this with IPython's ``%timeit`` magic (discussed in [Profiling and Timing Code](01.07-Timing-and-Profiling.ipynb)):\n",
    "\n",
    "上面的代碼實現對於很多具有C或者Java語言背景的讀者來說是非常自然的。但是如果我們在一個很大的數據集上測量上面代碼的執行時間，我們會發現這個操作很慢，甚至慢的讓你吃驚。下面使用`%timeit`魔術指令（參見[性能測算和計時](01.07-Timing-and-Profiling.ipynb)）對一個大數據集進行測時：Python 當重複進行很多細微操作時表現相對低效，比方說一個數組中的每個元素進行循環操作。例如我們有一個數組，現在我們需要計算每個元素的倒數。"
   ]
  },
  {
   "cell_type": "code",
   "execution_count": null,
   "id": "8bcb41fd",
   "metadata": {},
   "outputs": [],
   "source": [
    "import numpy as np\n",
    "np.random.seed(0)\n",
    "\n",
    "def compute_reciprocals(values):\n",
    "    output = np.empty(len(values))\n",
    "    for i in range(len(values)):\n",
    "        output[i] = 1.0 / values[i]\n",
    "    return output\n",
    "        \n",
    "values = np.random.randint(1, 10, size=5)\n",
    "compute_reciprocals(values)"
   ]
  },
  {
   "cell_type": "code",
   "execution_count": null,
   "id": "17d23d50",
   "metadata": {},
   "outputs": [],
   "source": [
    "big_array = np.random.randint(1, 100, size=1000000)\n",
    "%timeit compute_reciprocals(big_array)"
   ]
  },
  {
   "cell_type": "markdown",
   "id": "5775f1e6",
   "metadata": {},
   "source": [
    "> It takes several seconds to compute these million operations and to store the result!\n",
    "When even cell phones have processing speeds measured in Giga-FLOPS (i.e., billions of numerical operations per second), this seems almost absurdly slow.\n",
    "It turns out that the bottleneck here is not the operations themselves, but the type-checking and function dispatches that CPython must do at each cycle of the loop.\n",
    "Each time the reciprocal is computed, Python first examines the object's type and does a dynamic lookup of the correct function to use for that type.\n",
    "If we were working in compiled code instead, this type specification would be known before the code executes and the result could be computed much more efficiently.\n",
    "\n",
    "這個操作對於百萬級的數據集耗時需要幾秒。當現在手機的每秒浮點數運算次數都已經已經達到10億級別，這實在是不可思議的慢了。通過分析發現瓶頸並不是代碼本身，而是每次循環時CPython必須執行的類型檢查和函數匹配。每次計算倒數時，Python首先需要檢查對象的類型，然後尋找一個最合適的函數對這種類型進行計算。如果我們使用編譯型的語言實現上面的代碼，每次計算的時候，類型和應該執行的函數都已經確定，因此執行的時間肯定短很多。"
   ]
  },
  {
   "cell_type": "markdown",
   "id": "c90ce790",
   "metadata": {},
   "source": [
    "## Introducing UFuncs UFuncs\n",
    "## 介紹\n",
    "\n",
    "> For many types of operations, NumPy provides a convenient interface into just this kind of statically typed, compiled routine. This is known as a *vectorized* operation.\n",
    "This can be accomplished by simply performing an operation on the array, which will then be applied to each element.\n",
    "This vectorized approach is designed to push the loop into the compiled layer that underlies NumPy, leading to much faster execution. Looking at the execution time for our big array, we see that it completes orders of magnitude faster than the Python loop:\n",
    "\n",
    "對於許多操作，NumPy都為這種靜態類型提供了編譯好的函數。被稱為*向量化*的操作。向量化操作可以簡單應用在數組上，實際上會應用在每一個元素上。實現原理就是將循環的部分放進NumPy編譯後的那個層次，從而提高性能。下面使用ufuncs來測算執行時間，我們可以看到執行時間相差了好幾個數量級："
   ]
  },
  {
   "cell_type": "code",
   "execution_count": null,
   "id": "9b32a52f",
   "metadata": {},
   "outputs": [],
   "source": [
    "print(compute_reciprocals(values))\n",
    "print(1.0 / values)"
   ]
  },
  {
   "cell_type": "code",
   "execution_count": null,
   "id": "71cd8dc2",
   "metadata": {},
   "outputs": [],
   "source": [
    "%timeit (1.0 / big_array)"
   ]
  },
  {
   "cell_type": "markdown",
   "id": "9c113380",
   "metadata": {},
   "source": [
    "> Vectorized operations in NumPy are implemented via *ufuncs*, whose main purpose is to quickly execute repeated operations on values in NumPy arrays.\n",
    "Ufuncs are extremely flexible – before we saw an operation between a scalar and an array, but we can also operate between two arrays:\n",
    "\n",
    "NumPy中的向量化操作是通過*ufuncs*實現的，其主要目的就是在NumPy數組中快速執行重複的元素操作。 Ufuncs是極端靈活的，我們上面看到是標量和數組間的操作，但是我們也可以將它們用在兩個數組之間："
   ]
  },
  {
   "cell_type": "code",
   "execution_count": null,
   "id": "600a3860",
   "metadata": {},
   "outputs": [],
   "source": [
    "np.arange(5) / np.arange(1, 6)"
   ]
  },
  {
   "cell_type": "code",
   "execution_count": 5,
   "id": "925f9b2a",
   "metadata": {},
   "outputs": [
    {
     "ename": "NameError",
     "evalue": "name 'np' is not defined",
     "output_type": "error",
     "traceback": [
      "\u001b[0;31m---------------------------------------------------------------------------\u001b[0m",
      "\u001b[0;31mNameError\u001b[0m                                 Traceback (most recent call last)",
      "\u001b[0;32m/var/folders/9q/486czkcn7lv5v0hwbt71twdc0000gn/T/ipykernel_11525/369276064.py\u001b[0m in \u001b[0;36m<module>\u001b[0;34m\u001b[0m\n\u001b[0;32m----> 1\u001b[0;31m \u001b[0mx\u001b[0m \u001b[0;34m=\u001b[0m \u001b[0mnp\u001b[0m\u001b[0;34m.\u001b[0m\u001b[0marange\u001b[0m\u001b[0;34m(\u001b[0m\u001b[0;36m9\u001b[0m\u001b[0;34m)\u001b[0m\u001b[0;34m.\u001b[0m\u001b[0mreshape\u001b[0m\u001b[0;34m(\u001b[0m\u001b[0;34m(\u001b[0m\u001b[0;36m3\u001b[0m\u001b[0;34m,\u001b[0m \u001b[0;36m3\u001b[0m\u001b[0;34m)\u001b[0m\u001b[0;34m)\u001b[0m\u001b[0;34m\u001b[0m\u001b[0;34m\u001b[0m\u001b[0m\n\u001b[0m\u001b[1;32m      2\u001b[0m \u001b[0;36m2\u001b[0m \u001b[0;34m**\u001b[0m \u001b[0mx\u001b[0m\u001b[0;34m\u001b[0m\u001b[0;34m\u001b[0m\u001b[0m\n",
      "\u001b[0;31mNameError\u001b[0m: name 'np' is not defined"
     ]
    }
   ],
   "source": [
    "x = np.arange(9).reshape((3, 3))\n",
    "2 ** x"
   ]
  },
  {
   "cell_type": "markdown",
   "id": "454ae55a",
   "metadata": {},
   "source": [
    "### Array arithmetic 數組運算\n",
    "\n",
    "> NumPy's ufuncs feel very natural to use because they make use of Python's native arithmetic operators.\n",
    "The standard addition, subtraction, multiplication, and division can all be used:\n",
    "\n",
    "NumPy的ufuncs用起來非常的自然和人性化，因為它們採用了Python本身的算術運算符號 - 標準的加法、剪髮、乘法和除法實現："
   ]
  },
  {
   "cell_type": "code",
   "execution_count": null,
   "id": "b2cd34e8",
   "metadata": {},
   "outputs": [],
   "source": [
    "x = np.arange(4)\n",
    "print(\"x     =\", x)\n",
    "print(\"x + 5 =\", x + 5)\n",
    "print(\"x - 5 =\", x - 5)\n",
    "print(\"x * 2 =\", x * 2)\n",
    "print(\"x / 2 =\", x / 2)\n",
    "print(\"x // 2 =\", x // 2)  # 整除"
   ]
  },
  {
   "cell_type": "markdown",
   "id": "64a6b680",
   "metadata": {},
   "source": [
    "> There is also a unary ufunc for negation, and a ``**`` operator for exponentiation, and a ``%`` operator for modulus:\n",
    "\n",
    "下面是一元的取反，`**`求幂和`%`取模：看到的這些算術運算操作，都是NumPy中相應函數的簡化寫法；例如+號實際上是add函數的封裝"
   ]
  },
  {
   "cell_type": "code",
   "execution_count": null,
   "id": "40b78dc9",
   "metadata": {},
   "outputs": [],
   "source": [
    "print(\"-x     = \", -x)\n",
    "print(\"x ** 2 = \", x ** 2)\n",
    "print(\"x % 2  = \", x % 2)"
   ]
  },
  {
   "cell_type": "code",
   "execution_count": null,
   "id": "9fbf99a5",
   "metadata": {},
   "outputs": [],
   "source": [
    "-(0.5*x + 1) ** 2"
   ]
  },
  {
   "cell_type": "code",
   "execution_count": null,
   "id": "d513e46e",
   "metadata": {},
   "outputs": [],
   "source": [
    "np.add(x, 2)"
   ]
  },
  {
   "cell_type": "code",
   "execution_count": null,
   "id": "b165febd",
   "metadata": {},
   "outputs": [],
   "source": [
    "import numpy as np\n",
    "arr=np.array([1,3,5,2,6])\n",
    "np.cos(arr)\n",
    "np.median(arr)\n",
    "np.mean(arr)\n",
    "np.std(arr)"
   ]
  },
  {
   "cell_type": "markdown",
   "id": "d7191deb",
   "metadata": {},
   "source": [
    "> he following table lists the arithmetic operators implemented in NumPy: Additionally there are Boolean/bitwise operators; we will explore these in [Comparisons, Masks, and Boolean Logic](02.06-Boolean-Arrays-and-Masks.ipynb).\n",
    "\n",
    "下表列出NumPy實現的運算符號及對應的ufunc函數：除此之外還有布爾和二進制位操作；我們會在[比較，遮蓋和布爾邏輯](02.06-Boolean-Arrays-and-Masks.ipynb)中介紹它們。\n",
    "\n",
    "| 運算符\t    | 對應的ufunc函數    | 說明                           |\n",
    "|---------------|---------------------|---------------------------------------|\n",
    "|``+``          |``np.add``           |加法 (例如 ``1 + 1 = 2``)         |\n",
    "|``-``          |``np.subtract``      |減法 (例如 ``3 - 2 = 1``)      |\n",
    "|``-``          |``np.negative``      |一元取負 (例如 ``-2``)          |\n",
    "|``*``          |``np.multiply``      |乘法 (例如 ``2 * 3 = 6``)   |\n",
    "|``/``          |``np.divide``        |除法 (例如 ``3 / 2 = 1.5``)       |\n",
    "|``//``         |``np.floor_divide``  |整除 (例如 ``3 // 2 = 1``)  |\n",
    "|``**``         |``np.power``         |求冪 (例如 ``2 ** 3 = 8``)  |\n",
    "|``%``          |``np.mod``           |模除 (例如 ``9 % 4 = 1``)|"
   ]
  },
  {
   "cell_type": "markdown",
   "id": "c2c324d3",
   "metadata": {},
   "source": [
    "### Absolute value 絕對值\n",
    "\n",
    "> Just as NumPy understands Python's built-in arithmetic operators, it also understands Python's built-in absolute value function:\n",
    "\n",
    "就像NumPy能夠理解Python內建的算術操作一樣，它同樣能理解Python內建的絕對值函數："
   ]
  },
  {
   "cell_type": "code",
   "execution_count": null,
   "id": "47337183",
   "metadata": {},
   "outputs": [],
   "source": [
    "x = np.array([-2, -1, 0, 1, 2])\n",
    "abs(x)"
   ]
  },
  {
   "cell_type": "code",
   "execution_count": null,
   "id": "f0050481",
   "metadata": {},
   "outputs": [],
   "source": [
    "np.absolute(x)  # NumPy's ufunc"
   ]
  },
  {
   "cell_type": "code",
   "execution_count": null,
   "id": "a9fafd5f",
   "metadata": {},
   "outputs": [],
   "source": [
    "np.abs(x)  # NumPy的ufunc short"
   ]
  },
  {
   "cell_type": "code",
   "execution_count": null,
   "id": "1a133bdf",
   "metadata": {},
   "outputs": [],
   "source": [
    "#這個ufunc可以處理複數，返回的是矢量的長度：\n",
    "x = np.array([3 - 4j, 4 - 3j, 2 + 0j, 0 + 1j])\n",
    "np.abs(x)"
   ]
  },
  {
   "cell_type": "markdown",
   "id": "cc542162",
   "metadata": {},
   "source": [
    "### Trigonometric functions 三角函數\n",
    "\n",
    "> NumPy provides a large number of useful ufuncs, and some of the most useful for the data scientist are the trigonometric functions.\n",
    "We'll start by defining an array of angles:\n",
    "\n",
    "NumPy提供了大量的有用的ufuncs，對於數據科學加來說非常有用的還包括三角函數。我們先定義一個角度的數組："
   ]
  },
  {
   "cell_type": "code",
   "execution_count": null,
   "id": "c7b9b2b1",
   "metadata": {},
   "outputs": [],
   "source": [
    "theta = np.linspace(0, np.pi, 3)\n",
    "print(\"theta      = \", theta)\n",
    "print(\"sin(theta) = \", np.sin(theta)) # 正弦\n",
    "print(\"cos(theta) = \", np.cos(theta)) # 餘弦\n",
    "print(\"tan(theta) = \", np.tan(theta)) # 正切"
   ]
  },
  {
   "cell_type": "code",
   "execution_count": null,
   "id": "8045afd5",
   "metadata": {},
   "outputs": [],
   "source": [
    "x = [-1, 0, 1]\n",
    "print(\"x         = \", x)\n",
    "print(\"arcsin(x) = \", np.arcsin(x)) # 反正弦\n",
    "print(\"arccos(x) = \", np.arccos(x)) # 反餘弦\n",
    "print(\"arctan(x) = \", np.arctan(x)) # 反正切"
   ]
  },
  {
   "cell_type": "markdown",
   "id": "ed2f6bd4",
   "metadata": {},
   "source": [
    "### Exponents and logarithms 指數和對數\n",
    "\n",
    "> Another common type of operation available in a NumPy ufunc are the exponentials:\n",
    "\n",
    "NumPy中另一種常用操作是指數："
   ]
  },
  {
   "cell_type": "code",
   "execution_count": null,
   "id": "1c06e8ea",
   "metadata": {},
   "outputs": [],
   "source": [
    "x = [1, 2, 3]\n",
    "print(\"x     =\", x)\n",
    "print(\"e^x   =\", np.exp(x))\n",
    "print(\"2^x   =\", np.exp2(x))\n",
    "print(\"3^x   =\", np.power(3, x))"
   ]
  },
  {
   "cell_type": "code",
   "execution_count": null,
   "id": "56454bb8",
   "metadata": {},
   "outputs": [],
   "source": [
    "x = [1, 2, 4, 10]\n",
    "print(\"x        =\", x)\n",
    "print(\"ln(x)    =\", np.log(x))\n",
    "print(\"log2(x)  =\", np.log2(x))\n",
    "print(\"log10(x) =\", np.log10(x))"
   ]
  },
  {
   "cell_type": "code",
   "execution_count": null,
   "id": "9c5d3f32",
   "metadata": {},
   "outputs": [],
   "source": [
    "x = [0, 0.001, 0.01, 0.1]\n",
    "print(\"exp(x) - 1 =\", np.expm1(x))\n",
    "print(\"log(1 + x) =\", np.log1p(x))"
   ]
  },
  {
   "cell_type": "markdown",
   "id": "b3f26a6f",
   "metadata": {},
   "source": [
    "### Specialized ufuncs 特殊的ufuncs\n",
    "\n",
    "> NumPy has many more ufuncs available, including hyperbolic trig functions, bitwise arithmetic, comparison operators, conversions from radians to degrees, rounding and remainders, and much more.\n",
    "A look through the NumPy documentation reveals a lot of interesting functionality.\n",
    "\n",
    "NumPy包含更多的ufuncs，包括雙曲函數，二進制位運算，比較操作，角度弧度轉換，舍入以及求餘數等等。參考NumPy的在線文檔你可以看到很多有趣的函數說明。\n",
    "\n",
    "> Another excellent source for more specialized and obscure ufuncs is the submodule ``scipy.special``.\n",
    "If you want to compute some obscure mathematical function on your data, chances are it is implemented in ``scipy.special``.\n",
    "There are far too many functions to list them all, but the following snippet shows a couple that might come up in a statistics context:\n",
    "\n",
    "在`scipy.special`模塊中還有更多的特殊及難懂的ufuncs。如果你需要計算使用到晦澀數學函數操作你的數據，基本上你都可以在這個模塊中找到。下面列出了部分與數據統計相關的ufuncs，還有很多因為篇幅關係並未列出。"
   ]
  },
  {
   "cell_type": "code",
   "execution_count": null,
   "id": "c33c2c55",
   "metadata": {},
   "outputs": [],
   "source": [
    "from scipy import special"
   ]
  },
  {
   "cell_type": "code",
   "execution_count": null,
   "id": "97fa06df",
   "metadata": {},
   "outputs": [],
   "source": [
    "# 伽瑪函數（通用階乘函數）及相關函數\n",
    "x = [1, 5, 10]\n",
    "print(\"gamma(x)     =\", special.gamma(x)) # 伽瑪函數\n",
    "print(\"ln|gamma(x)| =\", special.gammaln(x)) # 伽瑪函數的自然對數\n",
    "print(\"beta(x, 2)   =\", special.beta(x, 2)) # 貝塔函數（第一類歐拉積分）"
   ]
  },
  {
   "cell_type": "code",
   "execution_count": null,
   "id": "e9db8ff7",
   "metadata": {},
   "outputs": [],
   "source": [
    "# 誤差函數 (高斯函數積分) \n",
    "x = np.array([0, 0.3, 0.7, 1.0])\n",
    "print(\"erf(x)  =\", special.erf(x)) # 誤差函數\n",
    "print(\"erfc(x) =\", special.erfc(x)) # 互補誤差函數\n",
    "print(\"erfinv(x) =\", special.erfinv(x)) # 逆誤差函數"
   ]
  },
  {
   "cell_type": "markdown",
   "id": "ea4428c5",
   "metadata": {},
   "source": [
    "## Advanced Ufunc Features\n",
    "\n",
    "## 高級Ufunc特性\n",
    "\n",
    "> Many NumPy users make use of ufuncs without ever learning their full set of features.\n",
    "We'll outline a few specialized features of ufuncs here.\n",
    "\n",
    "許多NumPy用戶在使用ufuncs的時候都沒有了解它們完整特性。我們在這裡會簡單介紹一些特別的特性。"
   ]
  },
  {
   "cell_type": "markdown",
   "id": "0c0d0b94",
   "metadata": {},
   "source": [
    "### Specifying output 指定輸出\n",
    "\n",
    "> For large calculations, it is sometimes useful to be able to specify the array where the result of the calculation will be stored.\n",
    "Rather than creating a temporary array, this can be used to write computation results directly to the memory location where you'd like them to be.\n",
    "For all ufuncs, this can be done using the ``out`` argument of the function:\n",
    "\n",
    "對於大數據量的計算，有時指定存儲輸出數據的數組是很有用的。指定輸出結果的內存位置能夠避免創建臨時的數組。所有的ufuncs都能通過指定`out`參數來指定輸出的數組。"
   ]
  },
  {
   "cell_type": "code",
   "execution_count": null,
   "id": "ba4d933e",
   "metadata": {},
   "outputs": [],
   "source": [
    "x = np.arange(5)\n",
    "y = np.empty(5)\n",
    "np.multiply(x, 10, out=y) # 指定結果存儲在y數組中\n",
    "print(y)"
   ]
  },
  {
   "cell_type": "code",
   "execution_count": null,
   "id": "fd939702",
   "metadata": {},
   "outputs": [],
   "source": [
    "y = np.zeros(10)\n",
    "np.power(2, x, out=y[::2]) # 指定结果存储在y数组中，每隔一个元素存一个\n",
    "print(y)"
   ]
  },
  {
   "cell_type": "markdown",
   "id": "b30d7d08",
   "metadata": {},
   "source": [
    "> If we had instead written ``y[::2] = 2 ** x``, this would have resulted in the creation of a temporary array to hold the results of ``2 ** x``, followed by a second operation copying those values into the ``y`` array.\n",
    "This doesn't make much of a difference for such a small computation, but for very large arrays the memory savings from careful use of the ``out`` argument can be significant.\n",
    "\n",
    "如果你沒使用`out`參數，而是寫成`y[::2] = 2 ** x`，這回導致首先創建一個臨時數組用來存儲`2 ** x`，然後再將這些值複製到y數組中。對於上面這麼小的數組來說，其實沒有什麼區別，但是如果對像是一個非常大的數組，使用`out`參數能節省很多內存空間。"
   ]
  },
  {
   "cell_type": "markdown",
   "id": "3facf6de",
   "metadata": {},
   "source": [
    "### Aggregates 聚合\n",
    "\n",
    "> For binary ufuncs, there are some interesting aggregates that can be computed directly from the object.\n",
    "For example, if we'd like to *reduce* an array with a particular operation, we can use the ``reduce`` method of any ufunc. A reduce repeatedly applies a given operation to the elements of an array until only a single result remains.For example, calling ``reduce`` on the ``add`` ufunc returns the sum of all elements in the array:\n",
    "\n",
    "對於二元運算ufuncs來說，還有一些很有趣的聚合函數可以直接從數組中計算出結果。例如，如果你想`reduce`一個數組，你可以對於任何ufuncs應用`reduce`方法。 reduce會重複在數組的每一個元素進行ufunc的操作，直到最後得到一個標量。例如，在`add` ufunc上調用`reduce`會返回所有元素的總和："
   ]
  },
  {
   "cell_type": "code",
   "execution_count": null,
   "id": "4794b11a",
   "metadata": {},
   "outputs": [],
   "source": [
    "x = np.arange(1, 6)\n",
    "np.add.reduce(x)"
   ]
  },
  {
   "cell_type": "code",
   "execution_count": null,
   "id": "23692331",
   "metadata": {},
   "outputs": [],
   "source": [
    "np.multiply.reduce(x)  #返回所有元素的乘積"
   ]
  },
  {
   "cell_type": "code",
   "execution_count": null,
   "id": "c8439714",
   "metadata": {},
   "outputs": [],
   "source": [
    "np.add.accumulate(x)  #得到每一步計算得到的中間結果"
   ]
  },
  {
   "cell_type": "code",
   "execution_count": null,
   "id": "f12b1796",
   "metadata": {},
   "outputs": [],
   "source": [
    "np.multiply.accumulate(x)"
   ]
  },
  {
   "cell_type": "markdown",
   "id": "4aedf95b",
   "metadata": {},
   "source": [
    "### Outer products 外積\n",
    "\n",
    "> Finally, any ufunc can compute the output of all pairs of two different inputs using the ``outer`` method.\n",
    "This allows you, in one line, to do things like create a multiplication table:\n",
    "\n",
    "最後，任何ufunc都可以計算輸入的每一對元素的結果，使用`outer`方法。你可以一行代碼就完成類似創建乘法表的功能："
   ]
  },
  {
   "cell_type": "code",
   "execution_count": null,
   "id": "cda28765",
   "metadata": {
    "scrolled": true
   },
   "outputs": [],
   "source": [
    "x = np.arange(1, 6)\n",
    "np.multiply.outer(x, x)"
   ]
  },
  {
   "cell_type": "markdown",
   "id": "22bdc7fd",
   "metadata": {},
   "source": [
    "> The ``ufunc.at`` and ``ufunc.reduceat`` methods, which we'll explore in [Fancy Indexing](02.07-Fancy-Indexing.ipynb), are very helpful as well. Another extremely useful feature of ufuncs is the ability to operate between arrays of different sizes and shapes, a set of operations known as *broadcasting*.\n",
    "This subject is important enough that we will devote a whole section to it (see [Computation on Arrays: Broadcasting](02.05-Computation-on-arrays-broadcasting.ipynb)).\n",
    "\n",
    "Ufuncs還有一個極端有用的特性，能讓ufuncs在不同長度和形狀的數組之間進行計算，這是一組被稱為*廣播*的方法。這是一個非常重要的內容，因此我們會專門在[在數組上計算：廣播](02.05-Computation-on-arrays-broadcasting.ipynb)小節中進行介紹。`ufunc.at`和`ufunc.reduceat`方法也非常有用，我們會在[高級索引](02.07-Fancy-Indexing.ipynb)中詳細討論。"
   ]
  },
  {
   "cell_type": "markdown",
   "id": "2be06f35",
   "metadata": {},
   "source": [
    "### Data Types for ndarrays"
   ]
  },
  {
   "cell_type": "code",
   "execution_count": 11,
   "id": "e561cc67",
   "metadata": {},
   "outputs": [
    {
     "data": {
      "text/plain": [
       "dtype('int32')"
      ]
     },
     "execution_count": 11,
     "metadata": {},
     "output_type": "execute_result"
    }
   ],
   "source": [
    "arr1 = np.array([1, 2, 3], dtype=np.float64)\n",
    "arr2 = np.array([1, 2, 3], dtype=np.int32)\n",
    "arr1.dtype\n",
    "arr2.dtype"
   ]
  },
  {
   "cell_type": "code",
   "execution_count": 12,
   "id": "4a581067",
   "metadata": {},
   "outputs": [
    {
     "data": {
      "text/plain": [
       "dtype('float64')"
      ]
     },
     "execution_count": 12,
     "metadata": {},
     "output_type": "execute_result"
    }
   ],
   "source": [
    "arr = np.array([1, 2, 3, 4, 5])\n",
    "arr.dtype\n",
    "float_arr = arr.astype(np.float64)\n",
    "float_arr.dtype"
   ]
  },
  {
   "cell_type": "code",
   "execution_count": 13,
   "id": "49b0781d",
   "metadata": {},
   "outputs": [
    {
     "data": {
      "text/plain": [
       "array([ 3, -1, -2,  0, 12, 10], dtype=int32)"
      ]
     },
     "execution_count": 13,
     "metadata": {},
     "output_type": "execute_result"
    }
   ],
   "source": [
    "arr = np.array([3.7, -1.2, -2.6, 0.5, 12.9, 10.1])\n",
    "arr\n",
    "arr.astype(np.int32)"
   ]
  },
  {
   "cell_type": "code",
   "execution_count": 14,
   "id": "5ff6500b",
   "metadata": {},
   "outputs": [
    {
     "data": {
      "text/plain": [
       "array([ 1.25, -9.6 , 42.  ])"
      ]
     },
     "execution_count": 14,
     "metadata": {},
     "output_type": "execute_result"
    }
   ],
   "source": [
    "numeric_strings = np.array(['1.25', '-9.6', '42'], dtype=np.string_)\n",
    "numeric_strings.astype(float)"
   ]
  },
  {
   "cell_type": "code",
   "execution_count": 15,
   "id": "f36fc38e",
   "metadata": {},
   "outputs": [
    {
     "data": {
      "text/plain": [
       "array([0., 1., 2., 3., 4., 5., 6., 7., 8., 9.])"
      ]
     },
     "execution_count": 15,
     "metadata": {},
     "output_type": "execute_result"
    }
   ],
   "source": [
    "int_array = np.arange(10)\n",
    "calibers = np.array([.22, .270, .357, .380, .44, .50], dtype=np.float64)\n",
    "int_array.astype(calibers.dtype)"
   ]
  },
  {
   "cell_type": "code",
   "execution_count": 16,
   "id": "186fa159",
   "metadata": {},
   "outputs": [
    {
     "data": {
      "text/plain": [
       "array([         0, 2952790016, 2834399368, 4026533885, 2834366466,\n",
       "       1610614781,          0,     131072], dtype=uint32)"
      ]
     },
     "execution_count": 16,
     "metadata": {},
     "output_type": "execute_result"
    }
   ],
   "source": [
    "empty_uint32 = np.empty(8, dtype='u4')\n",
    "empty_uint32"
   ]
  },
  {
   "cell_type": "code",
   "execution_count": null,
   "id": "907f6c23",
   "metadata": {},
   "outputs": [],
   "source": []
  }
 ],
 "metadata": {
  "kernelspec": {
   "display_name": "Python 3 (ipykernel)",
   "language": "python",
   "name": "python3"
  },
  "language_info": {
   "codemirror_mode": {
    "name": "ipython",
    "version": 3
   },
   "file_extension": ".py",
   "mimetype": "text/x-python",
   "name": "python",
   "nbconvert_exporter": "python",
   "pygments_lexer": "ipython3",
   "version": "3.9.7"
  }
 },
 "nbformat": 4,
 "nbformat_minor": 5
}
