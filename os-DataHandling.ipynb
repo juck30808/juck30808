{
 "cells": [
  {
   "cell_type": "markdown",
   "id": "943f1cc7",
   "metadata": {},
   "source": [
    "# os 模組提供了數十個與作業系統溝通的函式\n",
    "\n",
    "- https://docs.python.org/zh-tw/3/library/os.html#module-os"
   ]
  },
  {
   "cell_type": "markdown",
   "id": "5ab446a3",
   "metadata": {},
   "source": [
    "## 不使用模組"
   ]
  },
  {
   "cell_type": "code",
   "execution_count": 1,
   "id": "6b63992f",
   "metadata": {},
   "outputs": [
    {
     "name": "stdout",
     "output_type": "stream",
     "text": [
      "Sepal Length,Sepal Width,Petal Length,Petal Width,class\n",
      "5.1,3.5,1.4,0.2,Iris-setosa\n",
      "4.9,3,1.4,0.2,Iris-setosa\n",
      "4.7,3.2,1.3,0.2,Iris-setosa\n",
      "4.6,3.1,1.5,0.2,Iris-setosa\n",
      "5,3.6,1.4,0.2,Iris-setosa\n",
      "5.4,3.9,1.7,0.4,Iris-setosa\n",
      "4.6,3.4,1.4,0.3,Iris-setosa\n",
      "5,3.4,1.5,0.2,Iris-setosa\n",
      "4.4,2.9,1.4,0.2,Iris-setosa\n",
      "4.9,3.1,1.5,0.1,Iris-setosa\n",
      "5.4,3.7,1.5,0.2,Iris-setosa\n",
      "4.8,3.4,1.6,0.2,Iris-setosa\n",
      "4.8,3,1.4,0.1,Iris-setosa\n",
      "4.3,3,1.1,0.1,Iris-setosa\n",
      "5.8,4,1.2,0.2,Iris-setosa\n",
      "5.7,4.4,1.5,0.4,Iris-setosa\n",
      "5.4,3.9,1.3,0.4,Iris-setosa\n",
      "5.1,3.5,1.4,0.3,Iris-setosa\n",
      "5.7,3.8,1.7,0.3,Iris-setosa\n",
      "5.1,3.8,1.5,0.3,Iris-setosa\n",
      "5.4,3.4,1.7,0.2,Iris-setosa\n",
      "5.1,3.7,1.5,0.4,Iris-setosa\n",
      "4.6,3.6,1,0.2,Iris-setosa\n",
      "5.1,3.3,1.7,0.5,Iris-setosa\n",
      "4.8,3.4,1.9,0.2,Iris-setosa\n",
      "5,3,1.6,0.2,Iris-setosa\n",
      "5,3.4,1.6,0.4,Iris-setosa\n",
      "5.2,3.5,1.5,0.2,Iris-setosa\n",
      "5.2,3.4,1.4,0.2,Iris-setosa\n",
      "4.7,3.2,1.6,0.2,Iris-setosa\n",
      "4.8,3.1,1.6,0.2,Iris-setosa\n",
      "5.4,3.4,1.5,0.4,Iris-setosa\n",
      "5.2,4.1,1.5,0.1,Iris-setosa\n",
      "5.5,4.2,1.4,0.2,Iris-setosa\n",
      "4.9,3.1,1.5,0.1,Iris-setosa\n",
      "5,3.2,1.2,0.2,Iris-setosa\n",
      "5.5,3.5,1.3,0.2,Iris-setosa\n",
      "4.9,3.1,1.5,0.1,Iris-setosa\n",
      "4.4,3,1.3,0.2,Iris-setosa\n",
      "5.1,3.4,1.5,0.2,Iris-setosa\n",
      "5,3.5,1.3,0.3,Iris-setosa\n",
      "4.5,2.3,1.3,0.3,Iris-setosa\n",
      "4.4,3.2,1.3,0.2,Iris-setosa\n",
      "5,3.5,1.6,0.6,Iris-setosa\n",
      "5.1,3.8,1.9,0.4,Iris-setosa\n",
      "4.8,3,1.4,0.3,Iris-setosa\n",
      "5.1,3.8,1.6,0.2,Iris-setosa\n",
      "4.6,3.2,1.4,0.2,Iris-setosa\n",
      "5.3,3.7,1.5,0.2,Iris-setosa\n",
      "5,3.3,1.4,0.2,Iris-setosa\n",
      "7,3.2,4.7,1.4,Iris-versicolor\n",
      "6.4,3.2,4.5,1.5,Iris-versicolor\n",
      "6.9,3.1,4.9,1.5,Iris-versicolor\n",
      "5.5,2.3,4,1.3,Iris-versicolor\n",
      "6.5,2.8,4.6,1.5,Iris-versicolor\n",
      "5.7,2.8,4.5,1.3,Iris-versicolor\n",
      "6.3,3.3,4.7,1.6,Iris-versicolor\n",
      "4.9,2.4,3.3,1,Iris-versicolor\n",
      "6.6,2.9,4.6,1.3,Iris-versicolor\n",
      "5.2,2.7,3.9,1.4,Iris-versicolor\n",
      "5,2,3.5,1,Iris-versicolor\n",
      "5.9,3,4.2,1.5,Iris-versicolor\n",
      "6,2.2,4,1,Iris-versicolor\n",
      "6.1,2.9,4.7,1.4,Iris-versicolor\n",
      "5.6,2.9,3.6,1.3,Iris-versicolor\n",
      "6.7,3.1,4.4,1.4,Iris-versicolor\n",
      "5.6,3,4.5,1.5,Iris-versicolor\n",
      "5.8,2.7,4.1,1,Iris-versicolor\n",
      "6.2,2.2,4.5,1.5,Iris-versicolor\n",
      "5.6,2.5,3.9,1.1,Iris-versicolor\n",
      "5.9,3.2,4.8,1.8,Iris-versicolor\n",
      "6.1,2.8,4,1.3,Iris-versicolor\n",
      "6.3,2.5,4.9,1.5,Iris-versicolor\n",
      "6.1,2.8,4.7,1.2,Iris-versicolor\n",
      "6.4,2.9,4.3,1.3,Iris-versicolor\n",
      "6.6,3,4.4,1.4,Iris-versicolor\n",
      "6.8,2.8,4.8,1.4,Iris-versicolor\n",
      "6.7,3,5,1.7,Iris-versicolor\n",
      "6,2.9,4.5,1.5,Iris-versicolor\n",
      "5.7,2.6,3.5,1,Iris-versicolor\n",
      "5.5,2.4,3.8,1.1,Iris-versicolor\n",
      "5.5,2.4,3.7,1,Iris-versicolor\n",
      "5.8,2.7,3.9,1.2,Iris-versicolor\n",
      "6,2.7,5.1,1.6,Iris-versicolor\n",
      "5.4,3,4.5,1.5,Iris-versicolor\n",
      "6,3.4,4.5,1.6,Iris-versicolor\n",
      "6.7,3.1,4.7,1.5,Iris-versicolor\n",
      "6.3,2.3,4.4,1.3,Iris-versicolor\n",
      "5.6,3,4.1,1.3,Iris-versicolor\n",
      "5.5,2.5,4,1.3,Iris-versicolor\n",
      "5.5,2.6,4.4,1.2,Iris-versicolor\n",
      "6.1,3,4.6,1.4,Iris-versicolor\n",
      "5.8,2.6,4,1.2,Iris-versicolor\n",
      "5,2.3,3.3,1,Iris-versicolor\n",
      "5.6,2.7,4.2,1.3,Iris-versicolor\n",
      "5.7,3,4.2,1.2,Iris-versicolor\n",
      "5.7,2.9,4.2,1.3,Iris-versicolor\n",
      "6.2,2.9,4.3,1.3,Iris-versicolor\n",
      "5.1,2.5,3,1.1,Iris-versicolor\n",
      "5.7,2.8,4.1,1.3,Iris-versicolor\n",
      "6.3,3.3,6,2.5,Iris-virginica\n",
      "5.8,2.7,5.1,1.9,Iris-virginica\n",
      "7.1,3,5.9,2.1,Iris-virginica\n",
      "6.3,2.9,5.6,1.8,Iris-virginica\n",
      "6.5,3,5.8,2.2,Iris-virginica\n",
      "7.6,3,6.6,2.1,Iris-virginica\n",
      "4.9,2.5,4.5,1.7,Iris-virginica\n",
      "7.3,2.9,6.3,1.8,Iris-virginica\n",
      "6.7,2.5,5.8,1.8,Iris-virginica\n",
      "7.2,3.6,6.1,2.5,Iris-virginica\n",
      "6.5,3.2,5.1,2,Iris-virginica\n",
      "6.4,2.7,5.3,1.9,Iris-virginica\n",
      "6.8,3,5.5,2.1,Iris-virginica\n",
      "5.7,2.5,5,2,Iris-virginica\n",
      "5.8,2.8,5.1,2.4,Iris-virginica\n",
      "6.4,3.2,5.3,2.3,Iris-virginica\n",
      "6.5,3,5.5,1.8,Iris-virginica\n",
      "7.7,3.8,6.7,2.2,Iris-virginica\n",
      "7.7,2.6,6.9,2.3,Iris-virginica\n",
      "6,2.2,5,1.5,Iris-virginica\n",
      "6.9,3.2,5.7,2.3,Iris-virginica\n",
      "5.6,2.8,4.9,2,Iris-virginica\n",
      "7.7,2.8,6.7,2,Iris-virginica\n",
      "6.3,2.7,4.9,1.8,Iris-virginica\n",
      "6.7,3.3,5.7,2.1,Iris-virginica\n",
      "7.2,3.2,6,1.8,Iris-virginica\n",
      "6.2,2.8,4.8,1.8,Iris-virginica\n",
      "6.1,3,4.9,1.8,Iris-virginica\n",
      "6.4,2.8,5.6,2.1,Iris-virginica\n",
      "7.2,3,5.8,1.6,Iris-virginica\n",
      "7.4,2.8,6.1,1.9,Iris-virginica\n",
      "7.9,3.8,6.4,2,Iris-virginica\n",
      "6.4,2.8,5.6,2.2,Iris-virginica\n",
      "6.3,2.8,5.1,1.5,Iris-virginica\n",
      "6.1,2.6,5.6,1.4,Iris-virginica\n",
      "7.7,3,6.1,2.3,Iris-virginica\n",
      "6.3,3.4,5.6,2.4,Iris-virginica\n",
      "6.4,3.1,5.5,1.8,Iris-virginica\n",
      "6,3,4.8,1.8,Iris-virginica\n",
      "6.9,3.1,5.4,2.1,Iris-virginica\n",
      "6.7,3.1,5.6,2.4,Iris-virginica\n",
      "6.9,3.1,5.1,2.3,Iris-virginica\n",
      "5.8,2.7,5.1,1.9,Iris-virginica\n",
      "6.8,3.2,5.9,2.3,Iris-virginica\n",
      "6.7,3.3,5.7,2.5,Iris-virginica\n",
      "6.7,3,5.2,2.3,Iris-virginica\n",
      "6.3,2.5,5,1.9,Iris-virginica\n",
      "6.5,3,5.2,2,Iris-virginica\n",
      "6.2,3.4,5.4,2.3,Iris-virginica\n",
      "5.9,3,5.1,1.8,Iris-virginica\n",
      "\n"
     ]
    }
   ],
   "source": [
    "# 開檔與讀檔\n",
    "#f = open('data/test/myfile.txt', 'r')\n",
    "f = open('input/Iris.csv', 'r') \n",
    "read_data = f.read()\n",
    "print(read_data)\n",
    "f.close()"
   ]
  },
  {
   "cell_type": "code",
   "execution_count": 2,
   "id": "eb0fef16",
   "metadata": {},
   "outputs": [
    {
     "ename": "FileNotFoundError",
     "evalue": "[Errno 2] No such file or directory: 'data/Iris.csv'",
     "output_type": "error",
     "traceback": [
      "\u001b[1;31m---------------------------------------------------------------------------\u001b[0m",
      "\u001b[1;31mFileNotFoundError\u001b[0m                         Traceback (most recent call last)",
      "Cell \u001b[1;32mIn[2], line 2\u001b[0m\n\u001b[0;32m      1\u001b[0m \u001b[38;5;66;03m# 開檔與讀檔\u001b[39;00m\n\u001b[1;32m----> 2\u001b[0m f \u001b[38;5;241m=\u001b[39m \u001b[38;5;28mopen\u001b[39m(\u001b[38;5;124m'\u001b[39m\u001b[38;5;124mdata/Iris.csv\u001b[39m\u001b[38;5;124m'\u001b[39m, \u001b[38;5;124m'\u001b[39m\u001b[38;5;124mr\u001b[39m\u001b[38;5;124m'\u001b[39m)\n\u001b[0;32m      3\u001b[0m data \u001b[38;5;241m=\u001b[39m []\n\u001b[0;32m      4\u001b[0m count \u001b[38;5;241m=\u001b[39m \u001b[38;5;241m1\u001b[39m\n",
      "File \u001b[1;32m~\\AppData\\Local\\anaconda3\\Lib\\site-packages\\IPython\\core\\interactiveshell.py:284\u001b[0m, in \u001b[0;36m_modified_open\u001b[1;34m(file, *args, **kwargs)\u001b[0m\n\u001b[0;32m    277\u001b[0m \u001b[38;5;28;01mif\u001b[39;00m file \u001b[38;5;129;01min\u001b[39;00m {\u001b[38;5;241m0\u001b[39m, \u001b[38;5;241m1\u001b[39m, \u001b[38;5;241m2\u001b[39m}:\n\u001b[0;32m    278\u001b[0m     \u001b[38;5;28;01mraise\u001b[39;00m \u001b[38;5;167;01mValueError\u001b[39;00m(\n\u001b[0;32m    279\u001b[0m         \u001b[38;5;124mf\u001b[39m\u001b[38;5;124m\"\u001b[39m\u001b[38;5;124mIPython won\u001b[39m\u001b[38;5;124m'\u001b[39m\u001b[38;5;124mt let you open fd=\u001b[39m\u001b[38;5;132;01m{\u001b[39;00mfile\u001b[38;5;132;01m}\u001b[39;00m\u001b[38;5;124m by default \u001b[39m\u001b[38;5;124m\"\u001b[39m\n\u001b[0;32m    280\u001b[0m         \u001b[38;5;124m\"\u001b[39m\u001b[38;5;124mas it is likely to crash IPython. If you know what you are doing, \u001b[39m\u001b[38;5;124m\"\u001b[39m\n\u001b[0;32m    281\u001b[0m         \u001b[38;5;124m\"\u001b[39m\u001b[38;5;124myou can use builtins\u001b[39m\u001b[38;5;124m'\u001b[39m\u001b[38;5;124m open.\u001b[39m\u001b[38;5;124m\"\u001b[39m\n\u001b[0;32m    282\u001b[0m     )\n\u001b[1;32m--> 284\u001b[0m \u001b[38;5;28;01mreturn\u001b[39;00m io_open(file, \u001b[38;5;241m*\u001b[39margs, \u001b[38;5;241m*\u001b[39m\u001b[38;5;241m*\u001b[39mkwargs)\n",
      "\u001b[1;31mFileNotFoundError\u001b[0m: [Errno 2] No such file or directory: 'data/Iris.csv'"
     ]
    }
   ],
   "source": [
    "# 開檔與讀檔\n",
    "f = open('data/Iris.csv', 'r')\n",
    "data = []\n",
    "count = 1\n",
    "\n",
    "#while True: #我不知道他有多少行\n",
    "#    line_data = f.readline()\n",
    "#    if len(line_data) == 0:  #若是這種寫法，當有空格行也會break\n",
    "#        break\n",
    "#    print(f'Line_{count}: {line_data}')\n",
    "#    count = count+1\n",
    "    \n",
    "while True: #我不知道他有多少行\n",
    "    line_data = f.readline()\n",
    "    if len(line_data) == 0:  #若是這種寫法，當有空格行也會break\n",
    "        break\n",
    "    data.append(line_data)\n",
    "print(data[3])\n",
    "f.close()"
   ]
  },
  {
   "cell_type": "code",
   "execution_count": null,
   "id": "1f048920",
   "metadata": {},
   "outputs": [],
   "source": [
    "# 開檔與讀檔\n",
    "f = open('data/test/myfile.txt', 'r')\n",
    "lines_data = f.readlines()\n",
    "print(lines_data)\n",
    "f.close()"
   ]
  },
  {
   "cell_type": "code",
   "execution_count": null,
   "id": "c3422805",
   "metadata": {},
   "outputs": [],
   "source": [
    "# 存檔\n",
    "data = '這是一個測試用的文字檔\\n用來測試檔案系統使用\\nEDF\\nQWE'\n",
    "f = open('data/test/saveTest.txt', 'w')\n",
    "f.write(data)\n",
    "f.close()"
   ]
  },
  {
   "cell_type": "code",
   "execution_count": null,
   "id": "283873db",
   "metadata": {},
   "outputs": [],
   "source": [
    "# 多次存檔\n",
    "data = ['這是一個測試用的文字檔\\n', '用來測試檔案系統使用\\n', 'EDF\\n', 'QWE']\n",
    "f = open('data/test/saveTest2.txt', 'w')\n",
    "for n in data:\n",
    "    f.write(n)\n",
    "f.close()"
   ]
  },
  {
   "cell_type": "code",
   "execution_count": null,
   "id": "ffc25346",
   "metadata": {},
   "outputs": [],
   "source": [
    "# 新增在檔案後面存檔\n",
    "data = '這是一個測試用的文字檔\\n用來測試檔案系統使用\\nEDF\\nQWE'\n",
    "f = open('data/test/saveTest.txt', 'a')\n",
    "f.write(data)\n",
    "f.close()"
   ]
  },
  {
   "cell_type": "code",
   "execution_count": null,
   "id": "01c88918",
   "metadata": {},
   "outputs": [],
   "source": [
    "# 必須使用try except來預防\n",
    "try:\n",
    "    f = open('一個不存在的檔案.txt', 'r')\n",
    "    read_data = f.read()\n",
    "    print(read_data)\n",
    "    f.close()\n",
    "except FileNotFoundError:\n",
    "    print('找不到檔案')\n",
    "\n"
   ]
  },
  {
   "cell_type": "code",
   "execution_count": null,
   "id": "9d70c0c9",
   "metadata": {},
   "outputs": [],
   "source": []
  },
  {
   "cell_type": "code",
   "execution_count": null,
   "id": "80b37eb9",
   "metadata": {},
   "outputs": [],
   "source": []
  },
  {
   "cell_type": "code",
   "execution_count": null,
   "id": "a035c531",
   "metadata": {},
   "outputs": [],
   "source": []
  },
  {
   "cell_type": "markdown",
   "id": "3fd844ad",
   "metadata": {},
   "source": [
    "# The os module 目錄檔案"
   ]
  },
  {
   "cell_type": "code",
   "execution_count": null,
   "id": "e868a636",
   "metadata": {},
   "outputs": [],
   "source": [
    "import os\n",
    "os.getcwd()"
   ]
  },
  {
   "cell_type": "code",
   "execution_count": null,
   "id": "35882d39",
   "metadata": {},
   "outputs": [],
   "source": [
    "# os.chdir('D:\\\\課程資料') \n",
    "# os.system('md test')"
   ]
  },
  {
   "cell_type": "code",
   "execution_count": null,
   "id": "4e2af5b0",
   "metadata": {},
   "outputs": [],
   "source": [
    "helloFile = open(\"input/mew.txt\")  \n",
    "helloFile.read()\n",
    "#helloFile.close()"
   ]
  },
  {
   "cell_type": "code",
   "execution_count": null,
   "id": "c5dd0504",
   "metadata": {},
   "outputs": [],
   "source": [
    "helloFile = open(\"input/mew.txt\")  \n",
    "helloFile.readlines()  #['Hello world!\\n', 'How are you?']\n",
    "#helloFile.close()"
   ]
  },
  {
   "cell_type": "code",
   "execution_count": null,
   "id": "ea9dc685",
   "metadata": {},
   "outputs": [],
   "source": [
    "os.listdir()"
   ]
  },
  {
   "cell_type": "code",
   "execution_count": null,
   "id": "3b621c71",
   "metadata": {},
   "outputs": [],
   "source": [
    "import os\n",
    "os.path.exists('data/test/myfile.txt')  #存在\n",
    "os.path.isfile('data/test/myfile.txt')  #檔案\n",
    "os.path.isdir('data/test/myfile.txt')   #路徑"
   ]
  },
  {
   "cell_type": "code",
   "execution_count": null,
   "id": "049757ef",
   "metadata": {},
   "outputs": [],
   "source": [
    "# 建立目錄\n",
    "try:\n",
    "    os.makedirs('data/test/TEST_DIR2')\n",
    "    print(\"已經建立。\")\n",
    "except FileExistsError:\n",
    "    print(\"檔案已存在。\")"
   ]
  },
  {
   "cell_type": "code",
   "execution_count": null,
   "id": "9f48fe22",
   "metadata": {},
   "outputs": [],
   "source": [
    "# 列出所有子目錄與檔案\n",
    "for root, dirs, files in os.walk('data'):\n",
    "    print(root)\n",
    "    print(dirs)\n",
    "    print(files)\n",
    "    print('=============')"
   ]
  },
  {
   "cell_type": "markdown",
   "id": "81368e79",
   "metadata": {},
   "source": [
    "# Using io module 內存\n",
    "很多時候，數據讀寫不一定是文件，也可以在內存中讀寫。 StringIO顧名思義就是在內存中讀寫str。"
   ]
  },
  {
   "cell_type": "code",
   "execution_count": null,
   "id": "9a562804",
   "metadata": {},
   "outputs": [],
   "source": [
    "import io\n",
    "new_text = \"Learning python and data analysis\"\n",
    "file = io.StringIO(new_text)\n",
    "file.read()"
   ]
  },
  {
   "cell_type": "code",
   "execution_count": null,
   "id": "3174b398",
   "metadata": {},
   "outputs": [],
   "source": [
    "file.write(\" Master the Data handling concepts\")\n",
    "file.seek(0)"
   ]
  },
  {
   "cell_type": "code",
   "execution_count": null,
   "id": "90a01c00",
   "metadata": {},
   "outputs": [],
   "source": [
    "file.read()"
   ]
  },
  {
   "cell_type": "code",
   "execution_count": null,
   "id": "6668ccad",
   "metadata": {},
   "outputs": [],
   "source": []
  },
  {
   "cell_type": "markdown",
   "id": "247d9de5",
   "metadata": {},
   "source": [
    "# The send2trash module"
   ]
  },
  {
   "cell_type": "code",
   "execution_count": null,
   "id": "fbb2b7f2",
   "metadata": {},
   "outputs": [],
   "source": [
    "!pip install send2trash"
   ]
  },
  {
   "cell_type": "code",
   "execution_count": null,
   "id": "eababb07",
   "metadata": {},
   "outputs": [],
   "source": [
    "import send2trash\n",
    "os.listdir()"
   ]
  },
  {
   "cell_type": "code",
   "execution_count": null,
   "id": "9e062d93",
   "metadata": {},
   "outputs": [],
   "source": [
    "send2trash.send2trash(\"main.txt\")"
   ]
  },
  {
   "cell_type": "code",
   "execution_count": null,
   "id": "332ec692",
   "metadata": {},
   "outputs": [],
   "source": [
    "os.listdir()"
   ]
  },
  {
   "cell_type": "markdown",
   "id": "53e7a10d",
   "metadata": {},
   "source": [
    "# The zipfile library"
   ]
  },
  {
   "cell_type": "code",
   "execution_count": null,
   "id": "86aef830",
   "metadata": {},
   "outputs": [],
   "source": [
    "new_file = open(\"demo1.txt\", \"w+\")\n",
    "new_file.write(\"This is demo 1\")\n",
    "new_file.close()"
   ]
  },
  {
   "cell_type": "code",
   "execution_count": null,
   "id": "373ed658",
   "metadata": {},
   "outputs": [],
   "source": [
    "new_file = open(\"demo2.txt\", \"w+\")\n",
    "new_file.write(\"This is demo 2\")\n",
    "new_file.close()"
   ]
  },
  {
   "cell_type": "code",
   "execution_count": null,
   "id": "73229413",
   "metadata": {},
   "outputs": [],
   "source": [
    "import zipfile\n",
    "new_comp = zipfile.ZipFile(\"new_comp.zip\", \"w\")\n",
    "new_comp.write(\"demo1.txt\", compress_type = zipfile.ZIP_DEFLATED)\n",
    "new_comp.write(\"demo2.txt\", compress_type = zipfile.ZIP_DEFLATED)\n",
    "new_comp.close()"
   ]
  },
  {
   "cell_type": "code",
   "execution_count": null,
   "id": "1db1530e",
   "metadata": {},
   "outputs": [],
   "source": [
    "new_extract = zipfile.ZipFile(\"new_comp.zip\", \"r\")"
   ]
  },
  {
   "cell_type": "code",
   "execution_count": null,
   "id": "97a1867e",
   "metadata": {},
   "outputs": [],
   "source": [
    "new_extract.extractall(\"This is your extracted content!\")"
   ]
  },
  {
   "cell_type": "code",
   "execution_count": null,
   "id": "b6ee7c12",
   "metadata": {},
   "outputs": [],
   "source": [
    "import zipfile, os\n",
    "def backupToZip(folder):\n",
    "    # Backup the entire contents of \"folder\" into a zip file.\n",
    "    folder = os.path.abspath(folder) # make sure folder is absolute\n",
    "    number = 1\n",
    "    while True:\n",
    "        zipFilename = os.path.basename(folder) + '_' + str(number) + '.zip'\n",
    "        if not os.path.exists(zipFilename):\n",
    "            break\n",
    "        number = number + 1\n",
    "\n",
    "    # Create the zip file.\n",
    "    print('Creating %s...' % (zipFilename))\n",
    "    backupZip = zipfile.ZipFile(zipFilename, 'w')\n",
    "\n",
    "    # Walk the entire folder tree and compress the files in each folder.\n",
    "    for foldername, subfolders, filenames in os.walk(folder):\n",
    "        print('Adding files in %s...' % (foldername))\n",
    "        # Add the current folder to the ZIP file.\n",
    "        backupZip.write(foldername)\n",
    "\n",
    "        # Add all the files in this folder to the ZIP file.\n",
    "        for filename in filenames:\n",
    "            if filename.startswith(os.path.basename(folder) + '_') and filename.endswith('.zip'):\n",
    "                continue # don't backup the backup ZIP files\n",
    "            backupZip.write(os.path.join(foldername, filename))\n",
    "    backupZip.close()\n",
    "    print('Done.')\n",
    "\n",
    "backupToZip('delicious')"
   ]
  },
  {
   "cell_type": "markdown",
   "id": "c6c4ccb2",
   "metadata": {},
   "source": [
    "## os-findUnneeded"
   ]
  },
  {
   "cell_type": "code",
   "execution_count": null,
   "id": "cc5b0cf8",
   "metadata": {},
   "outputs": [],
   "source": [
    "import os\n",
    "\n",
    "def findUnneeded(folderPath, rejectSize):\n",
    "    root = os.path.abspath(folderPath)\n",
    "    for doc in os.listdir(root):\n",
    "\n",
    "        docPath = os.path.join(root, doc)\n",
    "\n",
    "        if os.path.isdir(docPath):\n",
    "            size = getDirSize(docPath)\n",
    "        else:\n",
    "            size = os.path.getsize(docPath)\n",
    "\n",
    "        if size > rejectSize:\n",
    "            print(f'{docPath}: {size}')\n",
    "\n",
    "def getDirSize(start_path):\n",
    "    size = 0\n",
    "    for folderName, subFolder, filename in os.walk(start_path):\n",
    "        for file in filename:\n",
    "            filePath = os.path.join(folderName, file)\n",
    "            size += os.path.getsize(filePath)\n",
    "    return size\n",
    "\n",
    "if __name__ == '__main__':\n",
    "    findUnneeded('..', 1000)"
   ]
  },
  {
   "cell_type": "markdown",
   "id": "935588a4",
   "metadata": {},
   "source": [
    "## Move Read Write"
   ]
  },
  {
   "cell_type": "code",
   "execution_count": null,
   "id": "c5b8c357",
   "metadata": {},
   "outputs": [],
   "source": [
    "#! python3\n",
    "\n",
    "import docx\n",
    "def getText(filename):\n",
    "    doc = docx.Document(filename)\n",
    "    fullText = []\n",
    "    for para in doc.paragraphs:\n",
    "        fullText.append(para.text)\n",
    "    return '\\n\\n'.join(fullText)"
   ]
  },
  {
   "cell_type": "code",
   "execution_count": null,
   "id": "4851ceed",
   "metadata": {},
   "outputs": [],
   "source": [
    "import shelve, pyperclip, sys\n",
    "\n",
    "mcbShelf = shelve.open('mcb')\n",
    "\n",
    "# Save clipboard content.\n",
    "if len(sys.argv) == 3 and sys.argv[1].lower() == 'save':\n",
    "        mcbShelf[sys.argv[2]] = pyperclip.paste()\n",
    "elif len(sys.argv) == 2:\n",
    "# List keywords and load content.\n",
    "    if sys.argv[1].lower() == 'list':\n",
    "        pyperclip.copy(str(list(mcbShelf.keys())))\n",
    "    elif sys.argv[1] in mcbShelf:\n",
    "        pyperclip.copy(mcbShelf[sys.argv[1]])\n",
    "\n",
    "mcbShelf.close()"
   ]
  },
  {
   "cell_type": "markdown",
   "id": "659a420b",
   "metadata": {},
   "source": [
    "##  quiz data. Keys are states and values are their capitals."
   ]
  },
  {
   "cell_type": "code",
   "execution_count": null,
   "id": "3808f027",
   "metadata": {},
   "outputs": [],
   "source": [
    "import random\n",
    "\n",
    "capitals = {'Alabama': 'Montgomery', 'Alaska': 'Juneau', 'Arizona': 'Phoenix', 'Arkansas': 'Little Rock', 'California': 'Sacramento', 'Colorado': 'Denver', 'Connecticut': 'Hartford', 'Delaware': 'Dover', 'Florida': 'Tallahassee', 'Georgia': 'Atlanta', 'Hawaii': 'Honolulu', 'Idaho': 'Boise', 'Illinois': 'Springfield', 'Indiana': 'Indianapolis', 'Iowa': 'Des Moines', 'Kansas': 'Topeka', 'Kentucky': 'Frankfort', 'Louisiana': 'Baton Rouge', 'Maine': 'Augusta', 'Maryland': 'Annapolis', 'Massachusetts': 'Boston', 'Michigan': 'Lansing', 'Minnesota': 'Saint Paul', 'Mississippi': 'Jackson', 'Missouri': 'Jefferson City', 'Montana': 'Helena', 'Nebraska': 'Lincoln', 'Nevada': 'Carson City', 'New Hampshire': 'Concord', 'New Jersey': 'Trenton', 'New Mexico': 'Santa Fe', 'New York': 'Albany', 'North Carolina': 'Raleigh', 'North Dakota': 'Bismarck', 'Ohio': 'Columbus', 'Oklahoma': 'Oklahoma City', 'Oregon': 'Salem', 'Pennsylvania': 'Harrisburg', 'Rhode Island': 'Providence', 'South Carolina': 'Columbia', 'South Dakota': 'Pierre', 'Tennessee': 'Nashville', 'Texas': 'Austin', 'Utah': 'Salt Lake City', 'Vermont': 'Montpelier', 'Virginia': 'Richmond', 'Washington': 'Olympia', 'West Virginia': 'Charleston', 'Wisconsin': 'Madison', 'Wyoming': 'Cheyenne'}\n",
    "capitalsItems = list(capitals.items())\n",
    "\n",
    "# Generate 35 quiz files.\n",
    "for quizNum in range(35): \n",
    "    # Create the quiz and answer key files.\n",
    "    quizFile = open('output/capitals/capitalsquiz%s.txt' % (quizNum + 1), 'w')\n",
    "    answerKeyFile = open('output/capitals/capitalsquiz_answers%s.txt' % (quizNum + 1), 'w')\n",
    "\n",
    "    # Write out the header for the quiz.\n",
    "    quizFile.write('Name:\\n\\nDate:\\n\\nPeriod:\\n\\n')\n",
    "    quizFile.write((' ' * 20) + 'State Capitals Quiz (Form %s)' % (quizNum + 1))\n",
    "    quizFile.write('\\n\\n')\n",
    "\n",
    "    # Shuffle the order of the states.\n",
    "    states = list(capitals.keys()) # get all states in a list\n",
    "    random.shuffle(states) # randomize the order of the states\n",
    "\n",
    "    for questionNum in range(50):\n",
    "        correctAnswer = capitals[states[questionNum]]\n",
    "        wrongAnswers = list(capitals.values()) # get a complete list of answers\n",
    "        del wrongAnswers[wrongAnswers.index(correctAnswer)] # remove the right answer\n",
    "        wrongAnswers = random.sample(wrongAnswers, 3) # pick 3 random ones\n",
    "\n",
    "        answerOptions = wrongAnswers + [correctAnswer]\n",
    "        random.shuffle(answerOptions) # randomize the order of the answers\n",
    "\n",
    "        # Write the question and answer options to the quiz file.\n",
    "        quizFile.write('%s. What is the capital of %s?\\n' % (questionNum + 1, states[questionNum]))\n",
    "        for i in range(4):\n",
    "            quizFile.write('    %s. %s\\n' % ('ABCD'[i], answerOptions[i]))\n",
    "        quizFile.write('\\n')\n",
    "\n",
    "        # Write out the answer key to a file.\n",
    "        answerKeyFile.write('%s. %s\\n' % (questionNum + 1, 'ABCD'[answerOptions.index(correctAnswer)]))\n",
    "    quizFile.close()\n",
    "    answerKeyFile.close()\n",
    "\n"
   ]
  },
  {
   "cell_type": "markdown",
   "id": "874bd470",
   "metadata": {},
   "source": [
    "## The glob module provides a function for making file lists from directory wildcard searches:\n",
    "-  https://docs.python.org/zh-tw/3/library/glob.html#module-glob"
   ]
  },
  {
   "cell_type": "code",
   "execution_count": null,
   "id": "5b7b5a21",
   "metadata": {},
   "outputs": [],
   "source": [
    "import glob\n",
    "glob.glob('d:/*.txt')"
   ]
  },
  {
   "cell_type": "markdown",
   "id": "81238785",
   "metadata": {},
   "source": [
    "## 通用工具腳本常需要處理命令列引數。這些引數會以串列形式存放在 sys 模組的 argv 此變數中。例如在命令列執行 python demo.py one two three 會有以下輸出結果"
   ]
  },
  {
   "cell_type": "code",
   "execution_count": null,
   "id": "aa16101f",
   "metadata": {},
   "outputs": [],
   "source": [
    "import sys\n",
    "print(sys.argv)"
   ]
  }
 ],
 "metadata": {
  "kernelspec": {
   "display_name": "Python 3 (ipykernel)",
   "language": "python",
   "name": "python3"
  },
  "language_info": {
   "codemirror_mode": {
    "name": "ipython",
    "version": 3
   },
   "file_extension": ".py",
   "mimetype": "text/x-python",
   "name": "python",
   "nbconvert_exporter": "python",
   "pygments_lexer": "ipython3",
   "version": "3.11.3"
  }
 },
 "nbformat": 4,
 "nbformat_minor": 5
}
