{
 "cells": [
  {
   "cell_type": "markdown",
   "metadata": {},
   "source": [
    "## CS41"
   ]
  },
  {
   "cell_type": "markdown",
   "metadata": {},
   "source": [
    "## 1.Python 字符串默認是 Unicode \n",
    "\n",
    "這意味著我們可以在 Python 字符串中使用表情符號！ ！ ❤#$)\n",
    "\n",
    "- Interactive Interpreter\n",
    "- Comments\n",
    "- Variables and Types\n",
    "- Numbers and Booleans\n",
    "- Strings and lists\n",
    "- Console I/O\n",
    "- Control Flow\n",
    "- Loops\n",
    "- Functions\n",
    "- Assignment Expressions\n",
    "- CS:41"
   ]
  },
  {
   "cell_type": "code",
   "execution_count": 16,
   "metadata": {},
   "outputs": [
    {
     "name": "stdout",
     "output_type": "stream",
     "text": [
      "What would you like to order?exit\n",
      "What would you like to order?exit\n"
     ]
    }
   ],
   "source": [
    "# The old way\n",
    "order = input(\"What would you like to order?\")\n",
    "while order != \"exit\":\n",
    "    print(\"ok\")\n",
    "    order = input(\"What would you like to order?\")\n",
    "\n",
    "# Using assignment expressions!\n",
    "while (order := input(\"What would you like to order?\")) != \"exit\":\n",
    "    print(\"ok\")"
   ]
  },
  {
   "cell_type": "code",
   "execution_count": 28,
   "metadata": {},
   "outputs": [],
   "source": [
    "# #While loops are very similar to other languages:\n",
    "# while condition:\n",
    "#     do_action()\n",
    "\n",
    "# #For loops are over some collection of items...\n",
    "# for item in collection:\n",
    "#     do_action_on(item)\n",
    "\n",
    "# # which can be a range object, producing C++/Java-like loops.\n",
    "# for i in range(start, stop, step):\n",
    "#     use_number(i)"
   ]
  },
  {
   "cell_type": "code",
   "execution_count": 18,
   "metadata": {},
   "outputs": [
    {
     "data": {
      "text/plain": [
       "True"
      ]
     },
     "execution_count": 18,
     "metadata": {},
     "output_type": "execute_result"
    }
   ],
   "source": [
    "isinstance(4, object) # => True\n",
    "isinstance(\"Michael\", object) # => True\n",
    "isinstance([4, 5, 'seconds'], object) # => True\n",
    "isinstance(None, object) # => True\n",
    "isinstance(str, object) # => True\n",
    "isinstance(object, object) # => True"
   ]
  },
  {
   "cell_type": "code",
   "execution_count": 19,
   "metadata": {},
   "outputs": [
    {
     "data": {
      "text/plain": [
       "'lolololololololo'"
      ]
     },
     "execution_count": 19,
     "metadata": {},
     "output_type": "execute_result"
    }
   ],
   "source": [
    "# 鴨子型別 (Duck typing)\n",
    "def compute(a, b, c):\n",
    "    return (a + b) * c\n",
    "\n",
    "compute(4, 1, 3) # => 15\n",
    "compute([1], [2, 3], 2) # => [1, 2, 3, 1, 2, 3]\n",
    "compute('l','olo', 4) # => 'lolololololololo'"
   ]
  },
  {
   "cell_type": "code",
   "execution_count": 23,
   "metadata": {},
   "outputs": [
    {
     "data": {
      "text/plain": [
       "False"
      ]
     },
     "execution_count": 23,
     "metadata": {},
     "output_type": "execute_result"
    }
   ],
   "source": [
    "# Use == when comparing values\n",
    "# Use is when comparing identities\n",
    "\n",
    "x = \"cs41 rocks!\"\n",
    "y = \"cs41 \"+\"rocks!\"\n",
    "x == y # => True   \n",
    "x is y # => False"
   ]
  },
  {
   "cell_type": "code",
   "execution_count": 29,
   "metadata": {},
   "outputs": [
    {
     "data": {
      "text/plain": [
       "'ello! Love, unico'"
      ]
     },
     "execution_count": 29,
     "metadata": {},
     "output_type": "execute_result"
    }
   ],
   "source": [
    "# Useful String Methods\n",
    "\n",
    "greeting = \"Hello! Love, unicorn. \"\n",
    "greeting.find('lo') # => 3 (-1 if not found)\n",
    "greeting.replace('ello','iya') # => Hiya! Love, Unicorn.\n",
    "greeting.startswith('Hell') # => True\n",
    "greeting.endswith(' ') # => True\n",
    "greeting.isalpha() # => False\n",
    "greeting.lower() # => 'hello! love, unicorn.'\n",
    "greeting.title() # => 'Hello! Love, Unicorn.'\n",
    "greeting.upper() # => 'HELLO! LOVE, UNICORN.'\n",
    "greeting.strip() # => 'Hello! Love, unicorn.'\n",
    "greeting.strip('.nrH ') # => 'ello! Love, unico'"
   ]
  },
  {
   "cell_type": "code",
   "execution_count": 32,
   "metadata": {},
   "outputs": [
    {
     "data": {
      "text/plain": [
       "'Zheng, Sam'"
      ]
     },
     "execution_count": 32,
     "metadata": {},
     "output_type": "execute_result"
    }
   ],
   "source": [
    "# Lists <—> Strings\n",
    "\n",
    "list('Hair toss!')           # => ['H', 'a', 'i', 'r', ' ', 't', 'o', 's', 's', '!']\n",
    "'ham cheese bacon'.split()   # => ['ham', 'cheese', 'bacon']\n",
    "'3-14-2015'.split(sep='-')   # => ['3', '14', '2015']\n",
    "', '.join(['Zheng', 'Sam'])  # => 'Zheng, Sam'"
   ]
  },
  {
   "cell_type": "markdown",
   "metadata": {},
   "source": [
    "#### Formatting"
   ]
  },
  {
   "cell_type": "code",
   "execution_count": 42,
   "metadata": {},
   "outputs": [
    {
     "data": {
      "text/plain": [
       "'Zheng, Sam 太棒了！'"
      ]
     },
     "execution_count": 42,
     "metadata": {},
     "output_type": "execute_result"
    }
   ],
   "source": [
    "'{} is expected to introduce The {}'.format('Apple', 'iPhone')       # 花括號是佔位符\n",
    "'{0} is expected to introduce the {0},{1}'.format('Apple', 'iPhone') # 按位置或占位符提供值\n",
    "'{name} is expected to introduce the {product}'.format(name='Apple', product='iPhone') # 按位置或占位符提供值\n",
    "\n",
    "'{} squared is {}'.format(5, 5**2) # => '5 squared is 25'\n",
    "\"{:06.2f}\".format(3.14159)         # => '003.14'\n",
    "'{:10}'.format('left')             # => 'left'\n",
    "'{:*^12}'.format('CS41')           # => '****CS41****'\n",
    "f\"{', '.join(['Zheng', 'Sam'])} 太棒了！\""
   ]
  },
  {
   "cell_type": "code",
   "execution_count": 47,
   "metadata": {},
   "outputs": [
    {
     "data": {
      "text/plain": [
       "'這是一顆蘋果'"
      ]
     },
     "execution_count": 47,
     "metadata": {},
     "output_type": "execute_result"
    }
   ],
   "source": [
    "\"Today is %d\" % 20\n",
    "\"%f四捨五入後是%.2f\" % (1.234, 1.234)  # 有多個地方需要取代的時候需要用()起來\n",
    "\"This is an %s\" % \"Apple\"\n",
    "\"熱愛{temperature}度的你\".format(temperature=105)\n",
    "\"{a}四捨五入後是{a:.2f}\".format(a=1.234)"
   ]
  },
  {
   "cell_type": "code",
   "execution_count": 48,
   "metadata": {},
   "outputs": [
    {
     "data": {
      "text/plain": [
       "'這是一顆蘋果'"
      ]
     },
     "execution_count": 48,
     "metadata": {},
     "output_type": "execute_result"
    }
   ],
   "source": [
    "temperature = 105\n",
    "a = 1.234\n",
    "b = \"蘋果\"\n",
    "\n",
    "f\"熱愛{temperature}度的你\"   # 字串前面加f，中間用{}包變數名稱\n",
    "f\"{a}四捨五入後是{a:.2f}\"    # 可以和%一樣指定格式\n",
    "f\"這是一顆{b}\"              # 但不能和format一樣名稱留空"
   ]
  },
  {
   "cell_type": "code",
   "execution_count": 49,
   "metadata": {},
   "outputs": [
    {
     "data": {
      "text/plain": [
       "'綿羊'"
      ]
     },
     "execution_count": 49,
     "metadata": {},
     "output_type": "execute_result"
    }
   ],
   "source": [
    "s2 = \"一隻綿羊兩隻綿羊三隻綿羊\"\n",
    "\n",
    "\"第1隻綿羊在\", s2.find(\"綿羊\")     # 回傳的是開頭的index\n",
    "\"最後1隻綿羊在\", s2.rfind(\"綿羊\")  # rfind從右邊開始找\n",
    "s2[2:4]\n",
    "s2[10:10+len(s2)]"
   ]
  },
  {
   "cell_type": "markdown",
   "metadata": {},
   "source": [
    "## Week 2: Data Structures\n",
    "\n",
    "- Lists: Finite, ordered, mutable sequence of elements. 有限、有序、可變的元素序列。\n",
    "- Tuples: Finite, ordered, immutable sequence ofelements. 有限、有序、不可變的元素序列。\n",
    "- Dictionaries: Mutable map from hashable values to (arbitrary) objects 從可散列值到（任意）對象的可變映射。\n",
    "- Sets: Unordered, finite collection of distinct, hashable elements 不同的、可散列的元素的無序、有限集合。"
   ]
  },
  {
   "cell_type": "markdown",
   "metadata": {},
   "source": [
    "#### Lists: Finite, ordered, mutable sequence of elements. 有限、有序、可變的元素序列。"
   ]
  },
  {
   "cell_type": "code",
   "execution_count": 81,
   "metadata": {},
   "outputs": [
    {
     "data": {
      "text/plain": [
       "[5, 3, [2, 3, 5]]"
      ]
     },
     "execution_count": 81,
     "metadata": {},
     "output_type": "execute_result"
    }
   ],
   "source": [
    "empty = []\n",
    "letters = ['a', 'b', 'c', 'd']\n",
    "\n",
    "empty.append([2, 3, 5])   # Append a *single* element to a list\n",
    "empty.extend([2, 3, 5])   # Extend a list by appending *all* elements from an\n",
    "empty.insert(0, \"index\")  # Insert an element into the middle of the list, at index\n",
    "empty.reverse()           # Reverse a list, in place\n",
    "empty.pop()               # removes last elem\n",
    "empty.pop(i)              # removes my_lst[i]\n",
    "empty.count(numbers)\n",
    "\n",
    "empty"
   ]
  },
  {
   "cell_type": "code",
   "execution_count": null,
   "metadata": {},
   "outputs": [],
   "source": [
    "x = [0,1,2,3,4,5]\n",
    "x[:4]\n",
    "x[1:4]\n",
    "x[::4]\n",
    "\n",
    "x.copy()                # 回傳一個淺複製 (shallow copy) 的 list 。等同於 a[:] 。\n",
    "x.append(6)             # 將一個新的項目加到 list 的尾端。\n",
    "x.extend(range(50,65))  # 將物件 obj 內的元或 iterable（可列舉物件）接到 list 的尾端。\n",
    "x.insert(0,'SS')        # 將一個項目插入至 list 中給定的位置。\n",
    "x.remove('SS')          # 移除列表中第一個值為 x 的元素。如果沒有這樣的元素則 Error。\n",
    "x.pop(0)                # 移除 list 中給定位置的項目並回傳。如果沒有指定位置 a.pop() 將會移除 list 中最後項目。\n",
    "x.count(5)              # 回傳數值為 x 在 list 中所出現的次數。\n",
    "x.sort(reverse=True)    # list.sort(key=None, reverse=False) ：將 list 中的項目排序。"
   ]
  },
  {
   "cell_type": "code",
   "execution_count": 11,
   "metadata": {},
   "outputs": [
    {
     "name": "stdout",
     "output_type": "stream",
     "text": [
      "[1, 22, 5, 345]\n"
     ]
    }
   ],
   "source": [
    "#插入 X 值索引為 y 位置\n",
    "myList = [1, 22, 345]\n",
    "myList.insert(2, 5)\n",
    "print(myList)"
   ]
  },
  {
   "cell_type": "code",
   "execution_count": 13,
   "metadata": {},
   "outputs": [
    {
     "name": "stdout",
     "output_type": "stream",
     "text": [
      "[1, 345]\n"
     ]
    }
   ],
   "source": [
    "#移除第一個和 x 相等的元，並將後方的元向前移動\n",
    "myList = [1, 22, 345]\n",
    "myList.remove(22)\n",
    "print(myList)"
   ]
  },
  {
   "cell_type": "code",
   "execution_count": 17,
   "metadata": {},
   "outputs": [
    {
     "name": "stdout",
     "output_type": "stream",
     "text": [
      "[1, 22]\n"
     ]
    }
   ],
   "source": [
    "#移除索引為 i 的元並回傳值，預設為移除最後一筆\n",
    "myList = [1, 22, 345]\n",
    "a = myList.pop()\n",
    "print(myList)"
   ]
  },
  {
   "cell_type": "code",
   "execution_count": 18,
   "metadata": {},
   "outputs": [
    {
     "name": "stdout",
     "output_type": "stream",
     "text": [
      "[1]\n",
      "345 22\n"
     ]
    }
   ],
   "source": [
    "b=myList.pop(1)\n",
    "print(myList)\n",
    "print(a, b)"
   ]
  },
  {
   "cell_type": "code",
   "execution_count": 19,
   "metadata": {},
   "outputs": [
    {
     "name": "stdout",
     "output_type": "stream",
     "text": [
      "[]\n"
     ]
    }
   ],
   "source": [
    "#移除所有的元\n",
    "myList = [1, 22, 345]\n",
    "myList.clear()\n",
    "print(myList)"
   ]
  },
  {
   "cell_type": "code",
   "execution_count": 20,
   "metadata": {},
   "outputs": [
    {
     "name": "stdout",
     "output_type": "stream",
     "text": [
      "[345, 22, 1]\n"
     ]
    }
   ],
   "source": [
    "# 將串列反轉\n",
    "myList = [1, 22, 345]\n",
    "myList.reverse()\n",
    "print(myList)"
   ]
  },
  {
   "cell_type": "code",
   "execution_count": 21,
   "metadata": {},
   "outputs": [
    {
     "name": "stdout",
     "output_type": "stream",
     "text": [
      "[1, 22, 43, 55, 345]\n",
      "[345, 55, 43, 22, 1]\n"
     ]
    }
   ],
   "source": [
    "# 將串列的元由值的大小排列，預設由小到大排列，當 reverse 為 True 時由大到小\n",
    "myList = [1, 22, 345, 55, 43]\n",
    "myList.sort()\n",
    "print(myList)\n",
    "\n",
    "myList.sort(reverse=True)\n",
    "print(myList)"
   ]
  },
  {
   "cell_type": "code",
   "execution_count": null,
   "metadata": {},
   "outputs": [],
   "source": [
    "# 回傳串列中有幾個值為 x 的元\n",
    "myList = [1, 22, 22, 22, 4, 3, 3]\n",
    "print(myList.count(0))\n",
    "print(myList.count(3))\n",
    "print(myList.count(22))"
   ]
  },
  {
   "cell_type": "code",
   "execution_count": 22,
   "metadata": {
    "scrolled": true
   },
   "outputs": [
    {
     "name": "stdout",
     "output_type": "stream",
     "text": [
      "第一項: 1\n"
     ]
    }
   ],
   "source": [
    "myTuple=(1, 3, 4, 5, 64)\n",
    "print(\"第一項:\", myTuple[0])"
   ]
  },
  {
   "cell_type": "code",
   "execution_count": 14,
   "metadata": {},
   "outputs": [
    {
     "name": "stdout",
     "output_type": "stream",
     "text": [
      "name\n",
      "species\n",
      "age\n",
      "-------------------\n",
      "Zophie\n",
      "cat\n",
      "8\n",
      "-------------------\n",
      "('name', 'Zophie')\n",
      "('species', 'cat')\n",
      "('age', 8)\n"
     ]
    }
   ],
   "source": [
    "eggs = {'name':'Zophie', 'species':'cat','age':8}\n",
    "ham = {'species':'cat', 'name':'Zophie','age':8}\n",
    "eggs == ham\n",
    "\n",
    "list(eggs.keys())\n",
    "for k in eggs.keys():\n",
    "    print(k)\n",
    "print('-------------------')\n",
    "\n",
    "list(eggs.values())\n",
    "for k in eggs.values():\n",
    "    print(k)\n",
    "print('-------------------')\n",
    "\n",
    "list(eggs.items())\n",
    "for k in eggs.items():\n",
    "    print(k)"
   ]
  },
  {
   "cell_type": "code",
   "execution_count": 16,
   "metadata": {
    "scrolled": true
   },
   "outputs": [
    {
     "name": "stdout",
     "output_type": "stream",
     "text": [
      "{' ': 13,\n",
      " ',': 1,\n",
      " '.': 1,\n",
      " 'A': 1,\n",
      " 'I': 1,\n",
      " 'a': 4,\n",
      " 'b': 1,\n",
      " 'c': 3,\n",
      " 'd': 3,\n",
      " 'e': 5,\n",
      " 'g': 2,\n",
      " 'h': 3,\n",
      " 'i': 6,\n",
      " 'k': 2,\n",
      " 'l': 3,\n",
      " 'n': 4,\n",
      " 'o': 2,\n",
      " 'p': 1,\n",
      " 'r': 5,\n",
      " 's': 3,\n",
      " 't': 6,\n",
      " 'w': 2,\n",
      " 'y': 1}\n"
     ]
    }
   ],
   "source": [
    "import pprint\n",
    "message = 'It was a bright cold day in April, and the clocks were striking thirteen.'\n",
    "count = {}\n",
    "\n",
    "for character in message:\n",
    "    count.setdefault(character, 0)\n",
    "    count[character] = count[character] + 1\n",
    "\n",
    "pprint.pprint(count)\n"
   ]
  },
  {
   "cell_type": "code",
   "execution_count": 17,
   "metadata": {},
   "outputs": [],
   "source": [
    "#! python3\n",
    "# Adds Wikipedia bullet points to the start\n",
    "# of each line of text on the clipboard.\n",
    "\n",
    "import pyperclip\n",
    "text = pyperclip.paste()\n",
    "\n",
    "#Separate lines and add stars.\n",
    "lines = text.split('\\n')\n",
    "for i in range(len(lines)): # loop through all indexes for \"lines\" list\n",
    "    lines[i] = '* ' + lines[i] # add star to each string in \"lines\" list\n",
    "text = '\\n'.join(lines)\n",
    "pyperclip.copy(text)\n"
   ]
  },
  {
   "cell_type": "code",
   "execution_count": 18,
   "metadata": {},
   "outputs": [
    {
     "name": "stdout",
     "output_type": "stream",
     "text": [
      "---PICNIC ITEMS--\n",
      "sandwiches..    4\n",
      "apples......   12\n",
      "cups........    4\n",
      "cookies..... 8000\n",
      "-------PICNIC ITEMS-------\n",
      "sandwiches..........     4\n",
      "apples..............    12\n",
      "cups................     4\n",
      "cookies.............  8000\n"
     ]
    }
   ],
   "source": [
    "def printPicnic(itemsDict, leftWidth, rightWidth):\n",
    "    print('PICNIC ITEMS'.center(leftWidth + rightWidth, '-'))\n",
    "    for k, v in itemsDict.items():\n",
    "        print(k.ljust(leftWidth, '.') + str(v).rjust(rightWidth))\n",
    "\n",
    "picnicItems = {'sandwiches': 4, 'apples': 12, 'cups': 4, 'cookies': 8000}\n",
    "printPicnic(picnicItems, 12, 5)\n",
    "printPicnic(picnicItems, 20, 6)"
   ]
  },
  {
   "cell_type": "code",
   "execution_count": 19,
   "metadata": {},
   "outputs": [
    {
     "name": "stdout",
     "output_type": "stream",
     "text": [
      "There is no account named -f\n"
     ]
    }
   ],
   "source": [
    "#! python3\n",
    "# pw.py - An insecure password locker program.\n",
    "\n",
    "PASSWORDS = {'email': 'F7minlBDDuvMJuxESSKHFhTxFtjVB6',\n",
    "             'blog': 'VmALvQyKAxiVH5G8v01if1MLZF3sdt',\n",
    "             'luggage': '12345'}\n",
    "\n",
    "import sys, pyperclip\n",
    "if len(sys.argv) < 2:\n",
    "    print('Usage: py pw.py [account] - copy account password')\n",
    "    sys.exit()\n",
    "\n",
    "account = sys.argv[1] # first command line arg is the account name\n",
    "\n",
    "if account in PASSWORDS:\n",
    "    pyperclip.copy(PASSWORDS[account])\n",
    "    print('Password for ' + account + ' copied to clipboard.')\n",
    "else:\n",
    "    print('There is no account named ' + account)\n"
   ]
  },
  {
   "cell_type": "code",
   "execution_count": null,
   "metadata": {},
   "outputs": [],
   "source": []
  },
  {
   "cell_type": "code",
   "execution_count": null,
   "metadata": {},
   "outputs": [],
   "source": []
  },
  {
   "cell_type": "code",
   "execution_count": null,
   "metadata": {},
   "outputs": [],
   "source": []
  },
  {
   "cell_type": "code",
   "execution_count": null,
   "metadata": {},
   "outputs": [],
   "source": []
  },
  {
   "cell_type": "code",
   "execution_count": null,
   "metadata": {},
   "outputs": [],
   "source": []
  },
  {
   "cell_type": "code",
   "execution_count": null,
   "metadata": {},
   "outputs": [],
   "source": []
  },
  {
   "cell_type": "markdown",
   "metadata": {},
   "source": [
    "#### Tuple : 在我們的程序中存儲關於對象的有限、異構數據。考慮類似結構或類似 SQL 的對象。“凍結”一個序列的哈希性（列表不能被哈希）強制不變性\n"
   ]
  },
  {
   "cell_type": "code",
   "execution_count": 98,
   "metadata": {},
   "outputs": [
    {
     "data": {
      "text/plain": [
       "True"
      ]
     },
     "execution_count": 98,
     "metadata": {},
     "output_type": "execute_result"
    }
   ],
   "source": [
    "# You can't edit elements...\n",
    "fish = (1, 2, \"red\", \"blue\")\n",
    "fish[0] # => 1\n",
    "\n",
    "# ...but everything else works normally\n",
    "len(fish) # => 4\n",
    "fish[:-1] # => (1, 2, 'red')\n",
    "\"red\" in fish # => True"
   ]
  },
  {
   "cell_type": "code",
   "execution_count": 52,
   "metadata": {},
   "outputs": [],
   "source": [
    "numbers = [100, 200, 300, 400, 500]\n",
    "new_set = {s for s in numbers}"
   ]
  },
  {
   "cell_type": "code",
   "execution_count": 53,
   "metadata": {},
   "outputs": [
    {
     "name": "stdout",
     "output_type": "stream",
     "text": [
      "{100, 200, 300, 400, 500}\n"
     ]
    }
   ],
   "source": [
    "print(new_set)"
   ]
  },
  {
   "cell_type": "code",
   "execution_count": 54,
   "metadata": {},
   "outputs": [
    {
     "name": "stdout",
     "output_type": "stream",
     "text": [
      "{160000, 40000, 10000, 90000, 250000}\n"
     ]
    }
   ],
   "source": [
    "new_set = {s ** 2 for s in numbers}\n",
    "print(new_set)"
   ]
  },
  {
   "cell_type": "code",
   "execution_count": 55,
   "metadata": {},
   "outputs": [
    {
     "data": {
      "text/plain": [
       "{0, 1, 4, 9, 16, 25, 36, 49}"
      ]
     },
     "execution_count": 55,
     "metadata": {},
     "output_type": "execute_result"
    }
   ],
   "source": [
    "{n ** 2 for n in range(8)}"
   ]
  },
  {
   "cell_type": "code",
   "execution_count": 56,
   "metadata": {},
   "outputs": [],
   "source": [
    "numbers = [1, 2, 3, 4, 5]\n",
    "new_set = {s for s in numbers if s % 2 == 0}"
   ]
  },
  {
   "cell_type": "code",
   "execution_count": 57,
   "metadata": {
    "scrolled": true
   },
   "outputs": [
    {
     "name": "stdout",
     "output_type": "stream",
     "text": [
      "{2, 4}\n"
     ]
    }
   ],
   "source": [
    "print(new_set)"
   ]
  },
  {
   "cell_type": "code",
   "execution_count": 23,
   "metadata": {},
   "outputs": [
    {
     "name": "stdout",
     "output_type": "stream",
     "text": [
      "0\n",
      "2\n",
      "3\n"
     ]
    }
   ],
   "source": [
    "myTuple = [1, 22, 22, 22, 4, 3, 3]\n",
    "print(myTuple.count(0))\n",
    "print(myTuple.count(3))\n",
    "print(myTuple.count(22))"
   ]
  },
  {
   "cell_type": "code",
   "execution_count": 2,
   "metadata": {},
   "outputs": [
    {
     "name": "stdout",
     "output_type": "stream",
     "text": [
      "frozenset({1, 2, 3, 4})\n",
      "frozenset({3, 4, 5, 6})\n",
      "frozenset({1, 2})\n",
      "frozenset({1, 2, 3, 4, 5, 6})\n",
      "frozenset({3, 4})\n",
      "frozenset({1, 2, 5, 6})\n"
     ]
    }
   ],
   "source": [
    "# python frozenset\n",
    "# Frozenset is a new class that has the characteristics of a set, but its elements cannot be changed once assigned. \n",
    "# While tuples are immutable Lists, frozensets are immutable sets. initialize A and B\n",
    "myset1 = frozenset([1,2,3,4])\n",
    "myset2 = frozenset([3,4,5, 6])\n",
    "print(myset1)\n",
    "print(myset2)\n",
    "print(myset1.difference(myset2))\n",
    "print(myset1.union(myset2))\n",
    "print(myset1.intersection(myset2))\n",
    "print(myset1.symmetric_difference(myset2))\n",
    "# myset1.add(10)"
   ]
  },
  {
   "cell_type": "code",
   "execution_count": 5,
   "metadata": {},
   "outputs": [
    {
     "name": "stdout",
     "output_type": "stream",
     "text": [
      "{1: 1, 2: 4, 3: 9, 4: 16, 5: 25}\n",
      "16\n",
      "{1: 1, 2: 4, 3: 9, 5: 25}\n",
      "(5, 25)\n",
      "{1: 1, 2: 4, 3: 9}\n",
      "{2: 4, 3: 9}\n"
     ]
    }
   ],
   "source": [
    "# Creating a new dictionary\n",
    "squares ={1:1,2:4,3:9, 4:16, 5:25}\n",
    "print(squares)\n",
    "# remove a particular item\n",
    "print(squares.pop(4))\n",
    "print(squares)\n",
    "# remove an arbitrary item\n",
    "print(squares.popitem())\n",
    "print(squares)\n",
    "# delete a particular item\n",
    "del squares[1]\n",
    "print(squares)"
   ]
  },
  {
   "cell_type": "code",
   "execution_count": null,
   "metadata": {},
   "outputs": [],
   "source": [
    "re-RegularExpressionmyList = [1, 22, 25, 2, 4, 3, 3]\n",
    "print(myList[1:4])\n",
    "\n",
    "myList = [1, 22, 25, 2, 4, 3, 3]\n",
    "print(myList[:4])\n",
    "\n",
    "myList = [1, 22, 25, 2, 4, 3, 3]\n",
    "print(myList[::2])\n",
    "\n",
    "#加入串列的最後\n",
    "myList = [1, 22, 345]\n",
    "myList.append(10)\n",
    "print(myList)\n",
    "\n",
    "#將一個串列加到另一個串列，那會變成加入一個是串列的元\n",
    "list1=[1, 22, 345]\n",
    "list2=[1, 2, 3]\n",
    "list1.append(list2)\n",
    "print(list1)\n",
    "\n",
    "#如果要將物件 obj 內的元加入串列，要用 extend(obj)\n",
    "list1=[1, 22, 345]\n",
    "list2=[1, 2, 3]\n",
    "list1.extend(list2)\n",
    "print(list1)\n",
    "\n",
    "#插入 X 值索引為 y 位置\n",
    "myList = [1, 22, 345]\n",
    "myList.insert(2, 5)\n",
    "print(myList)\n",
    "\n",
    "#移除第一個和 x 相等的元，並將後方的元向前移動\n",
    "myList = [1, 22, 345]\n",
    "myList.remove(22)\n",
    "print(myList)\n",
    "\n",
    "#移除索引為 i 的元並回傳值，預設為移除最後一筆\n",
    "myList = [1, 22, 345]\n",
    "a = myList.pop()\n",
    "print(myList)\n",
    "\n",
    "b=myList.pop(1)\n",
    "print(myList)\n",
    "print(a, b)\n",
    "\n",
    "#移除所有的元\n",
    "myList = [1, 22, 345]\n",
    "myList.clear()\n",
    "print(myList)\n",
    "\n",
    "# 將串列反轉\n",
    "myList = [1, 22, 345]\n",
    "myList.reverse()\n",
    "print(myList)\n",
    "\n",
    "# 將串列的元由值的大小排列，預設由小到大排列，當 reverse 為 True 時由大到小\n",
    "myList = [1, 22, 345, 55, 43]\n",
    "myList.sort()\n",
    "print(myList)\n",
    "\n",
    "myList.sort(reverse=True)\n",
    "print(myList)\n",
    "\n",
    "# 回傳串列中有幾個值為 x 的元\n",
    "myList = [1, 22, 22, 22, 4, 3, 3]\n",
    "print(myList.count(0))\n",
    "print(myList.count(3))\n",
    "print(myList.count(22))\n",
    "\n",
    "myTuple=(1, 3, 4, 5, 64)\n",
    "print(\"第一項:\", myTuple[0])\n",
    "\n",
    "# 元組(Tuple)\n",
    "\n",
    "myTuple = [1, 22, 22, 22, 4, 3, 3]\n",
    "print(myTuple.count(0))\n",
    "print(myTuple.count(3))\n",
    "print(myTuple.count(22))\n",
    "\n",
    "# python frozenset\n",
    "# Frozenset is a new class that has the characteristics of a set, but its elements cannot be changed once assigned. \n",
    "# While tuples are immutable Lists, frozensets are immutable sets. initialize A and B\n",
    "myset1 = frozenset([1,2,3,4])\n",
    "myset2 = frozenset([3,4,5, 6])\n",
    "print(myset1)\n",
    "print(myset2)\n",
    "print(myset1.difference(myset2))\n",
    "print(myset1.union(myset2))\n",
    "print(myset1.intersection(myset2))\n",
    "print(myset1.symmetric_difference(myset2))\n",
    "# myset1.add(10)\n",
    "\n",
    "# Creating a new dictionary\n",
    "squares ={1:1,2:4,3:9, 4:16, 5:25}\n",
    "print(squares)\n",
    "# remove a particular item\n",
    "print(squares.pop(4))\n",
    "print(squares)\n",
    "# remove an arbitrary item\n",
    "print(squares.popitem())\n",
    "print(squares)\n",
    "# delete a particular item\n",
    "del squares[1]\n",
    "print(squares)"
   ]
  },
  {
   "cell_type": "code",
   "execution_count": null,
   "metadata": {},
   "outputs": [],
   "source": []
  },
  {
   "cell_type": "code",
   "execution_count": null,
   "metadata": {},
   "outputs": [],
   "source": []
  },
  {
   "cell_type": "code",
   "execution_count": null,
   "metadata": {},
   "outputs": [],
   "source": []
  },
  {
   "cell_type": "code",
   "execution_count": null,
   "metadata": {},
   "outputs": [],
   "source": []
  },
  {
   "cell_type": "markdown",
   "metadata": {},
   "source": [
    "#### 字典（Dictionary）\n",
    "Dictionary 有時被稱為 \"關聯記憶體\" (associative memories) 或 \"關聯矩陣\" (associative arrays) 。不像序列是由一個範圍內的數字當作索引， dictionary 是由 key （鍵）來當索引， key 可以是任何不可變的型態；字串和數字都可以當作 key 。 Tuple 也可以當作 key 如果他們只含有字串、數字或 tuple；若一個 tuple 直接或間接地含有任何可變的物件，它就不能當作 key 。我們無法使用 list 當作 key ，因為 list 可以經由索引操作、切片操作或是方法像是 append() 和 extend() 來修改。\n",
    "\n",
    "思考 dict 最好的方式是把它想成是一組鍵值對 (key: value pair) 的集合，其中 key 在同一個 dictionary（字典）裡必須是獨一無二的。使用一對大括號可創建一個空的字典 ：{}。將一串由逗號分隔的鍵值對置於大括號則可初始化字典。這同樣也是字典輸出時的格式。\n",
    "\n",
    "Dict 主要的操作為藉由鍵來儲存一個值並且可藉由該鍵來取出該值。也可以使用 del 來刪除鍵值對。如果我們使用用過的鍵來儲存，該鍵所對應的較舊的值會被覆蓋。使用不存在的鍵來取出值會造成錯誤。\n",
    "\n",
    "對字典使用 list(d) 會得到一個包含該字典所有鍵（key）的 list，其排列順序為插入時的順序。（若想要排序，則使用 sorted(d) 代替即可）。如果想確認一個鍵是否已存在於字典中，可使用關鍵字 in 。"
   ]
  },
  {
   "cell_type": "code",
   "execution_count": 99,
   "metadata": {},
   "outputs": [
    {
     "data": {
      "text/plain": [
       "True"
      ]
     },
     "execution_count": 99,
     "metadata": {},
     "output_type": "execute_result"
    }
   ],
   "source": [
    "empty = {}\n",
    "type(empty) # => dict\n",
    "\n",
    "a = {\"one\": 1, \"two\": 2, \"three\": 3} \n",
    "b = dict(one=1, two=2, three=3) \n",
    "c = dict([('one', 1), ('two', 2), ('three', 3)])\n",
    "a == b == c # => True"
   ]
  },
  {
   "cell_type": "code",
   "execution_count": 32,
   "metadata": {},
   "outputs": [
    {
     "name": "stdout",
     "output_type": "stream",
     "text": [
      "{1: 1, 2: 4, 3: 9, 4: 16, 5: 25, 6: 36, 7: 49, 8: 64, 9: 81}\n"
     ]
    }
   ],
   "source": [
    "d={num:num*num for num in range(1,10)}\n",
    "print(d)"
   ]
  },
  {
   "cell_type": "code",
   "execution_count": 33,
   "metadata": {},
   "outputs": [
    {
     "data": {
      "text/plain": [
       "{'jack': 4098, 'david': 4139, 'mark': 4127}"
      ]
     },
     "execution_count": 33,
     "metadata": {},
     "output_type": "execute_result"
    }
   ],
   "source": [
    "tel = {'jack': 4098, 'david': 4139}\n",
    "tel['mark'] = 4127\n",
    "tel"
   ]
  },
  {
   "cell_type": "code",
   "execution_count": 34,
   "metadata": {},
   "outputs": [
    {
     "data": {
      "text/plain": [
       "{'jack': 4098, 'mark': 4127}"
      ]
     },
     "execution_count": 34,
     "metadata": {},
     "output_type": "execute_result"
    }
   ],
   "source": [
    "del tel['david']\n",
    "tel"
   ]
  },
  {
   "cell_type": "code",
   "execution_count": 35,
   "metadata": {},
   "outputs": [
    {
     "data": {
      "text/plain": [
       "True"
      ]
     },
     "execution_count": 35,
     "metadata": {},
     "output_type": "execute_result"
    }
   ],
   "source": [
    "'mark' in tel"
   ]
  },
  {
   "cell_type": "code",
   "execution_count": 36,
   "metadata": {},
   "outputs": [
    {
     "data": {
      "text/plain": [
       "{'sape': 4139, 'guido': 4127, 'jack': 4098}"
      ]
     },
     "execution_count": 36,
     "metadata": {},
     "output_type": "execute_result"
    }
   ],
   "source": [
    "# 函式 dict() 可直接透過一串鍵值對序列來創建 dict\n",
    "dict([('sape', 4139), ('guido', 4127), ('jack', 4098)])"
   ]
  },
  {
   "cell_type": "code",
   "execution_count": 37,
   "metadata": {},
   "outputs": [
    {
     "data": {
      "text/plain": [
       "{2: 4, 4: 16, 6: 36}"
      ]
     },
     "execution_count": 37,
     "metadata": {},
     "output_type": "execute_result"
    }
   ],
   "source": [
    "# 此外， dict comprehensions 也可以透過鍵與值的陳述式來創建 dict \n",
    "{x: x**2 for x in (2, 4, 6)}"
   ]
  },
  {
   "cell_type": "code",
   "execution_count": 38,
   "metadata": {},
   "outputs": [
    {
     "data": {
      "text/plain": [
       "{'sape': 4139, 'guido': 4127, 'jack': 4098}"
      ]
     },
     "execution_count": 38,
     "metadata": {},
     "output_type": "execute_result"
    }
   ],
   "source": [
    "# 當鍵是簡單的字串時，使用關鍵字引數 (keyword arguments) 有時會較為簡潔\n",
    "dict(sape=4139, guido=4127, jack=4098)"
   ]
  },
  {
   "cell_type": "code",
   "execution_count": 39,
   "metadata": {},
   "outputs": [
    {
     "name": "stdout",
     "output_type": "stream",
     "text": [
      "sape's tel number is 4139\n",
      "guido's tel number is 4127\n",
      "jack's tel number is 4098\n"
     ]
    }
   ],
   "source": [
    "# 當對 dict 作迴圈時，鍵以及其對應的值可以藉由使用 items() 方法來同時取得\n",
    "tel = dict(sape=4139, guido=4127, jack=4098)\n",
    "for key, value in tel.items():\n",
    "    print(f'{key}\\'s tel number is {value}')"
   ]
  },
  {
   "cell_type": "code",
   "execution_count": 40,
   "metadata": {},
   "outputs": [
    {
     "name": "stdout",
     "output_type": "stream",
     "text": [
      "0 A0\n",
      "1 B1\n",
      "2 C2\n"
     ]
    }
   ],
   "source": [
    "# 當對序列作迴圈時，位置索引及其對應的值可以藉由使用 enumerate() 函式來同時取得\n",
    "for i, v in enumerate(['A0', 'B1', 'C2']):\n",
    "    print(i, v)"
   ]
  },
  {
   "cell_type": "code",
   "execution_count": 41,
   "metadata": {},
   "outputs": [
    {
     "name": "stdout",
     "output_type": "stream",
     "text": [
      "A D\n",
      "B E\n",
      "C F\n"
     ]
    }
   ],
   "source": [
    "# 要同時對兩個以上的序列作迴圈，可以將其以成對的方式放入 zip() 函式：\n",
    "x = ['A','B','C']\n",
    "y = ['D','E','F']\n",
    "for i, j in zip(x, y):\n",
    "    print(i,j)"
   ]
  },
  {
   "cell_type": "code",
   "execution_count": 42,
   "metadata": {},
   "outputs": [
    {
     "name": "stdout",
     "output_type": "stream",
     "text": [
      "A D\n",
      "B E\n",
      "C F\n"
     ]
    }
   ],
   "source": [
    "# 當 list 長度不一樣時\n",
    "x = ['A','B','C']\n",
    "y = ['D','E','F','G']\n",
    "for i, j in zip(x, y):\n",
    "    print(i,j)"
   ]
  },
  {
   "cell_type": "code",
   "execution_count": 43,
   "metadata": {},
   "outputs": [
    {
     "name": "stdout",
     "output_type": "stream",
     "text": [
      "9\n",
      "7\n",
      "5\n",
      "3\n",
      "1\n"
     ]
    }
   ],
   "source": [
    "# 要對序列作反向的迴圈，首先先寫出正向的序列，在對其使用 reversed() 函式\n",
    "for i in reversed(range(1, 10, 2)):\n",
    "    print(i)"
   ]
  },
  {
   "cell_type": "code",
   "execution_count": 44,
   "metadata": {},
   "outputs": [
    {
     "name": "stdout",
     "output_type": "stream",
     "text": [
      "apple\n",
      "apple\n",
      "banana\n",
      "orange\n",
      "orange\n",
      "pear\n"
     ]
    }
   ],
   "source": [
    "# 要以迴圈對序列作排序，使用 sorted() 函式會得到一個新的經排序過的 list ，但不會改變原本的序列\n",
    "basket = ['apple', 'orange', 'apple', 'pear', 'orange', 'banana']\n",
    "for i in sorted(basket):\n",
    "    print(i)    "
   ]
  },
  {
   "cell_type": "code",
   "execution_count": 45,
   "metadata": {},
   "outputs": [
    {
     "name": "stdout",
     "output_type": "stream",
     "text": [
      "apple\n",
      "banana\n",
      "orange\n",
      "pear\n"
     ]
    }
   ],
   "source": [
    "# 對一個序列使用set()將去除重複的元素。對一個序列使用sorted()加set()則是按排序後順序循環遍歷序列中唯一元素的一種慣用方式。\n",
    "basket = ['apple', 'orange', 'apple', 'pear', 'orange', 'banana']\n",
    "for f in sorted(set(basket)):\n",
    "    print(f)"
   ]
  },
  {
   "cell_type": "code",
   "execution_count": 46,
   "metadata": {},
   "outputs": [
    {
     "name": "stdout",
     "output_type": "stream",
     "text": [
      "Sumar listas ['Juan', 'Karla', 'Pedro', 'Laura', 'María', 'Gonzalo', 'Ernesto']\n",
      "Extender la lista1: ['Juan', 'Karla', 'Pedro', 'Laura', 'María', 'Gonzalo', 'Ernesto']\n",
      "Lista original: [10, 40, 15, 4, 20, 90, 4]\n",
      "Índice 4: 3\n",
      "Lista invertida: [4, 90, 20, 4, 15, 40, 10]\n",
      "Lista ordenada (ascendente): [4, 4, 10, 15, 20, 40, 90]\n",
      "Lista ordenada (descendente): [90, 40, 20, 15, 10, 4, 4]\n",
      "Valor mínimo: 4\n",
      "Valor máximo: 90\n",
      "Misma referencia? False\n",
      "Mismo contenido? True\n",
      "Misma referencia? False\n",
      "Mismo contenido? True\n",
      "Misma referencia? False\n",
      "Mismo contenido? True\n",
      "[[2, 5], [2, 5], [2, 5], [2, 5], [2, 5]]\n",
      "Misma referencia: True\n",
      "Mismo contenido: True\n",
      "[[2, 5, 10], [2, 5, 10], [2, 5, 10], [2, 5, 10], [2, 5, 10]]\n",
      "Matriz original: [[10, 20], [30, 40, 50], [60, 70, 80, 90]]\n",
      "Renglón 0, Columna 0: 10\n",
      "Renglón 2, Columna 3: 90\n",
      "Matriz modificada: [[10, 20], [30, 40, 50], [65, 70, 80, 90]]\n"
     ]
    }
   ],
   "source": [
    "# Profundizando listas\n",
    "# Listas son mutables\n",
    "nombres1 = ['Juan', 'Karla', 'Pedro']\n",
    "nombres2 = 'Laura María Gonzalo Ernesto'.split()\n",
    "# Sumar listas\n",
    "print(f'Sumar listas {nombres1 + nombres2}')\n",
    "# Extender una lista con otra lista\n",
    "nombres1.extend(nombres2)\n",
    "print(f'Extender la lista1: {nombres1}')\n",
    "\n",
    "# Lista de números\n",
    "numeros1 = [10, 40, 15, 4, 20, 90, 4]\n",
    "print(f'Lista original: {numeros1}')\n",
    "# obtener el índice del primer elemento encontrado en una lista\n",
    "# help(list.index)\n",
    "print(f'Índice 4: {numeros1.index(4)}')\n",
    "\n",
    "# Invertir el orden de los elementos de una lista\n",
    "numeros1.reverse()\n",
    "print(f'Lista invertida: {numeros1}')\n",
    "\n",
    "# Ordenar los elementos de una lista\n",
    "numeros1.sort()\n",
    "print(f'Lista ordenada (ascendente): {numeros1}')\n",
    "# Ordenar de manera descendente una lista\n",
    "numeros1.sort(reverse=True)\n",
    "print(f'Lista ordenada (descendente): {numeros1}')\n",
    "\n",
    "# Obtener el valor min y max de una lista\n",
    "print(f'Valor mínimo: {min(numeros1)}')\n",
    "print(f'Valor máximo: {max(numeros1)}')\n",
    "\n",
    "# Copiar los elementos de una lista\n",
    "numeros2 = numeros1.copy()\n",
    "# help(list.copy)\n",
    "print(f'Misma referencia? {numeros1 is numeros2}')\n",
    "print(f'Mismo contenido? {numeros1 == numeros2}')\n",
    "\n",
    "# Podemos usar el constructor de la lista\n",
    "numeros2 = list(numeros1)\n",
    "print(f'Misma referencia? {numeros1 is numeros2}')\n",
    "print(f'Mismo contenido? {numeros1 == numeros2}')\n",
    "\n",
    "# slicing\n",
    "numeros2 = numeros1[:]\n",
    "print(f'Misma referencia? {numeros1 is numeros2}')\n",
    "print(f'Mismo contenido? {numeros1 == numeros2}')\n",
    "\n",
    "# Multiplicación listas\n",
    "lista_multiplicacion = 5*[[2, 5]]\n",
    "print(lista_multiplicacion)\n",
    "print(f'Misma referencia: {lista_multiplicacion[0] is lista_multiplicacion[1]}')\n",
    "print(f'Mismo contenido: {lista_multiplicacion[0] == lista_multiplicacion[1]}')\n",
    "lista_multiplicacion[2].append(10)\n",
    "print(lista_multiplicacion)\n",
    "\n",
    "# Matrices en Python\n",
    "matriz = [[10, 20], [30, 40, 50], [60, 70, 80, 90]]\n",
    "print(f'Matriz original: {matriz}')\n",
    "print(f'Renglón 0, Columna 0: {matriz[0][0]}')\n",
    "print(f'Renglón 2, Columna 3: {matriz[2][3]}')\n",
    "matriz[2][0] = 65\n",
    "print(f'Matriz modificada: {matriz}')"
   ]
  },
  {
   "cell_type": "code",
   "execution_count": 47,
   "metadata": {},
   "outputs": [
    {
     "name": "stdout",
     "output_type": "stream",
     "text": [
      "{'IDE': 'Integrated Development Environment', 'OOP': 'Object Oriented Programming', 'DBMS': 'Database Management System'}\n",
      "3\n",
      "Integrated Development Environment\n",
      "Object Oriented Programming\n",
      "{'IDE': 'integrated development environment', 'OOP': 'Object Oriented Programming', 'DBMS': 'Database Management System'}\n"
     ]
    }
   ],
   "source": [
    "# dict (key, value)\n",
    "diccionario = {\n",
    "    'IDE':'Integrated Development Environment',\n",
    "    'OOP':'Object Oriented Programming',\n",
    "    'DBMS':'Database Management System'\n",
    "}\n",
    "print(diccionario)\n",
    "#largo\n",
    "print(len(diccionario))\n",
    "# acceder a un elemento (key)\n",
    "print( diccionario['IDE'])\n",
    "# otra forma de recuperar un elemento\n",
    "print(diccionario.get('OOP'))\n",
    "# modificando elementos\n",
    "diccionario['IDE'] = 'integrated development environment'\n",
    "print(diccionario)\n"
   ]
  },
  {
   "cell_type": "code",
   "execution_count": 48,
   "metadata": {},
   "outputs": [
    {
     "name": "stdout",
     "output_type": "stream",
     "text": [
      "{'Nombre': 'Juan', 'Apellido': 'Perez', 'Edad': 28}\n",
      "{'Nombre': 'Juan', 'Apellido': 'Perez', 'Edad': 28}\n",
      "{'Nombre': 'Juan', 'Apellido': 'Perez', 'Edad': 28, 'Departamento': 'Sistemas'}\n",
      "{'Nombre': 'Juan Carlos', 'Apellido': 'Perez', 'Edad': 28, 'Departamento': 'Sistemas'}\n",
      "Juan Carlos\n",
      "No se encontró la llave\n",
      "{'Nombre': 'Juan Carlos', 'Apellido': 'Perez', 'Edad': 28, 'Departamento': 'Sistemas'}\n",
      "Valor por default\n",
      "{'Nombre': 'Juan Carlos', 'Apellido': 'Perez', 'Edad': 28, 'Departamento': 'Sistemas', 'Nombres': 'Valor por default'}\n",
      "{'Nombre': 'Juan Carlos',\n",
      " 'Apellido': 'Perez',\n",
      " 'Edad': 28,\n",
      " 'Departamento': 'Sistemas',\n",
      " 'Nombres': 'Valor por default'}\n"
     ]
    }
   ],
   "source": [
    "# Produndizando en diccionarios\n",
    "\n",
    "# Los dic guardan un orden (a diferencia de un set)\n",
    "diccionario = {'Nombre':'Juan','Apellido':'Perez','Edad':28}\n",
    "print(diccionario)\n",
    "\n",
    "# Los dic son mutables, pero las llaves deben ser inmutables\n",
    "# diccionario = {[1,2]:'Valor1'}\n",
    "# diccionario = {(1,2):'Valor1'}\n",
    "print(diccionario)\n",
    "\n",
    "# Se agrega una llave si no se encuentra\n",
    "diccionario['Departamento'] = 'Sistemas'\n",
    "print(diccionario)\n",
    "\n",
    "# No hay valores duplicados en las llaves de un diccionario (si ya existe se reemplaza)\n",
    "diccionario['Nombre'] = 'Juan Carlos'\n",
    "print(diccionario)\n",
    "\n",
    "# Recuperar un valor indicando una llave\n",
    "print(diccionario['Nombre'])\n",
    "# Si no encuentra la llave lanza una excepcion\n",
    "# print(diccionario['nombre'])\n",
    "\n",
    "# Método get recupera una llave, y si no existe NO lanza excepción\n",
    "# además podemos regresar un valor en caso de que no exista la llave\n",
    "print(diccionario.get('Nombres','No se encontró la llave'))\n",
    "print(diccionario)\n",
    "\n",
    "# setdefault sí modifica el diccionario, además se agregar un valor por default\n",
    "nombre = diccionario.setdefault('Nombres','Valor por default')\n",
    "print(nombre)\n",
    "print(diccionario)\n",
    "\n",
    "# Imprimir con pprint\n",
    "from pprint import pprint as pp\n",
    "# help(pp)\n",
    "pp(diccionario, sort_dicts=False)"
   ]
  },
  {
   "cell_type": "code",
   "execution_count": 49,
   "metadata": {},
   "outputs": [],
   "source": [
    "numbers = [100, 200, 300, 400, 500]\n",
    "students = ['Joe', 'Ronald', 'Ahmed', 'Marcelo', 'Alves']"
   ]
  },
  {
   "cell_type": "code",
   "execution_count": 50,
   "metadata": {},
   "outputs": [
    {
     "name": "stdout",
     "output_type": "stream",
     "text": [
      "{'Joe': 100, 'Ronald': 200, 'Ahmed': 300, 'Marcelo': 400, 'Alves': 500}\n"
     ]
    }
   ],
   "source": [
    "new_dict = {x: y for (x, y) in zip(students, numbers)}\n",
    "print(new_dict)"
   ]
  },
  {
   "cell_type": "code",
   "execution_count": 51,
   "metadata": {},
   "outputs": [
    {
     "name": "stdout",
     "output_type": "stream",
     "text": [
      "{10: 100, 20: 400}\n"
     ]
    }
   ],
   "source": [
    "numbers = [1, 5, 10, 15, 20, 25]\n",
    "my_dictionary = {x: x ** 2 for x in numbers if x ** 2 % 4 == 0}\n",
    "print(my_dictionary)"
   ]
  },
  {
   "cell_type": "code",
   "execution_count": null,
   "metadata": {},
   "outputs": [],
   "source": []
  },
  {
   "cell_type": "code",
   "execution_count": null,
   "metadata": {},
   "outputs": [],
   "source": []
  },
  {
   "cell_type": "markdown",
   "metadata": {},
   "source": [
    "#### 集合 (Sets)\n",
    "Python 也包含了一種用在集合 (sets) 的資料結構。一個 set 是一組無序且沒有重複的元素。基本的使用方式包括了成員測試和消除重複項。 Set 物件也支援聯集，交集，差集和互斥等數學操作。\n",
    "\n",
    "- Sets is Collection of elements with different data type\n",
    "- No dublicates elements inside the sets"
   ]
  },
  {
   "cell_type": "code",
   "execution_count": 112,
   "metadata": {},
   "outputs": [
    {
     "name": "stdout",
     "output_type": "stream",
     "text": [
      "banana-pear-apple-orange-"
     ]
    }
   ],
   "source": [
    "empty_set = set() # why not {}?\n",
    "set_from_list = set([1, 2, 1, 4, 3]) # => {1, 3, 4, 2}\n",
    "basket = {'orange', 'banana', 'pear', 'apple'}\n",
    "len(basket) # => 4\n",
    "'orange' in basket # => True\n",
    "'crabgrass' in basket # => False\n",
    "\n",
    "for fruit in basket:\n",
    "    print(fruit, end=\"-\")"
   ]
  },
  {
   "cell_type": "code",
   "execution_count": 19,
   "metadata": {},
   "outputs": [
    {
     "data": {
      "text/plain": [
       "{1, 2, 3, 4, 5, 6, 7, 8, 9}"
      ]
     },
     "execution_count": 19,
     "metadata": {},
     "output_type": "execute_result"
    }
   ],
   "source": [
    "numbers= {x for x in range(1,10)}\n",
    "numbers"
   ]
  },
  {
   "cell_type": "code",
   "execution_count": 20,
   "metadata": {},
   "outputs": [
    {
     "data": {
      "text/plain": [
       "{'apple', 'banana', 'orange', 'pear'}"
      ]
     },
     "execution_count": 20,
     "metadata": {},
     "output_type": "execute_result"
    }
   ],
   "source": [
    "basket = {'apple', 'orange', 'apple', 'pear', 'orange', 'banana'}\n",
    "basket"
   ]
  },
  {
   "cell_type": "code",
   "execution_count": 21,
   "metadata": {},
   "outputs": [
    {
     "data": {
      "text/plain": [
       "True"
      ]
     },
     "execution_count": 21,
     "metadata": {},
     "output_type": "execute_result"
    }
   ],
   "source": [
    "basket = {'apple', 'orange', 'apple', 'pear', 'orange', 'banana'}\n",
    "'orange' in basket"
   ]
  },
  {
   "cell_type": "code",
   "execution_count": 22,
   "metadata": {},
   "outputs": [
    {
     "name": "stdout",
     "output_type": "stream",
     "text": [
      "{'b', 'a', 'c'} {'x', 'z', 'y'}\n"
     ]
    }
   ],
   "source": [
    "a = set('abc')\n",
    "b = set('xyz')\n",
    "print(a,b)"
   ]
  },
  {
   "cell_type": "code",
   "execution_count": null,
   "metadata": {},
   "outputs": [],
   "source": []
  },
  {
   "cell_type": "code",
   "execution_count": 23,
   "metadata": {},
   "outputs": [
    {
     "data": {
      "text/plain": [
       "{'April', 'Juan', True}"
      ]
     },
     "execution_count": 23,
     "metadata": {},
     "output_type": "execute_result"
    }
   ],
   "source": [
    "Sett = {'Juan', True}\n",
    "Sett.add('April')\n",
    "Sett"
   ]
  },
  {
   "cell_type": "code",
   "execution_count": 24,
   "metadata": {},
   "outputs": [
    {
     "data": {
      "text/plain": [
       "{100, 200, 300, 'April', 'Juan', True}"
      ]
     },
     "execution_count": 24,
     "metadata": {},
     "output_type": "execute_result"
    }
   ],
   "source": [
    "Sett.update({100,200,300,300})\n",
    "Sett"
   ]
  },
  {
   "cell_type": "code",
   "execution_count": 25,
   "metadata": {},
   "outputs": [
    {
     "name": "stdout",
     "output_type": "stream",
     "text": [
      "True\n",
      "False\n"
     ]
    }
   ],
   "source": [
    "Sett2 = Sett.copy()\n",
    "print(f'{Sett == Sett2}')  #True\n",
    "print(f'{Sett is Sett2}')  #False"
   ]
  },
  {
   "cell_type": "code",
   "execution_count": 26,
   "metadata": {},
   "outputs": [
    {
     "data": {
      "text/plain": [
       "{100, 200, 300, 'April', 'Juan', True, 'Uni1', 'Uni2', 'Uni3'}"
      ]
     },
     "execution_count": 26,
     "metadata": {},
     "output_type": "execute_result"
    }
   ],
   "source": [
    "Sett.union({'Uni1','Uni2','Uni3'})"
   ]
  },
  {
   "cell_type": "code",
   "execution_count": 27,
   "metadata": {},
   "outputs": [
    {
     "data": {
      "text/plain": [
       "{100, 200, 300, 'April', 'Juan', True}"
      ]
     },
     "execution_count": 27,
     "metadata": {},
     "output_type": "execute_result"
    }
   ],
   "source": [
    "Sett.difference({'diff1','diff2','diff3'})"
   ]
  },
  {
   "cell_type": "code",
   "execution_count": 28,
   "metadata": {},
   "outputs": [
    {
     "data": {
      "text/plain": [
       "True"
      ]
     },
     "execution_count": 28,
     "metadata": {},
     "output_type": "execute_result"
    }
   ],
   "source": [
    "Sett.issubset({'Uni1','Uni2','Uni3'})\n",
    "Sett.isdisjoint({'Uni1','Uni2','Uni3'})"
   ]
  },
  {
   "cell_type": "code",
   "execution_count": 29,
   "metadata": {},
   "outputs": [
    {
     "data": {
      "text/plain": [
       "{0, 2, 4}"
      ]
     },
     "execution_count": 29,
     "metadata": {},
     "output_type": "execute_result"
    }
   ],
   "source": [
    "eve_list = [n for n in range(6) if n % 2 == 0]\n",
    "eve_set  = {s for s in range(6) if s % 2 == 0}\n",
    "eve_set"
   ]
  },
  {
   "cell_type": "code",
   "execution_count": 30,
   "metadata": {},
   "outputs": [
    {
     "data": {
      "text/plain": [
       "{0, 1, 4, 9, 16, 25}"
      ]
     },
     "execution_count": 30,
     "metadata": {},
     "output_type": "execute_result"
    }
   ],
   "source": [
    "square_list = [n * n for n in range(6)]\n",
    "square_set  = {n * n for n in range(6)}\n",
    "square_set"
   ]
  },
  {
   "cell_type": "code",
   "execution_count": 31,
   "metadata": {
    "scrolled": true
   },
   "outputs": [
    {
     "data": {
      "text/plain": [
       "{0, 1, 4, 9, 16, 25, 36, 49}"
      ]
     },
     "execution_count": 31,
     "metadata": {},
     "output_type": "execute_result"
    }
   ],
   "source": [
    "{n ** 2 for n in range(8)}"
   ]
  },
  {
   "cell_type": "markdown",
   "metadata": {},
   "source": [
    "#### Advance"
   ]
  },
  {
   "cell_type": "code",
   "execution_count": 85,
   "metadata": {},
   "outputs": [
    {
     "name": "stdout",
     "output_type": "stream",
     "text": [
      "What is your name? It is lancelot.\n",
      "What is your quest? It is the holy grail.\n",
      "What is your favorite color? It is blue.\n"
     ]
    }
   ],
   "source": [
    "# Advanced Looping - Zip\n",
    "\n",
    "questions = ['name', 'quest', 'favorite color']\n",
    "answers = ['lancelot', 'the holy grail', 'blue']\n",
    "for q, a in zip(questions, answers):\n",
    "    print('What is your {0}? It is {1}.'.format(q, a))"
   ]
  },
  {
   "cell_type": "code",
   "execution_count": 86,
   "metadata": {},
   "outputs": [
    {
     "name": "stdout",
     "output_type": "stream",
     "text": [
      "apple\n",
      "banana\n",
      "orange\n",
      "pear\n"
     ]
    }
   ],
   "source": [
    "# Advanced Looping - Sort \n",
    "\n",
    "basket = ['apple', 'orange', 'apple', 'pear', 'orange','banana']\n",
    "for f in sorted(set(basket)):\n",
    "    print(f)"
   ]
  },
  {
   "cell_type": "code",
   "execution_count": 87,
   "metadata": {},
   "outputs": [
    {
     "data": {
      "text/plain": [
       "[0, 1, 4, 9, 16, 25, 36, 49, 64, 81]"
      ]
     },
     "execution_count": 87,
     "metadata": {},
     "output_type": "execute_result"
    }
   ],
   "source": [
    "# Advanced Looping - Square Numbers\n",
    "\n",
    "squares = []\n",
    "for x in range(10):\n",
    "    squares.append(x**2)\n",
    "squares"
   ]
  },
  {
   "cell_type": "markdown",
   "metadata": {},
   "source": [
    "#### 可變物件 (list, set, dict) : 物件所指向的「記憶體中的值能否」被改變"
   ]
  },
  {
   "cell_type": "code",
   "execution_count": 95,
   "metadata": {},
   "outputs": [
    {
     "name": "stdout",
     "output_type": "stream",
     "text": [
      "['蛋糕', '蘋果', '香蕉', '牛奶']\n",
      "蛋糕, 蘋果, 香蕉\n"
     ]
    }
   ],
   "source": [
    "fridge = ['蛋糕', '蘋果', '香蕉'] # 記錄冰箱存放的東西: 當修改b裡面的值內容時，fridge的內容也會真的受到影響。\n",
    "b = fridge\n",
    "b+= ['牛奶']\n",
    "print(fridge) \n",
    "\n",
    "fridge = '蛋糕, 蘋果, 香蕉'       # 不可變物件\n",
    "b = fridge\n",
    "b+= ', 牛奶'\n",
    "print(fridge)"
   ]
  },
  {
   "cell_type": "markdown",
   "metadata": {},
   "source": [
    "#### 迭代 (str, list, set, tuple, dict) : 可利用迴圈遍歷把元素取出來的過程，可以進行for… in …  "
   ]
  },
  {
   "cell_type": "code",
   "execution_count": 96,
   "metadata": {},
   "outputs": [
    {
     "name": "stdout",
     "output_type": "stream",
     "text": [
      "H\n",
      "e\n",
      "1\n",
      "2\n"
     ]
    }
   ],
   "source": [
    "s= \"He\"  \n",
    "for c in s: print(c)  #可迭代\n",
    "    \n",
    "D={1:'A',2:'B'}\n",
    "for i in D: print(i)  #可迭代"
   ]
  },
  {
   "cell_type": "markdown",
   "metadata": {},
   "source": [
    "#### 重複與有序容器 (list 和 tuple) : 是否可以有重複,排序影響"
   ]
  },
  {
   "cell_type": "code",
   "execution_count": 97,
   "metadata": {},
   "outputs": [
    {
     "name": "stdout",
     "output_type": "stream",
     "text": [
      "{1, 2, 5}\n"
     ]
    }
   ],
   "source": [
    "S={1,2,2,2,5}\n",
    "print(S) #集合會自動去除重複的元素"
   ]
  },
  {
   "cell_type": "code",
   "execution_count": 13,
   "metadata": {},
   "outputs": [
    {
     "name": "stdout",
     "output_type": "stream",
     "text": [
      "False\n",
      "True\n"
     ]
    }
   ],
   "source": [
    "print([1,2,3]==[2,3,1]) #False\n",
    "print({1,2,3}=={2,3,1}) #True"
   ]
  },
  {
   "cell_type": "markdown",
   "metadata": {},
   "source": [
    "## Week 3 : Comprehensions & Functions Files \n",
    "Why would we use comprehensions? Don’t say how you want the object constructed.Just say what you want in the object. \n",
    "- Comprehensions 推導式\n",
    "- Inside Python Functions\n",
    "- Parameters\n",
    "- Variadic Arguments\n",
    "- Parameter Ordering\n",
    "- Aside: Code Style\n",
    "- First-Class Functions"
   ]
  },
  {
   "cell_type": "code",
   "execution_count": 110,
   "metadata": {},
   "outputs": [
    {
     "name": "stdout",
     "output_type": "stream",
     "text": [
      "[0, 3, 6, 9, 12, 15, 18, 21, 24, 27]\n"
     ]
    },
    {
     "data": {
      "text/plain": [
       "[0, 3, 6, 9, 12, 15, 18, 21, 24, 27]"
      ]
     },
     "execution_count": 110,
     "metadata": {},
     "output_type": "execute_result"
    }
   ],
   "source": [
    "numbers = []\n",
    "for x in range(10): \n",
    "    numbers.append(x * 3)\n",
    "print(numbers)\n",
    "\n",
    "[x * 3 for x in range(10)]  # List Comprehensions 列表推導式"
   ]
  },
  {
   "cell_type": "code",
   "execution_count": 111,
   "metadata": {},
   "outputs": [
    {
     "name": "stdout",
     "output_type": "stream",
     "text": [
      "[[0, 1, 2], [0, 1, 2], [0, 1, 2]]\n"
     ]
    },
    {
     "data": {
      "text/plain": [
       "[[0, 1, 2], [0, 1, 2], [0, 1, 2]]"
      ]
     },
     "execution_count": 111,
     "metadata": {},
     "output_type": "execute_result"
    }
   ],
   "source": [
    "new_matrix = [] \n",
    "for i in range(3):          \n",
    "    new_matrix.append([])\n",
    "    for j in range(3):\n",
    "        new_matrix[i].append(j)\n",
    "print(new_matrix)\n",
    "\n",
    "[[j for j in range(3)] for i in range(3)]  # List Comprehensions 列表推導式"
   ]
  },
  {
   "cell_type": "code",
   "execution_count": 123,
   "metadata": {},
   "outputs": [
    {
     "name": "stdout",
     "output_type": "stream",
     "text": [
      "['fig', 'kiwi']\n"
     ]
    },
    {
     "data": {
      "text/plain": [
       "['fig', 'kiwi']"
      ]
     },
     "execution_count": 123,
     "metadata": {},
     "output_type": "execute_result"
    }
   ],
   "source": [
    "fruits_list = [\"fig\", \"banana\", \"kiwi\", \"cherry\"]\n",
    "my_list = []\n",
    "\n",
    "for item in fruits_list:\n",
    "    if \"i\" in item:\n",
    "        my_list.append(item)\n",
    "print(my_list)\n",
    "\n",
    "[item for item in fruits_list if \"i\" in item] # List Comprehensions 列表推導式"
   ]
  },
  {
   "cell_type": "code",
   "execution_count": 125,
   "metadata": {},
   "outputs": [
    {
     "name": "stdout",
     "output_type": "stream",
     "text": [
      "['P', 'o', 'w', 'e', 'r']\n"
     ]
    },
    {
     "data": {
      "text/plain": [
       "['P', 'o', 'w', 'e', 'r']"
      ]
     },
     "execution_count": 125,
     "metadata": {},
     "output_type": "execute_result"
    }
   ],
   "source": [
    "new_list = [] #empty list\n",
    "\n",
    "for new_char in \"Power\":\n",
    "    new_list.append(new_char)\n",
    "print(new_list) #printing the list \n",
    "\n",
    "[new_char for new_char in \"Power\"] # List Comprehensions 列表推導式"
   ]
  },
  {
   "cell_type": "code",
   "execution_count": 107,
   "metadata": {},
   "outputs": [
    {
     "ename": "NameError",
     "evalue": "name 'iterable' is not defined",
     "output_type": "error",
     "traceback": [
      "\u001b[0;31m---------------------------------------------------------------------------\u001b[0m",
      "\u001b[0;31mNameError\u001b[0m                                 Traceback (most recent call last)",
      "\u001b[0;32m/var/folders/9q/486czkcn7lv5v0hwbt71twdc0000gn/T/ipykernel_4510/4124764483.py\u001b[0m in \u001b[0;36m<module>\u001b[0;34m\u001b[0m\n\u001b[1;32m      1\u001b[0m \u001b[0;31m# List Comprehensions\u001b[0m\u001b[0;34m\u001b[0m\u001b[0;34m\u001b[0m\u001b[0m\n\u001b[1;32m      2\u001b[0m \u001b[0;34m\u001b[0m\u001b[0m\n\u001b[0;32m----> 3\u001b[0;31m \u001b[0;34m[\u001b[0m\u001b[0mfn\u001b[0m\u001b[0;34m(\u001b[0m\u001b[0mx\u001b[0m\u001b[0;34m)\u001b[0m \u001b[0;32mfor\u001b[0m \u001b[0mx\u001b[0m \u001b[0;32min\u001b[0m \u001b[0miterable\u001b[0m\u001b[0;34m]\u001b[0m\u001b[0;34m\u001b[0m\u001b[0;34m\u001b[0m\u001b[0m\n\u001b[0m\u001b[1;32m      4\u001b[0m \u001b[0;34m[\u001b[0m\u001b[0mfn\u001b[0m\u001b[0;34m(\u001b[0m\u001b[0mx\u001b[0m\u001b[0;34m)\u001b[0m \u001b[0;32mfor\u001b[0m \u001b[0mx\u001b[0m \u001b[0;32min\u001b[0m \u001b[0miterable\u001b[0m \u001b[0;32mif\u001b[0m \u001b[0mcond\u001b[0m\u001b[0;34m(\u001b[0m\u001b[0mx\u001b[0m\u001b[0;34m)\u001b[0m\u001b[0;34m]\u001b[0m\u001b[0;34m\u001b[0m\u001b[0;34m\u001b[0m\u001b[0m\n\u001b[1;32m      5\u001b[0m \u001b[0;34m[\u001b[0m\u001b[0mword\u001b[0m\u001b[0;34m.\u001b[0m\u001b[0mlower\u001b[0m\u001b[0;34m(\u001b[0m\u001b[0;34m)\u001b[0m \u001b[0;32mfor\u001b[0m \u001b[0mword\u001b[0m \u001b[0;32min\u001b[0m \u001b[0msentence\u001b[0m\u001b[0;34m]\u001b[0m\u001b[0;34m\u001b[0m\u001b[0;34m\u001b[0m\u001b[0m\n",
      "\u001b[0;31mNameError\u001b[0m: name 'iterable' is not defined"
     ]
    }
   ],
   "source": [
    "# List Comprehensions\n",
    "\n",
    "[x * 3 for x in range(10) if x > 4]\n",
    "[word.lower() for word in sentence]\n",
    "[ch for ch in word.lower() if ch not in 'aeiou']\n",
    "[(x, x**2, x**3) for x in seq]\n",
    "[(i,j) for i in range(5) for j in range(i)]"
   ]
  },
  {
   "cell_type": "code",
   "execution_count": 103,
   "metadata": {},
   "outputs": [
    {
     "name": "stdout",
     "output_type": "stream",
     "text": [
      "{'e'}\n"
     ]
    }
   ],
   "source": [
    "## Set Comprehensions\n",
    "\n",
    "titles = \"Learn Code With Mike\"\n",
    "result = {letter for letter in titles if letter == \"e\"}\n",
    "print(result)"
   ]
  },
  {
   "cell_type": "code",
   "execution_count": 116,
   "metadata": {},
   "outputs": [
    {
     "data": {
      "text/plain": [
       "True"
      ]
     },
     "execution_count": 116,
     "metadata": {},
     "output_type": "execute_result"
    }
   ],
   "source": [
    "isinstance(4, object) # => True\n",
    "isinstance(\"Michael\", object) # => True\n",
    "isinstance([4, 5, 'seconds'], object) # => True\n",
    "isinstance(None, object) # => True\n",
    "isinstance(str, object) # => True\n",
    "isinstance(object, object) # => True## Week 3: Functions and Files\n"
   ]
  },
  {
   "cell_type": "code",
   "execution_count": null,
   "metadata": {},
   "outputs": [],
   "source": [
    "from collections import deque\n",
    "queue = deque([\"Eric\", \"John\", \"Michael\"])\n",
    "queue.append(\"Terry\")\n",
    "queue.append(\"Graham\")\n",
    "x = queue.popleft()\n",
    "print(x)\n",
    "print(queue)"
   ]
  },
  {
   "cell_type": "code",
   "execution_count": null,
   "metadata": {},
   "outputs": [],
   "source": [
    "x = ['A','B','C','D','E']\n",
    "del x[2:4]\n",
    "x"
   ]
  },
  {
   "cell_type": "code",
   "execution_count": null,
   "metadata": {},
   "outputs": [],
   "source": [
    "myset = {1,1,5,3,5.5,'data',False}\n",
    "myset.intersection({'T1','T2','T3'})\n",
    "myset.union({'T1','T2','T3'})\n",
    "myset.difference({'T1','T2','T3'})"
   ]
  },
  {
   "cell_type": "code",
   "execution_count": null,
   "metadata": {},
   "outputs": [],
   "source": [
    "fruits_set = set((\"banana\", \"apple\", \"fig\"))\n",
    "print(fruits_set)\n",
    "\n",
    "for x in fruits_set:\n",
    "    print(x)\n",
    "\n",
    "fruits_set.add(\"orange\")\n",
    "fruits_set.update([\"lemon\", \"cherry\"])\n",
    "fruits_set.remove(\"orange\")\n",
    "fruits_set.discard(\"cherry\")\n",
    "fruits_set.pop()\n",
    "fruits_set.clear()"
   ]
  },
  {
   "cell_type": "code",
   "execution_count": 12,
   "metadata": {},
   "outputs": [
    {
     "data": {
      "text/plain": [
       "[0, 1, 4, 9, 16, 25, 36, 49, 64, 81]"
      ]
     },
     "execution_count": 12,
     "metadata": {},
     "output_type": "execute_result"
    }
   ],
   "source": [
    "squares = []\n",
    "for x in range(10):\n",
    "    squares.append(x**2)\n",
    "squares"
   ]
  },
  {
   "cell_type": "code",
   "execution_count": 13,
   "metadata": {},
   "outputs": [
    {
     "data": {
      "text/plain": [
       "[0, 1, 4, 9, 16, 25, 36, 49, 64, 81]"
      ]
     },
     "execution_count": 13,
     "metadata": {},
     "output_type": "execute_result"
    }
   ],
   "source": [
    "squares = list(map(lambda x: x**2, range(10)))\n",
    "squares"
   ]
  },
  {
   "cell_type": "code",
   "execution_count": 14,
   "metadata": {},
   "outputs": [
    {
     "data": {
      "text/plain": [
       "[0, 1, 4, 9, 16, 25, 36, 49, 64, 81]"
      ]
     },
     "execution_count": 14,
     "metadata": {},
     "output_type": "execute_result"
    }
   ],
   "source": [
    "squares = [x**2 for x in range(10)]\n",
    "squares"
   ]
  },
  {
   "cell_type": "code",
   "execution_count": 15,
   "metadata": {
    "scrolled": true
   },
   "outputs": [
    {
     "data": {
      "text/plain": [
       "[(1, 3), (1, 4), (2, 3), (2, 1), (2, 4), (3, 1), (3, 4)]"
      ]
     },
     "execution_count": 15,
     "metadata": {},
     "output_type": "execute_result"
    }
   ],
   "source": [
    "[(x, y) for x in [1,2,3] for y in [3,1,4] if x != y]"
   ]
  },
  {
   "cell_type": "code",
   "execution_count": 16,
   "metadata": {},
   "outputs": [
    {
     "name": "stdout",
     "output_type": "stream",
     "text": [
      "[4, 9, 16, 25, 36]\n"
     ]
    }
   ],
   "source": [
    "my_list=[2,3,4,5,6]\n",
    "squared_list=[val**2 for val in my_list]\n",
    "print(squared_list)"
   ]
  },
  {
   "cell_type": "code",
   "execution_count": 17,
   "metadata": {},
   "outputs": [
    {
     "name": "stdout",
     "output_type": "stream",
     "text": [
      "[2, 4, 6]\n"
     ]
    }
   ],
   "source": [
    "even_list=[var for var in my_list if var%2==0]\n",
    "print(even_list)"
   ]
  },
  {
   "cell_type": "code",
   "execution_count": 18,
   "metadata": {},
   "outputs": [
    {
     "name": "stdout",
     "output_type": "stream",
     "text": [
      "  apples Alice  dogs \n",
      " oranges   Bob  cats \n",
      "cherries Carol moose \n",
      "  banana David goose \n"
     ]
    }
   ],
   "source": [
    "def printTable(list2D):\n",
    "    # get the max length string of each row\n",
    "    row_max_len = []\n",
    "    for row in range(len(list2D)):\n",
    "        row_max_len.append(max([len(col) for col in list2D[row]]))\n",
    "\n",
    "    # print table right Justified\n",
    "    for col in range(len(list2D[0])):\n",
    "        for row in range(len(list2D)):\n",
    "            print(list2D[row][col].rjust(row_max_len[row]), end=' ')\n",
    "        print()\n",
    "        \n",
    "if __name__ == \"__main__\":\n",
    "\n",
    "    tableData = [['apples', 'oranges', 'cherries', 'banana'],\n",
    "                 ['Alice', 'Bob', 'Carol', 'David'],\n",
    "                 ['dogs', 'cats', 'moose', 'goose']]\n",
    "\n",
    "    printTable(tableData)"
   ]
  },
  {
   "cell_type": "markdown",
   "metadata": {},
   "source": [
    "## Formate"
   ]
  },
  {
   "cell_type": "code",
   "execution_count": 1,
   "metadata": {},
   "outputs": [
    {
     "name": "stdout",
     "output_type": "stream",
     "text": [
      "I have a BMW, it is X5.\n"
     ]
    }
   ],
   "source": [
    "# Adding named indexes inside {}\n",
    "neworder = \"I have a {carname}, it is {model}.\"\n",
    "print(neworder.format(carname = \"BMW\", model = \"X5\"))"
   ]
  },
  {
   "cell_type": "code",
   "execution_count": 2,
   "metadata": {},
   "outputs": [
    {
     "name": "stdout",
     "output_type": "stream",
     "text": [
      "The degree is 25.00 Celsius\n"
     ]
    }
   ],
   "source": [
    "# adding placeholder where you want to display the degree\n",
    "degree = 25\n",
    "newtext = \"The degree is {:.2f} Celsius\"\n",
    "print(newtext.format(degree))"
   ]
  },
  {
   "cell_type": "code",
   "execution_count": 3,
   "metadata": {},
   "outputs": [
    {
     "name": "stdout",
     "output_type": "stream",
     "text": [
      "The player name is Joe. Joe is 39 years old!\n"
     ]
    }
   ],
   "source": [
    "# Multiple values to format method \n",
    "# quantity = 5\n",
    "# item_number = 150\n",
    "# price = 71\n",
    "# # add index numbers\n",
    "# neworder = \"We want {0} pieces of item number {1} and for {2:.2f} dollars\"\n",
    "# print(neworder.format(quantity, item_number, price))\n",
    "\n",
    "\n",
    "# adding the same value more than once\n",
    "age = 39\n",
    "name = \"Joe\"\n",
    "newtext = \"The player name is {1}. {1} is {0} years old!\"\n",
    "print(newtext.format(age, name))"
   ]
  },
  {
   "cell_type": "code",
   "execution_count": 58,
   "metadata": {},
   "outputs": [
    {
     "name": "stdout",
     "output_type": "stream",
     "text": [
      "{'Juan', 18.0, True}\n",
      "set()\n",
      "<class 'set'>\n",
      "{'Juan'}\n",
      "{'Juan'}\n",
      "{8, 4, 5, 7}\n",
      "{4, 5, 100, 7, 8, 300, 200}\n",
      "{4, 5, 7, 8, 200, 20, 30, 100, 40, 300}\n",
      "{4, 5, 100, 7, 8, 200, 40, 300, 20, 30}\n",
      "Es igual en contenido? True\n",
      "Es la misma referencia? False\n",
      "{'Lorenzo', 'Marco', 'Karla', 'Laura'}\n",
      "{'Lorenzo', 'Marco', 'Karla', 'Laura'}\n",
      "{'Laura'}\n",
      "{'María', 'Juan', 'Pedro'}\n",
      "{'María', 'Juan', 'Pedro', 'Laura'}\n",
      "True\n",
      "False\n",
      "True\n"
     ]
    }
   ],
   "source": [
    "# Profundizar en set\n",
    "# Un set es una colección de elementos únicos y es mutable\n",
    "# Los elementos de un set deben ser inmutables\n",
    "# conjunto = {[1,2],[3,4]}\n",
    "conjunto = {'Juan', True, 18.0}\n",
    "print(conjunto)\n",
    "# Set vacío\n",
    "# conjunto = {} genera un dict vacío\n",
    "# print(type(conjunto))\n",
    "# set vacío correcto\n",
    "conjunto = set()\n",
    "print(conjunto)\n",
    "print(type(conjunto))\n",
    "# Mutable\n",
    "conjunto.add('Juan')\n",
    "print(conjunto)\n",
    "# Contiene valores únicos\n",
    "conjunto.add('Juan')\n",
    "print(conjunto)\n",
    "# Crear un set a partir de un iterable\n",
    "conjunto = set([4,5,7,8,4])\n",
    "print(conjunto)\n",
    "# Podemos agregar más elementos on incluso otro set\n",
    "conjunto2 = {100,200,300,300}\n",
    "conjunto.update(conjunto2)\n",
    "print(conjunto)\n",
    "conjunto.update([20,30,40,40])\n",
    "print(conjunto)\n",
    "\n",
    "# Copiar un set (copia poco profunda, solo copia referencias)\n",
    "conjunto_copia = conjunto.copy()\n",
    "print(conjunto_copia)\n",
    "# Verificar igualdad\n",
    "print(f'Es igual en contenido? {conjunto == conjunto_copia}')\n",
    "print(f'Es la misma referencia? {conjunto is conjunto_copia}')\n",
    "\n",
    "# Operaciones de conjuntos con set\n",
    "# Personas con distintas características\n",
    "pelo_negro = {'Juan','Karla','Pedro','María'}\n",
    "pelo_rubio = {'Lorenzo','Laura','Marco'}\n",
    "ojos_cafe = {'Karla','Laura'}\n",
    "menores_30 = {'Juan','Karla','María'}\n",
    "# Todos con ojos_cafe y pelo rubio (Union) (no se repiten los elementos)\n",
    "print(ojos_cafe.union(pelo_rubio))\n",
    "# Invertir el orden con el mismo resultado (conmutativa)\n",
    "print(pelo_rubio.union(ojos_cafe))\n",
    "\n",
    "# (intersetion) Sólo las personas con ojos cafe y pelo rubio (conmutativa)\n",
    "print(ojos_cafe.intersection(pelo_rubio))\n",
    "\n",
    "# (difference) Pelo negro sin ojos cafe (no es conmutativa)\n",
    "# las personas que se encuentran en el primer set pero NO en el segundo\n",
    "print(pelo_negro.difference(ojos_cafe))\n",
    "\n",
    "# (diferencia simétrica) Pelo negro u ojos cafe, pero NO ambos (conmutativa)\n",
    "print(pelo_negro.symmetric_difference(ojos_cafe))\n",
    "\n",
    "# Preguntar si un set está contenido en otro (subset)\n",
    "# revismos si los elementos del primer set están contenidos en el segundo set\n",
    "print(menores_30.issubset(pelo_negro))\n",
    "\n",
    "# Preguntar si un set contiene a otro set (superset)\n",
    "# revisar si los elementos del primer set están contenidos en el segundo set\n",
    "print(menores_30.issuperset(pelo_negro))\n",
    "\n",
    "# Preguntar si los de pelo negro no tienen pelo rubio (distjoin)\n",
    "print(pelo_negro.isdisjoint(pelo_rubio))"
   ]
  },
  {
   "cell_type": "code",
   "execution_count": 59,
   "metadata": {},
   "outputs": [
    {
     "name": "stdout",
     "output_type": "stream",
     "text": [
      "{'Nombre': 'Juan', 'Apellido': 'Perez', 'Edad': 28}\n",
      "{'Nombre': 'Juan', 'Apellido': 'Perez', 'Edad': 28}\n",
      "{'Nombre': 'Juan', 'Apellido': 'Perez', 'Edad': 28, 'Departamento': 'Sistemas'}\n",
      "{'Nombre': 'Juan Carlos', 'Apellido': 'Perez', 'Edad': 28, 'Departamento': 'Sistemas'}\n",
      "Juan Carlos\n",
      "No se encontró la llave\n",
      "{'Nombre': 'Juan Carlos', 'Apellido': 'Perez', 'Edad': 28, 'Departamento': 'Sistemas'}\n",
      "Valor por default\n",
      "{'Nombre': 'Juan Carlos', 'Apellido': 'Perez', 'Edad': 28, 'Departamento': 'Sistemas', 'Nombres': 'Valor por default'}\n",
      "{'Nombre': 'Juan Carlos',\n",
      " 'Apellido': 'Perez',\n",
      " 'Edad': 28,\n",
      " 'Departamento': 'Sistemas',\n",
      " 'Nombres': 'Valor por default'}\n"
     ]
    }
   ],
   "source": [
    "# Produndizando en diccionarios\n",
    "\n",
    "# Los dic guardan un orden (a diferencia de un set)\n",
    "diccionario = {'Nombre':'Juan','Apellido':'Perez','Edad':28}\n",
    "print(diccionario)\n",
    "\n",
    "# Los dic son mutables, pero las llaves deben ser inmutables\n",
    "# diccionario = {[1,2]:'Valor1'}\n",
    "# diccionario = {(1,2):'Valor1'}\n",
    "print(diccionario)\n",
    "\n",
    "# Se agrega una llave si no se encuentra\n",
    "diccionario['Departamento'] = 'Sistemas'\n",
    "print(diccionario)\n",
    "\n",
    "# No hay valores duplicados en las llaves de un diccionario (si ya existe se reemplaza)\n",
    "diccionario['Nombre'] = 'Juan Carlos'\n",
    "print(diccionario)\n",
    "\n",
    "# Recuperar un valor indicando una llave\n",
    "print(diccionario['Nombre'])\n",
    "# Si no encuentra la llave lanza una excepcion\n",
    "# print(diccionario['nombre'])\n",
    "\n",
    "# Método get recupera una llave, y si no existe NO lanza excepción\n",
    "# además podemos regresar un valor en caso de que no exista la llave\n",
    "print(diccionario.get('Nombres','No se encontró la llave'))\n",
    "print(diccionario)\n",
    "\n",
    "# setdefault sí modifica el diccionario, además se agregar un valor por default\n",
    "nombre = diccionario.setdefault('Nombres','Valor por default')\n",
    "print(nombre)\n",
    "print(diccionario)\n",
    "\n",
    "# Imprimir con pprint\n",
    "from pprint import pprint as pp\n",
    "# help(pp)\n",
    "pp(diccionario, sort_dicts=False)"
   ]
  },
  {
   "cell_type": "code",
   "execution_count": null,
   "metadata": {},
   "outputs": [],
   "source": []
  }
 ],
 "metadata": {
  "kernelspec": {
   "display_name": "Python 3 (ipykernel)",
   "language": "python",
   "name": "python3"
  },
  "language_info": {
   "codemirror_mode": {
    "name": "ipython",
    "version": 3
   },
   "file_extension": ".py",
   "mimetype": "text/x-python",
   "name": "python",
   "nbconvert_exporter": "python",
   "pygments_lexer": "ipython3",
   "version": "3.9.7"
  }
 },
 "nbformat": 4,
 "nbformat_minor": 4
}
