{
 "cells": [
  {
   "cell_type": "markdown",
   "metadata": {},
   "source": [
    "## What Is Data Science?\n",
    "\n",
    "> This is a book about doing data science with Python, which immediately begs the question: what is *data science*?\n",
    "It's a surprisingly hard definition to nail down, especially given how ubiquitous the term has become.\n",
    "Vocal critics have variously dismissed the term as a superfluous label (after all, what science doesn't involve data?) or a simple buzzword that only exists to salt resumes and catch the eye of overzealous tech recruiters.\n",
    "\n",
    "這是一本介紹使用Python完成數據科學工作的書，那麼立刻就會帶來一個問題：什麼是數據科學？這是一個十分難以定義的概念，尤其是這幾年這個術語幾乎隨處可見。批評的聲音認為這是一個多餘的標籤（畢竟，哪樣科學不包含數據呢？）或者這只是一個為了博取關注而產生的流行詞彙。\n",
    "> In my mind, these critiques miss something important.\n",
    "Data science, despite its hype-laden veneer, is perhaps the best label we have for the cross-disciplinary set of skills that are becoming increasingly important in many applications across industry and academia.\n",
    "This cross-disciplinary piece is key: in my mind, the best extisting definition of data science is illustrated by Drew Conway's Data Science Venn Diagram, first published on his blog in September 2010:\n",
    "\n",
    "這些批評忽略了一些重要的東西。數據科學除了部分炒作的成分外，可能是目前我們能夠找到的最合適的詞彙來表達這種跨學科領域的技術了，特別是越來越多的工業和學術應用都在使用它。這裡的關鍵是跨學科領域：最好表達數據科學的定義的方式是2010年 Drew Conway在他的Blog 發表的這張圖："
   ]
  },
  {
   "cell_type": "markdown",
   "metadata": {},
   "source": [
    "![Data Science Venn Diagram](https://raw.githubusercontent.com/wangyingsm/Python-Data-Science-Handbook/7fac9497d573c8f3ea3545b7fcb0a98d59e1c9cb/notebooks/figures/Data_Science_VD.png)\n",
    "\n",
    "<small>(Source: [Drew Conway](http://drewconway.com/zia/2013/3/26/the-data-science-venn-diagram). Used by permission.)</small>"
   ]
  },
  {
   "cell_type": "markdown",
   "metadata": {},
   "source": [
    "> While some of the intersection labels are a bit tongue-in-cheek, this diagram captures the essence of what I think people mean when they say \"data science\": it is fundamentally an *interdisciplinary* subject.\n",
    "Data science comprises three distinct and overlapping areas: the skills of a *statistician* who knows how to model and summarize datasets (which are growing ever larger); the skills of a *computer scientist* who can design and use algorithms to efficiently store, process, and visualize this data; and the *domain expertise*—what we might think of as \"classical\" training in a subject—necessary both to formulate the right questions and to put their answers in context.\n",
    "\n",
    "雖然圖中，圓形重疊部分的標籤看起來很有些嘲諷的意味，但這張圖把握了當人們使用“數據科學”這個術語時候的精髓：最根本來說，數據科學是一門交叉學科。數據科學有三個領域交叉而成：\n",
    "- 需要統計學家來對數據集（正在變得越來越巨大）進行建模和統計；\n",
    "- 需要計算學家來使用算法有效地存儲、處理和展現這些數據；\n",
    "- 需要領域專家（通常在傳統意義上我們就是這麼做的）來在相關垂直領域整理出正確的問題和相應的解決方法。\n",
    "\n",
    "> With this in mind, I would encourage you to think of data science not as a new domain of knowledge to learn, but a new set of skills that you can apply within your current area of expertise.\n",
    "Whether you are reporting election results, forecasting stock returns, optimizing online ad clicks, identifying microorganisms in microscope photos, seeking new classes of astronomical objects, or working with data in any other field, the goal of this book is to give you the ability to ask and answer new questions about your chosen subject area.\n",
    "\n",
    "根據上述解釋，讀者與其將數據科學當成是一個新的知識領域來學習，還不如將你已有的專業知識融會貫通，發展出新的數據科學技巧。無論你是在統計選舉結果、預測股市回報、優化在線廣告點擊、在顯微鏡圖像中識別微小組織、尋找一類新的天文物體、或者是其他任何與數據相關的工作，就是為你提供一種新的能力來提出和解答該領域的相關問題。"
   ]
  },
  {
   "cell_type": "markdown",
   "metadata": {},
   "source": [
    "## Why Python?\n",
    "\n",
    "> Python has emerged over the last couple decades as a first-class tool for scientific computing tasks, including the analysis and visualization of large datasets.\n",
    "This may have come as a surprise to early proponents of the Python language: the language itself was not specifically designed with data analysis or scientific computing in mind.\n",
    "The usefulness of Python for data science stems primarily from the large and active ecosystem of third-party packages: *NumPy* for manipulation of homogeneous array-based data, *Pandas* for manipulation of heterogeneous and labeled data, *SciPy* for common scientific computing tasks, *Matplotlib* for publication-quality visualizations, *IPython* for interactive execution and sharing of code, *Scikit-Learn* for machine learning, and many more tools that will be mentioned in the following pages.\n",
    "\n",
    "Python在最近20年已經發展成為科學計算包括分析和展示大型數據集的最流行工具。這對於Python語言的早期支持者來說是一個驚喜：因為這門語言本身並不是專門為了數據分析和科學計算來設計的。 Python在數據科學中的蓬勃發展主要來源於其大量活躍的第三方包：Numpy用於處理同類的數組結構數據；Pandas用於處理不同種類和標籤化的數據；SciPy用於通用的科學運算任務；Matplotlib用於可打印標準的圖表展示；IPython用於交互式執行和共享代碼；Scikit-Learn用於機器學習，這些工具將在後續的章節中介紹。\n",
    "\n",
    "> If you are looking for a guide to the Python language itself, I would suggest the sister project to this book, \"[A Whirlwind Tour of the Python Language](https://github.com/jakevdp/WhirlwindTourOfPython)\".\n",
    "This short report provides a tour of the essential features of the Python language, aimed at data scientists who already are familiar with one or more other programming languages.\n",
    "\n",
    "如果你需要的是Python語言本身的指引，作者推薦本項目的兄弟項目\"[A Whirlwind Tour of the Python Language](https://github.com/jakevdp/WhirlwindTourOfPython)\"\n",
    "\n",
    "（译者注：[Python旋风之旅](https://github.com/wangyingsm/wwtop)中文版已经全部翻译完成）。"
   ]
  },
  {
   "cell_type": "markdown",
   "metadata": {},
   "source": [
    "## A Python Integer Is More Than Just an Integer\n",
    "\n",
    "> The standard Python implementation is written in C.\n",
    "This means that every Python object is simply a cleverly-disguised C structure, which contains not only its value, but other information as well. For example, when we define an integer in Python, such as ``x = 10000``, ``x`` is not just a \"raw\" integer. It's actually a pointer to a compound C structure, which contains several values.\n",
    "Looking through the Python 3.4 source code, we find that the integer (long) type definition effectively looks like this (once the C macros are expanded):\n",
    "\n",
    "標準的Python實現是使用C語言編寫的。這意味著每個Python當中的對像都是一個偽裝良好的C結構體，結構體內不僅僅包括它的值，還有其他的信息。例如，當我們在Python中定義了一個整數，比方說'x=10000'，x不僅僅是一個原始的整數，它在底層實際上是一個指向複雜C結構體的指針，裡面含有若干個字段。當你查閱Python 3.4的源代碼的時候，你會發現整數（實際上是長整形）的定義如下（我們將C語言中的宏定義展開後）：\n",
    "```C\n",
    "struct _longobject {\n",
    "    long ob_refcnt;\n",
    "    PyTypeObject *ob_type;\n",
    "    size_t ob_size;\n",
    "    long ob_digit[1];\n",
    "};\n",
    "```\n",
    "\n",
    "> This means that there is some overhead in storing an integer in Python as compared to an integer in a compiled language like C, as illustrated in the following figure:\n",
    "\n",
    "這意味著在Python中存儲一個整數要比在像C這樣的編譯語言中存儲一個整數要有損耗，就像下圖展示的那樣："
   ]
  },
  {
   "cell_type": "markdown",
   "metadata": {},
   "source": [
    "![Integer Memory Layout](https://github.com/wangyingsm/Python-Data-Science-Handbook/raw/e044d370f852cd3639bbe45ebc2eb3e6f11c1e62/notebooks/figures/cint_vs_pyint.png)"
   ]
  },
  {
   "cell_type": "markdown",
   "metadata": {},
   "source": [
    "## Outline\n",
    "\n",
    "> Each chapter of this book focuses on a particular package or tool that contributes a fundamental piece of the Python Data Sciece story.\n",
    "> 1. IPython and Jupyter: these packages provide the computational environment in which many Python-using data scientists work.\n",
    "> 2. NumPy: this library provides the ``ndarray`` for efficient storage and manipulation of dense data arrays in Python.\n",
    "> 3. Pandas: this library provides the ``DataFrame`` for efficient storage and manipulation of labeled/columnar data in Python.\n",
    "> 4. Matplotlib: this library provides capabilities for a flexible range of data visualizations in Python.\n",
    "> 5. Scikit-Learn: this library provides efficient & clean Python implementations of the most important and established ML algorithms.\n",
    "\n",
    "本書的每一章都聚焦於一個特定的包或工具，它對數據科學某個方面都有重要的應用和幫助。\n",
    "\n",
    "1. IPython 和 Jupyter: 這兩個包提供了使用Python的數據科學家最喜愛的計算環境。\n",
    "2. NumPy: 這個包提供了ndarray對像用於有效的存儲和處理數組中的非稀疏數據。\n",
    "3. Pandas: 這個包提供了DataFrame對像用於有效的存儲和處理標籤化的基於列結構的數據。\n",
    "4. Matplotlib: 這個包提供了最靈活的數據圖表展示功能。\n",
    "5. Scikit-Learn: 這個包提供了很多重要的機器學習算法以及有效和簡潔的Python實現。"
   ]
  },
  {
   "cell_type": "markdown",
   "metadata": {},
   "source": [
    "## Using Code Examples\n",
    "\n",
    "> Supplemental material (code examples, figures, etc.) is available for download at http://github.com/jakevdp/PythonDataScienceHandbook/. This book is here to help you get your job done. In general, if example code is offered with this book, you may use it in your programs and documentation. You do not need to contact us for permission unless you’re reproducing a significant portion of the code. For example, writing a program that uses several chunks of code from this book does not require permission. Selling or distributing a CD-ROM of examples from O’Reilly books does require permission. Answering a question by citing this book and quoting example code does not require permission. Incorporating a significant amount of example code from this book into your product’s documentation does require permission.\n",
    "\n",
    "本書附帶的資源（代碼示例，圖表等）可以在 http://github.com/wangyingsm/Python-Data-Science-Handbook/ 下載。本書的代碼例子是為了幫助你理解內容。在通常意義下，本書附帶的代碼可以被使用在你的程序和文檔中。你不需要聯繫作者獲得授權，除非你在修改或重構代碼非常重要的部分。例如，使用本書的代碼編寫你的程序不需要獲得作者授權；銷售和分發本書的代碼不需要獲得作者的授權；引用本書或書中的代碼例子回答問題不需要獲得作者的授權。將本書大部分的代碼例子組織在你產品的文檔中確實需要獲得作者的授權。\n",
    "\n",
    "> We appreciate, but do not require, attribution. An attribution usually includes the title, author, publisher, and ISBN. For example:\n",
    "> *The Python Data Science Handbook* by Jake VanderPlas (O’Reilly). Copyright 2016 Jake VanderPlas, 978-1-491-91205-8.\n",
    "> If you feel your use of code examples falls outside fair use or the per‐ mission given above, feel free to contact us at permissions@oreilly.com.\n",
    "\n",
    "雖然不是必須的，但是如果你在引用時聲明了標題、作者、出版社和ISBN的話，作者會很感激。如果你認為你對於代碼例子的使用超出了上述的授權範圍，請聯繫 permissions@oreilly.com。"
   ]
  },
  {
   "cell_type": "markdown",
   "metadata": {},
   "source": [
    "### Launching the Jupyter Notebook\n",
    "\n",
    "> The Jupyter notebook is a browser-based graphical interface to the IPython shell, and builds on it a rich set of dynamic display capabilities.\n",
    "As well as executing Python/IPython statements, the notebook allows the user to include formatted text, static and dynamic visualizations, mathematical equations, JavaScript widgets, and much more. Furthermore, these documents can be saved in a way that lets other people open them and execute the code on their own systems.\n",
    "\n",
    "Jupyter notebook是一個瀏覽器圖形界面的IPython shell，上面構建了一整套豐富的動態展示功能。除了能夠執行Python/IPython代碼，notebook還允許用戶書寫格式化的文本，靜態和動態的展示數學公式，JavaScript組件和其他很多功能。然後這些文檔能被保存成一種能讓其他人在他們自己的系統中打開和執行的文件格式。\n",
    "\n",
    "> Though the IPython notebook is viewed and edited through your web browser window, it must connect to a running Python process in order to execute code.\n",
    "This process (known as a \"kernel\") can be started by running the following command in your system shell:\n",
    "\n",
    "雖然IPython notebook在你的瀏覽器窗口中展示和編輯，但是它需要連接到一個執行中的Python進程才能真正執行代碼。這個進程（被稱為“kernel”）可以在命令行中使用下面的命令啟動：\n",
    "\n",
    "```python\n",
    "$ jupyter notebook\n",
    "\n",
    "[NotebookApp] Serving notebooks from local directory: /Users/jakevdp/PythonDataScienceHandbook\n",
    "[NotebookApp] 0 active kernels \n",
    "[NotebookApp] The IPython Notebook is running at: http://localhost:8888/\n",
    "[NotebookApp] Use Control-C to stop this server and shut down all kernels (twice to skip confirmation).\n",
    "\n",
    "```\n",
    "\n",
    "> Upon issuing the command, your default browser should automatically open and navigate to the listed local URL;\n",
    "the exact address will depend on your system.\n",
    "If the browser does not open automatically, you can open a window and manually open this address (*http://localhost:8888/* in this example).\n",
    "\n",
    "輸入上述命令之後，你係統的默認瀏覽器應該會自動打開然後指向本地的地址；完整的地址取決於你的系統。如果你的瀏覽器沒有自動打開，你可以手動打開它並輸入地址(本例中是*http://localhost:8888/* ）。"
   ]
  },
  {
   "cell_type": "markdown",
   "metadata": {},
   "source": [
    "### Beyond tab completion: wildcard matching (Tab)\n",
    "\n",
    "> Tab completion is useful if you know the first few characters of the object or attribute you're looking for, but is little help if you'd like to match characters at the middle or end of the word.\n",
    "For this use-case, IPython provides a means of wildcard matching for names using the ``*`` character.\n",
    "\n",
    "Tab 對於你知道對像或屬性的頭幾個字母的情況下非常有效，但是如果你只記得中間或末尾處的字符時，tab 就無法發揮了。對於這種情況，IPython提供了一種使用通配符`*`來匹配內容的方法。例如，我们可以使用它列出任何末尾为`Warning`的对象：\n",
    "\n",
    "```python\n",
    "In [10]: *Warning?\n",
    "BytesWarning                  RuntimeWarning\n",
    "DeprecationWarning            SyntaxWarning\n",
    "FutureWarning                 UnicodeWarning\n",
    "ImportWarning                 UserWarning\n",
    "PendingDeprecationWarning     Warning\n",
    "ResourceWarning\n",
    "```\n",
    "\n",
    "> Notice that the ``*`` character matches any string, including the empty string.Similarly, suppose we are looking for a string method that contains the word ``find`` somewhere in its name.\n",
    "We can search for it this way:\n",
    "\n",
    "這裡的`*`號能匹配任何字符串，包括空字符串。類似的，如果我們希望找到所有名稱中含有`find`字符串的對象內容，我們可以這樣做：\n",
    "\n",
    "```python\n",
    "In [10]: str.*find*?\n",
    "str.find\n",
    "str.rfind\n",
    "```"
   ]
  },
  {
   "cell_type": "code",
   "execution_count": 1,
   "metadata": {},
   "outputs": [],
   "source": [
    "str.*find*?"
   ]
  },
  {
   "cell_type": "markdown",
   "metadata": {},
   "source": [
    "## IPython Magic Commands"
   ]
  },
  {
   "cell_type": "markdown",
   "metadata": {},
   "source": [
    "> The previous two sections showed how IPython lets you use and explore Python efficiently and interactively.\n",
    "Here we'll begin discussing some of the enhancements that IPython adds on top of the normal Python syntax.\n",
    "These are known in IPython as *magic commands*, and are prefixed by the ``%`` character.\n",
    "These magic commands are designed to succinctly solve various common problems in standard data analysis.\n",
    "Magic commands come in two flavors: *line magics*, which are denoted by a single ``%`` prefix and operate on a single line of input, and *cell magics*, which are denoted by a double ``%%`` prefix and operate on multiple lines of input.\n",
    "We'll demonstrate and discuss a few brief examples here, and come back to more focused discussion of several useful magic commands later in the chapter.\n",
    "\n",
    "前兩小節展示了怎樣使用IPython，令你在其中執行Python代碼更加有效和具有交互性。現在我們要開始討論一些IPython增強的語言特性。這些特性被稱為IPython的*魔術命令*，它們都是以`%`字符開頭的。這些魔術命令被設計用來簡潔地實現很多通用的標準數據科學問題。魔術命令分成兩種模式：*行魔術*，以一個`%`開頭，是對於一行的輸入進行魔術處理的；另一種是*單元格魔術*，以兩個`%%`開頭，是對於多行的輸入進行魔術處理的。本節我們會展示和討論一些例子，然後本章後續小節會對部分有用的魔術命令進行詳細的討論。"
   ]
  },
  {
   "cell_type": "markdown",
   "metadata": {},
   "source": [
    "Ipython\n",
    "- Pasting Code Blocks: ``%paste`` and ``%cpaste``\n",
    "- Running External Code: ``%run``\n",
    "- Timing Code Execution: ``%timeit``\n",
    "- Help on Magic Functions: ``?``, ``%magic``, and ``%lsmagic``"
   ]
  },
  {
   "cell_type": "markdown",
   "metadata": {},
   "source": [
    "### IPython and Shell Commands IPython 和 Shell命令"
   ]
  },
  {
   "cell_type": "markdown",
   "metadata": {},
   "source": [
    "> When working interactively with the standard Python interpreter, one of the frustrations is the need to switch between multiple windows to access Python tools and system command-line tools.\n",
    "IPython bridges this gap, and gives you a syntax for executing shell commands directly from within the IPython terminal.\n",
    "The magic happens with the exclamation point: anything appearing after ``!`` on a line will be executed not by the Python kernel, but by the system command-line.\n",
    "\n",
    "當使用標準的Python解釋器時，你需要在不同的窗口之間進行切換，有時你需要使用Python，有時你又需要使用系統命令行工具。 IPython將兩者聯繫起來，它允許你直接在IPython終端中直接運行shell命令。這個魔術使用的是感嘆號：任何出現在!之後的內容將被系統shell執行，而不是Python解釋器。"
   ]
  },
  {
   "cell_type": "markdown",
   "metadata": {},
   "source": [
    "### Quick Introduction to the Shell 快速介绍\n",
    "\n",
    "> As an example, here is a sample of a Linux/OSX shell session where a user explores, creates, and modifies directories and files on their system (``osx:~ $`` is the prompt, and everything after the ``$`` sign is the typed command; text that is preceded by a ``#`` is meant just as description, rather than something you would actually type in):\n",
    "\n",
    "作為一個例子，這裡有一個用戶在Linux/OSX系統上瀏覽、創建和修改目錄以及文件的shell會話（`osx:~ $`是提示符，所有出現在`$`後面的文本都是一條命令；以`#`開始的文本是註釋作為命令的解釋，而不是你需要真正輸入的內容）：\n",
    "\n",
    "```bash\n",
    "osx:~ $ echo \"hello world\"             # 使用echo打印输出，类似Python中的print\n",
    "osx:~ $ pwd                            # pwd = 打印当前工作目录\n",
    "osx:~ $ ls                             # ls = 列示目录内容\n",
    "osx:~ $ cd projects/                   # cd = 改变目录位置\n",
    "osx:projects $ pwd\n",
    "osx:projects $ ls\n",
    "osx:projects $ mkdir myproject          # mkdir = 创建新目录\n",
    "osx:projects $ cd myproject/\n",
    "osx:myproject $ mv ../myproject.txt ./  # mv = 移动文件，这里我们将父目录中的myproject.txt\n",
    "osx:myproject $ ls\n",
    "```\n",
    "> Notice that all of this is just a compact way to do familiar operations (navigating a directory structure, creating a directory, moving a file, etc.) by typing commands rather than clicking icons and menus.\n",
    "Note that with just a few commands (``pwd``, ``ls``, ``cd``, ``mkdir``, and ``cp``) you can do many of the most common file operations.\n",
    "It's when you go beyond these basics that the shell approach becomes really powerful.\n",
    "\n",
    "請注意，上面的命令都是使用命令輸入完成我們平常使用鼠標點擊操作完成的任務（瀏覽目錄結構、創建目錄、移動文件等）。只需要少量的命令輸入（`pwd`、`ls`、`cd`、`mkdir`和`cp`）我們就能完成很多通用的文件操作。當你更深入學習shell之後，你就會發現它們非常強大。"
   ]
  },
  {
   "cell_type": "markdown",
   "metadata": {},
   "source": [
    "### Shell Commands in IPython IPython 中的 shell 命令\n",
    "\n",
    "> Any command that works at the command-line can be used in IPython by prefixing it with the ``!`` character.\n",
    "For example, the ``ls``, ``pwd``, and ``echo`` commands can be run as follows:\n",
    "\n",
    "任何在命令行中可以使用的命令，也都可以在IPython中使用，只需要在前面加上`!`号。例如，`ls`、`pwd`和`echo`命令：\n",
    "\n",
    "```bash\n",
    "In [1]: !ls\n",
    "In [2]: !pwd\n",
    "In [3]: !echo \"printing from the shell\"\n",
    "```"
   ]
  },
  {
   "cell_type": "markdown",
   "metadata": {},
   "source": [
    "### Passing Values to and from the Shell\n",
    "\n",
    "> Shell commands can not only be called from IPython, but can also be made to interact with the IPython namespace.\n",
    "For example, you can save the output of any shell command to a Python list using the assignment operator:\n",
    "\n",
    "shell命令不但能被IPython環境中調用，還能與IPython的命名空間產生交互。例如，你可以將shell命令的輸出保存成一個Python的列表：\n",
    "\n",
    "```python\n",
    "In [4]: contents = !ls\n",
    "\n",
    "In [5]: print(contents)\n",
    "['myproject.txt']\n",
    "\n",
    "In [6]: directory = !pwd\n",
    "\n",
    "In [7]: print(directory)\n",
    "['/Users/jakevdp/notebooks/tmp/myproject']\n",
    "```\n",
    "\n",
    "> Note that these results are not returned as lists, but as a special shell return type defined in IPython:\n",
    "\n",
    "值得注意的是，這些結果並不是返回成為普通的Python列表，而是一個IPython定義的特殊shell返回值類型：\n",
    "```python\n",
    "type(directory)\n",
    "IPython.utils.text.SList\n",
    "```"
   ]
  },
  {
   "cell_type": "markdown",
   "metadata": {},
   "source": [
    "> Communication in the other direction–passing Python variables into the shell–is possible using the ``{varname}`` syntax: The curly braces contain the variable name, which is replaced by the variable's contents in the shell command.\n",
    "\n",
    "反過來，也可以傳遞Python的變量給shell，通過`{變量名}`語法就可以實現： 花括號裡面是變量的名稱，在執行shell命令的時候將會被變量的值替代。\n",
    "\n",
    "```python\n",
    "In [9]: message = \"hello from Python\"\n",
    "In [10]: !echo {message}\n",
    "hello from Python\n",
    "```"
   ]
  },
  {
   "cell_type": "markdown",
   "metadata": {},
   "source": [
    "## Errors and Debugging\n",
    "### Controlling Exceptions: ``%xmode``\n",
    "\n",
    "> Most of the time when a Python script fails, it will raise an Exception.\n",
    "When the interpreter hits one of these exceptions, information about the cause of the error can be found in the *traceback*, which can be accessed from within Python.\n",
    "With the ``%xmode`` magic function, IPython allows you to control the amount of information printed when the exception is raised.\n",
    "Consider the following code:\n",
    "\n",
    "大部分情況下如果Python腳本執行失敗了，都是由於拋出了異常導致的。當解釋器碰到了這些異常的時候，會將錯誤產生的原因壓到當前程序執行的堆棧當中，你可以通過Python的traceback訪問到這些信息。使用 `%xmode` 魔術指令，IPython允許你控制異常發生時錯誤信息的數量。看例子："
   ]
  },
  {
   "cell_type": "code",
   "execution_count": 2,
   "metadata": {},
   "outputs": [
    {
     "name": "stdout",
     "output_type": "stream",
     "text": [
      "Exception reporting mode: Verbose\n"
     ]
    }
   ],
   "source": [
    "%xmode\n",
    "def func1(a, b):\n",
    "    return a / b\n",
    "\n",
    "def func2(x):\n",
    "    a = x\n",
    "    b = x - 1\n",
    "    return func1(a, b)"
   ]
  },
  {
   "cell_type": "code",
   "execution_count": 3,
   "metadata": {},
   "outputs": [],
   "source": [
    "# func2(1)"
   ]
  },
  {
   "cell_type": "markdown",
   "metadata": {},
   "source": [
    "> ``%xmode`` takes a single argument, the mode, and there are three possibilities: ``Plain``, ``Context``, and ``Verbose``.\n",
    "The default is ``Context``, and gives output like that just shown before.\n",
    "``Plain`` is more compact and gives less information:\n",
    "\n",
    "`%xmode`需要一個參數，就是輸出錯誤的模式，有三種選擇：`Plain`，`Context`和`Verbose`。默認是`Context`，該該模式下的輸出就如上面所見。"
   ]
  },
  {
   "cell_type": "code",
   "execution_count": 4,
   "metadata": {},
   "outputs": [],
   "source": [
    "# %xmode Plain\n",
    "# func2(1)\n",
    "\n",
    "# %xmode Verbose\n",
    "# func2(1)"
   ]
  },
  {
   "cell_type": "markdown",
   "metadata": {},
   "source": [
    "### Debugging: When Reading Tracebacks Is Not Enough\n",
    "\n",
    "> In IPython, perhaps the most convenient interface to debugging is the ``%debug`` magic command.\n",
    "If you call it after hitting an exception, it will automatically open an interactive debugging prompt at the point of the exception.\n",
    "The ``ipdb`` prompt lets you explore the current state of the stack, explore the available variables, and even run Python commands!\n",
    "\n",
    "在IPython中，也許最簡單的調試方式就是使用`%debug`魔術指令了。如果當你遇到一個異常之後調用它，IPython會自動打開一個交互式的調試提示符，並定位在異常發生的地方。 `ipdb`提示符允許你查看當前的堆棧信息，顯示變量和它們的值，甚至執行Python命令。\n",
    "\n",
    "> Let's look at the most recent exception, then do some basic tasks–print the values of ``a`` and ``b``, and type ``quit`` to quit the debugging session:\n",
    "\n",
    "讓我們查看最近發生的那個異常，然後執行一些基礎的指令來打印變量`a`和`b`的值, `up`,`down`,`print(a)`，最後使用`quit`退出調試模式："
   ]
  },
  {
   "cell_type": "code",
   "execution_count": 6,
   "metadata": {},
   "outputs": [
    {
     "name": "stderr",
     "output_type": "stream",
     "text": [
      "ERROR:root:No traceback has been produced, nothing to debug.\n"
     ]
    }
   ],
   "source": [
    "%debug"
   ]
  },
  {
   "cell_type": "markdown",
   "metadata": {},
   "source": [
    "> If you'd like the debugger to launch automatically whenever an exception is raised, you can use the ``%pdb`` magic function to turn on this automatic behavior:\n",
    "\n",
    "如果你希望調試器保持打開狀態，每當發生異常時就自動啟動，你可以使用 %pdb魔術指令，使用on/off參數就能打開或關閉調試器的自動啟動模式。"
   ]
  },
  {
   "cell_type": "code",
   "execution_count": 7,
   "metadata": {},
   "outputs": [],
   "source": [
    "# %xmode Plain\n",
    "# %pdb on\n",
    "# func2(1)"
   ]
  },
  {
   "cell_type": "markdown",
   "metadata": {},
   "source": [
    "### Partial list of debugging commands 調試命令部分列表\n",
    "\n",
    "> There are many more available commands for interactive debugging than we've listed here; the following table contains a description of some of the more common and useful ones:  For more information, use the ``help`` command in the debugger, or take a look at ``ipdb``'s [online documentation](https://github.com/gotcha/ipdb).\n",
    "\n",
    "| Command         |  Description                                                |\n",
    "|-----------------|-------------------------------------------------------------|\n",
    "| ``list``        | 顯示當前在文件中的位置信息                       |\n",
    "| ``h(elp)``      | 查看幫助文檔，可以顯示列表，或查看某個命令的具體幫助信息 |\n",
    "| ``q(uit)``      | 退出調試模式提示符                         |\n",
    "| ``c(ontinue)``  | 退出調試模式，繼續執行代碼                  |\n",
    "| ``n(ext)``      | 執行下一行代碼，單步調試                          |\n",
    "| ``<enter>``     | 直接重複執行上一條命令                                 |\n",
    "| ``p(rint)``     | 打印變量內容                                            |\n",
    "| ``s(tep)``      | 跟踪進入子函數內部進行調試                                   |\n",
    "| ``r(eturn)``    | 直接執行到函數返回                              |\n",
    "\n",
    "- 需要了解更多信息，可以在调试器模式下使用`help`命令，或者参见`ipdb`的[在线文档](https://github.com/gotcha/ipdb)。"
   ]
  },
  {
   "cell_type": "markdown",
   "metadata": {},
   "source": [
    "## Profiling and Timing Code 性能測算和計時"
   ]
  },
  {
   "cell_type": "markdown",
   "metadata": {},
   "source": [
    "> In the process of developing code and creating data processing pipelines, there are often trade-offs you can make between various implementations.\n",
    "Early in developing your algorithm, it can be counterproductive to worry about such things. As Donald Knuth famously quipped, \"We should forget about small efficiencies, say about 97% of the time: premature optimization is the root of all evil.\"\n",
    "\n",
    "在開發階段以及創建數據處理任務流時，經常都會出現多種可能的實現方案，每種都有各自優缺點，你需要在這之中進行權衡。在開發你的算法的早期階段，過於關注性能很可能會影響你的實現效率。正如高德納（譯者註：Donald Knuth，《計算機程序設計藝術》作者，最年輕的ACM圖靈獎獲得者，計算機算法泰山北斗）的名言：“我們應該忘掉那些小的效率問題，在絕大部分情況下：過早的優化是所有罪惡之源。”\n",
    "\n",
    "> But once you have your code working, it can be useful to dig into its efficiency a bit.\n",
    "Sometimes it's useful to check the execution time of a given command or set of commands; other times it's useful to dig into a multiline process and determine where the bottleneck lies in some complicated series of operations.\n",
    "IPython provides access to a wide array of functionality for this kind of timing and profiling of code.\n",
    "Here we'll discuss the following IPython magic commands:\n",
    "\n",
    "一旦你的代碼已經開始工作了，那麼你就應該開始深入的考慮一下性能問題了。有時你會需要檢查一行代碼或者一系列代碼的執行時間；有時你又需要對多個線程進行研究，找到一系列複雜操作當中的瓶頸所在。 IPython提供了這類計時或性能測算的豐富功能。本章節中我們會討論下述的IPython魔術指令：\n",
    "- ``%time``: 測量單條語句的執行時間\n",
    "- ``%timeit``: 對單條語句進行多次重複執行，並測量平均執行時間，以獲得更加準確的結果\n",
    "- ``%prun``: 執行代碼，並使用性能測算工具進行測算\n",
    "- ``%lprun``: 執行代碼，並使用單條語句性能測算工具進行測算\n",
    "- ``%memit``: 測量單條語句的內存佔用情況\n",
    "- ``%mprun``: 執行代碼，並使用單條語句內存測算工具進行測算"
   ]
  },
  {
   "cell_type": "markdown",
   "metadata": {},
   "source": [
    "### Timing Code Snippets: ``%timeit`` and ``%time``"
   ]
  },
  {
   "cell_type": "markdown",
   "metadata": {},
   "source": [
    "> Note that because this operation is so fast, ``%timeit`` automatically does a large number of repetitions.\n",
    "For slower commands, ``%timeit`` will automatically adjust and perform fewer repetitions:For more information on ``%time`` and ``%timeit``, as well as their available options, use the IPython help functionality (i.e., type ``%time?`` at the IPython prompt).\n",
    "\n",
    "`%timeit`自動做了很多次的重複執行。如果換成一個執行慢的操作，`%timeit`會自動調整（減少）重複次數。"
   ]
  },
  {
   "cell_type": "code",
   "execution_count": 8,
   "metadata": {},
   "outputs": [
    {
     "name": "stdout",
     "output_type": "stream",
     "text": [
      "839 ns ± 11.8 ns per loop (mean ± std. dev. of 7 runs, 1000000 loops each)\n"
     ]
    }
   ],
   "source": [
    "%timeit sum(range(100))"
   ]
  },
  {
   "cell_type": "code",
   "execution_count": 9,
   "metadata": {},
   "outputs": [
    {
     "name": "stdout",
     "output_type": "stream",
     "text": [
      "278 ms ± 32.2 ms per loop (mean ± std. dev. of 7 runs, 1 loop each)\n"
     ]
    }
   ],
   "source": [
    "%%timeit\n",
    "total = 0\n",
    "for i in range(1000):\n",
    "    for j in range(1000):\n",
    "        total += i * (-1) ** j"
   ]
  },
  {
   "cell_type": "code",
   "execution_count": 10,
   "metadata": {},
   "outputs": [
    {
     "name": "stdout",
     "output_type": "stream",
     "text": [
      "290 µs ± 19.6 µs per loop (mean ± std. dev. of 7 runs, 1000 loops each)\n"
     ]
    }
   ],
   "source": [
    "L = range(1000)\n",
    "%timeit [i**2 for i in L]"
   ]
  },
  {
   "cell_type": "code",
   "execution_count": 11,
   "metadata": {},
   "outputs": [
    {
     "name": "stdout",
     "output_type": "stream",
     "text": [
      "1.93 µs ± 30 ns per loop (mean ± std. dev. of 7 runs, 100000 loops each)\n"
     ]
    }
   ],
   "source": [
    "import numpy as np\n",
    "a = np.arange(1000)\n",
    "%timeit a**2"
   ]
  },
  {
   "cell_type": "markdown",
   "metadata": {},
   "source": [
    "> Sometimes repeating an operation is not the best option.\n",
    "For example, if we have a list that we'd like to sort, we might be misled by a repeated operation.\n",
    "Sorting a pre-sorted list is much faster than sorting an unsorted list, so the repetition will skew the result:\n",
    "\n",
    "值得注意的是，有些情況下，重複多次執行反而會得出一個錯誤的測量數據。例如，我們有一個列表，希望對它進行排序，重複執行的結果會明顯的誤導我們。因為對一個已經排好序的列表執行排序是非常快的，因此在第一次執行完成之後，後面重複進行排序的測量數據都是錯誤的："
   ]
  },
  {
   "cell_type": "code",
   "execution_count": 12,
   "metadata": {},
   "outputs": [
    {
     "name": "stdout",
     "output_type": "stream",
     "text": [
      "The slowest run took 5.77 times longer than the fastest. This could mean that an intermediate result is being cached.\n",
      "1.5 ms ± 826 µs per loop (mean ± std. dev. of 7 runs, 100 loops each)\n"
     ]
    }
   ],
   "source": [
    "import random\n",
    "L = [random.random() for i in range(100000)]\n",
    "%timeit L.sort()"
   ]
  },
  {
   "cell_type": "markdown",
   "metadata": {},
   "source": [
    "> For this, the ``%time`` magic function may be a better choice. It also is a good choice for longer-running commands, when short, system-related delays are unlikely to affect the result.\n",
    "Let's time the sorting of an unsorted and a presorted list:\n",
    "\n",
    "在這種情況下，`%time`魔術指令可能會是一個更好的選擇。對於一個執行時間較長的操作來說，它也更加適用，因為與系統相關的那些持續時間很短的延遲將不會對結果產生什麼影響。讓我們對一個未排序和一個已排序的列表進行排序，並觀察執行時間："
   ]
  },
  {
   "cell_type": "code",
   "execution_count": 13,
   "metadata": {},
   "outputs": [
    {
     "name": "stdout",
     "output_type": "stream",
     "text": [
      "sorting an unsorted list:\n",
      "Wall time: 19.9 ms\n"
     ]
    }
   ],
   "source": [
    "import random\n",
    "L = [random.random() for i in range(100000)]\n",
    "print(\"sorting an unsorted list:\")\n",
    "%time L.sort()"
   ]
  },
  {
   "cell_type": "code",
   "execution_count": 14,
   "metadata": {},
   "outputs": [
    {
     "name": "stdout",
     "output_type": "stream",
     "text": [
      "sorting an already sorted list:\n",
      "Wall time: 2.99 ms\n"
     ]
    }
   ],
   "source": [
    "print(\"sorting an already sorted list:\")\n",
    "%time L.sort()"
   ]
  },
  {
   "cell_type": "markdown",
   "metadata": {},
   "source": [
    "> Notice how much faster the presorted list is to sort, but notice also how much longer the timing takes with ``%time`` versus ``%timeit``, even for the presorted list!\n",
    "This is a result of the fact that ``%timeit`` does some clever things under the hood to prevent system calls from interfering with the timing.\n",
    "For example, it prevents cleanup of unused Python objects (known as *garbage collection*) which might otherwise affect the timing.\n",
    "For this reason, ``%timeit`` results are usually noticeably faster than ``%time`` results.\n",
    "For ``%time`` as with ``%timeit``, using the double-percent-sign cell magic syntax allows timing of multiline scripts:\n",
    "\n",
    "你應該首先註意到的是對於未排序的列表和對於已排序的列表進行排序的執行時間差別。而且你還需要了解`%time`和`%timeit`執行的區別，即使都是使用已經排好序的列表的情況下。這是因為`%timeit`會使用一種額外的機制來防止系統調用影響計時的結果。例如，它會阻止Python解析器清理不再使用的對象（*垃圾收集*），否則垃圾收集會影響計時的結果。因此通常情況下`%timeit`的結果都會比`%time`的結果要快。對於`%time`和`%timeit`指令，使用兩個百分號可以對一段代碼進行計時："
   ]
  },
  {
   "cell_type": "code",
   "execution_count": 15,
   "metadata": {},
   "outputs": [
    {
     "name": "stdout",
     "output_type": "stream",
     "text": [
      "Wall time: 378 ms\n"
     ]
    }
   ],
   "source": [
    "%%time\n",
    "total = 0\n",
    "for i in range(1000):\n",
    "    for j in range(1000):\n",
    "        total += i * (-1) ** j"
   ]
  },
  {
   "cell_type": "markdown",
   "metadata": {},
   "source": [
    "### Profiling Full Scripts: ``%prun`` 腳本代碼塊性能測算\n",
    "\n",
    "> A program is made of many single statements, and sometimes timing these statements in context is more important than timing them on their own.\n",
    "Python contains a built-in code profiler (which you can read about in the Python documentation), but IPython offers a much more convenient way to use this profiler, in the form of the magic function ``%prun``.\n",
    "\n",
    "一個程序都是有很多條代碼組成的，有的時候對整段代碼塊性能進行測算比對每條代碼進行計時要更加重要。 Python自帶一個內建的代碼性能測算工具（你可以在Python文檔中找到它），而IPython提供了一個更加簡便的方式來使用這個測算工具，使用`%prun`魔術指令。"
   ]
  },
  {
   "cell_type": "code",
   "execution_count": 16,
   "metadata": {},
   "outputs": [
    {
     "name": "stdout",
     "output_type": "stream",
     "text": [
      " "
     ]
    }
   ],
   "source": [
    "def sum_of_lists(N):\n",
    "    total = 0\n",
    "    for i in range(5):\n",
    "        L = [j ^ (j >> i) for j in range(N)]\n",
    "        total += sum(L)\n",
    "    return total\n",
    "\n",
    "%prun sum_of_lists(1000000)"
   ]
  },
  {
   "cell_type": "markdown",
   "metadata": {},
   "source": [
    "> The result is a table that indicates, in order of total time on each function call, where the execution is spending the most time. In this case, the bulk of execution time is in the list comprehension inside ``sum_of_lists``.\n",
    "From here, we could start thinking about what changes we might make to improve the performance in the algorithm.\n",
    "For more information on ``%prun``, as well as its available options, use the IPython help functionality (i.e., type ``%prun?`` at the IPython prompt).\n",
    "\n",
    "這個結果的表格，使用的是每個函數調用執行總時間進行排序（從大到小）。從上面的結果可以看出，絕大部分的執行時間都發生在函數`sum_of_lists`中的列表解析之上。然後，我們就可以知道如果需要優化這段代碼的性能，可以從哪個方面開始著手了。\n"
   ]
  }
 ],
 "metadata": {
  "anaconda-cloud": {},
  "kernelspec": {
   "display_name": "Python 3 (ipykernel)",
   "language": "python",
   "name": "python3"
  },
  "language_info": {
   "codemirror_mode": {
    "name": "ipython",
    "version": 3
   },
   "file_extension": ".py",
   "mimetype": "text/x-python",
   "name": "python",
   "nbconvert_exporter": "python",
   "pygments_lexer": "ipython3",
   "version": "3.9.7"
  }
 },
 "nbformat": 4,
 "nbformat_minor": 1
}
