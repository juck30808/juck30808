{
 "cells": [
  {
   "cell_type": "markdown",
   "id": "2b7d1051",
   "metadata": {},
   "source": [
    "# Use PyPDF2 to manage PDF Files"
   ]
  },
  {
   "cell_type": "code",
   "execution_count": 1,
   "id": "6dbfadea",
   "metadata": {},
   "outputs": [
    {
     "name": "stdout",
     "output_type": "stream",
     "text": [
      "Requirement already satisfied: PyPDF2 in c:\\users\\cti110016\\anaconda3\\lib\\site-packages (1.26.0)\n"
     ]
    }
   ],
   "source": [
    "!pip install PyPDF2"
   ]
  },
  {
   "cell_type": "code",
   "execution_count": 2,
   "id": "5bbe4ddc",
   "metadata": {
    "scrolled": false
   },
   "outputs": [
    {
     "name": "stdout",
     "output_type": "stream",
     "text": [
      "1\n",
      "ARBITRARY \n",
      "ARGS\n",
      "\n",
      "If\n",
      "you\n",
      "do\n",
      "not\n",
      "know\n",
      "how\n",
      "many\n",
      "keyword\n",
      "arguments\n",
      "that\n",
      "will\n",
      "be\n",
      "passed\n",
      "into\n",
      "your\n",
      "function,\n",
      "use\n",
      "an\n",
      "asterisk\n",
      "before\n",
      "the\n",
      "parameter\n",
      "name\n",
      "to\n",
      "denote\n",
      "this\n",
      "kind\n",
      "of\n",
      "argument\n",
      ".\n",
      "\n"
     ]
    }
   ],
   "source": [
    "import PyPDF2\n",
    "\n",
    "new_pdf = open('input/Intro1.pdf', 'rb') #file object creation\n",
    "reading_pdf = PyPDF2.PdfFileReader(new_pdf) #pdf reader object\n",
    "print(reading_pdf.numPages) #number of pages in pdf\n",
    "\n",
    "pdf_page = reading_pdf.getPage(0) #page object creation\n",
    "print(pdf_page.extractText())\n",
    "\n",
    "# Close PDF File\n",
    "new_pdf.close()"
   ]
  },
  {
   "cell_type": "code",
   "execution_count": 4,
   "id": "e7e56b85",
   "metadata": {},
   "outputs": [
    {
     "name": "stdout",
     "output_type": "stream",
     "text": [
      "1\n",
      "G·`n%¦k7_V8(1:1›MZ!’;üG·7i#‘Z÷.u#‹eﬁ_V8(8Ñ\"ëaY_V\\ŽTŒ\\Š8þqm\\O#Ø_V\\Ž_V8(1:aY?Ð\\Š#^@»hk-æd^\\Š ¼8F\\í&R%/=ò)·bÁZÛ ¼>c_„\n"
     ]
    }
   ],
   "source": [
    "import PyPDF2\n",
    "\n",
    "new_pdf = open('output/Managing_Data_Files.pdf', 'rb')\n",
    "reading_pdf = PyPDF2.PdfFileReader(new_pdf)\n",
    "print(reading_pdf.numPages)\n",
    "\n",
    "pdf_page = reading_pdf.getPage(0)\n",
    "print(pdf_page.extractText())\n",
    "\n",
    "new_pdf.close()"
   ]
  }
 ],
 "metadata": {
  "kernelspec": {
   "display_name": "Python 3 (ipykernel)",
   "language": "python",
   "name": "python3"
  },
  "language_info": {
   "codemirror_mode": {
    "name": "ipython",
    "version": 3
   },
   "file_extension": ".py",
   "mimetype": "text/x-python",
   "name": "python",
   "nbconvert_exporter": "python",
   "pygments_lexer": "ipython3",
   "version": "3.9.7"
  }
 },
 "nbformat": 4,
 "nbformat_minor": 5
}
