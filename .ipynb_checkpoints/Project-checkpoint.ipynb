{
 "cells": [
  {
   "cell_type": "markdown",
   "metadata": {},
   "source": [
    "## Letter Counter  計算字母出現次數"
   ]
  },
  {
   "cell_type": "code",
   "execution_count": 1,
   "metadata": {
    "scrolled": true
   },
   "outputs": [
    {
     "name": "stdin",
     "output_type": "stream",
     "text": [
      "\n",
      "What is your name:  565\n"
     ]
    },
    {
     "name": "stdout",
     "output_type": "stream",
     "text": [
      "Hello, 565!\n",
      "I will count the number of times that a specific letter occurs in a message.\n"
     ]
    },
    {
     "name": "stdin",
     "output_type": "stream",
     "text": [
      "\n",
      "Please enter a message:  Good\n",
      "Which letter would you like to count the occurrences of:  FAFF\n"
     ]
    },
    {
     "name": "stdout",
     "output_type": "stream",
     "text": [
      "\n",
      "565, your message has 0 faff's in it.\n"
     ]
    }
   ],
   "source": [
    "name = input(\"\\nWhat is your name: \").title().strip()\n",
    "print(\"Hello, \" + name + \"!\") \n",
    "print(\"I will count the number of times that a specific letter occurs in a message.\")\n",
    "message = input(\"\\nPlease enter a message: \")\n",
    "letter = input(\"Which letter would you like to count the occurrences of: \")\n",
    "\n",
    "# Standardize to lower case.\n",
    "message = message.lower()\n",
    "letter = letter.lower()\n",
    "\n",
    "# Get the count and display results.\n",
    "letter_count = message.count(letter)\n",
    "print(\"\\n\" + name + \", your message has \" + str(letter_count) + \" \" + letter + \"'s in it.\")"
   ]
  },
  {
   "cell_type": "markdown",
   "metadata": {},
   "source": [
    "## Grade Sorter 排列組合"
   ]
  },
  {
   "cell_type": "code",
   "execution_count": 2,
   "metadata": {
    "scrolled": true
   },
   "outputs": [
    {
     "name": "stdin",
     "output_type": "stream",
     "text": [
      "\n",
      "What is your first grade (0-100):  50\n",
      "What is your second grade (0-100):  1\n",
      "What is your third grade (0-100):  20\n",
      "What is your fourth grade (0-100):  13\n"
     ]
    },
    {
     "name": "stdout",
     "output_type": "stream",
     "text": [
      "\n",
      "Your grades are: [50, 1, 20, 13]\n",
      "\n",
      "Your grades from highest to lowest are: [50, 20, 13, 1]\n",
      "\n",
      "The lowest two grades will now be dropped.\n",
      "Removed grade: 1\n",
      "Removed grade: 13\n",
      "\n",
      "Your remaining grades are: [50, 20]\n",
      "Nice work! Your highest grade is 50.\n"
     ]
    }
   ],
   "source": [
    "grades = []\n",
    "grade = int(input(\"\\nWhat is your first grade (0-100): \"))\n",
    "grades.append(grade)\n",
    "grade = int(input(\"What is your second grade (0-100): \"))\n",
    "grades.append(grade)\n",
    "grade = int(input(\"What is your third grade (0-100): \"))\n",
    "grades.append(grade)\n",
    "grade = int(input(\"What is your fourth grade (0-100): \"))\n",
    "grades.append(grade)\n",
    "\n",
    "print(\"\\nYour grades are: \" + str(grades))\n",
    "\n",
    "#Sort the list from highest to lowest\n",
    "grades.sort(reverse=True)\n",
    "print(\"\\nYour grades from highest to lowest are: \" + str(grades))\n",
    "\n",
    "#Removing the lowest two grades.\n",
    "print(\"\\nThe lowest two grades will now be dropped.\")\n",
    "removed_grade = grades.pop()\n",
    "print(\"Removed grade: \" + str(removed_grade))\n",
    "removed_grade = grades.pop()\n",
    "print(\"Removed grade: \" + str(removed_grade))\n",
    "\n",
    "#Recap remaining grades\n",
    "print(\"\\nYour remaining grades are: \" + str(grades))\n",
    "print(\"Nice work! Your highest grade is \" + str(grades[0]) + \".\")"
   ]
  },
  {
   "cell_type": "markdown",
   "metadata": {},
   "source": [
    "## Basketball Roster Program"
   ]
  },
  {
   "cell_type": "code",
   "execution_count": 3,
   "metadata": {
    "scrolled": true
   },
   "outputs": [
    {
     "name": "stdin",
     "output_type": "stream",
     "text": [
      "\n",
      "Who is your point guard:  15\n",
      "Who is your shooting guard:  16\n",
      "Who is your small forward:  15\n",
      "Who is your power forward:  12\n",
      "Who is your center:  1\n"
     ]
    },
    {
     "name": "stdout",
     "output_type": "stream",
     "text": [
      "\n",
      "\tYour starting 5 for the upcoming basketball season\n",
      "\t\tPoint Guard:\t\t15\n",
      "\t\tShooting Guard:\t\t16\n",
      "\t\tSmall Forward:\t\t15\n",
      "\t\tPower Forward:\t\t12\n",
      "\t\tCenter:\t\t\t1\n",
      "\n",
      "Oh no, 15 is injured.\n",
      "Your roster only has 4 players.\n"
     ]
    },
    {
     "name": "stdin",
     "output_type": "stream",
     "text": [
      "Who will take 15's spot:  12\n"
     ]
    },
    {
     "name": "stdout",
     "output_type": "stream",
     "text": [
      "\n",
      "\tYour starting 5 for the upcoming basketball season\n",
      "\t\tPoint Guard:\t\t15\n",
      "\t\tShooting Guard:\t\t16\n",
      "\t\tSmall Forward:\t\t12\n",
      "\t\tPower Forward:\t\t12\n",
      "\t\tCenter:\t\t\t1\n",
      "\n",
      "Good luck 12 you will do great!\n",
      "Your roster now has 5 players.\n"
     ]
    }
   ],
   "source": [
    "roster = []\n",
    "player = input(\"\\nWho is your point guard: \").title()\n",
    "roster.append(player)\n",
    "player = input(\"Who is your shooting guard: \").title()\n",
    "roster.append(player)\n",
    "player = input(\"Who is your small forward: \").title()\n",
    "roster.append(player)\n",
    "player = input(\"Who is your power forward: \").title()\n",
    "roster.append(player)\n",
    "player = input(\"Who is your center: \").title()\n",
    "roster.append(player)\n",
    "\n",
    "print(\"\\n\\tYour starting 5 for the upcoming basketball season\")\n",
    "print(\"\\t\\tPoint Guard:\\t\\t\" + roster[0])\n",
    "print(\"\\t\\tShooting Guard:\\t\\t\" + roster[1])\n",
    "print(\"\\t\\tSmall Forward:\\t\\t\" + roster[2])\n",
    "print(\"\\t\\tPower Forward:\\t\\t\" + roster[3])\n",
    "print(\"\\t\\tCenter:\\t\\t\\t\" + roster[4])\n",
    "\n",
    "# Remove an injured player\n",
    "injured_player = roster.pop(2)\n",
    "print(\"\\nOh no, \" + injured_player + \" is injured.\")\n",
    "\n",
    "roster_length = len(roster)\n",
    "print(\"Your roster only has \" + str(roster_length) + \" players.\")\n",
    "\n",
    "#Add a new player\n",
    "added_player = input(\"Who will take \" + injured_player + \"'s spot: \").title()\n",
    "roster.insert(2, added_player)\n",
    "\n",
    "#Display roster\n",
    "print(\"\\n\\tYour starting 5 for the upcoming basketball season\")\n",
    "print(\"\\t\\tPoint Guard:\\t\\t\" + roster[0])\n",
    "print(\"\\t\\tShooting Guard:\\t\\t\" + roster[1])\n",
    "print(\"\\t\\tSmall Forward:\\t\\t\" + roster[2])\n",
    "print(\"\\t\\tPower Forward:\\t\\t\" + roster[3])\n",
    "print(\"\\t\\tCenter:\\t\\t\\t\" + roster[4])\n",
    "\n",
    "print(\"\\nGood luck \" + roster[2] + \" you will do great!\")\n",
    "roster_length = len(roster)\n",
    "print(\"Your roster now has \" + str(roster_length) + \" players.\")"
   ]
  },
  {
   "cell_type": "markdown",
   "metadata": {},
   "source": [
    "## Binary Hexadecimal Conversion  二進制十六進制"
   ]
  },
  {
   "cell_type": "code",
   "execution_count": 4,
   "metadata": {},
   "outputs": [
    {
     "name": "stdin",
     "output_type": "stream",
     "text": [
      "\n",
      "Compute binary and hexadecimal values up to the following decimal number:  222\n"
     ]
    },
    {
     "name": "stdout",
     "output_type": "stream",
     "text": [
      "Generating lists...Complete!\n",
      "Generating lists...Complete!\n",
      "Generating lists...Complete!\n",
      "Generating lists...Complete!\n",
      "Generating lists...Complete!\n",
      "Generating lists...Complete!\n",
      "Generating lists...Complete!\n",
      "Generating lists...Complete!\n",
      "Generating lists...Complete!\n",
      "Generating lists...Complete!\n",
      "Generating lists...Complete!\n",
      "Generating lists...Complete!\n",
      "Generating lists...Complete!\n",
      "Generating lists...Complete!\n",
      "Generating lists...Complete!\n",
      "Generating lists...Complete!\n",
      "Generating lists...Complete!\n",
      "Generating lists...Complete!\n",
      "Generating lists...Complete!\n",
      "Generating lists...Complete!\n",
      "Generating lists...Complete!\n",
      "Generating lists...Complete!\n",
      "Generating lists...Complete!\n",
      "Generating lists...Complete!\n",
      "Generating lists...Complete!\n",
      "Generating lists...Complete!\n",
      "Generating lists...Complete!\n",
      "Generating lists...Complete!\n",
      "Generating lists...Complete!\n",
      "Generating lists...Complete!\n",
      "Generating lists...Complete!\n",
      "Generating lists...Complete!\n",
      "Generating lists...Complete!\n",
      "Generating lists...Complete!\n",
      "Generating lists...Complete!\n",
      "Generating lists...Complete!\n",
      "Generating lists...Complete!\n",
      "Generating lists...Complete!\n",
      "Generating lists...Complete!\n",
      "Generating lists...Complete!\n",
      "Generating lists...Complete!\n",
      "Generating lists...Complete!\n",
      "Generating lists...Complete!\n",
      "Generating lists...Complete!\n",
      "Generating lists...Complete!\n",
      "Generating lists...Complete!\n",
      "Generating lists...Complete!\n",
      "Generating lists...Complete!\n",
      "Generating lists...Complete!\n",
      "Generating lists...Complete!\n",
      "Generating lists...Complete!\n",
      "Generating lists...Complete!\n",
      "Generating lists...Complete!\n",
      "Generating lists...Complete!\n",
      "Generating lists...Complete!\n",
      "Generating lists...Complete!\n",
      "Generating lists...Complete!\n",
      "Generating lists...Complete!\n",
      "Generating lists...Complete!\n",
      "Generating lists...Complete!\n",
      "Generating lists...Complete!\n",
      "Generating lists...Complete!\n",
      "Generating lists...Complete!\n",
      "Generating lists...Complete!\n",
      "Generating lists...Complete!\n",
      "Generating lists...Complete!\n",
      "Generating lists...Complete!\n",
      "Generating lists...Complete!\n",
      "Generating lists...Complete!\n",
      "Generating lists...Complete!\n",
      "Generating lists...Complete!\n",
      "Generating lists...Complete!\n",
      "Generating lists...Complete!\n",
      "Generating lists...Complete!\n",
      "Generating lists...Complete!\n",
      "Generating lists...Complete!\n",
      "Generating lists...Complete!\n",
      "Generating lists...Complete!\n",
      "Generating lists...Complete!\n",
      "Generating lists...Complete!\n",
      "Generating lists...Complete!\n",
      "Generating lists...Complete!\n",
      "Generating lists...Complete!\n",
      "Generating lists...Complete!\n",
      "Generating lists...Complete!\n",
      "Generating lists...Complete!\n",
      "Generating lists...Complete!\n",
      "Generating lists...Complete!\n",
      "Generating lists...Complete!\n",
      "Generating lists...Complete!\n",
      "Generating lists...Complete!\n",
      "Generating lists...Complete!\n",
      "Generating lists...Complete!\n",
      "Generating lists...Complete!\n",
      "Generating lists...Complete!\n",
      "Generating lists...Complete!\n",
      "Generating lists...Complete!\n",
      "Generating lists...Complete!\n",
      "Generating lists...Complete!\n",
      "Generating lists...Complete!\n",
      "Generating lists...Complete!\n",
      "Generating lists...Complete!\n",
      "Generating lists...Complete!\n",
      "Generating lists...Complete!\n",
      "Generating lists...Complete!\n",
      "Generating lists...Complete!\n",
      "Generating lists...Complete!\n",
      "Generating lists...Complete!\n",
      "Generating lists...Complete!\n",
      "Generating lists...Complete!\n",
      "Generating lists...Complete!\n",
      "Generating lists...Complete!\n",
      "Generating lists...Complete!\n",
      "Generating lists...Complete!\n",
      "Generating lists...Complete!\n",
      "Generating lists...Complete!\n",
      "Generating lists...Complete!\n",
      "Generating lists...Complete!\n",
      "Generating lists...Complete!\n",
      "Generating lists...Complete!\n",
      "Generating lists...Complete!\n",
      "Generating lists...Complete!\n",
      "Generating lists...Complete!\n",
      "Generating lists...Complete!\n",
      "Generating lists...Complete!\n",
      "Generating lists...Complete!\n",
      "Generating lists...Complete!\n",
      "Generating lists...Complete!\n",
      "Generating lists...Complete!\n",
      "Generating lists...Complete!\n",
      "Generating lists...Complete!\n",
      "Generating lists...Complete!\n",
      "Generating lists...Complete!\n",
      "Generating lists...Complete!\n",
      "Generating lists...Complete!\n",
      "Generating lists...Complete!\n",
      "Generating lists...Complete!\n",
      "Generating lists...Complete!\n",
      "Generating lists...Complete!\n",
      "Generating lists...Complete!\n",
      "Generating lists...Complete!\n",
      "Generating lists...Complete!\n",
      "Generating lists...Complete!\n",
      "Generating lists...Complete!\n",
      "Generating lists...Complete!\n",
      "Generating lists...Complete!\n",
      "Generating lists...Complete!\n",
      "Generating lists...Complete!\n",
      "Generating lists...Complete!\n",
      "Generating lists...Complete!\n",
      "Generating lists...Complete!\n",
      "Generating lists...Complete!\n",
      "Generating lists...Complete!\n",
      "Generating lists...Complete!\n",
      "Generating lists...Complete!\n",
      "Generating lists...Complete!\n",
      "Generating lists...Complete!\n",
      "Generating lists...Complete!\n",
      "Generating lists...Complete!\n",
      "Generating lists...Complete!\n",
      "Generating lists...Complete!\n",
      "Generating lists...Complete!\n",
      "Generating lists...Complete!\n",
      "Generating lists...Complete!\n",
      "Generating lists...Complete!\n",
      "Generating lists...Complete!\n",
      "Generating lists...Complete!\n",
      "Generating lists...Complete!\n",
      "Generating lists...Complete!\n",
      "Generating lists...Complete!\n",
      "Generating lists...Complete!\n",
      "Generating lists...Complete!\n",
      "Generating lists...Complete!\n",
      "Generating lists...Complete!\n",
      "Generating lists...Complete!\n",
      "Generating lists...Complete!\n",
      "Generating lists...Complete!\n",
      "Generating lists...Complete!\n",
      "Generating lists...Complete!\n",
      "Generating lists...Complete!\n",
      "Generating lists...Complete!\n",
      "Generating lists...Complete!\n",
      "Generating lists...Complete!\n",
      "Generating lists...Complete!\n",
      "Generating lists...Complete!\n",
      "Generating lists...Complete!\n",
      "Generating lists...Complete!\n",
      "Generating lists...Complete!\n",
      "Generating lists...Complete!\n",
      "Generating lists...Complete!\n",
      "Generating lists...Complete!\n",
      "Generating lists...Complete!\n",
      "Generating lists...Complete!\n",
      "Generating lists...Complete!\n",
      "Generating lists...Complete!\n",
      "Generating lists...Complete!\n",
      "Generating lists...Complete!\n",
      "Generating lists...Complete!\n",
      "Generating lists...Complete!\n",
      "Generating lists...Complete!\n",
      "Generating lists...Complete!\n",
      "Generating lists...Complete!\n",
      "Generating lists...Complete!\n",
      "Generating lists...Complete!\n",
      "Generating lists...Complete!\n",
      "Generating lists...Complete!\n",
      "Generating lists...Complete!\n",
      "Generating lists...Complete!\n",
      "Generating lists...Complete!\n",
      "Generating lists...Complete!\n",
      "Generating lists...Complete!\n",
      "Generating lists...Complete!\n",
      "Generating lists...Complete!\n",
      "Generating lists...Complete!\n",
      "Generating lists...Complete!\n",
      "Generating lists...Complete!\n",
      "Generating lists...Complete!\n",
      "Generating lists...Complete!\n",
      "Generating lists...Complete!\n",
      "Generating lists...Complete!\n",
      "Generating lists...Complete!\n",
      "Generating lists...Complete!\n",
      "\n",
      "Using slices, we will now show a portion of each list.\n"
     ]
    },
    {
     "name": "stdin",
     "output_type": "stream",
     "text": [
      "What decimal number would you like to start at:  0\n",
      "What decimal number would you like to stop at:  12\n"
     ]
    },
    {
     "name": "stdout",
     "output_type": "stream",
     "text": [
      "\n",
      "Decimal values from 0 to 12:\n",
      "\n",
      "Binary values from 0 to 12:\n",
      "\n",
      "Hexadecimal values from 0 to 12:\n"
     ]
    },
    {
     "name": "stdin",
     "output_type": "stream",
     "text": [
      "\n",
      "Press Enter to see all values from 1 to 222. 5\n"
     ]
    },
    {
     "name": "stdout",
     "output_type": "stream",
     "text": [
      "Decimal----Binary----Hexadecimal\n",
      "----------------------------------------------\n",
      "1----0b1----0x1\n",
      "2----0b10----0x2\n",
      "3----0b11----0x3\n",
      "4----0b100----0x4\n",
      "5----0b101----0x5\n",
      "6----0b110----0x6\n",
      "7----0b111----0x7\n",
      "8----0b1000----0x8\n",
      "9----0b1001----0x9\n",
      "10----0b1010----0xa\n",
      "11----0b1011----0xb\n",
      "12----0b1100----0xc\n",
      "13----0b1101----0xd\n",
      "14----0b1110----0xe\n",
      "15----0b1111----0xf\n",
      "16----0b10000----0x10\n",
      "17----0b10001----0x11\n",
      "18----0b10010----0x12\n",
      "19----0b10011----0x13\n",
      "20----0b10100----0x14\n",
      "21----0b10101----0x15\n",
      "22----0b10110----0x16\n",
      "23----0b10111----0x17\n",
      "24----0b11000----0x18\n",
      "25----0b11001----0x19\n",
      "26----0b11010----0x1a\n",
      "27----0b11011----0x1b\n",
      "28----0b11100----0x1c\n",
      "29----0b11101----0x1d\n",
      "30----0b11110----0x1e\n",
      "31----0b11111----0x1f\n",
      "32----0b100000----0x20\n",
      "33----0b100001----0x21\n",
      "34----0b100010----0x22\n",
      "35----0b100011----0x23\n",
      "36----0b100100----0x24\n",
      "37----0b100101----0x25\n",
      "38----0b100110----0x26\n",
      "39----0b100111----0x27\n",
      "40----0b101000----0x28\n",
      "41----0b101001----0x29\n",
      "42----0b101010----0x2a\n",
      "43----0b101011----0x2b\n",
      "44----0b101100----0x2c\n",
      "45----0b101101----0x2d\n",
      "46----0b101110----0x2e\n",
      "47----0b101111----0x2f\n",
      "48----0b110000----0x30\n",
      "49----0b110001----0x31\n",
      "50----0b110010----0x32\n",
      "51----0b110011----0x33\n",
      "52----0b110100----0x34\n",
      "53----0b110101----0x35\n",
      "54----0b110110----0x36\n",
      "55----0b110111----0x37\n",
      "56----0b111000----0x38\n",
      "57----0b111001----0x39\n",
      "58----0b111010----0x3a\n",
      "59----0b111011----0x3b\n",
      "60----0b111100----0x3c\n",
      "61----0b111101----0x3d\n",
      "62----0b111110----0x3e\n",
      "63----0b111111----0x3f\n",
      "64----0b1000000----0x40\n",
      "65----0b1000001----0x41\n",
      "66----0b1000010----0x42\n",
      "67----0b1000011----0x43\n",
      "68----0b1000100----0x44\n",
      "69----0b1000101----0x45\n",
      "70----0b1000110----0x46\n",
      "71----0b1000111----0x47\n",
      "72----0b1001000----0x48\n",
      "73----0b1001001----0x49\n",
      "74----0b1001010----0x4a\n",
      "75----0b1001011----0x4b\n",
      "76----0b1001100----0x4c\n",
      "77----0b1001101----0x4d\n",
      "78----0b1001110----0x4e\n",
      "79----0b1001111----0x4f\n",
      "80----0b1010000----0x50\n",
      "81----0b1010001----0x51\n",
      "82----0b1010010----0x52\n",
      "83----0b1010011----0x53\n",
      "84----0b1010100----0x54\n",
      "85----0b1010101----0x55\n",
      "86----0b1010110----0x56\n",
      "87----0b1010111----0x57\n",
      "88----0b1011000----0x58\n",
      "89----0b1011001----0x59\n",
      "90----0b1011010----0x5a\n",
      "91----0b1011011----0x5b\n",
      "92----0b1011100----0x5c\n",
      "93----0b1011101----0x5d\n",
      "94----0b1011110----0x5e\n",
      "95----0b1011111----0x5f\n",
      "96----0b1100000----0x60\n",
      "97----0b1100001----0x61\n",
      "98----0b1100010----0x62\n",
      "99----0b1100011----0x63\n",
      "100----0b1100100----0x64\n",
      "101----0b1100101----0x65\n",
      "102----0b1100110----0x66\n",
      "103----0b1100111----0x67\n",
      "104----0b1101000----0x68\n",
      "105----0b1101001----0x69\n",
      "106----0b1101010----0x6a\n",
      "107----0b1101011----0x6b\n",
      "108----0b1101100----0x6c\n",
      "109----0b1101101----0x6d\n",
      "110----0b1101110----0x6e\n",
      "111----0b1101111----0x6f\n",
      "112----0b1110000----0x70\n",
      "113----0b1110001----0x71\n",
      "114----0b1110010----0x72\n",
      "115----0b1110011----0x73\n",
      "116----0b1110100----0x74\n",
      "117----0b1110101----0x75\n",
      "118----0b1110110----0x76\n",
      "119----0b1110111----0x77\n",
      "120----0b1111000----0x78\n",
      "121----0b1111001----0x79\n",
      "122----0b1111010----0x7a\n",
      "123----0b1111011----0x7b\n",
      "124----0b1111100----0x7c\n",
      "125----0b1111101----0x7d\n",
      "126----0b1111110----0x7e\n",
      "127----0b1111111----0x7f\n",
      "128----0b10000000----0x80\n",
      "129----0b10000001----0x81\n",
      "130----0b10000010----0x82\n",
      "131----0b10000011----0x83\n",
      "132----0b10000100----0x84\n",
      "133----0b10000101----0x85\n",
      "134----0b10000110----0x86\n",
      "135----0b10000111----0x87\n",
      "136----0b10001000----0x88\n",
      "137----0b10001001----0x89\n",
      "138----0b10001010----0x8a\n",
      "139----0b10001011----0x8b\n",
      "140----0b10001100----0x8c\n",
      "141----0b10001101----0x8d\n",
      "142----0b10001110----0x8e\n",
      "143----0b10001111----0x8f\n",
      "144----0b10010000----0x90\n",
      "145----0b10010001----0x91\n",
      "146----0b10010010----0x92\n",
      "147----0b10010011----0x93\n",
      "148----0b10010100----0x94\n",
      "149----0b10010101----0x95\n",
      "150----0b10010110----0x96\n",
      "151----0b10010111----0x97\n",
      "152----0b10011000----0x98\n",
      "153----0b10011001----0x99\n",
      "154----0b10011010----0x9a\n",
      "155----0b10011011----0x9b\n",
      "156----0b10011100----0x9c\n",
      "157----0b10011101----0x9d\n",
      "158----0b10011110----0x9e\n",
      "159----0b10011111----0x9f\n",
      "160----0b10100000----0xa0\n",
      "161----0b10100001----0xa1\n",
      "162----0b10100010----0xa2\n",
      "163----0b10100011----0xa3\n",
      "164----0b10100100----0xa4\n",
      "165----0b10100101----0xa5\n",
      "166----0b10100110----0xa6\n",
      "167----0b10100111----0xa7\n",
      "168----0b10101000----0xa8\n",
      "169----0b10101001----0xa9\n",
      "170----0b10101010----0xaa\n",
      "171----0b10101011----0xab\n",
      "172----0b10101100----0xac\n",
      "173----0b10101101----0xad\n",
      "174----0b10101110----0xae\n",
      "175----0b10101111----0xaf\n",
      "176----0b10110000----0xb0\n",
      "177----0b10110001----0xb1\n",
      "178----0b10110010----0xb2\n",
      "179----0b10110011----0xb3\n",
      "180----0b10110100----0xb4\n",
      "181----0b10110101----0xb5\n",
      "182----0b10110110----0xb6\n",
      "183----0b10110111----0xb7\n",
      "184----0b10111000----0xb8\n",
      "185----0b10111001----0xb9\n",
      "186----0b10111010----0xba\n",
      "187----0b10111011----0xbb\n",
      "188----0b10111100----0xbc\n",
      "189----0b10111101----0xbd\n",
      "190----0b10111110----0xbe\n",
      "191----0b10111111----0xbf\n",
      "192----0b11000000----0xc0\n",
      "193----0b11000001----0xc1\n",
      "194----0b11000010----0xc2\n",
      "195----0b11000011----0xc3\n",
      "196----0b11000100----0xc4\n",
      "197----0b11000101----0xc5\n",
      "198----0b11000110----0xc6\n",
      "199----0b11000111----0xc7\n",
      "200----0b11001000----0xc8\n",
      "201----0b11001001----0xc9\n",
      "202----0b11001010----0xca\n",
      "203----0b11001011----0xcb\n",
      "204----0b11001100----0xcc\n",
      "205----0b11001101----0xcd\n",
      "206----0b11001110----0xce\n",
      "207----0b11001111----0xcf\n",
      "208----0b11010000----0xd0\n",
      "209----0b11010001----0xd1\n",
      "210----0b11010010----0xd2\n",
      "211----0b11010011----0xd3\n",
      "212----0b11010100----0xd4\n",
      "213----0b11010101----0xd5\n",
      "214----0b11010110----0xd6\n",
      "215----0b11010111----0xd7\n",
      "216----0b11011000----0xd8\n",
      "217----0b11011001----0xd9\n",
      "218----0b11011010----0xda\n",
      "219----0b11011011----0xdb\n",
      "220----0b11011100----0xdc\n",
      "221----0b11011101----0xdd\n",
      "222----0b11011110----0xde\n"
     ]
    }
   ],
   "source": [
    "max_value = int(input(\"\\nCompute binary and hexadecimal values up to the following decimal number: \"))\n",
    "decimal = list(range(1, max_value+1))\n",
    "binary = []\n",
    "hexadecimal = []\n",
    "for num in decimal:\n",
    "    binary.append(bin(num))\n",
    "    hexadecimal.append(hex(num))\n",
    "    print(\"Generating lists...Complete!\")\n",
    "\n",
    "\n",
    "#Get slicing index from user.\n",
    "print(\"\\nUsing slices, we will now show a portion of each list.\")\n",
    "lower_range = int(input(\"What decimal number would you like to start at: \"))\n",
    "upper_range = int(input(\"What decimal number would you like to stop at: \"))\n",
    "\n",
    "#Slice through each list individually\n",
    "print(\"\\nDecimal values from \" + str(lower_range) + \" to \" + str(upper_range) + \":\")\n",
    "for num in decimal[lower_range-1:upper_range]:\n",
    "    print(num)\n",
    "\n",
    "print(\"\\nBinary values from \" + str(lower_range) + \" to \" + str(upper_range) + \":\")\n",
    "for num in binary[lower_range-1:upper_range]:\n",
    "    print(num)\n",
    "\n",
    "print(\"\\nHexadecimal values from \" + str(lower_range) + \" to \" + str(upper_range) + \":\")\n",
    "\n",
    "for num in hexadecimal[lower_range-1:upper_range]:\n",
    "    print(num)\n",
    "\n",
    "#Output the whole list to the screen\n",
    "input(\"\\nPress Enter to see all values from 1 to \" + str(max_value) + \".\")\n",
    "print(\"Decimal----Binary----Hexadecimal\")\n",
    "print(\"----------------------------------------------\")\n",
    "for d, b, h in zip(decimal, binary, hexadecimal):\n",
    "    print(str(d) + \"----\" + str(b) + \"----\" + str(h))"
   ]
  },
  {
   "cell_type": "markdown",
   "metadata": {},
   "source": [
    "## Fibonacci Calculator App 斐波那計算機"
   ]
  },
  {
   "cell_type": "code",
   "execution_count": 5,
   "metadata": {},
   "outputs": [
    {
     "name": "stdin",
     "output_type": "stream",
     "text": [
      "\n",
      "How many digits of the Fibonacci Sequence would you like to compute:  5\n"
     ]
    },
    {
     "name": "stdout",
     "output_type": "stream",
     "text": [
      "\n",
      "The first 5 numbers of the Fibonacci Sequence are: \n",
      "1\n",
      "1\n",
      "2\n",
      "3\n",
      "5\n",
      "\n",
      "The corresponding Golden Ratio values are: \n",
      "1.0\n",
      "2.0\n",
      "1.5\n",
      "1.6666666666666667\n",
      "\n",
      "The ratio of consecutive Fibonacci terms approaches Phi; 1.618...\n"
     ]
    }
   ],
   "source": [
    "num = int(input(\"\\nHow many digits of the Fibonacci Sequence would you like to compute: \"))\n",
    "fib = [1,1]\n",
    "for i in range(num-2):\n",
    "    new_fib = fib[i] + fib[i+1]\n",
    "    fib.append(new_fib)\n",
    "\n",
    "#Display the fib values\n",
    "print(\"\\nThe first \" + str(num) + \" numbers of the Fibonacci Sequence are: \")\n",
    "for number in fib:\n",
    "    print(number)\n",
    "\n",
    "#Compute the golden ratio\n",
    "golden = []\n",
    "for i in range(len(fib)-1):\n",
    "    ratio = fib[i+1]/fib[i]\n",
    "    golden.append(ratio)\n",
    "\n",
    "#Display the golden ratio values\n",
    "print(\"\\nThe corresponding Golden Ratio values are: \")\n",
    "for ratio in golden:\n",
    "    print(ratio)\n",
    "\n",
    "print(\"\\nThe ratio of consecutive Fibonacci terms approaches Phi; 1.618...\")"
   ]
  },
  {
   "cell_type": "markdown",
   "metadata": {},
   "source": [
    "## Polling System 投票系統"
   ]
  },
  {
   "cell_type": "code",
   "execution_count": 6,
   "metadata": {
    "scrolled": true
   },
   "outputs": [
    {
     "name": "stdin",
     "output_type": "stream",
     "text": [
      "What is the yes or no issue you will be voting on today:  6\n",
      "what is the number of voters you will allow on the issue:  4\n",
      "Enter a password for the polling results:  5\n",
      "\n",
      "Enter your full name:  6\n"
     ]
    },
    {
     "name": "stdout",
     "output_type": "stream",
     "text": [
      "Here is our issue: 6\n"
     ]
    },
    {
     "name": "stdin",
     "output_type": "stream",
     "text": [
      "What do you think...yes or no:  7\n"
     ]
    },
    {
     "name": "stdout",
     "output_type": "stream",
     "text": [
      "That is not a yes or no answer, but okay...\n",
      "Thank you 6! Your vote of 7 has been recorded.\n"
     ]
    },
    {
     "name": "stdin",
     "output_type": "stream",
     "text": [
      "\n",
      "Enter your full name:  1\n"
     ]
    },
    {
     "name": "stdout",
     "output_type": "stream",
     "text": [
      "Here is our issue: 6\n"
     ]
    },
    {
     "name": "stdin",
     "output_type": "stream",
     "text": [
      "What do you think...yes or no:  10\n"
     ]
    },
    {
     "name": "stdout",
     "output_type": "stream",
     "text": [
      "That is not a yes or no answer, but okay...\n",
      "Thank you 1! Your vote of 10 has been recorded.\n"
     ]
    },
    {
     "name": "stdin",
     "output_type": "stream",
     "text": [
      "\n",
      "Enter your full name:  15\n"
     ]
    },
    {
     "name": "stdout",
     "output_type": "stream",
     "text": [
      "Here is our issue: 6\n"
     ]
    },
    {
     "name": "stdin",
     "output_type": "stream",
     "text": [
      "What do you think...yes or no:  16\n"
     ]
    },
    {
     "name": "stdout",
     "output_type": "stream",
     "text": [
      "That is not a yes or no answer, but okay...\n",
      "Thank you 15! Your vote of 16 has been recorded.\n"
     ]
    },
    {
     "name": "stdin",
     "output_type": "stream",
     "text": [
      "\n",
      "Enter your full name:  18\n"
     ]
    },
    {
     "name": "stdout",
     "output_type": "stream",
     "text": [
      "Here is our issue: 6\n"
     ]
    },
    {
     "name": "stdin",
     "output_type": "stream",
     "text": [
      "What do you think...yes or no:  no\n"
     ]
    },
    {
     "name": "stdout",
     "output_type": "stream",
     "text": [
      "Thank you 18! Your vote of no has been recorded.\n",
      "\n",
      "The following 4 people voted: \n",
      "6\n",
      "1\n",
      "15\n",
      "18\n",
      "\n",
      "On the following issue: 6\n",
      "No wins! 1 votes to 0.\n"
     ]
    },
    {
     "name": "stdin",
     "output_type": "stream",
     "text": [
      "\n",
      "To see the voting results enter the admin password:  1\n"
     ]
    },
    {
     "name": "stdout",
     "output_type": "stream",
     "text": [
      "Sorry, that is not the correct password. Goodbye...\n",
      "\n",
      "Thank you for using the Yes or No Issue Polling App.\n"
     ]
    }
   ],
   "source": [
    "issue = input(\"What is the yes or no issue you will be voting on today: \")\n",
    "vote_number = int(input(\"what is the number of voters you will allow on the issue: \"))\n",
    "password = input(\"Enter a password for the polling results: \")\n",
    "\n",
    "yes = 0\n",
    "no = 0\n",
    "results = {}\n",
    "\n",
    "#Simulate voting\n",
    "for i in range(vote_number):\n",
    "    name = input(\"\\nEnter your full name: \").title().strip()\n",
    "    if name in results.keys():\n",
    "        print(\"Sorry, it seems that someone with that name has already voted.\")\n",
    "    else:\n",
    "        print(\"Here is our issue: \" + issue)\n",
    "        choice = input(\"What do you think...yes or no: \").lower().strip()\n",
    "        if choice == 'yes' or choice == 'y':\n",
    "            choice = 'yes'\n",
    "            yes += 1\n",
    "        elif choice == 'no' or choice == 'n':\n",
    "            choice = 'no'\n",
    "            no += 1\n",
    "        else:\n",
    "            print(\"That is not a yes or no answer, but okay...\")\n",
    "\n",
    "        #Add vote to the dictionary results\n",
    "        results[name] = choice\n",
    "        print(\"Thank you \" + name + \"! Your vote of \" + results[name] + \" has been recorded.\")\n",
    "\n",
    "#Show who actually voted\n",
    "total_votes = len(results.keys())\n",
    "print(\"\\nThe following \" + str(total_votes) + \" people voted: \")\n",
    "for key in results.keys():\n",
    "    print(key)\n",
    "\n",
    "#Summarize the voting results\n",
    "print(\"\\nOn the following issue: \" + issue)\n",
    "if yes > no:\n",
    "    print(\"Yes wins! \" + str(yes) + \" votes to \" + str(no) + \".\")\n",
    "elif no > yes:\n",
    "    print(\"No wins! \" + str(no) + \" votes to \" + str(yes) + \".\")\n",
    "else:\n",
    "    print(\"It was a tie! \" + str(no) + \" votes to \" + str(yes) + \".\")\n",
    "\n",
    "#Allow the admin to see the actual votes\n",
    "guess = input(\"\\nTo see the voting results enter the admin password: \")\n",
    "if guess == password:\n",
    "    for key, value in results.items():\n",
    "        print(\"Voter: \" + key + \"\\t\\t\\tVote: \" + value)\n",
    "else:\n",
    "    print(\"Sorry, that is not the correct password. Goodbye...\")\n",
    "print(\"\\nThank you for using the Yes or No Issue Polling App.\")"
   ]
  },
  {
   "cell_type": "markdown",
   "metadata": {},
   "source": [
    "## Factor Generator 因子生成器"
   ]
  },
  {
   "cell_type": "code",
   "execution_count": 7,
   "metadata": {
    "scrolled": true
   },
   "outputs": [
    {
     "name": "stdin",
     "output_type": "stream",
     "text": [
      "\n",
      "Enter a number to determine all factors of that number:  12\n"
     ]
    },
    {
     "name": "stdout",
     "output_type": "stream",
     "text": [
      "\n",
      "Factors of 12 are: \n",
      "1\n",
      "2\n",
      "3\n",
      "4\n",
      "6\n",
      "12\n",
      "\n",
      "In summary: \n",
      "1 * 12 = 12\n",
      "2 * 6 = 12\n",
      "3 * 4 = 12\n"
     ]
    },
    {
     "name": "stdin",
     "output_type": "stream",
     "text": [
      "\n",
      "Run again (y/n):  15\n"
     ]
    },
    {
     "name": "stdout",
     "output_type": "stream",
     "text": [
      "Thank you for using the program. Have a great day.\n"
     ]
    }
   ],
   "source": [
    "running = True\n",
    "#Run the program until the user quits\n",
    "while running:\n",
    "    number = int(input(\"\\nEnter a number to determine all factors of that number: \"))\n",
    "    factors = []\n",
    "    for i in range(1, number+1):\n",
    "        if number % i == 0:\n",
    "            factors.append(i)\n",
    "\n",
    "    #Print out the factors\n",
    "    print(\"\\nFactors of \" + str(number) + \" are: \")\n",
    "    for factor in factors:\n",
    "        print(factor)\n",
    "    \n",
    "    #Print a summary of the factors mathematically\n",
    "    print(\"\\nIn summary: \")\n",
    "    for i in range(int(len(factors)/2)):\n",
    "        print(str(factors[i]) + \" * \" + str(factors[-i-1]) + \" = \" + str(number))\n",
    "    \n",
    "    #Ask the user if they would like to quit\n",
    "    choice = input(\"\\nRun again (y/n): \").lower()\n",
    "    if choice != 'y':\n",
    "        running = False\n",
    "        print(\"Thank you for using the program. Have a great day.\")"
   ]
  },
  {
   "cell_type": "markdown",
   "metadata": {},
   "source": [
    "## Even Odd Number Sorter 偶數排序"
   ]
  },
  {
   "cell_type": "code",
   "execution_count": 8,
   "metadata": {
    "scrolled": true
   },
   "outputs": [
    {
     "name": "stdin",
     "output_type": "stream",
     "text": [
      "\n",
      "Enter in a string of numbers separated by a comma (,) :  12,12\n"
     ]
    },
    {
     "name": "stdout",
     "output_type": "stream",
     "text": [
      "\n",
      "---- Result Summary ----\n",
      "\t12 is even!\n",
      "\t12 is even!\n",
      "\n",
      "The following 2 numbers are even: \n",
      "\t12\n",
      "\t12\n",
      "\n",
      "The following 0 numbers are odd: \n"
     ]
    },
    {
     "name": "stdin",
     "output_type": "stream",
     "text": [
      "\n",
      "Would you like to run the program again (y/n):  n\n"
     ]
    },
    {
     "name": "stdout",
     "output_type": "stream",
     "text": [
      "Thank you for using the program. Goodbye.\n"
     ]
    }
   ],
   "source": [
    "running = True\n",
    "while running:\n",
    "    num_string = input(\"\\nEnter in a string of numbers separated by a comma (,) : \")\n",
    "    num_string = num_string.replace(' ', '')\n",
    "    num_list = num_string.split(\",\")\n",
    "\n",
    "    evens = []\n",
    "    odds = []\n",
    "\n",
    "    #Calculate whether the number is even or odd\n",
    "    print(\"\\n---- Result Summary ----\")\n",
    "    for number in num_list:\n",
    "        number = int(number)\n",
    "        if number % 2 == 0:\n",
    "            evens.append(number)\n",
    "            print(\"\\t\" + str(number) + \" is even!\")\n",
    "        else:\n",
    "            odds.append(number)\n",
    "            print(\"\\t\" + str(number) + \" is odd!\")\n",
    "\n",
    "    #Sort the lists evens and odds\n",
    "    evens.sort()\n",
    "    odds.sort()\n",
    "\n",
    "    #Show the even numbers\n",
    "    print(\"\\nThe following \" + str(len(evens)) + \" numbers are even: \")\n",
    "    for even in evens:\n",
    "        print(\"\\t\" + str(even))\n",
    "\n",
    "    #Show the odd numbers\n",
    "    print(\"\\nThe following \" + str(len(odds)) + \" numbers are odd: \")\n",
    "    for odd in odds:\n",
    "        print(\"\\t\" + str(odd))\n",
    "\n",
    "    #Quit the program if the user does not enter in 'y'\n",
    "    choice = input(\"\\nWould you like to run the program again (y/n): \").lower()\n",
    "    if choice != 'y':\n",
    "        running = False\n",
    "        print(\"Thank you for using the program. Goodbye.\")"
   ]
  },
  {
   "cell_type": "markdown",
   "metadata": {},
   "source": [
    "## Prime Number App 質數應用"
   ]
  },
  {
   "cell_type": "code",
   "execution_count": 9,
   "metadata": {
    "scrolled": true
   },
   "outputs": [
    {
     "name": "stdout",
     "output_type": "stream",
     "text": [
      "\n",
      "Enter 1 to determine if a specific number is prime.\n",
      "Enter 2 to determine all prime numbers within a set range.\n"
     ]
    },
    {
     "name": "stdin",
     "output_type": "stream",
     "text": [
      "Enter your choice 1 or 2:  2\n",
      "\n",
      "Enter the lower bound of your range:  5\n",
      "Enter the upper bound of your range:  10\n"
     ]
    },
    {
     "name": "stdout",
     "output_type": "stream",
     "text": [
      "\n",
      "Calculations took a total of 0.0 seconds.\n",
      "The following numbers between 5 and 10 are prime: \n"
     ]
    },
    {
     "name": "stdin",
     "output_type": "stream",
     "text": [
      "Press enter to continue. \n",
      "Would you like to run the program again (y/n):  n\n"
     ]
    },
    {
     "name": "stdout",
     "output_type": "stream",
     "text": [
      "\n",
      "Thank you for using the program. Have a nice day.\n"
     ]
    }
   ],
   "source": [
    "import time\n",
    "running = True\n",
    "\n",
    "while running:\n",
    "    print(\"\\nEnter 1 to determine if a specific number is prime.\")\n",
    "    print(\"Enter 2 to determine all prime numbers within a set range.\")\n",
    "    option = input(\"Enter your choice 1 or 2: \")\n",
    "    \n",
    "    #Determine if a single number is prime\n",
    "    if option == '1':\n",
    "        number = int(input(\"\\nEnter a number to determine if it is prime or not:\"))\n",
    "    \n",
    "        #Prime status check\n",
    "        prime_status = True\n",
    "        for i in range(2, number):\n",
    "            if number % i == 0:\n",
    "                prime_status = False\n",
    "                break\n",
    "\n",
    "        #Print summary\n",
    "        if prime_status:\n",
    "            print(str(number) + \" is prime!\")\n",
    "        else:\n",
    "            print(str(number) + \" is not prime!\")\n",
    "    \n",
    "    #Determine primes within a range of values and time the calculations\n",
    "    elif option == '2':\n",
    "        l_bound = int(input(\"\\nEnter the lower bound of your range: \"))\n",
    "        u_bound = int(input(\"Enter the upper bound of your range: \"))\n",
    "        primes = []\n",
    "    \n",
    "        #Get the current time\n",
    "        start_time = time.time()\n",
    "        for prime_candidate in range(l_bound, u_bound + 1):\n",
    "            #1 is not prime\n",
    "            if prime_candidate > 1:\n",
    "                prime_status = True\n",
    "                for i in range(2, prime_candidate):\n",
    "                    if prime_candidate % i == 0:\n",
    "                        prime_status = False\n",
    "                        break\n",
    "            else:\n",
    "                prime_status = False\n",
    "                #Prime candidate is in fact prime!\n",
    "                if prime_status:\n",
    "                    primes.append(prime_candidate)\n",
    "\n",
    "        #Get the current time\n",
    "        end_time = time.time()\n",
    "        delta_time = round(end_time - start_time, 4)\n",
    "        print(\"\\nCalculations took a total of \" + str(delta_time) + \" seconds.\")\n",
    "        print(\"The following numbers between \" + str(l_bound) + \" and \" + str(u_bound) + \" are prime: \")\n",
    "        input(\"Press enter to continue.\")\n",
    "\n",
    "        for prime in primes:\n",
    "            print(prime)\n",
    "    \n",
    "    else:\n",
    "        print(\"\\nThat is not a valid option.\")\n",
    "    \n",
    "    #Quit the program if the user does not enter in y\n",
    "    choice = input(\"Would you like to run the program again (y/n): \").lower()\n",
    "    if choice != 'y':\n",
    "        running = False\n",
    "        print(\"\\nThank you for using the program. Have a nice day.\")"
   ]
  },
  {
   "cell_type": "markdown",
   "metadata": {},
   "source": [
    "## Calculator 計算機"
   ]
  },
  {
   "cell_type": "code",
   "execution_count": 10,
   "metadata": {},
   "outputs": [
    {
     "name": "stdout",
     "output_type": "stream",
     "text": [
      "Enter two numbers and an operation and the desired operation will be performed.\n"
     ]
    },
    {
     "name": "stdin",
     "output_type": "stream",
     "text": [
      "\n",
      "Enter a number:  15\n",
      "Enter a number:  16\n",
      "Enter an operation (+, -, *, /, or exponentiation):  +\n"
     ]
    },
    {
     "name": "stdout",
     "output_type": "stream",
     "text": [
      "The sum of 15.0 and 16.0 is 31.0.\n"
     ]
    },
    {
     "name": "stdin",
     "output_type": "stream",
     "text": [
      "Would you like to run the program again (y/n):  17\n"
     ]
    },
    {
     "name": "stdout",
     "output_type": "stream",
     "text": [
      "\n",
      "Calculation Summary: \n",
      "15.0 + 16.0 = 31.0\n",
      "\n",
      "Thank you for using the Python Calculator App. Goodbye.\n"
     ]
    }
   ],
   "source": [
    "def add(a, b):\n",
    "    summation = round(a+b, 4)\n",
    "    print(\"The sum of \" + str(a) + \" and \" + str(b) + \" is \" + str(summation) + \".\")\n",
    "    return str(a) + \" + \" + str(b) + \" = \" + str(summation)\n",
    "\n",
    "def subtract(a, b):\n",
    "    difference = round(a-b, 4)\n",
    "    print(\"The difference of \" + str(a) + \" and \" + str(b) + \" is \" + str(difference) + \".\")\n",
    "    return str(a) + \" - \" + str(b) + \" = \" + str(difference)\n",
    "\n",
    "def multiply(a, b):\n",
    "    product = round(a*b, 4)\n",
    "    print(\"The product of \" + str(a) + \" and \" + str(b) + \" is \" + str(product) + \".\")\n",
    "    return str(a) + \" * \" + str(b) + \" = \" + str(product)\n",
    "\n",
    "def divide(a, b):\n",
    "    if b != 0:\n",
    "        quotient = round(a/b, 4)\n",
    "        print(\"The quotient of \" + str(a) + \" and \" + str(b) + \" is \" + str(quotient) + \".\")\n",
    "        return str(a) + \" / \" + str(b) + \" = \" + str(quotient)\n",
    "    else:\n",
    "        print(\"You cannot divide by zero.\")\n",
    "        return \"DIV ERROR\"\n",
    "\n",
    "def exponent(a, b):\n",
    "    power = round(a**b, 4)\n",
    "    print(\"The result of \" + str(a) + \" raised to the \" + str(b) + \" power is \" + str(power) + \".\")\n",
    "    return str(a) + \" ** \" + str(b) + \" = \" + str(power)\n",
    "\n",
    "#The main code\n",
    "print(\"Enter two numbers and an operation and the desired operation will be performed.\")\n",
    "\n",
    "history = []\n",
    "running = True\n",
    "\n",
    "while running:\n",
    "    num1 = float(input(\"\\nEnter a number: \"))\n",
    "    num2 = float(input(\"Enter a number: \"))\n",
    "    operator = input(\"Enter an operation (+, -, *, /, or exponentiation): \").lower()\n",
    "    \n",
    "    #Call the appropriate function based on the value of operator\n",
    "    if operator == '+' or operator == 'a':\n",
    "        result = add(num1, num2)\n",
    "    elif operator == '-' or operator == 's':\n",
    "        result = subtract(num1, num2)\n",
    "    elif operator == '*' or operator == 'm':\n",
    "        result = multiply(num1, num2)\n",
    "    elif operator == '/' or operator == 'd':\n",
    "        result = divide(num1, num2)\n",
    "    elif operator == 'exponentiation' or operator == 'e':\n",
    "        result = exponent(num1, num2)\n",
    "    else:\n",
    "        print(\"That is not a valid operation. Try again.\")\n",
    "        result = \"OPP ERROR\"\n",
    "    #Append the mathematical result to the history\n",
    "    history.append(result)\n",
    "    #Allow user to quit\n",
    "    choice = input(\"Would you like to run the program again (y/n): \").lower()\n",
    "    if choice != 'y':\n",
    "        print(\"\\nCalculation Summary: \")\n",
    "        for calc in history:\n",
    "            print(calc)\n",
    "        print(\"\\nThank you for using the Python Calculator App. Goodbye.\")\n",
    "        running = False"
   ]
  },
  {
   "cell_type": "code",
   "execution_count": null,
   "metadata": {},
   "outputs": [],
   "source": []
  },
  {
   "cell_type": "code",
   "execution_count": 11,
   "metadata": {},
   "outputs": [
    {
     "name": "stdout",
     "output_type": "stream",
     "text": [
      "Welcome to the Python First National Bank.\n"
     ]
    },
    {
     "name": "stdin",
     "output_type": "stream",
     "text": [
      "\n",
      "Hello, what is your name:  12\n",
      "How much money would you like to set up your savings account with:  111\n",
      "How much money would you like to set up your checking account with:  12\n"
     ]
    },
    {
     "name": "stdout",
     "output_type": "stream",
     "text": [
      "\n",
      "Current Account Information\n",
      "Name: 12\n",
      "Checking: $12\n"
     ]
    },
    {
     "name": "stdin",
     "output_type": "stream",
     "text": [
      "\n",
      "What account would you like to access (Savings or Checking):  1\n",
      "What type of transaction would you like to make (Deposit or Withdrawal):  15\n",
      "How much money:  2\n"
     ]
    },
    {
     "name": "stdout",
     "output_type": "stream",
     "text": [
      "\n",
      "I'm sorry, we cannot do that for you today.\n"
     ]
    },
    {
     "name": "stdin",
     "output_type": "stream",
     "text": [
      "Would you like to make another transaction (y/n):  n\n"
     ]
    },
    {
     "name": "stdout",
     "output_type": "stream",
     "text": [
      "\n",
      "Current Account Information\n",
      "Name: 12\n",
      "Checking: $12\n",
      "\n",
      "Thank you. Have a great day!\n"
     ]
    }
   ],
   "source": [
    "def get_info():\n",
    "    print(\"Welcome to the Python First National Bank.\")\n",
    "    name = input(\"\\nHello, what is your name: \").title().strip()\n",
    "    savings = int(input(\"How much money would you like to set up your savings account with: \"))\n",
    "    checking = int(input(\"How much money would you like to set up your checking account with: \"))\n",
    "    \n",
    "    #Build a dict that represents a specific bank account\n",
    "    bank_account = {\"Name\":name,\n",
    "                    \"Savings\":savings,\n",
    "                    \"Checking\":checking,\n",
    "                   }\n",
    "    return bank_account\n",
    "\n",
    "def make_deposit(bank_account, account, money):\n",
    "    bank_account[account] += money\n",
    "    print(\"\\nDeposited $\" + str(money) + \" into \" + bank_account['Name'] + \"'s \"+account.lower() + \" account.\")\n",
    "\n",
    "def make_withdrawal(bank_account, account, money):\n",
    "    if bank_account[account] - money >= 0:\n",
    "        bank_account[account] -= money\n",
    "        print(\"\\nWithdrew $\" + str(money) + \" from \" + bank_account['Name'] + \"'s \" + account.lower() + \" account.\")\n",
    "    \n",
    "    #Not enough money in the account to make the withdrawal\n",
    "    else:\n",
    "        print(\"\\nSorry, by withdrawing $\" + str(money) + \" you will have a negative balance.\")\n",
    "\n",
    "def display_info(bank_account):\n",
    "    print(\"\\nCurrent Account Information\")\n",
    "    for key, value in bank_account.items():\n",
    "        if key == 'Name':\n",
    "            print(key + \": \" + str(value))\n",
    "    else:\n",
    "        print(key + \": $\" + str(value))\n",
    "\n",
    "#main\n",
    "my_account = get_info()\n",
    "running = True\n",
    "while running:\n",
    "    display_info(my_account)\n",
    "    account_type = input(\"\\nWhat account would you like to access (Savings or Checking): \").title()\n",
    "    choice = input(\"What type of transaction would you like to make (Deposit or Withdrawal): \").title()\n",
    "    amount = float(input(\"How much money: \"))\n",
    "    \n",
    "    #Make the correct function call based off previous user input\n",
    "    if account_type == \"Savings\" or account_type == \"Checking\":\n",
    "        if choice == \"Deposit\":\n",
    "            make_deposit(my_account, account_type, amount)\n",
    "        elif choice == \"Withdrawal\":\n",
    "            make_withdrawal(my_account, account_type, amount)\n",
    "        else:\n",
    "            print(\"\\nI'm sorry, we cannot do that for you today.\")\n",
    "    else:\n",
    "        print(\"\\nI'm sorry, we cannot do that for you today.\")\n",
    "    \n",
    "    #Allow users to make another transaction\n",
    "    choice = input(\"Would you like to make another transaction (y/n): \").lower()\n",
    "    if choice != 'y':\n",
    "        display_info(my_account)\n",
    "        print(\"\\nThank you. Have a great day!\")\n",
    "        running = False"
   ]
  },
  {
   "cell_type": "markdown",
   "metadata": {},
   "source": [
    "## 背包問題演算法"
   ]
  },
  {
   "cell_type": "code",
   "execution_count": 12,
   "metadata": {},
   "outputs": [
    {
     "name": "stdout",
     "output_type": "stream",
     "text": [
      "[[0, 0, 0, 0, 0, 0, 0, 0, 0, 0, 0], [0, 0, 11, 11, 11, 11, 11, 11, 11, 11, 11], [0, 0, 11, 18, 18, 29, 29, 29, 29, 29, 29], [0, 0, 11, 18, 20, 29, 31, 38, 38, 49, 49], [0, 0, 11, 18, 20, 29, 31, 39, 46, 49, 57]]\n"
     ]
    }
   ],
   "source": [
    "# without repetition\n",
    "def knapsack(W, weights, values, n ):\n",
    "    ma = [[0 for x in range (W+1)] for x in range(n+1)]\n",
    "\n",
    "\n",
    "    for i in range (n+1):\n",
    "        for w in range (W+1):\n",
    "            if i ==0 or w==0: \n",
    "                ma[i][w]=0\n",
    "            elif weights[i-1]<=w: \n",
    "                ma[i][w]= max(ma[i-1][w], ma[i-1][w-weights[i-1]]+values[i-1])\n",
    "            else: \n",
    "                ma[i][w]= ma[i-1][w]\n",
    "\n",
    "    return ma\n",
    "\n",
    "\n",
    "values = [11,18,20,28]\n",
    "weights = [2,3,4,5]\n",
    "W= 10\n",
    "n =len(values)\n",
    "\n",
    "print(knapsack(W,weights, values, n))"
   ]
  },
  {
   "cell_type": "code",
   "execution_count": 13,
   "metadata": {},
   "outputs": [
    {
     "name": "stdout",
     "output_type": "stream",
     "text": [
      "[0, 0, 11, 18, 22, 29, 36, 40, 47, 54, 58]\n"
     ]
    }
   ],
   "source": [
    "## repetition\n",
    "\n",
    "def knapsack(W,n,values,weights):\n",
    "    ma = [0 for i in range(W+1)]\n",
    "\n",
    "    for i in range(W+1):\n",
    "        for j in range(n): \n",
    "            if weights[j]<=i:\n",
    "                ma[i]= max(ma[i], ma[i-weights[j]]+values[j])\n",
    "\n",
    "    return ma\n",
    "\n",
    "W=10 \n",
    "weights = [5,4,3,2]\n",
    "values =[28,20,18,11]\n",
    "n =len(values)\n",
    "\n",
    "print(knapsack(W,n,values,weights))\n",
    "\n"
   ]
  },
  {
   "cell_type": "code",
   "execution_count": null,
   "metadata": {},
   "outputs": [],
   "source": []
  },
  {
   "cell_type": "code",
   "execution_count": 14,
   "metadata": {},
   "outputs": [
    {
     "name": "stdout",
     "output_type": "stream",
     "text": [
      "[[0, 0, 0, 0, 0], [0, 1, 1, 1, 1], [0, 1, 1, 1, 1], [0, 1, 2, 2, 2], [0, 1, 2, 2, 3]]\n"
     ]
    }
   ],
   "source": [
    "def longCom(s1,s2, x,y):\n",
    "    longComSub =[[[] for i in range(x+1)] for j in range(y+1)]\n",
    "\n",
    "    for i in range(0,x+1):\n",
    "        for j in range(0,y+1):\n",
    "            if i==0 or j==0:\n",
    "                longComSub[i][j]= 0 \n",
    "            elif s1[i-1]==s2[j-1]:\n",
    "                longComSub[i][j] = longComSub[i-1][j-1]+1\n",
    "            else:\n",
    "                 longComSub[i][j] =max(longComSub[i-1][j], longComSub[i][j-1])\n",
    "    \n",
    "    return longComSub\n",
    "\n",
    "s1=['x','y','z','w']\n",
    "s2=['x','z','a','w']\n",
    "x=4\n",
    "y=4\n",
    "result = longCom(s1,s2,x,y)\n",
    "print(result)\n"
   ]
  },
  {
   "cell_type": "code",
   "execution_count": 15,
   "metadata": {},
   "outputs": [
    {
     "name": "stdout",
     "output_type": "stream",
     "text": [
      "5\n"
     ]
    }
   ],
   "source": [
    "def LongInc(listt, n):\n",
    "    LIS =[1]*n\n",
    "\n",
    "    for i in range(1,n):\n",
    "        for j in range(0,i):\n",
    "            if listt[i]>listt[j] and LIS[j]+1>LIS[i]:\n",
    "                LIS[i]= LIS[j]+1\n",
    "    \n",
    "    maximum =0\n",
    "\n",
    "    for i in range(n):\n",
    "        if maximum<LIS[i]:\n",
    "            maximum = LIS[i]\n",
    "\n",
    "    return maximum\n",
    "\n",
    "listt = [1,5,7,2,8,3,10]\n",
    "n =7\n",
    "\n",
    "result = LongInc(listt, n)\n",
    "print(result)"
   ]
  },
  {
   "cell_type": "markdown",
   "metadata": {},
   "source": [
    "## Stock daily"
   ]
  },
  {
   "cell_type": "code",
   "execution_count": 16,
   "metadata": {},
   "outputs": [
    {
     "name": "stdout",
     "output_type": "stream",
     "text": [
      "Progress: [████████████████████] 100.00% 10000/10000\n",
      "\n"
     ]
    }
   ],
   "source": [
    "#進度條 progress bar\n",
    "\n",
    "class ProgressBar:\n",
    "    bar_string_fmt = '\\rProgress: [{}{}] {:.2%} {}/{}'\n",
    "    cnt = 0\n",
    "\n",
    "    def __init__(self, total, bar_total=20):\n",
    "        self.total = total # task 的總數\n",
    "        self.bar_total = bar_total  # progress bar 的長度\n",
    "\n",
    "    def update(self, step=1):\n",
    "        total = self.total\n",
    "        self.cnt += step           # 更新 progress bar 的進度\n",
    "        bar_cnt = (int((self.cnt/total)*self.bar_total))  # bar 的數量\n",
    "        space_cnt = self.bar_total - bar_cnt  # 空白的數量\n",
    "\n",
    "        # 顯示 progress bar '\\r' 的意思代表 replace，print 出來的字串不會印在新的一行而是 replace 原本那行同位置的字符\n",
    "        # {:.2%}，表示 format 進來的值會以百分比顯示，並只取到小數點後兩位\n",
    "        progress = self.bar_string_fmt.format(\n",
    "            '█' * bar_cnt,\n",
    "            ' ' * space_cnt,\n",
    "            self.cnt/total,\n",
    "            self.cnt,\n",
    "            total\n",
    "        )\n",
    "        print(progress, end='')\n",
    "\n",
    "        # 100%\n",
    "        if self.cnt/total == 1:\n",
    "            print('\\n')\n",
    "            \n",
    "if __name__ == '__main__':\n",
    "    total = 10000\n",
    "    progress_bar = ProgressBar(total)\n",
    "    for _ in range(total):\n",
    "        progress_bar.update()"
   ]
  },
  {
   "cell_type": "code",
   "execution_count": 17,
   "metadata": {},
   "outputs": [
    {
     "ename": "ModuleNotFoundError",
     "evalue": "No module named 'fake_useragent'",
     "output_type": "error",
     "traceback": [
      "\u001b[1;31m---------------------------------------------------------------------------\u001b[0m",
      "\u001b[1;31mModuleNotFoundError\u001b[0m                       Traceback (most recent call last)",
      "Cell \u001b[1;32mIn[17], line 7\u001b[0m\n\u001b[0;32m      5\u001b[0m \u001b[38;5;28;01mfrom\u001b[39;00m \u001b[38;5;21;01mthreading\u001b[39;00m \u001b[38;5;28;01mimport\u001b[39;00m Thread\n\u001b[0;32m      6\u001b[0m \u001b[38;5;28;01mfrom\u001b[39;00m \u001b[38;5;21;01mdatetime\u001b[39;00m \u001b[38;5;28;01mimport\u001b[39;00m datetime\n\u001b[1;32m----> 7\u001b[0m \u001b[38;5;28;01mfrom\u001b[39;00m \u001b[38;5;21;01mfake_useragent\u001b[39;00m \u001b[38;5;28;01mimport\u001b[39;00m UserAgent\n\u001b[0;32m      9\u001b[0m \u001b[38;5;28;01mclass\u001b[39;00m \u001b[38;5;21;01mDailyPriceSpider\u001b[39;00m:\n\u001b[0;32m     10\u001b[0m     \u001b[38;5;28;01mdef\u001b[39;00m \u001b[38;5;21m__init__\u001b[39m(\u001b[38;5;28mself\u001b[39m, progress_bar\u001b[38;5;241m=\u001b[39m\u001b[38;5;28;01mNone\u001b[39;00m):\n\u001b[0;32m     11\u001b[0m         \n\u001b[0;32m     12\u001b[0m         \u001b[38;5;66;03m# 重複使用 TCP 連線\u001b[39;00m\n",
      "\u001b[1;31mModuleNotFoundError\u001b[0m: No module named 'fake_useragent'"
     ]
    }
   ],
   "source": [
    "import json\n",
    "import time\n",
    "import requests\n",
    "from pathlib import Path\n",
    "from threading import Thread\n",
    "from datetime import datetime\n",
    "from fake_useragent import UserAgent\n",
    "\n",
    "class DailyPriceSpider:\n",
    "    def __init__(self, progress_bar=None):\n",
    "        \n",
    "        # 重複使用 TCP 連線\n",
    "        self.req = requests.Session()\n",
    "        self.url = \"https://www.twse.com.tw/exchangeReport/STOCK_DAY\"\n",
    "        self.headers = self.req.headers\n",
    "        \n",
    "        # 偽裝 User-Agent\n",
    "        ua = UserAgent()\n",
    "        self.headers[\"User-Agent\"] = ua.random\n",
    "        \n",
    "        # 加入 progress bar\n",
    "        if progress_bar:\n",
    "            self.progress_bar = progress_bar\n",
    " \n",
    "    # 供內部使用\n",
    "    def __get(self, date, stock_no):\n",
    "        res = self.req.get(self.url,\n",
    "                           headers = self.headers,\n",
    "                           params={\n",
    "                               \"response\": \"csv\",  # 這次抓的是 csv 格式\n",
    "                               \"date\": date,\n",
    "                               \"stockNo\": stock_no\n",
    "                           })\n",
    "        return res.text\n",
    "    \n",
    "    # 供內部使用\n",
    "    def __save_file(self, res_text, path):  # 去掉 res_text 裡多餘的空白行\n",
    "        res_text = '\\n'.join(\n",
    "            filter(None,res_text.splitlines())\n",
    "        )\n",
    "        path = Path(path)\n",
    "        \n",
    "        # parents=True，如果父資料夾不存在則會一併創建\n",
    "        # exist_ok=True，創建資料夾時，該資料夾已存在則不會 throw exception\n",
    "        path.parent.mkdir(parents=True, exist_ok=True)\n",
    "        with open(path, 'w', encoding=\"utf-8\") as file:\n",
    "            file.write(res_text)\n",
    "        return\n",
    " \n",
    "    \n",
    "    def scrape(self, date, stock_no, save_path=\"\"):\n",
    "        # 把上面的兩個 function 整合\n",
    "        res_text = self.__get(date, stock_no)\n",
    "        if save_path:\n",
    "            self.__save_file(res_text, save_path)\n",
    "            \n",
    "        # 更新 progress bar\n",
    "        if self.progress_bar:\n",
    "            self.progress_bar.update()\n",
    "\n",
    "\n",
    "if __name__ == '__main__':\n",
    "    SAVE_PATH_ROOT = \"./daily_stock_price/\"\n",
    "    SLEEP_TIME = 3\n",
    "    stock_info_list_file = {}\n",
    "    with open(\"./stock_info_list.json\", \"r\", encoding=\"utf-8\") as f:\n",
    "        stock_info_list_file = json.load(f)\n",
    "\n",
    "    # 不管日期是幾號，他回傳都是給我們一整個月的，所以就固定設成1號就好\n",
    "    # strftime()，把 datetime 輸出成我們要的格式\n",
    "    today_date = \"{}01\".format(datetime.now().strftime(\"%Y%m\"))\n",
    "\n",
    "    stock_info_list = stock_info_list_file.get(\"stock\", [])\n",
    "    \n",
    "    # 加入 progress bar\n",
    "    progress_bar = ProgressBar(len(stock_info_list))\n",
    "    dps = DailyPriceSpider(progress_bar=progress_bar)\n",
    "    req_thread_list = []\n",
    "\n",
    "    for stock_info in stock_info_list:\n",
    "\n",
    "        stock_no = stock_info.get(\"stockNo\")\n",
    "        stock_name = stock_info.get(\"stockName\")\n",
    "        stock_industry = stock_info.get(\"stockIndustry\")\n",
    "        file_name = \"{}_{}_daily_price.csv\".format(\n",
    "            today_date[:-2],  # 字串只需要用到年跟月\n",
    "            stock_no+stock_name)\n",
    "\n",
    "        save_path = \"{}/{}/{}/{}\".format(SAVE_PATH_ROOT,\n",
    "                                         stock_industry,\n",
    "                                         stock_no+stock_name,\n",
    "                                         file_name)\n",
    "\n",
    "        if stock_no and stock_name and stock_industry:\n",
    "            req_thread = Thread(target=dps.scrape,\n",
    "                                args=(today_date, stock_no, save_path),\n",
    "                                daemon=True)\n",
    "            req_thread.start()\n",
    "            req_thread_list.append(req_thread)\n",
    "            time.sleep(SLEEP_TIME)\n",
    "\n",
    "    for req_thread in req_thread_list:\n",
    "        req_thread.join()\n",
    "\n",
    "    print(\"Finished\")"
   ]
  },
  {
   "cell_type": "code",
   "execution_count": null,
   "metadata": {},
   "outputs": [],
   "source": []
  },
  {
   "cell_type": "markdown",
   "metadata": {},
   "source": [
    "## BT_Sample1\n",
    "### 如何利用 Python 運算股市投資，這邊以台指期(WTX)為例，我們先取得台指期在 20171221 以後的期貨交易資料，每一個 tick 交易時的時間，資料集資料分別為 (⽇期, 時間, 名稱, 價格, 成交量, 價格, 總量, 總買筆, 總賣筆)，我們預設為開盤時買一口，並且在收盤時最後一 tick 賣出一口平倉，測試期貨交易表現"
   ]
  },
  {
   "cell_type": "markdown",
   "metadata": {},
   "source": [
    " \n",
    "![alt text](https://github.com/juck30808/BT_Stock_Analysis/blob/main/Jerry_img3.png?raw=true)\n",
    "\n"
   ]
  },
  {
   "cell_type": "code",
   "execution_count": null,
   "metadata": {},
   "outputs": [],
   "source": [
    "def GetI020():\n",
    "    Data =  open(r'C:\\Users\\cti110016\\Dropbox\\DB\\BT_Stock_Analysis\\i020.TXFA8').readlines()\n",
    "    Data1 = [ i.strip('\\n').split(',') for i in Data ]\n",
    "    return Data1\n",
    "\n",
    "def GetI030():\n",
    "    Data =  open(r'C:\\Users\\cti110016\\Dropbox\\DB\\BT_Stock_Analysis\\i030.TXFA8').readlines()\n",
    "    Data1 = [ i.strip('\\n').split(',') for i in Data ][1:]\n",
    "    return Data1"
   ]
  },
  {
   "cell_type": "code",
   "execution_count": null,
   "metadata": {
    "scrolled": true
   },
   "outputs": [],
   "source": [
    "#from function import GetI020\n",
    "Data = GetI020()\n",
    "Data\n",
    "#detail\n",
    "#⽇期(0)    時間(1)　　名稱(2)　　價格(3) 單成交量(4)價格(5) 總量(6) 總買筆(7) 總賣筆(8)"
   ]
  },
  {
   "cell_type": "code",
   "execution_count": null,
   "metadata": {},
   "outputs": [],
   "source": [
    "len(Data)   \n",
    "#資料筆數 from  - "
   ]
  },
  {
   "cell_type": "code",
   "execution_count": null,
   "metadata": {},
   "outputs": [],
   "source": [
    "date_list = [ i[0] for i in Data ]         # catch the i[0]\n",
    "date_list = sorted(list(set(date_list)))   # sort by\n",
    "print(date_list)\n"
   ]
  },
  {
   "cell_type": "code",
   "execution_count": null,
   "metadata": {},
   "outputs": [],
   "source": [
    "total_profit=0\n",
    "for date in date_list:\n",
    "    I020 = [ i for i in Data if i[0]==date ]\n",
    "    #台指期貨(TXFA) 取 9點⾄11點 之間的資料，假設開盤就進⾏購買，並在最後一 tick 賣出\n",
    "    I020_1 = [ i for i in I020 if int(i[1])>=9000000 and int(i[1])<=11000000 ] \n",
    "    OrderTime = I020_1[0][1]\n",
    "    OrderPrice = int(I020_1[0][3])\n",
    "    CoverTime = I020_1[-1][1]\n",
    "    CoverPrice = int(I020_1[-1][3])\n",
    "    profit = CoverPrice-OrderPrice\n",
    "    total_profit += profit \n",
    "    print(date,'Buy',OrderTime,'OrderPrice:',OrderPrice,CoverTime,'CoverPrice:',CoverPrice,'profit',profit)\n",
    "\n",
    "print('Total Profit:' ,total_profit )\n",
    "\n",
    "#Total Profit: 75 = 獲利七五口\n",
    "         #buy.                        #sell"
   ]
  },
  {
   "cell_type": "markdown",
   "metadata": {},
   "source": [
    "## BT_Sample2"
   ]
  },
  {
   "cell_type": "code",
   "execution_count": null,
   "metadata": {},
   "outputs": [],
   "source": [
    "def GetI020():\n",
    "    Data =  open(r'C:\\Users\\cti110016\\Dropbox\\DB\\BT_Stock_Analysis\\i020.TXFA8').readlines()\n",
    "    Data1 = [ i.strip('\\n').split(',') for i in Data ]\n",
    "    return Data1\n",
    "\n",
    "def GetI030():\n",
    "    Data =  open(r'C:\\Users\\cti110016\\Dropbox\\DB\\BT_Stock_Analysis\\i030.TXFA8').readlines()\n",
    "    Data1 = [ i.strip('\\n').split(',') for i in Data ][1:]\n",
    "    return Data1\n",
    "\n",
    "Data = GetI020()\n",
    "date_list = [ i[0] for i in Data ]\n",
    "date_list = sorted(list(set(date_list)))"
   ]
  },
  {
   "cell_type": "code",
   "execution_count": null,
   "metadata": {
    "scrolled": true
   },
   "outputs": [],
   "source": [
    "total_profit=0\n",
    "for date in date_list:\n",
    "    I020 = [ i for i in Data if i[0]==date ]\n",
    "    I020_1 = [ i for i in I020 if int(i[1])>=9000000 and int(i[1])<=11000000 ]\n",
    "    OrderTime = I020_1[0][1]\n",
    "    OrderPrice = int(I020_1[0][3])\n",
    "    for i in range(len(I020_1)):\n",
    "        time = I020_1[i][1]\n",
    "        price = int(I020_1[i][3])\n",
    "        #如果下跌超過30點，就停損\n",
    "        if price <= OrderPrice - 30:  \n",
    "            CoverTime = time\n",
    "            CoverPrice = price\n",
    "            break\n",
    "        #若沒有停損則持續持有至尾盤\n",
    "        elif i == len(I020_1)-1:      \n",
    "            CoverTime = time\n",
    "            CoverPrice = price\n",
    "    profit = CoverPrice-OrderPrice\n",
    "    total_profit += profit \n",
    "    print(date,'Buy',OrderTime,'OrderPrice:',OrderPrice,CoverTime,'CoverPrice:',CoverPrice,'profit',profit)\n",
    "\n",
    "print('Total Profit:' ,total_profit )\n",
    "\n"
   ]
  },
  {
   "cell_type": "markdown",
   "metadata": {},
   "source": [
    "## BT_Sample3"
   ]
  },
  {
   "cell_type": "code",
   "execution_count": null,
   "metadata": {},
   "outputs": [],
   "source": [
    "def GetI020():\n",
    "    Data =  open(r'C:\\Users\\cti110016\\Dropbox\\DB\\BT_Stock_Analysis\\i020.TXFA8').readlines()\n",
    "    Data1 = [ i.strip('\\n').split(',') for i in Data ]\n",
    "    return Data1\n",
    "\n",
    "def GetI030():\n",
    "    Data =  open(r'C:\\Users\\cti110016\\Dropbox\\DB\\BT_Stock_Analysis\\i030.TXFA8').readlines()\n",
    "    Data1 = [ i.strip('\\n').split(',') for i in Data ][1:]\n",
    "    return Data1\n",
    "\n",
    "Data = GetI020()\n",
    "Data_030 = GetI030()\n",
    "\n",
    "date_list = [ i[0] for i in Data ]\n",
    "date_list = sorted(list(set(date_list)))\n",
    "total_profit=0"
   ]
  },
  {
   "cell_type": "code",
   "execution_count": null,
   "metadata": {},
   "outputs": [],
   "source": [
    "for date in date_list:\n",
    "    I020 = [ i for i in Data if i[0]==date ]\n",
    "    I030 = [ i for i in Data_030 if i[0]==date ]\n",
    "    I020_1 = [ i for i in I020 if int(i[1])>=9000000 and int(i[1])<=11000000 ]\n",
    "    I030_1 = [ i for i in I030 if int(i[1])<=9000000 ]\n",
    "    Trend=0\n",
    "    if float(I030_1[-1][4])/float(I030_1[-1][3]) > float(I030_1[-1][6])/float(I030_1[-1][5]):\n",
    "        Trend=1\n",
    "    else:\n",
    "        Trend=-1\n",
    "    OrderTime = I020_1[0][1]\n",
    "    OrderPrice = int(I020_1[0][3])\n",
    "    if Trend ==1:\n",
    "        for i in range(len(I020_1)):\n",
    "            time = I020_1[i][1]\n",
    "            price = int(I020_1[i][3])\n",
    "            if price <= OrderPrice - 30:\n",
    "                CoverTime = time\n",
    "                CoverPrice = price\n",
    "                break\n",
    "            elif i == len(I020_1)-1:\n",
    "                CoverTime = time\n",
    "                CoverPrice = price\n",
    "                profit = CoverPrice-OrderPrice\n",
    "                total_profit += profit \n",
    "                print(date,'Buy',OrderTime,'OrderPrice:',OrderPrice,CoverTime,'CoverPrice:',CoverPrice,'profit',profit)\n",
    "            elif Trend==-1:\n",
    "                for i in range(len(I020_1)):\n",
    "                    time = I020_1[i][1]\n",
    "                    price = int(I020_1[i][3])\n",
    "                    if price >= OrderPrice + 30:\n",
    "                        CoverTime = time\n",
    "                        CoverPrice = price\n",
    "                        break\n",
    "                    elif i == len(I020_1)-1:\n",
    "                        CoverTime = time\n",
    "                        CoverPrice = price\n",
    "    profit = OrderPrice-CoverPrice\n",
    "    total_profit += profit \n",
    "    print(date,'Sell',OrderTime,'OrderPrice:',OrderPrice,CoverTime,'CoverPrice:',CoverPrice,'profit',profit)\n",
    "\n",
    "\n",
    "print('Total Profit:' ,total_profit )\n",
    "\n"
   ]
  },
  {
   "cell_type": "markdown",
   "metadata": {},
   "source": [
    "## BT_sample4"
   ]
  },
  {
   "cell_type": "code",
   "execution_count": null,
   "metadata": {},
   "outputs": [],
   "source": [
    "def GetI020():\n",
    "    Data =  open(r'C:\\Users\\cti110016\\Dropbox\\DB\\BT_Stock_Analysis\\i020.TXFA8').readlines()\n",
    "    Data1 = [ i.strip('\\n').split(',') for i in Data ]\n",
    "    return Data1\n",
    "\n",
    "def GetI030():\n",
    "    Data =  open(r'C:\\Users\\cti110016\\Dropbox\\DB\\BT_Stock_Analysis\\i030.TXFA8').readlines()\n",
    "    Data1 = [ i.strip('\\n').split(',') for i in Data ][1:]\n",
    "    return Data1\n",
    "\n",
    "Data = GetI020()\n",
    "\n",
    "def Strategy1(sl):\n",
    "    date_list = [ i[0] for i in Data ]\n",
    "    date_list = sorted(list(set(date_list)))\n",
    "    total_profit=0\n",
    "    \n",
    "    for date in date_list:\n",
    "        I020 = [ i for i in Data if i[0]==date ]\n",
    "        I020_1 = [ i for i in I020 if int(i[1])>=9000000 and int(i[1])<=11000000 ]\n",
    "\n",
    "        OrderTime = I020_1[0][1]\n",
    "        OrderPrice = int(I020_1[0][3])\n",
    "\n",
    "    for i in range(len(I020_1)):\n",
    "        time = I020_1[i][1]\n",
    "        price = int(I020_1[i][3])\n",
    "        \n",
    "        if price <= OrderPrice - sl:\n",
    "            CoverTime = time\n",
    "            CoverPrice = price\n",
    "            break\n",
    "        elif i == len(I020_1)-1:\n",
    "            CoverTime = time\n",
    "            CoverPrice = price\n",
    "    profit = CoverPrice-OrderPrice\n",
    "    total_profit += profit \n",
    "    #print(date,'Buy',OrderTime,'OrderPrice:',OrderPrice,CoverTime,'CoverPrice:',CoverPrice,'profit',profit)\n",
    "    #print('Total Profit:' ,total_profit )\n",
    "    return total_profit\n",
    " "
   ]
  },
  {
   "cell_type": "code",
   "execution_count": null,
   "metadata": {},
   "outputs": [],
   "source": [
    "for i in range(1,10):\n",
    "    TP = Strategy1(i)\n",
    "    print(\"StopLoss:\",i,\"Total Profit:\",TP)"
   ]
  },
  {
   "cell_type": "markdown",
   "metadata": {},
   "source": [
    "## BT_w1"
   ]
  },
  {
   "cell_type": "code",
   "execution_count": null,
   "metadata": {},
   "outputs": [],
   "source": [
    "def GetI020():\n",
    "    Data =  open(r'C:\\Users\\cti110016\\Dropbox\\DB\\BT_Stock_Analysis\\i020.TXFA8').readlines()\n",
    "    Data1 = [ i.strip('\\n').split(',') for i in Data ]\n",
    "    return Data1\n",
    "\n",
    "def GetI030():\n",
    "    Data =  open(r'C:\\Users\\cti110016\\Dropbox\\DB\\BT_Stock_Analysis\\i030.TXFA8').readlines()\n",
    "    Data1 = [ i.strip('\\n').split(',') for i in Data ][1:]\n",
    "    return Data1\n",
    "\n",
    "import sys\n",
    "Data = GetI020()\n",
    "date_list = [ i[0] for i in Data ]\n",
    "date_list = sorted(list(set(date_list)))\n",
    "total_profit = 0\n",
    "print(date_list)"
   ]
  },
  {
   "cell_type": "code",
   "execution_count": null,
   "metadata": {},
   "outputs": [],
   "source": [
    "for date in date_list:\n",
    "    I020 = [ i for i in Data if i[0] == date ]\n",
    "    I020_1 = [ int(i[3]) for i in I020 if int(i[1])>=8450000 and int(i[1])<=9000000 ]    # 取出進場前時間段\n",
    "    max_price = max(I020_1)# 取出最高價\n",
    "    I020_2 = [ i for i in I020 if int(i[1])>=9000000 and int(i[1])<=11000000 ]# 進場判斷\n",
    "    index = 0 \n",
    "    \n",
    "    # 判斷是否當前價突破 先前最高價\n",
    "    for i in range(len(I020_2)):\n",
    "        time = int(I020_2[i][1])\n",
    "        price = int(I020_2[i][3])\n",
    "        if price > max_price:\n",
    "            index = 1\n",
    "            OrderTime = time\n",
    "            OrderPrice = price\n",
    "            break\n",
    "    \n",
    "    # 若當天沒進場，則直接跳下一天\n",
    "    if index == 0 :\n",
    "        print(date + ' no Trade')\n",
    "        continue\n",
    "    \n",
    "    # 出場判斷\n",
    "    I020_3 = [ i for i in I020 if int(i[1])>=OrderTime and int(i[1])<=11000000 ]\n",
    "    for i in range(len(I020_3)):\n",
    "        time = int(I020_3[i][1])\n",
    "        price = int(I020_3[i][3])\n",
    "        if price >= OrderPrice +20:\n",
    "            index = 0\n",
    "            CoverTime = time\n",
    "            CoverPrice = price\n",
    "            break\n",
    "        elif price <= OrderPrice -20:\n",
    "            index = 0\n",
    "            CoverTime = time\n",
    "            CoverPrice = price\n",
    "            break\n",
    "        elif i == len(I020_3)-1:\n",
    "            index = 0\n",
    "            CoverTime = time\n",
    "            CoverPrice = price\n",
    "    \n",
    "    profit = CoverPrice-OrderPrice\n",
    "    total_profit += profit \n",
    "    print(date,'Buy',OrderTime,'OrderPrice:',OrderPrice,CoverTime,'CoverPrice:',CoverPrice,'profit',profit)\n",
    "\n",
    "print('Total Profit:' ,total_profit )"
   ]
  },
  {
   "cell_type": "markdown",
   "metadata": {},
   "source": [
    "## BT_w2\n"
   ]
  },
  {
   "cell_type": "code",
   "execution_count": null,
   "metadata": {},
   "outputs": [],
   "source": [
    "def GetI020():\n",
    "    Data =  open(r'C:\\Users\\cti110016\\Dropbox\\DB\\BT_Stock_Analysis\\i020.TXFA8').readlines()\n",
    "    Data1 = [ i.strip('\\n').split(',') for i in Data ]\n",
    "    return Data1\n",
    "\n",
    "def GetI030():\n",
    "    Data =  open(r'C:\\Users\\cti110016\\Dropbox\\DB\\BT_Stock_Analysis\\i030.TXFA8').readlines()\n",
    "    Data1 = [ i.strip('\\n').split(',') for i in Data ][1:]\n",
    "    return Data1\n",
    "\n",
    "import sys\n",
    "Data = GetI020()\n",
    "date_list = [ i[0] for i in Data ]\n",
    "date_list = sorted(list(set(date_list)))\n",
    "total_profit = 0"
   ]
  },
  {
   "cell_type": "code",
   "execution_count": null,
   "metadata": {
    "scrolled": true
   },
   "outputs": [],
   "source": [
    "for date in date_list:\n",
    "    I020 = [ i for i in Data if i[0] == date ]\n",
    "    I020_1 = [ int(i[3]) for i in I020 if int(i[1])>=8450000 and int(i[1])<=9000000 ] # 取出進場前時間段\n",
    "    max_price = max(I020_1)  \n",
    "    min_price = min(I020_1)  # 相較前個多取了最低\n",
    "    spread = max_price-min_price\n",
    "    I020_2 = [ i for i in I020 if int(i[1])>=9000000 and int(i[1])<=11000000 ] # 進場判斷\n",
    "    index = 0 \n",
    "    \n",
    "    # 判斷是否當前價突破 先前最高價\n",
    "    for i in range(len(I020_2)):\n",
    "        time = int(I020_2[i][1])\n",
    "        price = int(I020_2[i][3])\n",
    "        if price > max_price+spread*0.2:\n",
    "            index = 1\n",
    "            OrderTime = time\n",
    "            OrderPrice = price\n",
    "            break\n",
    "        elif price < min_price-spread*0.2:\n",
    "            index = -1\n",
    "            OrderTime = time\n",
    "            OrderPrice = price\n",
    "            break\n",
    "    \n",
    "    # 若當天沒進場，則直接跳下一天\n",
    "    if index == 0 :\n",
    "        print(date + ' no Trade')\n",
    "        continue\n",
    "    \n",
    "    # 出場判斷\n",
    "    I020_beforeOrder = [ int(i[3]) for i in I020 if int(i[1])<=OrderTime ]\n",
    "    max_price = max(I020_beforeOrder)\n",
    "    min_price = min(I020_beforeOrder)\n",
    "    \n",
    "    I020_3 = [ i for i in I020 if int(i[1])>=OrderTime and int(i[1])<=11000000 ]\n",
    "    if index==1:\n",
    "        for i in range(len(I020_3)):\n",
    "            time = int(I020_3[i][1])\n",
    "            price = int(I020_3[i][3])\n",
    "            if price >= OrderPrice +50:\n",
    "                index = 0\n",
    "                CoverTime = time\n",
    "                CoverPrice = price\n",
    "                break\n",
    "            elif price <= min_price:\n",
    "                index = 0\n",
    "                CoverTime = time\n",
    "                CoverPrice = price\n",
    "                break\n",
    "            elif i == len(I020_3)-1:\n",
    "                index = 0\n",
    "                CoverTime = time\n",
    "                CoverPrice = price\n",
    "        profit = CoverPrice-OrderPrice\n",
    "        total_profit += profit \n",
    "        print(date,'Buy',OrderTime,'OrderPrice:',OrderPrice,CoverTime,'CoverPrice:',CoverPrice,'profit',profit)\n",
    "\n",
    "    elif index==-1:\n",
    "        for i in range(len(I020_3)):\n",
    "            time = int(I020_3[i][1])\n",
    "            price = int(I020_3[i][3])\n",
    "            if price <= OrderPrice -50:\n",
    "                index = 0\n",
    "                CoverTime = time\n",
    "                CoverPrice = price\n",
    "                break\n",
    "            elif price >= max_price:\n",
    "                index = 0\n",
    "                CoverTime = time\n",
    "                CoverPrice = price\n",
    "                break\n",
    "            elif i == len(I020_3)-1:\n",
    "                index = 0\n",
    "                CoverTime = time\n",
    "                CoverPrice = price\n",
    "\n",
    "        profit = OrderPrice-CoverPrice\n",
    "        total_profit += profit \n",
    "        print(date,'Sell',OrderTime,'OrderPrice:',OrderPrice,CoverTime,'CoverPrice:',CoverPrice,'profit',profit)\n",
    "\n",
    "print('Total Profit:' ,total_profit )"
   ]
  },
  {
   "cell_type": "code",
   "execution_count": null,
   "metadata": {},
   "outputs": [],
   "source": []
  }
 ],
 "metadata": {
  "kernelspec": {
   "display_name": "Python 3 (ipykernel)",
   "language": "python",
   "name": "python3"
  },
  "language_info": {
   "codemirror_mode": {
    "name": "ipython",
    "version": 3
   },
   "file_extension": ".py",
   "mimetype": "text/x-python",
   "name": "python",
   "nbconvert_exporter": "python",
   "pygments_lexer": "ipython3",
   "version": "3.11.3"
  }
 },
 "nbformat": 4,
 "nbformat_minor": 4
}
