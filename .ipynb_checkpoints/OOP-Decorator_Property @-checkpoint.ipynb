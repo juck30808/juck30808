{
 "cells": [
  {
   "cell_type": "markdown",
   "id": "da16202f",
   "metadata": {},
   "source": [
    "## Decorator 裝飾器"
   ]
  },
  {
   "cell_type": "code",
   "execution_count": 60,
   "id": "fa6d70ea",
   "metadata": {},
   "outputs": [
    {
     "name": "stdout",
     "output_type": "stream",
     "text": [
      "Hi, I got decorated\n",
      "Hi, I'm theNormal\n"
     ]
    },
    {
     "data": {
      "text/plain": [
       "'\\nEquivalent to\\npret1 = new_pretty(theNormal)\\npret1()\\n'"
      ]
     },
     "execution_count": 60,
     "metadata": {},
     "output_type": "execute_result"
    }
   ],
   "source": [
    "def new_pretty(func):\n",
    "    def new_inner():\n",
    "        print(\"Hi, I got decorated\")\n",
    "        func()\n",
    "    return new_inner\n",
    "\n",
    "# decorating function\n",
    "@new_pretty\n",
    "def theNormal():\n",
    "    print(\"Hi, I'm theNormal\")\n",
    "\n",
    "theNormal()\n",
    "\n",
    "\"\"\"\n",
    "Equivalent to\n",
    "pret1 = new_pretty(theNormal)\n",
    "pret1()\n",
    "\"\"\""
   ]
  },
  {
   "cell_type": "code",
   "execution_count": 7,
   "id": "2a2237c8",
   "metadata": {},
   "outputs": [
    {
     "name": "stdout",
     "output_type": "stream",
     "text": [
      "We're going to divide 3 and 0\n",
      "Sorry, cannot divide\n"
     ]
    }
   ],
   "source": [
    "# a simple division function\n",
    "# def division(x, y):\n",
    "#     return x/y\n",
    "\n",
    "# # print(division(3, 7))\n",
    "# print(division(3, 0))\n",
    "\n",
    "def best_division(func):\n",
    "    def inner(x, y):\n",
    "        print(\"We're going to divide\", x, \"and\", y)\n",
    "        if y == 0:\n",
    "            print(\"Sorry, cannot divide\")\n",
    "            return\n",
    "        return func(x, y)\n",
    "    return inner\n",
    "\n",
    "@best_division\n",
    "def division(x, y):\n",
    "    print(x/y)\n",
    "\n",
    "# division(3, 7)\n",
    "division(3, 0)"
   ]
  },
  {
   "cell_type": "code",
   "execution_count": 8,
   "id": "3eb84106",
   "metadata": {},
   "outputs": [
    {
     "name": "stdout",
     "output_type": "stream",
     "text": [
      "-----------------------------------\n",
      "***********************************\n",
      "Python is so cool\n",
      "***********************************\n",
      "-----------------------------------\n"
     ]
    }
   ],
   "source": [
    "# Multiple decorators can be chained in Python\n",
    "def starting(func):\n",
    "    def inner(*args, **kwargs):\n",
    "        print(\"-\" * 35)\n",
    "        func(*args, **kwargs)\n",
    "        print(\"-\" * 35)\n",
    "    return inner\n",
    "\n",
    "def astriskNew(func):\n",
    "    def inner(*args, **kwargs):\n",
    "        print(\"*\" * 35)\n",
    "        func(*args, **kwargs)\n",
    "        print(\"*\" * 35)\n",
    "    return inner\n",
    "\n",
    "@starting\n",
    "@astriskNew\n",
    "def displaying(txt):\n",
    "    print(txt)\n",
    "\n",
    "displaying(\"Python is so cool\")"
   ]
  },
  {
   "cell_type": "markdown",
   "id": "0ac6319c",
   "metadata": {},
   "source": [
    "## deco"
   ]
  },
  {
   "cell_type": "code",
   "execution_count": 9,
   "id": "a1a82ad2",
   "metadata": {},
   "outputs": [
    {
     "name": "stdout",
     "output_type": "stream",
     "text": [
      "hello\n",
      "hello\n",
      "hello ali\n",
      "hello ali\n",
      "hello ali\n",
      "hello ali\n",
      "hello ali\n"
     ]
    }
   ],
   "source": [
    "def dec_do_twice(count):\n",
    "    def do_twice(func):\n",
    "        def wrapper_do_twice(*args,**kwargs):\n",
    "            for _ in range(count):\n",
    "                func(*args,**kwargs)\n",
    "        return wrapper_do_twice\n",
    "    return do_twice\n",
    "\n",
    "@dec_do_twice(count=2)\n",
    "def hello():\n",
    "    print(\"hello\")\n",
    "\n",
    "@dec_do_twice(count=5)\n",
    "def greet(name):\n",
    "    print(\"hello \" + name)\n",
    "\n",
    "\n",
    "hello()\n",
    "greet(\"ali\")\n",
    "\n"
   ]
  },
  {
   "cell_type": "code",
   "execution_count": 10,
   "id": "c8a5a3e7",
   "metadata": {},
   "outputs": [
    {
     "name": "stdout",
     "output_type": "stream",
     "text": [
      "greeting function\n",
      "hello, ali\n"
     ]
    }
   ],
   "source": [
    "def do_twice(func):\n",
    "    def wrapper_do_twice(*args,**kwargs):\n",
    "        return func(*args,**kwargs)\n",
    "        func(*args,**kwargs)\n",
    "    return wrapper_do_twice\n",
    "\n",
    "@do_twice\n",
    "def hello():\n",
    "    print(\"hello\")\n",
    "\n",
    "@do_twice\n",
    "def greet(msg):\n",
    "    print(\"hello \" + msg)\n",
    "\n",
    "@do_twice\n",
    "def return_greeting(name):\n",
    "    print(\"greeting function\")\n",
    "    return f\"hello, {name}\"\n",
    "\n",
    "# hello()\n",
    "# greet(\"world\")\n",
    "# return_greeting(\"ali\")\n",
    "print(return_greeting(\"ali\"))"
   ]
  },
  {
   "cell_type": "code",
   "execution_count": 11,
   "id": "96a686bd",
   "metadata": {},
   "outputs": [
    {
     "name": "stdout",
     "output_type": "stream",
     "text": [
      "hoş geldiniz.\n",
      "günaydın benim adım ahmet\n",
      "görüşmek üzere.\n",
      "hoş geldiniz.\n",
      "iyi günler benim adım yağmur\n",
      "görüşmek üzere.\n"
     ]
    }
   ],
   "source": [
    "def selamlama(fn):\n",
    "    def wrapper(ad):\n",
    "        print(\"hoş geldiniz.\")\n",
    "        fn(ad)\n",
    "        print(\"görüşmek üzere.\")\n",
    "    return wrapper\n",
    "\n",
    "@selamlama\n",
    "def gunaydin(ad):\n",
    "    print(\"günaydın benim adım \" + ad)\n",
    "\n",
    "@selamlama\n",
    "def iyigunler(ad):\n",
    "    print(\"iyi günler benim adım \" + ad)\n",
    "\n",
    "\n",
    "gunaydin(\"ahmet\")\n",
    "iyigunler(\"yağmur\")"
   ]
  },
  {
   "cell_type": "code",
   "execution_count": 12,
   "id": "dfe04ad2",
   "metadata": {},
   "outputs": [
    {
     "name": "stdout",
     "output_type": "stream",
     "text": [
      "iphone 12 \n"
     ]
    }
   ],
   "source": [
    "class Product:\n",
    "    def __init__(self,name,price,description):\n",
    "        self.name = name\n",
    "        self.description = description\n",
    "        if price >=0:\n",
    "            self._price = price\n",
    "        else:\n",
    "            raise ValueError(\"fiyat için negatif değer ataması yapılmaz\")\n",
    "\n",
    "    @property\n",
    "    def price(self):\n",
    "        return self._price\n",
    "\n",
    "    @price.setter\n",
    "    def price(self,value):\n",
    "        if value >=0:\n",
    "            self._price = value\n",
    "        else:\n",
    "            raise ValueError(\"fiyat için negatif değer ataması yapılmaz\")\n",
    "\n",
    "    @property\n",
    "    def short_description(self):\n",
    "        return self.description[:10]\n",
    "\n",
    "    # def set_price(self,value):\n",
    "    #     if value >=0:\n",
    "    #         self._price = value\n",
    "    #     else:\n",
    "    #         raise ValueError(\"fiyat için negatif değer ataması yapılmaz\")\n",
    "\n",
    "    # def get_price(self):\n",
    "    #     return self._price\n",
    "\n",
    "p = Product(\"iphone 12\", 9000,\"iphone 12 apple in çıkardığı en yeni üründür ancak fiyatı çok pahalı.\")\n",
    "\n",
    "print(p.short_description)\n",
    "\n",
    "\n"
   ]
  },
  {
   "cell_type": "markdown",
   "id": "1e62a214",
   "metadata": {},
   "source": [
    "## dec"
   ]
  },
  {
   "cell_type": "code",
   "execution_count": 13,
   "id": "2dc4a3c4",
   "metadata": {},
   "outputs": [],
   "source": [
    "def adding(num):\n",
    "    return num + 1"
   ]
  },
  {
   "cell_type": "code",
   "execution_count": 14,
   "id": "a1e9fda1",
   "metadata": {},
   "outputs": [],
   "source": [
    "adding_one = adding"
   ]
  },
  {
   "cell_type": "code",
   "execution_count": 15,
   "id": "366570b6",
   "metadata": {},
   "outputs": [
    {
     "data": {
      "text/plain": [
       "11"
      ]
     },
     "execution_count": 15,
     "metadata": {},
     "output_type": "execute_result"
    }
   ],
   "source": [
    "adding_one(10)"
   ]
  },
  {
   "cell_type": "code",
   "execution_count": 16,
   "id": "166e33a5",
   "metadata": {},
   "outputs": [
    {
     "data": {
      "text/plain": [
       "21"
      ]
     },
     "execution_count": 16,
     "metadata": {},
     "output_type": "execute_result"
    }
   ],
   "source": [
    "adding_one(20)"
   ]
  },
  {
   "cell_type": "code",
   "execution_count": 17,
   "id": "38690aa2",
   "metadata": {},
   "outputs": [],
   "source": [
    "def adding(num):\n",
    "    def adding_one(num):\n",
    "        return num + 1\n",
    "    \n",
    "    total = adding_one(num)\n",
    "    return total"
   ]
  },
  {
   "cell_type": "code",
   "execution_count": 18,
   "id": "f6ab137c",
   "metadata": {},
   "outputs": [
    {
     "data": {
      "text/plain": [
       "21"
      ]
     },
     "execution_count": 18,
     "metadata": {},
     "output_type": "execute_result"
    }
   ],
   "source": [
    "adding(20)"
   ]
  },
  {
   "cell_type": "code",
   "execution_count": 19,
   "id": "a8e3f90e",
   "metadata": {},
   "outputs": [
    {
     "data": {
      "text/plain": [
       "26"
      ]
     },
     "execution_count": 19,
     "metadata": {},
     "output_type": "execute_result"
    }
   ],
   "source": [
    "adding(25)"
   ]
  },
  {
   "cell_type": "code",
   "execution_count": 20,
   "id": "58830f1c",
   "metadata": {},
   "outputs": [],
   "source": [
    "def adding(num):\n",
    "    return num + 1\n",
    "\n",
    "def calling(new_func):\n",
    "    new_number = 12\n",
    "    return new_func(new_number)"
   ]
  },
  {
   "cell_type": "code",
   "execution_count": 21,
   "id": "f81170af",
   "metadata": {},
   "outputs": [
    {
     "data": {
      "text/plain": [
       "13"
      ]
     },
     "execution_count": 21,
     "metadata": {},
     "output_type": "execute_result"
    }
   ],
   "source": [
    "calling(adding)"
   ]
  },
  {
   "cell_type": "code",
   "execution_count": 22,
   "id": "f48e08af",
   "metadata": {},
   "outputs": [],
   "source": [
    "# return a function from a function\n",
    "def hello():\n",
    "    def greeting():\n",
    "        return \"Hi there\"\n",
    "    return greeting"
   ]
  },
  {
   "cell_type": "code",
   "execution_count": 23,
   "id": "87ce50d2",
   "metadata": {},
   "outputs": [],
   "source": [
    "new_greet = hello()"
   ]
  },
  {
   "cell_type": "code",
   "execution_count": 24,
   "id": "0fe1c420",
   "metadata": {},
   "outputs": [
    {
     "data": {
      "text/plain": [
       "'Hi there'"
      ]
     },
     "execution_count": 24,
     "metadata": {},
     "output_type": "execute_result"
    }
   ],
   "source": [
    "new_greet()"
   ]
  },
  {
   "cell_type": "code",
   "execution_count": 25,
   "id": "6e2d5f8d",
   "metadata": {},
   "outputs": [],
   "source": [
    "# Closure\n",
    "def new_message(text):\n",
    "    \"Outer message\"\n",
    "    def another_message():\n",
    "        \"Our nested message\"\n",
    "        print(text)\n",
    "    another_message()"
   ]
  },
  {
   "cell_type": "code",
   "execution_count": 26,
   "id": "5bd733e4",
   "metadata": {},
   "outputs": [
    {
     "name": "stdout",
     "output_type": "stream",
     "text": [
      "Hello, this is a random text message\n"
     ]
    }
   ],
   "source": [
    "new_message(\"Hello, this is a random text message\")"
   ]
  },
  {
   "cell_type": "code",
   "execution_count": 27,
   "id": "98d75236",
   "metadata": {},
   "outputs": [],
   "source": [
    "def new_capital(new_func):\n",
    "    def new_inner():\n",
    "        the_func = new_func()\n",
    "        upper_case = the_func.upper()\n",
    "        return upper_case\n",
    "    \n",
    "    return new_inner"
   ]
  },
  {
   "cell_type": "code",
   "execution_count": 28,
   "id": "27bdabdc",
   "metadata": {},
   "outputs": [],
   "source": [
    "def greeting():\n",
    "    return \"Hi, Python Programming\"\n",
    "\n",
    "new_decorating = new_capital(greeting)"
   ]
  },
  {
   "cell_type": "code",
   "execution_count": 29,
   "id": "e1eb427d",
   "metadata": {},
   "outputs": [
    {
     "data": {
      "text/plain": [
       "'HI, PYTHON PROGRAMMING'"
      ]
     },
     "execution_count": 29,
     "metadata": {},
     "output_type": "execute_result"
    }
   ],
   "source": [
    "new_decorating()"
   ]
  },
  {
   "cell_type": "code",
   "execution_count": 30,
   "id": "2bc4b60e",
   "metadata": {},
   "outputs": [
    {
     "data": {
      "text/plain": [
       "'HI, PYTHON PROGRAMMING'"
      ]
     },
     "execution_count": 30,
     "metadata": {},
     "output_type": "execute_result"
    }
   ],
   "source": [
    "# The same as\n",
    "@new_capital\n",
    "\n",
    "def greeting():\n",
    "    return \"Hi, Python Programming\"\n",
    "\n",
    "greeting()"
   ]
  },
  {
   "cell_type": "markdown",
   "id": "4355f49d",
   "metadata": {},
   "source": [
    "# 3. Decorator"
   ]
  },
  {
   "cell_type": "markdown",
   "id": "abfbd9c3",
   "metadata": {},
   "source": [
    "## 3.1 İç İçe Fonksiyonlar"
   ]
  },
  {
   "cell_type": "code",
   "execution_count": 31,
   "id": "96826938",
   "metadata": {},
   "outputs": [
    {
     "name": "stdout",
     "output_type": "stream",
     "text": [
      "Birinci fonksiyon\n",
      "İkinci fonksiyon\n"
     ]
    }
   ],
   "source": [
    "def fonksiyon1():\n",
    "    def fonksiyon2():\n",
    "        print(\"İkinci fonksiyon\")\n",
    "    print(\"Birinci fonksiyon\")\n",
    "    fonksiyon2()\n",
    "    \n",
    "fonksiyon1()"
   ]
  },
  {
   "cell_type": "code",
   "execution_count": 32,
   "id": "61234c50",
   "metadata": {},
   "outputs": [],
   "source": [
    "def fonksiyon(islem):\n",
    "    def topla(*args):\n",
    "        sonuc = 0\n",
    "        for i in args:\n",
    "            sonuc += i\n",
    "        return sonuc\n",
    "    def carp(*args):\n",
    "        sonuc = 1\n",
    "        for i in args:\n",
    "            sonuc *= i\n",
    "        return sonuc\n",
    "    \n",
    "    if islem == \"toplama\":\n",
    "        return topla\n",
    "    else:\n",
    "        return carp"
   ]
  },
  {
   "cell_type": "code",
   "execution_count": 33,
   "id": "31b1fe37",
   "metadata": {},
   "outputs": [
    {
     "data": {
      "text/plain": [
       "14"
      ]
     },
     "execution_count": 33,
     "metadata": {},
     "output_type": "execute_result"
    }
   ],
   "source": [
    "ornek = fonksiyon(\"toplama\")\n",
    "ornek(2,3,4,1,4)"
   ]
  },
  {
   "cell_type": "markdown",
   "id": "abfe75cb",
   "metadata": {},
   "source": [
    "## 3.2 Nasıl Oluşturulur?"
   ]
  },
  {
   "cell_type": "code",
   "execution_count": 34,
   "id": "4621bb51",
   "metadata": {},
   "outputs": [
    {
     "name": "stdout",
     "output_type": "stream",
     "text": [
      "fonksiyon çalışmadan önce\n",
      "fonksiyon çalışıyor\n",
      "fonksiyon çalıştıktan sonra\n"
     ]
    }
   ],
   "source": [
    "def decorator(fonk):\n",
    "    def wrapper():\n",
    "        print(\"fonksiyon çalışmadan önce\")\n",
    "        fonk()\n",
    "        print(\"fonksiyon çalıştıktan sonra\")\n",
    "    return wrapper\n",
    "\n",
    "def fonksiyon():\n",
    "    print(\"fonksiyon çalışıyor\")\n",
    "    \n",
    "fonksiyon2 = decorator(fonksiyon)\n",
    "fonksiyon2()"
   ]
  },
  {
   "cell_type": "code",
   "execution_count": 35,
   "id": "fca5972c",
   "metadata": {},
   "outputs": [
    {
     "name": "stdout",
     "output_type": "stream",
     "text": [
      "fonksiyon çalışmadan önce\n",
      "fonksiyon çalışıyor\n",
      "fonksiyon çalıştıktan sonra\n"
     ]
    }
   ],
   "source": [
    "def decorator2(fonk):\n",
    "    def wrapper():\n",
    "        print(\"fonksiyon çalışmadan önce\")\n",
    "        fonk()\n",
    "        print(\"fonksiyon çalıştıktan sonra\")\n",
    "    return wrapper\n",
    "\n",
    "@decorator2\n",
    "def fonksiyon():\n",
    "    print(\"fonksiyon çalışıyor\")\n",
    "    \n",
    "fonksiyon()"
   ]
  },
  {
   "cell_type": "code",
   "execution_count": 36,
   "id": "7e31c26c",
   "metadata": {},
   "outputs": [
    {
     "name": "stdout",
     "output_type": "stream",
     "text": [
      "0\n",
      "1\n",
      "4\n",
      "9\n",
      "16\n",
      "25\n",
      "36\n",
      "49\n",
      "64\n",
      "81\n",
      "İşlem 0.00012803077697753906 saniye sürdü\n",
      "0\n",
      "1\n",
      "8\n",
      "27\n",
      "64\n",
      "125\n",
      "216\n",
      "343\n",
      "512\n",
      "729\n",
      "İşlem 1.4066696166992188e-05 saniye sürdü\n",
      "5\n",
      "İşlem 1.9073486328125e-06 saniye sürdü\n"
     ]
    }
   ],
   "source": [
    "import time\n",
    "\n",
    "def zamanHesapla(fonk):\n",
    "    def wrapper(*args,**kwargs):\n",
    "        baslangic = time.time()\n",
    "        fonk(*args,**kwargs)\n",
    "        bitis = time.time()\n",
    "        print( f\"İşlem {bitis-baslangic} saniye sürdü\")\n",
    "    return wrapper\n",
    "\n",
    "@zamanHesapla\n",
    "def kareleriAl(liste):\n",
    "    for i in liste:\n",
    "        print(i**2)\n",
    "        \n",
    "@zamanHesapla        \n",
    "def küpünüAl(liste):\n",
    "    for i in liste:\n",
    "        print(i**3)\n",
    "        \n",
    "@zamanHesapla        \n",
    "def topla(a,b):\n",
    "    print(a+b)\n",
    "    \n",
    "kareleriAl(range(0,10))\n",
    "küpünüAl(range(0,10))\n",
    "topla(3,2)"
   ]
  },
  {
   "cell_type": "markdown",
   "id": "e783267e",
   "metadata": {},
   "source": [
    "# 4. Class Örneği"
   ]
  },
  {
   "cell_type": "code",
   "execution_count": 37,
   "id": "01260793",
   "metadata": {},
   "outputs": [],
   "source": [
    "import time\n",
    "\n",
    "class araba():\n",
    "    galeriAdı = \"Tekinler Galeri\"\n",
    "    aracSayısı = 0\n",
    "    aracID = 2152\n",
    "    def __init__(self,marka=\"Girilmedi\",model=\"Girilmedi\",yıl=\"Girilmedi\",renk=\"Girilmedi\"):\n",
    "        self.marka = marka\n",
    "        self.model = model\n",
    "        self.yıl = yıl\n",
    "        self.renk = renk\n",
    "        araba.aracSayısı += 1\n",
    "        araba.aracID += 5\n",
    "        self.aracID = araba.aracID\n",
    "        self.index = -1\n",
    "        \n",
    "    def zamanHesapla(fonk):\n",
    "        def wrapper(*args,**kwargs):\n",
    "            baslangic = time.time()\n",
    "            fonk(*args,*kwargs)\n",
    "            bitis = time.time()\n",
    "            print(\"Bu işlem toplam {} saniye sürdü\".format(bitis-baslangic))\n",
    "        return wrapper\n",
    "     \n",
    "    @zamanHesapla    \n",
    "    def renkDegistir(self,yeniRenk):\n",
    "        self.renk = yeniRenk\n",
    "        \n",
    "    def __str__(self):\n",
    "        return f\"Arabanın markası: {self.marka}\\nArabanın modeli: {self.model}\\nArabanın yılı: {self.yıl}\\nArabanın rengi: {self.renk}\"\n",
    "    \n",
    "    def __len__(self):\n",
    "        return self.yıl\n",
    "    \n",
    "    @zamanHesapla \n",
    "    def __add__(self,other):\n",
    "        return self.yıl + other.yıl\n",
    "    \n",
    "    def __iter__(self):\n",
    "        return self\n",
    "    \n",
    "    def __next__(self):\n",
    "        self.index += 1\n",
    "        if self.index < len(self.marka):\n",
    "            return self.marka[self.index]\n",
    "        else:\n",
    "            self.index = -1\n",
    "            raise StopIteration\n",
    "            \n",
    "    def ornekGenerator(self):\n",
    "        for i in range(1,self.yıl):\n",
    "            yield 2*i\n",
    "            \n",
    "    @classmethod\n",
    "    def aracSayısınıSoyle(cls):\n",
    "        return cls.aracSayısı\n",
    "    \n",
    "    @staticmethod\n",
    "    def galeriAdınıSoyle():\n",
    "        return araba.galeriAdı\n",
    "    "
   ]
  },
  {
   "cell_type": "code",
   "execution_count": 38,
   "id": "23a5234b",
   "metadata": {},
   "outputs": [
    {
     "name": "stdout",
     "output_type": "stream",
     "text": [
      "Bu işlem toplam 4.76837158203125e-06 saniye sürdü\n",
      "Bu işlem toplam 1.1920928955078125e-06 saniye sürdü\n",
      "R\n",
      "e\n",
      "n\n",
      "a\n",
      "u\n",
      "l\n",
      "t\n",
      "-------\n",
      "F\n",
      "i\n",
      "a\n",
      "t\n"
     ]
    }
   ],
   "source": [
    "arac1 = araba(\"Renault\",\"Megane\",2015,\"Beyaz\")\n",
    "arac2 = araba(\"Fiat\",\"Linea\",2017,\"Kırmızı\")\n",
    "\n",
    "#print(arac1)\n",
    "#len(arac1)\n",
    "araba.galeriAdı\n",
    "araba.aracSayısı\n",
    "arac1.aracID\n",
    "arac2.aracID\n",
    "arac1.renkDegistir(\"Siyah\")\n",
    "#print(arac1)\n",
    "\n",
    "arac1 + arac2\n",
    "\n",
    "\n",
    "for i in arac1:\n",
    "    print(i)\n",
    "print(\"-------\")\n",
    "    \n",
    "iterator = iter(arac2)    \n",
    "while True:\n",
    "    try:\n",
    "        i = next(iterator)\n",
    "        print(i)\n",
    "    except StopIteration:\n",
    "        break"
   ]
  },
  {
   "cell_type": "code",
   "execution_count": 39,
   "id": "4009d819",
   "metadata": {},
   "outputs": [
    {
     "data": {
      "text/plain": [
       "10"
      ]
     },
     "execution_count": 39,
     "metadata": {},
     "output_type": "execute_result"
    }
   ],
   "source": [
    "araba.aracSayısınıSoyle()\n",
    "araba.galeriAdınıSoyle()\n",
    "\n",
    "generator = arac1.ornekGenerator()\n",
    "iterator = iter(generator)\n",
    "next(iterator)\n",
    "next(iterator)\n",
    "next(iterator)\n",
    "next(iterator)\n",
    "next(iterator)"
   ]
  },
  {
   "cell_type": "code",
   "execution_count": 40,
   "id": "fce69499",
   "metadata": {},
   "outputs": [
    {
     "name": "stdout",
     "output_type": "stream",
     "text": [
      "Bu işlem toplam 9.5367431640625e-07 saniye sürdü\n"
     ]
    }
   ],
   "source": [
    "arac1.renkDegistir(\"Siyah\")"
   ]
  },
  {
   "cell_type": "code",
   "execution_count": 41,
   "id": "2d273b35",
   "metadata": {},
   "outputs": [
    {
     "name": "stdout",
     "output_type": "stream",
     "text": [
      "Bu işlem toplam 1.1920928955078125e-06 saniye sürdü\n"
     ]
    }
   ],
   "source": [
    "arac1 + arac2"
   ]
  },
  {
   "cell_type": "code",
   "execution_count": 42,
   "id": "f53d0a6a",
   "metadata": {},
   "outputs": [
    {
     "name": "stdout",
     "output_type": "stream",
     "text": [
      "Antes desde la función_decorada_c\n",
      "Hola desde función mostrar_mensaje\n",
      "Después desde la función decorada_c\n",
      "Antes desde la función_decorada_c\n",
      "Hola desde función imprimir\n",
      "Después desde la función decorada_c\n"
     ]
    }
   ],
   "source": [
    "# Decoradores\n",
    "# Un decorador es una función que recibe una función y regresa una función (al menos)\n",
    "# Lo utilizamos para extender funcionalidad de una función\n",
    "# 1. Función decorador (a)\n",
    "# 2. Función a decorar (b)\n",
    "# 3. Función decorada (c)\n",
    "\n",
    "def funcion_decorador_a(funcion_a_decorar_b):\n",
    "    def funcion_decorada_c():\n",
    "        print('Antes desde la función_decorada_c')\n",
    "        funcion_a_decorar_b()\n",
    "        print('Después desde la función decorada_c')\n",
    "\n",
    "    return funcion_decorada_c\n",
    "\n",
    "\n",
    "# Definimos una función y vamos a extender su funcionalidad con un decorador\n",
    "@funcion_decorador_a\n",
    "def mostrar_mensaje():\n",
    "    print('Hola desde función mostrar_mensaje')\n",
    "\n",
    "# Ejecutamos la función a decorar\n",
    "mostrar_mensaje()\n",
    "\n",
    "@funcion_decorador_a\n",
    "def imprimir():\n",
    "    print('Hola desde función imprimir')\n",
    "\n",
    "imprimir()\n",
    "\n"
   ]
  },
  {
   "cell_type": "code",
   "execution_count": 43,
   "id": "82e671d9",
   "metadata": {},
   "outputs": [
    {
     "name": "stdout",
     "output_type": "stream",
     "text": [
      "Antes desde la función_decorada_c\n",
      "Después desde la función decorada_c\n",
      "Resultado suma: 11\n"
     ]
    }
   ],
   "source": [
    "# Decoradores con argumentos\n",
    "# Un decorador es una función que recibe una función y regresa una función (al menos)\n",
    "# Lo utilizamos para extender funcionalidad de una función\n",
    "# 1. Función decorador (a)\n",
    "# 2. Función a decorar (b)\n",
    "# 3. Función decorada (c)\n",
    "# a(b) -> c\n",
    "def funcion_decorador_a(funcion_a_decorar_b):\n",
    "    def funcion_decorada_c(*args, **kwargs):\n",
    "        print('Antes desde la función_decorada_c')\n",
    "        resultado = funcion_a_decorar_b(*args, **kwargs)\n",
    "        print('Después desde la función decorada_c')\n",
    "        return resultado\n",
    "\n",
    "    return funcion_decorada_c\n",
    "\n",
    "\n",
    "@funcion_decorador_a\n",
    "def sumar(a, b):\n",
    "    # print(f'Resultado suma: {a + b}')\n",
    "    return a + b\n",
    "\n",
    "resultado = sumar(5, 6)\n",
    "print(f'Resultado suma: {resultado}')"
   ]
  },
  {
   "cell_type": "markdown",
   "id": "b09e0967",
   "metadata": {},
   "source": [
    "# 3. Decorator"
   ]
  },
  {
   "cell_type": "markdown",
   "id": "156dc76c",
   "metadata": {},
   "source": [
    "## 3.1 İç İçe Fonksiyonlar"
   ]
  },
  {
   "cell_type": "code",
   "execution_count": 44,
   "id": "44a5478c",
   "metadata": {},
   "outputs": [
    {
     "name": "stdout",
     "output_type": "stream",
     "text": [
      "Birinci fonksiyon\n",
      "İkinci fonksiyon\n"
     ]
    }
   ],
   "source": [
    "def fonksiyon1():\n",
    "    def fonksiyon2():\n",
    "        print(\"İkinci fonksiyon\")\n",
    "    print(\"Birinci fonksiyon\")\n",
    "    fonksiyon2()\n",
    "    \n",
    "fonksiyon1()"
   ]
  },
  {
   "cell_type": "code",
   "execution_count": 45,
   "id": "df26727c",
   "metadata": {},
   "outputs": [],
   "source": [
    "def fonksiyon(islem):\n",
    "    def topla(*args):\n",
    "        sonuc = 0\n",
    "        for i in args:\n",
    "            sonuc += i\n",
    "        return sonuc\n",
    "    def carp(*args):\n",
    "        sonuc = 1\n",
    "        for i in args:\n",
    "            sonuc *= i\n",
    "        return sonuc\n",
    "    \n",
    "    if islem == \"toplama\":\n",
    "        return topla\n",
    "    else:\n",
    "        return carp"
   ]
  },
  {
   "cell_type": "code",
   "execution_count": 46,
   "id": "cfb6bbdf",
   "metadata": {},
   "outputs": [
    {
     "data": {
      "text/plain": [
       "14"
      ]
     },
     "execution_count": 46,
     "metadata": {},
     "output_type": "execute_result"
    }
   ],
   "source": [
    "ornek = fonksiyon(\"toplama\")\n",
    "ornek(2,3,4,1,4)"
   ]
  },
  {
   "cell_type": "markdown",
   "id": "bd290f1c",
   "metadata": {},
   "source": [
    "## 3.2 Nasıl Oluşturulur?"
   ]
  },
  {
   "cell_type": "code",
   "execution_count": 47,
   "id": "17aa8346",
   "metadata": {},
   "outputs": [
    {
     "name": "stdout",
     "output_type": "stream",
     "text": [
      "fonksiyon çalışmadan önce\n",
      "fonksiyon çalışıyor\n",
      "fonksiyon çalıştıktan sonra\n"
     ]
    }
   ],
   "source": [
    "def decorator(fonk):\n",
    "    def wrapper():\n",
    "        print(\"fonksiyon çalışmadan önce\")\n",
    "        fonk()\n",
    "        print(\"fonksiyon çalıştıktan sonra\")\n",
    "    return wrapper\n",
    "\n",
    "def fonksiyon():\n",
    "    print(\"fonksiyon çalışıyor\")\n",
    "    \n",
    "fonksiyon2 = decorator(fonksiyon)\n",
    "fonksiyon2()"
   ]
  },
  {
   "cell_type": "code",
   "execution_count": 48,
   "id": "e8e1d82a",
   "metadata": {},
   "outputs": [
    {
     "name": "stdout",
     "output_type": "stream",
     "text": [
      "fonksiyon çalışmadan önce\n",
      "fonksiyon çalışıyor\n",
      "fonksiyon çalıştıktan sonra\n"
     ]
    }
   ],
   "source": [
    "def decorator2(fonk):\n",
    "    def wrapper():\n",
    "        print(\"fonksiyon çalışmadan önce\")\n",
    "        fonk()\n",
    "        print(\"fonksiyon çalıştıktan sonra\")\n",
    "    return wrapper\n",
    "\n",
    "@decorator2\n",
    "def fonksiyon():\n",
    "    print(\"fonksiyon çalışıyor\")\n",
    "    \n",
    "fonksiyon()"
   ]
  },
  {
   "cell_type": "code",
   "execution_count": 49,
   "id": "0eea7e9c",
   "metadata": {
    "scrolled": true
   },
   "outputs": [
    {
     "name": "stdout",
     "output_type": "stream",
     "text": [
      "0\n",
      "1\n",
      "4\n",
      "9\n",
      "16\n",
      "25\n",
      "36\n",
      "49\n",
      "64\n",
      "81\n",
      "İşlem 0.00015497207641601562 saniye sürdü\n",
      "0\n",
      "1\n",
      "8\n",
      "27\n",
      "64\n",
      "125\n",
      "216\n",
      "343\n",
      "512\n",
      "729\n",
      "İşlem 1.3828277587890625e-05 saniye sürdü\n",
      "5\n",
      "İşlem 2.1457672119140625e-06 saniye sürdü\n"
     ]
    }
   ],
   "source": [
    "import time\n",
    "\n",
    "def zamanHesapla(fonk):\n",
    "    def wrapper(*args,**kwargs):\n",
    "        baslangic = time.time()\n",
    "        fonk(*args,**kwargs)\n",
    "        bitis = time.time()\n",
    "        print( f\"İşlem {bitis-baslangic} saniye sürdü\")\n",
    "    return wrapper\n",
    "\n",
    "@zamanHesapla\n",
    "def kareleriAl(liste):\n",
    "    for i in liste:\n",
    "        print(i**2)\n",
    "        \n",
    "@zamanHesapla        \n",
    "def küpünüAl(liste):\n",
    "    for i in liste:\n",
    "        print(i**3)\n",
    "        \n",
    "@zamanHesapla        \n",
    "def topla(a,b):\n",
    "    print(a+b)\n",
    "    \n",
    "kareleriAl(range(0,10))\n",
    "küpünüAl(range(0,10))\n",
    "topla(3,2)"
   ]
  },
  {
   "cell_type": "code",
   "execution_count": 50,
   "id": "cb2a450e",
   "metadata": {},
   "outputs": [
    {
     "name": "stdout",
     "output_type": "stream",
     "text": [
      "1. Se ejecuta decorador\n",
      "Recibimos el objeto de la clase: Persona\n",
      "Firma método __init__: (self, nombre, apellido)\n",
      "Parámetros init: ['nombre', 'apellido']\n",
      "2. Se ejecuta el inicializador\n"
     ]
    }
   ],
   "source": [
    "# Decoradores de Clase\n",
    "# Permiten transformar de manera programática nuestra clase\n",
    "# Es similar a los decoradores de funciones (es metaprogramación)\n",
    "import inspect\n",
    "\n",
    "\n",
    "def decorador_repr(cls):\n",
    "    print('1. Se ejecuta decorador')\n",
    "    print(f'Recibimos el objeto de la clase: {cls.__name__}')\n",
    "\n",
    "    # Revisamos los atributos de la clase con el método vars\n",
    "    atributos = vars(cls)\n",
    "    # Iteramos cada atributo\n",
    "    # for nombre, atributo in atributos.items():\n",
    "    #     print(nombre, atributo)\n",
    "\n",
    "    # Revisamos si se ha sobreescrito el método __init__\n",
    "    if '__init__' not in atributos:\n",
    "        raise TypeError(f'{cls.__name__} no ha sobreescrito el método __init__')\n",
    "\n",
    "    firma_init = inspect.signature(cls.__init__)\n",
    "    print(f'Firma método __init__: {firma_init}')\n",
    "    # Recuperamos los parámetros, excepto el primero que es self\n",
    "    parametros_init = list(firma_init.parameters)[1:]\n",
    "    print(f'Parámetros init: {parametros_init}')\n",
    "\n",
    "    return cls\n",
    "\n",
    "@decorador_repr\n",
    "class Persona:\n",
    "    def __init__(self, nombre, apellido):\n",
    "        print('2. Se ejecuta el inicializador')\n",
    "        self._nombre = nombre\n",
    "        self._apellido = apellido\n",
    "\n",
    "    @property\n",
    "    def nombre(self):\n",
    "        return self._nombre\n",
    "\n",
    "    @property\n",
    "    def apellido(self):\n",
    "        return self._apellido\n",
    "\n",
    "    # def __repr__(self):\n",
    "    #     return f'Persona({self._nombre}, {self._apellido})'\n",
    "\n",
    "persona1 = Persona('Juan','Perez')\n"
   ]
  },
  {
   "cell_type": "code",
   "execution_count": 51,
   "id": "7aa8d255",
   "metadata": {},
   "outputs": [
    {
     "name": "stdout",
     "output_type": "stream",
     "text": [
      "1. Se ejecuta decorador\n",
      "Recibimos el objeto de la clase: Persona\n",
      "Firma método __init__: (self, nombre, apellido)\n",
      "Parámetros init: ['nombre', 'apellido']\n",
      "2. Se ejecuta el inicializador\n",
      "Resultado de ejecutar método repr\n"
     ]
    }
   ],
   "source": [
    "# Decoradores de Clase\n",
    "# Permiten transformar de manera programática nuestra clase\n",
    "# Es similar a los decoradores de funciones (es metaprogramación)\n",
    "import inspect\n",
    "\n",
    "\n",
    "def decorador_repr(cls):\n",
    "    print('1. Se ejecuta decorador')\n",
    "    print(f'Recibimos el objeto de la clase: {cls.__name__}')\n",
    "\n",
    "    # Revisamos los atributos de la clase con el método vars\n",
    "    atributos = vars(cls)\n",
    "    # Iteramos cada atributo\n",
    "    # for nombre, atributo in atributos.items():\n",
    "    #     print(nombre, atributo)\n",
    "\n",
    "    # Revisamos si se ha sobreescrito el método __init__\n",
    "    if '__init__' not in atributos:\n",
    "        raise TypeError(f'{cls.__name__} no ha sobreescrito el método __init__')\n",
    "\n",
    "    firma_init = inspect.signature(cls.__init__)\n",
    "    print(f'Firma método __init__: {firma_init}')\n",
    "    # Recuperamos los parámetros, excepto el primero que es self\n",
    "    parametros_init = list(firma_init.parameters)[1:]\n",
    "    print(f'Parámetros init: {parametros_init}')\n",
    "\n",
    "    # Revisamos si cada parámetro tiene un método property asociado\n",
    "    for parametro in parametros_init:\n",
    "        # property es un valor de tipo built-in para preguntar si\n",
    "        # se está utilizando el decorador property\n",
    "        es_metodo_property = isinstance(atributos.get(parametro), property)\n",
    "        if not es_metodo_property:\n",
    "            raise TypeError(f'No existe un método property para el parámetro: {parametro}')\n",
    "\n",
    "    # Crear el método repr dinámicamente\n",
    "    def metodo_repr(self):\n",
    "        return f'Resultado de ejecutar método repr'\n",
    "\n",
    "    # Agregar dinámicamente el método repr a nuestra clase\n",
    "    setattr(cls,'__repr__', metodo_repr)\n",
    "\n",
    "    return cls\n",
    "\n",
    "@decorador_repr\n",
    "class Persona:\n",
    "    def __init__(self, nombre, apellido):\n",
    "        print('2. Se ejecuta el inicializador')\n",
    "        self._nombre = nombre\n",
    "        self._apellido = apellido\n",
    "\n",
    "    @property\n",
    "    def nombre(self):\n",
    "        return self._nombre\n",
    "\n",
    "    @property\n",
    "    def apellido(self):\n",
    "        return self._apellido\n",
    "\n",
    "    # def __repr__(self):\n",
    "    #     return f'Persona({self._nombre}, {self._apellido})'\n",
    "\n",
    "persona1 = Persona('Juan','Perez')\n",
    "print(persona1)\n"
   ]
  },
  {
   "cell_type": "code",
   "execution_count": 52,
   "id": "d8b8c562",
   "metadata": {},
   "outputs": [
    {
     "name": "stdout",
     "output_type": "stream",
     "text": [
      "1. Se ejecuta decorador\n",
      "Recibimos el objeto de la clase: Persona\n",
      "Firma método __init__: (self, nombre, apellido, edad)\n",
      "Parámetros init: ['nombre', 'apellido', 'edad']\n",
      "2. Se ejecuta el inicializador\n",
      "Nombre clase: Persona\n",
      "Lista del generador: [\"nombre='Juan'\", \"apellido='Perez'\", 'edad=28']\n",
      "Argumentos del método repr: nombre='Juan', apellido='Perez', edad=28\n",
      "Resultado método repr: Persona(nombre='Juan', apellido='Perez', edad=28)\n",
      "Persona(nombre='Juan', apellido='Perez', edad=28)\n",
      "2. Se ejecuta el inicializador\n",
      "Nombre clase: Persona\n",
      "Lista del generador: [\"nombre='Karla'\", \"apellido='Gomez'\", 'edad=30']\n",
      "Argumentos del método repr: nombre='Karla', apellido='Gomez', edad=30\n",
      "Resultado método repr: Persona(nombre='Karla', apellido='Gomez', edad=30)\n",
      "Persona(nombre='Karla', apellido='Gomez', edad=30)\n"
     ]
    }
   ],
   "source": [
    "# Decoradores de Clase\n",
    "# Permiten transformar de manera programática nuestra clase\n",
    "# Es similar a los decoradores de funciones (es metaprogramación)\n",
    "import inspect\n",
    "\n",
    "\n",
    "def decorador_repr(cls):\n",
    "    print('1. Se ejecuta decorador')\n",
    "    print(f'Recibimos el objeto de la clase: {cls.__name__}')\n",
    "\n",
    "    # Revisamos los atributos de la clase con el método vars\n",
    "    atributos = vars(cls)\n",
    "    # Iteramos cada atributo\n",
    "    # for nombre, atributo in atributos.items():\n",
    "    #     print(nombre, atributo)\n",
    "\n",
    "    # Revisamos si se ha sobreescrito el método __init__\n",
    "    if '__init__' not in atributos:\n",
    "        raise TypeError(f'{cls.__name__} no ha sobreescrito el método __init__')\n",
    "\n",
    "    firma_init = inspect.signature(cls.__init__)\n",
    "    print(f'Firma método __init__: {firma_init}')\n",
    "    # Recuperamos los parámetros, excepto el primero que es self\n",
    "    parametros_init = list(firma_init.parameters)[1:]\n",
    "    print(f'Parámetros init: {parametros_init}')\n",
    "\n",
    "    # Revisamos si cada parámetro tiene un método property asociado\n",
    "    for parametro in parametros_init:\n",
    "        # property es un valor de tipo built-in para preguntar si\n",
    "        # se está utilizando el decorador property\n",
    "        es_metodo_property = isinstance(atributos.get(parametro), property)\n",
    "        if not es_metodo_property:\n",
    "            raise TypeError(f'No existe un método property para el parámetro: {parametro}')\n",
    "\n",
    "    # Crear el método repr dinámicamente\n",
    "    def metodo_repr(self):\n",
    "        # Obtenemos el nombre de la clase dinámicamente\n",
    "        nombre_clase = self.__class__.__name__\n",
    "        print(f'Nombre clase: {nombre_clase}')\n",
    "\n",
    "        # Obtenemos los nombres de las propiedades y sus valores dinámicamente\n",
    "        # Expresion Generadora, crear nombre_atr=valor_atr\n",
    "        generador_arg = (f'{nombre}={getattr(self, nombre)!r}' for nombre in parametros_init)\n",
    "        # Lista del generador\n",
    "        lista_arg = list(generador_arg)\n",
    "        print(f'Lista del generador: {lista_arg}')\n",
    "        # Creamos la cadena a partir de la lista de argumentos\n",
    "        argumentos = ', '.join(lista_arg)\n",
    "        print(f'Argumentos del método repr: {argumentos}')\n",
    "        # Creamos la forma del método __repr__, sin su nombre, solo el resultado \n",
    "        resultado_metodo_repr = f'{nombre_clase}({argumentos})'\n",
    "        print(f'Resultado método repr: {resultado_metodo_repr}')\n",
    "        return resultado_metodo_repr\n",
    "\n",
    "    # Agregar dinámicamente el método repr a nuestra clase\n",
    "    setattr(cls,'__repr__', metodo_repr)\n",
    "\n",
    "    return cls\n",
    "\n",
    "@decorador_repr\n",
    "class Persona:\n",
    "    def __init__(self, nombre, apellido, edad):\n",
    "        print('2. Se ejecuta el inicializador')\n",
    "        self._nombre = nombre\n",
    "        self._apellido = apellido\n",
    "        self._edad = edad\n",
    "\n",
    "    @property\n",
    "    def nombre(self):\n",
    "        return self._nombre\n",
    "\n",
    "    @property\n",
    "    def apellido(self):\n",
    "        return self._apellido\n",
    "\n",
    "    @property\n",
    "    def edad(self):\n",
    "        return self._edad\n",
    "\n",
    "    # def __repr__(self):\n",
    "    #     return f'Persona(nombre={self._nombre}, apellido={self._apellido})'\n",
    "\n",
    "persona1 = Persona('Juan','Perez', 28)\n",
    "print(persona1)\n",
    "pesona2 = Persona('Karla','Gomez', 30)\n",
    "print(pesona2)\n"
   ]
  },
  {
   "cell_type": "code",
   "execution_count": 53,
   "id": "baef21bb",
   "metadata": {
    "scrolled": true
   },
   "outputs": [
    {
     "name": "stdout",
     "output_type": "stream",
     "text": [
      "1. Se ejecuta decorador\n",
      "Recibimos el objeto de la clase: Persona\n",
      "Firma método __init__: (self, nombre, apellido, edad)\n",
      "Parámetros init: ['nombre', 'apellido', 'edad']\n",
      "2. Se ejecuta el inicializador\n",
      "Nombre clase: Persona\n",
      "Lista del generador: [\"nombre='Juan'\", \"apellido='Perez'\", 'edad=28']\n",
      "Argumentos del método repr: nombre='Juan', apellido='Perez', edad=28\n",
      "Resultado método repr: Persona(nombre='Juan', apellido='Perez', edad=28)\n",
      "Persona(nombre='Juan', apellido='Perez', edad=28)\n",
      "2. Se ejecuta el inicializador\n",
      "Nombre clase: Persona\n",
      "Lista del generador: [\"nombre='Karla'\", \"apellido='Gomez'\", 'edad=30']\n",
      "Argumentos del método repr: nombre='Karla', apellido='Gomez', edad=30\n",
      "Resultado método repr: Persona(nombre='Karla', apellido='Gomez', edad=30)\n",
      "Persona(nombre='Karla', apellido='Gomez', edad=30)\n",
      "['__class__', '__delattr__', '__dict__', '__dir__', '__doc__', '__eq__', '__format__', '__ge__', '__getattribute__', '__gt__', '__hash__', '__init__', '__init_subclass__', '__le__', '__lt__', '__module__', '__ne__', '__new__', '__reduce__', '__reduce_ex__', '__repr__', '__setattr__', '__sizeof__', '__str__', '__subclasshook__', '__weakref__', 'apellido', 'edad', 'nombre']\n",
      "    def metodo_repr(self):\n",
      "        # Obtenemos el nombre de la clase dinámicamente\n",
      "        nombre_clase = self.__class__.__name__\n",
      "        print(f'Nombre clase: {nombre_clase}')\n",
      "\n",
      "        # Obtenemos los nombres de las propiedades y sus valores dinámicamente\n",
      "        # Expresion Generadora, crear nombre_atr=valor_atr\n",
      "        generador_arg = (f'{nombre}={getattr(self, nombre)!r}' for nombre in parametros_init)\n",
      "        # Lista del generador\n",
      "        lista_arg = list(generador_arg)\n",
      "        print(f'Lista del generador: {lista_arg}')\n",
      "        # Creamos la cadena a partir de la lista de argumentos\n",
      "        argumentos = ', '.join(lista_arg)\n",
      "        print(f'Argumentos del método repr: {argumentos}')\n",
      "        # Creamos la forma del método __repr__, sin su nombre, solo la firma\n",
      "        resultado_metodo_repr = f'{nombre_clase}({argumentos})'\n",
      "        print(f'Resultado método repr: {resultado_metodo_repr}')\n",
      "        return resultado_metodo_repr\n",
      "\n"
     ]
    }
   ],
   "source": [
    "# Decoradores de Clase\n",
    "# Permiten transformar de manera programática nuestra clase\n",
    "# Es similar a los decoradores de funciones (es metaprogramación)\n",
    "import inspect\n",
    "\n",
    "\n",
    "def decorador_repr(cls):\n",
    "    print('1. Se ejecuta decorador')\n",
    "    print(f'Recibimos el objeto de la clase: {cls.__name__}')\n",
    "\n",
    "    # Revisamos los atributos de la clase con el método vars\n",
    "    atributos = vars(cls)\n",
    "    # Iteramos cada atributo\n",
    "    # for nombre, atributo in atributos.items():\n",
    "    #     print(nombre, atributo)\n",
    "\n",
    "    # Revisamos si se ha sobreescrito el método __init__\n",
    "    if '__init__' not in atributos:\n",
    "        raise TypeError(f'{cls.__name__} no ha sobreescrito el método __init__')\n",
    "\n",
    "    firma_init = inspect.signature(cls.__init__)\n",
    "    print(f'Firma método __init__: {firma_init}')\n",
    "    # Recuperamos los parámetros, excepto el primero que es self\n",
    "    parametros_init = list(firma_init.parameters)[1:]\n",
    "    print(f'Parámetros init: {parametros_init}')\n",
    "\n",
    "    # Revisamos si cada parámetro tiene un método property asociado\n",
    "    for parametro in parametros_init:\n",
    "        # property es un valor de tipo built-in para preguntar si\n",
    "        # se está utilizando el decorador property\n",
    "        es_metodo_property = isinstance(atributos.get(parametro), property)\n",
    "        if not es_metodo_property:\n",
    "            raise TypeError(f'No existe un método property para el parámetro: {parametro}')\n",
    "\n",
    "    # Crear el método repr dinámicamente\n",
    "    def metodo_repr(self):\n",
    "        # Obtenemos el nombre de la clase dinámicamente\n",
    "        nombre_clase = self.__class__.__name__\n",
    "        print(f'Nombre clase: {nombre_clase}')\n",
    "\n",
    "        # Obtenemos los nombres de las propiedades y sus valores dinámicamente\n",
    "        # Expresion Generadora, crear nombre_atr=valor_atr\n",
    "        generador_arg = (f'{nombre}={getattr(self, nombre)!r}' for nombre in parametros_init)\n",
    "        # Lista del generador\n",
    "        lista_arg = list(generador_arg)\n",
    "        print(f'Lista del generador: {lista_arg}')\n",
    "        # Creamos la cadena a partir de la lista de argumentos\n",
    "        argumentos = ', '.join(lista_arg)\n",
    "        print(f'Argumentos del método repr: {argumentos}')\n",
    "        # Creamos la forma del método __repr__, sin su nombre, solo la firma\n",
    "        resultado_metodo_repr = f'{nombre_clase}({argumentos})'\n",
    "        print(f'Resultado método repr: {resultado_metodo_repr}')\n",
    "        return resultado_metodo_repr\n",
    "\n",
    "    # Agregar dinámicamente el método repr a nuestra clase\n",
    "    setattr(cls,'__repr__', metodo_repr)\n",
    "\n",
    "    return cls\n",
    "\n",
    "@decorador_repr\n",
    "class Persona:\n",
    "    def __init__(self, nombre, apellido, edad):\n",
    "        print('2. Se ejecuta el inicializador')\n",
    "        self._nombre = nombre\n",
    "        self._apellido = apellido\n",
    "        self._edad = edad\n",
    "\n",
    "    @property\n",
    "    def nombre(self):\n",
    "        return self._nombre\n",
    "\n",
    "    @property\n",
    "    def apellido(self):\n",
    "        return self._apellido\n",
    "\n",
    "    @property\n",
    "    def edad(self):\n",
    "        return self._edad\n",
    "\n",
    "    # def __repr__(self):\n",
    "    #     return f'Persona(nombre={self._nombre}, apellido={self._apellido})'\n",
    "\n",
    "persona1 = Persona('Juan','Perez', 28)\n",
    "print(persona1)\n",
    "pesona2 = Persona('Karla','Gomez', 30)\n",
    "print(pesona2)\n",
    "#Tiene los métodos de propiedad nombre, apellido, repr\n",
    "print(dir(Persona))\n",
    "# Tiene el método repr sobreescrito\n",
    "codigo_repr = inspect.getsource(persona1.__repr__)\n",
    "print(codigo_repr)"
   ]
  },
  {
   "cell_type": "code",
   "execution_count": 54,
   "id": "47b2e7b2",
   "metadata": {},
   "outputs": [
    {
     "name": "stdout",
     "output_type": "stream",
     "text": [
      "1. Se ejecuta decorador\n",
      "Recibimos el objeto de la clase: Persona\n",
      "2. Se ejecuta el inicializador\n"
     ]
    }
   ],
   "source": [
    "# Decoradores de Clase\n",
    "# Permiten transformar de manera programática nuestra clase\n",
    "# Es similar a los decoradores de funciones (es metaprogramación)\n",
    "\n",
    "def decorador_repr(cls):\n",
    "    print('1. Se ejecuta decorador')\n",
    "    print(f'Recibimos el objeto de la clase: {cls.__name__}')\n",
    "    return cls\n",
    "\n",
    "@decorador_repr\n",
    "class Persona:\n",
    "    def __init__(self, nombre, apellido):\n",
    "        print('2. Se ejecuta el inicializador')\n",
    "        self._nombre = nombre\n",
    "        self._apellido = apellido\n",
    "\n",
    "    @property\n",
    "    def nombre(self):\n",
    "        return self._nombre\n",
    "\n",
    "    @property\n",
    "    def apellido(self):\n",
    "        return self._apellido\n",
    "\n",
    "    # def __repr__(self):\n",
    "    #     return f'Persona({self._nombre}, {self._apellido})'\n",
    "\n",
    "persona1 = Persona('Juan','Perez')\n"
   ]
  },
  {
   "cell_type": "code",
   "execution_count": 55,
   "id": "58e0f8cc",
   "metadata": {},
   "outputs": [
    {
     "name": "stdout",
     "output_type": "stream",
     "text": [
      "1. Se ejecuta decorador\n",
      "Recibimos el objeto de la clase: Persona\n",
      "Firma método __init__: (self, nombre, apellido)\n",
      "Parámetros init: ['nombre', 'apellido']\n",
      "2. Se ejecuta el inicializador\n"
     ]
    }
   ],
   "source": [
    "# Decoradores de Clase\n",
    "# Permiten transformar de manera programática nuestra clase\n",
    "# Es similar a los decoradores de funciones (es metaprogramación)\n",
    "import inspect\n",
    "\n",
    "\n",
    "def decorador_repr(cls):\n",
    "    print('1. Se ejecuta decorador')\n",
    "    print(f'Recibimos el objeto de la clase: {cls.__name__}')\n",
    "\n",
    "    # Revisamos los atributos de la clase con el método vars\n",
    "    atributos = vars(cls)\n",
    "    # Iteramos cada atributo\n",
    "    # for nombre, atributo in atributos.items():\n",
    "    #     print(nombre, atributo)\n",
    "\n",
    "    # Revisamos si se ha sobreescrito el método __init__\n",
    "    if '__init__' not in atributos:\n",
    "        raise TypeError(f'{cls.__name__} no ha sobreescrito el método __init__')\n",
    "\n",
    "    firma_init = inspect.signature(cls.__init__)\n",
    "    print(f'Firma método __init__: {firma_init}')\n",
    "    # Recuperamos los parámetros, excepto el primero que es self\n",
    "    parametros_init = list(firma_init.parameters)[1:]\n",
    "    print(f'Parámetros init: {parametros_init}')\n",
    "\n",
    "    return cls\n",
    "\n",
    "@decorador_repr\n",
    "class Persona:\n",
    "    def __init__(self, nombre, apellido):\n",
    "        print('2. Se ejecuta el inicializador')\n",
    "        self._nombre = nombre\n",
    "        self._apellido = apellido\n",
    "\n",
    "    @property\n",
    "    def nombre(self):\n",
    "        return self._nombre\n",
    "\n",
    "    @property\n",
    "    def apellido(self):\n",
    "        return self._apellido\n",
    "\n",
    "    # def __repr__(self):\n",
    "    #     return f'Persona({self._nombre}, {self._apellido})'\n",
    "\n",
    "persona1 = Persona('Juan','Perez')\n"
   ]
  },
  {
   "cell_type": "code",
   "execution_count": 56,
   "id": "c8a3b5a6",
   "metadata": {},
   "outputs": [
    {
     "name": "stdout",
     "output_type": "stream",
     "text": [
      "1. Se ejecuta decorador\n",
      "Recibimos el objeto de la clase: Persona\n",
      "Firma método __init__: (self, nombre, apellido)\n",
      "Parámetros init: ['nombre', 'apellido']\n",
      "2. Se ejecuta el inicializador\n",
      "Resultado de ejecutar método repr\n"
     ]
    }
   ],
   "source": [
    "# Decoradores de Clase\n",
    "# Permiten transformar de manera programática nuestra clase\n",
    "# Es similar a los decoradores de funciones (es metaprogramación)\n",
    "import inspect\n",
    "\n",
    "\n",
    "def decorador_repr(cls):\n",
    "    print('1. Se ejecuta decorador')\n",
    "    print(f'Recibimos el objeto de la clase: {cls.__name__}')\n",
    "\n",
    "    # Revisamos los atributos de la clase con el método vars\n",
    "    atributos = vars(cls)\n",
    "    # Iteramos cada atributo\n",
    "    # for nombre, atributo in atributos.items():\n",
    "    #     print(nombre, atributo)\n",
    "\n",
    "    # Revisamos si se ha sobreescrito el método __init__\n",
    "    if '__init__' not in atributos:\n",
    "        raise TypeError(f'{cls.__name__} no ha sobreescrito el método __init__')\n",
    "\n",
    "    firma_init = inspect.signature(cls.__init__)\n",
    "    print(f'Firma método __init__: {firma_init}')\n",
    "    # Recuperamos los parámetros, excepto el primero que es self\n",
    "    parametros_init = list(firma_init.parameters)[1:]\n",
    "    print(f'Parámetros init: {parametros_init}')\n",
    "\n",
    "    # Revisamos si cada parámetro tiene un método property asociado\n",
    "    for parametro in parametros_init:\n",
    "        # property es un valor de tipo built-in para preguntar si\n",
    "        # se está utilizando el decorador property\n",
    "        es_metodo_property = isinstance(atributos.get(parametro), property)\n",
    "        if not es_metodo_property:\n",
    "            raise TypeError(f'No existe un método property para el parámetro: {parametro}')\n",
    "\n",
    "    # Crear el método repr dinámicamente\n",
    "    def metodo_repr(self):\n",
    "        return f'Resultado de ejecutar método repr'\n",
    "\n",
    "    # Agregar dinámicamente el método repr a nuestra clase\n",
    "    setattr(cls,'__repr__', metodo_repr)\n",
    "\n",
    "    return cls\n",
    "\n",
    "@decorador_repr\n",
    "class Persona:\n",
    "    def __init__(self, nombre, apellido):\n",
    "        print('2. Se ejecuta el inicializador')\n",
    "        self._nombre = nombre\n",
    "        self._apellido = apellido\n",
    "\n",
    "    @property\n",
    "    def nombre(self):\n",
    "        return self._nombre\n",
    "\n",
    "    @property\n",
    "    def apellido(self):\n",
    "        return self._apellido\n",
    "\n",
    "    # def __repr__(self):\n",
    "    #     return f'Persona({self._nombre}, {self._apellido})'\n",
    "\n",
    "persona1 = Persona('Juan','Perez')\n",
    "print(persona1)\n"
   ]
  },
  {
   "cell_type": "code",
   "execution_count": 57,
   "id": "2e0107a6",
   "metadata": {},
   "outputs": [
    {
     "name": "stdout",
     "output_type": "stream",
     "text": [
      "1. Se ejecuta decorador\n",
      "Recibimos el objeto de la clase: Persona\n",
      "Firma método __init__: (self, nombre, apellido, edad)\n",
      "Parámetros init: ['nombre', 'apellido', 'edad']\n",
      "2. Se ejecuta el inicializador\n",
      "Nombre clase: Persona\n",
      "Lista del generador: [\"nombre='Juan'\", \"apellido='Perez'\", 'edad=28']\n",
      "Argumentos del método repr: nombre='Juan', apellido='Perez', edad=28\n",
      "Resultado método repr: Persona(nombre='Juan', apellido='Perez', edad=28)\n",
      "Persona(nombre='Juan', apellido='Perez', edad=28)\n",
      "2. Se ejecuta el inicializador\n",
      "Nombre clase: Persona\n",
      "Lista del generador: [\"nombre='Karla'\", \"apellido='Gomez'\", 'edad=30']\n",
      "Argumentos del método repr: nombre='Karla', apellido='Gomez', edad=30\n",
      "Resultado método repr: Persona(nombre='Karla', apellido='Gomez', edad=30)\n",
      "Persona(nombre='Karla', apellido='Gomez', edad=30)\n",
      "['__class__', '__delattr__', '__dict__', '__dir__', '__doc__', '__eq__', '__format__', '__ge__', '__getattribute__', '__gt__', '__hash__', '__init__', '__init_subclass__', '__le__', '__lt__', '__module__', '__ne__', '__new__', '__reduce__', '__reduce_ex__', '__repr__', '__setattr__', '__sizeof__', '__str__', '__subclasshook__', '__weakref__', 'apellido', 'edad', 'nombre']\n",
      "    def metodo_repr(self):\n",
      "        # Obtenemos el nombre de la clase dinámicamente\n",
      "        nombre_clase = self.__class__.__name__\n",
      "        print(f'Nombre clase: {nombre_clase}')\n",
      "\n",
      "        # Obtenemos los nombres de las propiedades y sus valores dinámicamente\n",
      "        # Expresion Generadora, crear nombre_atr=valor_atr\n",
      "        generador_arg = (f'{nombre}={getattr(self, nombre)!r}' for nombre in parametros_init)\n",
      "        # Lista del generador\n",
      "        lista_arg = list(generador_arg)\n",
      "        print(f'Lista del generador: {lista_arg}')\n",
      "        # Creamos la cadena a partir de la lista de argumentos\n",
      "        argumentos = ', '.join(lista_arg)\n",
      "        print(f'Argumentos del método repr: {argumentos}')\n",
      "        # Creamos la forma del método __repr__, sin su nombre, solo la firma\n",
      "        resultado_metodo_repr = f'{nombre_clase}({argumentos})'\n",
      "        print(f'Resultado método repr: {resultado_metodo_repr}')\n",
      "        return resultado_metodo_repr\n",
      "\n"
     ]
    }
   ],
   "source": [
    "# Decoradores de Clase\n",
    "# Permiten transformar de manera programática nuestra clase\n",
    "# Es similar a los decoradores de funciones (es metaprogramación)\n",
    "import inspect\n",
    "\n",
    "\n",
    "def decorador_repr(cls):\n",
    "    print('1. Se ejecuta decorador')\n",
    "    print(f'Recibimos el objeto de la clase: {cls.__name__}')\n",
    "\n",
    "    # Revisamos los atributos de la clase con el método vars\n",
    "    atributos = vars(cls)\n",
    "    # Iteramos cada atributo\n",
    "    # for nombre, atributo in atributos.items():\n",
    "    #     print(nombre, atributo)\n",
    "\n",
    "    # Revisamos si se ha sobreescrito el método __init__\n",
    "    if '__init__' not in atributos:\n",
    "        raise TypeError(f'{cls.__name__} no ha sobreescrito el método __init__')\n",
    "\n",
    "    firma_init = inspect.signature(cls.__init__)\n",
    "    print(f'Firma método __init__: {firma_init}')\n",
    "    # Recuperamos los parámetros, excepto el primero que es self\n",
    "    parametros_init = list(firma_init.parameters)[1:]\n",
    "    print(f'Parámetros init: {parametros_init}')\n",
    "\n",
    "    # Revisamos si cada parámetro tiene un método property asociado\n",
    "    for parametro in parametros_init:\n",
    "        # property es un valor de tipo built-in para preguntar si\n",
    "        # se está utilizando el decorador property\n",
    "        es_metodo_property = isinstance(atributos.get(parametro), property)\n",
    "        if not es_metodo_property:\n",
    "            raise TypeError(f'No existe un método property para el parámetro: {parametro}')\n",
    "\n",
    "    # Crear el método repr dinámicamente\n",
    "    def metodo_repr(self):\n",
    "        # Obtenemos el nombre de la clase dinámicamente\n",
    "        nombre_clase = self.__class__.__name__\n",
    "        print(f'Nombre clase: {nombre_clase}')\n",
    "\n",
    "        # Obtenemos los nombres de las propiedades y sus valores dinámicamente\n",
    "        # Expresion Generadora, crear nombre_atr=valor_atr\n",
    "        generador_arg = (f'{nombre}={getattr(self, nombre)!r}' for nombre in parametros_init)\n",
    "        # Lista del generador\n",
    "        lista_arg = list(generador_arg)\n",
    "        print(f'Lista del generador: {lista_arg}')\n",
    "        # Creamos la cadena a partir de la lista de argumentos\n",
    "        argumentos = ', '.join(lista_arg)\n",
    "        print(f'Argumentos del método repr: {argumentos}')\n",
    "        # Creamos la forma del método __repr__, sin su nombre, solo la firma\n",
    "        resultado_metodo_repr = f'{nombre_clase}({argumentos})'\n",
    "        print(f'Resultado método repr: {resultado_metodo_repr}')\n",
    "        return resultado_metodo_repr\n",
    "\n",
    "    # Agregar dinámicamente el método repr a nuestra clase\n",
    "    setattr(cls,'__repr__', metodo_repr)\n",
    "\n",
    "    return cls\n",
    "\n",
    "@decorador_repr\n",
    "class Persona:\n",
    "    def __init__(self, nombre, apellido, edad):\n",
    "        print('2. Se ejecuta el inicializador')\n",
    "        self._nombre = nombre\n",
    "        self._apellido = apellido\n",
    "        self._edad = edad\n",
    "\n",
    "    @property\n",
    "    def nombre(self):\n",
    "        return self._nombre\n",
    "\n",
    "    @property\n",
    "    def apellido(self):\n",
    "        return self._apellido\n",
    "\n",
    "    @property\n",
    "    def edad(self):\n",
    "        return self._edad\n",
    "\n",
    "    # def __repr__(self):\n",
    "    #     return f'Persona(nombre={self._nombre}, apellido={self._apellido})'\n",
    "\n",
    "persona1 = Persona('Juan','Perez', 28)\n",
    "print(persona1)\n",
    "pesona2 = Persona('Karla','Gomez', 30)\n",
    "print(pesona2)\n",
    "#Tiene los métodos de propiedad nombre, apellido, repr\n",
    "print(dir(Persona))\n",
    "# Tiene el método repr sobreescrito\n",
    "codigo_repr = inspect.getsource(persona1.__repr__)\n",
    "print(codigo_repr)"
   ]
  },
  {
   "cell_type": "code",
   "execution_count": 58,
   "id": "d3a4399c",
   "metadata": {},
   "outputs": [
    {
     "name": "stdout",
     "output_type": "stream",
     "text": [
      "Persona(nombre='Juan', apellido='Perez')\n",
      "Variable clase: 0\n",
      "Variables de instancia: {'nombre': 'Juan', 'apellido': 'Perez'}\n",
      "Persona vacía: Persona(nombre='Karla', apellido='')\n"
     ]
    }
   ],
   "source": [
    "from dataclasses import dataclass\n",
    "from typing import ClassVar\n",
    "\n",
    "\n",
    "@dataclass\n",
    "class Persona:\n",
    "    nombre: str\n",
    "    apellido: str\n",
    "    contador_personas: ClassVar[int] = 0\n",
    "\n",
    "    def __post_init__(self):\n",
    "        if not self.nombre:\n",
    "            raise ValueError(f'Valor nombre vacío: {self.nombre}')\n",
    "\n",
    "persona1 = Persona('Juan','Perez')\n",
    "print(f'{persona1!r}')\n",
    "# Variable de clase\n",
    "print(f'Variable clase: {Persona.contador_personas}')\n",
    "# Variables de instancia\n",
    "print(f'Variables de instancia: {persona1.__dict__}')\n",
    "# Variable con valores vacíos\n",
    "persona_vacia = Persona('Karla','')\n",
    "print(f'Persona vacía: {persona_vacia}')"
   ]
  },
  {
   "cell_type": "code",
   "execution_count": 59,
   "id": "f680cf99",
   "metadata": {},
   "outputs": [
    {
     "name": "stdout",
     "output_type": "stream",
     "text": [
      "Persona(nombre='Juan', apellido='Perez', domicilio=Domicilio(calle='Saturno', numero=15))\n",
      "Variable clase: 0\n",
      "Variables de instancia: {'nombre': 'Juan', 'apellido': 'Perez', 'domicilio': Domicilio(calle='Saturno', numero=15)}\n",
      "Persona vacía: Persona(nombre='Karla', apellido='', domicilio=None)\n",
      "Objetos iguales?: True\n",
      "{Persona(nombre='Juan', apellido='Perez', domicilio=Domicilio(calle='Saturno', numero=15))}\n"
     ]
    }
   ],
   "source": [
    "from dataclasses import dataclass\n",
    "from typing import ClassVar\n",
    "\n",
    "@dataclass(eq=True, frozen=True)\n",
    "class Domicilio:\n",
    "    calle: str\n",
    "    numero: int = 0\n",
    "\n",
    "@dataclass(eq=True, frozen=True)\n",
    "class Persona:\n",
    "    nombre: str\n",
    "    apellido: str\n",
    "    domicilio: Domicilio\n",
    "    contador_personas: ClassVar[int] = 0\n",
    "\n",
    "    def __post_init__(self):\n",
    "        if not self.nombre:\n",
    "            raise ValueError(f'Valor nombre vacío: {self.nombre}')\n",
    "\n",
    "domicilio1 = Domicilio('Saturno', 15)\n",
    "persona1 = Persona('Juan','Perez', domicilio1)\n",
    "print(f'{persona1!r}')\n",
    "# Variable de clase\n",
    "print(f'Variable clase: {Persona.contador_personas}')\n",
    "# Variables de instancia\n",
    "print(f'Variables de instancia: {persona1.__dict__}')\n",
    "# Variable con valores vacíos\n",
    "persona_vacia = Persona('Karla','', None)\n",
    "print(f'Persona vacía: {persona_vacia}')\n",
    "# Revisar igualdad entre objetos (__eq__)\n",
    "persona2 = Persona('Juan','Perez', Domicilio('Saturno', 15))\n",
    "print(f'Objetos iguales?: {persona1 == persona2}')\n",
    "# Agregar esta clase a una colecciones\n",
    "coleccion = {persona1, persona2}\n",
    "print(coleccion)\n",
    "# Frozen = True\n",
    "# coleccion[0].nombre='Juan Carlos'\n",
    "# persona1.nombre = 'Juan Carlos'\n"
   ]
  },
  {
   "cell_type": "code",
   "execution_count": null,
   "id": "5cefae0b",
   "metadata": {},
   "outputs": [],
   "source": []
  }
 ],
 "metadata": {
  "kernelspec": {
   "display_name": "Python 3 (ipykernel)",
   "language": "python",
   "name": "python3"
  },
  "language_info": {
   "codemirror_mode": {
    "name": "ipython",
    "version": 3
   },
   "file_extension": ".py",
   "mimetype": "text/x-python",
   "name": "python",
   "nbconvert_exporter": "python",
   "pygments_lexer": "ipython3",
   "version": "3.10.9"
  }
 },
 "nbformat": 4,
 "nbformat_minor": 5
}
