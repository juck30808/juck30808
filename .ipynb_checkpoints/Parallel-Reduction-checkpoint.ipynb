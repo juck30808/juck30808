{
 "cells": [
  {
   "cell_type": "markdown",
   "id": "f912a1ad",
   "metadata": {},
   "source": [
    "## Reduction\n",
    "通過將每個值添加到運行總數中，數字列表已減少為總數。"
   ]
  },
  {
   "cell_type": "code",
   "execution_count": 1,
   "id": "c6b58939",
   "metadata": {},
   "outputs": [
    {
     "data": {
      "text/plain": [
       "[7, 9, 11, 13, 15]"
      ]
     },
     "execution_count": 1,
     "metadata": {},
     "output_type": "execute_result"
    }
   ],
   "source": [
    "def add(x, y):\n",
    "    \"\"\"Function to return the sum of x and y\"\"\"\n",
    "    return x + y\n",
    "a = [1, 2, 3, 4, 5]\n",
    "b = [6, 7, 8, 9, 10]\n",
    "result = map(add, a, b)\n",
    "\n",
    "list(result)"
   ]
  },
  {
   "cell_type": "code",
   "execution_count": 2,
   "id": "c4ae693c",
   "metadata": {},
   "outputs": [
    {
     "name": "stdout",
     "output_type": "stream",
     "text": [
      "Total = 55\n"
     ]
    }
   ],
   "source": [
    "total = 0\n",
    "result = map(add, a, b)\n",
    "\n",
    "for i in result:\n",
    "    total += i\n",
    "\n",
    "print(\"Total = %s\" % total)"
   ]
  },
  {
   "cell_type": "markdown",
   "id": "e2252967",
   "metadata": {},
   "source": [
    "## Add cumulatively "
   ]
  },
  {
   "cell_type": "markdown",
   "id": "00912d06",
   "metadata": {},
   "source": [
    "Python functools std reduce function： Python’s reduce applies the reduction function (in this case is add function) \n",
    "\n",
    "- total = 10\n",
    "- total = add(total, 1)\n",
    "- total = add(total, 2)\n",
    "- total = add(total, 3)\n",
    "- total = add(total, 4)\n",
    "- total = add(total, 5)\n",
    "- (((((10+1)+2)+3)+4)+5) ."
   ]
  },
  {
   "cell_type": "code",
   "execution_count": 3,
   "id": "69aae84d",
   "metadata": {},
   "outputs": [
    {
     "data": {
      "text/plain": [
       "55"
      ]
     },
     "execution_count": 3,
     "metadata": {},
     "output_type": "execute_result"
    }
   ],
   "source": [
    "from functools import reduce\n",
    "result = map(add, a, b)\n",
    "reduce(add, result)"
   ]
  },
  {
   "cell_type": "code",
   "execution_count": 4,
   "id": "3d9a7c3d",
   "metadata": {},
   "outputs": [
    {
     "data": {
      "text/plain": [
       "25"
      ]
     },
     "execution_count": 4,
     "metadata": {},
     "output_type": "execute_result"
    }
   ],
   "source": [
    "a = [1, 2, 3, 4, 5]\n",
    "reduce(add, a, 10)"
   ]
  },
  {
   "cell_type": "markdown",
   "id": "fa43f03e",
   "metadata": {},
   "source": [
    "## Multiply cumulatively\n",
    "\n",
    "use reduce to calculate the product of all of the values in the list. \n",
    "\n",
    "- total = multiply(1, 2)\n",
    "- total = multiply(total, 3)\n",
    "- total = multiply(total, 4)\n",
    "- total = multiply(total, 5)\n",
    "- it set total equal to  ((((1×2)×3)×4)×5)=120 ."
   ]
  },
  {
   "cell_type": "code",
   "execution_count": 5,
   "id": "ac5973e5",
   "metadata": {},
   "outputs": [
    {
     "data": {
      "text/plain": [
       "120"
      ]
     },
     "execution_count": 5,
     "metadata": {},
     "output_type": "execute_result"
    }
   ],
   "source": [
    "def multiply(x, y):\n",
    "    \"\"\"Return the product of the two arguments\"\"\"\n",
    "    return x * y\n",
    "\n",
    "reduce(multiply, a)"
   ]
  },
  {
   "cell_type": "code",
   "execution_count": 6,
   "id": "1d0240ca",
   "metadata": {},
   "outputs": [
    {
     "data": {
      "text/plain": [
       "'cat dog mouse fish'"
      ]
     },
     "execution_count": 6,
     "metadata": {},
     "output_type": "execute_result"
    }
   ],
   "source": [
    "def join_strings(x, y):\n",
    "    return f\"{x} {y}\"\n",
    "\n",
    "a = [\"cat\", \"dog\", \"mouse\", \"fish\"]\n",
    "\n",
    "reduce(join_strings, a)"
   ]
  }
 ],
 "metadata": {
  "kernelspec": {
   "display_name": "Python 3 (ipykernel)",
   "language": "python",
   "name": "python3"
  },
  "language_info": {
   "codemirror_mode": {
    "name": "ipython",
    "version": 3
   },
   "file_extension": ".py",
   "mimetype": "text/x-python",
   "name": "python",
   "nbconvert_exporter": "python",
   "pygments_lexer": "ipython3",
   "version": "3.9.7"
  }
 },
 "nbformat": 4,
 "nbformat_minor": 5
}
