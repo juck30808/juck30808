{
 "cells": [
  {
   "cell_type": "markdown",
   "id": "e2dbbfec",
   "metadata": {},
   "source": [
    "## 容器的概念 Collections\n",
    "\n",
    "Python的容器不光是看起來長的不一樣而已，而是真的在屬性上有所不同。拿日常生活中的「容器」打個比方吧，就像你平常不會拿馬克杯來泡泡麵，拿大碗公來泡咖啡，Python內的容器也有它們適合使用的時機。"
   ]
  },
  {
   "cell_type": "markdown",
   "id": "547d64c0",
   "metadata": {},
   "source": [
    "## 客製化的容器 Collections"
   ]
  },
  {
   "cell_type": "code",
   "execution_count": 1,
   "id": "56f7602b",
   "metadata": {},
   "outputs": [
    {
     "name": "stdout",
     "output_type": "stream",
     "text": [
      "Marcelo 31\n"
     ]
    }
   ],
   "source": [
    "import collections\n",
    "player = collections.namedtuple(\"player\", [\"name\", \"age\", \"country\"])\n",
    "\n",
    "# objects of newtuple\n",
    "p1 = player(\"Fred\", 28, \"Brazil\")\n",
    "p2 = player(\"Marcelo\", 31, \"Brazil\")\n",
    "\n",
    "# print(p1.age)\n",
    "print(p2.name, p2.age)"
   ]
  },
  {
   "cell_type": "code",
   "execution_count": 2,
   "id": "0c3f956d",
   "metadata": {},
   "outputs": [
    {
     "name": "stdout",
     "output_type": "stream",
     "text": [
      "X: 70\n",
      "Y: 75\n",
      "E: 77\n",
      "M: 79\n"
     ]
    }
   ],
   "source": [
    "import collections\n",
    "\n",
    "firstD = collections.OrderedDict()\n",
    "firstD[\"X:\"] = 70\n",
    "firstD[\"Y:\"] = 75\n",
    "firstD[\"E:\"] = 77\n",
    "firstD[\"M:\"] = 79\n",
    "\n",
    "for k,v in firstD.items():\n",
    "    print(k,v)"
   ]
  },
  {
   "cell_type": "markdown",
   "id": "75c56e0e",
   "metadata": {},
   "source": [
    "### 容器介紹一、namedtuple()-可命名屬性的元組\n",
    "\n",
    "我們用元組表示一個人的國、英、數三科的分數，例如說(9, 6, 11)表示國文9級分，英文6級分，數學11級分，\n",
    "然而當我們開發大型程式時，可能看到(9, 6, 11)具體並不記得這是什麼東西，這時，使用namedtuple()便可以讓我們為每個分量做命名了。"
   ]
  },
  {
   "cell_type": "code",
   "execution_count": 3,
   "id": "27ea1b56",
   "metadata": {},
   "outputs": [
    {
     "name": "stdout",
     "output_type": "stream",
     "text": [
      "Score(Chinese=9, English=6, math=11)\n",
      "9\n"
     ]
    }
   ],
   "source": [
    "from collections import namedtuple\n",
    "Score = namedtuple('Score', ['Chinese', 'English', 'math'])\n",
    "s1 = Score(9, 6, 11)\n",
    "print(s1)\n",
    "print(s1.Chinese)"
   ]
  },
  {
   "cell_type": "markdown",
   "id": "40d88dbf",
   "metadata": {},
   "source": [
    "### 容器介紹二、deque()- 高效的在列表兩端刪增元素\n",
    "\n",
    "deque是個類似列表(list)的容器，它實現了高效率的在容器的左、右兩端新增或刪除元素，因此適合用來做為資料結構上的stack或queue來使用。\n",
    "\n",
    "- append(x) 添加x到右端\n",
    "- appendleft(x) 添加x到左端\n",
    "- pop(x) 移除並返回deque最右端的元素\n",
    "- popleft(x) 移除並返回deque最右端的元素"
   ]
  },
  {
   "cell_type": "code",
   "execution_count": 4,
   "id": "7ddf64c6",
   "metadata": {},
   "outputs": [],
   "source": [
    "from collections import deque\n",
    "numbers=deque()"
   ]
  },
  {
   "cell_type": "code",
   "execution_count": 5,
   "id": "a01bb203",
   "metadata": {},
   "outputs": [
    {
     "data": {
      "text/plain": [
       "deque([23, 45, 12, 54])"
      ]
     },
     "execution_count": 5,
     "metadata": {},
     "output_type": "execute_result"
    }
   ],
   "source": [
    "#Adding items\n",
    "#Push\n",
    "numbers.append(23)\n",
    "numbers.append(45)\n",
    "numbers.append(12)\n",
    "numbers.append(54)\n",
    "numbers"
   ]
  },
  {
   "cell_type": "code",
   "execution_count": 6,
   "id": "85609da3",
   "metadata": {},
   "outputs": [
    {
     "data": {
      "text/plain": [
       "54"
      ]
     },
     "execution_count": 6,
     "metadata": {},
     "output_type": "execute_result"
    }
   ],
   "source": [
    "#Removing items\n",
    "#Pop\n",
    "numbers.pop()"
   ]
  },
  {
   "cell_type": "code",
   "execution_count": 7,
   "id": "0af3865c",
   "metadata": {
    "scrolled": true
   },
   "outputs": [
    {
     "data": {
      "text/plain": [
       "12"
      ]
     },
     "execution_count": 7,
     "metadata": {},
     "output_type": "execute_result"
    }
   ],
   "source": [
    "numbers.pop()"
   ]
  },
  {
   "cell_type": "code",
   "execution_count": 8,
   "id": "0341ec52",
   "metadata": {},
   "outputs": [
    {
     "data": {
      "text/plain": [
       "deque([])"
      ]
     },
     "execution_count": 8,
     "metadata": {},
     "output_type": "execute_result"
    }
   ],
   "source": [
    "from collections import deque\n",
    "colas = deque()\n",
    "colas"
   ]
  },
  {
   "cell_type": "code",
   "execution_count": 9,
   "id": "d7b5b587",
   "metadata": {},
   "outputs": [
    {
     "data": {
      "text/plain": [
       "collections.deque"
      ]
     },
     "execution_count": 9,
     "metadata": {},
     "output_type": "execute_result"
    }
   ],
   "source": [
    "type(colas)"
   ]
  },
  {
   "cell_type": "code",
   "execution_count": 10,
   "id": "d53d7b12",
   "metadata": {},
   "outputs": [
    {
     "data": {
      "text/plain": [
       "deque(['Alvaro', 'Estudiantes', 'Familia', 'Genios'])"
      ]
     },
     "execution_count": 10,
     "metadata": {},
     "output_type": "execute_result"
    }
   ],
   "source": [
    "colas = deque(['Alvaro','Estudiantes','Familia','Genios'])\n",
    "colas"
   ]
  },
  {
   "cell_type": "code",
   "execution_count": 11,
   "id": "c9160c03",
   "metadata": {},
   "outputs": [
    {
     "data": {
      "text/plain": [
       "'Genios'"
      ]
     },
     "execution_count": 11,
     "metadata": {},
     "output_type": "execute_result"
    }
   ],
   "source": [
    "colas.pop()"
   ]
  },
  {
   "cell_type": "code",
   "execution_count": 12,
   "id": "52859db5",
   "metadata": {},
   "outputs": [
    {
     "data": {
      "text/plain": [
       "deque(['Estudiantes', 'Familia'])"
      ]
     },
     "execution_count": 12,
     "metadata": {},
     "output_type": "execute_result"
    }
   ],
   "source": [
    "colas.popleft()\n",
    "colas"
   ]
  },
  {
   "cell_type": "code",
   "execution_count": 13,
   "id": "ed60de36",
   "metadata": {},
   "outputs": [],
   "source": [
    "from collections import deque\n",
    "names=deque()"
   ]
  },
  {
   "cell_type": "code",
   "execution_count": 14,
   "id": "67b2fbd9",
   "metadata": {},
   "outputs": [
    {
     "name": "stdout",
     "output_type": "stream",
     "text": [
      "deque(['Radhika', 'Shyam', 'Ravi', 'Shivani'])\n"
     ]
    }
   ],
   "source": [
    "#Adding items\n",
    "#Enqueue\n",
    "names.append(\"Radhika\")\n",
    "names.append(\"Shyam\")\n",
    "names.append('Ravi')\n",
    "names.append(\"Shivani\")\n",
    "print(names)"
   ]
  },
  {
   "cell_type": "code",
   "execution_count": 15,
   "id": "2e53ac94",
   "metadata": {},
   "outputs": [
    {
     "data": {
      "text/plain": [
       "'Radhika'"
      ]
     },
     "execution_count": 15,
     "metadata": {},
     "output_type": "execute_result"
    }
   ],
   "source": [
    "#Removing items\n",
    "#dequeue\n",
    "names.popleft()"
   ]
  },
  {
   "cell_type": "code",
   "execution_count": 16,
   "id": "df09a0e9",
   "metadata": {},
   "outputs": [
    {
     "name": "stdout",
     "output_type": "stream",
     "text": [
      "deque(['python', 'java', 'php'])\n",
      "deque(['python', 'java', 'php', 'ruby'])\n",
      "python\n",
      "deque(['java', 'php', 'ruby'])\n"
     ]
    }
   ],
   "source": [
    "from collections import deque\n",
    "queue=deque([\"python\",\"java\",\"php\"])\n",
    "print(queue)\n",
    "queue.append(\"ruby\")\n",
    "print(queue)\n",
    "print(queue.popleft())\n",
    "print(queue)"
   ]
  },
  {
   "cell_type": "code",
   "execution_count": 17,
   "id": "bf9d3b79",
   "metadata": {},
   "outputs": [
    {
     "name": "stdout",
     "output_type": "stream",
     "text": [
      "['python', 'php', 'java', 'ruby', 'C++']\n",
      "C++\n",
      "['python', 'php', 'java', 'ruby']\n",
      "ruby\n",
      "['python', 'php', 'java']\n"
     ]
    }
   ],
   "source": [
    "stack=[\"python\",\"php\",\"java\"]\n",
    "stack.append(\"ruby\")\n",
    "stack.append(\"C++\")\n",
    "print(stack)\n",
    "print(stack.pop())\n",
    "print(stack)\n",
    "print(stack.pop())\n",
    "print(stack)"
   ]
  },
  {
   "cell_type": "code",
   "execution_count": 18,
   "id": "e9000e2c",
   "metadata": {},
   "outputs": [
    {
     "name": "stdout",
     "output_type": "stream",
     "text": [
      "Total time= 0.078699 seconds\n",
      "Total time= 0.081514 seconds\n"
     ]
    }
   ],
   "source": [
    "# deque vs list 效率\n",
    "from collections import deque\n",
    "import time\n",
    "\n",
    "# 測試list的插入效能\n",
    "tStart = time.time()#計時開始\n",
    "myList = []\n",
    "for i in range(10**6):\n",
    "    myList.append(i)\n",
    "tEnd = time.time()#計時結束\n",
    "print(\"Total time= %f seconds\" % (tEnd - tStart))\n",
    "\n",
    "# 測試deque的插入效能\n",
    "tStart = time.time()#計時開始\n",
    "myDeque = deque()\n",
    "for i in range(10**6):\n",
    "    myDeque.append(i)\n",
    "tEnd = time.time()#計時結束\n",
    "print(\"Total time= %f seconds\" % (tEnd - tStart))"
   ]
  },
  {
   "cell_type": "code",
   "execution_count": 19,
   "id": "afbd8b08",
   "metadata": {},
   "outputs": [
    {
     "name": "stdout",
     "output_type": "stream",
     "text": [
      "Total time= 1.641978 seconds\n",
      "Total time= 0.015591 seconds\n"
     ]
    }
   ],
   "source": [
    "from collections import deque\n",
    "import time\n",
    "\n",
    "# 測試list的插入效能\n",
    "tStart = time.time()#計時開始\n",
    "myList = []\n",
    "for i in range(10**5):\n",
    "    myList.insert(0,i)\n",
    "tEnd = time.time()#計時結束\n",
    "print(\"Total time= %f seconds\" % (tEnd - tStart))\n",
    "\n",
    "# 測試deque的插入效能\n",
    "tStart = time.time()#計時開始\n",
    "myDeque = deque()\n",
    "for i in range(10**5):\n",
    "    myDeque.appendleft(i)\n",
    "tEnd = time.time()#計時結束\n",
    "print(\"Total time= %f seconds\" % (tEnd - tStart))"
   ]
  },
  {
   "cell_type": "markdown",
   "id": "b1c56df9",
   "metadata": {},
   "source": [
    "### 容器介紹三、defaultdict()- 有默認值的字典\n",
    "\n",
    "我們可能會想到說可以用一個字典(dict)來統計列表中每個元素的個數"
   ]
  },
  {
   "cell_type": "code",
   "execution_count": 20,
   "id": "3d340b40",
   "metadata": {},
   "outputs": [
    {
     "name": "stdout",
     "output_type": "stream",
     "text": [
      "{'A': 4, 'B': 3, 'C': 3}\n"
     ]
    }
   ],
   "source": [
    "myList = ['A','B','A','A','B','B','A','C','C','C']\n",
    "count = {} #{}表示一個空字典\n",
    "for element in myList:\n",
    "    if element not in count:\n",
    "        count[element] = 1\n",
    "    else:\n",
    "        count[element] += 1\n",
    "print(count)"
   ]
  },
  {
   "cell_type": "code",
   "execution_count": 21,
   "id": "8ef627ee",
   "metadata": {},
   "outputs": [
    {
     "name": "stdout",
     "output_type": "stream",
     "text": [
      "defaultdict(<function <lambda> at 0x7fd8c00fc9d0>, {'A': 4, 'B': 3, 'C': 3})\n"
     ]
    }
   ],
   "source": [
    "from collections import defaultdict\n",
    "myList = ['A','B','A','A','B','B','A','C','C','C']\n",
    "count = defaultdict(lambda: 0)\n",
    "for element in myList:\n",
    "    count[element] += 1\n",
    "print(count)"
   ]
  },
  {
   "cell_type": "markdown",
   "id": "21a64582",
   "metadata": {},
   "source": [
    "### 容器介紹四、Counter()- 計數小幫手\n",
    "\n",
    "說到計數功能的話，還是使用Counter最直接了。\n",
    "Counter也可以把它想成是字典的一種，\n",
    "不過跟defaultdict比起來，\n",
    "Counter多了一些專為計數而設的功能，\n",
    "因此若是要統計個數的話Counter比defaultdict好用太多啦"
   ]
  },
  {
   "cell_type": "code",
   "execution_count": 22,
   "id": "9cf5aefd",
   "metadata": {},
   "outputs": [
    {
     "name": "stdout",
     "output_type": "stream",
     "text": [
      "Counter({'A': 4, 'B': 3, 'C': 3})\n",
      "4\n",
      "0\n",
      "[('A', 4), ('B', 3)]\n"
     ]
    }
   ],
   "source": [
    "from collections import Counter\n",
    "myList = ['A','B','A','A','B','B','A','C','C','C']\n",
    "count = Counter(myList)\n",
    "print(count)\n",
    "print(count['A'])\n",
    "print(count['D']) #對於不存在的值默認為0\n",
    "print(count.most_common(2)) #找出出現次數最高的兩個元素"
   ]
  },
  {
   "cell_type": "code",
   "execution_count": 23,
   "id": "cf4455cb",
   "metadata": {},
   "outputs": [
    {
     "data": {
      "text/html": [
       "<div>\n",
       "<style scoped>\n",
       "    .dataframe tbody tr th:only-of-type {\n",
       "        vertical-align: middle;\n",
       "    }\n",
       "\n",
       "    .dataframe tbody tr th {\n",
       "        vertical-align: top;\n",
       "    }\n",
       "\n",
       "    .dataframe thead th {\n",
       "        text-align: right;\n",
       "    }\n",
       "</style>\n",
       "<table border=\"1\" class=\"dataframe\">\n",
       "  <thead>\n",
       "    <tr style=\"text-align: right;\">\n",
       "      <th></th>\n",
       "      <th>Sepal Length</th>\n",
       "      <th>Sepal Width</th>\n",
       "      <th>Petal Length</th>\n",
       "      <th>Petal Width</th>\n",
       "      <th>class</th>\n",
       "    </tr>\n",
       "  </thead>\n",
       "  <tbody>\n",
       "    <tr>\n",
       "      <th>0</th>\n",
       "      <td>5.1</td>\n",
       "      <td>3.5</td>\n",
       "      <td>1.4</td>\n",
       "      <td>0.2</td>\n",
       "      <td>Iris-setosa</td>\n",
       "    </tr>\n",
       "    <tr>\n",
       "      <th>1</th>\n",
       "      <td>4.9</td>\n",
       "      <td>3.0</td>\n",
       "      <td>1.4</td>\n",
       "      <td>0.2</td>\n",
       "      <td>Iris-setosa</td>\n",
       "    </tr>\n",
       "    <tr>\n",
       "      <th>2</th>\n",
       "      <td>4.7</td>\n",
       "      <td>3.2</td>\n",
       "      <td>1.3</td>\n",
       "      <td>0.2</td>\n",
       "      <td>Iris-setosa</td>\n",
       "    </tr>\n",
       "    <tr>\n",
       "      <th>3</th>\n",
       "      <td>4.6</td>\n",
       "      <td>3.1</td>\n",
       "      <td>1.5</td>\n",
       "      <td>0.2</td>\n",
       "      <td>Iris-setosa</td>\n",
       "    </tr>\n",
       "    <tr>\n",
       "      <th>4</th>\n",
       "      <td>5.0</td>\n",
       "      <td>3.6</td>\n",
       "      <td>1.4</td>\n",
       "      <td>0.2</td>\n",
       "      <td>Iris-setosa</td>\n",
       "    </tr>\n",
       "  </tbody>\n",
       "</table>\n",
       "</div>"
      ],
      "text/plain": [
       "   Sepal Length  Sepal Width  Petal Length  Petal Width        class\n",
       "0           5.1          3.5           1.4          0.2  Iris-setosa\n",
       "1           4.9          3.0           1.4          0.2  Iris-setosa\n",
       "2           4.7          3.2           1.3          0.2  Iris-setosa\n",
       "3           4.6          3.1           1.5          0.2  Iris-setosa\n",
       "4           5.0          3.6           1.4          0.2  Iris-setosa"
      ]
     },
     "execution_count": 23,
     "metadata": {},
     "output_type": "execute_result"
    }
   ],
   "source": [
    "import pandas as pd\n",
    "from collections import Counter\n",
    "df = pd.read_csv(\"input/iris.csv\")\n",
    "df.head()"
   ]
  },
  {
   "cell_type": "code",
   "execution_count": 24,
   "id": "eb8e0244",
   "metadata": {},
   "outputs": [
    {
     "data": {
      "text/plain": [
       "Counter({'Iris-setosa': 50, 'Iris-versicolor': 50, 'Iris-virginica': 50})"
      ]
     },
     "execution_count": 24,
     "metadata": {},
     "output_type": "execute_result"
    }
   ],
   "source": [
    "count_class = Counter(df[\"class\"])\n",
    "count_class"
   ]
  },
  {
   "cell_type": "code",
   "execution_count": 25,
   "id": "eeca60c8",
   "metadata": {},
   "outputs": [
    {
     "data": {
      "text/html": [
       "<div>\n",
       "<style scoped>\n",
       "    .dataframe tbody tr th:only-of-type {\n",
       "        vertical-align: middle;\n",
       "    }\n",
       "\n",
       "    .dataframe tbody tr th {\n",
       "        vertical-align: top;\n",
       "    }\n",
       "\n",
       "    .dataframe thead th {\n",
       "        text-align: right;\n",
       "    }\n",
       "</style>\n",
       "<table border=\"1\" class=\"dataframe\">\n",
       "  <thead>\n",
       "    <tr style=\"text-align: right;\">\n",
       "      <th></th>\n",
       "      <th>Count</th>\n",
       "    </tr>\n",
       "  </thead>\n",
       "  <tbody>\n",
       "    <tr>\n",
       "      <th>Iris-setosa</th>\n",
       "      <td>50</td>\n",
       "    </tr>\n",
       "    <tr>\n",
       "      <th>Iris-versicolor</th>\n",
       "      <td>50</td>\n",
       "    </tr>\n",
       "    <tr>\n",
       "      <th>Iris-virginica</th>\n",
       "      <td>50</td>\n",
       "    </tr>\n",
       "  </tbody>\n",
       "</table>\n",
       "</div>"
      ],
      "text/plain": [
       "                 Count\n",
       "Iris-setosa         50\n",
       "Iris-versicolor     50\n",
       "Iris-virginica      50"
      ]
     },
     "execution_count": 25,
     "metadata": {},
     "output_type": "execute_result"
    }
   ],
   "source": [
    "df2 = pd.DataFrame.from_dict(count_class,orient='index',columns=[\"Count\"])\n",
    "df2"
   ]
  },
  {
   "cell_type": "code",
   "execution_count": 26,
   "id": "4758003d",
   "metadata": {},
   "outputs": [
    {
     "data": {
      "text/html": [
       "<div>\n",
       "<style scoped>\n",
       "    .dataframe tbody tr th:only-of-type {\n",
       "        vertical-align: middle;\n",
       "    }\n",
       "\n",
       "    .dataframe tbody tr th {\n",
       "        vertical-align: top;\n",
       "    }\n",
       "\n",
       "    .dataframe thead th {\n",
       "        text-align: right;\n",
       "    }\n",
       "</style>\n",
       "<table border=\"1\" class=\"dataframe\">\n",
       "  <thead>\n",
       "    <tr style=\"text-align: right;\">\n",
       "      <th></th>\n",
       "      <th>class</th>\n",
       "      <th>count</th>\n",
       "    </tr>\n",
       "  </thead>\n",
       "  <tbody>\n",
       "    <tr>\n",
       "      <th>0</th>\n",
       "      <td>Iris-setosa</td>\n",
       "      <td>50</td>\n",
       "    </tr>\n",
       "    <tr>\n",
       "      <th>1</th>\n",
       "      <td>Iris-versicolor</td>\n",
       "      <td>50</td>\n",
       "    </tr>\n",
       "    <tr>\n",
       "      <th>2</th>\n",
       "      <td>Iris-virginica</td>\n",
       "      <td>50</td>\n",
       "    </tr>\n",
       "  </tbody>\n",
       "</table>\n",
       "</div>"
      ],
      "text/plain": [
       "             class  count\n",
       "0      Iris-setosa     50\n",
       "1  Iris-versicolor     50\n",
       "2   Iris-virginica     50"
      ]
     },
     "execution_count": 26,
     "metadata": {},
     "output_type": "execute_result"
    }
   ],
   "source": [
    "df2 = pd.DataFrame({\"class\":count_class.keys(),\n",
    "                    \"count\": count_class.values()})\n",
    "df2"
   ]
  },
  {
   "cell_type": "code",
   "execution_count": 27,
   "id": "9744ffd1",
   "metadata": {},
   "outputs": [
    {
     "data": {
      "text/plain": [
       "Counter({'Alice': 1, 'Bob': 3, 'Carol': 1})"
      ]
     },
     "execution_count": 27,
     "metadata": {},
     "output_type": "execute_result"
    }
   ],
   "source": [
    "from collections import Counter\n",
    "A = [\"Alice\", \"Bob\", \"Bob\", \"Bob\", \"Carol\"]\n",
    "Counter(A)"
   ]
  },
  {
   "cell_type": "code",
   "execution_count": 28,
   "id": "7fa21ec0",
   "metadata": {},
   "outputs": [
    {
     "name": "stdout",
     "output_type": "stream",
     "text": [
      "Bob: 3\n",
      "Amy: 0\n"
     ]
    }
   ],
   "source": [
    "from collections import Counter\n",
    "A = [\"Alice\", \"Bob\", \"Bob\", \"Bob\", \"Carol\"]\n",
    "count_A = Counter(A)\n",
    "print(\"Bob:\", count_A[\"Bob\"])\n",
    "print(\"Amy:\", count_A[\"Amy\"])"
   ]
  },
  {
   "cell_type": "code",
   "execution_count": 29,
   "id": "80030666",
   "metadata": {},
   "outputs": [
    {
     "data": {
      "text/plain": [
       "Counter({'A': 1, 'a': 5, '~': 1})"
      ]
     },
     "execution_count": 29,
     "metadata": {},
     "output_type": "execute_result"
    }
   ],
   "source": [
    "B = \"Aaaaaa~\"\n",
    "Counter(B)"
   ]
  },
  {
   "cell_type": "code",
   "execution_count": 30,
   "id": "2e66f1b5",
   "metadata": {
    "scrolled": true
   },
   "outputs": [
    {
     "name": "stdout",
     "output_type": "stream",
     "text": [
      "Welcome to the Frequency Analysis App\n",
      "\n",
      "Here is the frequency analysis from key phrase 1: \n",
      "\n",
      "\tLetter\t\tOccurrence\tPercentage\n",
      "\ta\t\t2\t\t20.0%\n",
      "\td\t\t2\t\t20.0%\n",
      "\tf\t\t1\t\t10.0%\n",
      "\tn\t\t1\t\t10.0%\n",
      "\to\t\t2\t\t20.0%\n",
      "\tp\t\t1\t\t10.0%\n",
      "\ts\t\t1\t\t10.0%\n",
      "\n",
      "Letters ordered from highest occurrence to lowest: \n",
      "odafpns"
     ]
    }
   ],
   "source": [
    "from collections import Counter\n",
    "print(\"Welcome to the Frequency Analysis App\")\n",
    "non_letters = ['1','2','3','4','5','6','7','8','9','0',' ', '.','?','!',\n",
    "               ',','\"',\"'\",':',';','(',')','%','$','&','#','\\n','\\t'] \n",
    "\n",
    "#Information for the first key key_phrase_1\n",
    "#key_phrase_1 = input(\"Enter a word or phrase to count the occurrence of each letter: \").lower().strip()\n",
    "key_phrase_1 = \"foodpandas\"\n",
    "for non_letter in non_letters:\n",
    "    key_phrase_1 = key_phrase_1.replace(non_letter, '')\n",
    "total_occurrences = len(key_phrase_1)\n",
    "\n",
    "#Create a counter object to tally the number of each letter\n",
    "letter_count = Counter(key_phrase_1)\n",
    "print(\"\\nHere is the frequency analysis from key phrase 1: \")\n",
    "print(\"\\n\\tLetter\\t\\tOccurrence\\tPercentage\")\n",
    "for key, value in sorted(letter_count.items()):\n",
    "    percentage = 100*value/total_occurrences\n",
    "    percentage = round(percentage, 2)\n",
    "    print(\"\\t\" + key + \"\\t\\t\" + str(value) + \"\\t\\t\" + str(percentage) + \"%\")\n",
    "\n",
    "#Make a list of letters from highest occurrence to lowest\n",
    "ordered_letter_count = letter_count.most_common()\n",
    "key_phrase_1_ordered_letters = []\n",
    "for pair in ordered_letter_count:\n",
    "    key_phrase_1_ordered_letters.append(pair[0])\n",
    "\n",
    "#Print the list\n",
    "print(\"\\nLetters ordered from highest occurrence to lowest: \")\n",
    "for letter in key_phrase_1_ordered_letters:\n",
    "    print(letter, end='')"
   ]
  },
  {
   "cell_type": "markdown",
   "id": "905d7c87",
   "metadata": {},
   "source": [
    "### Permütasyon\n",
    "Itertool是Python提供的一個模塊，用於創建有效循環的迭代器。它還提供了與迭代器一起使用的各種函數，以產生複雜的迭代器，並幫助我們輕鬆，高效地解決時間和內存方麵的問題。 Itertools模塊為我們提供了多種方法來操縱遍曆的序列。"
   ]
  },
  {
   "cell_type": "code",
   "execution_count": 31,
   "id": "8be96ef0",
   "metadata": {},
   "outputs": [
    {
     "name": "stdout",
     "output_type": "stream",
     "text": [
      "16695334890\n"
     ]
    }
   ],
   "source": [
    "from itertools import permutations as permütasyon\n",
    "\n",
    "rakamlar = \"0123456789\"\n",
    "\n",
    "sayılar = permütasyon(rakamlar)\n",
    "pandijitalSayılar = [\"\".join(sayı) for sayı in sayılar if not sayı[0] == \"0\" ]\n",
    "asallar = [2,3,5,7,11,13,17]\n",
    "\n",
    "toplam = 0\n",
    "\n",
    "for sayı in pandijitalSayılar:\n",
    "    kontrol = True\n",
    "    for i in range(0,len(asallar)):\n",
    "        if int(sayı[i+1:i+4]) % asallar[i] != 0:\n",
    "            kontrol = False\n",
    "            break\n",
    "    if kontrol:\n",
    "        toplam += int(sayı)\n",
    "    \n",
    "print(toplam)"
   ]
  },
  {
   "cell_type": "code",
   "execution_count": 32,
   "id": "159708ec",
   "metadata": {},
   "outputs": [
    {
     "name": "stdout",
     "output_type": "stream",
     "text": [
      "('2', '7', '8', '3', '9', '1', '5', '4', '6', '0')\n"
     ]
    }
   ],
   "source": [
    "from itertools import permutations\n",
    "\n",
    "rakamlar = \"0123456789\"\n",
    "sayilar = list(permutations(rakamlar))\n",
    "sonuc = sayilar[999999]\n",
    "print(sonuc)"
   ]
  }
 ],
 "metadata": {
  "kernelspec": {
   "display_name": "Python 3 (ipykernel)",
   "language": "python",
   "name": "python3"
  },
  "language_info": {
   "codemirror_mode": {
    "name": "ipython",
    "version": 3
   },
   "file_extension": ".py",
   "mimetype": "text/x-python",
   "name": "python",
   "nbconvert_exporter": "python",
   "pygments_lexer": "ipython3",
   "version": "3.9.7"
  }
 },
 "nbformat": 4,
 "nbformat_minor": 5
}
