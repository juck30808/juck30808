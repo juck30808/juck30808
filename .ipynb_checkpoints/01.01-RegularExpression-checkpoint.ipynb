{
 "cells": [
  {
   "cell_type": "markdown",
   "id": "b4a40bc0",
   "metadata": {},
   "source": [
    "## Regular expression (正規表示式)\n",
    "\n",
    "- re.match只匹配字符串的開始，如果字符串開始不符合正則表達式，則匹配失敗，函數返回None；\n",
    "- re.search匹配整個字符串，直到找到一個匹配。\n",
    "- re.sub用於替換字串\n",
    "- re.findall 字符串中找到所匹配的所有串，返回一List"
   ]
  },
  {
   "cell_type": "markdown",
   "id": "07d79392-9cf6-4d38-b010-34c9337e6b26",
   "metadata": {},
   "source": [
    "### 1.re.match() 函數 - 從頭開始比對文字\n",
    "re.match會從文本中的起始位置開始進行文字符的匹配，如果不是一開始第一個字符就匹配成功的話，就會直接返回一個none，簡單來說就是欲匹配的文本一開始就要符合我們定義的字符規則，不符合直接回傳none，符合就會回傳字符位置資訊。與re.search()的最大差別在於它是檢測文字是否在開頭位置。"
   ]
  },
  {
   "cell_type": "code",
   "execution_count": 1,
   "id": "f03c14ce-9aaf-4250-8977-fb6ee386c37b",
   "metadata": {
    "tags": []
   },
   "outputs": [
    {
     "name": "stdout",
     "output_type": "stream",
     "text": [
      "<re.Match object; span=(0, 5), match='https'>\n",
      "(0, 5)\n",
      "https\n"
     ]
    }
   ],
   "source": [
    "import re\n",
    "\n",
    "text = 'https://matters.news/@CHWang'\n",
    "print(re.match('https', text))\n",
    "print(re.match('https', text).span())\n",
    "print(re.match('https', text).group(0))"
   ]
  },
  {
   "cell_type": "markdown",
   "id": "e7900bb7-6148-4996-9bdf-a18b84b66073",
   "metadata": {},
   "source": [
    "### 2.re.search() 函數 - 搜尋整個字符串 (最常用)\n",
    "re.search會搜尋整個字符串，然後找到匹配的字符並且傳回，如果沒有匹配到任何字符則傳回none，如果成功就傳回一個匹配的對象，就可以使用group()來取得匹配成功的字符"
   ]
  },
  {
   "cell_type": "code",
   "execution_count": 2,
   "id": "05aeff60-93cc-4819-b664-a361e0055e1b",
   "metadata": {
    "tags": []
   },
   "outputs": [
    {
     "name": "stdout",
     "output_type": "stream",
     "text": [
      "<re.Match object; span=(0, 8), match='https://'>\n",
      "(0, 8)\n",
      "line帳號\n",
      "I likes to eat cake and drink coke\n",
      "('I', 'cake', 'coke')\n",
      "I\n",
      "2023-02-28 14:02:48\n"
     ]
    }
   ],
   "source": [
    "import re\n",
    "\n",
    "text = 'https://medium.com/@juck30808'\n",
    "text1 = 'Date：2023-02-28 14:02:48'\n",
    "print(re.search('https://', text))\n",
    "print(re.search('https://', text).span())\n",
    "\n",
    "### regrex 寫法\n",
    "text1 = '賴aa23542'\n",
    "if re.search('賴([a-z|0-9])',text1):\n",
    "    print('line帳號')\n",
    "    \n",
    "### group\n",
    "text = 'I likes to eat cake and drink coke, but ...'\n",
    "result = re.search('(.*) likes to eat (\\w+) and drink ([a-z]*)', text, re.I|re.M)\n",
    "print(result.group())\n",
    "print(result.groups())\n",
    "print(result.group(1))\n",
    "\n",
    "### Date\n",
    "text1 = 'Date：2023-02-28 14:02:48'\n",
    "print(re.search(r'\\d+-\\d+-\\d+ \\d+:\\d+:\\d+', text1).group(0))"
   ]
  },
  {
   "cell_type": "markdown",
   "id": "4cdb85c3-65a6-46ce-8643-c2d2d6e57d0e",
   "metadata": {},
   "source": [
    "### 3.re.findall() - 找尋文字中所有匹配的文字\n",
    "\n",
    "找尋所有匹配的字符，裝進串列後返回，如果沒有找到匹配的字符，就會回傳一個空的串列喔\n",
    "小筆記：re.findall會匹配所有符合規則的字符，而re.search與re.match只會匹配一次而已喔"
   ]
  },
  {
   "cell_type": "code",
   "execution_count": 3,
   "id": "b7c9ed61-5fdf-4d27-ba6f-7f69f76a6c2d",
   "metadata": {
    "tags": []
   },
   "outputs": [
    {
     "name": "stdout",
     "output_type": "stream",
     "text": [
      "['good', 'Morning', 'Jen', 'Yeah']\n",
      "['衛斯理', 'Christy', '阿龍']\n"
     ]
    }
   ],
   "source": [
    "import re\n",
    "text1 = 'good98Morning66 Jen666 Yeah'\n",
    "print(re.compile(r'[a-z]+', re.I).findall(text1)) ## 匹配所有字母並忽略大小寫\n",
    "\n",
    "text1 = '編輯 - 衛斯理 小編、編輯 - Christy 小編、編輯 - 阿龍 小編'\n",
    "print(re.findall('編輯 - (.*?) ', text1))"
   ]
  },
  {
   "cell_type": "markdown",
   "id": "4d5074c5-d1eb-43fb-821e-4b318edbd16a",
   "metadata": {},
   "source": [
    "### 4.re.sub() 函數 - 匹配好字符後，將它替換成我們想要的字符\n",
    "這個方法相當方便，我們在進行數據處理時，有時候會有一些多餘的不要的空格、符號等等，就可以透過這個方法來一次拿掉"
   ]
  },
  {
   "cell_type": "code",
   "execution_count": 4,
   "id": "010a144d-7564-4d62-988c-e44db129c89f",
   "metadata": {
    "tags": []
   },
   "outputs": [
    {
     "name": "stdout",
     "output_type": "stream",
     "text": [
      "Jack/25/1993&Jen/23/1995\n",
      "Jack251993&Jen231995\n",
      "Jack251993&Jen/23/1995\n"
     ]
    }
   ],
   "source": [
    "import re \n",
    "\n",
    "text = 'Jack/25/1993 and Jen/23/1995'\n",
    "sub_result1 = re.sub('\\sand\\s', '&', text)\n",
    "\n",
    "## A: 把中間的and與空格拿掉，用&替換\n",
    "print(sub_result1)\n",
    "\n",
    "## B: 再把/拿掉\n",
    "print(re.sub('/', '', sub_result1))\n",
    "\n",
    "## C: 再把/拿掉，但只要拿掉前兩個\n",
    "print(re.sub('/', '', sub_result1, 2))"
   ]
  },
  {
   "cell_type": "markdown",
   "id": "42bf99f9-b890-4b15-9341-4a2c4f4554c3",
   "metadata": {},
   "source": [
    "### 5.re.compile() 函數 - 生成一個pattern對象供給match、search、findall函數使用\n",
    "我們只要定義好一次正則表達式的規則，就能用這個定義好的pattern規則，來提供match、search、findall函數匹配字符，用了這個方法後，我們就不用每次使用匹配函數時，都要重新寫一次正則表達式語法，但明明匹配的規則與寫法是一樣的"
   ]
  },
  {
   "cell_type": "code",
   "execution_count": 5,
   "id": "fa78e43a-bd74-4716-a7fa-4d213a27d794",
   "metadata": {
    "tags": []
   },
   "outputs": [
    {
     "name": "stdout",
     "output_type": "stream",
     "text": [
      "None\n",
      "<re.Match object; span=(2, 6), match='Jack'>\n"
     ]
    }
   ],
   "source": [
    "import re\n",
    "\n",
    "text = '68Jack66Jen58Ken28,Cathy38'\n",
    "pattern = re.compile(r'([a-z]+)', re.I) ## 匹配字母，並忽略大小寫\n",
    "\n",
    "## match預設從第一個位置開始匹配\n",
    "print(pattern.match(text)) ## None，因為match會從第一個位置開始匹配，如果不通過就會返回none\n",
    "\n",
    "## 從第3個位置開始匹配\n",
    "print(pattern.match(text, 2, 20))"
   ]
  },
  {
   "cell_type": "markdown",
   "id": "3233ab26-bf7f-443d-bcb3-6c3495eedddd",
   "metadata": {},
   "source": [
    "### 6.re.split() 函數 - 切割\n",
    "將匹配的字符進行切割，回傳 List"
   ]
  },
  {
   "cell_type": "code",
   "execution_count": 6,
   "id": "a533e2f2-db26-4ea2-89c8-35be7d5f8034",
   "metadata": {
    "tags": []
   },
   "outputs": [
    {
     "name": "stdout",
     "output_type": "stream",
     "text": [
      "['Jack', 'Jen', 'Ken', 'Cathy']\n",
      "['Jack', '66', 'Jen', '58', 'Ken', '28', 'Cathy']\n",
      "['', 'Jack', 'Jen', 'Ken', 'Cathy', '']\n",
      "['66Jack66Jen58Ken28Cathy38']\n"
     ]
    }
   ],
   "source": [
    "import re\n",
    "\n",
    "text = 'Jack66Jen58Ken28Cathy'\n",
    "\n",
    "## 用數字來做為分隔依據\n",
    "print(re.split('\\d+', text))\n",
    "\n",
    "## 分隔，並將數字也傳進陣列\n",
    "print(re.split('(\\d+)', text))\n",
    "\n",
    "## 如果匹配的一句剛好在前後的位置，就會傳回空值\n",
    "text1 = '66Jack66Jen58Ken28Cathy38'\n",
    "print(re.split('\\d+', text1))\n",
    "\n",
    "## 如果找不到匹配會回串全部字串\n",
    "print(re.split('\\s+', text1))"
   ]
  },
  {
   "cell_type": "markdown",
   "id": "94d0d822-599b-4f7e-814c-58f39f4cf7e1",
   "metadata": {},
   "source": [
    "# 總整理\n",
    "推薦一個好用的即時檢查re的工具 — https://regex101.com/"
   ]
  },
  {
   "cell_type": "markdown",
   "id": "78ae977c-e687-49ab-96d3-9f4765438bf4",
   "metadata": {},
   "source": [
    "### Basic topics 基本主題"
   ]
  },
  {
   "cell_type": "markdown",
   "id": "69e8cfce-d738-4e79-aecd-3e65a4d65829",
   "metadata": {},
   "source": [
    "- Anchors — ^ and $"
   ]
  },
  {
   "cell_type": "code",
   "execution_count": 7,
   "id": "c61b97cd-f568-42bf-99b6-076962c76576",
   "metadata": {},
   "outputs": [],
   "source": [
    "# ^The        matches any string that starts with The \n",
    "# end$        matches a string that ends with end\n",
    "# ^The end$   exact string match (starts and ends with The end)\n",
    "# roar        matches any string that has the text roar in it"
   ]
  },
  {
   "cell_type": "markdown",
   "id": "1496a15a-e228-4642-8879-7537300a3440",
   "metadata": {},
   "source": [
    "- Quantifiers — * + ? and {}"
   ]
  },
  {
   "cell_type": "code",
   "execution_count": 8,
   "id": "a7bc4ff6-aa67-4d6f-a71a-62a5a2d1e5d6",
   "metadata": {
    "tags": []
   },
   "outputs": [],
   "source": [
    "# abc*        matches a string that has ab followed by zero or more c\n",
    "# abc+        matches a string that has ab followed by one or more c\n",
    "# abc?        matches a string that has ab followed by zero or one c\n",
    "# abc{2}      matches a string that has ab followed by 2 c\n",
    "# abc{2,}     matches a string that has ab followed by 2 or more c\n",
    "# abc{2,5}    matches a string that has ab followed by 2 up to 5 c\n",
    "# a(bc)*      matches a string that has a followed by zero or more copies of the sequence bc\n",
    "# a(bc){2,5}  matches a string that has a followed by 2 up to 5 copies of the sequence bc"
   ]
  },
  {
   "cell_type": "markdown",
   "id": "a7c7c0d0-ef9e-474d-b289-5f2272007c97",
   "metadata": {},
   "source": [
    "- OR operator — | or []"
   ]
  },
  {
   "cell_type": "code",
   "execution_count": 9,
   "id": "e93da6f6-9793-4d42-98c6-29b20840f72a",
   "metadata": {},
   "outputs": [],
   "source": [
    "# a(b|c)     matches a string that has a followed by b or c (and captures b or c)\n",
    "# a[bc]      same as previous, but without capturing b or c"
   ]
  },
  {
   "cell_type": "markdown",
   "id": "a86c7172-db9a-4c09-a8b1-8ab37fc0506a",
   "metadata": {},
   "source": [
    "- Character classes — \\d \\w \\s and ."
   ]
  },
  {
   "cell_type": "code",
   "execution_count": 10,
   "id": "998e8676-e079-4e00-82a8-8b840878c610",
   "metadata": {
    "tags": []
   },
   "outputs": [],
   "source": [
    "# \\d         matches a single character that is a digit\n",
    "# \\w         matches a word character (alphanumeric character plus underscore)\n",
    "# \\s         matches a whitespace character (includes tabs and line breaks)\n",
    "# .          matches any character\n",
    "# \\D         matches a single non-digit character\n",
    "# \\$\\d       matches a string that has a $ before one digit"
   ]
  },
  {
   "cell_type": "markdown",
   "id": "57ce9df1-3d73-4ac9-8a08-49b8faacf8e9",
   "metadata": {},
   "source": [
    "### Intermediate topics 中級主題"
   ]
  },
  {
   "cell_type": "markdown",
   "id": "750408f5-86e0-4cdc-af12-edfc4e7e210d",
   "metadata": {},
   "source": [
    "- Grouping and capturing — ()"
   ]
  },
  {
   "cell_type": "code",
   "execution_count": 11,
   "id": "b4478cf8-73a9-430f-87ad-bb767de775fa",
   "metadata": {},
   "outputs": [],
   "source": [
    "# a(bc)           parentheses create a capturing group with value bc \n",
    "# a(?:bc)*        using ?: we disable the capturing group \n",
    "# a(?<foo>bc)     using ?<foo> we put a name to the group "
   ]
  },
  {
   "cell_type": "markdown",
   "id": "7dc2e7e7-0c10-48be-b9f9-04c1a2bd9002",
   "metadata": {},
   "source": [
    "- Bracket expressions — [] "
   ]
  },
  {
   "cell_type": "code",
   "execution_count": 12,
   "id": "52914422-d985-4bfa-8830-fb2b951958cf",
   "metadata": {},
   "outputs": [],
   "source": [
    "# [abc]            matches a string that has either an a or a b or a c -> is the same as a|b|c \n",
    "# [a-c]            same as previous\n",
    "# [a-fA-F0-9]      a string that represents a single hexadecimal digit, case insensitively \n",
    "# [0-9]%           a string that has a character from 0 to 9 before a % sign\n",
    "# [^a-zA-Z]        a string that has not a letter from a to z or from A to Z. In this case the ^ is used as negation of the expression "
   ]
  },
  {
   "cell_type": "markdown",
   "id": "ac64ae73-27b0-409f-9a51-99efb883673b",
   "metadata": {},
   "source": [
    "- Greedy and Lazy match"
   ]
  },
  {
   "cell_type": "code",
   "execution_count": 13,
   "id": "ab49db46-f7a8-49b2-ad4b-43c245a5ef0a",
   "metadata": {},
   "outputs": [],
   "source": [
    "# <.+?>            matches any character one or more times included inside < and >, expanding as needed\n",
    "# <[^<>]+>         matches any character except < or > one or more times included inside < and >"
   ]
  },
  {
   "cell_type": "markdown",
   "id": "434cc488-a667-416b-900a-8d82e55dfefb",
   "metadata": {},
   "source": [
    "### Advanced topics 高級主題"
   ]
  },
  {
   "cell_type": "markdown",
   "id": "9f1c7233-3cc9-44d4-a605-d6920ff99640",
   "metadata": {},
   "source": [
    "- Boundaries — \\b and \\B"
   ]
  },
  {
   "cell_type": "code",
   "execution_count": 14,
   "id": "a5b037a4-7711-47f4-a75e-cdc340610843",
   "metadata": {},
   "outputs": [],
   "source": [
    "# \\babc\\b          performs a \"whole words only\" search\n",
    "# \\Babc\\B          matches only if the pattern is fully surrounded by word characters"
   ]
  },
  {
   "cell_type": "markdown",
   "id": "10fc8352-1ab7-49d5-ae45-7b483d38bcde",
   "metadata": {},
   "source": [
    "- Back-references — \\1"
   ]
  },
  {
   "cell_type": "code",
   "execution_count": 15,
   "id": "c0acf232-b0fe-4516-90f1-5d747e730e79",
   "metadata": {},
   "outputs": [],
   "source": [
    "# ([abc])\\1              using \\1 it matches the same text that was matched by the first capturing group\n",
    "# ([abc])([de])\\2\\1      we can use \\2 (\\3, \\4, etc.) to identify the same text that was matched by the second (third, fourth, etc.) capturing group\n",
    "# (?<foo>[abc])\\k<foo>   we put the name foo to the group and we reference it later (\\k<foo>). The result is the same of the first regex"
   ]
  },
  {
   "cell_type": "markdown",
   "id": "d146681f-7c4f-4162-ad47-3fcda4089c6d",
   "metadata": {},
   "source": [
    "- Look-ahead and Look-behind — (?=) and (?<=)"
   ]
  },
  {
   "cell_type": "code",
   "execution_count": 16,
   "id": "6be0fcf9-c623-40a4-a857-6619c92430e0",
   "metadata": {},
   "outputs": [],
   "source": [
    "# d(?=r)       matches a d only if is followed by r, but r will not be part of the overall regex match\n",
    "# (?<=r)d      matches a d only if is preceded by an r, but r will not be part of the overall regex match\n",
    "\n",
    "# d(?!r)       matches a d only if is not followed by r, but r will not be part of the overall regex match\n",
    "# (?<!r)d      matches a d only if is not preceded by an r, but r will not be part of the overall regex match "
   ]
  },
  {
   "cell_type": "markdown",
   "id": "7f275413-93d9-40e1-bbcf-c76f2d1e35f5",
   "metadata": {},
   "source": [
    "### 常見使用"
   ]
  },
  {
   "cell_type": "markdown",
   "id": "443ac43c-b1ac-4771-9053-51a70607288d",
   "metadata": {},
   "source": [
    "- Alpha-numeric, literals, digits, lowercase, uppercase chars only 僅字母數字、文字、數字、小寫、大寫字符"
   ]
  },
  {
   "cell_type": "code",
   "execution_count": 17,
   "id": "b7fa43a0-7441-43a7-93d5-b8369a34f1ad",
   "metadata": {},
   "outputs": [],
   "source": [
    "# \\w                //alpha-numeric only\n",
    "# [a-zA-Z]          //literals only\n",
    "# \\d                //digits only\n",
    "# [a-z]             //lowercase literal only\n",
    "# [A-Z]             //uppercase literal only"
   ]
  },
  {
   "cell_type": "markdown",
   "id": "ad8eb3ea-f60d-4c12-963f-966023785cad",
   "metadata": {},
   "source": [
    "- Simple numbers 簡單的數字"
   ]
  },
  {
   "cell_type": "code",
   "execution_count": 18,
   "id": "12cb3db3-1678-4ee5-97e5-369f5e781f4c",
   "metadata": {
    "tags": []
   },
   "outputs": [],
   "source": [
    "# ^(\\d+)$.          15/12  8.5  12"
   ]
  },
  {
   "cell_type": "markdown",
   "id": "57c870da-e09d-4609-a49b-c4a2fbf69a27",
   "metadata": {},
   "source": [
    "- Decimal numbers 十進制數字"
   ]
  },
  {
   "cell_type": "code",
   "execution_count": 19,
   "id": "14175f8b-5e86-449c-8780-62caf31b7898",
   "metadata": {
    "tags": []
   },
   "outputs": [],
   "source": [
    "# ^(\\d*)[.,](\\d+)$   15/12  8.5  12  8,7"
   ]
  },
  {
   "cell_type": "markdown",
   "id": "23f55c05-e80d-42c9-b3fc-99c7ba89d154",
   "metadata": {},
   "source": [
    "- Fractions 分數"
   ]
  },
  {
   "cell_type": "code",
   "execution_count": 20,
   "id": "5f124e21-1dc7-490e-8570-ff3ed92ef2f7",
   "metadata": {},
   "outputs": [],
   "source": [
    "# ^(\\d+)[\\/](\\d+)$   15/12  8.5  12"
   ]
  },
  {
   "cell_type": "markdown",
   "id": "0c82c62c-5229-4c25-94b5-2362260ab172",
   "metadata": {},
   "source": [
    "- Alphanumeric without spaces 不帶空格的字母數字"
   ]
  },
  {
   "cell_type": "code",
   "execution_count": 21,
   "id": "27b9a55f-cc57-4660-823d-a2ff2cec453b",
   "metadata": {},
   "outputs": [],
   "source": [
    "# ^(\\w*)$            hello123"
   ]
  },
  {
   "cell_type": "markdown",
   "id": "12b4a527-2dc2-4f50-93fe-6390e2353a39",
   "metadata": {},
   "source": [
    "- Email 電子郵件"
   ]
  },
  {
   "cell_type": "code",
   "execution_count": 22,
   "id": "39418139-4f7b-4c33-a866-b12b967ef558",
   "metadata": {
    "tags": []
   },
   "outputs": [],
   "source": [
    "# ^([a-zA-Z0-9._%-]+@[a-zA-Z0-9.-]+\\.[a-zA-Z]{2,6})*$\n",
    "#                    jonny.fox@factorymind.com\n",
    "#                    hello@sdasdad.hello\n",
    "#                    but not this!\n",
    "\n",
    "# ^([a-z0-9_\\.\\+-]+)@([\\da-z\\.-]+)\\.([a-z\\.]{2,6})$"
   ]
  },
  {
   "cell_type": "markdown",
   "id": "b60e4fe8-86eb-4551-b437-8ab1155ba8d5",
   "metadata": {},
   "source": [
    "- Trim spaces 修剪空格 匹配文本避免額外的空格"
   ]
  },
  {
   "cell_type": "code",
   "execution_count": 23,
   "id": "d8949621-f61a-4066-868f-a177729a4b3d",
   "metadata": {
    "tags": []
   },
   "outputs": [],
   "source": [
    "# ^[\\s]*(.*?)[\\s]*$"
   ]
  },
  {
   "cell_type": "markdown",
   "id": "e74c1ccc-1f45-41b2-b68d-8fd58e97741b",
   "metadata": {},
   "source": [
    "- HTML Tag 標籤 "
   ]
  },
  {
   "cell_type": "code",
   "execution_count": 24,
   "id": "05cc2c0e-5b44-4d6b-bd97-419e6e4dd452",
   "metadata": {},
   "outputs": [],
   "source": [
    "# <([a-z]+)[^<]*(?:>(.*?)<\\/\\1>|\\s+\\/>)"
   ]
  },
  {
   "cell_type": "markdown",
   "id": "b5dd9516-4c15-4a5a-b7c1-199667e0079c",
   "metadata": {},
   "source": [
    "- Hexadecimal value 十六進制值"
   ]
  },
  {
   "cell_type": "code",
   "execution_count": 25,
   "id": "04f8355b-74fb-44db-b49d-f90aec11e0be",
   "metadata": {},
   "outputs": [],
   "source": [
    "# \\B#(?:[a-fA-F0–9]{6}|[a-fA-F0–9]{3})\\b"
   ]
  },
  {
   "cell_type": "markdown",
   "id": "25d96676-ee51-44b8-878f-0baf741d4628",
   "metadata": {},
   "source": [
    "- Valid email (RFC5322) 有效的電子郵件"
   ]
  },
  {
   "cell_type": "code",
   "execution_count": 26,
   "id": "2f7fde0a-196a-4772-af8b-8598a56317d9",
   "metadata": {
    "tags": []
   },
   "outputs": [],
   "source": [
    "# \\b[\\w.!#$%&’*+\\/=?^`{|}~-]+@[\\w-]+(?:\\.[\\w-]+)*\\b\\"
   ]
  },
  {
   "cell_type": "markdown",
   "id": "f1d88bdc-df66-42ca-8289-efa00331d57d",
   "metadata": {},
   "source": [
    "- Username (simple) 簡單用戶名 (最小長度為 3，最大長度為 16，由字母、數字或破折號組成)"
   ]
  },
  {
   "cell_type": "code",
   "execution_count": 27,
   "id": "8ed8578e-9b6b-4f49-89e9-7387f526aeaf",
   "metadata": {},
   "outputs": [],
   "source": [
    "# /^[a-z0-9_-]{3,16}$/"
   ]
  },
  {
   "cell_type": "markdown",
   "id": "2c9f99db-3b74-425d-ac44-89935f2599f6",
   "metadata": {},
   "source": [
    "- Strong password 強密碼 (最小長度為6，至少1個大寫字母，至少1個小寫字母，至少1個數字，至少1個特殊字符)"
   ]
  },
  {
   "cell_type": "code",
   "execution_count": 28,
   "id": "6749fdf5-a469-4c89-ab69-48583b8f5aa7",
   "metadata": {},
   "outputs": [],
   "source": [
    "# (?=^.{6,}$)((?=.*\\w)(?=.*[A-Z])(?=.*[a-z])(?=.*[0-9])(?=.*[|!\"$%&\\/\\(\\)\\?\\^\\'\\\\\\+\\-\\*]))^.*"
   ]
  },
  {
   "cell_type": "markdown",
   "id": "24249bbb-aa4d-4b5f-a57d-6631224519d5",
   "metadata": {},
   "source": [
    "- 2 of a kind 兩個同類"
   ]
  },
  {
   "cell_type": "code",
   "execution_count": 29,
   "id": "ae6ea617-07ae-437e-8b99-379e8e6d06cc",
   "metadata": {},
   "outputs": [],
   "source": [
    "# ^(?=([0-9]*[a-z]){2,})([a-zA-Z0-9]{8,32})$"
   ]
  },
  {
   "cell_type": "markdown",
   "id": "e3993868-9237-4bc4-8b40-9344cc6389e7",
   "metadata": {},
   "source": [
    "- URL tokenization 標記化"
   ]
  },
  {
   "cell_type": "code",
   "execution_count": 30,
   "id": "517d0768-e889-49ea-9504-d401357f73b7",
   "metadata": {},
   "outputs": [],
   "source": [
    "# ^(((https?|ftp):\\/\\/)?([\\w\\-\\.])+(\\.)([\\w]){2,4}([\\w\\/+=%&_\\.~?\\-]*))*$"
   ]
  },
  {
   "cell_type": "markdown",
   "id": "3c187f9c-905e-4a40-9256-8b7edf5cfa17",
   "metadata": {},
   "source": [
    "- IPv4 address IPv4 地址"
   ]
  },
  {
   "cell_type": "code",
   "execution_count": 31,
   "id": "e619ab4d-cff7-41c9-83fd-347cdf5d8e8f",
   "metadata": {},
   "outputs": [],
   "source": [
    "# \\b(?:(?:25[0-5]|2[0-4]\\d|[01]?\\d\\d?)\\.){3}(?:25[0-5]|2[0-4]\\d|[01]?\\d\\d?)\\b"
   ]
  },
  {
   "cell_type": "markdown",
   "id": "0c246dc8-df6e-4ce9-8860-4ba436868390",
   "metadata": {},
   "source": [
    "- URL or IPv4 address URL 或 IPv4 地址"
   ]
  },
  {
   "cell_type": "code",
   "execution_count": 32,
   "id": "09dee259-70e9-4eb3-a0cd-93c952124d59",
   "metadata": {
    "tags": []
   },
   "outputs": [],
   "source": [
    "# ^(((h..ps?|f.p):\\/\\/)?(?:([\\w\\-\\.])+(\\[?\\.\\]?)([\\w]){2,4}|(?:(?:25[0–5]|2[0–4]\\d|[01]?\\d\\d?)\\[?\\.\\]?){3}(?:25[0–5]|2[0–4]\\d|[01]?\\d\\d?)))*([\\w\\/+=%&_\\.~?\\-]*)$"
   ]
  },
  {
   "cell_type": "markdown",
   "id": "d831ff2c-41b3-4dc4-bf7d-3d02dc5a4542",
   "metadata": {},
   "source": [
    "# 練習"
   ]
  },
  {
   "cell_type": "code",
   "execution_count": 33,
   "id": "c43327eb",
   "metadata": {
    "tags": []
   },
   "outputs": [],
   "source": [
    "import re\n",
    "\n",
    "text = \"\"\"中央流行疫情指揮中心今(29)日公布國內新增11例COVID-19確定病例，分別為1例本土及10例境外移入；另確診個案中無新增死亡。\n",
    "指揮中心表示，今日新增1例本土個案(案16326)，為印尼籍30多歲女性，今(2021)年9月27日出現頭痛症狀，9月28日就醫採檢，於今日確診。衛生單位已匡列接觸者7人，均列居家隔離，其餘接觸者匡列中。\n",
    "指揮中心指出，今日新增10例境外移入個案，為9例男性、1例女性，年齡介於20多歲至40多歲，入境日介於9月3日至9月28日，分別自美國(案16316)、哈薩克(2例，案16317、案16318)、巴基斯坦(案16319)、柬埔寨(16320)、俄羅斯(案16324)及菲律賓(案16325)入境，餘3例 (案16321、案16322、案16323)的旅遊國家調查中；詳如新聞稿附件。\n",
    "指揮中心統計，截至目前國內累計3,358,228例新型冠狀病毒肺炎相關通報(含3,341,439例排除)，其中16,216例確診，分別為1,581例境外移入，14,581例本土病例，36例敦睦艦隊、3例航空器感染、1例不明及14例調查中；另累計110例移除為空號。2020年起累計842例COVID-19死亡病例，其中830例本土，個案居住縣市分布為新北市412例、臺北市318例、基隆市28例、桃園市26例、彰化縣15例、新竹縣13例、臺中市5例、苗栗縣3例、宜蘭縣及花蓮縣各2例，臺東縣、雲林縣、臺南市、南投縣、高雄市及屏東縣各1例；另12例為境外移入。\n",
    "指揮中心再次呼籲，民眾應落實手部衛生、咳嗽禮節及佩戴口罩等個人防護措施，減少不必要移動、活動或集會，避免出入人多擁擠的場所，或高感染傳播風險場域，並主動積極配合各項防疫措施，共同嚴守社區防線。\n",
    "\"\"\""
   ]
  },
  {
   "cell_type": "code",
   "execution_count": 34,
   "id": "ff7b12dd",
   "metadata": {
    "tags": []
   },
   "outputs": [],
   "source": [
    "en = \"\"\"12Drummers Drumming 11 Pipers Piping 10 Lords a Leaping 9 Ladies Dancing 8 Maids a Milking 7 Swans a Swimming\n",
    "6 Geese a Laying 5 Golden Rings 4 Calling Birds 3 French Hens 2 Turtle Doves and a Partridge in a Pear Tree\n",
    "I love watching movies in India country. Ape Bpe Cpe Dpe cost me $2000 and $10, F.B.I. I.R.S. CIA, Hahahahaha Adventures Batman\n",
    "\"\"\""
   ]
  },
  {
   "cell_type": "code",
   "execution_count": 35,
   "id": "9db0db55",
   "metadata": {
    "tags": []
   },
   "outputs": [],
   "source": [
    "phone = \"Please call the number: 415-424-1212 on time\"\n",
    "mail  = \"To email Jerry, try juck30808@gmail.com.tw  or other address juck30808@hotmail.com\"\n",
    "name  = 'First Name: Jerry Last Name: Chien'"
   ]
  },
  {
   "cell_type": "markdown",
   "id": "3da476b1",
   "metadata": {},
   "source": [
    "### 字符"
   ]
  },
  {
   "cell_type": "code",
   "execution_count": 36,
   "id": "3c54f25c-2785-40dd-8aa2-0be715809cd2",
   "metadata": {
    "tags": []
   },
   "outputs": [
    {
     "data": {
      "text/plain": [
       "<re.Match object; span=(0, 1), match='中'>"
      ]
     },
     "execution_count": 36,
     "metadata": {},
     "output_type": "execute_result"
    }
   ],
   "source": [
    "re.search('.',text)    # <re.Match object; span=(1, 2), match='中'>"
   ]
  },
  {
   "cell_type": "code",
   "execution_count": 37,
   "id": "234c2173",
   "metadata": {},
   "outputs": [
    {
     "data": {
      "text/plain": [
       "['ipe', 'Ape', 'Bpe', 'Cpe', 'Dpe']"
      ]
     },
     "execution_count": 37,
     "metadata": {},
     "output_type": "execute_result"
    }
   ],
   "source": [
    "## . 匹配任何字符\n",
    "\n",
    "re.search('^',text)    # <re.Match object; span=(0, 0), match=''>\n",
    "re.compile(r'.pe').findall(en)  # ['ipe', 'Ape', 'Bpe', 'Cpe', 'Dpe']"
   ]
  },
  {
   "cell_type": "code",
   "execution_count": 38,
   "id": "9661331e",
   "metadata": {},
   "outputs": [
    {
     "data": {
      "text/plain": [
       "['F.B.I', 'I.R.S']"
      ]
     },
     "execution_count": 38,
     "metadata": {},
     "output_type": "execute_result"
    }
   ],
   "source": [
    "## \\ 轉意字符，使後面字符轉變意思\n",
    "\n",
    "re.compile(r'\\$..').findall(en)  # ['$20', '$10']\n",
    "re.findall(\".\\..\\..\",en)         # ['F.B.I', 'I.R.S']"
   ]
  },
  {
   "cell_type": "code",
   "execution_count": 39,
   "id": "917be6d6",
   "metadata": {
    "scrolled": true
   },
   "outputs": [
    {
     "data": {
      "text/plain": [
       "['12Drummers Drumming 11 Pipers Piping 10 Lords a Leaping 9 Ladies Dancing 8 Maids a Milking 7 Swans a Swimming\\n6 Geese a Laying 5 Golden Rings 4 Calling Birds 3 French Hens 2 Turtle Doves and a Partridge in a Pear Tree\\nI love watching movies in India country. Ape Bpe Cpe Dpe cost me ',\n",
       " '2000 and ',\n",
       " '10, F.B.I. I.R.S. CIA, Hahahahaha Adventures Batman\\n']"
      ]
     },
     "execution_count": 39,
     "metadata": {},
     "output_type": "execute_result"
    }
   ],
   "source": [
    "## [...] 字符集，範圍內任意字符意思\n",
    "\n",
    "re.search('[abc]',en)              # <re.Match object; span=(46, 47), match='a'>\n",
    "re.search('[COVID]',text)          # <re.Match object; span=(26, 27), match='C'>\n",
    "\n",
    "re.findall(\"..[縣市]\", text)       #  ['..縣','..市','臺北市','基隆市','桃園市','彰化縣','新竹縣','臺中市']\n",
    "re.findall(\"[ABD]pe\",en)           # ['Ape', 'Bpe', 'Dpe']\n",
    "re.findall(\"[A-Z]pe\",en)           # ['Ape', 'Bpe', 'Cpe', 'Dpe']\n",
    "re.findall(\"[^C]pe\",en)            # ['ipe', 'Ape', 'Bpe', 'Dpe']\n",
    "re.findall('[a]',en)               # ['a', 'a','a','a',...\n",
    "re.findall('[arn]',en)             # ['r', 'r','r','n',...\n",
    "re.findall('[^arn]',en)            # ['\\n','1','2',' ','D','u','m','m',\n",
    "re.findall('[a-n]',en)             # ['m', 'm','e','m',...\n",
    "re.findall('[a-zA-Z]',en)          # ['D', 'r','u','m',...\n",
    "\n",
    "re.compile(r'[aeiouAEIOU]').findall(en)   #vowelRegex\n",
    "re.compile(r'[^aeiouAEIOU]').findall(en)  #nativeRegex\n",
    "re.compile('[$]').split(en)  #['\\n12 Drummers Drumming 11 Pipers Piping 10 Lords a Leaping 9 Ladies Dancing 8 Maids a Milking\\n7 Swans a Swimming 6 Geese a Laying 5 Golden Rings 4 Calling Birds 3 French Hens 2 Turtle Doves and a Partridge in a Pear Tree\\nI love watching movies.India is my country. Ape Bpe Cpe Dpe.',\n",
    "                             # '2000 ',\n",
    "                             # '10, F.B.I. I.R.S. CIA\"\\n']"
   ]
  },
  {
   "cell_type": "markdown",
   "id": "7a93d02a",
   "metadata": {},
   "source": [
    "### 預定義字符 "
   ]
  },
  {
   "cell_type": "code",
   "execution_count": 40,
   "id": "d9c39fa0",
   "metadata": {},
   "outputs": [
    {
     "data": {
      "text/plain": [
       "'415-424-1212'"
      ]
     },
     "execution_count": 40,
     "metadata": {},
     "output_type": "execute_result"
    }
   ],
   "source": [
    "## \\d 取得 [0-9] 數字 \n",
    "## \\D 取得 [^\\d] 非數字\n",
    "\n",
    "re.search(\"新增\\d+例本土\",text)       # span=(77, 83), match='新增1例本土'>\n",
    "re.findall(\"新增\\d+例境外\", text)     # ['新增10例境外']\n",
    "re.findall(\"新增(\\d+)例境外\", text)   # ['10']\n",
    "re.findall('\\D',en)                  # ['\\n',' ','D','r','u',.....]\n",
    "\n",
    "re.compile(r'\\d\\d\\d-\\d\\d\\d-\\d\\d\\d\\d').search(phone)          # <re.Match object; span=(24, 36), match='415-424-1212'>\n",
    "re.compile(r'\\d\\d\\d-\\d\\d\\d-\\d\\d\\d\\d').search(phone).group()  #'415-424-1212'"
   ]
  },
  {
   "cell_type": "code",
   "execution_count": 41,
   "id": "a076a5a7",
   "metadata": {},
   "outputs": [
    {
     "data": {
      "text/plain": [
       "['12Drummers',\n",
       " 'Drumming 11 Pipers Piping 10 Lords a Leaping 9 Ladies Dancing 8 Maids a Milking 7 Swans a Swimming\\n6 Geese a Laying 5 Golden Rings 4 Calling Birds 3 French Hens 2 Turtle Doves and a Partridge in a Pear Tree\\nI love watching movies in India country. Ape Bpe Cpe Dpe cost me $2000 and $10, F.B.I. I.R.S. CIA, Hahahahaha Adventures Batman\\n']"
      ]
     },
     "execution_count": 41,
     "metadata": {},
     "output_type": "execute_result"
    }
   ],
   "source": [
    "## \\s 空白字符:[<空格>\\t\\r\\n\\F\\v]\n",
    "## \\S 非空白字符:[^\\s]\n",
    "\n",
    "re.search(\"\\s\", en).start()  #10  The first white space is located in position\n",
    "re.search(\"\\s\", en).end()    #11\n",
    "\n",
    "re.sub('\\s','_' ,en)         # 12Drummers_Drumming_11_Pipers_\n",
    "re.sub(\"\\s\", \"|\", en)        # 12Drummers|Drumming|11|Pipers|\n",
    "\n",
    "re.split('\\s', en)           # ['12Drummers','Drumming','11','Pipers',\n",
    "re.split(\"\\s\", en, 1)        # ['12Drummers',\n",
    "                             #  'Drumming 11 Pipers Piping "
   ]
  },
  {
   "cell_type": "code",
   "execution_count": 42,
   "id": "0f7a82fa",
   "metadata": {},
   "outputs": [
    {
     "data": {
      "text/plain": [
       "['s D',\n",
       " 'g 1',\n",
       " '1 P',\n",
       " 's P',\n",
       " 'g 1',\n",
       " '0 L',\n",
       " 's a',\n",
       " 'g 9',\n",
       " 's D',\n",
       " 'g 8',\n",
       " 's a',\n",
       " 'g 7',\n",
       " 's a',\n",
       " 'g\\n6',\n",
       " 'e a',\n",
       " 'g 5',\n",
       " 'n R',\n",
       " 's 4',\n",
       " 'g B',\n",
       " 's 3',\n",
       " 'h H',\n",
       " 's 2',\n",
       " 'e D',\n",
       " 's a',\n",
       " 'd a',\n",
       " 'e i',\n",
       " 'n a',\n",
       " 'r T',\n",
       " 'e\\nI',\n",
       " 'e w',\n",
       " 'g m',\n",
       " 's i',\n",
       " 'n I',\n",
       " 'a c',\n",
       " 'e B',\n",
       " 'e C',\n",
       " 'e D',\n",
       " 'e c',\n",
       " 't m',\n",
       " '0 a',\n",
       " 'a A',\n",
       " 's B']"
      ]
     },
     "execution_count": 42,
     "metadata": {},
     "output_type": "execute_result"
    }
   ],
   "source": [
    "## \\w 單詞字符:[A-Za-z0-9_]\n",
    "## \\W 非單詞字符:[시W)\n",
    "\n",
    "re.compile(r'\\w\\s\\w').findall(en)   #['s D',\n",
    "                                    # 'g 1',\n",
    "                                    # '1 P',"
   ]
  },
  {
   "cell_type": "code",
   "execution_count": 43,
   "id": "5faf202c",
   "metadata": {},
   "outputs": [
    {
     "data": {
      "text/plain": [
       "<re.Match object; span=(5, 6), match='m'>"
      ]
     },
     "execution_count": 43,
     "metadata": {},
     "output_type": "execute_result"
    }
   ],
   "source": [
    "## * 匹配前一個字符0或無限次。\n",
    "\n",
    "re.search('ma*',en)    # <re.Match object; span=(7, 8), match='m'>"
   ]
  },
  {
   "cell_type": "markdown",
   "id": "1f97d556",
   "metadata": {},
   "source": [
    "### 數量詞 (在字符後)"
   ]
  },
  {
   "cell_type": "code",
   "execution_count": 44,
   "id": "f55c3140",
   "metadata": {
    "scrolled": true
   },
   "outputs": [
    {
     "data": {
      "text/plain": [
       "['12Drummers',\n",
       " 'Drumming',\n",
       " '11',\n",
       " 'Pipers',\n",
       " 'Piping',\n",
       " '10',\n",
       " 'Lords',\n",
       " 'a',\n",
       " 'Leaping',\n",
       " '9',\n",
       " 'Ladies',\n",
       " 'Dancing',\n",
       " '8',\n",
       " 'Maids',\n",
       " 'a',\n",
       " 'Milking',\n",
       " '7',\n",
       " 'Swans',\n",
       " 'a',\n",
       " 'Swimming',\n",
       " '6',\n",
       " 'Geese',\n",
       " 'a',\n",
       " 'Laying',\n",
       " '5',\n",
       " 'Golden',\n",
       " 'Rings',\n",
       " '4',\n",
       " 'Calling',\n",
       " 'Birds',\n",
       " '3',\n",
       " 'French',\n",
       " 'Hens',\n",
       " '2',\n",
       " 'Turtle',\n",
       " 'Doves',\n",
       " 'and',\n",
       " 'a',\n",
       " 'Partridge',\n",
       " 'in',\n",
       " 'a',\n",
       " 'Pear',\n",
       " 'Tree',\n",
       " 'I',\n",
       " 'love',\n",
       " 'watching',\n",
       " 'movies',\n",
       " 'in',\n",
       " 'India',\n",
       " 'country',\n",
       " 'Ape',\n",
       " 'Bpe',\n",
       " 'Cpe',\n",
       " 'Dpe',\n",
       " 'cost',\n",
       " 'me',\n",
       " '2000',\n",
       " 'and',\n",
       " '10',\n",
       " 'F',\n",
       " 'B',\n",
       " 'I',\n",
       " 'I',\n",
       " 'R',\n",
       " 'S',\n",
       " 'CIA',\n",
       " 'Hahahahaha',\n",
       " 'Adventures',\n",
       " 'Batman']"
      ]
     },
     "execution_count": 44,
     "metadata": {},
     "output_type": "execute_result"
    }
   ],
   "source": [
    "## + 匹配前一個字符1次或無限次。\n",
    "\n",
    "re.search('Golden+',en)  #<re.Match object; span=(131, 137), match='Golden'>\n",
    "\n",
    "re.compile(r'[\\w.]+@\\w+\\.[a-z]{3}').findall(mail)         #['juck30808@gmail.com', 'juck30808@hotmail.com']\n",
    "re.compile(r'([\\w.]+)@(\\w+)\\.([a-z]{3})').findall(mail)   #[('juck30808', 'gmail', 'com'), ('juck30808', 'hotmail', 'com')]\n",
    "re.compile(r'\\w+').findall(en)   #['12Drummers',\n",
    "                                 # 'Drumming',\n",
    "                                 # '11',"
   ]
  },
  {
   "cell_type": "code",
   "execution_count": 45,
   "id": "6a3119eb",
   "metadata": {},
   "outputs": [],
   "source": [
    "## ? 匹配前一個字符0次或1次。"
   ]
  },
  {
   "cell_type": "code",
   "execution_count": 46,
   "id": "c9ac93e5",
   "metadata": {},
   "outputs": [
    {
     "name": "stdout",
     "output_type": "stream",
     "text": [
      "It is a zip code\n",
      "It is a phoneNum\n"
     ]
    }
   ],
   "source": [
    "## {m} 匹配前一個字符m次,\n",
    "\n",
    "re.search('e{2}', en)    # <re.Match object; span=(113, 115), match='ee'>\n",
    "re.search('m{2}', en)    # <re.Match object; span=(7, 9), match='mm'>\n",
    "\n",
    "re.compile(r'\\d{3}-\\d{3}-\\d{4}').search(phone)          # <re.Match object; span=(24, 36), match='415-424-1212'>\n",
    "re.compile(r'\\d{3}-\\d{3}-\\d{4}').search(phone).group()  #'415-424-1212'\n",
    "\n",
    "re.compile(r'\\w{3}').findall(en)                        # ['12D', 'rum', 'mer', 'Dru', 'mmi',\n",
    "re.compile(r'(ha){3}').search(en)                       # <re.Match object; span=(319, 325), match='hahaha'>\n",
    "re.compile(r'(ha){3}').search(en).group()               #'hahaha'\n",
    "\n",
    "dd = \"24012\"\n",
    "if re.search(\"\\d{5}\",dd): print(\"It is a zip code\")\n",
    "    \n",
    "dd = \"0909-000-123\"\n",
    "if re.search(\"\\w{4}-\\w{3}-\\w{3}\",dd): print(\"It is a phoneNum\")"
   ]
  },
  {
   "cell_type": "code",
   "execution_count": 47,
   "id": "e3af6c23",
   "metadata": {},
   "outputs": [
    {
     "name": "stdout",
     "output_type": "stream",
     "text": [
      "It is a full name\n"
     ]
    }
   ],
   "source": [
    "## {m,n} 匹配前一個字符m至n次。\n",
    "\n",
    "re.compile(r'(\\d){3,5}').search(mail)           #<re.Match object; span=(24, 29), match='30808'>\n",
    "re.compile(r'(\\d){3,5}').search(mail).group()   #'30808'\n",
    "re.compile(r'.{1,2}at').findall(en)             #[' wat']\n",
    "\n",
    "dd = \"Toshio Mauramatsu\"\n",
    "\n",
    "if re.search(\"\\w{2,20}\\s\\w{2,20}\",dd):\n",
    "    print(\"It is a full name\")"
   ]
  },
  {
   "cell_type": "markdown",
   "id": "a9d150e3",
   "metadata": {},
   "source": [
    "### 邊界匹配 (不消耗)"
   ]
  },
  {
   "cell_type": "code",
   "execution_count": 48,
   "id": "1d69a4ac",
   "metadata": {},
   "outputs": [
    {
     "data": {
      "text/plain": [
       "<re.Match object; span=(0, 2), match='12'>"
      ]
     },
     "execution_count": 48,
     "metadata": {},
     "output_type": "execute_result"
    }
   ],
   "source": [
    "## ^ 匹配字符串開頭。在多行模式中匹配每一行的開頭。\n",
    "\n",
    "re.search('^12',en)  # <re.Match object; span=(0, 2), match='12'>"
   ]
  },
  {
   "cell_type": "code",
   "execution_count": 49,
   "id": "b4346c09",
   "metadata": {},
   "outputs": [
    {
     "data": {
      "text/plain": [
       "<re.Match object; span=(0, 2), match='$a'>"
      ]
     },
     "execution_count": 49,
     "metadata": {},
     "output_type": "execute_result"
    }
   ],
   "source": [
    "## $ 匹配字符串末尾,在多行模式中匹配每一行的末尾。\n",
    "\n",
    "re.search('g$',en)\n",
    "re.search('\\$a', '$abc')  #<re.Match object; span=(0, 2), match='$a'>"
   ]
  },
  {
   "cell_type": "code",
   "execution_count": 50,
   "id": "bb460623",
   "metadata": {},
   "outputs": [],
   "source": [
    "## \\A 僅匹配字符串開頭。\n"
   ]
  },
  {
   "cell_type": "code",
   "execution_count": 51,
   "id": "75419848",
   "metadata": {},
   "outputs": [],
   "source": [
    "## \\Z 僅匹配字符串末尾"
   ]
  },
  {
   "cell_type": "code",
   "execution_count": 52,
   "id": "57029557",
   "metadata": {},
   "outputs": [
    {
     "data": {
      "text/plain": [
       "'Lords'"
      ]
     },
     "execution_count": 52,
     "metadata": {},
     "output_type": "execute_result"
    }
   ],
   "source": [
    "## \\b 匹配\\w 和\\W 之間。\n",
    "\n",
    "re.search(r\"\\bL\\w+\", en)         # <re.Match object; span=(40, 45), match='Lords'>\n",
    "re.search(r\"\\bL\\w+\", en).span()  # (40, 45)\n",
    "re.search(r\"\\bL\\w+\", en).string  #'12Drummers Drumming 11 Pipers Piping\n",
    "re.search(r\"\\bL\\w+\", en).group() #'Lords'"
   ]
  },
  {
   "cell_type": "code",
   "execution_count": 53,
   "id": "befc9e2d",
   "metadata": {},
   "outputs": [],
   "source": [
    "## \\B [\\b]"
   ]
  },
  {
   "cell_type": "markdown",
   "id": "962bb739",
   "metadata": {},
   "source": [
    "### Logistic"
   ]
  },
  {
   "cell_type": "code",
   "execution_count": 54,
   "id": "6838f50d",
   "metadata": {},
   "outputs": [
    {
     "data": {
      "text/plain": [
       "<re.Match object; span=(1, 2), match='a'>"
      ]
     },
     "execution_count": 54,
     "metadata": {},
     "output_type": "execute_result"
    }
   ],
   "source": [
    "## |  代表左右表達式任意匹配一個。匹配左邊的表達式,一旦成功匹配則跳過匹配右邊的表達式\n",
    "\n",
    "re.search('a|b', 'mango')        #<re.Match object; span=(1, 2), match='a'>"
   ]
  },
  {
   "cell_type": "code",
   "execution_count": 55,
   "id": "96a93907",
   "metadata": {},
   "outputs": [
    {
     "data": {
      "text/plain": [
       "[('Jerry', 'Chien')]"
      ]
     },
     "execution_count": 55,
     "metadata": {},
     "output_type": "execute_result"
    }
   ],
   "source": [
    "## (...) 被括起來的表達式將作為分組,從表達式左邊開始每遇到個分組的左活號(,編號+1\n",
    "\n",
    "re.search('(a)m', 'amm')                       #<re.Match object; span=(0, 2), match='am'>\n",
    "re.compile(r'Bat(wo)?man').search(en)          #<re.Match object; span=(339, 345), match='Batman'>\n",
    "re.compile(r'Bat(wo)?man').search(en).group()  #'Batman'\n",
    "re.compile(r'First Name: (.*) Last Name: (.*)').findall(name)   #[('Jerry', 'Chien')]"
   ]
  },
  {
   "cell_type": "code",
   "execution_count": 56,
   "id": "d7deb980",
   "metadata": {},
   "outputs": [
    {
     "data": {
      "text/plain": [
       "{'user': 'guido', 'domain': 'gamil', 'suffix': 'com'}"
      ]
     },
     "execution_count": 56,
     "metadata": {},
     "output_type": "execute_result"
    }
   ],
   "source": [
    "## (?P<name>...) 分組,除了原有的編號外再指定一個額外的別名。\n",
    "\n",
    "email4 = re.compile(r'(?P<user>[\\w.]+)@(?P<domain>\\w+)\\.(?P<suffix>[a-z]{3})')\n",
    "match = email4.match('guido@gamil.com')\n",
    "match.groupdict()"
   ]
  },
  {
   "cell_type": "code",
   "execution_count": 57,
   "id": "8a3e78a1",
   "metadata": {},
   "outputs": [
    {
     "data": {
      "text/plain": [
       "['To serve humans> for dinner.']"
      ]
     },
     "execution_count": 57,
     "metadata": {},
     "output_type": "execute_result"
    }
   ],
   "source": [
    "## \\<number> 引用編號為<number>的分組匹配到的字符串。\n",
    "\n",
    "serve = '<To serve humans> for dinner.>'\n",
    "re.compile(r'<(.*?)>').findall(serve)       #['To serve humans']   \n",
    "re.compile(r'<(.*)>').findall(serve)        #['To serve humans> for dinner.']"
   ]
  },
  {
   "cell_type": "code",
   "execution_count": 58,
   "id": "6d4ea283",
   "metadata": {},
   "outputs": [
    {
     "name": "stdout",
     "output_type": "stream",
     "text": [
      "Password NNN\n"
     ]
    }
   ],
   "source": [
    "## (?P=name) 引用別名為<name>的分組四配到的字符串。\n",
    "\n",
    "dd = \"psw123\"\n",
    "\n",
    "if re.search(re.compile(\"^(?=.*[a-z])(?=.*[A-Z])(?=.*\\d)(?=.*[@$!%*#?&])[A-Za-z\\d@$!#%*?&]{6,20}$\"),dd):\n",
    "    print(\"Password is valid\")\n",
    "else:\n",
    "    print(\"Password NNN\")"
   ]
  },
  {
   "cell_type": "markdown",
   "id": "0ddd5f4e",
   "metadata": {},
   "source": [
    "### 其他"
   ]
  },
  {
   "cell_type": "code",
   "execution_count": 59,
   "id": "ddc6fd71",
   "metadata": {},
   "outputs": [
    {
     "data": {
      "text/plain": [
       "16"
      ]
     },
     "execution_count": 59,
     "metadata": {},
     "output_type": "execute_result"
    }
   ],
   "source": [
    "line = 'the quick brown fox jumped over a lazy dog'\n",
    "\n",
    "regex = re.compile('fox')\n",
    "match = regex.search(line)\n",
    "match.start()"
   ]
  },
  {
   "cell_type": "code",
   "execution_count": 60,
   "id": "b797941f",
   "metadata": {},
   "outputs": [
    {
     "name": "stdout",
     "output_type": "stream",
     "text": [
      "<re.Match object; span=(0, 20), match='The match in Germany'>\n",
      "Yes! We have a match\n"
     ]
    }
   ],
   "source": [
    "newtext = \"The match in Germany\"\n",
    "x = re.search(\"^The.*Germany$\", newtext)\n",
    "print(x)\n",
    "\n",
    "if x:\n",
    "    print(\"Yes! We have a match\")\n",
    "else:\n",
    "    print(\"No match\")"
   ]
  },
  {
   "cell_type": "code",
   "execution_count": 61,
   "id": "e61bf4a7",
   "metadata": {},
   "outputs": [
    {
     "name": "stdout",
     "output_type": "stream",
     "text": [
      "test ffs\n"
     ]
    }
   ],
   "source": [
    "# strip sub\n",
    "import re\n",
    "def strip(text):\n",
    "    stripStartRegex = re.compile(r'(^\\s*)')\n",
    "    stripEndRegex = re.compile(r'(\\s*$)')\n",
    "\n",
    "    textStartStripped = stripStartRegex.sub('', text)\n",
    "    textStripped = stripEndRegex.sub('', textStartStripped)\n",
    "\n",
    "    return textStripped\n",
    "\n",
    "if __name__ == \"__main__\":\n",
    "    text = ' test ffs   '\n",
    "    print(strip(text))"
   ]
  },
  {
   "cell_type": "code",
   "execution_count": 62,
   "id": "97ccafcd",
   "metadata": {},
   "outputs": [
    {
     "name": "stdout",
     "output_type": "stream",
     "text": [
      "ape\n",
      "ape\n"
     ]
    }
   ],
   "source": [
    "allApes = re.findall(\"ape\",\"ape... together...strong... apes\")\n",
    "for i in allApes:\n",
    "    print(i)"
   ]
  },
  {
   "cell_type": "code",
   "execution_count": 63,
   "id": "88b0708c",
   "metadata": {},
   "outputs": [
    {
     "name": "stdout",
     "output_type": "stream",
     "text": [
      "(0, 3)\n",
      "ape\n",
      "(28, 31)\n",
      "ape\n"
     ]
    }
   ],
   "source": [
    "theStr = \"ape... together...strong... apes\"\n",
    "\n",
    "for i in re.finditer(\"ape\",theStr):\n",
    "    locTuple = i.span()\n",
    "    print(locTuple)\n",
    "    print(theStr[locTuple[0]:locTuple[1]])"
   ]
  },
  {
   "cell_type": "code",
   "execution_count": 64,
   "id": "c55e7193",
   "metadata": {},
   "outputs": [
    {
     "data": {
      "text/plain": [
       "['macbook@gmail.com']"
      ]
     },
     "execution_count": 64,
     "metadata": {},
     "output_type": "execute_result"
    }
   ],
   "source": [
    "dd = \"my email address is macbook@gmail.com\"\n",
    "\n",
    "re.findall(\"[\\w._%+-]{1,20}@[\\w.-]{2,20}.[A-Za-z]{2,3}\",dd)"
   ]
  },
  {
   "cell_type": "code",
   "execution_count": 65,
   "id": "d8d14986",
   "metadata": {},
   "outputs": [
    {
     "data": {
      "text/plain": [
       "['guido@python.org', 'guido@google.com']"
      ]
     },
     "execution_count": 65,
     "metadata": {},
     "output_type": "execute_result"
    }
   ],
   "source": [
    "dd = \"To email Guido, try guido@python.org or the older address guido@google.com.\"\n",
    "\n",
    "re.compile('\\w+@\\w+\\.[a-z]{3}').findall(dd)"
   ]
  },
  {
   "cell_type": "code",
   "execution_count": 66,
   "id": "950a9360",
   "metadata": {},
   "outputs": [
    {
     "name": "stdout",
     "output_type": "stream",
     "text": [
      "No phone numbers or email addresses found.\n"
     ]
    },
    {
     "data": {
      "text/plain": [
       "['12 Drummers',\n",
       " '11 Pipers',\n",
       " '10 Lords',\n",
       " '9 Ladies',\n",
       " '8 Maids',\n",
       " '7 Swans',\n",
       " '6 Geese',\n",
       " '5 Golden',\n",
       " '4 Calling',\n",
       " '3 French',\n",
       " '2 Turtle']"
      ]
     },
     "execution_count": 66,
     "metadata": {},
     "output_type": "execute_result"
    }
   ],
   "source": [
    "#!pip install pyperclip\n",
    "\n",
    "#Finds phone numbers and email addresses on the clipboard.\n",
    "\n",
    "import pyperclip, re\n",
    "phoneRegex = re.compile(r'''(\n",
    "    (\\d{3}|\\(\\d{3}\\))? # area code\n",
    "    (\\s|-|\\.)?         # separator\n",
    "    (\\d{3})              # first 3 digits\n",
    "    (\\s|-|\\.)          # separator\n",
    "    (\\d{4})              # last 4 digits\n",
    "    (\\s*(ext|x|ext.)\\s*(\\d{2,5}))?  # extension\n",
    "    )''', re.VERBOSE)\n",
    "\n",
    "# Create email regex.\n",
    "emailRegex = re.compile(r'''(\n",
    "    [a-zA-Z0-9._%+-]+      # username\n",
    "    @                      # @ symbol\n",
    "    [a-zA-Z0-9.-]+         # domain name\n",
    "    (\\.[a-zA-Z]{2,4}){1,2} # dot-something\n",
    "    )''', re.VERBOSE)\n",
    "\n",
    "# Find matches in clipboard text.\n",
    "text = str(pyperclip.paste())\n",
    "\n",
    "matches = []\n",
    "for groups in phoneRegex.findall(text):\n",
    "    phoneNum = '-'.join([groups[1], groups[3], groups[5]])\n",
    "    if groups[8] != '':\n",
    "        phoneNum += ' x' + groups[8]\n",
    "    matches.append(phoneNum)\n",
    "for groups in emailRegex.findall(text):\n",
    "    matches.append(groups[0])\n",
    "\n",
    "# Copy results to the clipboard.\n",
    "if len(matches) > 0:\n",
    "    pyperclip.copy('\\n'.join(matches))\n",
    "    print('Copied to clipboard:')\n",
    "    print('\\n'.join(matches))\n",
    "else:\n",
    "    print('No phone numbers or email addresses found.')\n",
    "\n",
    "lyrics = '12 Drummers Drumming 11 Pipers Piping 10 Lords a Leaping 9 Ladies Dancing 8 Maids a Milking \\\n",
    "7 Swans a Swimming 6 Geese a Laying 5 Golden Rings 4 Calling Birds 3 French Hens 2 Turtle Doves and a Partridge in a Pear Tree'\n",
    "\n",
    "xmasRegex = re.compile(r'\\d+\\s\\w+')\n",
    "xmasRegex.findall(lyrics)"
   ]
  },
  {
   "cell_type": "code",
   "execution_count": 67,
   "id": "12952e5b",
   "metadata": {},
   "outputs": [
    {
     "name": "stdout",
     "output_type": "stream",
     "text": [
      "415-555-4242 is a phone number:\n",
      "True\n",
      "Moshi moshi is a phone number:\n",
      "False\n",
      "----------\n",
      "Call 415-555\n",
      "all 415-555-\n",
      "ll 415-555-1\n",
      "l 415-555-10\n",
      " 415-555-101\n",
      "415-555-1011\n",
      "15-555-1011 \n",
      "5-555-1011 o\n",
      "-555-1011 of\n",
      "555-1011 off\n",
      "55-1011 offi\n",
      "5-1011 offic\n",
      "-1011 office\n",
      "1011 office\n",
      "011 office\n",
      "11 office\n",
      "1 office\n",
      " office\n",
      "office\n",
      "ffice\n",
      "fice\n",
      "ice\n",
      "ce\n",
      "e\n"
     ]
    }
   ],
   "source": [
    "#23 須深入 Regular Expression \n",
    "# 非正規表達式 (擁擠)\n",
    "\n",
    "def isPhoneNumber(text):\n",
    "    if len(text) != 12:  #long ?\n",
    "        return False\n",
    "    for i in range(0,3):\n",
    "        if not text[i].isdecimal():  #is number?\n",
    "            return False\n",
    "    if text[3] != '-':   #in - \n",
    "        return False\n",
    "    for i in range(4,7):\n",
    "        if not text[i].isdecimal():\n",
    "            return False\n",
    "    if text[7] != '-':\n",
    "        return False\n",
    "    for i in range(8,12):\n",
    "        if not text[i].isdecimal():\n",
    "            return False\n",
    "    return True\n",
    "    #[7]如果前面所有的判斷基線都沒有發現問題，那就認為這個字符串是電話號碼\n",
    "\n",
    "print('415-555-4242 is a phone number:')\n",
    "print(isPhoneNumber('415-555-4242'))\n",
    "print('Moshi moshi is a phone number:')\n",
    "print(isPhoneNumber('Moshi moshi'))\n",
    "print('----------')\n",
    "\n",
    "message = 'Call 415-555-1011 office'\n",
    "for i in range(len(message)):\n",
    "    chunk = message[i:i+12]\n",
    "    print(chunk)"
   ]
  },
  {
   "cell_type": "code",
   "execution_count": 68,
   "id": "7f8fcb3a",
   "metadata": {},
   "outputs": [
    {
     "name": "stdout",
     "output_type": "stream",
     "text": [
      "True\n"
     ]
    }
   ],
   "source": [
    "import re\n",
    "\n",
    "def testPasswordStrength(password):\n",
    "    eightCharsLongRegex = re.compile(r'[\\w\\d\\s\\W\\D\\S]{8,}')\n",
    "    upperCaseRegex = re.compile(r'[A-Z]+')\n",
    "    lowerCaseRegex = re.compile(r'[a-z]+')\n",
    "    oneOrMoreDigitRegex = re.compile(r'\\d+')\n",
    "    \n",
    "    if not eightCharsLongRegex.search(password):\n",
    "        return False\n",
    "    elif not upperCaseRegex.search(password):\n",
    "        return False\n",
    "    elif not lowerCaseRegex.search(password):\n",
    "        return False\n",
    "    elif not oneOrMoreDigitRegex.search(password):\n",
    "        return False\n",
    "    return True\n",
    "    \n",
    "\n",
    "if __name__ == \"__main__\":\n",
    "    password = 'A&dsas9$_'\n",
    "    print(testPasswordStrength(password))"
   ]
  },
  {
   "cell_type": "code",
   "execution_count": 69,
   "id": "f7b5a68b",
   "metadata": {},
   "outputs": [
    {
     "name": "stdout",
     "output_type": "stream",
     "text": [
      "\n"
     ]
    }
   ],
   "source": [
    "#re-auto_madLibs\n",
    "\n",
    "import os\n",
    "import re\n",
    "\n",
    "def madLibs(input_file, output_file):\n",
    "    regex = re.compile(r'(NOUN|ADJECTIVE|ADVERB|VERB)')\n",
    "\n",
    "    with open(input_file, 'r') as in_file, open(output_file, 'w') as out_file:\n",
    "        content = in_file.read()\n",
    "        matches = regex.findall(content)\n",
    "        for found in matches:\n",
    "            sub = input('Enter a ' + found + ': ')\n",
    "            content = content.replace(found, sub, 1)\n",
    "\n",
    "        out_file.write(content)\n",
    "        print(content)\n",
    "\n",
    "if __name__ == \"__main__\":\n",
    "    madLibs('input/re-madLibs.txt', 'input/re-madLibs.txt')"
   ]
  }
 ],
 "metadata": {
  "kernelspec": {
   "display_name": "Python 3 (ipykernel)",
   "language": "python",
   "name": "python3"
  },
  "language_info": {
   "codemirror_mode": {
    "name": "ipython",
    "version": 3
   },
   "file_extension": ".py",
   "mimetype": "text/x-python",
   "name": "python",
   "nbconvert_exporter": "python",
   "pygments_lexer": "ipython3",
   "version": "3.11.3"
  }
 },
 "nbformat": 4,
 "nbformat_minor": 5
}
