{
 "cells": [
  {
   "cell_type": "markdown",
   "id": "b4a40bc0",
   "metadata": {},
   "source": [
    "## Regular expression (正規表示式)\n",
    "推薦一個好用的即時檢查re的工具——https://regex101.com/\n",
    "\n",
    "- re.search找到第一筆匹配的,回傳re.Match型態\n",
    "- re.findall找所有匹配的，回傳一個list"
   ]
  },
  {
   "cell_type": "code",
   "execution_count": 1,
   "id": "c43327eb",
   "metadata": {},
   "outputs": [],
   "source": [
    "import re\n",
    "\n",
    "text = \"\"\"\n",
    "中央流行疫情指揮中心今(29)日公布國內新增11例COVID-19確定病例，分別為1例本土及10例境外移入；另確診個案中無新增死亡。\n",
    "指揮中心表示，今日新增1例本土個案(案16326)，為印尼籍30多歲女性，今(2021)年9月27日出現頭痛症狀，9月28日就醫採檢，於今日確診。衛生單位已匡列接觸者7人，均列居家隔離，其餘接觸者匡列中。\n",
    "指揮中心指出，今日新增10例境外移入個案，為9例男性、1例女性，年齡介於20多歲至40多歲，入境日介於9月3日至9月28日，分別自美國(案16316)、哈薩克(2例，案16317、案16318)、巴基斯坦(案16319)、柬埔寨(16320)、俄羅斯(案16324)及菲律賓(案16325)入境，餘3例 (案16321、案16322、案16323)的旅遊國家調查中；詳如新聞稿附件。\n",
    "指揮中心統計，截至目前國內累計3,358,228例新型冠狀病毒肺炎相關通報(含3,341,439例排除)，其中16,216例確診，分別為1,581例境外移入，14,581例本土病例，36例敦睦艦隊、3例航空器感染、1例不明及14例調查中；另累計110例移除為空號。2020年起累計842例COVID-19死亡病例，其中830例本土，個案居住縣市分布為新北市412例、臺北市318例、基隆市28例、桃園市26例、彰化縣15例、新竹縣13例、臺中市5例、苗栗縣3例、宜蘭縣及花蓮縣各2例，臺東縣、雲林縣、臺南市、南投縣、高雄市及屏東縣各1例；另12例為境外移入。\n",
    "指揮中心再次呼籲，民眾應落實手部衛生、咳嗽禮節及佩戴口罩等個人防護措施，減少不必要移動、活動或集會，避免出入人多擁擠的場所，或高感染傳播風險場域，並主動積極配合各項防疫措施，共同嚴守社區防線。\n",
    "\"\"\""
   ]
  },
  {
   "cell_type": "code",
   "execution_count": 2,
   "id": "ff7b12dd",
   "metadata": {},
   "outputs": [],
   "source": [
    "en = \"\"\"12Drummers Drumming 11 Pipers Piping 10 Lords a Leaping 9 Ladies Dancing 8 Maids a Milking 7 Swans a Swimming\n",
    "6 Geese a Laying 5 Golden Rings 4 Calling Birds 3 French Hens 2 Turtle Doves and a Partridge in a Pear Tree\n",
    "I love watching movies in India country. Ape Bpe Cpe Dpe cost me $2000 and $10, F.B.I. I.R.S. CIA, Hahahahaha Adventures Batman\n",
    "\"\"\""
   ]
  },
  {
   "cell_type": "code",
   "execution_count": 3,
   "id": "9db0db55",
   "metadata": {},
   "outputs": [],
   "source": [
    "phone = \"Please call the number: 415-424-1212 on time\"\n",
    "mail  = \"To email Jerry, try juck30808@gmail.com.tw  or other address juck30808@hotmail.com\"\n",
    "name  = 'First Name: Jerry Last Name: Chien'"
   ]
  },
  {
   "cell_type": "markdown",
   "id": "3da476b1",
   "metadata": {},
   "source": [
    "### 字符"
   ]
  },
  {
   "cell_type": "code",
   "execution_count": 4,
   "id": "234c2173",
   "metadata": {},
   "outputs": [
    {
     "data": {
      "text/plain": [
       "['ipe', 'Ape', 'Bpe', 'Cpe', 'Dpe']"
      ]
     },
     "execution_count": 4,
     "metadata": {},
     "output_type": "execute_result"
    }
   ],
   "source": [
    "## . 匹配任何字符\n",
    "\n",
    "re.search('.',text)    # <re.Match object; span=(1, 2), match='中'>\n",
    "re.search('^',text)    # <re.Match object; span=(0, 0), match=''>\n",
    "re.compile(r'.pe').findall(en)  # ['ipe', 'Ape', 'Bpe', 'Cpe', 'Dpe']"
   ]
  },
  {
   "cell_type": "code",
   "execution_count": 5,
   "id": "9661331e",
   "metadata": {},
   "outputs": [
    {
     "data": {
      "text/plain": [
       "['F.B.I', 'I.R.S']"
      ]
     },
     "execution_count": 5,
     "metadata": {},
     "output_type": "execute_result"
    }
   ],
   "source": [
    "## \\ 轉意字符，使後面字符轉變意思\n",
    "\n",
    "re.compile(r'\\$..').findall(en)  # ['$20', '$10']\n",
    "re.findall(\".\\..\\..\",en)         # ['F.B.I', 'I.R.S']"
   ]
  },
  {
   "cell_type": "code",
   "execution_count": 6,
   "id": "917be6d6",
   "metadata": {
    "scrolled": true
   },
   "outputs": [
    {
     "data": {
      "text/plain": [
       "['12Drummers Drumming 11 Pipers Piping 10 Lords a Leaping 9 Ladies Dancing 8 Maids a Milking 7 Swans a Swimming\\n6 Geese a Laying 5 Golden Rings 4 Calling Birds 3 French Hens 2 Turtle Doves and a Partridge in a Pear Tree\\nI love watching movies in India country. Ape Bpe Cpe Dpe cost me ',\n",
       " '2000 and ',\n",
       " '10, F.B.I. I.R.S. CIA, Hahahahaha Adventures Batman\\n']"
      ]
     },
     "execution_count": 6,
     "metadata": {},
     "output_type": "execute_result"
    }
   ],
   "source": [
    "## [...] 字符集，範圍內任意字符意思\n",
    "\n",
    "re.search('[abc]',en)              # <re.Match object; span=(46, 47), match='a'>\n",
    "re.search('[COVID]',text)          # <re.Match object; span=(26, 27), match='C'>\n",
    "\n",
    "re.findall(\"..[縣市]\", text)       #  ['..縣','..市','臺北市','基隆市','桃園市','彰化縣','新竹縣','臺中市']\n",
    "re.findall(\"[ABD]pe\",en)           # ['Ape', 'Bpe', 'Dpe']\n",
    "re.findall(\"[A-Z]pe\",en)           # ['Ape', 'Bpe', 'Cpe', 'Dpe']\n",
    "re.findall(\"[^C]pe\",en)            # ['ipe', 'Ape', 'Bpe', 'Dpe']\n",
    "re.findall('[a]',en)               # ['a', 'a','a','a',...\n",
    "re.findall('[arn]',en)             # ['r', 'r','r','n',...\n",
    "re.findall('[^arn]',en)            # ['\\n','1','2',' ','D','u','m','m',\n",
    "re.findall('[a-n]',en)             # ['m', 'm','e','m',...\n",
    "re.findall('[a-zA-Z]',en)          # ['D', 'r','u','m',...\n",
    "\n",
    "re.compile(r'[aeiouAEIOU]').findall(en)   #vowelRegex\n",
    "re.compile(r'[^aeiouAEIOU]').findall(en)  #nativeRegex\n",
    "re.compile('[$]').split(en)  #['\\n12 Drummers Drumming 11 Pipers Piping 10 Lords a Leaping 9 Ladies Dancing 8 Maids a Milking\\n7 Swans a Swimming 6 Geese a Laying 5 Golden Rings 4 Calling Birds 3 French Hens 2 Turtle Doves and a Partridge in a Pear Tree\\nI love watching movies.India is my country. Ape Bpe Cpe Dpe.',\n",
    "                             # '2000 ',\n",
    "                             # '10, F.B.I. I.R.S. CIA\"\\n']"
   ]
  },
  {
   "cell_type": "markdown",
   "id": "7a93d02a",
   "metadata": {},
   "source": [
    "### 預定義字符 "
   ]
  },
  {
   "cell_type": "code",
   "execution_count": 7,
   "id": "d9c39fa0",
   "metadata": {},
   "outputs": [
    {
     "data": {
      "text/plain": [
       "'415-424-1212'"
      ]
     },
     "execution_count": 7,
     "metadata": {},
     "output_type": "execute_result"
    }
   ],
   "source": [
    "## \\d 取得 [0-9] 數字 \n",
    "## \\D 取得 [^\\d] 非數字\n",
    "\n",
    "re.search(\"新增\\d+例本土\",text)       # span=(77, 83), match='新增1例本土'>\n",
    "re.findall(\"新增\\d+例境外\", text)     # ['新增10例境外']\n",
    "re.findall(\"新增(\\d+)例境外\", text)   # ['10']\n",
    "re.findall('\\D',en)                  # ['\\n',' ','D','r','u',.....]\n",
    "\n",
    "re.compile(r'\\d\\d\\d-\\d\\d\\d-\\d\\d\\d\\d').search(phone)          # <re.Match object; span=(24, 36), match='415-424-1212'>\n",
    "re.compile(r'\\d\\d\\d-\\d\\d\\d-\\d\\d\\d\\d').search(phone).group()  #'415-424-1212'"
   ]
  },
  {
   "cell_type": "code",
   "execution_count": 8,
   "id": "a076a5a7",
   "metadata": {},
   "outputs": [
    {
     "data": {
      "text/plain": [
       "['12Drummers',\n",
       " 'Drumming 11 Pipers Piping 10 Lords a Leaping 9 Ladies Dancing 8 Maids a Milking 7 Swans a Swimming\\n6 Geese a Laying 5 Golden Rings 4 Calling Birds 3 French Hens 2 Turtle Doves and a Partridge in a Pear Tree\\nI love watching movies in India country. Ape Bpe Cpe Dpe cost me $2000 and $10, F.B.I. I.R.S. CIA, Hahahahaha Adventures Batman\\n']"
      ]
     },
     "execution_count": 8,
     "metadata": {},
     "output_type": "execute_result"
    }
   ],
   "source": [
    "## \\s 空白字符:[<空格>\\t\\r\\n\\F\\v]\n",
    "## \\S 非空白字符:[^\\s]\n",
    "\n",
    "re.search(\"\\s\", en).start()  #10  The first white space is located in position\n",
    "re.search(\"\\s\", en).end()    #11\n",
    "\n",
    "re.sub('\\s','_' ,en)         # 12Drummers_Drumming_11_Pipers_\n",
    "re.sub(\"\\s\", \"|\", en)        # 12Drummers|Drumming|11|Pipers|\n",
    "\n",
    "re.split('\\s', en)           # ['12Drummers','Drumming','11','Pipers',\n",
    "re.split(\"\\s\", en, 1)        # ['12Drummers',\n",
    "                             #  'Drumming 11 Pipers Piping "
   ]
  },
  {
   "cell_type": "code",
   "execution_count": 9,
   "id": "0f7a82fa",
   "metadata": {},
   "outputs": [
    {
     "data": {
      "text/plain": [
       "['s D',\n",
       " 'g 1',\n",
       " '1 P',\n",
       " 's P',\n",
       " 'g 1',\n",
       " '0 L',\n",
       " 's a',\n",
       " 'g 9',\n",
       " 's D',\n",
       " 'g 8',\n",
       " 's a',\n",
       " 'g 7',\n",
       " 's a',\n",
       " 'g\\n6',\n",
       " 'e a',\n",
       " 'g 5',\n",
       " 'n R',\n",
       " 's 4',\n",
       " 'g B',\n",
       " 's 3',\n",
       " 'h H',\n",
       " 's 2',\n",
       " 'e D',\n",
       " 's a',\n",
       " 'd a',\n",
       " 'e i',\n",
       " 'n a',\n",
       " 'r T',\n",
       " 'e\\nI',\n",
       " 'e w',\n",
       " 'g m',\n",
       " 's i',\n",
       " 'n I',\n",
       " 'a c',\n",
       " 'e B',\n",
       " 'e C',\n",
       " 'e D',\n",
       " 'e c',\n",
       " 't m',\n",
       " '0 a',\n",
       " 'a A',\n",
       " 's B']"
      ]
     },
     "execution_count": 9,
     "metadata": {},
     "output_type": "execute_result"
    }
   ],
   "source": [
    "## \\w 單詞字符:[A-Za-z0-9_]\n",
    "## \\W 非單詞字符:[시W)\n",
    "\n",
    "re.compile(r'\\w\\s\\w').findall(en)   #['s D',\n",
    "                                    # 'g 1',\n",
    "                                    # '1 P',"
   ]
  },
  {
   "cell_type": "code",
   "execution_count": 10,
   "id": "5faf202c",
   "metadata": {},
   "outputs": [
    {
     "data": {
      "text/plain": [
       "<re.Match object; span=(5, 6), match='m'>"
      ]
     },
     "execution_count": 10,
     "metadata": {},
     "output_type": "execute_result"
    }
   ],
   "source": [
    "## * 匹配前一個字符0或無限次。\n",
    "\n",
    "re.search('ma*',en)    # <re.Match object; span=(7, 8), match='m'>"
   ]
  },
  {
   "cell_type": "markdown",
   "id": "1f97d556",
   "metadata": {},
   "source": [
    "### 數量詞 (在字符後)"
   ]
  },
  {
   "cell_type": "code",
   "execution_count": 11,
   "id": "f55c3140",
   "metadata": {
    "scrolled": true
   },
   "outputs": [
    {
     "data": {
      "text/plain": [
       "['12Drummers',\n",
       " 'Drumming',\n",
       " '11',\n",
       " 'Pipers',\n",
       " 'Piping',\n",
       " '10',\n",
       " 'Lords',\n",
       " 'a',\n",
       " 'Leaping',\n",
       " '9',\n",
       " 'Ladies',\n",
       " 'Dancing',\n",
       " '8',\n",
       " 'Maids',\n",
       " 'a',\n",
       " 'Milking',\n",
       " '7',\n",
       " 'Swans',\n",
       " 'a',\n",
       " 'Swimming',\n",
       " '6',\n",
       " 'Geese',\n",
       " 'a',\n",
       " 'Laying',\n",
       " '5',\n",
       " 'Golden',\n",
       " 'Rings',\n",
       " '4',\n",
       " 'Calling',\n",
       " 'Birds',\n",
       " '3',\n",
       " 'French',\n",
       " 'Hens',\n",
       " '2',\n",
       " 'Turtle',\n",
       " 'Doves',\n",
       " 'and',\n",
       " 'a',\n",
       " 'Partridge',\n",
       " 'in',\n",
       " 'a',\n",
       " 'Pear',\n",
       " 'Tree',\n",
       " 'I',\n",
       " 'love',\n",
       " 'watching',\n",
       " 'movies',\n",
       " 'in',\n",
       " 'India',\n",
       " 'country',\n",
       " 'Ape',\n",
       " 'Bpe',\n",
       " 'Cpe',\n",
       " 'Dpe',\n",
       " 'cost',\n",
       " 'me',\n",
       " '2000',\n",
       " 'and',\n",
       " '10',\n",
       " 'F',\n",
       " 'B',\n",
       " 'I',\n",
       " 'I',\n",
       " 'R',\n",
       " 'S',\n",
       " 'CIA',\n",
       " 'Hahahahaha',\n",
       " 'Adventures',\n",
       " 'Batman']"
      ]
     },
     "execution_count": 11,
     "metadata": {},
     "output_type": "execute_result"
    }
   ],
   "source": [
    "## + 匹配前一個字符1次或無限次。\n",
    "\n",
    "re.search('Golden+',en)  #<re.Match object; span=(131, 137), match='Golden'>\n",
    "\n",
    "re.compile(r'[\\w.]+@\\w+\\.[a-z]{3}').findall(mail)         #['juck30808@gmail.com', 'juck30808@hotmail.com']\n",
    "re.compile(r'([\\w.]+)@(\\w+)\\.([a-z]{3})').findall(mail)   #[('juck30808', 'gmail', 'com'), ('juck30808', 'hotmail', 'com')]\n",
    "re.compile(r'\\w+').findall(en)   #['12Drummers',\n",
    "                                 # 'Drumming',\n",
    "                                 # '11',"
   ]
  },
  {
   "cell_type": "code",
   "execution_count": 12,
   "id": "6a3119eb",
   "metadata": {},
   "outputs": [],
   "source": [
    "## ? 匹配前一個字符0次或1次。"
   ]
  },
  {
   "cell_type": "code",
   "execution_count": 13,
   "id": "c9ac93e5",
   "metadata": {},
   "outputs": [
    {
     "name": "stdout",
     "output_type": "stream",
     "text": [
      "It is a zip code\n",
      "It is a phoneNum\n"
     ]
    }
   ],
   "source": [
    "## {m} 匹配前一個字符m次,\n",
    "\n",
    "re.search('e{2}', en)    # <re.Match object; span=(113, 115), match='ee'>\n",
    "re.search('m{2}', en)    # <re.Match object; span=(7, 9), match='mm'>\n",
    "\n",
    "re.compile(r'\\d{3}-\\d{3}-\\d{4}').search(phone)          # <re.Match object; span=(24, 36), match='415-424-1212'>\n",
    "re.compile(r'\\d{3}-\\d{3}-\\d{4}').search(phone).group()  #'415-424-1212'\n",
    "\n",
    "re.compile(r'\\w{3}').findall(en)                        # ['12D', 'rum', 'mer', 'Dru', 'mmi',\n",
    "re.compile(r'(ha){3}').search(en)                       # <re.Match object; span=(319, 325), match='hahaha'>\n",
    "re.compile(r'(ha){3}').search(en).group()               #'hahaha'\n",
    "\n",
    "dd = \"24012\"\n",
    "if re.search(\"\\d{5}\",dd): print(\"It is a zip code\")\n",
    "    \n",
    "dd = \"0909-000-123\"\n",
    "if re.search(\"\\w{4}-\\w{3}-\\w{3}\",dd): print(\"It is a phoneNum\")"
   ]
  },
  {
   "cell_type": "code",
   "execution_count": 14,
   "id": "e3af6c23",
   "metadata": {},
   "outputs": [
    {
     "name": "stdout",
     "output_type": "stream",
     "text": [
      "It is a full name\n"
     ]
    }
   ],
   "source": [
    "## {m,n} 匹配前一個字符m至n次。\n",
    "\n",
    "re.compile(r'(\\d){3,5}').search(mail)           #<re.Match object; span=(24, 29), match='30808'>\n",
    "re.compile(r'(\\d){3,5}').search(mail).group()   #'30808'\n",
    "re.compile(r'.{1,2}at').findall(en)             #[' wat']\n",
    "\n",
    "dd = \"Toshio Mauramatsu\"\n",
    "\n",
    "if re.search(\"\\w{2,20}\\s\\w{2,20}\",dd):\n",
    "    print(\"It is a full name\")"
   ]
  },
  {
   "cell_type": "markdown",
   "id": "a9d150e3",
   "metadata": {},
   "source": [
    "### 邊界匹配 (不消耗)"
   ]
  },
  {
   "cell_type": "code",
   "execution_count": 15,
   "id": "1d69a4ac",
   "metadata": {},
   "outputs": [
    {
     "data": {
      "text/plain": [
       "<re.Match object; span=(0, 2), match='12'>"
      ]
     },
     "execution_count": 15,
     "metadata": {},
     "output_type": "execute_result"
    }
   ],
   "source": [
    "## ^ 匹配字符串開頭。在多行模式中匹配每一行的開頭。\n",
    "\n",
    "re.search('^12',en)  # <re.Match object; span=(0, 2), match='12'>"
   ]
  },
  {
   "cell_type": "code",
   "execution_count": 16,
   "id": "b4346c09",
   "metadata": {},
   "outputs": [
    {
     "data": {
      "text/plain": [
       "<re.Match object; span=(0, 2), match='$a'>"
      ]
     },
     "execution_count": 16,
     "metadata": {},
     "output_type": "execute_result"
    }
   ],
   "source": [
    "## $ 匹配字符串末尾,在多行模式中匹配每一行的末尾。\n",
    "\n",
    "re.search('g$',en)\n",
    "re.search('\\$a', '$abc')  #<re.Match object; span=(0, 2), match='$a'>"
   ]
  },
  {
   "cell_type": "code",
   "execution_count": 17,
   "id": "bb460623",
   "metadata": {},
   "outputs": [],
   "source": [
    "## \\A 僅匹配字符串開頭。\n"
   ]
  },
  {
   "cell_type": "code",
   "execution_count": 18,
   "id": "75419848",
   "metadata": {},
   "outputs": [],
   "source": [
    "## \\Z 僅匹配字符串末尾"
   ]
  },
  {
   "cell_type": "code",
   "execution_count": 19,
   "id": "57029557",
   "metadata": {},
   "outputs": [
    {
     "data": {
      "text/plain": [
       "'Lords'"
      ]
     },
     "execution_count": 19,
     "metadata": {},
     "output_type": "execute_result"
    }
   ],
   "source": [
    "## \\b 匹配\\w 和\\W 之間。\n",
    "\n",
    "re.search(r\"\\bL\\w+\", en)         # <re.Match object; span=(40, 45), match='Lords'>\n",
    "re.search(r\"\\bL\\w+\", en).span()  # (40, 45)\n",
    "re.search(r\"\\bL\\w+\", en).string  #'12Drummers Drumming 11 Pipers Piping\n",
    "re.search(r\"\\bL\\w+\", en).group() #'Lords'"
   ]
  },
  {
   "cell_type": "code",
   "execution_count": 20,
   "id": "befc9e2d",
   "metadata": {},
   "outputs": [],
   "source": [
    "## \\B [\\b]"
   ]
  },
  {
   "cell_type": "markdown",
   "id": "962bb739",
   "metadata": {},
   "source": [
    "### Logistic"
   ]
  },
  {
   "cell_type": "code",
   "execution_count": 21,
   "id": "6838f50d",
   "metadata": {},
   "outputs": [
    {
     "data": {
      "text/plain": [
       "<re.Match object; span=(1, 2), match='a'>"
      ]
     },
     "execution_count": 21,
     "metadata": {},
     "output_type": "execute_result"
    }
   ],
   "source": [
    "## |  代表左右表達式任意匹配一個。匹配左邊的表達式,一旦成功匹配則跳過匹配右邊的表達式\n",
    "\n",
    "re.search('a|b', 'mango')        #<re.Match object; span=(1, 2), match='a'>"
   ]
  },
  {
   "cell_type": "code",
   "execution_count": 22,
   "id": "96a93907",
   "metadata": {},
   "outputs": [
    {
     "data": {
      "text/plain": [
       "[('Jerry', 'Chien')]"
      ]
     },
     "execution_count": 22,
     "metadata": {},
     "output_type": "execute_result"
    }
   ],
   "source": [
    "## (...) 被括起來的表達式將作為分組,從表達式左邊開始每遇到個分組的左活號(,編號+1\n",
    "\n",
    "re.search('(a)m', 'amm')                       #<re.Match object; span=(0, 2), match='am'>\n",
    "re.compile(r'Bat(wo)?man').search(en)          #<re.Match object; span=(339, 345), match='Batman'>\n",
    "re.compile(r'Bat(wo)?man').search(en).group()  #'Batman'\n",
    "re.compile(r'First Name: (.*) Last Name: (.*)').findall(name)   #[('Jerry', 'Chien')]"
   ]
  },
  {
   "cell_type": "code",
   "execution_count": 23,
   "id": "d7deb980",
   "metadata": {},
   "outputs": [
    {
     "data": {
      "text/plain": [
       "{'user': 'guido', 'domain': 'gamil', 'suffix': 'com'}"
      ]
     },
     "execution_count": 23,
     "metadata": {},
     "output_type": "execute_result"
    }
   ],
   "source": [
    "## (?P<name>...) 分組,除了原有的編號外再指定一個額外的別名。\n",
    "\n",
    "email4 = re.compile(r'(?P<user>[\\w.]+)@(?P<domain>\\w+)\\.(?P<suffix>[a-z]{3})')\n",
    "match = email4.match('guido@gamil.com')\n",
    "match.groupdict()"
   ]
  },
  {
   "cell_type": "code",
   "execution_count": 24,
   "id": "8a3e78a1",
   "metadata": {},
   "outputs": [
    {
     "data": {
      "text/plain": [
       "['To serve humans> for dinner.']"
      ]
     },
     "execution_count": 24,
     "metadata": {},
     "output_type": "execute_result"
    }
   ],
   "source": [
    "## \\<number> 引用編號為<number>的分組匹配到的字符串。\n",
    "\n",
    "serve = '<To serve humans> for dinner.>'\n",
    "re.compile(r'<(.*?)>').findall(serve)       #['To serve humans']   \n",
    "re.compile(r'<(.*)>').findall(serve)        #['To serve humans> for dinner.']"
   ]
  },
  {
   "cell_type": "code",
   "execution_count": 25,
   "id": "6d4ea283",
   "metadata": {},
   "outputs": [
    {
     "name": "stdout",
     "output_type": "stream",
     "text": [
      "Password NNN\n"
     ]
    }
   ],
   "source": [
    "## (?P=name) 引用別名為<name>的分組四配到的字符串。\n",
    "\n",
    "dd = \"psw123\"\n",
    "\n",
    "if re.search(re.compile(\"^(?=.*[a-z])(?=.*[A-Z])(?=.*\\d)(?=.*[@$!%*#?&])[A-Za-z\\d@$!#%*?&]{6,20}$\"),dd):\n",
    "    print(\"Password is valid\")\n",
    "else:\n",
    "    print(\"Password NNN\")"
   ]
  },
  {
   "cell_type": "markdown",
   "id": "0ddd5f4e",
   "metadata": {},
   "source": [
    "### 其他"
   ]
  },
  {
   "cell_type": "code",
   "execution_count": 26,
   "id": "ddc6fd71",
   "metadata": {},
   "outputs": [
    {
     "data": {
      "text/plain": [
       "16"
      ]
     },
     "execution_count": 26,
     "metadata": {},
     "output_type": "execute_result"
    }
   ],
   "source": [
    "line = 'the quick brown fox jumped over a lazy dog'\n",
    "\n",
    "regex = re.compile('fox')\n",
    "match = regex.search(line)\n",
    "match.start()"
   ]
  },
  {
   "cell_type": "code",
   "execution_count": 27,
   "id": "b797941f",
   "metadata": {},
   "outputs": [
    {
     "name": "stdout",
     "output_type": "stream",
     "text": [
      "<re.Match object; span=(0, 20), match='The match in Germany'>\n",
      "Yes! We have a match\n"
     ]
    }
   ],
   "source": [
    "newtext = \"The match in Germany\"\n",
    "x = re.search(\"^The.*Germany$\", newtext)\n",
    "print(x)\n",
    "\n",
    "if x:\n",
    "    print(\"Yes! We have a match\")\n",
    "else:\n",
    "    print(\"No match\")"
   ]
  },
  {
   "cell_type": "code",
   "execution_count": 28,
   "id": "e61bf4a7",
   "metadata": {},
   "outputs": [
    {
     "name": "stdout",
     "output_type": "stream",
     "text": [
      "test ffs\n"
     ]
    }
   ],
   "source": [
    "# strip sub\n",
    "import re\n",
    "def strip(text):\n",
    "    stripStartRegex = re.compile(r'(^\\s*)')\n",
    "    stripEndRegex = re.compile(r'(\\s*$)')\n",
    "\n",
    "    textStartStripped = stripStartRegex.sub('', text)\n",
    "    textStripped = stripEndRegex.sub('', textStartStripped)\n",
    "\n",
    "    return textStripped\n",
    "\n",
    "if __name__ == \"__main__\":\n",
    "    text = ' test ffs   '\n",
    "    print(strip(text))"
   ]
  },
  {
   "cell_type": "code",
   "execution_count": 29,
   "id": "97ccafcd",
   "metadata": {},
   "outputs": [
    {
     "name": "stdout",
     "output_type": "stream",
     "text": [
      "ape\n",
      "ape\n"
     ]
    }
   ],
   "source": [
    "allApes = re.findall(\"ape\",\"ape... together...strong... apes\")\n",
    "for i in allApes:\n",
    "    print(i)"
   ]
  },
  {
   "cell_type": "code",
   "execution_count": 30,
   "id": "88b0708c",
   "metadata": {},
   "outputs": [
    {
     "name": "stdout",
     "output_type": "stream",
     "text": [
      "(0, 3)\n",
      "ape\n",
      "(28, 31)\n",
      "ape\n"
     ]
    }
   ],
   "source": [
    "theStr = \"ape... together...strong... apes\"\n",
    "\n",
    "for i in re.finditer(\"ape\",theStr):\n",
    "    locTuple = i.span()\n",
    "    print(locTuple)\n",
    "    print(theStr[locTuple[0]:locTuple[1]])"
   ]
  },
  {
   "cell_type": "code",
   "execution_count": 31,
   "id": "c55e7193",
   "metadata": {},
   "outputs": [
    {
     "data": {
      "text/plain": [
       "['macbook@gmail.com']"
      ]
     },
     "execution_count": 31,
     "metadata": {},
     "output_type": "execute_result"
    }
   ],
   "source": [
    "dd = \"my email address is macbook@gmail.com\"\n",
    "\n",
    "re.findall(\"[\\w._%+-]{1,20}@[\\w.-]{2,20}.[A-Za-z]{2,3}\",dd)"
   ]
  },
  {
   "cell_type": "code",
   "execution_count": 32,
   "id": "d8d14986",
   "metadata": {},
   "outputs": [
    {
     "data": {
      "text/plain": [
       "['guido@python.org', 'guido@google.com']"
      ]
     },
     "execution_count": 32,
     "metadata": {},
     "output_type": "execute_result"
    }
   ],
   "source": [
    "dd = \"To email Guido, try guido@python.org or the older address guido@google.com.\"\n",
    "\n",
    "re.compile('\\w+@\\w+\\.[a-z]{3}').findall(dd)"
   ]
  },
  {
   "cell_type": "code",
   "execution_count": 33,
   "id": "950a9360",
   "metadata": {},
   "outputs": [
    {
     "name": "stdout",
     "output_type": "stream",
     "text": [
      "No phone numbers or email addresses found.\n"
     ]
    },
    {
     "data": {
      "text/plain": [
       "['12 Drummers',\n",
       " '11 Pipers',\n",
       " '10 Lords',\n",
       " '9 Ladies',\n",
       " '8 Maids',\n",
       " '7 Swans',\n",
       " '6 Geese',\n",
       " '5 Golden',\n",
       " '4 Calling',\n",
       " '3 French',\n",
       " '2 Turtle']"
      ]
     },
     "execution_count": 33,
     "metadata": {},
     "output_type": "execute_result"
    }
   ],
   "source": [
    "#!pip install pyperclip\n",
    "\n",
    "#Finds phone numbers and email addresses on the clipboard.\n",
    "\n",
    "import pyperclip, re\n",
    "phoneRegex = re.compile(r'''(\n",
    "    (\\d{3}|\\(\\d{3}\\))? # area code\n",
    "    (\\s|-|\\.)?         # separator\n",
    "    (\\d{3})              # first 3 digits\n",
    "    (\\s|-|\\.)          # separator\n",
    "    (\\d{4})              # last 4 digits\n",
    "    (\\s*(ext|x|ext.)\\s*(\\d{2,5}))?  # extension\n",
    "    )''', re.VERBOSE)\n",
    "\n",
    "# Create email regex.\n",
    "emailRegex = re.compile(r'''(\n",
    "    [a-zA-Z0-9._%+-]+      # username\n",
    "    @                      # @ symbol\n",
    "    [a-zA-Z0-9.-]+         # domain name\n",
    "    (\\.[a-zA-Z]{2,4}){1,2} # dot-something\n",
    "    )''', re.VERBOSE)\n",
    "\n",
    "# Find matches in clipboard text.\n",
    "text = str(pyperclip.paste())\n",
    "\n",
    "matches = []\n",
    "for groups in phoneRegex.findall(text):\n",
    "    phoneNum = '-'.join([groups[1], groups[3], groups[5]])\n",
    "    if groups[8] != '':\n",
    "        phoneNum += ' x' + groups[8]\n",
    "    matches.append(phoneNum)\n",
    "for groups in emailRegex.findall(text):\n",
    "    matches.append(groups[0])\n",
    "\n",
    "# Copy results to the clipboard.\n",
    "if len(matches) > 0:\n",
    "    pyperclip.copy('\\n'.join(matches))\n",
    "    print('Copied to clipboard:')\n",
    "    print('\\n'.join(matches))\n",
    "else:\n",
    "    print('No phone numbers or email addresses found.')\n",
    "\n",
    "lyrics = '12 Drummers Drumming 11 Pipers Piping 10 Lords a Leaping 9 Ladies Dancing 8 Maids a Milking \\\n",
    "7 Swans a Swimming 6 Geese a Laying 5 Golden Rings 4 Calling Birds 3 French Hens 2 Turtle Doves and a Partridge in a Pear Tree'\n",
    "\n",
    "xmasRegex = re.compile(r'\\d+\\s\\w+')\n",
    "xmasRegex.findall(lyrics)"
   ]
  },
  {
   "cell_type": "code",
   "execution_count": 34,
   "id": "12952e5b",
   "metadata": {},
   "outputs": [
    {
     "name": "stdout",
     "output_type": "stream",
     "text": [
      "415-555-4242 is a phone number:\n",
      "True\n",
      "Moshi moshi is a phone number:\n",
      "False\n",
      "----------\n",
      "Call 415-555\n",
      "all 415-555-\n",
      "ll 415-555-1\n",
      "l 415-555-10\n",
      " 415-555-101\n",
      "415-555-1011\n",
      "15-555-1011 \n",
      "5-555-1011 o\n",
      "-555-1011 of\n",
      "555-1011 off\n",
      "55-1011 offi\n",
      "5-1011 offic\n",
      "-1011 office\n",
      "1011 office\n",
      "011 office\n",
      "11 office\n",
      "1 office\n",
      " office\n",
      "office\n",
      "ffice\n",
      "fice\n",
      "ice\n",
      "ce\n",
      "e\n"
     ]
    }
   ],
   "source": [
    "#23 須深入 Regular Expression \n",
    "# 非正規表達式 (擁擠)\n",
    "\n",
    "def isPhoneNumber(text):\n",
    "    if len(text) != 12:  #long ?\n",
    "        return False\n",
    "    for i in range(0,3):\n",
    "        if not text[i].isdecimal():  #is number?\n",
    "            return False\n",
    "    if text[3] != '-':   #in - \n",
    "        return False\n",
    "    for i in range(4,7):\n",
    "        if not text[i].isdecimal():\n",
    "            return False\n",
    "    if text[7] != '-':\n",
    "        return False\n",
    "    for i in range(8,12):\n",
    "        if not text[i].isdecimal():\n",
    "            return False\n",
    "    return True\n",
    "    #[7]如果前面所有的判斷基線都沒有發現問題，那就認為這個字符串是電話號碼\n",
    "\n",
    "print('415-555-4242 is a phone number:')\n",
    "print(isPhoneNumber('415-555-4242'))\n",
    "print('Moshi moshi is a phone number:')\n",
    "print(isPhoneNumber('Moshi moshi'))\n",
    "print('----------')\n",
    "\n",
    "message = 'Call 415-555-1011 office'\n",
    "for i in range(len(message)):\n",
    "    chunk = message[i:i+12]\n",
    "    print(chunk)"
   ]
  },
  {
   "cell_type": "code",
   "execution_count": 35,
   "id": "7f8fcb3a",
   "metadata": {},
   "outputs": [
    {
     "name": "stdout",
     "output_type": "stream",
     "text": [
      "True\n"
     ]
    }
   ],
   "source": [
    "import re\n",
    "\n",
    "def testPasswordStrength(password):\n",
    "    eightCharsLongRegex = re.compile(r'[\\w\\d\\s\\W\\D\\S]{8,}')\n",
    "    upperCaseRegex = re.compile(r'[A-Z]+')\n",
    "    lowerCaseRegex = re.compile(r'[a-z]+')\n",
    "    oneOrMoreDigitRegex = re.compile(r'\\d+')\n",
    "    \n",
    "    if not eightCharsLongRegex.search(password):\n",
    "        return False\n",
    "    elif not upperCaseRegex.search(password):\n",
    "        return False\n",
    "    elif not lowerCaseRegex.search(password):\n",
    "        return False\n",
    "    elif not oneOrMoreDigitRegex.search(password):\n",
    "        return False\n",
    "    return True\n",
    "    \n",
    "\n",
    "if __name__ == \"__main__\":\n",
    "    password = 'A&dsas9$_'\n",
    "    print(testPasswordStrength(password))"
   ]
  },
  {
   "cell_type": "code",
   "execution_count": 36,
   "id": "f7b5a68b",
   "metadata": {},
   "outputs": [
    {
     "name": "stdout",
     "output_type": "stream",
     "text": [
      "\n"
     ]
    }
   ],
   "source": [
    "#re-auto_madLibs\n",
    "\n",
    "import os\n",
    "import re\n",
    "\n",
    "def madLibs(input_file, output_file):\n",
    "    regex = re.compile(r'(NOUN|ADJECTIVE|ADVERB|VERB)')\n",
    "\n",
    "    with open(input_file, 'r') as in_file, open(output_file, 'w') as out_file:\n",
    "        content = in_file.read()\n",
    "        matches = regex.findall(content)\n",
    "        for found in matches:\n",
    "            sub = input('Enter a ' + found + ': ')\n",
    "            content = content.replace(found, sub, 1)\n",
    "\n",
    "        out_file.write(content)\n",
    "        print(content)\n",
    "\n",
    "if __name__ == \"__main__\":\n",
    "    madLibs('input/re-madLibs.txt', 'input/re-madLibs.txt')"
   ]
  },
  {
   "cell_type": "markdown",
   "id": "61ea7624",
   "metadata": {},
   "source": [
    "## Search\n",
    "\n",
    "- re.match只匹配字符串的开始，如果字符串开始不符合正则表达式，则匹配失败，函数返回None；\n",
    "- re.search匹配整个字符串，直到找到一个匹配。\n",
    "- re.sub用於替換字串\n",
    "- re.findall 字符串中找到所匹配的所有串，返回一List"
   ]
  }
 ],
 "metadata": {
  "kernelspec": {
   "display_name": "Python 3 (ipykernel)",
   "language": "python",
   "name": "python3"
  },
  "language_info": {
   "codemirror_mode": {
    "name": "ipython",
    "version": 3
   },
   "file_extension": ".py",
   "mimetype": "text/x-python",
   "name": "python",
   "nbconvert_exporter": "python",
   "pygments_lexer": "ipython3",
   "version": "3.9.7"
  }
 },
 "nbformat": 4,
 "nbformat_minor": 5
}
