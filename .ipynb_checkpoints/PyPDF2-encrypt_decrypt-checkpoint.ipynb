{
 "cells": [
  {
   "cell_type": "code",
   "execution_count": 1,
   "metadata": {},
   "outputs": [
    {
     "ename": "ModuleNotFoundError",
     "evalue": "No module named 'PyPDF2'",
     "output_type": "error",
     "traceback": [
      "\u001b[0;31m---------------------------------------------------------------------------\u001b[0m",
      "\u001b[0;31mModuleNotFoundError\u001b[0m                       Traceback (most recent call last)",
      "\u001b[0;32m/var/folders/9q/486czkcn7lv5v0hwbt71twdc0000gn/T/ipykernel_2903/4271070189.py\u001b[0m in \u001b[0;36m<module>\u001b[0;34m\u001b[0m\n\u001b[1;32m      1\u001b[0m \u001b[0;32mimport\u001b[0m \u001b[0mos\u001b[0m\u001b[0;34m\u001b[0m\u001b[0;34m\u001b[0m\u001b[0m\n\u001b[0;32m----> 2\u001b[0;31m \u001b[0;32mimport\u001b[0m \u001b[0mPyPDF2\u001b[0m\u001b[0;34m\u001b[0m\u001b[0;34m\u001b[0m\u001b[0m\n\u001b[0m\u001b[1;32m      3\u001b[0m \u001b[0;32mdef\u001b[0m \u001b[0mencryptPDFs\u001b[0m\u001b[0;34m(\u001b[0m\u001b[0mroot\u001b[0m\u001b[0;34m,\u001b[0m \u001b[0mpassword\u001b[0m\u001b[0;34m)\u001b[0m\u001b[0;34m:\u001b[0m\u001b[0;34m\u001b[0m\u001b[0;34m\u001b[0m\u001b[0m\n\u001b[1;32m      4\u001b[0m     \u001b[0;32mfor\u001b[0m \u001b[0mfolder\u001b[0m\u001b[0;34m,\u001b[0m \u001b[0msubfolder\u001b[0m\u001b[0;34m,\u001b[0m \u001b[0mfileList\u001b[0m \u001b[0;32min\u001b[0m \u001b[0mos\u001b[0m\u001b[0;34m.\u001b[0m\u001b[0mwalk\u001b[0m\u001b[0;34m(\u001b[0m\u001b[0mroot\u001b[0m\u001b[0;34m)\u001b[0m\u001b[0;34m:\u001b[0m\u001b[0;34m\u001b[0m\u001b[0;34m\u001b[0m\u001b[0m\n\u001b[1;32m      5\u001b[0m         \u001b[0;32mfor\u001b[0m \u001b[0mfile\u001b[0m \u001b[0;32min\u001b[0m \u001b[0mfileList\u001b[0m\u001b[0;34m:\u001b[0m\u001b[0;34m\u001b[0m\u001b[0;34m\u001b[0m\u001b[0m\n",
      "\u001b[0;31mModuleNotFoundError\u001b[0m: No module named 'PyPDF2'"
     ]
    }
   ],
   "source": [
    "import os\n",
    "import PyPDF2\n",
    "def encryptPDFs(root, password):\n",
    "    for folder, subfolder, fileList in os.walk(root):\n",
    "        for file in fileList:\n",
    "            if file.endswith('.pdf'):\n",
    "                filepath = os.path.join(os.path.abspath(folder), file)\n",
    "                pdfFileObj = open(filepath, 'rb')\n",
    "                pdfReader = PyPDF2.PdfFileReader(pdfFileObj)\n",
    "\n",
    "                if not pdfReader.isEncrypted:\n",
    "                    pdfWriter = PyPDF2.PdfFileWriter()\n",
    "                    for pageNum in range(pdfReader.numPages):\n",
    "                        pdfWriter.addPage(pdfReader.getPage(pageNum))\n",
    "                    pdfWriter.encrypt(password)\n",
    "                    newPath = os.path.dirname(filepath) + ('_encrypted.'.join(os.path.basename(filepath).split('.')))\n",
    "                    resultPdf = open(newPath, 'wb')\n",
    "                    pdfWriter.write(resultPdf)\n",
    "                    resultPdf.close()\n",
    "\n",
    "\n",
    "def decryptPDFs(root, password):\n",
    "    for folder, subfolder, fileList in os.walk(root):\n",
    "        for file in fileList:\n",
    "            if file.endswith('_encrypted.pdf'):\n",
    "                filepath = os.path.join(os.path.abspath(folder), file)\n",
    "                pdfFileObj = open(filepath, 'rb')\n",
    "                pdfReader = PyPDF2.PdfFileReader(pdfFileObj)\n",
    "\n",
    "                if pdfReader.isEncrypted:\n",
    "                    success = pdfReader.decrypt(password)\n",
    "                    \n",
    "                    if success:\n",
    "                        pdfWriter = PyPDF2.PdfFileWriter()\n",
    "                        for pageNum in range(pdfReader.numPages):\n",
    "                            pdfWriter.addPage(pdfReader.getPage(pageNum))\n",
    "                        newPath = os.path.dirname(filepath) + '/' + \\\n",
    "                                ''.join(os.path.basename(filepath).split('_encrypted'))\n",
    "                        resultPdf = open(newPath, 'wb')\n",
    "                        pdfWriter.write(resultPdf)\n",
    "                        resultPdf.close()\n",
    "                    else:\n",
    "                        print('wrong password provided')\n",
    "\n",
    "\n",
    "if __name__ == \"__main__\":\n",
    "    password = input('Enter encryption password: ')\n",
    "    encryptPDFs('.', password)\n",
    "    decryptPDFs('.', password)"
   ]
  },
  {
   "cell_type": "code",
   "execution_count": null,
   "metadata": {},
   "outputs": [],
   "source": []
  }
 ],
 "metadata": {
  "kernelspec": {
   "display_name": "Python 3 (ipykernel)",
   "language": "python",
   "name": "python3"
  },
  "language_info": {
   "codemirror_mode": {
    "name": "ipython",
    "version": 3
   },
   "file_extension": ".py",
   "mimetype": "text/x-python",
   "name": "python",
   "nbconvert_exporter": "python",
   "pygments_lexer": "ipython3",
   "version": "3.9.7"
  }
 },
 "nbformat": 4,
 "nbformat_minor": 4
}
