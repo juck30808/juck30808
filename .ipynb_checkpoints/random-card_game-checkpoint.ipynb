{
 "cells": [
  {
   "cell_type": "code",
   "execution_count": 2,
   "metadata": {},
   "outputs": [
    {
     "name": "stdout",
     "output_type": "stream",
     "text": [
      "sinek 6\n",
      "[kupa 2, sinek Q, karo 4, karo J, kupa 8]\n",
      "[sinek J, sinek 5, sinek K, sinek 4, maça 9, karo 7, kupa J, karo 8, sinek 7, maça 10, sinek A, maça K, sinek 10, maça J, sinek 8, kupa 4, maça 6, kupa 3, karo 10, maça 5, karo 6, kupa 7, maça 4, kupa K, maça Q, kupa 5, maça A, maça 2, sinek 3, karo 3, kupa Q, karo 5, karo K, sinek 9, kupa A, kupa 10, karo 9, sinek 2, karo Q, kupa 6, kupa 9, karo A, maça 7, maça 3, karo 2, maça 8]\n",
      "46\n",
      "[maça 3, karo 2, maça 8]\n",
      "43\n",
      "[sinek J, sinek 5, sinek K, sinek 4, maça 9, karo 7, kupa J, karo 8, sinek 7, maça 10, sinek A, maça K, sinek 10, maça J, sinek 8, kupa 4, maça 6, kupa 3, karo 10, maça 5, karo 6, kupa 7, maça 4, kupa K, maça Q, kupa 5, maça A, maça 2, sinek 3, karo 3, kupa Q, karo 5, karo K, sinek 9, kupa A, kupa 10, karo 9, sinek 2, karo Q, kupa 6, kupa 9, karo A, maça 7]\n"
     ]
    }
   ],
   "source": [
    "# Destede kalan kart sayısı için kartSayisi() isminde bir metot.\n",
    "# Destedeki kartları karıştırmak için KartlariKaristir() isminde bir metot.\n",
    "# kartDagit() ismindeki metot belirtilen adet kadar kartı dağıtmalıdır. Destedeki kalan kart sayısına dikkat.\n",
    "# kartAt() ismindeki metot elden bir kart atmak için kullanılsın.\n",
    "\n",
    "from random import shuffle\n",
    "\n",
    "class Kart:\n",
    "    def __init__(self,tip,deger):\n",
    "        self.tip = tip\n",
    "        self.deger = deger\n",
    "\n",
    "    def __repr__(self):\n",
    "        return f\"{self.tip} {self.deger}\"\n",
    "\n",
    "class Deste:\n",
    "    tipler = [\"karo\",\"sinek\",\"kupa\",\"maça\"]\n",
    "    degerler = [\"A\",\"2\",\"3\",\"4\",\"5\",\"6\",\"7\",\"8\",\"9\",\"10\",\"J\",\"Q\",\"K\"]\n",
    "    def __init__(self):\n",
    "        self.kartlar = [Kart(tip,deger) for tip in Deste.tipler for deger in Deste.degerler]\n",
    "\n",
    "    def kartSayisi(self):\n",
    "        return len(self.kartlar)\n",
    "\n",
    "    def kartlariKaristir(self):\n",
    "        if (self.kartSayisi()<52):\n",
    "            raise ValueError(\"Deste bozulmadan kartları karıştırabilirsiniz.\")\n",
    "        shuffle(self.kartlar)\n",
    "\n",
    "    def kartDagit(self,adet):\n",
    "        kartSayisi = self.kartSayisi()\n",
    "        if kartSayisi == 0:\n",
    "            raise ValueError(\"Bütün kartlar dağıtıldı.\")\n",
    "        adet = min([kartSayisi,adet])\n",
    "        kartlar = self.kartlar[-adet:]\n",
    "        self.kartlar = self.kartlar[:-adet]\n",
    "        return kartlar\n",
    "\n",
    "    def kartAt(self):\n",
    "        return self.kartDagit(1)[0]\n",
    "\n",
    "\n",
    "\n",
    "\n",
    "deste1 = Deste()\n",
    "\n",
    "deste1.kartlariKaristir()\n",
    "\n",
    "print(deste1.kartAt())\n",
    "\n",
    "print(deste1.kartDagit(5))\n",
    "print(deste1.kartlar)\n",
    "print(deste1.kartSayisi())\n",
    "print(deste1.kartDagit(3))\n",
    "print(deste1.kartSayisi())\n",
    "\n",
    "print(deste1.kartlar)\n",
    "\n"
   ]
  },
  {
   "cell_type": "code",
   "execution_count": null,
   "metadata": {},
   "outputs": [],
   "source": []
  }
 ],
 "metadata": {
  "kernelspec": {
   "display_name": "Python 3 (ipykernel)",
   "language": "python",
   "name": "python3"
  },
  "language_info": {
   "codemirror_mode": {
    "name": "ipython",
    "version": 3
   },
   "file_extension": ".py",
   "mimetype": "text/x-python",
   "name": "python",
   "nbconvert_exporter": "python",
   "pygments_lexer": "ipython3",
   "version": "3.9.7"
  }
 },
 "nbformat": 4,
 "nbformat_minor": 4
}
