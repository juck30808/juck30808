{
 "cells": [
  {
   "cell_type": "markdown",
   "metadata": {},
   "source": [
    "## Object-Oriented Programming (OOP)\n",
    "物件導向是一個廣泛使用的概念來編寫強大的應用程序。作為一名數據科學家，您將需要編寫應用程序來處理您的數據以及其他一系列事情。在本教程中，您將了解 Python 中物件導向的基礎知識。"
   ]
  },
  {
   "cell_type": "markdown",
   "metadata": {},
   "source": [
    "Object-Oriented programming is a widely used concept to write powerful applications. As a data scientist, you will be required to write applications to process your data, among a range of other things. In this tutorial, you will discover the basics of object-oriented programming in Python. You will learn the following:"
   ]
  },
  {
   "cell_type": "code",
   "execution_count": 4,
   "metadata": {},
   "outputs": [
    {
     "name": "stdout",
     "output_type": "stream",
     "text": [
      "Grade of Jerry is A\n",
      "Grade of yyz is C\n"
     ]
    }
   ],
   "source": [
    "## create a class name Student, include many def function.\n",
    "class Student:\n",
    "    def __init__(self,name,gender,roll=-1,marks=0) :\n",
    "        self.name=name     #String\n",
    "        self.roll=roll     #int\n",
    "        self.gender=gender #String\n",
    "        self.marks=marks   #float\n",
    "\n",
    "    def calculateGrade(self):\n",
    "        if self.marks>=70 and self.marks<=100:\n",
    "            return 'A'\n",
    "        elif self.marks>=60 and self.marks<70:\n",
    "            return 'B'\n",
    "        elif self.marks>=40 and self.marks<60:\n",
    "            return 'C'\n",
    "        elif self.marks>=0 and self.marks<40:\n",
    "            return\n",
    "        else:\n",
    "            return \"Invalid marks\"\n",
    "        \n",
    "name = \"Jerry\"\n",
    "roll = 1\n",
    "gender = \"Man\"\n",
    "marks = 92\n",
    "\n",
    "s1=Student(name,roll,gender,marks)\n",
    "s2=Student(\"yyz\", 2, \"Wom\", 52.2)\n",
    "print(\"Grade of {0} is {1}\" .format (s1.name,s1.calculateGrade()))\n",
    "print(\"Grade of {0} is {1}\" .format (s2.name,s2.calculateGrade()))"
   ]
  },
  {
   "cell_type": "code",
   "execution_count": 5,
   "metadata": {},
   "outputs": [
    {
     "name": "stdout",
     "output_type": "stream",
     "text": [
      "加: 8\n",
      "減: 2\n",
      "乘: 15\n",
      "除: 1.67\n"
     ]
    }
   ],
   "source": [
    "class Aritmetica:\n",
    "    def __init__(self, operandoA, operandoB):\n",
    "        self.operandoA = operandoA\n",
    "        self.operandoB = operandoB\n",
    "\n",
    "    def sumar(self):\n",
    "        return self.operandoA + self.operandoB\n",
    "\n",
    "    def restar(self):\n",
    "        return self.operandoA - self.operandoB\n",
    "\n",
    "    def multiplicar(self):\n",
    "        return self.operandoA * self.operandoB\n",
    "\n",
    "    def dividir(self):\n",
    "        return self.operandoA / self.operandoB\n",
    "\n",
    "aritmetica1 = Aritmetica(5,3)\n",
    "print(f'加: {aritmetica1.sumar()}')\n",
    "print(f'減: {aritmetica1.restar()}')\n",
    "print(f'乘: {aritmetica1.multiplicar()}')\n",
    "print(f'除: {aritmetica1.dividir():.2f}')"
   ]
  },
  {
   "cell_type": "code",
   "execution_count": 6,
   "metadata": {
    "scrolled": true
   },
   "outputs": [
    {
     "name": "stdout",
     "output_type": "stream",
     "text": [
      "Área rectángulo: 1800\n"
     ]
    }
   ],
   "source": [
    "class Rectangulo:\n",
    "    def __init__(self, base, altura):\n",
    "        self.base = base     #width\n",
    "        self.altura = altura #hight\n",
    "\n",
    "    def cacular_area(self):\n",
    "        return self.base * self.altura\n",
    "\n",
    "base = 30 #int(input('width:'))\n",
    "altura = 60 #int(input('hight:'))\n",
    "Area = Rectangulo(base, altura)\n",
    "print(f'Área rectángulo: {Area.cacular_area()}')"
   ]
  },
  {
   "cell_type": "markdown",
   "metadata": {},
   "source": [
    "## ___init___ vs self"
   ]
  },
  {
   "cell_type": "code",
   "execution_count": 7,
   "metadata": {},
   "outputs": [
    {
     "name": "stdout",
     "output_type": "stream",
     "text": [
      "184\n"
     ]
    }
   ],
   "source": [
    "class kitap():\n",
    "    def __init__(self,ad,yazar,raf,sayfa,yayinevi):   #initiliaze \n",
    "        self.ad = ad\n",
    "        self.yazar = yazar\n",
    "        self.raf = raf\n",
    "        self.sayfa = sayfa\n",
    "        self.yayinevi = yayinevi\n",
    "        \n",
    "kitap1 = kitap(\"Simyacı\",\"Paulo Coelho\",\"B23\",184,\"Can Yayınları\")\n",
    "print(kitap1.sayfa)"
   ]
  },
  {
   "cell_type": "code",
   "execution_count": 8,
   "metadata": {},
   "outputs": [
    {
     "name": "stdout",
     "output_type": "stream",
     "text": [
      "init fonksiyonu çalıştı\n",
      "Kitap_add\n",
      "man\n"
     ]
    }
   ],
   "source": [
    "class kitap():\n",
    "    def __init__(self,ad,yazar = \"Girilmedi\",raf = \"Girilmedi\",sayfa = \"Girilmedi\",yayinevi = \"Girilmedi\"): \n",
    "        print(\"init fonksiyonu çalıştı\")\n",
    "        self.ad = ad\n",
    "        self.yazar = yazar\n",
    "        self.raf = raf\n",
    "        self.sayfa = sayfa\n",
    "        self.yayinevi = yayinevi\n",
    "        \n",
    "kitap2 = kitap(\"Kitap_add\",\"man\")\n",
    "print(kitap2.ad)\n",
    "print(kitap2.yazar)"
   ]
  },
  {
   "cell_type": "markdown",
   "metadata": {},
   "source": [
    "## Methods: class , instance ,static"
   ]
  },
  {
   "cell_type": "code",
   "execution_count": 9,
   "metadata": {},
   "outputs": [
    {
     "name": "stdout",
     "output_type": "stream",
     "text": [
      "Simyacı\n",
      "Antoine De Sain Exupery\n"
     ]
    }
   ],
   "source": [
    "class kitap():\n",
    "    kutuphaneninAdi = \"Üniversite Kütüphanesi\"\n",
    "    kitapSayisi = 0\n",
    "    kitapID = 1000\n",
    "    def __init__(self,ad = \"Girilmedi\",yazar = \"Girilmedi\",raf = \"Girilmedi\",sayfa = \"Girilmedi\",yayinevi = \"Girilmedi\"):   #initiliaze \n",
    "        self.ad = ad\n",
    "        self.yazar = yazar\n",
    "        self.raf = raf\n",
    "        self.sayfa = sayfa\n",
    "        self.yayinevi = yayinevi\n",
    "        kitap.kitapSayisi += 1\n",
    "        self.kitapID += 10\n",
    "        kitap.kitapID = self.kitapID\n",
    "        \n",
    "    #instance method    \n",
    "    def bilgileriGoster(self):\n",
    "        return print(\"Kitabın Adı: {} \\nKitabın Yazarı: {} \\nKitabın Rafı: {} \\nKitabın Sayfası: {} \\nKitabın Yayınevi: {} \\n\".format(self.ad,self.yazar,self.raf,self.sayfa,self.yayinevi))\n",
    "    \n",
    "    #instance method \n",
    "    def sayfaArttır(self,deger):\n",
    "        self.sayfa += deger # self.sayfa = self.sayfa + deger\n",
    "    \n",
    "    #class method\n",
    "    @classmethod\n",
    "    def kitapSayısınıSoyle(cls):\n",
    "        return kitap.kitapSayisi\n",
    "    \n",
    "    #class method\n",
    "    @classmethod\n",
    "    def stringİleOluştur(cls,metin):\n",
    "        ad,yazar = metin.split(\" \")\n",
    "        return cls(ad,yazar)\n",
    "    \n",
    "    #static method\n",
    "    @staticmethod\n",
    "    def kutuphaneAdiniSoyle():\n",
    "        return kitap.kutuphaneninAdi\n",
    "\n",
    "\n",
    "kitap1 = kitap(\"Simyacı\",\"Paulo Coelho\",\"B23\",184,\"Can Yayınları\")\n",
    "print(kitap1.ad)\n",
    "kitap2 = kitap(\"Küçük Prens\",\"Antoine De Sain Exupery\",yayinevi = \"Can Çocuk Yayınları\")\n",
    "print(kitap2.yazar)"
   ]
  },
  {
   "cell_type": "markdown",
   "metadata": {},
   "source": [
    "## why"
   ]
  },
  {
   "cell_type": "code",
   "execution_count": 10,
   "metadata": {},
   "outputs": [
    {
     "name": "stdout",
     "output_type": "stream",
     "text": [
      "Persona: Juan Perez 28 ('44553322', 2, 3, 5) {'m': 'manzana', 'p': 'pera'}\n",
      "Persona: Karla Gomez 30 () {}\n"
     ]
    }
   ],
   "source": [
    "## why **\n",
    "class Persona:\n",
    "    def __init__(self, nombre, apellido, edad, *valores, **terminos):\n",
    "        self.nombre = nombre\n",
    "        self.apellido = apellido\n",
    "        self.edad = edad\n",
    "        self.valores = valores\n",
    "        self.terminos = terminos\n",
    "\n",
    "    def mostrar_detalle(self):\n",
    "        print(f'Persona: {self.nombre} {self.apellido} {self.edad} {self.valores} {self.terminos}')\n",
    "\n",
    "persona1 = Persona('Juan', 'Perez', 28, '44553322', 2, 3, 5, m='manzana', p='pera')\n",
    "persona1.mostrar_detalle()\n",
    "\n",
    "persona2 = Persona('Karla', 'Gomez', 30)\n",
    "persona2.mostrar_detalle()\n"
   ]
  },
  {
   "cell_type": "markdown",
   "metadata": {},
   "source": [
    "## property"
   ]
  },
  {
   "cell_type": "code",
   "execution_count": 11,
   "metadata": {},
   "outputs": [
    {
     "name": "stdout",
     "output_type": "stream",
     "text": [
      "Persona: Juan Perez 28\n",
      "set number\n",
      "set name\n",
      "set age\n",
      "Persona: Juan Carlos Lara 30\n"
     ]
    }
   ],
   "source": [
    "class Persona:\n",
    "    def __init__(self, nombre, apellido, edad):\n",
    "        self._nombre = nombre\n",
    "        self._apellido = apellido\n",
    "        self._edad = edad\n",
    "\n",
    "    @property    \n",
    "    def nombre(self):\n",
    "        return self._nombre\n",
    "    @nombre.setter\n",
    "    def nombre(self, nombre):\n",
    "        print(\"set number\")\n",
    "        self._nombre = nombre\n",
    "\n",
    "    @property\n",
    "    def apellido(self):\n",
    "        return self._apellido\n",
    "    @apellido.setter\n",
    "    def apellido(self, apellido):\n",
    "        print(\"set name\")\n",
    "        self._apellido = apellido\n",
    "\n",
    "    @property\n",
    "    def edad(self):\n",
    "        return self._edad\n",
    "    @edad.setter\n",
    "    def edad(self, edad):\n",
    "        print(\"set age\")\n",
    "        self._edad = edad\n",
    "\n",
    "    def mostrar_detalle(self):   #call ___init___\n",
    "        print(f'Persona: {self._nombre} {self._apellido} {self._edad}')\n",
    "\n",
    "persona1 = Persona('Juan', 'Perez', 28)  #call class\n",
    "persona1.mostrar_detalle()\n",
    "# print(persona1.nombre)\n",
    "\n",
    "persona1.nombre = 'Juan Carlos'     #No class \n",
    "persona1.apellido = 'Lara'\n",
    "persona1.edad = 30\n",
    "persona1.mostrar_detalle()"
   ]
  },
  {
   "cell_type": "markdown",
   "metadata": {},
   "source": [
    "## Counter"
   ]
  },
  {
   "cell_type": "code",
   "execution_count": 12,
   "metadata": {},
   "outputs": [
    {
     "name": "stdout",
     "output_type": "stream",
     "text": [
      "Persona [1 Juan 28]\n",
      "Persona [2 Karla 30]\n",
      "Persona [3 Eduardo 25]\n",
      "Valor contador personas: 3\n"
     ]
    }
   ],
   "source": [
    "class Persona:\n",
    "    contador_personas = 0\n",
    "\n",
    "    def __init__(self, nombre, edad):\n",
    "        Persona.contador_personas += 1\n",
    "        self.id_persona = Persona.contador_personas\n",
    "        self.nombre = nombre\n",
    "        self.edad = edad\n",
    "\n",
    "    def __str__(self):\n",
    "        return f'Persona [{self.id_persona} {self.nombre} {self.edad}]'\n",
    "\n",
    "persona1 = Persona('Juan', 28)\n",
    "print(persona1)\n",
    "persona2 = Persona('Karla', 30)\n",
    "print(persona2)\n",
    "persona3 = Persona('Eduardo', 25)\n",
    "print(persona3)\n",
    "\n",
    "print(f'Valor contador personas: {Persona.contador_personas}')"
   ]
  },
  {
   "cell_type": "code",
   "execution_count": 13,
   "metadata": {},
   "outputs": [
    {
     "name": "stdout",
     "output_type": "stream",
     "text": [
      "Persona Number: 1 [Jerry 28]\n",
      "Persona Number: 2 [Amy 30]\n",
      "Persona Number: 3 [yyz 25]\n",
      "People Counder: 3\n"
     ]
    }
   ],
   "source": [
    "class Persona:\n",
    "    contador_personas = 0\n",
    "\n",
    "    @classmethod\n",
    "    def generar_siguiente_valor(cls):\n",
    "        cls.contador_personas += 1\n",
    "        return cls.contador_personas\n",
    "\n",
    "    def __init__(self, nombre, edad):\n",
    "        self.id_persona = Persona.generar_siguiente_valor()\n",
    "        self.nombre = nombre\n",
    "        self.edad = edad\n",
    "\n",
    "    def __str__(self):\n",
    "        return f'Persona Number: {self.id_persona} [{self.nombre} {self.edad}]'\n",
    "\n",
    "persona1 = Persona('Jerry', 28)\n",
    "print(persona1)\n",
    "persona2 = Persona('Amy', 30)\n",
    "print(persona2)\n",
    "persona3 = Persona('yyz', 25)\n",
    "print(persona3)\n",
    "print(f'People Counder: {Persona.contador_personas}')"
   ]
  },
  {
   "cell_type": "markdown",
   "metadata": {},
   "source": [
    "## Define"
   ]
  },
  {
   "cell_type": "code",
   "execution_count": 14,
   "metadata": {},
   "outputs": [
    {
     "name": "stdout",
     "output_type": "stream",
     "text": [
      "{'nombre': 'Juan', 'apellido': 'Perez'}\n",
      "0\n",
      "{'nombre': 'Juan', 'apellido': 'Perez', 'contador_personas': 10}\n",
      "10\n",
      "0\n",
      "{'nombre': 'Karla', 'apellido': 'Gomez'}\n",
      "0\n"
     ]
    }
   ],
   "source": [
    "class Persona:\n",
    "    contador_personas = 0\n",
    "\n",
    "    def __init__(self, nombre, apellido):\n",
    "        self.nombre = nombre\n",
    "        self.apellido = apellido\n",
    "\n",
    "# Show the attributes of an object\n",
    "obj = Persona('Juan','Perez')\n",
    "print(obj.__dict__)\n",
    "print(obj.contador_personas) \n",
    "\n",
    "\n",
    "# Not possible to modify it with the object, but with the class\n",
    "obj.contador_personas = 10\n",
    "print(obj.__dict__)\n",
    "print(obj.contador_personas)\n",
    "print(Persona.contador_personas)\n",
    "\n",
    "# Un segundo objeto\n",
    "persona2 = Persona('Karla', 'Gomez')\n",
    "print(persona2.__dict__)\n",
    "print(persona2.contador_personas)"
   ]
  },
  {
   "cell_type": "code",
   "execution_count": 15,
   "metadata": {},
   "outputs": [
    {
     "name": "stdout",
     "output_type": "stream",
     "text": [
      "Nombre: Juan, Apellido: Perez\n",
      "Nombre: None, Apellido: None\n",
      "Nombre: Karla, Apellido: Gomez\n"
     ]
    }
   ],
   "source": [
    "class Persona:\n",
    "    def __init__(self, nombre, apellido):\n",
    "        self.nombre = nombre\n",
    "        self.apellido = apellido\n",
    "\n",
    "    @classmethod\n",
    "    def crear_persona_vacia(cls):\n",
    "        return cls(None, None)\n",
    "\n",
    "    @classmethod\n",
    "    def crear_persona_con_valores(cls, nombre, apellido):\n",
    "        return cls(nombre, apellido)\n",
    "\n",
    "    def __str__(self):\n",
    "        return f'Nombre: {self.nombre}, Apellido: {self.apellido}'\n",
    "\n",
    "persona1 = Persona('Juan', 'Perez')\n",
    "print(persona1)\n",
    "\n",
    "persona_vacio = Persona.crear_persona_vacia()\n",
    "print(persona_vacio)\n",
    "\n",
    "persona_con_valores = Persona.crear_persona_con_valores('Karla', 'Gomez')\n",
    "print(persona_con_valores)"
   ]
  },
  {
   "cell_type": "markdown",
   "metadata": {},
   "source": [
    "## Class add"
   ]
  },
  {
   "cell_type": "code",
   "execution_count": 16,
   "metadata": {},
   "outputs": [
    {
     "name": "stdout",
     "output_type": "stream",
     "text": [
      "Juan Carlos\n",
      "8\n"
     ]
    }
   ],
   "source": [
    "class Persona:\n",
    "    def __init__(self, nombre, edad):\n",
    "        self.nombre = nombre\n",
    "        self.edad = edad\n",
    "\n",
    "    def __add__(self, otro):\n",
    "        return f'{self.nombre} {otro.nombre}'\n",
    "\n",
    "    def __sub__(self, otro):\n",
    "        return self.edad - otro.edad\n",
    "\n",
    "\n",
    "persona1 = Persona('Juan', 28)\n",
    "persona2 = Persona('Carlos', 20)\n",
    "print(persona1 + persona2)\n",
    "print(persona1 - persona2)\n",
    "\n",
    "# obj1 + obj2\n",
    "# obj1.__add__(obj2)"
   ]
  },
  {
   "cell_type": "code",
   "execution_count": 17,
   "metadata": {},
   "outputs": [
    {
     "name": "stdout",
     "output_type": "stream",
     "text": [
      "15 C a F: 59.00\n",
      "10 F a C: -12.22\n"
     ]
    }
   ],
   "source": [
    "class ConvertidorTemperatura:\n",
    "    MAX_CELSIUS = 100\n",
    "    MAX_FAHRENHEIT = 213\n",
    "\n",
    "    @classmethod\n",
    "    def c_f(cls, celsius):\n",
    "        if celsius > cls.MAX_CELSIUS:\n",
    "            raise ValueError(f'Temperatura C demasiado alta: {celsius}')\n",
    "        return celsius * 9/5 + 32\n",
    "\n",
    "    @classmethod\n",
    "    def f_c(cls, fahrenheit):\n",
    "        if fahrenheit > cls.MAX_FAHRENHEIT:\n",
    "            raise ValueError(f'Temperatura F demasiado alta: {fahrenheit}')\n",
    "        return (fahrenheit-32) * 5/9\n",
    "\n",
    "if __name__ == '__main__':\n",
    "    resultado = ConvertidorTemperatura.c_f(15)\n",
    "    print(f'15 C a F: {resultado:.2f}')\n",
    "    resultado = ConvertidorTemperatura.f_c(10)\n",
    "    print(f'10 F a C: {resultado:.2f}')\n"
   ]
  },
  {
   "cell_type": "code",
   "execution_count": 18,
   "metadata": {},
   "outputs": [
    {
     "name": "stdout",
     "output_type": "stream",
     "text": [
      "Mi objeto persona1: Persona(nombre:Juan, apellido:Perez)\n"
     ]
    }
   ],
   "source": [
    "# Representación de objetos (str, repr, format)\n",
    "# print(dir(object))\n",
    "\n",
    "class Persona:\n",
    "    def __init__(self, nombre, apellido):\n",
    "        self.nombre = nombre\n",
    "        self.apellido = apellido\n",
    "\n",
    "    # repr, más enfocado a los programadores\n",
    "    def __repr__(self):\n",
    "        return f'{self.__class__.__name__}(nombre:{self.nombre}, apellido:{self.apellido})'\n",
    "\n",
    "persona1 = Persona('Juan','Perez')\n",
    "print(f'Mi objeto persona1: {persona1!r}')"
   ]
  },
  {
   "cell_type": "code",
   "execution_count": 19,
   "metadata": {},
   "outputs": [
    {
     "name": "stdout",
     "output_type": "stream",
     "text": [
      "Mi objeto persona1: Persona(nombre:Juan, apellido:Perez)\n",
      "Persona: Juan Perez\n",
      "Persona con nombre Juan y apellido Perez\n"
     ]
    }
   ],
   "source": [
    "# Representación de objetos (str, repr, format)\n",
    "# print(dir(object))\n",
    "\n",
    "class Persona:\n",
    "    def __init__(self, nombre, apellido):\n",
    "        self.nombre = nombre\n",
    "        self.apellido = apellido\n",
    "\n",
    "    # repr, más enfocado a los programadores\n",
    "    def __repr__(self):\n",
    "        return f'{self.__class__.__name__}(nombre:{self.nombre}, apellido:{self.apellido})'\n",
    "\n",
    "    # str es más para el usuario final u otros sistemas\n",
    "    # la implementación por default llama al método repr\n",
    "    def __str__(self):\n",
    "        return f'{self.__class__.__name__}: {self.nombre} {self.apellido}'\n",
    "\n",
    "    # format su implementación por default es str\n",
    "    # se manda a llamar al usar f-string\n",
    "    def __format__(self, format_spec):\n",
    "        return f'{self.__class__.__name__} con nombre {self.nombre} y apellido {self.apellido}'\n",
    "\n",
    "persona1 = Persona('Juan','Perez')\n",
    "# repr (!r)\n",
    "print(f'Mi objeto persona1: {persona1!r}')\n",
    "# str (de manera automática el método print llama al método str)\n",
    "print(persona1)\n",
    "# format\n",
    "print(f'{persona1}')"
   ]
  },
  {
   "cell_type": "code",
   "execution_count": 20,
   "metadata": {},
   "outputs": [
    {
     "name": "stdout",
     "output_type": "stream",
     "text": [
      "Inicializador hijo\n",
      "Inicializador Padre\n",
      "Método sobreescrito hijo\n",
      "Método padre\n"
     ]
    }
   ],
   "source": [
    "# Orden de inicializacion de objetos\n",
    "class Padre:\n",
    "    def __init__(self):\n",
    "        print('Inicializador Padre')\n",
    "\n",
    "    def metodo(self):\n",
    "        print('Método padre')\n",
    "\n",
    "class Hijo(Padre):\n",
    "    # Se manda a llamar el método __init__ de la clase padre\n",
    "    # siempre y cuando la clase hija no defina su propio metodo init\n",
    "\n",
    "    # Definimos el metodo init\n",
    "    def __init__(self):\n",
    "        # De manera opcional podemos llamar al metodo __init__ de la clase padre (super)\n",
    "        print('Inicializador hijo')\n",
    "        super().__init__()\n",
    "\n",
    "    # Sobreescribimos el metodo heredado de la clase padre\n",
    "    def metodo(self):\n",
    "        print('Método sobreescrito hijo')\n",
    "        super().metodo()\n",
    "\n",
    "# padre1 = Padre()\n",
    "# padre1.metodo()\n",
    "hijo1 = Hijo()\n",
    "hijo1.metodo()"
   ]
  },
  {
   "cell_type": "code",
   "execution_count": 21,
   "metadata": {},
   "outputs": [
    {
     "name": "stdout",
     "output_type": "stream",
     "text": [
      "ListaSimple([5, 3, 6, 8])\n",
      "ListaOrdenada([-1, 3, 4, 6, 9, 10])\n",
      "ListaOrdenada([-14, -1, 3, 4, 6, 9, 10])\n",
      "7\n",
      "ListaEnteros([1, 3, 4, -15])\n",
      "ListaEnterosOrdenada([-4, -1, 4, 5, 10, 14])\n",
      "ListaEnterosOrdenada([-20, -4, -1, 4, 5, 10, 14])\n",
      "(<class '__main__.ListaEnteros'>, <class '__main__.ListaOrdenada'>)\n",
      "(<class '__main__.ListaEnterosOrdenada'>, <class '__main__.ListaEnteros'>, <class '__main__.ListaOrdenada'>, <class '__main__.ListaSimple'>, <class 'object'>)\n"
     ]
    }
   ],
   "source": [
    "# Ejemplo de herencia simple\n",
    "class ListaSimple:\n",
    "    def __init__(self, elementos):\n",
    "        self._elementos = list(elementos)\n",
    "\n",
    "    def agregar(self, elemento):\n",
    "        self._elementos.append(elemento)\n",
    "\n",
    "    def __getitem__(self, indice):\n",
    "        return self._elementos[indice]\n",
    "\n",
    "    def ordenar(self):\n",
    "        self._elementos.sort()\n",
    "\n",
    "    def __len__(self):\n",
    "        return len(self._elementos)\n",
    "\n",
    "    def __repr__(self):\n",
    "        return f'{self.__class__.__name__}({self._elementos!r})'\n",
    "\n",
    "class ListaOrdenada(ListaSimple):\n",
    "    def __init__(self, elementos=[]):\n",
    "        super().__init__(elementos)\n",
    "        # Ordenamos siempre los elementos una vez inicializados\n",
    "        self.ordenar()\n",
    "\n",
    "    def agregar(self, elemento):\n",
    "        super().agregar(elemento)\n",
    "        # Ordenamos el nuevo elemento\n",
    "        self.ordenar()\n",
    "\n",
    "# Lista sólo acepta números\n",
    "class ListaEnteros(ListaSimple):\n",
    "    def __init__(self, elementos=[]):\n",
    "        for elemento in elementos:\n",
    "            self._validar(elemento)\n",
    "        # Una vez validados los elementos, los agregamos\n",
    "        super().__init__(elementos)\n",
    "\n",
    "    def _validar(self, elemento):\n",
    "        # Validamos si el elemento es de tipo entero\n",
    "        if not isinstance(elemento, int):\n",
    "            raise ValueError(f'No es un valor entero: {elemento}')\n",
    "\n",
    "    # Sobreescribimos el método agregar de la clase padre\n",
    "    def agregar(self, elemento):\n",
    "        self._validar(elemento)\n",
    "        # Una vez validado lo agregamos a la lista\n",
    "        super().agregar(elemento)\n",
    "\n",
    "# Lista de Enteros Ordenada\n",
    "class ListaEnterosOrdenada(ListaEnteros, ListaOrdenada):\n",
    "    pass\n",
    "\n",
    "# Lista simple\n",
    "lista_simple = ListaSimple([5, 3, 6, 8])\n",
    "print(lista_simple)\n",
    "# Lista ordenada\n",
    "lista_ordenada = ListaOrdenada([4,3,6,9,10,-1])\n",
    "print(lista_ordenada)\n",
    "lista_ordenada.agregar(-14)\n",
    "print(lista_ordenada)\n",
    "print(len(lista_ordenada))\n",
    "#Lista enteros\n",
    "lista_enteros = ListaEnteros([1, 3, 4, -15])\n",
    "print(lista_enteros)\n",
    "# Lista enteros ordenada\n",
    "lista_enteros_ordenada = ListaEnterosOrdenada([4,5,-1, 10, 14, -4])\n",
    "print(lista_enteros_ordenada)\n",
    "lista_enteros_ordenada.agregar(-20)\n",
    "print(lista_enteros_ordenada)\n",
    "# Saber las clases padre y su orden\n",
    "print(ListaEnterosOrdenada.__bases__)\n",
    "# MRO (Method Resolution Order)\n",
    "print(ListaEnterosOrdenada.__mro__)"
   ]
  },
  {
   "cell_type": "code",
   "execution_count": 22,
   "metadata": {},
   "outputs": [
    {
     "name": "stdout",
     "output_type": "stream",
     "text": [
      "Clase2.__init__\n",
      "Clase3.__init__\n",
      "Clase1.__init__\n",
      "(<class '__main__.Clase2'>, <class '__main__.Clase3'>)\n",
      "(<class '__main__.Clase4'>, <class '__main__.Clase2'>, <class '__main__.Clase3'>, <class '__main__.Clase1'>, <class 'object'>)\n",
      "Método clase4\n",
      "Método clase2\n",
      "Método clase3\n",
      "Método clase1\n"
     ]
    }
   ],
   "source": [
    "class Clase1:\n",
    "    def __init__(self):\n",
    "        print('Clase1.__init__')\n",
    "\n",
    "    def metodo(self):\n",
    "        print('Método clase1')\n",
    "\n",
    "class Clase2(Clase1):\n",
    "    def __init__(self):\n",
    "        print('Clase2.__init__')\n",
    "        super().__init__()\n",
    "\n",
    "    def metodo(self):\n",
    "        print('Método clase2')\n",
    "        super().metodo()\n",
    "\n",
    "class Clase3(Clase1):\n",
    "    def __init__(self):\n",
    "        print('Clase3.__init__')\n",
    "        super().__init__()\n",
    "\n",
    "    def metodo(self):\n",
    "        print('Método clase3')\n",
    "        super().metodo()\n",
    "\n",
    "class Clase4(Clase2, Clase3):\n",
    "    def metodo(self):\n",
    "        print('Método clase4')\n",
    "        super().metodo()\n",
    "\n",
    "# Creamos objeto clase4\n",
    "clase4 = Clase4()\n",
    "# __bases__\n",
    "print(Clase4.__bases__)\n",
    "# mro\n",
    "print(Clase4.__mro__)\n",
    "# cual método se ejecuta\n",
    "clase4.metodo()"
   ]
  },
  {
   "cell_type": "code",
   "execution_count": 23,
   "metadata": {},
   "outputs": [
    {
     "name": "stdout",
     "output_type": "stream",
     "text": [
      "ListaSimple([5, 3, 6, 8])\n",
      "ListaOrdenada([-1, 3, 4, 6, 9, 10])\n",
      "ListaOrdenada([-14, -1, 3, 4, 6, 9, 10])\n",
      "7\n",
      "ListaEnteros([1, 3, 4, -15])\n",
      "ListaEnterosOrdenada([-4, -1, 4, 5, 10, 14])\n",
      "ListaEnterosOrdenada([-20, -4, -1, 4, 5, 10, 14])\n",
      "(<class '__main__.ListaEnteros'>, <class '__main__.ListaOrdenada'>)\n",
      "(<class '__main__.ListaEnterosOrdenada'>, <class '__main__.ListaEnteros'>, <class '__main__.ListaOrdenada'>, <class '__main__.ListaSimple'>, <class 'object'>)\n",
      "Es entero? True\n",
      "Es cadena? True\n",
      "Es lista ent ord? True\n",
      "Es lista ent? True\n",
      "Es lista ord? True\n",
      "Es lista simple? True\n",
      "Es object? True\n",
      "Es de varios tipos? True\n"
     ]
    }
   ],
   "source": [
    "# Ejemplo de herencia simple\n",
    "class ListaSimple:\n",
    "    def __init__(self, elementos):\n",
    "        self._elementos = list(elementos)\n",
    "\n",
    "    def agregar(self, elemento):\n",
    "        self._elementos.append(elemento)\n",
    "\n",
    "    def __getitem__(self, indice):\n",
    "        return self._elementos[indice]\n",
    "\n",
    "    def ordenar(self):\n",
    "        self._elementos.sort()\n",
    "\n",
    "    def __len__(self):\n",
    "        return len(self._elementos)\n",
    "\n",
    "    def __repr__(self):\n",
    "        return f'{self.__class__.__name__}({self._elementos!r})'\n",
    "\n",
    "class ListaOrdenada(ListaSimple):\n",
    "    def __init__(self, elementos=[]):\n",
    "        super().__init__(elementos)\n",
    "        # Ordenamos siempre los elementos una vez inicializados\n",
    "        self.ordenar()\n",
    "\n",
    "    def agregar(self, elemento):\n",
    "        super().agregar(elemento)\n",
    "        # Ordenamos el nuevo elemento\n",
    "        self.ordenar()\n",
    "\n",
    "# Lista sólo acepta números\n",
    "class ListaEnteros(ListaSimple):\n",
    "    def __init__(self, elementos=[]):\n",
    "        for elemento in elementos:\n",
    "            self._validar(elemento)\n",
    "        # Una vez validados los elementos, los agregamos\n",
    "        super().__init__(elementos)\n",
    "\n",
    "    def _validar(self, elemento):\n",
    "        # Validamos si el elemento es de tipo entero\n",
    "        if not isinstance(elemento, int):\n",
    "            raise ValueError(f'No es un valor entero: {elemento}')\n",
    "\n",
    "    # Sobreescribimos el método agregar de la clase padre\n",
    "    def agregar(self, elemento):\n",
    "        self._validar(elemento)\n",
    "        # Una vez validado lo agregamos a la lista\n",
    "        super().agregar(elemento)\n",
    "\n",
    "# Lista de Enteros Ordenada\n",
    "class ListaEnterosOrdenada(ListaEnteros, ListaOrdenada):\n",
    "    pass\n",
    "\n",
    "# Lista simple\n",
    "lista_simple = ListaSimple([5, 3, 6, 8])\n",
    "print(lista_simple)\n",
    "# Lista ordenada\n",
    "lista_ordenada = ListaOrdenada([4,3,6,9,10,-1])\n",
    "print(lista_ordenada)\n",
    "lista_ordenada.agregar(-14)\n",
    "print(lista_ordenada)\n",
    "print(len(lista_ordenada))\n",
    "#Lista enteros\n",
    "lista_enteros = ListaEnteros([1, 3, 4, -15])\n",
    "print(lista_enteros)\n",
    "# Lista enteros ordenada\n",
    "lista_enteros_ordenada = ListaEnterosOrdenada([4,5,-1, 10, 14, -4])\n",
    "print(lista_enteros_ordenada)\n",
    "lista_enteros_ordenada.agregar(-20)\n",
    "print(lista_enteros_ordenada)\n",
    "# Saber las clases padre y su orden\n",
    "print(ListaEnterosOrdenada.__bases__)\n",
    "# MRO (Method Resolution Order)\n",
    "print(ListaEnterosOrdenada.__mro__)\n",
    "# isinstance\n",
    "print('Es entero?', isinstance(10, int))\n",
    "print('Es cadena?', isinstance('hola', str))\n",
    "print('Es lista ent ord?', isinstance(lista_enteros_ordenada, ListaEnterosOrdenada))\n",
    "print('Es lista ent?', isinstance(lista_enteros_ordenada, ListaEnteros))\n",
    "print('Es lista ord?', isinstance(lista_enteros_ordenada, ListaOrdenada))\n",
    "print('Es lista simple?', isinstance(lista_enteros_ordenada, ListaSimple))\n",
    "print('Es object?', isinstance(lista_enteros_ordenada, object))\n",
    "print('Es de varios tipos?', isinstance(lista_enteros_ordenada, (ListaEnteros, ListaSimple)))\n"
   ]
  },
  {
   "cell_type": "code",
   "execution_count": 24,
   "metadata": {},
   "outputs": [
    {
     "name": "stdout",
     "output_type": "stream",
     "text": [
      "1. Se ejecuta decorador\n",
      "Recibimos el objeto de la clase: Persona\n",
      "2. Se ejecuta el inicializador\n"
     ]
    }
   ],
   "source": [
    "# Decoradores de Clase\n",
    "# Permiten transformar de manera programática nuestra clase\n",
    "# Es similar a los decoradores de funciones (es metaprogramación)\n",
    "\n",
    "def decorador_repr(cls):\n",
    "    print('1. Se ejecuta decorador')\n",
    "    print(f'Recibimos el objeto de la clase: {cls.__name__}')\n",
    "    return cls\n",
    "\n",
    "@decorador_repr\n",
    "class Persona:\n",
    "    def __init__(self, nombre, apellido):\n",
    "        print('2. Se ejecuta el inicializador')\n",
    "        self._nombre = nombre\n",
    "        self._apellido = apellido\n",
    "\n",
    "    @property\n",
    "    def nombre(self):\n",
    "        return self._nombre\n",
    "\n",
    "    @property\n",
    "    def apellido(self):\n",
    "        return self._apellido\n",
    "\n",
    "    # def __repr__(self):\n",
    "    #     return f'Persona({self._nombre}, {self._apellido})'\n",
    "\n",
    "persona1 = Persona('Juan','Perez')\n"
   ]
  },
  {
   "cell_type": "code",
   "execution_count": 25,
   "metadata": {},
   "outputs": [
    {
     "name": "stdout",
     "output_type": "stream",
     "text": [
      "1. Se ejecuta decorador\n",
      "Recibimos el objeto de la clase: Persona\n",
      "Firma método __init__: (self, nombre, apellido)\n",
      "Parámetros init: ['nombre', 'apellido']\n",
      "2. Se ejecuta el inicializador\n"
     ]
    }
   ],
   "source": [
    "# Decoradores de Clase\n",
    "# Permiten transformar de manera programática nuestra clase\n",
    "# Es similar a los decoradores de funciones (es metaprogramación)\n",
    "import inspect\n",
    "\n",
    "\n",
    "def decorador_repr(cls):\n",
    "    print('1. Se ejecuta decorador')\n",
    "    print(f'Recibimos el objeto de la clase: {cls.__name__}')\n",
    "\n",
    "    # Revisamos los atributos de la clase con el método vars\n",
    "    atributos = vars(cls)\n",
    "    # Iteramos cada atributo\n",
    "    # for nombre, atributo in atributos.items():\n",
    "    #     print(nombre, atributo)\n",
    "\n",
    "    # Revisamos si se ha sobreescrito el método __init__\n",
    "    if '__init__' not in atributos:\n",
    "        raise TypeError(f'{cls.__name__} no ha sobreescrito el método __init__')\n",
    "\n",
    "    firma_init = inspect.signature(cls.__init__)\n",
    "    print(f'Firma método __init__: {firma_init}')\n",
    "    # Recuperamos los parámetros, excepto el primero que es self\n",
    "    parametros_init = list(firma_init.parameters)[1:]\n",
    "    print(f'Parámetros init: {parametros_init}')\n",
    "\n",
    "    return cls\n",
    "\n",
    "@decorador_repr\n",
    "class Persona:\n",
    "    def __init__(self, nombre, apellido):\n",
    "        print('2. Se ejecuta el inicializador')\n",
    "        self._nombre = nombre\n",
    "        self._apellido = apellido\n",
    "\n",
    "    @property\n",
    "    def nombre(self):\n",
    "        return self._nombre\n",
    "\n",
    "    @property\n",
    "    def apellido(self):\n",
    "        return self._apellido\n",
    "\n",
    "    # def __repr__(self):\n",
    "    #     return f'Persona({self._nombre}, {self._apellido})'\n",
    "\n",
    "persona1 = Persona('Juan','Perez')\n"
   ]
  },
  {
   "cell_type": "code",
   "execution_count": 26,
   "metadata": {},
   "outputs": [
    {
     "name": "stdout",
     "output_type": "stream",
     "text": [
      "1. Se ejecuta decorador\n",
      "Recibimos el objeto de la clase: Persona\n",
      "Firma método __init__: (self, nombre, apellido)\n",
      "Parámetros init: ['nombre', 'apellido']\n",
      "2. Se ejecuta el inicializador\n",
      "Resultado de ejecutar método repr\n"
     ]
    }
   ],
   "source": [
    "# Decoradores de Clase\n",
    "# Permiten transformar de manera programática nuestra clase\n",
    "# Es similar a los decoradores de funciones (es metaprogramación)\n",
    "import inspect\n",
    "\n",
    "\n",
    "def decorador_repr(cls):\n",
    "    print('1. Se ejecuta decorador')\n",
    "    print(f'Recibimos el objeto de la clase: {cls.__name__}')\n",
    "\n",
    "    # Revisamos los atributos de la clase con el método vars\n",
    "    atributos = vars(cls)\n",
    "    # Iteramos cada atributo\n",
    "    # for nombre, atributo in atributos.items():\n",
    "    #     print(nombre, atributo)\n",
    "\n",
    "    # Revisamos si se ha sobreescrito el método __init__\n",
    "    if '__init__' not in atributos:\n",
    "        raise TypeError(f'{cls.__name__} no ha sobreescrito el método __init__')\n",
    "\n",
    "    firma_init = inspect.signature(cls.__init__)\n",
    "    print(f'Firma método __init__: {firma_init}')\n",
    "    # Recuperamos los parámetros, excepto el primero que es self\n",
    "    parametros_init = list(firma_init.parameters)[1:]\n",
    "    print(f'Parámetros init: {parametros_init}')\n",
    "\n",
    "    # Revisamos si cada parámetro tiene un método property asociado\n",
    "    for parametro in parametros_init:\n",
    "        # property es un valor de tipo built-in para preguntar si\n",
    "        # se está utilizando el decorador property\n",
    "        es_metodo_property = isinstance(atributos.get(parametro), property)\n",
    "        if not es_metodo_property:\n",
    "            raise TypeError(f'No existe un método property para el parámetro: {parametro}')\n",
    "\n",
    "    # Crear el método repr dinámicamente\n",
    "    def metodo_repr(self):\n",
    "        return f'Resultado de ejecutar método repr'\n",
    "\n",
    "    # Agregar dinámicamente el método repr a nuestra clase\n",
    "    setattr(cls,'__repr__', metodo_repr)\n",
    "\n",
    "    return cls\n",
    "\n",
    "@decorador_repr\n",
    "class Persona:\n",
    "    def __init__(self, nombre, apellido):\n",
    "        print('2. Se ejecuta el inicializador')\n",
    "        self._nombre = nombre\n",
    "        self._apellido = apellido\n",
    "\n",
    "    @property\n",
    "    def nombre(self):\n",
    "        return self._nombre\n",
    "\n",
    "    @property\n",
    "    def apellido(self):\n",
    "        return self._apellido\n",
    "\n",
    "    # def __repr__(self):\n",
    "    #     return f'Persona({self._nombre}, {self._apellido})'\n",
    "\n",
    "persona1 = Persona('Juan','Perez')\n",
    "print(persona1)\n"
   ]
  },
  {
   "cell_type": "code",
   "execution_count": 27,
   "metadata": {},
   "outputs": [
    {
     "name": "stdout",
     "output_type": "stream",
     "text": [
      "1. Se ejecuta decorador\n",
      "Recibimos el objeto de la clase: Persona\n",
      "Firma método __init__: (self, nombre, apellido, edad)\n",
      "Parámetros init: ['nombre', 'apellido', 'edad']\n",
      "2. Se ejecuta el inicializador\n",
      "Nombre clase: Persona\n",
      "Lista del generador: [\"nombre='Juan'\", \"apellido='Perez'\", 'edad=28']\n",
      "Argumentos del método repr: nombre='Juan', apellido='Perez', edad=28\n",
      "Resultado método repr: Persona(nombre='Juan', apellido='Perez', edad=28)\n",
      "Persona(nombre='Juan', apellido='Perez', edad=28)\n",
      "2. Se ejecuta el inicializador\n",
      "Nombre clase: Persona\n",
      "Lista del generador: [\"nombre='Karla'\", \"apellido='Gomez'\", 'edad=30']\n",
      "Argumentos del método repr: nombre='Karla', apellido='Gomez', edad=30\n",
      "Resultado método repr: Persona(nombre='Karla', apellido='Gomez', edad=30)\n",
      "Persona(nombre='Karla', apellido='Gomez', edad=30)\n",
      "['__class__', '__delattr__', '__dict__', '__dir__', '__doc__', '__eq__', '__format__', '__ge__', '__getattribute__', '__gt__', '__hash__', '__init__', '__init_subclass__', '__le__', '__lt__', '__module__', '__ne__', '__new__', '__reduce__', '__reduce_ex__', '__repr__', '__setattr__', '__sizeof__', '__str__', '__subclasshook__', '__weakref__', 'apellido', 'edad', 'nombre']\n",
      "    def metodo_repr(self):\n",
      "        # Obtenemos el nombre de la clase dinámicamente\n",
      "        nombre_clase = self.__class__.__name__\n",
      "        print(f'Nombre clase: {nombre_clase}')\n",
      "\n",
      "        # Obtenemos los nombres de las propiedades y sus valores dinámicamente\n",
      "        # Expresion Generadora, crear nombre_atr=valor_atr\n",
      "        generador_arg = (f'{nombre}={getattr(self, nombre)!r}' for nombre in parametros_init)\n",
      "        # Lista del generador\n",
      "        lista_arg = list(generador_arg)\n",
      "        print(f'Lista del generador: {lista_arg}')\n",
      "        # Creamos la cadena a partir de la lista de argumentos\n",
      "        argumentos = ', '.join(lista_arg)\n",
      "        print(f'Argumentos del método repr: {argumentos}')\n",
      "        # Creamos la forma del método __repr__, sin su nombre, solo la firma\n",
      "        resultado_metodo_repr = f'{nombre_clase}({argumentos})'\n",
      "        print(f'Resultado método repr: {resultado_metodo_repr}')\n",
      "        return resultado_metodo_repr\n",
      "\n"
     ]
    }
   ],
   "source": [
    "# Decoradores de Clase\n",
    "# Permiten transformar de manera programática nuestra clase\n",
    "# Es similar a los decoradores de funciones (es metaprogramación)\n",
    "import inspect\n",
    "\n",
    "\n",
    "def decorador_repr(cls):\n",
    "    print('1. Se ejecuta decorador')\n",
    "    print(f'Recibimos el objeto de la clase: {cls.__name__}')\n",
    "\n",
    "    # Revisamos los atributos de la clase con el método vars\n",
    "    atributos = vars(cls)\n",
    "    # Iteramos cada atributo\n",
    "    # for nombre, atributo in atributos.items():\n",
    "    #     print(nombre, atributo)\n",
    "\n",
    "    # Revisamos si se ha sobreescrito el método __init__\n",
    "    if '__init__' not in atributos:\n",
    "        raise TypeError(f'{cls.__name__} no ha sobreescrito el método __init__')\n",
    "\n",
    "    firma_init = inspect.signature(cls.__init__)\n",
    "    print(f'Firma método __init__: {firma_init}')\n",
    "    # Recuperamos los parámetros, excepto el primero que es self\n",
    "    parametros_init = list(firma_init.parameters)[1:]\n",
    "    print(f'Parámetros init: {parametros_init}')\n",
    "\n",
    "    # Revisamos si cada parámetro tiene un método property asociado\n",
    "    for parametro in parametros_init:\n",
    "        # property es un valor de tipo built-in para preguntar si\n",
    "        # se está utilizando el decorador property\n",
    "        es_metodo_property = isinstance(atributos.get(parametro), property)\n",
    "        if not es_metodo_property:\n",
    "            raise TypeError(f'No existe un método property para el parámetro: {parametro}')\n",
    "\n",
    "    # Crear el método repr dinámicamente\n",
    "    def metodo_repr(self):\n",
    "        # Obtenemos el nombre de la clase dinámicamente\n",
    "        nombre_clase = self.__class__.__name__\n",
    "        print(f'Nombre clase: {nombre_clase}')\n",
    "\n",
    "        # Obtenemos los nombres de las propiedades y sus valores dinámicamente\n",
    "        # Expresion Generadora, crear nombre_atr=valor_atr\n",
    "        generador_arg = (f'{nombre}={getattr(self, nombre)!r}' for nombre in parametros_init)\n",
    "        # Lista del generador\n",
    "        lista_arg = list(generador_arg)\n",
    "        print(f'Lista del generador: {lista_arg}')\n",
    "        # Creamos la cadena a partir de la lista de argumentos\n",
    "        argumentos = ', '.join(lista_arg)\n",
    "        print(f'Argumentos del método repr: {argumentos}')\n",
    "        # Creamos la forma del método __repr__, sin su nombre, solo la firma\n",
    "        resultado_metodo_repr = f'{nombre_clase}({argumentos})'\n",
    "        print(f'Resultado método repr: {resultado_metodo_repr}')\n",
    "        return resultado_metodo_repr\n",
    "\n",
    "    # Agregar dinámicamente el método repr a nuestra clase\n",
    "    setattr(cls,'__repr__', metodo_repr)\n",
    "\n",
    "    return cls\n",
    "\n",
    "@decorador_repr\n",
    "class Persona:\n",
    "    def __init__(self, nombre, apellido, edad):\n",
    "        print('2. Se ejecuta el inicializador')\n",
    "        self._nombre = nombre\n",
    "        self._apellido = apellido\n",
    "        self._edad = edad\n",
    "\n",
    "    @property\n",
    "    def nombre(self):\n",
    "        return self._nombre\n",
    "\n",
    "    @property\n",
    "    def apellido(self):\n",
    "        return self._apellido\n",
    "\n",
    "    @property\n",
    "    def edad(self):\n",
    "        return self._edad\n",
    "\n",
    "    # def __repr__(self):\n",
    "    #     return f'Persona(nombre={self._nombre}, apellido={self._apellido})'\n",
    "\n",
    "persona1 = Persona('Juan','Perez', 28)\n",
    "print(persona1)\n",
    "pesona2 = Persona('Karla','Gomez', 30)\n",
    "print(pesona2)\n",
    "#Tiene los métodos de propiedad nombre, apellido, repr\n",
    "print(dir(Persona))\n",
    "# Tiene el método repr sobreescrito\n",
    "codigo_repr = inspect.getsource(persona1.__repr__)\n",
    "print(codigo_repr)"
   ]
  },
  {
   "cell_type": "code",
   "execution_count": 28,
   "metadata": {},
   "outputs": [
    {
     "name": "stdout",
     "output_type": "stream",
     "text": [
      "Persona(nombre='Juan', apellido='Perez')\n",
      "Variable clase: 0\n",
      "Variables de instancia: {'nombre': 'Juan', 'apellido': 'Perez'}\n",
      "Persona vacía: Persona(nombre='Karla', apellido='')\n"
     ]
    }
   ],
   "source": [
    "from dataclasses import dataclass\n",
    "from typing import ClassVar\n",
    "\n",
    "\n",
    "@dataclass\n",
    "class Persona:\n",
    "    nombre: str\n",
    "    apellido: str\n",
    "    contador_personas: ClassVar[int] = 0\n",
    "\n",
    "    def __post_init__(self):\n",
    "        if not self.nombre:\n",
    "            raise ValueError(f'Valor nombre vacío: {self.nombre}')\n",
    "\n",
    "persona1 = Persona('Juan','Perez')\n",
    "print(f'{persona1!r}')\n",
    "# Variable de clase\n",
    "print(f'Variable clase: {Persona.contador_personas}')\n",
    "# Variables de instancia\n",
    "print(f'Variables de instancia: {persona1.__dict__}')\n",
    "# Variable con valores vacíos\n",
    "persona_vacia = Persona('Karla','')\n",
    "print(f'Persona vacía: {persona_vacia}')"
   ]
  },
  {
   "cell_type": "code",
   "execution_count": 29,
   "metadata": {},
   "outputs": [
    {
     "name": "stdout",
     "output_type": "stream",
     "text": [
      "Persona(nombre='Juan', apellido='Perez', domicilio=Domicilio(calle='Saturno', numero=15))\n",
      "Variable clase: 0\n",
      "Variables de instancia: {'nombre': 'Juan', 'apellido': 'Perez', 'domicilio': Domicilio(calle='Saturno', numero=15)}\n",
      "Persona vacía: Persona(nombre='Karla', apellido='', domicilio=None)\n",
      "Objetos iguales?: True\n",
      "{Persona(nombre='Juan', apellido='Perez', domicilio=Domicilio(calle='Saturno', numero=15))}\n"
     ]
    }
   ],
   "source": [
    "from dataclasses import dataclass\n",
    "from typing import ClassVar\n",
    "\n",
    "@dataclass(eq=True, frozen=True)\n",
    "class Domicilio:\n",
    "    calle: str\n",
    "    numero: int = 0\n",
    "\n",
    "@dataclass(eq=True, frozen=True)\n",
    "class Persona:\n",
    "    nombre: str\n",
    "    apellido: str\n",
    "    domicilio: Domicilio\n",
    "    contador_personas: ClassVar[int] = 0\n",
    "\n",
    "    def __post_init__(self):\n",
    "        if not self.nombre:\n",
    "            raise ValueError(f'Valor nombre vacío: {self.nombre}')\n",
    "\n",
    "domicilio1 = Domicilio('Saturno', 15)\n",
    "persona1 = Persona('Juan','Perez', domicilio1)\n",
    "print(f'{persona1!r}')\n",
    "# Variable de clase\n",
    "print(f'Variable clase: {Persona.contador_personas}')\n",
    "# Variables de instancia\n",
    "print(f'Variables de instancia: {persona1.__dict__}')\n",
    "# Variable con valores vacíos\n",
    "persona_vacia = Persona('Karla','', None)\n",
    "print(f'Persona vacía: {persona_vacia}')\n",
    "# Revisar igualdad entre objetos (__eq__)\n",
    "persona2 = Persona('Juan','Perez', Domicilio('Saturno', 15))\n",
    "print(f'Objetos iguales?: {persona1 == persona2}')\n",
    "# Agregar esta clase a una colecciones\n",
    "coleccion = {persona1, persona2}\n",
    "print(coleccion)\n",
    "# Frozen = True\n",
    "# coleccion[0].nombre='Juan Carlos'\n",
    "# persona1.nombre = 'Juan Carlos'\n"
   ]
  },
  {
   "cell_type": "markdown",
   "metadata": {},
   "source": [
    "## Class"
   ]
  },
  {
   "cell_type": "code",
   "execution_count": 30,
   "metadata": {},
   "outputs": [
    {
     "name": "stdout",
     "output_type": "stream",
     "text": [
      "0\n",
      "3\n",
      "Çınar Turan uygulamadan çıkış yaptı.\n",
      "2\n"
     ]
    }
   ],
   "source": [
    "class User:\n",
    "    active_users = 0\n",
    "\n",
    "    def __init__(self,first,last,age):\n",
    "        self.first = first\n",
    "        self.last = last\n",
    "        self.age = age\n",
    "        User.active_users += 1\n",
    "\n",
    "    def full_name(self):\n",
    "        return f\"{self.first} {self.last}\"\n",
    "\n",
    "    def logout(self):\n",
    "        User.active_users -= 1\n",
    "        return f\"{self.full_name()} uygulamadan çıkış yaptı.\"\n",
    "\n",
    "print(User.active_users)\n",
    "userA = User(\"Sadık\",\"Turan\",37)\n",
    "userB = User(\"Sena\",\"Turan\",20)\n",
    "userC = User(\"Çınar\",\"Turan\",4)\n",
    "print(User.active_users)\n",
    "print(userC.logout())\n",
    "print(User.active_users)\n",
    "\n",
    "# print(userA.full_name())\n",
    "# print(userB.full_name())"
   ]
  },
  {
   "cell_type": "code",
   "execution_count": 31,
   "metadata": {},
   "outputs": [
    {
     "name": "stdout",
     "output_type": "stream",
     "text": [
      "sadikturan: güzel kurs\n",
      "likes: 0 - dislikes: 0\n",
      "ahmetyilmaz: çok güzel kurs\n",
      "likes: 0 - dislikes: 0\n",
      "cinarturan: idare eder bir kurs\n",
      "likes: 50 - dislikes: 10\n",
      "ahmetyilmaz: kursu beğenmedim\n",
      "likes: 0 - dislikes: 0\n",
      "sadikturan: süper bir kurs olmuş\n",
      "likes: 100 - dislikes: 0\n"
     ]
    }
   ],
   "source": [
    "# Comment isminde bir sınıf oluşturunuz.\n",
    "# Comment sınıfı username, text, likes, dislikes isminde özelliklere sahip olsun.\n",
    "# 5 adet farklı comment oluşturup döngü yardımıyla yorumları ekrana yazdırınız.\n",
    "\n",
    "class Comment:\n",
    "    def __init__(self, username, text, likes=0, dislikes=0):\n",
    "        self.username = username\n",
    "        self.text = text\n",
    "        self.likes = likes\n",
    "        self.dislikes = dislikes\n",
    "\n",
    "c1 = Comment(\"sadikturan\",\"güzel kurs\")\n",
    "c2 = Comment(\"ahmetyilmaz\",\"çok güzel kurs\")\n",
    "c3 = Comment(\"cinarturan\",\"idare eder bir kurs\", 50, 10)\n",
    "c4 = Comment(\"ahmetyilmaz\",\"kursu beğenmedim\")\n",
    "c5 = Comment(\"sadikturan\",\"süper bir kurs olmuş\",100)\n",
    "\n",
    "comments = [c1,c2,c3,c4,c5]\n",
    "\n",
    "for c in comments:\n",
    "    print(f\"{c.username}: {c.text}\")\n",
    "    print(f\"likes: {c.likes} - dislikes: {c.dislikes}\")"
   ]
  },
  {
   "cell_type": "code",
   "execution_count": 32,
   "metadata": {},
   "outputs": [
    {
     "name": "stdout",
     "output_type": "stream",
     "text": [
      "Ali\n"
     ]
    }
   ],
   "source": [
    "class User:\n",
    "    \n",
    "    active_users = 0\n",
    "\n",
    "    @classmethod\n",
    "    def display_active_users(cls):\n",
    "        return f\"{cls.active_users} tane aktif kullanıcı var.\"\n",
    "\n",
    "    @classmethod\n",
    "    def from_string(cls,data_str):\n",
    "        first,last,age = data_str.split(',')\n",
    "        return cls(first,last,age)\n",
    "\n",
    "    def __init__(self,first,last,age):\n",
    "        self.first = first\n",
    "        self.last = last\n",
    "        self.age = age\n",
    "        User.active_users += 1\n",
    "\n",
    "    def full_name(self):\n",
    "        return f\"{self.first} {self.last}\"\n",
    "\n",
    "    def logout(self):\n",
    "        User.active_users -= 1\n",
    "        return f\"{self.full_name()} uygulamadan çıkış yaptı.\"\n",
    "\n",
    "# print(User.display_active_users())\n",
    "# userA = User(\"Sadık\",\"Turan\",37)\n",
    "# userB = User(\"Sena\",\"Turan\",20)\n",
    "# userC = User(\"Sena\",\"Turan\",20)\n",
    "\n",
    "ali = User.from_string(\"Ali,Korkmaz,20\")\n",
    "print(ali.first)\n",
    "\n",
    "# {\"key\":\"value\"}\n",
    "# dict.fromkeys()\n"
   ]
  },
  {
   "cell_type": "code",
   "execution_count": 33,
   "metadata": {},
   "outputs": [
    {
     "name": "stdout",
     "output_type": "stream",
     "text": [
      "<__main__.Product object at 0x7f9da07e2550>\n",
      "<class '__main__.Product'>\n",
      "<__main__.Product object at 0x7f9da07e2520>\n",
      "<class '__main__.Product'>\n",
      "<__main__.Product object at 0x7f9da07e29a0>\n",
      "<class '__main__.Product'>\n"
     ]
    }
   ],
   "source": [
    "# Class\n",
    "\n",
    "class Ogrenci:\n",
    "    # method\n",
    "    # attribute\n",
    "    pass\n",
    "\n",
    "# Object, Instance\n",
    "\n",
    "ogrenci1 = Ogrenci()\n",
    "ogrenci2 = Ogrenci()\n",
    "\n",
    "# print(type(ogrenci))\n",
    "# print(ogrenci1, ogrenci2)\n",
    "\n",
    "class Product:\n",
    "    pass\n",
    "\n",
    "p1 = Product() # Samsung S10\n",
    "p2 = Product() # IPhone 12\n",
    "p3 = Product() # IPhone 12 Pro\n",
    "\n",
    "products = [p1,p2,p3]\n",
    "\n",
    "for p in products:\n",
    "    print(p)\n",
    "    print(type(p))"
   ]
  },
  {
   "cell_type": "code",
   "execution_count": 34,
   "metadata": {},
   "outputs": [
    {
     "name": "stdout",
     "output_type": "stream",
     "text": [
      "{'id': 12, 'name': 'atomic habits', 'description': 'build long habits', 'isbn': '213--52-325-23', 'page_count': 234, 'issued': True, 'author': 'James Clear', 'year': 2018}\n"
     ]
    }
   ],
   "source": [
    "class Book:\n",
    "    def __init__(self, id, name, description, isbn, page_count, issued, author, year):\n",
    "        self.id = id\n",
    "        self.name = name\n",
    "        self.description = description\n",
    "        self.isbn = isbn\n",
    "        self.page_count = page_count\n",
    "        self.issued = issued\n",
    "        self.author = author\n",
    "        self.year = year\n",
    "    # to_dict method\n",
    "\n",
    "    def to_dict(self):\n",
    "        dictionary = {\n",
    "            \"id\": self.id,\n",
    "            \"name\": self.name,\n",
    "            \"description\": self.description,\n",
    "            \"isbn\": self.isbn,\n",
    "            \"page_count\": self.page_count,\n",
    "            \"issued\": self.issued,\n",
    "            \"author\": self.author,\n",
    "            \"year\": self.year\n",
    "        }\n",
    "        return dictionary\n",
    "\n",
    "\n",
    "book = Book(12, \"atomic habits\", \"build long habits\",\n",
    "            \"213--52-325-23\", 234, True, \"James Clear\", 2018)\n",
    "print(book.to_dict())\n"
   ]
  },
  {
   "cell_type": "code",
   "execution_count": null,
   "metadata": {},
   "outputs": [],
   "source": []
  },
  {
   "cell_type": "markdown",
   "metadata": {},
   "source": [
    "## 1.7 Dunder (Magic, Special) Methods"
   ]
  },
  {
   "cell_type": "code",
   "execution_count": 35,
   "metadata": {},
   "outputs": [],
   "source": [
    "liste = [23,3,4,5]\n",
    "#type(liste)\n",
    "#dir(list)"
   ]
  },
  {
   "cell_type": "markdown",
   "metadata": {},
   "source": [
    "### 1.7.1 __str__"
   ]
  },
  {
   "cell_type": "code",
   "execution_count": 36,
   "metadata": {},
   "outputs": [],
   "source": [
    "class kitap():\n",
    "    kutuphaneninAdi = \"Üniversite Kütüphanesi\"\n",
    "    kitapSayisi = 0\n",
    "    kitapID = 1000\n",
    "    def __init__(self,ad = \"Girilmedi\",yazar = \"Girilmedi\",raf = \"Girilmedi\",sayfa = \"Girilmedi\",yayinevi = \"Girilmedi\"):   #initiliaze \n",
    "        self.ad = ad\n",
    "        self.yazar = yazar\n",
    "        self.raf = raf\n",
    "        self.sayfa = sayfa\n",
    "        self.yayinevi = yayinevi\n",
    "        kitap.kitapSayisi += 1\n",
    "        self.kitapID += 10\n",
    "        kitap.kitapID = self.kitapID\n",
    "    #instance method    \n",
    "    def __str__(self):\n",
    "        return \"Kitabın Adı: {} \\nKitabın Yazarı: {} \\nKitabın Rafı: {} \\nKitabın Sayfası: {} \\nKitabın Yayınevi: {} \\n\".format(self.ad,self.yazar,self.raf,self.sayfa,self.yayinevi)\n",
    "    #instance method \n",
    "    def sayfaArttır(self,deger):\n",
    "        self.sayfa += deger # self.sayfa = self.sayfa + deger\n",
    "    #class method\n",
    "    @classmethod\n",
    "    def kitapSayısınıSoyle(cls):\n",
    "        return kitap.kitapSayisi\n",
    "    #class method\n",
    "    @classmethod\n",
    "    def stringİleOluştur(cls,metin):\n",
    "        ad,yazar = metin.split(\" \")\n",
    "        return cls(ad,yazar)\n",
    "    #static method\n",
    "    @staticmethod\n",
    "    def kutuphaneAdiniSoyle():\n",
    "        return kitap.kutuphaneninAdi\n",
    "\n",
    "kitap1 = kitap(\"Simyacı\",\"Paulo Coelho\",\"B23\",184,\"Can Yayınları\")\n",
    "kitap2 = kitap(\"Küçük Prens\",\"Antoine De Sain Exupery\",yayinevi = \"Can Çocuk Yayınları\")"
   ]
  },
  {
   "cell_type": "code",
   "execution_count": 37,
   "metadata": {},
   "outputs": [
    {
     "name": "stdout",
     "output_type": "stream",
     "text": [
      "Kitabın Adı: Simyacı \n",
      "Kitabın Yazarı: Paulo Coelho \n",
      "Kitabın Rafı: B23 \n",
      "Kitabın Sayfası: 184 \n",
      "Kitabın Yayınevi: Can Yayınları \n",
      "\n"
     ]
    }
   ],
   "source": [
    "print(kitap1)\n"
   ]
  },
  {
   "cell_type": "markdown",
   "metadata": {},
   "source": [
    "### 1.7.2 len"
   ]
  },
  {
   "cell_type": "code",
   "execution_count": 38,
   "metadata": {},
   "outputs": [
    {
     "data": {
      "text/plain": [
       "3"
      ]
     },
     "execution_count": 38,
     "metadata": {},
     "output_type": "execute_result"
    }
   ],
   "source": [
    "liste = [2,3,4]\n",
    "len(liste)"
   ]
  },
  {
   "cell_type": "code",
   "execution_count": 39,
   "metadata": {},
   "outputs": [],
   "source": [
    "class kitap():\n",
    "    kutuphaneninAdi = \"Üniversite Kütüphanesi\"\n",
    "    kitapSayisi = 0\n",
    "    kitapID = 1000\n",
    "    def __init__(self,ad = \"Girilmedi\",yazar = \"Girilmedi\",raf = \"Girilmedi\",sayfa = \"Girilmedi\",yayinevi = \"Girilmedi\"):   #initiliaze \n",
    "        self.ad = ad\n",
    "        self.yazar = yazar\n",
    "        self.raf = raf\n",
    "        self.sayfa = sayfa\n",
    "        self.yayinevi = yayinevi\n",
    "        kitap.kitapSayisi += 1\n",
    "        self.kitapID += 10\n",
    "        kitap.kitapID = self.kitapID\n",
    "    #instance method    \n",
    "    def __str__(self):\n",
    "        return \"Kitabın Adı: {} \\nKitabın Yazarı: {} \\nKitabın Rafı: {} \\nKitabın Sayfası: {} \\nKitabın Yayınevi: {} \\n\".format(self.ad,self.yazar,self.raf,self.sayfa,self.yayinevi)\n",
    "    #instance method \n",
    "    def sayfaArttır(self,deger):\n",
    "        self.sayfa += deger # self.sayfa = self.sayfa + deger\n",
    "    #class method\n",
    "    @classmethod\n",
    "    def kitapSayısınıSoyle(cls):\n",
    "        return kitap.kitapSayisi\n",
    "    #class method\n",
    "    @classmethod\n",
    "    def stringİleOluştur(cls,metin):\n",
    "        ad,yazar = metin.split(\" \")\n",
    "        return cls(ad,yazar)\n",
    "    #static method\n",
    "    @staticmethod\n",
    "    def kutuphaneAdiniSoyle():\n",
    "        return kitap.kutuphaneninAdi\n",
    "    def __len__(self):\n",
    "        return self.sayfa\n",
    "\n",
    "kitap1 = kitap(\"Simyacı\",\"Paulo Coelho\",\"B23\",184,\"Can Yayınları\")\n",
    "kitap2 = kitap(\"Küçük Prens\",\"Antoine De Sain Exupery\",yayinevi = \"Can Çocuk Yayınları\")"
   ]
  },
  {
   "cell_type": "code",
   "execution_count": 40,
   "metadata": {},
   "outputs": [
    {
     "data": {
      "text/plain": [
       "184"
      ]
     },
     "execution_count": 40,
     "metadata": {},
     "output_type": "execute_result"
    }
   ],
   "source": [
    "len(kitap1)"
   ]
  },
  {
   "cell_type": "markdown",
   "metadata": {},
   "source": [
    "### 1.7.3 add"
   ]
  },
  {
   "cell_type": "code",
   "execution_count": 41,
   "metadata": {},
   "outputs": [],
   "source": [
    "class kitap():\n",
    "    kutuphaneninAdi = \"Üniversite Kütüphanesi\"\n",
    "    kitapSayisi = 0\n",
    "    kitapID = 1000\n",
    "    def __init__(self,ad = \"Girilmedi\",yazar = \"Girilmedi\",raf = \"Girilmedi\",sayfa = \"Girilmedi\",yayinevi = \"Girilmedi\"):   #initiliaze \n",
    "        self.ad = ad\n",
    "        self.yazar = yazar\n",
    "        self.raf = raf\n",
    "        self.sayfa = sayfa\n",
    "        self.yayinevi = yayinevi\n",
    "        kitap.kitapSayisi += 1\n",
    "        self.kitapID += 10\n",
    "        kitap.kitapID = self.kitapID\n",
    "    #instance method    \n",
    "    def __str__(self):\n",
    "        return \"Kitabın Adı: {} \\nKitabın Yazarı: {} \\nKitabın Rafı: {} \\nKitabın Sayfası: {} \\nKitabın Yayınevi: {} \\n\".format(self.ad,self.yazar,self.raf,self.sayfa,self.yayinevi)\n",
    "    #instance method \n",
    "    def sayfaArttır(self,deger):\n",
    "        self.sayfa += deger # self.sayfa = self.sayfa + deger\n",
    "    #class method\n",
    "    @classmethod\n",
    "    def kitapSayısınıSoyle(cls):\n",
    "        return kitap.kitapSayisi\n",
    "    #class method\n",
    "    @classmethod\n",
    "    def stringİleOluştur(cls,metin):\n",
    "        ad,yazar = metin.split(\" \")\n",
    "        return cls(ad,yazar)\n",
    "    #static method\n",
    "    @staticmethod\n",
    "    def kutuphaneAdiniSoyle():\n",
    "        return kitap.kutuphaneninAdi\n",
    "    def __len__(self):\n",
    "        return self.sayfa\n",
    "    def __add__(self,other):\n",
    "        return self.ad + other.ad\n",
    "\n",
    "kitap1 = kitap(\"Simyacı\",\"Paulo Coelho\",\"B23\",184,\"Can Yayınları\")\n",
    "kitap2 = kitap(\"Küçük Prens\",\"Antoine De Sain Exupery\",yayinevi = \"Can Çocuk Yayınları\")"
   ]
  },
  {
   "cell_type": "code",
   "execution_count": 42,
   "metadata": {},
   "outputs": [
    {
     "name": "stdout",
     "output_type": "stream",
     "text": [
      "SimyacıKüçük Prens\n"
     ]
    }
   ],
   "source": [
    "print(kitap1 + kitap2)"
   ]
  },
  {
   "cell_type": "markdown",
   "metadata": {},
   "source": [
    "### 1.7.4 mul"
   ]
  },
  {
   "cell_type": "code",
   "execution_count": 43,
   "metadata": {},
   "outputs": [],
   "source": [
    "class kitap():\n",
    "    kutuphaneninAdi = \"Üniversite Kütüphanesi\"\n",
    "    kitapSayisi = 0\n",
    "    kitapID = 1000\n",
    "    def __init__(self,ad = \"Girilmedi\",yazar = \"Girilmedi\",raf = \"Girilmedi\",sayfa = \"Girilmedi\",yayinevi = \"Girilmedi\"):   #initiliaze \n",
    "        self.ad = ad\n",
    "        self.yazar = yazar\n",
    "        self.raf = raf\n",
    "        self.sayfa = sayfa\n",
    "        self.yayinevi = yayinevi\n",
    "        kitap.kitapSayisi += 1\n",
    "        self.kitapID += 10\n",
    "        kitap.kitapID = self.kitapID\n",
    "    #instance method    \n",
    "    def __str__(self):\n",
    "        return \"Kitabın Adı: {} \\nKitabın Yazarı: {} \\nKitabın Rafı: {} \\nKitabın Sayfası: {} \\nKitabın Yayınevi: {} \\n\".format(self.ad,self.yazar,self.raf,self.sayfa,self.yayinevi)\n",
    "    #instance method \n",
    "    def sayfaArttır(self,deger):\n",
    "        self.sayfa += deger # self.sayfa = self.sayfa + deger\n",
    "    #class method\n",
    "    @classmethod\n",
    "    def kitapSayısınıSoyle(cls):\n",
    "        return kitap.kitapSayisi\n",
    "    #class method\n",
    "    @classmethod\n",
    "    def stringİleOluştur(cls,metin):\n",
    "        ad,yazar = metin.split(\" \")\n",
    "        return cls(ad,yazar)\n",
    "    #static method\n",
    "    @staticmethod\n",
    "    def kutuphaneAdiniSoyle():\n",
    "        return kitap.kutuphaneninAdi\n",
    "    def __len__(self):\n",
    "        return self.sayfa\n",
    "    def __add__(self,other):\n",
    "        return self.ad + other.ad\n",
    "    def __mul__(self,other):\n",
    "        return self.yazar + \"-\" +other.yazar\n",
    "\n",
    "kitap1 = kitap(\"Simyacı\",\"Paulo Coelho\",\"B23\",184,\"Can Yayınları\")\n",
    "kitap2 = kitap(\"Küçük Prens\",\"Antoine De Sain Exupery\",yayinevi = \"Can Çocuk Yayınları\")"
   ]
  },
  {
   "cell_type": "code",
   "execution_count": 44,
   "metadata": {},
   "outputs": [
    {
     "name": "stdout",
     "output_type": "stream",
     "text": [
      "Paulo Coelho-Antoine De Sain Exupery\n"
     ]
    }
   ],
   "source": [
    "print(kitap1 * kitap2)"
   ]
  },
  {
   "cell_type": "markdown",
   "metadata": {},
   "source": [
    "# 4. Class Örneği"
   ]
  },
  {
   "cell_type": "code",
   "execution_count": 45,
   "metadata": {},
   "outputs": [],
   "source": [
    "import time\n",
    "\n",
    "class araba():\n",
    "    galeriAdı = \"Tekinler Galeri\"\n",
    "    aracSayısı = 0\n",
    "    aracID = 2152\n",
    "    def __init__(self,marka=\"Girilmedi\",model=\"Girilmedi\",yıl=\"Girilmedi\",renk=\"Girilmedi\"):\n",
    "        self.marka = marka\n",
    "        self.model = model\n",
    "        self.yıl = yıl\n",
    "        self.renk = renk\n",
    "        araba.aracSayısı += 1\n",
    "        araba.aracID += 5\n",
    "        self.aracID = araba.aracID\n",
    "        self.index = -1\n",
    "        \n",
    "    def zamanHesapla(fonk):\n",
    "        def wrapper(*args,**kwargs):\n",
    "            baslangic = time.time()\n",
    "            fonk(*args,*kwargs)\n",
    "            bitis = time.time()\n",
    "            print(\"Bu işlem toplam {} saniye sürdü\".format(bitis-baslangic))\n",
    "        return wrapper\n",
    "     \n",
    "    @zamanHesapla    \n",
    "    def renkDegistir(self,yeniRenk):\n",
    "        self.renk = yeniRenk\n",
    "        \n",
    "    def __str__(self):\n",
    "        return f\"Arabanın markası: {self.marka}\\nArabanın modeli: {self.model}\\nArabanın yılı: {self.yıl}\\nArabanın rengi: {self.renk}\"\n",
    "    \n",
    "    def __len__(self):\n",
    "        return self.yıl\n",
    "    \n",
    "    @zamanHesapla \n",
    "    def __add__(self,other):\n",
    "        return self.yıl + other.yıl\n",
    "    \n",
    "    def __iter__(self):\n",
    "        return self\n",
    "    \n",
    "    def __next__(self):\n",
    "        self.index += 1\n",
    "        if self.index < len(self.marka):\n",
    "            return self.marka[self.index]\n",
    "        else:\n",
    "            self.index = -1\n",
    "            raise StopIteration\n",
    "            \n",
    "    def ornekGenerator(self):\n",
    "        for i in range(1,self.yıl):\n",
    "            yield 2*i\n",
    "            \n",
    "    @classmethod\n",
    "    def aracSayısınıSoyle(cls):\n",
    "        return cls.aracSayısı\n",
    "    \n",
    "    @staticmethod\n",
    "    def galeriAdınıSoyle():\n",
    "        return araba.galeriAdı\n",
    "    "
   ]
  },
  {
   "cell_type": "code",
   "execution_count": 46,
   "metadata": {},
   "outputs": [
    {
     "name": "stdout",
     "output_type": "stream",
     "text": [
      "Bu işlem toplam 2.1457672119140625e-06 saniye sürdü\n",
      "Bu işlem toplam 9.5367431640625e-07 saniye sürdü\n",
      "R\n",
      "e\n",
      "n\n",
      "a\n",
      "u\n",
      "l\n",
      "t\n",
      "-------\n",
      "F\n",
      "i\n",
      "a\n",
      "t\n"
     ]
    }
   ],
   "source": [
    "arac1 = araba(\"Renault\",\"Megane\",2015,\"Beyaz\")\n",
    "arac2 = araba(\"Fiat\",\"Linea\",2017,\"Kırmızı\")\n",
    "\n",
    "#print(arac1)\n",
    "#len(arac1)\n",
    "araba.galeriAdı\n",
    "araba.aracSayısı\n",
    "arac1.aracID\n",
    "arac2.aracID\n",
    "arac1.renkDegistir(\"Siyah\")\n",
    "#print(arac1)\n",
    "\n",
    "arac1 + arac2\n",
    "\n",
    "\n",
    "for i in arac1:\n",
    "    print(i)\n",
    "print(\"-------\")\n",
    "    \n",
    "iterator = iter(arac2)    \n",
    "while True:\n",
    "    try:\n",
    "        i = next(iterator)\n",
    "        print(i)\n",
    "    except StopIteration:\n",
    "        break"
   ]
  },
  {
   "cell_type": "code",
   "execution_count": 47,
   "metadata": {},
   "outputs": [
    {
     "data": {
      "text/plain": [
       "10"
      ]
     },
     "execution_count": 47,
     "metadata": {},
     "output_type": "execute_result"
    }
   ],
   "source": [
    "araba.aracSayısınıSoyle()\n",
    "araba.galeriAdınıSoyle()\n",
    "\n",
    "generator = arac1.ornekGenerator()\n",
    "iterator = iter(generator)\n",
    "next(iterator)\n",
    "next(iterator)\n",
    "next(iterator)\n",
    "next(iterator)\n",
    "next(iterator)"
   ]
  },
  {
   "cell_type": "code",
   "execution_count": 48,
   "metadata": {},
   "outputs": [
    {
     "name": "stdout",
     "output_type": "stream",
     "text": [
      "Bu işlem toplam 2.1457672119140625e-06 saniye sürdü\n"
     ]
    }
   ],
   "source": [
    "arac1.renkDegistir(\"Siyah\")"
   ]
  },
  {
   "cell_type": "code",
   "execution_count": 49,
   "metadata": {},
   "outputs": [
    {
     "name": "stdout",
     "output_type": "stream",
     "text": [
      "Bu işlem toplam 2.1457672119140625e-06 saniye sürdü\n"
     ]
    }
   ],
   "source": [
    "arac1 + arac2"
   ]
  },
  {
   "cell_type": "markdown",
   "metadata": {},
   "source": [
    "## typing"
   ]
  },
  {
   "cell_type": "code",
   "execution_count": 50,
   "metadata": {},
   "outputs": [
    {
     "name": "stdout",
     "output_type": "stream",
     "text": [
      "Persona(nombre='Juan', apellido='Perez')\n",
      "Variable clase: 0\n",
      "Variables de instancia: {'nombre': 'Juan', 'apellido': 'Perez'}\n",
      "Persona vacía: Persona(nombre='Karla', apellido='')\n"
     ]
    }
   ],
   "source": [
    "from dataclasses import dataclass\n",
    "from typing import ClassVar\n",
    "\n",
    "\n",
    "@dataclass\n",
    "class Persona:\n",
    "    nombre: str\n",
    "    apellido: str\n",
    "    contador_personas: ClassVar[int] = 0\n",
    "\n",
    "    def __post_init__(self):\n",
    "        if not self.nombre:\n",
    "            raise ValueError(f'Valor nombre vacío: {self.nombre}')\n",
    "\n",
    "persona1 = Persona('Juan','Perez')\n",
    "print(f'{persona1!r}')\n",
    "# Variable de clase\n",
    "print(f'Variable clase: {Persona.contador_personas}')\n",
    "# Variables de instancia\n",
    "print(f'Variables de instancia: {persona1.__dict__}')\n",
    "# Variable con valores vacíos\n",
    "persona_vacia = Persona('Karla','')\n",
    "print(f'Persona vacía: {persona_vacia}')"
   ]
  },
  {
   "cell_type": "code",
   "execution_count": 51,
   "metadata": {},
   "outputs": [
    {
     "name": "stdout",
     "output_type": "stream",
     "text": [
      "Persona(nombre='Juan', apellido='Perez', domicilio=Domicilio(calle='Saturno', numero=15))\n",
      "Variable clase: 0\n",
      "Variables de instancia: {'nombre': 'Juan', 'apellido': 'Perez', 'domicilio': Domicilio(calle='Saturno', numero=15)}\n",
      "Persona vacía: Persona(nombre='Karla', apellido='', domicilio=None)\n",
      "Objetos iguales?: True\n",
      "{Persona(nombre='Juan', apellido='Perez', domicilio=Domicilio(calle='Saturno', numero=15))}\n"
     ]
    }
   ],
   "source": [
    "from dataclasses import dataclass\n",
    "from typing import ClassVar\n",
    "\n",
    "@dataclass(eq=True, frozen=True)\n",
    "class Domicilio:\n",
    "    calle: str\n",
    "    numero: int = 0\n",
    "\n",
    "@dataclass(eq=True, frozen=True)\n",
    "class Persona:\n",
    "    nombre: str\n",
    "    apellido: str\n",
    "    domicilio: Domicilio\n",
    "    contador_personas: ClassVar[int] = 0\n",
    "\n",
    "    def __post_init__(self):\n",
    "        if not self.nombre:\n",
    "            raise ValueError(f'Valor nombre vacío: {self.nombre}')\n",
    "\n",
    "domicilio1 = Domicilio('Saturno', 15)\n",
    "persona1 = Persona('Juan','Perez', domicilio1)\n",
    "print(f'{persona1!r}')\n",
    "# Variable de clase\n",
    "print(f'Variable clase: {Persona.contador_personas}')\n",
    "# Variables de instancia\n",
    "print(f'Variables de instancia: {persona1.__dict__}')\n",
    "# Variable con valores vacíos\n",
    "persona_vacia = Persona('Karla','', None)\n",
    "print(f'Persona vacía: {persona_vacia}')\n",
    "# Revisar igualdad entre objetos (__eq__)\n",
    "persona2 = Persona('Juan','Perez', Domicilio('Saturno', 15))\n",
    "print(f'Objetos iguales?: {persona1 == persona2}')\n",
    "# Agregar esta clase a una colecciones\n",
    "coleccion = {persona1, persona2}\n",
    "print(coleccion)\n",
    "# Frozen = True\n",
    "# coleccion[0].nombre='Juan Carlos'\n",
    "# persona1.nombre = 'Juan Carlos'"
   ]
  },
  {
   "cell_type": "markdown",
   "metadata": {},
   "source": [
    "## Example"
   ]
  },
  {
   "cell_type": "code",
   "execution_count": 52,
   "metadata": {},
   "outputs": [],
   "source": [
    "class Car():\n",
    "    # Class object attribute\n",
    "    machine = 'vehicle'\n",
    "    \n",
    "    def __init__(self,brand,color,price):\n",
    "        self.brand = brand\n",
    "        self.color = color\n",
    "        self.price = price\n",
    "    def drive(self, serial_number):\n",
    "        print('Driving the {} car, with serial number {}.'.format(self.brand, serial_number))"
   ]
  },
  {
   "cell_type": "code",
   "execution_count": 53,
   "metadata": {},
   "outputs": [],
   "source": [
    "new_car = Car(brand='Volvo',color='Black',price=30500.50)"
   ]
  },
  {
   "cell_type": "code",
   "execution_count": 54,
   "metadata": {},
   "outputs": [
    {
     "data": {
      "text/plain": [
       "'vehicle'"
      ]
     },
     "execution_count": 54,
     "metadata": {},
     "output_type": "execute_result"
    }
   ],
   "source": [
    "new_car.machine"
   ]
  },
  {
   "cell_type": "code",
   "execution_count": 55,
   "metadata": {},
   "outputs": [
    {
     "name": "stdout",
     "output_type": "stream",
     "text": [
      "Driving the Volvo car, with serial number 706.\n"
     ]
    }
   ],
   "source": [
    "new_car.drive(706)"
   ]
  },
  {
   "cell_type": "code",
   "execution_count": 56,
   "metadata": {},
   "outputs": [],
   "source": [
    "class BMI():\n",
    "    divider = 100\n",
    "    \n",
    "    def __init__(self, weight_kg=70, height_cm=180):\n",
    "        \n",
    "        self.weight_kg = weight_kg\n",
    "        self.height_cm = height_cm\n",
    "        self.example = 2\n",
    "        \n",
    "    # Calculates the body mass index\n",
    "    def calculate_bmi(self):\n",
    "        return self.weight_kg/(self.height_cm/BMI.divider)**2"
   ]
  },
  {
   "cell_type": "code",
   "execution_count": 57,
   "metadata": {},
   "outputs": [],
   "source": [
    "my_bmi = BMI(60,170)"
   ]
  },
  {
   "cell_type": "code",
   "execution_count": 58,
   "metadata": {},
   "outputs": [
    {
     "data": {
      "text/plain": [
       "170"
      ]
     },
     "execution_count": 58,
     "metadata": {},
     "output_type": "execute_result"
    }
   ],
   "source": [
    "my_bmi.height_cm"
   ]
  },
  {
   "cell_type": "code",
   "execution_count": 59,
   "metadata": {},
   "outputs": [
    {
     "data": {
      "text/plain": [
       "60"
      ]
     },
     "execution_count": 59,
     "metadata": {},
     "output_type": "execute_result"
    }
   ],
   "source": [
    "my_bmi.weight_kg"
   ]
  },
  {
   "cell_type": "code",
   "execution_count": 60,
   "metadata": {},
   "outputs": [
    {
     "data": {
      "text/plain": [
       "20.761245674740486"
      ]
     },
     "execution_count": 60,
     "metadata": {},
     "output_type": "execute_result"
    }
   ],
   "source": [
    "my_bmi.calculate_bmi()"
   ]
  },
  {
   "cell_type": "code",
   "execution_count": 61,
   "metadata": {},
   "outputs": [
    {
     "data": {
      "text/plain": [
       "2"
      ]
     },
     "execution_count": 61,
     "metadata": {},
     "output_type": "execute_result"
    }
   ],
   "source": [
    "my_bmi.example"
   ]
  },
  {
   "cell_type": "code",
   "execution_count": null,
   "metadata": {},
   "outputs": [],
   "source": []
  }
 ],
 "metadata": {
  "kernelspec": {
   "display_name": "Python 3 (ipykernel)",
   "language": "python",
   "name": "python3"
  },
  "language_info": {
   "codemirror_mode": {
    "name": "ipython",
    "version": 3
   },
   "file_extension": ".py",
   "mimetype": "text/x-python",
   "name": "python",
   "nbconvert_exporter": "python",
   "pygments_lexer": "ipython3",
   "version": "3.10.9"
  }
 },
 "nbformat": 4,
 "nbformat_minor": 4
}
