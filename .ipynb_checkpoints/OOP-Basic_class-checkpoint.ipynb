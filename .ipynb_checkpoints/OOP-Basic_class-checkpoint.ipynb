{
 "cells": [
  {
   "cell_type": "markdown",
   "metadata": {},
   "source": [
    "# 4. Class Örneği"
   ]
  },
  {
   "cell_type": "code",
   "execution_count": 42,
   "metadata": {},
   "outputs": [],
   "source": [
    "import time\n",
    "\n",
    "class araba():\n",
    "    galeriAdı = \"Tekinler Galeri\"\n",
    "    aracSayısı = 0\n",
    "    aracID = 2152\n",
    "    def __init__(self,marka=\"Girilmedi\",model=\"Girilmedi\",yıl=\"Girilmedi\",renk=\"Girilmedi\"):\n",
    "        self.marka = marka\n",
    "        self.model = model\n",
    "        self.yıl = yıl\n",
    "        self.renk = renk\n",
    "        araba.aracSayısı += 1\n",
    "        araba.aracID += 5\n",
    "        self.aracID = araba.aracID\n",
    "        self.index = -1\n",
    "        \n",
    "    def zamanHesapla(fonk):\n",
    "        def wrapper(*args,**kwargs):\n",
    "            baslangic = time.time()\n",
    "            fonk(*args,*kwargs)\n",
    "            bitis = time.time()\n",
    "            print(\"Bu işlem toplam {} saniye sürdü\".format(bitis-baslangic))\n",
    "        return wrapper\n",
    "     \n",
    "    @zamanHesapla    \n",
    "    def renkDegistir(self,yeniRenk):\n",
    "        self.renk = yeniRenk\n",
    "        \n",
    "    def __str__(self):\n",
    "        return f\"Arabanın markası: {self.marka}\\nArabanın modeli: {self.model}\\nArabanın yılı: {self.yıl}\\nArabanın rengi: {self.renk}\"\n",
    "    \n",
    "    def __len__(self):\n",
    "        return self.yıl\n",
    "    \n",
    "    @zamanHesapla \n",
    "    def __add__(self,other):\n",
    "        return self.yıl + other.yıl\n",
    "    \n",
    "    def __iter__(self):\n",
    "        return self\n",
    "    \n",
    "    def __next__(self):\n",
    "        self.index += 1\n",
    "        if self.index < len(self.marka):\n",
    "            return self.marka[self.index]\n",
    "        else:\n",
    "            self.index = -1\n",
    "            raise StopIteration\n",
    "            \n",
    "    def ornekGenerator(self):\n",
    "        for i in range(1,self.yıl):\n",
    "            yield 2*i\n",
    "            \n",
    "    @classmethod\n",
    "    def aracSayısınıSoyle(cls):\n",
    "        return cls.aracSayısı\n",
    "    \n",
    "    @staticmethod\n",
    "    def galeriAdınıSoyle():\n",
    "        return araba.galeriAdı\n",
    "    "
   ]
  },
  {
   "cell_type": "code",
   "execution_count": 43,
   "metadata": {},
   "outputs": [
    {
     "name": "stdout",
     "output_type": "stream",
     "text": [
      "Bu işlem toplam 9.5367431640625e-07 saniye sürdü\n",
      "Bu işlem toplam 2.1457672119140625e-06 saniye sürdü\n",
      "R\n",
      "e\n",
      "n\n",
      "a\n",
      "u\n",
      "l\n",
      "t\n",
      "-------\n",
      "F\n",
      "i\n",
      "a\n",
      "t\n"
     ]
    }
   ],
   "source": [
    "arac1 = araba(\"Renault\",\"Megane\",2015,\"Beyaz\")\n",
    "arac2 = araba(\"Fiat\",\"Linea\",2017,\"Kırmızı\")\n",
    "\n",
    "#print(arac1)\n",
    "#len(arac1)\n",
    "araba.galeriAdı\n",
    "araba.aracSayısı\n",
    "arac1.aracID\n",
    "arac2.aracID\n",
    "arac1.renkDegistir(\"Siyah\")\n",
    "#print(arac1)\n",
    "\n",
    "arac1 + arac2\n",
    "\n",
    "\n",
    "for i in arac1:\n",
    "    print(i)\n",
    "print(\"-------\")\n",
    "    \n",
    "iterator = iter(arac2)    \n",
    "while True:\n",
    "    try:\n",
    "        i = next(iterator)\n",
    "        print(i)\n",
    "    except StopIteration:\n",
    "        break"
   ]
  },
  {
   "cell_type": "code",
   "execution_count": 44,
   "metadata": {},
   "outputs": [
    {
     "data": {
      "text/plain": [
       "10"
      ]
     },
     "execution_count": 44,
     "metadata": {},
     "output_type": "execute_result"
    }
   ],
   "source": [
    "araba.aracSayısınıSoyle()\n",
    "araba.galeriAdınıSoyle()\n",
    "\n",
    "generator = arac1.ornekGenerator()\n",
    "iterator = iter(generator)\n",
    "next(iterator)\n",
    "next(iterator)\n",
    "next(iterator)\n",
    "next(iterator)\n",
    "next(iterator)"
   ]
  },
  {
   "cell_type": "code",
   "execution_count": 45,
   "metadata": {},
   "outputs": [
    {
     "name": "stdout",
     "output_type": "stream",
     "text": [
      "Bu işlem toplam 1.1920928955078125e-06 saniye sürdü\n"
     ]
    }
   ],
   "source": [
    "arac1.renkDegistir(\"Siyah\")"
   ]
  },
  {
   "cell_type": "code",
   "execution_count": 46,
   "metadata": {},
   "outputs": [
    {
     "name": "stdout",
     "output_type": "stream",
     "text": [
      "Bu işlem toplam 1.9073486328125e-06 saniye sürdü\n"
     ]
    }
   ],
   "source": [
    "arac1 + arac2"
   ]
  },
  {
   "cell_type": "markdown",
   "metadata": {},
   "source": [
    "## typing"
   ]
  },
  {
   "cell_type": "code",
   "execution_count": 47,
   "metadata": {},
   "outputs": [
    {
     "name": "stdout",
     "output_type": "stream",
     "text": [
      "Persona(nombre='Juan', apellido='Perez')\n",
      "Variable clase: 0\n",
      "Variables de instancia: {'nombre': 'Juan', 'apellido': 'Perez'}\n",
      "Persona vacía: Persona(nombre='Karla', apellido='')\n"
     ]
    }
   ],
   "source": [
    "from dataclasses import dataclass\n",
    "from typing import ClassVar\n",
    "\n",
    "\n",
    "@dataclass\n",
    "class Persona:\n",
    "    nombre: str\n",
    "    apellido: str\n",
    "    contador_personas: ClassVar[int] = 0\n",
    "\n",
    "    def __post_init__(self):\n",
    "        if not self.nombre:\n",
    "            raise ValueError(f'Valor nombre vacío: {self.nombre}')\n",
    "\n",
    "persona1 = Persona('Juan','Perez')\n",
    "print(f'{persona1!r}')\n",
    "# Variable de clase\n",
    "print(f'Variable clase: {Persona.contador_personas}')\n",
    "# Variables de instancia\n",
    "print(f'Variables de instancia: {persona1.__dict__}')\n",
    "# Variable con valores vacíos\n",
    "persona_vacia = Persona('Karla','')\n",
    "print(f'Persona vacía: {persona_vacia}')"
   ]
  },
  {
   "cell_type": "code",
   "execution_count": 48,
   "metadata": {},
   "outputs": [
    {
     "name": "stdout",
     "output_type": "stream",
     "text": [
      "Persona(nombre='Juan', apellido='Perez', domicilio=Domicilio(calle='Saturno', numero=15))\n",
      "Variable clase: 0\n",
      "Variables de instancia: {'nombre': 'Juan', 'apellido': 'Perez', 'domicilio': Domicilio(calle='Saturno', numero=15)}\n",
      "Persona vacía: Persona(nombre='Karla', apellido='', domicilio=None)\n",
      "Objetos iguales?: True\n",
      "{Persona(nombre='Juan', apellido='Perez', domicilio=Domicilio(calle='Saturno', numero=15))}\n"
     ]
    }
   ],
   "source": [
    "from dataclasses import dataclass\n",
    "from typing import ClassVar\n",
    "\n",
    "@dataclass(eq=True, frozen=True)\n",
    "class Domicilio:\n",
    "    calle: str\n",
    "    numero: int = 0\n",
    "\n",
    "@dataclass(eq=True, frozen=True)\n",
    "class Persona:\n",
    "    nombre: str\n",
    "    apellido: str\n",
    "    domicilio: Domicilio\n",
    "    contador_personas: ClassVar[int] = 0\n",
    "\n",
    "    def __post_init__(self):\n",
    "        if not self.nombre:\n",
    "            raise ValueError(f'Valor nombre vacío: {self.nombre}')\n",
    "\n",
    "domicilio1 = Domicilio('Saturno', 15)\n",
    "persona1 = Persona('Juan','Perez', domicilio1)\n",
    "print(f'{persona1!r}')\n",
    "# Variable de clase\n",
    "print(f'Variable clase: {Persona.contador_personas}')\n",
    "# Variables de instancia\n",
    "print(f'Variables de instancia: {persona1.__dict__}')\n",
    "# Variable con valores vacíos\n",
    "persona_vacia = Persona('Karla','', None)\n",
    "print(f'Persona vacía: {persona_vacia}')\n",
    "# Revisar igualdad entre objetos (__eq__)\n",
    "persona2 = Persona('Juan','Perez', Domicilio('Saturno', 15))\n",
    "print(f'Objetos iguales?: {persona1 == persona2}')\n",
    "# Agregar esta clase a una colecciones\n",
    "coleccion = {persona1, persona2}\n",
    "print(coleccion)\n",
    "# Frozen = True\n",
    "# coleccion[0].nombre='Juan Carlos'\n",
    "# persona1.nombre = 'Juan Carlos'"
   ]
  },
  {
   "cell_type": "markdown",
   "metadata": {},
   "source": [
    "## Example"
   ]
  },
  {
   "cell_type": "code",
   "execution_count": 49,
   "metadata": {},
   "outputs": [],
   "source": [
    "class Car():\n",
    "    # Class object attribute\n",
    "    machine = 'vehicle'\n",
    "    \n",
    "    def __init__(self,brand,color,price):\n",
    "        self.brand = brand\n",
    "        self.color = color\n",
    "        self.price = price\n",
    "    def drive(self, serial_number):\n",
    "        print('Driving the {} car, with serial number {}.'.format(self.brand, serial_number))"
   ]
  },
  {
   "cell_type": "code",
   "execution_count": 50,
   "metadata": {},
   "outputs": [],
   "source": [
    "new_car = Car(brand='Volvo',color='Black',price=30500.50)"
   ]
  },
  {
   "cell_type": "code",
   "execution_count": 51,
   "metadata": {},
   "outputs": [
    {
     "data": {
      "text/plain": [
       "'vehicle'"
      ]
     },
     "execution_count": 51,
     "metadata": {},
     "output_type": "execute_result"
    }
   ],
   "source": [
    "new_car.machine"
   ]
  },
  {
   "cell_type": "code",
   "execution_count": 52,
   "metadata": {},
   "outputs": [
    {
     "name": "stdout",
     "output_type": "stream",
     "text": [
      "Driving the Volvo car, with serial number 706.\n"
     ]
    }
   ],
   "source": [
    "new_car.drive(706)"
   ]
  },
  {
   "cell_type": "code",
   "execution_count": 53,
   "metadata": {},
   "outputs": [],
   "source": [
    "class BMI():\n",
    "    divider = 100\n",
    "    \n",
    "    def __init__(self, weight_kg=70, height_cm=180):\n",
    "        \n",
    "        self.weight_kg = weight_kg\n",
    "        self.height_cm = height_cm\n",
    "        self.example = 2\n",
    "        \n",
    "    # Calculates the body mass index\n",
    "    def calculate_bmi(self):\n",
    "        return self.weight_kg/(self.height_cm/BMI.divider)**2"
   ]
  },
  {
   "cell_type": "code",
   "execution_count": 54,
   "metadata": {},
   "outputs": [],
   "source": [
    "my_bmi = BMI(60,170)"
   ]
  },
  {
   "cell_type": "code",
   "execution_count": 55,
   "metadata": {},
   "outputs": [
    {
     "data": {
      "text/plain": [
       "170"
      ]
     },
     "execution_count": 55,
     "metadata": {},
     "output_type": "execute_result"
    }
   ],
   "source": [
    "my_bmi.height_cm"
   ]
  },
  {
   "cell_type": "code",
   "execution_count": 56,
   "metadata": {},
   "outputs": [
    {
     "data": {
      "text/plain": [
       "60"
      ]
     },
     "execution_count": 56,
     "metadata": {},
     "output_type": "execute_result"
    }
   ],
   "source": [
    "my_bmi.weight_kg"
   ]
  },
  {
   "cell_type": "code",
   "execution_count": 57,
   "metadata": {},
   "outputs": [
    {
     "data": {
      "text/plain": [
       "20.761245674740486"
      ]
     },
     "execution_count": 57,
     "metadata": {},
     "output_type": "execute_result"
    }
   ],
   "source": [
    "my_bmi.calculate_bmi()"
   ]
  },
  {
   "cell_type": "code",
   "execution_count": 58,
   "metadata": {},
   "outputs": [
    {
     "data": {
      "text/plain": [
       "2"
      ]
     },
     "execution_count": 58,
     "metadata": {},
     "output_type": "execute_result"
    }
   ],
   "source": [
    "my_bmi.example"
   ]
  },
  {
   "cell_type": "code",
   "execution_count": null,
   "metadata": {},
   "outputs": [],
   "source": []
  }
 ],
 "metadata": {
  "kernelspec": {
   "display_name": "Python 3 (ipykernel)",
   "language": "python",
   "name": "python3"
  },
  "language_info": {
   "codemirror_mode": {
    "name": "ipython",
    "version": 3
   },
   "file_extension": ".py",
   "mimetype": "text/x-python",
   "name": "python",
   "nbconvert_exporter": "python",
   "pygments_lexer": "ipython3",
   "version": "3.10.9"
  }
 },
 "nbformat": 4,
 "nbformat_minor": 4
}
