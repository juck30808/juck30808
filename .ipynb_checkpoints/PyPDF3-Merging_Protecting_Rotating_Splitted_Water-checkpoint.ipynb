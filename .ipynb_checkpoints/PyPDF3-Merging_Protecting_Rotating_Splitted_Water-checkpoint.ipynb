{
 "cells": [
  {
   "cell_type": "code",
   "execution_count": 1,
   "id": "8d034495",
   "metadata": {},
   "outputs": [],
   "source": [
    "#!pip install PyPDF3"
   ]
  },
  {
   "cell_type": "code",
   "execution_count": 2,
   "id": "69fd61fc",
   "metadata": {},
   "outputs": [
    {
     "name": "stdout",
     "output_type": "stream",
     "text": [
      "Page count: 14\n",
      "{'/Author': 'Rec User', '/CreationDate': \"D:20211025194929-03'00'\", '/ModDate': \"D:20211025194929-03'00'\", '/Producer': 'Microsoft: Print To PDF', '/Title': 'PythonPdf.rtf'}\n",
      "Item:  Author  =>  Value: Rec User\n",
      "Item:  CreationDate  =>  Value: D:20211025194929-03'00'\n",
      "Item:  ModDate  =>  Value: D:20211025194929-03'00'\n",
      "Item:  Producer  =>  Value: Microsoft: Print To PDF\n",
      "Item:  Title  =>  Value: PythonPdf.rtf\n",
      "--------------\n",
      "Author: Rec User\n",
      "Producer: Microsoft: Print To PDF\n"
     ]
    }
   ],
   "source": [
    "import PyPDF3 as MyPdf\n",
    "\n",
    "MyPdfFile=open(\"input/MyPDF.pdf\",\"rb\")\n",
    "pdf_reader=MyPdf.PdfFileReader(MyPdfFile,strict=False)\n",
    "print(\"Page count:\",pdf_reader.getNumPages())\n",
    "\n",
    "doc_info=pdf_reader.getDocumentInfo()\n",
    "print(doc_info)\n",
    "\n",
    "for info_item in doc_info:\n",
    "    #print(\"Item: \",info_item)\n",
    "    item_val=doc_info[str(info_item)]\n",
    "    print(\"Item: \",str(info_item).removeprefix(\"/\"),\" => \", \"Value:\",item_val)\n",
    "\n",
    "print(\"--------------\")\n",
    "print(\"Author:\",doc_info[\"/Author\"])\n",
    "print(\"Producer:\",doc_info[\"/Producer\"])\n",
    "MyPdfFile.close()"
   ]
  },
  {
   "cell_type": "markdown",
   "id": "a75dd74f",
   "metadata": {},
   "source": [
    "## MergingPdf"
   ]
  },
  {
   "cell_type": "code",
   "execution_count": 3,
   "id": "d55d2cc0",
   "metadata": {},
   "outputs": [],
   "source": [
    "import PyPDF3 as MyPdf\n",
    "\n",
    "PdfMerger =MyPdf.PdfFileMerger(strict=False)\n",
    "PdfMerger.append(\"input/MyPDF.pdf\")\n",
    "PdfMerger.append(\"input/MyFile2.pdf\")\n",
    "\n",
    "# ----- write the combined pdf to output pdf file ------\n",
    "MergedPdfFile=open(\"output/MergedPDFFile.pdf\",\"wb\")\n",
    "PdfMerger.write(MergedPdfFile)\n",
    "\n",
    "PdfMerger.close()\n",
    "MergedPdfFile.close()"
   ]
  },
  {
   "cell_type": "markdown",
   "id": "f4ad1681",
   "metadata": {},
   "source": [
    "## ProtectingPdf"
   ]
  },
  {
   "cell_type": "code",
   "execution_count": 4,
   "id": "29c3f4ea",
   "metadata": {},
   "outputs": [],
   "source": [
    "import PyPDF3 as MyPdf\n",
    "\n",
    "MyPdfFile=open(\"input/MyPDF.pdf\",\"rb\")\n",
    "pdf_reader=MyPdf.PdfFileReader(MyPdfFile,strict=False)\n",
    "\n",
    "# ---- create a pdf writer for new pdf file ---\n",
    "PdfWriter = MyPdf.PdfFileWriter()\n",
    "\n",
    "#----- Copy source Pdf to Pdf writer -------\n",
    "for page_index in range(pdf_reader.getNumPages()):\n",
    "     PdfWriter.addPage(pdf_reader.getPage(page_index))\n",
    "PdfWriter.encrypt(user_pwd=\"\", owner_pwd=None,use_128bit=True,allow_printing=True,allow_commenting=False)\n",
    "\n",
    "#------------Save Encrypted file ---------------\n",
    "output_pdf_file= open(\"input/MyPdf_Locked.pdf\", 'wb')\n",
    "PdfWriter.write(output_pdf_file)\n",
    "#-----------------------\n",
    "output_pdf_file.close()\n",
    "MyPdfFile.close()"
   ]
  },
  {
   "cell_type": "markdown",
   "id": "5c9f3fda",
   "metadata": {},
   "source": [
    "## RotatingPdf"
   ]
  },
  {
   "cell_type": "code",
   "execution_count": 5,
   "id": "6e8568b1",
   "metadata": {},
   "outputs": [],
   "source": [
    "import PyPDF3 as MyPdf\n",
    "\n",
    "MyPdfFile=open(\"input/MyPDF.pdf\",\"rb\")\n",
    "pdf_reader=MyPdf.PdfFileReader(MyPdfFile,strict=False)\n",
    "MyWriter=MyPdf.PdfFileWriter()\n",
    "page_index_list=range(pdf_reader.numPages)\n",
    "\n",
    "for page_index in page_index_list:\n",
    "    # ------ create rotated page object ----------\n",
    "    MyPage:MyPdf.pdf.PageObject=pdf_reader.getPage(page_index)#Zero based index\n",
    "    MyPage.rotateClockwise(90)#90- 180-270-360\n",
    "    MyWriter.addPage(MyPage)\n",
    "\n",
    "#-------- create new pdf file object --------\n",
    "NewPdfFile = open( \"input/rotated_Pdf_File.pdf\", \"wb\")\n",
    "MyWriter.write(NewPdfFile)\n",
    "\n",
    "# ----close the original pdf file ---------\n",
    "MyPdfFile.close()\n",
    "\n",
    "# ------close the new pdf file ------------\n",
    "NewPdfFile.close()"
   ]
  },
  {
   "cell_type": "markdown",
   "id": "695d74d1",
   "metadata": {},
   "source": [
    "## SplittedAllPdf"
   ]
  },
  {
   "cell_type": "code",
   "execution_count": 6,
   "id": "84c38da9",
   "metadata": {},
   "outputs": [],
   "source": [
    "import PyPDF3 as MyPdf\n",
    "\n",
    "MyPdfFile=open(\"input/MyPDF.pdf\",\"rb\")\n",
    "pdf_reader=MyPdf.PdfFileReader(MyPdfFile,strict=False)\n",
    "\n",
    "for page_index in range(pdf_reader.getNumPages()):\n",
    "    pdf_reader = MyPdf.PdfFileReader(MyPdfFile, strict=False)\n",
    "    # ---- create a pdf writer for new pdf file ---\n",
    "    PdfWriter = MyPdf.PdfFileWriter()\n",
    "    PdfWriter.addPage(pdf_reader.getPage(page_index))\n",
    "    \n",
    "    # -------- create new pdf file object --------\n",
    "    # -------- create splitted file name ---------\n",
    "    SplittedPdfFileName = str(page_index) + \".pdf\"\n",
    "    SplitPdfFile = open(\"input/Splitted/\"+SplittedPdfFileName, \"wb\")\n",
    "    PdfWriter.write(SplitPdfFile)\n",
    "    SplitPdfFile.close()"
   ]
  },
  {
   "cell_type": "markdown",
   "id": "da0723fe",
   "metadata": {},
   "source": [
    "## SplittedPdf"
   ]
  },
  {
   "cell_type": "code",
   "execution_count": 7,
   "id": "f656417d",
   "metadata": {},
   "outputs": [],
   "source": [
    "import PyPDF3 as MyPdf\n",
    "\n",
    "MyPdfFile=open(\"input/MyPDF.pdf\",\"rb\")\n",
    "pdf_reader=MyPdf.PdfFileReader(MyPdfFile,strict=False)\n",
    "\n",
    "# ---- create a pdf writer for new pdf file ---\n",
    "PdfWriter = MyPdf.PdfFileWriter()\n",
    "PdfWriter.addPage(pdf_reader.getPage(1))\n",
    "\n",
    "# -------- create new pdf file object --------\n",
    "SplitPdfFile = open(\"input/Splitted/1.pdf\", \"wb\")\n",
    "PdfWriter.write(SplitPdfFile)\n",
    "SplitPdfFile.close()"
   ]
  },
  {
   "cell_type": "markdown",
   "id": "62ab28da",
   "metadata": {},
   "source": [
    "## WatermarkedPdf"
   ]
  },
  {
   "cell_type": "code",
   "execution_count": 8,
   "id": "cc968315",
   "metadata": {},
   "outputs": [],
   "source": [
    "import PyPDF3 as MyPdf\n",
    "\n",
    "#----------Open watermark pdf file ------------------\n",
    "watermark =  \"input/Wmark.pdf\"\n",
    "WmPdfFile =open(watermark,\"rb\")\n",
    "\n",
    "#----------Create pdf reader file for watermark------\n",
    "WmFileReader = MyPdf.PdfFileReader(WmPdfFile,strict=False)\n",
    "WaterMarkPage = WmFileReader.getPage(0)\n",
    "\n",
    "#-----------open original pdf file & create reader--\n",
    "originalfile = \"input/MyPdf.pdf\"\n",
    "OrgPdfFile =open(originalfile,\"rb\")\n",
    "OrgPdfReader = MyPdf.PdfFileReader(OrgPdfFile,strict=False)\n",
    "\n",
    "#---------create pdf writer for out file---------\n",
    "PdfOutWriter= MyPdf.PdfFileWriter()\n",
    "for page_index in range(OrgPdfReader.getNumPages()):\n",
    "    #------ get the current page of original pdf ------\n",
    "    OrgPdfPage:MyPdf.pdf.PageObject=OrgPdfReader.getPage(page_index)\n",
    "        \n",
    "    # -------merge vm to current page of original pdf ---\n",
    "    #if page_index==2:\n",
    "        #OrgPdfPage.mergePage(WaterMarkPage)\n",
    "    OrgPdfPage.mergePage(WaterMarkPage)\n",
    "    PdfOutWriter.addPage(OrgPdfPage)\n",
    "\n",
    "#----------save watermarked file -------------\n",
    "watermarkedfile =  \"output/MyPdfWatermarked.pdf\"\n",
    "OutPdfFile=open(watermarkedfile, 'wb')\n",
    "PdfOutWriter.write(OutPdfFile)\n",
    "\n",
    "WmPdfFile.close()\n",
    "OrgPdfFile.close()\n",
    "OutPdfFile.close()"
   ]
  },
  {
   "cell_type": "markdown",
   "id": "74dabed4",
   "metadata": {},
   "source": [
    "## test"
   ]
  },
  {
   "cell_type": "code",
   "execution_count": 9,
   "id": "b49a6998",
   "metadata": {},
   "outputs": [
    {
     "name": "stdout",
     "output_type": "stream",
     "text": [
      "{'fname': None, 'lname': None}\n"
     ]
    },
    {
     "ename": "TypeError",
     "evalue": "appendPagesFromReader() missing 1 required positional argument: 'reader'",
     "output_type": "error",
     "traceback": [
      "\u001b[1;31m---------------------------------------------------------------------------\u001b[0m",
      "\u001b[1;31mTypeError\u001b[0m                                 Traceback (most recent call last)",
      "\u001b[1;32mC:\\Users\\CTI110~1\\AppData\\Local\\Temp/ipykernel_7584/2516646214.py\u001b[0m in \u001b[0;36m<module>\u001b[1;34m\u001b[0m\n\u001b[0;32m     34\u001b[0m \u001b[0mpdfWriter\u001b[0m\u001b[1;33m.\u001b[0m\u001b[0maddPage\u001b[0m\u001b[1;33m(\u001b[0m\u001b[0mpdf_reader\u001b[0m\u001b[1;33m.\u001b[0m\u001b[0mgetPage\u001b[0m\u001b[1;33m(\u001b[0m\u001b[1;36m0\u001b[0m\u001b[1;33m)\u001b[0m\u001b[1;33m)\u001b[0m\u001b[1;33m\u001b[0m\u001b[1;33m\u001b[0m\u001b[0m\n\u001b[0;32m     35\u001b[0m \u001b[0mpdfWriter\u001b[0m\u001b[1;33m.\u001b[0m\u001b[0mupdatePageFormFieldValues\u001b[0m\u001b[1;33m(\u001b[0m\u001b[0mpdfWriter\u001b[0m\u001b[1;33m.\u001b[0m\u001b[0mgetPage\u001b[0m\u001b[1;33m(\u001b[0m\u001b[1;36m0\u001b[0m\u001b[1;33m)\u001b[0m\u001b[1;33m,\u001b[0m \u001b[0mfieldss\u001b[0m\u001b[1;33m)\u001b[0m\u001b[1;33m\u001b[0m\u001b[1;33m\u001b[0m\u001b[0m\n\u001b[1;32m---> 36\u001b[1;33m \u001b[0mpdfWriter\u001b[0m\u001b[1;33m.\u001b[0m\u001b[0mappendPagesFromReader\u001b[0m\u001b[1;33m(\u001b[0m\u001b[1;33m)\u001b[0m\u001b[1;33m\u001b[0m\u001b[1;33m\u001b[0m\u001b[0m\n\u001b[0m\u001b[0;32m     37\u001b[0m \u001b[1;31m#pdfWriter.addMetadata({'/Fname': \"Mj\", 'Lname': \"Cute\"})\u001b[0m\u001b[1;33m\u001b[0m\u001b[1;33m\u001b[0m\u001b[0m\n\u001b[0;32m     38\u001b[0m \u001b[1;33m\u001b[0m\u001b[0m\n",
      "\u001b[1;31mTypeError\u001b[0m: appendPagesFromReader() missing 1 required positional argument: 'reader'"
     ]
    }
   ],
   "source": [
    "import PyPDF3 as MyPdf\n",
    "from PyPDF3.generic import BooleanObject, NameObject, IndirectObject\n",
    "\n",
    "def set_need_appearances_writer(writer: MyPdf.PdfFileWriter):\n",
    "    # See 12.7.2 and 7.7.2 for more information: http://www.adobe.com/content/dam/acom/en/devnet/acrobat/pdfs/PDF32000_2008.pdf\n",
    "    try:\n",
    "        catalog = writer._root_object\n",
    "        # get the AcroForm tree\n",
    "        if \"/AcroForm\" not in catalog:\n",
    "            writer._root_object.update({\n",
    "                NameObject(\"/AcroForm\"): IndirectObject(len(writer._objects), 0, writer)})\n",
    "\n",
    "        need_appearances = NameObject(\"/NeedAppearances\")\n",
    "        writer._root_object[\"/AcroForm\"][need_appearances] = BooleanObject(True)\n",
    "        return writer\n",
    "\n",
    "    except Exception as e:\n",
    "        print('set_need_appearances_writer() catch : ', repr(e))\n",
    "        return writer\n",
    "    \n",
    "#---------open pdf file & create pdf reader object ------\n",
    "OrgPdfFile =open(\"input/new_document.pdf\",\"rb\")\n",
    "pdf_reader=MyPdf.PdfFileReader( OrgPdfFile , strict=False )\n",
    "d=pdf_reader.getFormTextFields()\n",
    "print(d)\n",
    "pdfWriter = MyPdf.PdfFileWriter()\n",
    "set_need_appearances_writer(pdfWriter)\n",
    "if \"/AcroForm\" in pdfWriter._root_object:\n",
    "    pdfWriter._root_object[\"/AcroForm\"].update(\n",
    "        {NameObject(\"/NeedAppearances\"): BooleanObject(True)})\n",
    "\n",
    "#pdfWriter.addPage(pdf_reader.getPage(0))\n",
    "fieldss= {'fname': \"ffff\", 'lname': \"lllll\"}\n",
    "pdfWriter.addPage(pdf_reader.getPage(0))\n",
    "pdfWriter.updatePageFormFieldValues(pdfWriter.getPage(0), fieldss)\n",
    "pdfWriter.appendPagesFromReader()\n",
    "#pdfWriter.addMetadata({'/Fname': \"Mj\", 'Lname': \"Cute\"})\n",
    "\n",
    "#OrgPdf =open(\"Files/MyPDF.pdf\",\"rb\")\n",
    "#pdfWriter.addAttachment(\"myfile\",OrgPdf.read())\n",
    "#print(\"layout: \",pdf_reader.getPageLayout())\n",
    "#print(\"mode: \",pdf_reader.getPageMode())\n",
    "\n",
    "#----------save watermarked file -------------\n",
    "watermarkedfile =  \"input/new_document_filled.pdf\"\n",
    "OutPdfFile=open(watermarkedfile, 'wb')\n",
    "pdfWriter.write(OutPdfFile)\n",
    "OrgPdfFile.close()\n",
    "OutPdfFile.close()\n",
    "\n",
    "OutPdfFile=open(watermarkedfile, 'rb')\n",
    "pdf_reader=MyPdf.PdfFileReader( OutPdfFile , strict=False )\n",
    "b=pdf_reader.getDocumentInfo()\n",
    "print(b)"
   ]
  }
 ],
 "metadata": {
  "kernelspec": {
   "display_name": "Python 3 (ipykernel)",
   "language": "python",
   "name": "python3"
  },
  "language_info": {
   "codemirror_mode": {
    "name": "ipython",
    "version": 3
   },
   "file_extension": ".py",
   "mimetype": "text/x-python",
   "name": "python",
   "nbconvert_exporter": "python",
   "pygments_lexer": "ipython3",
   "version": "3.9.7"
  }
 },
 "nbformat": 4,
 "nbformat_minor": 5
}
