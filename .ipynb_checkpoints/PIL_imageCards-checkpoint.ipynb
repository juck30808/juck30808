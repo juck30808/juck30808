{
 "cells": [
  {
   "cell_type": "code",
   "execution_count": null,
   "id": "e20e1676",
   "metadata": {},
   "outputs": [],
   "source": [
    "import os\n",
    "from PIL import Image, ImageDraw, ImageFont\n",
    "\n",
    "def make_cards(guestList):\n",
    "    os.makedirs('input/imageCards', exist_ok=True)\n",
    "    flowerImg = Image.open('input/flower.png')\n",
    "    with open(guestList) as file:\n",
    "        for line in file:\n",
    "            guest = line[:-1]\n",
    "\n",
    "            # create image\n",
    "            card = Image.new('RGBA', (288, 360), 'white')\n",
    "            card.paste(flowerImg, (0, 0))\n",
    "\n",
    "            # create border around image\n",
    "            border = Image.new('RGBA', (291, 363), 'black')\n",
    "            border.paste(card, (3,3))\n",
    "\n",
    "            # draw guest name\n",
    "            draw_obj = ImageDraw.Draw(border)\n",
    "            #card_font = ImageFont.truetype('Pacifico.ttf', 24)\n",
    "            draw_obj.text((120, 100), guest, fill='red') #add card_font\n",
    "\n",
    "            # save resulting image\n",
    "            imageName = '{}_card.png'.format(guest)\n",
    "            border.save(os.path.join('input/imageCards', imageName))\n",
    "    \n",
    "\n",
    "if __name__ == \"__main__\":\n",
    "    make_cards('input/guests.txt')"
   ]
  },
  {
   "cell_type": "code",
   "execution_count": null,
   "id": "8e8399da",
   "metadata": {},
   "outputs": [],
   "source": []
  }
 ],
 "metadata": {
  "kernelspec": {
   "display_name": "Python 3 (ipykernel)",
   "language": "python",
   "name": "python3"
  },
  "language_info": {
   "codemirror_mode": {
    "name": "ipython",
    "version": 3
   },
   "file_extension": ".py",
   "mimetype": "text/x-python",
   "name": "python",
   "nbconvert_exporter": "python",
   "pygments_lexer": "ipython3",
   "version": "3.9.7"
  }
 },
 "nbformat": 4,
 "nbformat_minor": 5
}
