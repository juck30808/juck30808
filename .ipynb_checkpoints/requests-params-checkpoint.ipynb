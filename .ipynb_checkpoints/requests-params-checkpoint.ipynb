{
 "cells": [
  {
   "cell_type": "code",
   "execution_count": 6,
   "metadata": {},
   "outputs": [
    {
     "name": "stdout",
     "output_type": "stream",
     "text": [
      "et porro tempora\n"
     ]
    }
   ],
   "source": [
    "# url?key1=value1&key2=value2\n",
    "\n",
    "import requests\n",
    "\n",
    "# response = requests.get(\"https://jsonplaceholder.typicode.com/todos?completed=true&userId=1\")\n",
    "response = requests.get(\"https://jsonplaceholder.typicode.com/todos\", params={\n",
    "    \"userId\":1,\n",
    "    \"completed\":\"true\"\n",
    "})\n",
    "liste = response.json()\n",
    "\n",
    "\n",
    "print(liste[0][\"title\"])"
   ]
  },
  {
   "cell_type": "code",
   "execution_count": 7,
   "metadata": {},
   "outputs": [
    {
     "name": "stdout",
     "output_type": "stream",
     "text": [
      "{'Date': 'Wed, 15 Dec 2021 07:26:20 GMT', 'Content-Type': 'application/json; charset=utf-8', 'Content-Length': '73', 'Connection': 'keep-alive', 'x-powered-by': 'Express', 'x-ratelimit-limit': '1000', 'x-ratelimit-remaining': '999', 'x-ratelimit-reset': '1639553239', 'vary': 'Origin, X-HTTP-Method-Override, Accept-Encoding', 'access-control-allow-credentials': 'true', 'cache-control': 'no-cache', 'pragma': 'no-cache', 'expires': '-1', 'access-control-expose-headers': 'Location', 'location': 'http://jsonplaceholder.typicode.com/posts/101', 'x-content-type-options': 'nosniff', 'etag': 'W/\"49-YtYhKZHvlkafEDcjOxeugzlCE1k\"', 'via': '1.1 vegur', 'CF-Cache-Status': 'DYNAMIC', 'Expect-CT': 'max-age=604800, report-uri=\"https://report-uri.cloudflare.com/cdn-cgi/beacon/expect-ct\"', 'Report-To': '{\"endpoints\":[{\"url\":\"https:\\\\/\\\\/a.nel.cloudflare.com\\\\/report\\\\/v3?s=6MqacEgxNxDMqioCf5tv4EhjOk56kN4naY%2FNA7G4kX5%2Fn4N4j3hUUttx%2FgRdO4arD%2F7C1Wv62nVfWzRjGqCSwIvls5R%2BpIbPa6gPjhTvdQkEdhUtk3rCFny4CbodWBD6ZEQgGvIar4pgUZfzZlZh\"}],\"group\":\"cf-nel\",\"max_age\":604800}', 'NEL': '{\"success_fraction\":0,\"report_to\":\"cf-nel\",\"max_age\":604800}', 'Server': 'cloudflare', 'CF-RAY': '6bddf1721f7f7bb9-LAX', 'alt-svc': 'h3=\":443\"; ma=86400, h3-29=\":443\"; ma=86400, h3-28=\":443\"; ma=86400, h3-27=\":443\"; ma=86400'}\n"
     ]
    }
   ],
   "source": [
    "import requests\n",
    "\n",
    "response = requests.post(\"https://jsonplaceholder.typicode.com/posts\", data = {\n",
    "        \"title\": 'deneme',\n",
    "        \"body\": 'deneme',\n",
    "        \"userId\": 1,\n",
    "    }\n",
    ")\n",
    "\n",
    "sonuc = response\n",
    "sonuc = response.text\n",
    "sonuc = response.json()\n",
    "sonuc = response.headers\n",
    "\n",
    "print(sonuc)"
   ]
  },
  {
   "cell_type": "code",
   "execution_count": null,
   "metadata": {},
   "outputs": [],
   "source": []
  }
 ],
 "metadata": {
  "kernelspec": {
   "display_name": "Python 3 (ipykernel)",
   "language": "python",
   "name": "python3"
  },
  "language_info": {
   "codemirror_mode": {
    "name": "ipython",
    "version": 3
   },
   "file_extension": ".py",
   "mimetype": "text/x-python",
   "name": "python",
   "nbconvert_exporter": "python",
   "pygments_lexer": "ipython3",
   "version": "3.9.7"
  }
 },
 "nbformat": 4,
 "nbformat_minor": 4
}
