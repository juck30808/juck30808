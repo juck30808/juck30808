{
 "cells": [
  {
   "cell_type": "markdown",
   "metadata": {},
   "source": [
    "#### Advance"
   ]
  },
  {
   "cell_type": "code",
   "execution_count": 85,
   "metadata": {},
   "outputs": [
    {
     "name": "stdout",
     "output_type": "stream",
     "text": [
      "What is your name? It is lancelot.\n",
      "What is your quest? It is the holy grail.\n",
      "What is your favorite color? It is blue.\n"
     ]
    }
   ],
   "source": [
    "# Advanced Looping - Zip\n",
    "\n",
    "questions = ['name', 'quest', 'favorite color']\n",
    "answers = ['lancelot', 'the holy grail', 'blue']\n",
    "for q, a in zip(questions, answers):\n",
    "    print('What is your {0}? It is {1}.'.format(q, a))"
   ]
  },
  {
   "cell_type": "code",
   "execution_count": 86,
   "metadata": {},
   "outputs": [
    {
     "name": "stdout",
     "output_type": "stream",
     "text": [
      "apple\n",
      "banana\n",
      "orange\n",
      "pear\n"
     ]
    }
   ],
   "source": [
    "# Advanced Looping - Sort \n",
    "\n",
    "basket = ['apple', 'orange', 'apple', 'pear', 'orange','banana']\n",
    "for f in sorted(set(basket)):\n",
    "    print(f)"
   ]
  },
  {
   "cell_type": "code",
   "execution_count": 87,
   "metadata": {},
   "outputs": [
    {
     "data": {
      "text/plain": [
       "[0, 1, 4, 9, 16, 25, 36, 49, 64, 81]"
      ]
     },
     "execution_count": 87,
     "metadata": {},
     "output_type": "execute_result"
    }
   ],
   "source": [
    "# Advanced Looping - Square Numbers\n",
    "\n",
    "squares = []\n",
    "for x in range(10):\n",
    "    squares.append(x**2)\n",
    "squares"
   ]
  },
  {
   "cell_type": "markdown",
   "metadata": {},
   "source": [
    "#### 可變物件 (list, set, dict) : 物件所指向的「記憶體中的值能否」被改變"
   ]
  },
  {
   "cell_type": "code",
   "execution_count": 95,
   "metadata": {},
   "outputs": [
    {
     "name": "stdout",
     "output_type": "stream",
     "text": [
      "['蛋糕', '蘋果', '香蕉', '牛奶']\n",
      "蛋糕, 蘋果, 香蕉\n"
     ]
    }
   ],
   "source": [
    "fridge = ['蛋糕', '蘋果', '香蕉'] # 記錄冰箱存放的東西: 當修改b裡面的值內容時，fridge的內容也會真的受到影響。\n",
    "b = fridge\n",
    "b+= ['牛奶']\n",
    "print(fridge) \n",
    "\n",
    "fridge = '蛋糕, 蘋果, 香蕉'       # 不可變物件\n",
    "b = fridge\n",
    "b+= ', 牛奶'\n",
    "print(fridge)"
   ]
  },
  {
   "cell_type": "markdown",
   "metadata": {},
   "source": [
    "#### 迭代 (str, list, set, tuple, dict) : 可利用迴圈遍歷把元素取出來的過程，可以進行for… in …  "
   ]
  },
  {
   "cell_type": "code",
   "execution_count": 96,
   "metadata": {},
   "outputs": [
    {
     "name": "stdout",
     "output_type": "stream",
     "text": [
      "H\n",
      "e\n",
      "1\n",
      "2\n"
     ]
    }
   ],
   "source": [
    "s= \"He\"  \n",
    "for c in s: print(c)  #可迭代\n",
    "    \n",
    "D={1:'A',2:'B'}\n",
    "for i in D: print(i)  #可迭代"
   ]
  },
  {
   "cell_type": "markdown",
   "metadata": {},
   "source": [
    "#### 重複與有序容器 (list 和 tuple) : 是否可以有重複,排序影響"
   ]
  },
  {
   "cell_type": "code",
   "execution_count": 97,
   "metadata": {},
   "outputs": [
    {
     "name": "stdout",
     "output_type": "stream",
     "text": [
      "{1, 2, 5}\n"
     ]
    }
   ],
   "source": [
    "S={1,2,2,2,5}\n",
    "print(S) #集合會自動去除重複的元素"
   ]
  },
  {
   "cell_type": "code",
   "execution_count": 13,
   "metadata": {},
   "outputs": [
    {
     "name": "stdout",
     "output_type": "stream",
     "text": [
      "False\n",
      "True\n"
     ]
    }
   ],
   "source": [
    "print([1,2,3]==[2,3,1]) #False\n",
    "print({1,2,3}=={2,3,1}) #True"
   ]
  },
  {
   "cell_type": "markdown",
   "metadata": {},
   "source": [
    "## Week 3 : Comprehensions & Functions Files \n",
    "Why would we use comprehensions? Don’t say how you want the object constructed.Just say what you want in the object. \n",
    "- Comprehensions 推導式\n",
    "- Inside Python Functions\n",
    "- Parameters\n",
    "- Variadic Arguments\n",
    "- Parameter Ordering\n",
    "- Aside: Code Style\n",
    "- First-Class Functions"
   ]
  },
  {
   "cell_type": "code",
   "execution_count": 110,
   "metadata": {},
   "outputs": [
    {
     "name": "stdout",
     "output_type": "stream",
     "text": [
      "[0, 3, 6, 9, 12, 15, 18, 21, 24, 27]\n"
     ]
    },
    {
     "data": {
      "text/plain": [
       "[0, 3, 6, 9, 12, 15, 18, 21, 24, 27]"
      ]
     },
     "execution_count": 110,
     "metadata": {},
     "output_type": "execute_result"
    }
   ],
   "source": [
    "numbers = []\n",
    "for x in range(10): \n",
    "    numbers.append(x * 3)\n",
    "print(numbers)\n",
    "\n",
    "[x * 3 for x in range(10)]  # List Comprehensions 列表推導式"
   ]
  },
  {
   "cell_type": "code",
   "execution_count": 111,
   "metadata": {},
   "outputs": [
    {
     "name": "stdout",
     "output_type": "stream",
     "text": [
      "[[0, 1, 2], [0, 1, 2], [0, 1, 2]]\n"
     ]
    },
    {
     "data": {
      "text/plain": [
       "[[0, 1, 2], [0, 1, 2], [0, 1, 2]]"
      ]
     },
     "execution_count": 111,
     "metadata": {},
     "output_type": "execute_result"
    }
   ],
   "source": [
    "new_matrix = [] \n",
    "for i in range(3):          \n",
    "    new_matrix.append([])\n",
    "    for j in range(3):\n",
    "        new_matrix[i].append(j)\n",
    "print(new_matrix)\n",
    "\n",
    "[[j for j in range(3)] for i in range(3)]  # List Comprehensions 列表推導式"
   ]
  },
  {
   "cell_type": "code",
   "execution_count": 123,
   "metadata": {},
   "outputs": [
    {
     "name": "stdout",
     "output_type": "stream",
     "text": [
      "['fig', 'kiwi']\n"
     ]
    },
    {
     "data": {
      "text/plain": [
       "['fig', 'kiwi']"
      ]
     },
     "execution_count": 123,
     "metadata": {},
     "output_type": "execute_result"
    }
   ],
   "source": [
    "fruits_list = [\"fig\", \"banana\", \"kiwi\", \"cherry\"]\n",
    "my_list = []\n",
    "\n",
    "for item in fruits_list:\n",
    "    if \"i\" in item:\n",
    "        my_list.append(item)\n",
    "print(my_list)\n",
    "\n",
    "[item for item in fruits_list if \"i\" in item] # List Comprehensions 列表推導式"
   ]
  },
  {
   "cell_type": "code",
   "execution_count": 125,
   "metadata": {},
   "outputs": [
    {
     "name": "stdout",
     "output_type": "stream",
     "text": [
      "['P', 'o', 'w', 'e', 'r']\n"
     ]
    },
    {
     "data": {
      "text/plain": [
       "['P', 'o', 'w', 'e', 'r']"
      ]
     },
     "execution_count": 125,
     "metadata": {},
     "output_type": "execute_result"
    }
   ],
   "source": [
    "new_list = [] #empty list\n",
    "\n",
    "for new_char in \"Power\":\n",
    "    new_list.append(new_char)\n",
    "print(new_list) #printing the list \n",
    "\n",
    "[new_char for new_char in \"Power\"] # List Comprehensions 列表推導式"
   ]
  },
  {
   "cell_type": "code",
   "execution_count": 107,
   "metadata": {},
   "outputs": [
    {
     "ename": "NameError",
     "evalue": "name 'iterable' is not defined",
     "output_type": "error",
     "traceback": [
      "\u001b[0;31m---------------------------------------------------------------------------\u001b[0m",
      "\u001b[0;31mNameError\u001b[0m                                 Traceback (most recent call last)",
      "\u001b[0;32m/var/folders/9q/486czkcn7lv5v0hwbt71twdc0000gn/T/ipykernel_4510/4124764483.py\u001b[0m in \u001b[0;36m<module>\u001b[0;34m\u001b[0m\n\u001b[1;32m      1\u001b[0m \u001b[0;31m# List Comprehensions\u001b[0m\u001b[0;34m\u001b[0m\u001b[0;34m\u001b[0m\u001b[0m\n\u001b[1;32m      2\u001b[0m \u001b[0;34m\u001b[0m\u001b[0m\n\u001b[0;32m----> 3\u001b[0;31m \u001b[0;34m[\u001b[0m\u001b[0mfn\u001b[0m\u001b[0;34m(\u001b[0m\u001b[0mx\u001b[0m\u001b[0;34m)\u001b[0m \u001b[0;32mfor\u001b[0m \u001b[0mx\u001b[0m \u001b[0;32min\u001b[0m \u001b[0miterable\u001b[0m\u001b[0;34m]\u001b[0m\u001b[0;34m\u001b[0m\u001b[0;34m\u001b[0m\u001b[0m\n\u001b[0m\u001b[1;32m      4\u001b[0m \u001b[0;34m[\u001b[0m\u001b[0mfn\u001b[0m\u001b[0;34m(\u001b[0m\u001b[0mx\u001b[0m\u001b[0;34m)\u001b[0m \u001b[0;32mfor\u001b[0m \u001b[0mx\u001b[0m \u001b[0;32min\u001b[0m \u001b[0miterable\u001b[0m \u001b[0;32mif\u001b[0m \u001b[0mcond\u001b[0m\u001b[0;34m(\u001b[0m\u001b[0mx\u001b[0m\u001b[0;34m)\u001b[0m\u001b[0;34m]\u001b[0m\u001b[0;34m\u001b[0m\u001b[0;34m\u001b[0m\u001b[0m\n\u001b[1;32m      5\u001b[0m \u001b[0;34m[\u001b[0m\u001b[0mword\u001b[0m\u001b[0;34m.\u001b[0m\u001b[0mlower\u001b[0m\u001b[0;34m(\u001b[0m\u001b[0;34m)\u001b[0m \u001b[0;32mfor\u001b[0m \u001b[0mword\u001b[0m \u001b[0;32min\u001b[0m \u001b[0msentence\u001b[0m\u001b[0;34m]\u001b[0m\u001b[0;34m\u001b[0m\u001b[0;34m\u001b[0m\u001b[0m\n",
      "\u001b[0;31mNameError\u001b[0m: name 'iterable' is not defined"
     ]
    }
   ],
   "source": [
    "# List Comprehensions\n",
    "\n",
    "[x * 3 for x in range(10) if x > 4]\n",
    "[word.lower() for word in sentence]\n",
    "[ch for ch in word.lower() if ch not in 'aeiou']\n",
    "[(x, x**2, x**3) for x in seq]\n",
    "[(i,j) for i in range(5) for j in range(i)]"
   ]
  },
  {
   "cell_type": "code",
   "execution_count": 103,
   "metadata": {},
   "outputs": [
    {
     "name": "stdout",
     "output_type": "stream",
     "text": [
      "{'e'}\n"
     ]
    }
   ],
   "source": [
    "## Set Comprehensions\n",
    "\n",
    "titles = \"Learn Code With Mike\"\n",
    "result = {letter for letter in titles if letter == \"e\"}\n",
    "print(result)"
   ]
  },
  {
   "cell_type": "code",
   "execution_count": 116,
   "metadata": {},
   "outputs": [
    {
     "data": {
      "text/plain": [
       "True"
      ]
     },
     "execution_count": 116,
     "metadata": {},
     "output_type": "execute_result"
    }
   ],
   "source": [
    "isinstance(4, object) # => True\n",
    "isinstance(\"Michael\", object) # => True\n",
    "isinstance([4, 5, 'seconds'], object) # => True\n",
    "isinstance(None, object) # => True\n",
    "isinstance(str, object) # => True\n",
    "isinstance(object, object) # => True## Week 3: Functions and Files\n"
   ]
  },
  {
   "cell_type": "code",
   "execution_count": null,
   "metadata": {},
   "outputs": [],
   "source": [
    "from collections import deque\n",
    "queue = deque([\"Eric\", \"John\", \"Michael\"])\n",
    "queue.append(\"Terry\")\n",
    "queue.append(\"Graham\")\n",
    "x = queue.popleft()\n",
    "print(x)\n",
    "print(queue)"
   ]
  },
  {
   "cell_type": "code",
   "execution_count": null,
   "metadata": {},
   "outputs": [],
   "source": [
    "x = ['A','B','C','D','E']\n",
    "del x[2:4]\n",
    "x"
   ]
  },
  {
   "cell_type": "code",
   "execution_count": null,
   "metadata": {},
   "outputs": [],
   "source": [
    "myset = {1,1,5,3,5.5,'data',False}\n",
    "myset.intersection({'T1','T2','T3'})\n",
    "myset.union({'T1','T2','T3'})\n",
    "myset.difference({'T1','T2','T3'})"
   ]
  },
  {
   "cell_type": "code",
   "execution_count": null,
   "metadata": {},
   "outputs": [],
   "source": [
    "fruits_set = set((\"banana\", \"apple\", \"fig\"))\n",
    "print(fruits_set)\n",
    "\n",
    "for x in fruits_set:\n",
    "    print(x)\n",
    "\n",
    "fruits_set.add(\"orange\")\n",
    "fruits_set.update([\"lemon\", \"cherry\"])\n",
    "fruits_set.remove(\"orange\")\n",
    "fruits_set.discard(\"cherry\")\n",
    "fruits_set.pop()\n",
    "fruits_set.clear()"
   ]
  },
  {
   "cell_type": "code",
   "execution_count": 12,
   "metadata": {},
   "outputs": [
    {
     "data": {
      "text/plain": [
       "[0, 1, 4, 9, 16, 25, 36, 49, 64, 81]"
      ]
     },
     "execution_count": 12,
     "metadata": {},
     "output_type": "execute_result"
    }
   ],
   "source": [
    "squares = []\n",
    "for x in range(10):\n",
    "    squares.append(x**2)\n",
    "squares"
   ]
  },
  {
   "cell_type": "code",
   "execution_count": 13,
   "metadata": {},
   "outputs": [
    {
     "data": {
      "text/plain": [
       "[0, 1, 4, 9, 16, 25, 36, 49, 64, 81]"
      ]
     },
     "execution_count": 13,
     "metadata": {},
     "output_type": "execute_result"
    }
   ],
   "source": [
    "squares = list(map(lambda x: x**2, range(10)))\n",
    "squares"
   ]
  },
  {
   "cell_type": "code",
   "execution_count": 14,
   "metadata": {},
   "outputs": [
    {
     "data": {
      "text/plain": [
       "[0, 1, 4, 9, 16, 25, 36, 49, 64, 81]"
      ]
     },
     "execution_count": 14,
     "metadata": {},
     "output_type": "execute_result"
    }
   ],
   "source": [
    "squares = [x**2 for x in range(10)]\n",
    "squares"
   ]
  },
  {
   "cell_type": "code",
   "execution_count": 15,
   "metadata": {
    "scrolled": true
   },
   "outputs": [
    {
     "data": {
      "text/plain": [
       "[(1, 3), (1, 4), (2, 3), (2, 1), (2, 4), (3, 1), (3, 4)]"
      ]
     },
     "execution_count": 15,
     "metadata": {},
     "output_type": "execute_result"
    }
   ],
   "source": [
    "[(x, y) for x in [1,2,3] for y in [3,1,4] if x != y]"
   ]
  },
  {
   "cell_type": "code",
   "execution_count": 16,
   "metadata": {},
   "outputs": [
    {
     "name": "stdout",
     "output_type": "stream",
     "text": [
      "[4, 9, 16, 25, 36]\n"
     ]
    }
   ],
   "source": [
    "my_list=[2,3,4,5,6]\n",
    "squared_list=[val**2 for val in my_list]\n",
    "print(squared_list)"
   ]
  },
  {
   "cell_type": "code",
   "execution_count": 17,
   "metadata": {},
   "outputs": [
    {
     "name": "stdout",
     "output_type": "stream",
     "text": [
      "[2, 4, 6]\n"
     ]
    }
   ],
   "source": [
    "even_list=[var for var in my_list if var%2==0]\n",
    "print(even_list)"
   ]
  },
  {
   "cell_type": "code",
   "execution_count": 18,
   "metadata": {},
   "outputs": [
    {
     "name": "stdout",
     "output_type": "stream",
     "text": [
      "  apples Alice  dogs \n",
      " oranges   Bob  cats \n",
      "cherries Carol moose \n",
      "  banana David goose \n"
     ]
    }
   ],
   "source": [
    "def printTable(list2D):\n",
    "    # get the max length string of each row\n",
    "    row_max_len = []\n",
    "    for row in range(len(list2D)):\n",
    "        row_max_len.append(max([len(col) for col in list2D[row]]))\n",
    "\n",
    "    # print table right Justified\n",
    "    for col in range(len(list2D[0])):\n",
    "        for row in range(len(list2D)):\n",
    "            print(list2D[row][col].rjust(row_max_len[row]), end=' ')\n",
    "        print()\n",
    "        \n",
    "if __name__ == \"__main__\":\n",
    "\n",
    "    tableData = [['apples', 'oranges', 'cherries', 'banana'],\n",
    "                 ['Alice', 'Bob', 'Carol', 'David'],\n",
    "                 ['dogs', 'cats', 'moose', 'goose']]\n",
    "\n",
    "    printTable(tableData)"
   ]
  },
  {
   "cell_type": "markdown",
   "metadata": {},
   "source": [
    "## Formate"
   ]
  },
  {
   "cell_type": "code",
   "execution_count": 1,
   "metadata": {},
   "outputs": [
    {
     "name": "stdout",
     "output_type": "stream",
     "text": [
      "I have a BMW, it is X5.\n"
     ]
    }
   ],
   "source": [
    "# Adding named indexes inside {}\n",
    "neworder = \"I have a {carname}, it is {model}.\"\n",
    "print(neworder.format(carname = \"BMW\", model = \"X5\"))"
   ]
  },
  {
   "cell_type": "code",
   "execution_count": 2,
   "metadata": {},
   "outputs": [
    {
     "name": "stdout",
     "output_type": "stream",
     "text": [
      "The degree is 25.00 Celsius\n"
     ]
    }
   ],
   "source": [
    "# adding placeholder where you want to display the degree\n",
    "degree = 25\n",
    "newtext = \"The degree is {:.2f} Celsius\"\n",
    "print(newtext.format(degree))"
   ]
  },
  {
   "cell_type": "code",
   "execution_count": 3,
   "metadata": {},
   "outputs": [
    {
     "name": "stdout",
     "output_type": "stream",
     "text": [
      "The player name is Joe. Joe is 39 years old!\n"
     ]
    }
   ],
   "source": [
    "# Multiple values to format method \n",
    "# quantity = 5\n",
    "# item_number = 150\n",
    "# price = 71\n",
    "# # add index numbers\n",
    "# neworder = \"We want {0} pieces of item number {1} and for {2:.2f} dollars\"\n",
    "# print(neworder.format(quantity, item_number, price))\n",
    "\n",
    "\n",
    "# adding the same value more than once\n",
    "age = 39\n",
    "name = \"Joe\"\n",
    "newtext = \"The player name is {1}. {1} is {0} years old!\"\n",
    "print(newtext.format(age, name))"
   ]
  },
  {
   "cell_type": "code",
   "execution_count": 58,
   "metadata": {},
   "outputs": [
    {
     "name": "stdout",
     "output_type": "stream",
     "text": [
      "{'Juan', 18.0, True}\n",
      "set()\n",
      "<class 'set'>\n",
      "{'Juan'}\n",
      "{'Juan'}\n",
      "{8, 4, 5, 7}\n",
      "{4, 5, 100, 7, 8, 300, 200}\n",
      "{4, 5, 7, 8, 200, 20, 30, 100, 40, 300}\n",
      "{4, 5, 100, 7, 8, 200, 40, 300, 20, 30}\n",
      "Es igual en contenido? True\n",
      "Es la misma referencia? False\n",
      "{'Lorenzo', 'Marco', 'Karla', 'Laura'}\n",
      "{'Lorenzo', 'Marco', 'Karla', 'Laura'}\n",
      "{'Laura'}\n",
      "{'María', 'Juan', 'Pedro'}\n",
      "{'María', 'Juan', 'Pedro', 'Laura'}\n",
      "True\n",
      "False\n",
      "True\n"
     ]
    }
   ],
   "source": [
    "# Profundizar en set\n",
    "# Un set es una colección de elementos únicos y es mutable\n",
    "# Los elementos de un set deben ser inmutables\n",
    "# conjunto = {[1,2],[3,4]}\n",
    "conjunto = {'Juan', True, 18.0}\n",
    "print(conjunto)\n",
    "# Set vacío\n",
    "# conjunto = {} genera un dict vacío\n",
    "# print(type(conjunto))\n",
    "# set vacío correcto\n",
    "conjunto = set()\n",
    "print(conjunto)\n",
    "print(type(conjunto))\n",
    "# Mutable\n",
    "conjunto.add('Juan')\n",
    "print(conjunto)\n",
    "# Contiene valores únicos\n",
    "conjunto.add('Juan')\n",
    "print(conjunto)\n",
    "# Crear un set a partir de un iterable\n",
    "conjunto = set([4,5,7,8,4])\n",
    "print(conjunto)\n",
    "# Podemos agregar más elementos on incluso otro set\n",
    "conjunto2 = {100,200,300,300}\n",
    "conjunto.update(conjunto2)\n",
    "print(conjunto)\n",
    "conjunto.update([20,30,40,40])\n",
    "print(conjunto)\n",
    "\n",
    "# Copiar un set (copia poco profunda, solo copia referencias)\n",
    "conjunto_copia = conjunto.copy()\n",
    "print(conjunto_copia)\n",
    "# Verificar igualdad\n",
    "print(f'Es igual en contenido? {conjunto == conjunto_copia}')\n",
    "print(f'Es la misma referencia? {conjunto is conjunto_copia}')\n",
    "\n",
    "# Operaciones de conjuntos con set\n",
    "# Personas con distintas características\n",
    "pelo_negro = {'Juan','Karla','Pedro','María'}\n",
    "pelo_rubio = {'Lorenzo','Laura','Marco'}\n",
    "ojos_cafe = {'Karla','Laura'}\n",
    "menores_30 = {'Juan','Karla','María'}\n",
    "# Todos con ojos_cafe y pelo rubio (Union) (no se repiten los elementos)\n",
    "print(ojos_cafe.union(pelo_rubio))\n",
    "# Invertir el orden con el mismo resultado (conmutativa)\n",
    "print(pelo_rubio.union(ojos_cafe))\n",
    "\n",
    "# (intersetion) Sólo las personas con ojos cafe y pelo rubio (conmutativa)\n",
    "print(ojos_cafe.intersection(pelo_rubio))\n",
    "\n",
    "# (difference) Pelo negro sin ojos cafe (no es conmutativa)\n",
    "# las personas que se encuentran en el primer set pero NO en el segundo\n",
    "print(pelo_negro.difference(ojos_cafe))\n",
    "\n",
    "# (diferencia simétrica) Pelo negro u ojos cafe, pero NO ambos (conmutativa)\n",
    "print(pelo_negro.symmetric_difference(ojos_cafe))\n",
    "\n",
    "# Preguntar si un set está contenido en otro (subset)\n",
    "# revismos si los elementos del primer set están contenidos en el segundo set\n",
    "print(menores_30.issubset(pelo_negro))\n",
    "\n",
    "# Preguntar si un set contiene a otro set (superset)\n",
    "# revisar si los elementos del primer set están contenidos en el segundo set\n",
    "print(menores_30.issuperset(pelo_negro))\n",
    "\n",
    "# Preguntar si los de pelo negro no tienen pelo rubio (distjoin)\n",
    "print(pelo_negro.isdisjoint(pelo_rubio))"
   ]
  },
  {
   "cell_type": "code",
   "execution_count": 59,
   "metadata": {
    "scrolled": true
   },
   "outputs": [
    {
     "name": "stdout",
     "output_type": "stream",
     "text": [
      "{'Nombre': 'Juan', 'Apellido': 'Perez', 'Edad': 28}\n",
      "{'Nombre': 'Juan', 'Apellido': 'Perez', 'Edad': 28}\n",
      "{'Nombre': 'Juan', 'Apellido': 'Perez', 'Edad': 28, 'Departamento': 'Sistemas'}\n",
      "{'Nombre': 'Juan Carlos', 'Apellido': 'Perez', 'Edad': 28, 'Departamento': 'Sistemas'}\n",
      "Juan Carlos\n",
      "No se encontró la llave\n",
      "{'Nombre': 'Juan Carlos', 'Apellido': 'Perez', 'Edad': 28, 'Departamento': 'Sistemas'}\n",
      "Valor por default\n",
      "{'Nombre': 'Juan Carlos', 'Apellido': 'Perez', 'Edad': 28, 'Departamento': 'Sistemas', 'Nombres': 'Valor por default'}\n",
      "{'Nombre': 'Juan Carlos',\n",
      " 'Apellido': 'Perez',\n",
      " 'Edad': 28,\n",
      " 'Departamento': 'Sistemas',\n",
      " 'Nombres': 'Valor por default'}\n"
     ]
    }
   ],
   "source": [
    "# Produndizando en diccionarios\n",
    "\n",
    "# Los dic guardan un orden (a diferencia de un set)\n",
    "diccionario = {'Nombre':'Juan','Apellido':'Perez','Edad':28}\n",
    "print(diccionario)\n",
    "\n",
    "# Los dic son mutables, pero las llaves deben ser inmutables\n",
    "# diccionario = {[1,2]:'Valor1'}\n",
    "# diccionario = {(1,2):'Valor1'}\n",
    "print(diccionario)\n",
    "\n",
    "# Se agrega una llave si no se encuentra\n",
    "diccionario['Departamento'] = 'Sistemas'\n",
    "print(diccionario)\n",
    "\n",
    "# No hay valores duplicados en las llaves de un diccionario (si ya existe se reemplaza)\n",
    "diccionario['Nombre'] = 'Juan Carlos'\n",
    "print(diccionario)\n",
    "\n",
    "# Recuperar un valor indicando una llave\n",
    "print(diccionario['Nombre'])\n",
    "# Si no encuentra la llave lanza una excepcion\n",
    "# print(diccionario['nombre'])\n",
    "\n",
    "# Método get recupera una llave, y si no existe NO lanza excepción\n",
    "# además podemos regresar un valor en caso de que no exista la llave\n",
    "print(diccionario.get('Nombres','No se encontró la llave'))\n",
    "print(diccionario)\n",
    "\n",
    "# setdefault sí modifica el diccionario, además se agregar un valor por default\n",
    "nombre = diccionario.setdefault('Nombres','Valor por default')\n",
    "print(nombre)\n",
    "print(diccionario)\n",
    "\n",
    "# Imprimir con pprint\n",
    "from pprint import pprint as pp\n",
    "# help(pp)\n",
    "pp(diccionario, sort_dicts=False)"
   ]
  },
  {
   "cell_type": "code",
   "execution_count": null,
   "metadata": {},
   "outputs": [],
   "source": []
  }
 ],
 "metadata": {
  "kernelspec": {
   "display_name": "Python 3 (ipykernel)",
   "language": "python",
   "name": "python3"
  },
  "language_info": {
   "codemirror_mode": {
    "name": "ipython",
    "version": 3
   },
   "file_extension": ".py",
   "mimetype": "text/x-python",
   "name": "python",
   "nbconvert_exporter": "python",
   "pygments_lexer": "ipython3",
   "version": "3.9.7"
  }
 },
 "nbformat": 4,
 "nbformat_minor": 4
}
