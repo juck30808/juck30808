{
 "cells": [
  {
   "cell_type": "code",
   "execution_count": 1,
   "metadata": {},
   "outputs": [
    {
     "name": "stdout",
     "output_type": "stream",
     "text": [
      "Enter your guess: 5\n",
      "Your guess is wrong! Enter a larger number\n",
      "Enter your guess: 20\n",
      "Your guess is wrong! Enter a larger number\n",
      "Enter your guess: 60\n",
      "Your guess is wrong! Enter a larger number\n",
      "Enter your guess: 80\n",
      "Your guess is wrong! Enter a larger number\n",
      "Enter your guess: 90\n",
      "Your guess is wrong! Enter a smaller number\n",
      "Enter your guess: 85\n",
      "Your guess is wrong! Enter a larger number\n",
      "Enter your guess: 86\n",
      "Your guess is wrong! Enter a larger number\n",
      "Enter your guess: 87\n",
      "Your guess it right!\n",
      "You guessed the number in 8 attempts\n"
     ]
    }
   ],
   "source": [
    "import random\n",
    "randNumber = random.randint(1, 100)\n",
    "userGuess = None\n",
    "guesses = 0\n",
    "\n",
    "while(userGuess != randNumber):\n",
    "    userGuess = int(input(\"Enter your guess: \"))\n",
    "    guesses += 1\n",
    "    if(userGuess==randNumber):\n",
    "        print(\"Your guess it right!\")\n",
    "    else:\n",
    "        if(userGuess>randNumber):\n",
    "            print(\"Your guess is wrong! Enter a smaller number\")\n",
    "        else:\n",
    "            print(\"Your guess is wrong! Enter a larger number\")\n",
    "\n",
    "print(f\"You guessed the number in {guesses} attempts\")\n"
   ]
  },
  {
   "cell_type": "markdown",
   "metadata": {},
   "source": [
    "# Second"
   ]
  },
  {
   "cell_type": "code",
   "execution_count": 1,
   "metadata": {},
   "outputs": [
    {
     "name": "stdout",
     "output_type": "stream",
     "text": [
      "The computer choose a number between 1 and 1000\n",
      "Guess the number: 50\n",
      "The number is Higher\n",
      "Guess the number: 80\n",
      "The number is Higher\n",
      "Guess the number: 500\n",
      "The number is Lower\n",
      "Guess the number: 300\n",
      "The number is Lower\n",
      "Guess the number: 234\n",
      "The number is Lower\n",
      "Guess the number: 200\n",
      "The number is Lower\n",
      "Guess the number: 150\n",
      "The number is Higher\n",
      "Guess the number: 170\n",
      "The number is Higher\n",
      "Guess the number: 192\n",
      "The number is Lower\n",
      "Guess the number: 187\n",
      "The number is Lower\n",
      "Guess the number: 182\n",
      "Congratulations! You won. \n"
     ]
    }
   ],
   "source": [
    "from random import randint\n",
    "start = 1\n",
    "end = 1000\n",
    "value = randint(start, end)\n",
    "print(\"The computer choose a number between\", start, \"and\", end)\n",
    "\n",
    "guess = None\n",
    "while guess != value:\n",
    "    text = input(\"Guess the number: \")\n",
    "    guess = int(text)\n",
    "    \n",
    "    if guess <value:\n",
    "        print(\"The number is Higher\")\n",
    "    elif guess > value:\n",
    "        print(\"The number is Lower\")\n",
    "\n",
    "print(\"Congratulations! You won. \")"
   ]
  },
  {
   "cell_type": "markdown",
   "metadata": {},
   "source": [
    "## This is a guess the number game."
   ]
  },
  {
   "cell_type": "code",
   "execution_count": 1,
   "metadata": {},
   "outputs": [
    {
     "name": "stdout",
     "output_type": "stream",
     "text": [
      "I am thinking of a number between 1 and 20.\n",
      "Take a guess.\n",
      "5\n",
      "Your guess is too low.\n",
      "Take a guess.\n",
      "12\n",
      "Your guess is too low.\n",
      "Take a guess.\n",
      "18\n",
      "Good job! You guessed my number in 3 guesses!\n"
     ]
    }
   ],
   "source": [
    "import random\n",
    "secretNumber = random.randint(1, 20)\n",
    "print('I am thinking of a number between 1 and 20.')\n",
    "\n",
    "# Ask the player to guess 6 times.\n",
    "for guessesTaken in range(1, 7):\n",
    "    print('Take a guess.')\n",
    "    guess = int(input())\n",
    "\n",
    "    if guess < secretNumber:\n",
    "        print('Your guess is too low.')\n",
    "    elif guess > secretNumber:\n",
    "        print('Your guess is too high.')\n",
    "    else:\n",
    "        break # This condition is the correct guess!\n",
    "\n",
    "if guess == secretNumber:\n",
    "    print('Good job! You guessed my number in ' + str(guessesTaken) + ' guesses!')\n",
    "else:\n",
    "    print('Nope. The number I was thinking of was ' + str(secretNumber))\n"
   ]
  },
  {
   "cell_type": "code",
   "execution_count": null,
   "metadata": {},
   "outputs": [],
   "source": []
  }
 ],
 "metadata": {
  "kernelspec": {
   "display_name": "Python 3 (ipykernel)",
   "language": "python",
   "name": "python3"
  },
  "language_info": {
   "codemirror_mode": {
    "name": "ipython",
    "version": 3
   },
   "file_extension": ".py",
   "mimetype": "text/x-python",
   "name": "python",
   "nbconvert_exporter": "python",
   "pygments_lexer": "ipython3",
   "version": "3.9.7"
  }
 },
 "nbformat": 4,
 "nbformat_minor": 4
}
