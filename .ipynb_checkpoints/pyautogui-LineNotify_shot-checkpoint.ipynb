{
 "cells": [
  {
   "cell_type": "code",
   "execution_count": 1,
   "id": "38a78d7e",
   "metadata": {},
   "outputs": [
    {
     "name": "stdout",
     "output_type": "stream",
     "text": [
      "Requirement already satisfied: pyautogui in c:\\users\\cti110016\\anaconda3\\lib\\site-packages (0.9.53)\n",
      "Requirement already satisfied: pyscreeze>=0.1.21 in c:\\users\\cti110016\\anaconda3\\lib\\site-packages (from pyautogui) (0.1.28)\n",
      "Requirement already satisfied: mouseinfo in c:\\users\\cti110016\\anaconda3\\lib\\site-packages (from pyautogui) (0.1.3)\n",
      "Requirement already satisfied: PyTweening>=1.0.1 in c:\\users\\cti110016\\anaconda3\\lib\\site-packages (from pyautogui) (1.0.4)\n",
      "Requirement already satisfied: pygetwindow>=0.0.5 in c:\\users\\cti110016\\anaconda3\\lib\\site-packages (from pyautogui) (0.0.9)\n",
      "Requirement already satisfied: pymsgbox in c:\\users\\cti110016\\anaconda3\\lib\\site-packages (from pyautogui) (1.0.9)\n",
      "Requirement already satisfied: pyrect in c:\\users\\cti110016\\anaconda3\\lib\\site-packages (from pygetwindow>=0.0.5->pyautogui) (0.2.0)\n",
      "Requirement already satisfied: pyperclip in c:\\users\\cti110016\\anaconda3\\lib\\site-packages (from mouseinfo->pyautogui) (1.8.2)\n",
      "Note: you may need to restart the kernel to use updated packages.\n"
     ]
    }
   ],
   "source": [
    "pip install pyautogui"
   ]
  },
  {
   "cell_type": "code",
   "execution_count": 2,
   "id": "fa5041b0",
   "metadata": {},
   "outputs": [],
   "source": [
    "#pip uninstall pillow"
   ]
  },
  {
   "cell_type": "code",
   "execution_count": 3,
   "id": "683f15f8",
   "metadata": {},
   "outputs": [
    {
     "name": "stdout",
     "output_type": "stream",
     "text": [
      "Requirement already satisfied: pillow in c:\\users\\cti110016\\anaconda3\\lib\\site-packages (8.4.0)\n",
      "Note: you may need to restart the kernel to use updated packages.\n"
     ]
    }
   ],
   "source": [
    "pip install pillow"
   ]
  },
  {
   "cell_type": "code",
   "execution_count": 4,
   "id": "367cbb8a",
   "metadata": {},
   "outputs": [
    {
     "name": "stdout",
     "output_type": "stream",
     "text": [
      "API key：········\n"
     ]
    }
   ],
   "source": [
    "import getpass\n",
    "inpwd = getpass.getpass('API key：')"
   ]
  },
  {
   "cell_type": "code",
   "execution_count": 5,
   "id": "61faff90",
   "metadata": {},
   "outputs": [],
   "source": [
    "## 缺少一個自動新增資料夾"
   ]
  },
  {
   "cell_type": "code",
   "execution_count": 6,
   "id": "dc8c0919",
   "metadata": {},
   "outputs": [
    {
     "name": "stdout",
     "output_type": "stream",
     "text": [
      "screenshot-1.png SAVED!.\n",
      "screenshot-2.png SAVED!.\n",
      "screenshot-3.png SAVED!.\n",
      "screenshot-4.png SAVED!.\n",
      "screenshot-5.png SAVED!.\n",
      "screenshot-6.png SAVED!.\n",
      "screenshot-7.png SAVED!.\n",
      "screenshot-8.png SAVED!.\n",
      "screenshot-9.png SAVED!.\n",
      "screenshot-10.png SAVED!.\n"
     ]
    }
   ],
   "source": [
    "import pyautogui, time\n",
    "import requests\n",
    "\n",
    "i = 1\n",
    "\n",
    "while True:\n",
    "\n",
    "    pyautogui.screenshot('input/pyautogui/screenshot-'+ str(i) +'.png') # ScreenShot\n",
    "    print('screenshot-'+ str(i) +'.png SAVED!.')\n",
    "    \n",
    "    headers = {\n",
    "            \"Authorization\": \"Bearer \" + inpwd,\n",
    "        }\n",
    "     \n",
    "    params = {\n",
    "        \"message\": \"success\",  # \n",
    "    }\n",
    "    \n",
    "    files = {'imageFile': open(r'input/pyautogui/screenshot-'+ str(i) +'.png','rb')} # Send\n",
    "\n",
    "    r = requests.post(\"https://notify-api.line.me/api/notify\",\n",
    "                      headers=headers, params=params, files = files)\n",
    "                      \n",
    "    time.sleep(60) \n",
    "    i = i + 1\n",
    "    \n",
    "    if i > 10:\n",
    "        break"
   ]
  },
  {
   "cell_type": "code",
   "execution_count": 7,
   "id": "bbfa6f82",
   "metadata": {},
   "outputs": [
    {
     "name": "stdout",
     "output_type": "stream",
     "text": [
      "[WinError 32] The process cannot access the file because it is being used by another process: 'input/pyautogui/screenshot-10.png'\n"
     ]
    }
   ],
   "source": [
    "## Delete screen\n",
    "\n",
    "import os \n",
    "fileTest = \"input/pyautogui/screenshot-\"+ str(i-1) +\".png\" # 因為照片在傳出去的時候會鎖死刪不掉，所以要刪前一個檔案\n",
    "try: # 防止找不到檔案導致程式停止\n",
    "    os.remove(fileTest) # 刪除截圖的圖片檔案\n",
    "except OSError as e:\n",
    "    print(e) # 印出錯誤訊息"
   ]
  },
  {
   "cell_type": "code",
   "execution_count": 8,
   "id": "17d1b950",
   "metadata": {},
   "outputs": [],
   "source": [
    "## hide cmd  & hide exe.logo name\n",
    "\n",
    "# pyinstaller -F 檔名.py --noconsole\n",
    "# pyinstaller -F 程式檔名.py -i apple.png --noconsole\n",
    "\n",
    "# 大家要記得打完程式一定要將程式打包成執行檔!才能放在工作排程器設定開機執行?\n",
    "# 加上--noconsole之後程式就會在背景執行，不會顯示黑黑的執行視窗喔!"
   ]
  },
  {
   "cell_type": "code",
   "execution_count": 9,
   "id": "df7b93ae",
   "metadata": {},
   "outputs": [],
   "source": [
    "# auto 排程 需要管理員權限\n",
    "# https://walker-a.com/archives/6706\n",
    "# https://ithelp.ithome.com.tw/articles/10260862"
   ]
  },
  {
   "cell_type": "code",
   "execution_count": null,
   "id": "ad69acd4",
   "metadata": {},
   "outputs": [],
   "source": []
  },
  {
   "cell_type": "code",
   "execution_count": null,
   "id": "7903ed4b",
   "metadata": {},
   "outputs": [],
   "source": []
  }
 ],
 "metadata": {
  "kernelspec": {
   "display_name": "Python 3 (ipykernel)",
   "language": "python",
   "name": "python3"
  },
  "language_info": {
   "codemirror_mode": {
    "name": "ipython",
    "version": 3
   },
   "file_extension": ".py",
   "mimetype": "text/x-python",
   "name": "python",
   "nbconvert_exporter": "python",
   "pygments_lexer": "ipython3",
   "version": "3.9.7"
  }
 },
 "nbformat": 4,
 "nbformat_minor": 5
}
