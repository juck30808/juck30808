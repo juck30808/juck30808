{
 "cells": [
  {
   "cell_type": "markdown",
   "metadata": {},
   "source": [
    "# WebCrawler_Yahoo_weather\n",
    "##  Yahoo氣象\n",
    "https://tw.news.yahoo.com/weather/%E8%87%BA%E7%81%A3/%E8%87%BA%E5%8C%97%E5%B8%82/%E8%87%BA%E5%8C%97%E5%B8%82-2306179"
   ]
  },
  {
   "cell_type": "code",
   "execution_count": 1,
   "metadata": {},
   "outputs": [],
   "source": [
    "from bs4 import BeautifulSoup\n",
    "from urllib.parse import unquote\n",
    "import urllib\n",
    "import urllib.request\n",
    "import os\n",
    "import string\n",
    "\n",
    "\n",
    "\n",
    "#catch all web in html_doc\n",
    "url = 'https://tw.news.yahoo.com/weather/%E8%87%BA%E7%81%A3/%E8%87%BA%E5%8C%97%E5%B8%82/%E8%87%BA%E5%8C%97%E5%B8%82-2306179'\n",
    "headers = {'User-Agent':'Mozilla/5.0 (Windows NT 6.1; WOW64; rv:23.0) Gecko/20100101 Firefox/23.0'}\n",
    "req = urllib.request.Request(url= urllib.parse.quote(url, safe=string.printable), \n",
    "                             headers=headers)\n",
    "html_doc = urllib.request.urlopen(req).read()\n",
    "soup = BeautifulSoup(html_doc, 'html.parser')\n",
    "#print(soup.prettify())    #sort use\n",
    "#print(soup.head.title)    #catch head with title \n",
    "#print(soup.title.string)  #catch only string\n",
    "\n",
    "# big div class\n",
    "main_tag = soup.find('div',class_='accordion Ov(h) Trsdu(.42s) daily')\n",
    "item_tags = main_tag.find_all('div', class_='BdB Bds(d) Bdbc(#fff.12) Fz(1.2em) Py(2px) O(0) Pos(r) forecast-item')\n",
    "#print(item_tags)\n",
    "\n",
    "#catch span_tags\n",
    "for item_tag in item_tags:\n",
    "    span_tags = item_tag.find_all('span')\n",
    "    print(span_tags[0].getText(),\n",
    "          \"|\", span_tags[1].find('img')['alt'],\" | \", \n",
    "          span_tags[2].find('img')['alt'].split(':'),\n",
    "          '高溫', span_tags[6].getText(),'低溫', span_tags[7].getText()\n",
    "         )"
   ]
  },
  {
   "cell_type": "markdown",
   "metadata": {},
   "source": [
    "# 執行流程 Process"
   ]
  },
  {
   "cell_type": "code",
   "execution_count": 2,
   "metadata": {},
   "outputs": [
    {
     "data": {
      "text/plain": [
       "datetime.date(2021, 12, 30)"
      ]
     },
     "execution_count": 2,
     "metadata": {},
     "output_type": "execute_result"
    }
   ],
   "source": [
    "import datetime\n",
    "datetime.date.today()"
   ]
  },
  {
   "cell_type": "code",
   "execution_count": 3,
   "metadata": {
    "scrolled": false
   },
   "outputs": [],
   "source": [
    "from bs4 import BeautifulSoup\n",
    "from urllib.parse import unquote\n",
    "import urllib\n",
    "import urllib.request\n",
    "import os\n",
    "import string\n",
    "\n",
    "url = 'https://tw.news.yahoo.com/weather/%E8%87%BA%E7%81%A3/%E8%87%BA%E5%8C%97%E5%B8%82/%E8%87%BA%E5%8C%97%E5%B8%82-2306179'\n",
    "headers = {'User-Agent':'Mozilla/5.0 (Windows NT 6.1; WOW64; rv:23.0) Gecko/20100101 Firefox/23.0'}\n",
    "req = urllib.request.Request(url= urllib.parse.quote(url, safe=string.printable), headers=headers)\n",
    "html_doc = urllib.request.urlopen(req).read()\n",
    "soup = BeautifulSoup(html_doc, 'html.parser')\n",
    "main_tag = soup.find('div',class_='accordion Ov(h) Trsdu(.42s) daily')\n",
    "#main_tag"
   ]
  },
  {
   "cell_type": "code",
   "execution_count": 4,
   "metadata": {},
   "outputs": [
    {
     "data": {
      "text/plain": [
       "[<div class=\"D(ib) Va(m) W(1/4)\" data-reactid=\"195\"><span data-reactid=\"196\">星期四</span></div>,\n",
       " <div class=\"D(ib) Va(m) W(1/4)\" data-reactid=\"213\"><span data-reactid=\"214\">星期五</span></div>,\n",
       " <div class=\"D(ib) Va(m) W(1/4)\" data-reactid=\"231\"><span data-reactid=\"232\">星期六</span></div>,\n",
       " <div class=\"D(ib) Va(m) W(1/4)\" data-reactid=\"249\"><span data-reactid=\"250\">星期日</span></div>,\n",
       " <div class=\"D(ib) Va(m) W(1/4)\" data-reactid=\"267\"><span data-reactid=\"268\">星期一</span></div>,\n",
       " <div class=\"D(ib) Va(m) W(1/4)\" data-reactid=\"285\"><span data-reactid=\"286\">星期二</span></div>,\n",
       " <div class=\"D(ib) Va(m) W(1/4)\" data-reactid=\"303\"><span data-reactid=\"304\">星期三</span></div>,\n",
       " <div class=\"D(ib) Va(m) W(1/4)\" data-reactid=\"321\"><span data-reactid=\"322\">星期四</span></div>,\n",
       " <div class=\"D(ib) Va(m) W(1/4)\" data-reactid=\"339\"><span data-reactid=\"340\">星期五</span></div>,\n",
       " <div class=\"D(ib) Va(m) W(1/4)\" data-reactid=\"357\"><span data-reactid=\"358\">星期六</span></div>]"
      ]
     },
     "execution_count": 4,
     "metadata": {},
     "output_type": "execute_result"
    }
   ],
   "source": [
    "tag = soup.find_all('div',class_='D(ib) Va(m) W(1/4)') #catch all\n",
    "#tag = soup.find('div',class_='D(ib) Va(m) W(1/4)')    #cath 1 \n",
    "tag"
   ]
  },
  {
   "cell_type": "code",
   "execution_count": 5,
   "metadata": {},
   "outputs": [
    {
     "ename": "IndexError",
     "evalue": "list index out of range",
     "output_type": "error",
     "traceback": [
      "\u001b[0;31m---------------------------------------------------------------------------\u001b[0m",
      "\u001b[0;31mIndexError\u001b[0m                                Traceback (most recent call last)",
      "\u001b[0;32m/var/folders/9q/486czkcn7lv5v0hwbt71twdc0000gn/T/ipykernel_3002/563239738.py\u001b[0m in \u001b[0;36m<module>\u001b[0;34m\u001b[0m\n\u001b[1;32m      1\u001b[0m \u001b[0mitem_tags\u001b[0m \u001b[0;34m=\u001b[0m \u001b[0mmain_tag\u001b[0m\u001b[0;34m.\u001b[0m\u001b[0mfind_all\u001b[0m\u001b[0;34m(\u001b[0m\u001b[0;34m'div'\u001b[0m\u001b[0;34m,\u001b[0m \u001b[0mclass_\u001b[0m\u001b[0;34m=\u001b[0m\u001b[0;34m'BdB Bds(d) Bdbc(#fff.12) Fz(1.2em) Py(2px) O(0) Pos(r) forecast-item'\u001b[0m\u001b[0;34m)\u001b[0m\u001b[0;34m\u001b[0m\u001b[0;34m\u001b[0m\u001b[0m\n\u001b[0;32m----> 2\u001b[0;31m \u001b[0mitem_tags\u001b[0m\u001b[0;34m[\u001b[0m\u001b[0;36m0\u001b[0m\u001b[0;34m]\u001b[0m\u001b[0;34m\u001b[0m\u001b[0;34m\u001b[0m\u001b[0m\n\u001b[0m",
      "\u001b[0;31mIndexError\u001b[0m: list index out of range"
     ]
    }
   ],
   "source": [
    "item_tags = main_tag.find_all('div', class_='BdB Bds(d) Bdbc(#fff.12) Fz(1.2em) Py(2px) O(0) Pos(r) forecast-item')\n",
    "item_tags[0]"
   ]
  },
  {
   "cell_type": "code",
   "execution_count": null,
   "metadata": {},
   "outputs": [],
   "source": [
    "item_tag = item_tags[0]\n",
    "span_tags = item_tag.find_all('span')\n",
    "#span_tags"
   ]
  },
  {
   "cell_type": "code",
   "execution_count": null,
   "metadata": {},
   "outputs": [],
   "source": [
    "#span_tags[0]\n",
    "span_tags[0].getText() #newest"
   ]
  },
  {
   "cell_type": "code",
   "execution_count": null,
   "metadata": {},
   "outputs": [],
   "source": [
    "#span_tags[1].find('img')\n",
    "span_tags[1].find('img')['alt']"
   ]
  },
  {
   "cell_type": "code",
   "execution_count": null,
   "metadata": {},
   "outputs": [],
   "source": [
    "#span_tags[2]\n",
    "span_tags[2].find('img')['alt']"
   ]
  },
  {
   "cell_type": "code",
   "execution_count": null,
   "metadata": {},
   "outputs": [],
   "source": [
    "span_tags[2].find('img')['alt'].split(':')"
   ]
  },
  {
   "cell_type": "code",
   "execution_count": null,
   "metadata": {},
   "outputs": [],
   "source": [
    "#span_tags[6]\n",
    "print(span_tags[6].getText(),\"-\",span_tags[7].getText())"
   ]
  },
  {
   "cell_type": "markdown",
   "metadata": {},
   "source": [
    "# 計算未來十天的最高氣溫與最低氣溫"
   ]
  },
  {
   "cell_type": "code",
   "execution_count": null,
   "metadata": {},
   "outputs": [],
   "source": [
    "from bs4 import BeautifulSoup\n",
    "from urllib.parse import unquote\n",
    "import urllib\n",
    "import urllib.request\n",
    "import os\n",
    "import string\n",
    "\n",
    "tem = []\n",
    "for item_tag in item_tags:\n",
    "    span_tags = item_tag.find_all('span')\n",
    "    w1 = span_tags[6].getText().replace('°','')\n",
    "    w2 = span_tags[7].getText().replace('°','')\n",
    "    tem.append(int(w1))\n",
    "    tem.append(int(w2))\n",
    "    \n",
    "tem.sort()\n",
    "print('未來十天最低溫度', tem[0])  #min(tem)\n",
    "print('未來十天最高溫度', tem[-1]) #max(tem)\n"
   ]
  },
  {
   "cell_type": "code",
   "execution_count": null,
   "metadata": {},
   "outputs": [],
   "source": []
  }
 ],
 "metadata": {
  "kernelspec": {
   "display_name": "Python 3 (ipykernel)",
   "language": "python",
   "name": "python3"
  },
  "language_info": {
   "codemirror_mode": {
    "name": "ipython",
    "version": 3
   },
   "file_extension": ".py",
   "mimetype": "text/x-python",
   "name": "python",
   "nbconvert_exporter": "python",
   "pygments_lexer": "ipython3",
   "version": "3.9.7"
  }
 },
 "nbformat": 4,
 "nbformat_minor": 4
}
