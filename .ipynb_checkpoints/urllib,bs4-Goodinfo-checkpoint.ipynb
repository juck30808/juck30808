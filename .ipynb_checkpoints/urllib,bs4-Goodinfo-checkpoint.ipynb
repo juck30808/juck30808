{
 "cells": [
  {
   "cell_type": "markdown",
   "metadata": {},
   "source": [
    "# WebCrawler_Goodinfo\n",
    "## 台灣股市資訊網\n",
    "https://goodinfo.tw/StockInfo/StockDetail.asp?STOCK_ID=2002"
   ]
  },
  {
   "cell_type": "code",
   "execution_count": 1,
   "metadata": {},
   "outputs": [
    {
     "name": "stdout",
     "output_type": "stream",
     "text": [
      "請輸入股票代號2002\n",
      "{'公司名稱': '2002 中鋼', '昨收': '25.5', '漲跌價': '+0.2', '漲跌幅': '+0.78%', '振幅': '2.16%', '開盤': '25.7', '最高': '25.9', '最低': '25.35', '25.7': '成交張數', '成交金額': '13.35\\xa0億', '成交筆數': '14,363', '成交均張': '3.6\\xa0張/筆', '成交均價': '25.54\\xa0元', 'PBR': '1.39', 'PER': 'N/A', 'PEG': 'N/A', '52,269': '昨日張數', '昨日金額': '26.8\\xa0億', '昨日筆數': '35,750', '昨日均張': '2.9\\xa0張/筆', '昨日均價': '25.98\\xa0元', '昨漲跌價\\xa0(幅)': '-0.5\\xa0(-1.92%)', '103,148': '連漲連跌:\\xa0首日上漲\\xa0\\xa0(\\xa0+0.2元\\xa0/\\xa0+0.78%)\\xa0\\xa0\\xa0\\xa0\\xa0\\xa0\\xa0\\xa0財報評分: 最新36分\\xa0/\\xa0平均41分\\xa0\\xa0\\xa0\\xa0\\xa0\\xa0\\xa0\\xa0上市指數: 15214\\xa0(230.87\\xa0/\\xa0+1.54%)'}\n"
     ]
    }
   ],
   "source": [
    "from bs4 import BeautifulSoup\n",
    "from urllib.parse import unquote\n",
    "import urllib\n",
    "import urllib.request\n",
    "import os\n",
    "import string\n",
    "\n",
    "def getStockInfo(id):\n",
    "    try:\n",
    "        url = 'https://goodinfo.tw/StockInfo/StockDetail.asp?STOCK_ID=%s'%id\n",
    "        headers = {'User-Agent':'Mozilla/5.0 (Windows NT 6.1; WOW64; rv:23.0) Gecko/20100101 Firefox/23.0'}\n",
    "        req = urllib.request.Request(url= urllib.parse.quote(url, safe=string.printable), headers=headers)\n",
    "        html_doc = urllib.request.urlopen(req).read()\n",
    "        soup = BeautifulSoup(html_doc, 'html.parser')\n",
    "        main_tag = soup.find('table',class_='solid_1_padding_3_1_tbl')\n",
    "        #if main_tag == None:\n",
    "        #  return None\n",
    "        td_tags = main_tag.find_all('td')\n",
    "\n",
    "        data = {}\n",
    "        company_name = td_tags[1].getText().replace('\\xa0',' ')\n",
    "        data['公司名稱'] = company_name\n",
    "        num = [8,8,6]\n",
    "        begin_index = len(td_tags) - 44\n",
    "        for i in range(0,3):\n",
    "            for j in range(0, num[i]):\n",
    "                index1 = begin_index + i*16 + j\n",
    "                index2 = index1 + num[i]\n",
    "                data[td_tags[index1].getText()] = td_tags[index2].getText()\n",
    "        return data\n",
    "    except:\n",
    "        return None\n",
    "\n",
    "stock_id = input('請輸入股票代號')\n",
    "stock_info = getStockInfo(stock_id)\n",
    "if stock_info == None:\n",
    "    print('此股票不存在')\n",
    "else:\n",
    "    print(stock_info)"
   ]
  },
  {
   "cell_type": "markdown",
   "metadata": {},
   "source": [
    "# 執行流程 Process"
   ]
  },
  {
   "cell_type": "code",
   "execution_count": 2,
   "metadata": {},
   "outputs": [],
   "source": [
    "from bs4 import BeautifulSoup\n",
    "from urllib.parse import unquote\n",
    "import urllib\n",
    "import urllib.request\n",
    "import os\n",
    "import string\n",
    "\n",
    "url = 'https://goodinfo.tw/StockInfo/StockDetail.asp?STOCK_ID=2002'\n",
    "headers = {'User-Agent':'Mozilla/5.0 (Windows NT 6.1; WOW64; rv:23.0) Gecko/20100101 Firefox/23.0'}\n",
    "req = urllib.request.Request(url= urllib.parse.quote(url, safe=string.printable), headers=headers)\n",
    "html_doc = urllib.request.urlopen(req).read()\n",
    "soup = BeautifulSoup(html_doc, 'html.parser')\n",
    "main_tag = soup.find('table',class_='solid_1_padding_3_1_tbl')\n",
    "#print(main_tag)"
   ]
  },
  {
   "cell_type": "code",
   "execution_count": 3,
   "metadata": {},
   "outputs": [
    {
     "data": {
      "text/plain": [
       "[<td class=\"head_td\" colspan=\"8\"><table class=\"none_tbl\" style=\"width:100%\"><tr align=\"left\" height=\"35px\" valign=\"bottom\"><td style=\"padding:0 2px 5px 20px;width:10px;\"><nobr><a class=\"link_blue\" href=\"StockDetail.asp?STOCK_ID=2002\" style=\"font-size:14pt;font-weight:bold;\">2002 中鋼</a></nobr></td><td style=\"padding:0 0 5px 10px;width:10px;\"><nobr style=\"cursor:default;font-size:9pt;color:red;background-color:yellow;\">期貨標的</nobr></td><td style=\"padding:0 0 5px 10px;width:10px;\"><nobr style=\"cursor:default;font-size:9pt;color:red;background-color:yellow;\">選擇權標的</nobr></td><td style=\"padding:0 0 5px 10px;width:10px;\"><nobr style=\"cursor:default;font-size:9pt;color:red;background-color:yellow;\">權證標的</nobr></td><td style=\"padding:0 18px 5px 0;text-align:right;\"><nobr style=\"font-size:9pt;color:gray;\">資料日期: 01/07</nobr></td></tr></table></td>,\n",
       " <td style=\"padding:0 2px 5px 20px;width:10px;\"><nobr><a class=\"link_blue\" href=\"StockDetail.asp?STOCK_ID=2002\" style=\"font-size:14pt;font-weight:bold;\">2002 中鋼</a></nobr></td>,\n",
       " <td style=\"padding:0 0 5px 10px;width:10px;\"><nobr style=\"cursor:default;font-size:9pt;color:red;background-color:yellow;\">期貨標的</nobr></td>,\n",
       " <td style=\"padding:0 0 5px 10px;width:10px;\"><nobr style=\"cursor:default;font-size:9pt;color:red;background-color:yellow;\">選擇權標的</nobr></td>,\n",
       " <td style=\"padding:0 0 5px 10px;width:10px;\"><nobr style=\"cursor:default;font-size:9pt;color:red;background-color:yellow;\">權證標的</nobr></td>,\n",
       " <td style=\"padding:0 18px 5px 0;text-align:right;\"><nobr style=\"font-size:9pt;color:gray;\">資料日期: 01/07</nobr></td>,\n",
       " <td width=\"13%\"><nobr>成交價</nobr></td>,\n",
       " <td width=\"13%\"><nobr>昨收</nobr></td>,\n",
       " <td width=\"13%\"><nobr>漲跌價</nobr></td>,\n",
       " <td width=\"13%\"><nobr>漲跌幅</nobr></td>,\n",
       " <td width=\"13%\"><nobr>振幅</nobr></td>,\n",
       " <td width=\"10%\"><nobr>開盤</nobr></td>,\n",
       " <td width=\"10%\"><nobr>最高</nobr></td>,\n",
       " <td width=\"10%\"><nobr>最低</nobr></td>,\n",
       " <td style=\"font-weight:bold;color:red\">25.7</td>,\n",
       " <td>25.5</td>,\n",
       " <td style=\"color:red\">+0.2</td>,\n",
       " <td style=\"color:red\">+0.78%</td>,\n",
       " <td>2.16%</td>,\n",
       " <td style=\"color:red\">25.7</td>,\n",
       " <td style=\"color:red\">25.9</td>,\n",
       " <td style=\"color:green\">25.35</td>,\n",
       " <td><nobr>成交張數</nobr></td>,\n",
       " <td><nobr>成交金額</nobr></td>,\n",
       " <td><nobr>成交筆數</nobr></td>,\n",
       " <td><nobr>成交均張</nobr></td>,\n",
       " <td><nobr>成交均價</nobr></td>,\n",
       " <td title=\"PBR=成交價/最近一季BPS\"><nobr>PBR</nobr></td>,\n",
       " <td title=\"PER=成交價/近四季合計EPS\"><nobr>PER</nobr></td>,\n",
       " <td title=\"PEG=PER/近四季合計稅後淨利年成長率\"><nobr>PEG</nobr></td>,\n",
       " <td>52,269</td>,\n",
       " <td><nobr>13.35 億</nobr></td>,\n",
       " <td>14,363</td>,\n",
       " <td><nobr>3.6 張/筆</nobr></td>,\n",
       " <td><nobr>25.54 元</nobr></td>,\n",
       " <td title=\"PBR=成交價/最近一季BPS\">1.39</td>,\n",
       " <td title=\"PER=成交價/近四季合計EPS\">N/A</td>,\n",
       " <td style=\"color:black\" title=\"PEG=PER/近四季合計稅後淨利年成長率\">N/A</td>,\n",
       " <td><nobr>昨日張數</nobr></td>,\n",
       " <td><nobr>昨日金額</nobr></td>,\n",
       " <td><nobr>昨日筆數</nobr></td>,\n",
       " <td><nobr>昨日均張</nobr></td>,\n",
       " <td><nobr>昨日均價</nobr></td>,\n",
       " <td colspan=\"3\"><nobr>昨漲跌價 (幅)</nobr></td>,\n",
       " <td>103,148</td>,\n",
       " <td><nobr>26.8 億</nobr></td>,\n",
       " <td>35,750</td>,\n",
       " <td><nobr>2.9 張/筆</nobr></td>,\n",
       " <td><nobr>25.98 元</nobr></td>,\n",
       " <td colspan=\"3\" style=\"color:green\"><nobr>-0.5 (-1.92%)</nobr></td>,\n",
       " <td class=\"head_td\" colspan=\"8\"><p style=\"margin:3px 0 3px 6px;line-height:18px;\"><nobr>連漲連跌: <font style=\"color:red\">首日上漲  ( +0.2元 / +0.78%)</font>        <br/>財報評分: <a class=\"link_green\" href=\"StockFinGrade.asp?STOCK_ID=2002&amp;RPT_CAT=M_YEAR\" target=\"_self\" title=\"最近一個財報年度的評分\">最新36分</a> / <span style=\"color:black\" title=\"歷年各年度財報的平均分數\">平均41分</span>        <span style=\"color:blue\"><a class=\"link_blue\" href=\"StockIdxDetail.asp?STOCK_ID=%E5%8A%A0%E6%AC%8A%E6%8C%87%E6%95%B8\" target=\"_self\">上市指數</a>: </span><span style=\"color:red\">15214 (230.87 / +1.54%)</span></nobr></p></td>]"
      ]
     },
     "execution_count": 3,
     "metadata": {},
     "output_type": "execute_result"
    }
   ],
   "source": [
    "td_tags = main_tag.find_all('td')\n",
    "td_tags"
   ]
  },
  {
   "cell_type": "code",
   "execution_count": 4,
   "metadata": {},
   "outputs": [
    {
     "name": "stdout",
     "output_type": "stream",
     "text": [
      "0 2002 中鋼期貨標的選擇權標的權證標的資料日期: 01/07\n",
      "1 2002 中鋼\n",
      "2 期貨標的\n",
      "3 選擇權標的\n",
      "4 權證標的\n",
      "5 資料日期: 01/07\n",
      "6 成交價\n",
      "7 昨收\n",
      "8 漲跌價\n",
      "9 漲跌幅\n",
      "10 振幅\n",
      "11 開盤\n",
      "12 最高\n",
      "13 最低\n",
      "14 25.7\n",
      "15 25.5\n",
      "16 +0.2\n",
      "17 +0.78%\n",
      "18 2.16%\n",
      "19 25.7\n",
      "20 25.9\n",
      "21 25.35\n",
      "22 成交張數\n",
      "23 成交金額\n",
      "24 成交筆數\n",
      "25 成交均張\n",
      "26 成交均價\n",
      "27 PBR\n",
      "28 PER\n",
      "29 PEG\n",
      "30 52,269\n",
      "31 13.35 億\n",
      "32 14,363\n",
      "33 3.6 張/筆\n",
      "34 25.54 元\n",
      "35 1.39\n",
      "36 N/A\n",
      "37 N/A\n",
      "38 昨日張數\n",
      "39 昨日金額\n",
      "40 昨日筆數\n",
      "41 昨日均張\n",
      "42 昨日均價\n",
      "43 昨漲跌價 (幅)\n",
      "44 103,148\n",
      "45 26.8 億\n",
      "46 35,750\n",
      "47 2.9 張/筆\n",
      "48 25.98 元\n",
      "49 -0.5 (-1.92%)\n",
      "50 連漲連跌: 首日上漲  ( +0.2元 / +0.78%)        財報評分: 最新36分 / 平均41分        上市指數: 15214 (230.87 / +1.54%)\n"
     ]
    }
   ],
   "source": [
    "for i in range (0, len(td_tags)):\n",
    "    print(i, td_tags[i].getText())"
   ]
  },
  {
   "cell_type": "code",
   "execution_count": 5,
   "metadata": {},
   "outputs": [
    {
     "data": {
      "text/plain": [
       "'2002 中鋼'"
      ]
     },
     "execution_count": 5,
     "metadata": {},
     "output_type": "execute_result"
    }
   ],
   "source": [
    "company_name = td_tags[1].getText()\n",
    "company_name = td_tags[1].getText().replace('\\xa0',' ')\n",
    "company_name"
   ]
  },
  {
   "cell_type": "code",
   "execution_count": 6,
   "metadata": {},
   "outputs": [
    {
     "data": {
      "text/plain": [
       "[('成交價', '25.7'),\n",
       " ('昨收', '25.5'),\n",
       " ('漲跌價', '+0.2'),\n",
       " ('漲跌幅', '+0.78%'),\n",
       " ('振幅', '2.16%'),\n",
       " ('開盤', '25.7'),\n",
       " ('最高', '25.9'),\n",
       " ('最低', '25.35'),\n",
       " ('25.7', '成交張數'),\n",
       " ('25.5', '成交金額'),\n",
       " ('+0.2', '成交筆數'),\n",
       " ('+0.78%', '成交均張'),\n",
       " ('2.16%', '成交均價'),\n",
       " ('25.7', 'PBR'),\n",
       " ('25.9', 'PER'),\n",
       " ('25.35', 'PEG'),\n",
       " ('成交張數', '52,269'),\n",
       " ('成交金額', '13.35\\xa0億'),\n",
       " ('成交筆數', '14,363'),\n",
       " ('成交均張', '3.6\\xa0張/筆'),\n",
       " ('成交均價', '25.54\\xa0元'),\n",
       " ('PBR', '1.39'),\n",
       " ('PER', 'N/A'),\n",
       " ('PEG', 'N/A')]"
      ]
     },
     "execution_count": 6,
     "metadata": {},
     "output_type": "execute_result"
    }
   ],
   "source": [
    "data = []\n",
    "for i in range(0,3):\n",
    "    for j in range(0,8):\n",
    "        index1 = 6 + i*8 + j\n",
    "        index2 = index1 + 8\n",
    "        data.append((td_tags[index1].getText(), td_tags[index2].getText()))\n",
    "\n",
    "data"
   ]
  },
  {
   "cell_type": "code",
   "execution_count": 8,
   "metadata": {},
   "outputs": [
    {
     "data": {
      "text/plain": [
       "'+0.2'"
      ]
     },
     "execution_count": 8,
     "metadata": {},
     "output_type": "execute_result"
    }
   ],
   "source": [
    "data[2]\n",
    "data[2][1]"
   ]
  },
  {
   "cell_type": "code",
   "execution_count": 9,
   "metadata": {
    "scrolled": true
   },
   "outputs": [
    {
     "name": "stdout",
     "output_type": "stream",
     "text": [
      "請輸入股票代號2002\n",
      "{'公司名稱': '2002 中鋼', '昨收': '25.5', '漲跌價': '+0.2', '漲跌幅': '+0.78%', '振幅': '2.16%', '開盤': '25.7', '最高': '25.9', '最低': '25.35', '25.7': '成交張數', '成交金額': '13.35\\xa0億', '成交筆數': '14,363', '成交均張': '3.6\\xa0張/筆', '成交均價': '25.54\\xa0元', 'PBR': '1.39', 'PER': 'N/A', 'PEG': 'N/A', '52,269': '昨日張數', '昨日金額': '26.8\\xa0億', '昨日筆數': '35,750', '昨日均張': '2.9\\xa0張/筆', '昨日均價': '25.98\\xa0元', '昨漲跌價\\xa0(幅)': '-0.5\\xa0(-1.92%)', '103,148': '連漲連跌:\\xa0首日上漲\\xa0\\xa0(\\xa0+0.2元\\xa0/\\xa0+0.78%)\\xa0\\xa0\\xa0\\xa0\\xa0\\xa0\\xa0\\xa0財報評分: 最新36分\\xa0/\\xa0平均41分\\xa0\\xa0\\xa0\\xa0\\xa0\\xa0\\xa0\\xa0上市指數: 15214\\xa0(230.87\\xa0/\\xa0+1.54%)'}\n"
     ]
    }
   ],
   "source": [
    "from bs4 import BeautifulSoup\n",
    "from urllib.parse import unquote\n",
    "import urllib\n",
    "import urllib.request\n",
    "import os\n",
    "import string\n",
    "\n",
    "def getStockInfo(id):\n",
    "    try:\n",
    "        url = 'https://goodinfo.tw/StockInfo/StockDetail.asp?STOCK_ID=%s'%id\n",
    "        headers = {'User-Agent':'Mozilla/5.0 (Windows NT 6.1; WOW64; rv:23.0) Gecko/20100101 Firefox/23.0'}\n",
    "        req = urllib.request.Request(url= urllib.parse.quote(url, safe=string.printable), headers=headers)\n",
    "        html_doc = urllib.request.urlopen(req).read()\n",
    "        soup = BeautifulSoup(html_doc, 'html.parser')\n",
    "        main_tag = soup.find('table',class_='solid_1_padding_3_1_tbl')\n",
    "        #if main_tag == None:\n",
    "        #  return None\n",
    "        td_tags = main_tag.find_all('td')\n",
    "\n",
    "        data = {}\n",
    "        company_name = td_tags[1].getText().replace('\\xa0',' ')\n",
    "        data['公司名稱'] = company_name\n",
    "        num = [8,8,6]\n",
    "        begin_index = len(td_tags) - 44\n",
    "        for i in range(0,3):\n",
    "            for j in range(0, num[i]):\n",
    "                index1 = begin_index + i*16 + j\n",
    "                index2 = index1 + num[i]\n",
    "                data[td_tags[index1].getText()] = td_tags[index2].getText()\n",
    "        return data\n",
    "    except:\n",
    "        return None\n",
    "\n",
    "stock_id = input('請輸入股票代號')\n",
    "stock_info = getStockInfo(stock_id)\n",
    "if stock_info == None:\n",
    "    print('此股票不存在')\n",
    "else:\n",
    "    print(stock_info)\n"
   ]
  },
  {
   "cell_type": "code",
   "execution_count": null,
   "metadata": {},
   "outputs": [],
   "source": []
  },
  {
   "cell_type": "code",
   "execution_count": null,
   "metadata": {},
   "outputs": [],
   "source": []
  },
  {
   "cell_type": "code",
   "execution_count": null,
   "metadata": {},
   "outputs": [],
   "source": []
  }
 ],
 "metadata": {
  "kernelspec": {
   "display_name": "Python 3 (ipykernel)",
   "language": "python",
   "name": "python3"
  },
  "language_info": {
   "codemirror_mode": {
    "name": "ipython",
    "version": 3
   },
   "file_extension": ".py",
   "mimetype": "text/x-python",
   "name": "python",
   "nbconvert_exporter": "python",
   "pygments_lexer": "ipython3",
   "version": "3.9.7"
  }
 },
 "nbformat": 4,
 "nbformat_minor": 4
}
