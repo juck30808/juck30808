{
 "cells": [
  {
   "cell_type": "markdown",
   "metadata": {},
   "source": [
    "## IPython Magic Commands\n",
    "> The previous sections showed how IPython lets you use and explore Python efficiently and interactively.\n",
    "Here we'll begin discussing some of the enhancements that IPython adds on top of the normal Python syntax.\n",
    "These are known in IPython as *magic commands*, and are prefixed by the ``%`` character.\n",
    "These magic commands are designed to succinctly solve various common problems in standard data analysis.\n",
    "Magic commands come in two flavors: *line magics*, which are denoted by a single ``%`` prefix and operate on a single line of input, and *cell magics*, which are denoted by a double ``%%`` prefix and operate on multiple lines of input.\n",
    "We'll demonstrate and discuss a few brief examples here, and come back to more focused discussion of several useful magic commands later in the chapter.\n",
    "\n",
    "前面展示了怎樣使用IPython，令你在其中執行Python代碼更加有效和具有交互性。現在我們要開始討論一些IPython增強的語言特性。這些特性被稱為IPython的*魔術命令*，它們都是以`%`字符開頭的。這些魔術命令被設計用來簡潔地實現很多通用的標準數據科學問題。魔術命令分成兩種模式：*行魔術*，以一個`%`開頭，是對於一行的輸入進行魔術處理的；另一種是*單元格魔術*，以兩個`%%`開頭，是對於多行的輸入進行魔術處理的。本節我們會展示和討論一些例子，然後本章後續小節會對部分有用的魔術命令進行詳細的討論。"
   ]
  },
  {
   "cell_type": "markdown",
   "metadata": {},
   "source": [
    "Ipython\n",
    "- Pasting Code Blocks: ``%paste`` and ``%cpaste``\n",
    "- Running External Code: ``%run``\n",
    "- Timing Code Execution: ``%timeit``\n",
    "- Help on Magic Functions: ``?``, ``%magic``, and ``%lsmagic``"
   ]
  },
  {
   "cell_type": "markdown",
   "metadata": {},
   "source": [
    "### Quick Introduction to the Shell 快速介绍 (Cmd)\n",
    "\n",
    ">Notice that all of this is just a compact way to do familiar operations (navigating a directory structure, creating a directory, moving a file, etc.) by typing commands rather than clicking icons and menus. Note that with just a few commands (``pwd``, ``ls``, ``cd``, ``mkdir``, and ``cp``) you can do many of the most common file operations.\n",
    "It's when you go beyond these basics that the shell approach becomes really powerful.\n",
    "\n",
    "作為一個例子，這裡有一個用戶在Linux/OSX系統上瀏覽、創建和修改目錄以及文件的shell會話，請注意，上面的命令都是使用命令輸入完成我們平常使用鼠標點擊操作完成的任務（瀏覽目錄結構、創建目錄、移動文件等）。只需要少量的命令輸入（`pwd`、`ls`、`cd`、`mkdir`和`cp`）我們就能完成很多通用的文件操作。當你更深入學習shell之後，你就會發現它們非常強大。（`osx:~ $`是提示符，所有出現在`$`後面的文本都是一條命令；以`#`開始的文本是註釋作為命令的解釋，而不是你需要真正輸入的內容）：\n",
    "\n",
    "```bash\n",
    "osx:~ $ echo \"hello world\"             # 使用echo打印输出，类似Python中的print\n",
    "osx:~ $ pwd                            # pwd = 打印当前工作目录\n",
    "osx:~ $ ls                             # ls = 列示目录内容\n",
    "osx:~ $ cd projects/                   # cd = 改变目录位置\n",
    "osx:projects $ pwd\n",
    "osx:projects $ ls\n",
    "osx:projects $ mkdir myproject          # mkdir = 创建新目录\n",
    "osx:projects $ cd myproject/\n",
    "osx:myproject $ mv ../myproject.txt ./  # mv = 移动文件，这里我们将父目录中的myproject.txt\n",
    "osx:myproject $ ls\n",
    "```"
   ]
  },
  {
   "cell_type": "code",
   "execution_count": 6,
   "metadata": {},
   "outputs": [
    {
     "data": {
      "text/plain": [
       "'/Users/jerrychien/Documents/GitHub/WhaleFall'"
      ]
     },
     "execution_count": 6,
     "metadata": {},
     "output_type": "execute_result"
    }
   ],
   "source": [
    "pwd"
   ]
  },
  {
   "cell_type": "markdown",
   "metadata": {},
   "source": [
    "### Shell Commands in IPython IPython 中的 shell 命令 (!)\n",
    "\n",
    "> Any command that works at the command-line can be used in IPython by prefixing it with the ``!`` character.\n",
    "For example, the ``ls``, ``pwd``, and ``echo`` commands can be run as follows:\n",
    "\n",
    "任何在命令行中可以使用的命令，也都可以在IPython中使用，只需要在前面加上`!`号。例如，`ls`、`pwd`和`echo`命令：\n",
    "\n",
    "```bash\n",
    "In [1]: !ls\n",
    "In [2]: !pwd\n",
    "In [3]: !echo \"printing from the shell\"\n",
    "```"
   ]
  },
  {
   "cell_type": "code",
   "execution_count": 7,
   "metadata": {},
   "outputs": [
    {
     "name": "stdout",
     "output_type": "stream",
     "text": [
      "/Users/jerrychien/Documents/GitHub/WhaleFall\r\n"
     ]
    }
   ],
   "source": [
    "!pwd"
   ]
  },
  {
   "cell_type": "markdown",
   "metadata": {},
   "source": [
    "### Passing Values to and from the Shell 與IPython的命名交互 ( {x} )\n",
    "\n",
    "> Shell commands can not only be called from IPython, but can also be made to interact with the IPython namespace.\n",
    "For example, you can save the output of any shell command to a Python list using the assignment operator, Note that these results are not returned as lists, but as a special shell return type defined in IPython:\n",
    "\n",
    "shell命令不但能被IPython環境中調用，還能與IPython的命名空間產生交互。例如，你可以將shell命令的輸出保存成一個Python的列表，值得注意的是，這些結果並不是返回成為普通的Python列表，而是一個IPython定義的特殊shell返回值類型：\n",
    "\n",
    "> Communication in the other direction–passing Python variables into the shell–is possible using the ``{varname}`` syntax: The curly braces contain the variable name, which is replaced by the variable's contents in the shell command.\n",
    "\n",
    "反過來，也可以傳遞Python的變量給shell，通過`{變量名}`語法就可以實現： 花括號裡面是變量的名稱，在執行shell命令的時候將會被變量的值替代。\n",
    "\n",
    "\n",
    "```python\n",
    "In []: contents = !ls\n",
    "In []: print(contents)\n",
    "\n",
    "In []: directory = !pwd\n",
    "In []: print(directory)\n",
    "\n",
    "In []: message = \"hello from Python\"\n",
    "In []: !echo {message}\n",
    "```"
   ]
  },
  {
   "cell_type": "markdown",
   "metadata": {},
   "source": [
    "### Controlling Exceptions: (%xmode)\n",
    "\n",
    "> Most of the time when a Python script fails, it will raise an Exception.\n",
    "When the interpreter hits one of these exceptions, information about the cause of the error can be found in the *traceback*, which can be accessed from within Python.\n",
    "With the ``%xmode`` magic function, IPython allows you to control the amount of information printed when the exception is raised.\n",
    "Consider the following code:\n",
    "\n",
    "大部分情況下如果Python腳本執行失敗了，都是由於拋出了異常導致的。當解釋器碰到了這些異常的時候，會將錯誤產生的原因壓到當前程序執行的堆棧當中，你可以通過Python的traceback訪問到這些信息。使用 `%xmode` 魔術指令，IPython允許你控制異常發生時錯誤信息的數量。看例子：\n",
    "\n",
    "> ``%xmode`` takes a single argument, the mode, and there are three possibilities: ``Plain``, ``Context``, and ``Verbose``.\n",
    "The default is ``Context``, and gives output like that just shown before.\n",
    "``Plain`` is more compact and gives less information:\n",
    "\n",
    "`%xmode`需要一個參數，就是輸出錯誤的模式，有三種選擇：`Plain`，`Context`和`Verbose`。默認是`Context`，該該模式下的輸出就如上面所見。"
   ]
  },
  {
   "cell_type": "code",
   "execution_count": 62,
   "metadata": {},
   "outputs": [],
   "source": [
    "def func1(a, b):\n",
    "    return a / b\n",
    "\n",
    "def func2(x):\n",
    "    a = x\n",
    "    b = x - 1\n",
    "    return func1(a, b)"
   ]
  },
  {
   "cell_type": "code",
   "execution_count": 64,
   "metadata": {},
   "outputs": [],
   "source": [
    "# %xmode Verbose\n",
    "# func2(1)"
   ]
  },
  {
   "cell_type": "code",
   "execution_count": 65,
   "metadata": {},
   "outputs": [],
   "source": [
    "# %xmode Context\n",
    "# func2(1)"
   ]
  },
  {
   "cell_type": "code",
   "execution_count": 66,
   "metadata": {},
   "outputs": [],
   "source": [
    "# %xmode Plain\n",
    "# func2(1)"
   ]
  },
  {
   "cell_type": "markdown",
   "metadata": {},
   "source": [
    "### Debugging: When Reading Tracebacks Is Not Enough (%debug)\n",
    "\n",
    "> In IPython, perhaps the most convenient interface to debugging is the ``%debug`` magic command.\n",
    "If you call it after hitting an exception, it will automatically open an interactive debugging prompt at the point of the exception.\n",
    "The ``ipdb`` prompt lets you explore the current state of the stack, explore the available variables, and even run Python commands!\n",
    "\n",
    "在IPython中，也許最簡單的調試方式就是使用`%debug`魔術指令了。如果當你遇到一個異常之後調用它，IPython會自動打開一個交互式的調試提示符，並定位在異常發生的地方。 `ipdb`提示符允許你查看當前的堆棧信息，顯示變量和它們的值，甚至執行Python命令。執行一些基礎的指令來打印變量`a`和`b`的值, `up`,`down`,`print(a)`，最後使用`quit`退出調試模式："
   ]
  },
  {
   "cell_type": "code",
   "execution_count": 68,
   "metadata": {},
   "outputs": [
    {
     "name": "stdout",
     "output_type": "stream",
     "text": [
      "> \u001b[0;32m/var/folders/9q/486czkcn7lv5v0hwbt71twdc0000gn/T/ipykernel_8406/4021589855.py\u001b[0m(2)\u001b[0;36mfunc1\u001b[0;34m()\u001b[0m\n",
      "\u001b[0;32m      1 \u001b[0;31m\u001b[0;32mdef\u001b[0m \u001b[0mfunc1\u001b[0m\u001b[0;34m(\u001b[0m\u001b[0ma\u001b[0m\u001b[0;34m,\u001b[0m \u001b[0mb\u001b[0m\u001b[0;34m)\u001b[0m\u001b[0;34m:\u001b[0m\u001b[0;34m\u001b[0m\u001b[0;34m\u001b[0m\u001b[0m\n",
      "\u001b[0m\u001b[0;32m----> 2 \u001b[0;31m    \u001b[0;32mreturn\u001b[0m \u001b[0ma\u001b[0m \u001b[0;34m/\u001b[0m \u001b[0mb\u001b[0m\u001b[0;34m\u001b[0m\u001b[0;34m\u001b[0m\u001b[0m\n",
      "\u001b[0m\u001b[0;32m      3 \u001b[0;31m\u001b[0;34m\u001b[0m\u001b[0m\n",
      "\u001b[0m\u001b[0;32m      4 \u001b[0;31m\u001b[0;32mdef\u001b[0m \u001b[0mfunc2\u001b[0m\u001b[0;34m(\u001b[0m\u001b[0mx\u001b[0m\u001b[0;34m)\u001b[0m\u001b[0;34m:\u001b[0m\u001b[0;34m\u001b[0m\u001b[0;34m\u001b[0m\u001b[0m\n",
      "\u001b[0m\u001b[0;32m      5 \u001b[0;31m    \u001b[0ma\u001b[0m \u001b[0;34m=\u001b[0m \u001b[0mx\u001b[0m\u001b[0;34m\u001b[0m\u001b[0;34m\u001b[0m\u001b[0m\n",
      "\u001b[0m\n",
      "ipdb> quit\n"
     ]
    }
   ],
   "source": [
    "%debug"
   ]
  },
  {
   "cell_type": "markdown",
   "metadata": {},
   "source": [
    "### Partial list of debugging commands 調試命令部分列表\n",
    "\n",
    "> There are many more available commands for interactive debugging than we've listed here; the following table contains a description of some of the more common and useful ones:  For more information, use the ``help`` command in the debugger, or take a look at ``ipdb``'s [online documentation](https://github.com/gotcha/ipdb).\n",
    "\n",
    "| Command         |  Description                                                |\n",
    "|-----------------|-------------------------------------------------------------|\n",
    "| ``list``        | 顯示當前在文件中的位置信息                       |\n",
    "| ``h(help)``      | 查看幫助文檔，可以顯示列表，或查看某個命令的具體幫助信息 |\n",
    "| ``q(quit)``      | 退出調試模式提示符                         |\n",
    "| ``c(continue)``  | 退出調試模式，繼續執行代碼                  |\n",
    "| ``n(next)``      | 執行下一行代碼，單步調試                          |\n",
    "| ``<enter>``     | 直接重複執行上一條命令                                 |\n",
    "| ``p(print)``     | 打印變量內容                                            |\n",
    "| ``s(step)``      | 跟踪進入子函數內部進行調試                                   |\n",
    "| ``r(return)``    | 直接執行到函數返回                              |"
   ]
  }
 ],
 "metadata": {
  "anaconda-cloud": {},
  "kernelspec": {
   "display_name": "Python 3 (ipykernel)",
   "language": "python",
   "name": "python3"
  },
  "language_info": {
   "codemirror_mode": {
    "name": "ipython",
    "version": 3
   },
   "file_extension": ".py",
   "mimetype": "text/x-python",
   "name": "python",
   "nbconvert_exporter": "python",
   "pygments_lexer": "ipython3",
   "version": "3.9.7"
  }
 },
 "nbformat": 4,
 "nbformat_minor": 1
}
