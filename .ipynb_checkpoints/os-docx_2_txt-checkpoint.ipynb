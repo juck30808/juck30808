{
 "cells": [
  {
   "cell_type": "code",
   "execution_count": 1,
   "id": "3f8ac8fc",
   "metadata": {},
   "outputs": [],
   "source": [
    "#!pip install python-docx"
   ]
  },
  {
   "cell_type": "code",
   "execution_count": 2,
   "id": "c31742a9",
   "metadata": {},
   "outputs": [
    {
     "ename": "ModuleNotFoundError",
     "evalue": "No module named 'docx'",
     "output_type": "error",
     "traceback": [
      "\u001b[0;31m---------------------------------------------------------------------------\u001b[0m",
      "\u001b[0;31mModuleNotFoundError\u001b[0m                       Traceback (most recent call last)",
      "\u001b[0;32m/var/folders/9q/486czkcn7lv5v0hwbt71twdc0000gn/T/ipykernel_2563/81510267.py\u001b[0m in \u001b[0;36m<module>\u001b[0;34m\u001b[0m\n\u001b[1;32m      1\u001b[0m \u001b[0;32mimport\u001b[0m \u001b[0mos\u001b[0m\u001b[0;34m\u001b[0m\u001b[0;34m\u001b[0m\u001b[0m\n\u001b[0;32m----> 2\u001b[0;31m \u001b[0;32mimport\u001b[0m \u001b[0mdocx\u001b[0m\u001b[0;34m\u001b[0m\u001b[0;34m\u001b[0m\u001b[0m\n\u001b[0m\u001b[1;32m      3\u001b[0m \u001b[0;32mfrom\u001b[0m \u001b[0mdocx\u001b[0m\u001b[0;34m.\u001b[0m\u001b[0menum\u001b[0m\u001b[0;34m.\u001b[0m\u001b[0mtext\u001b[0m \u001b[0;32mimport\u001b[0m \u001b[0mWD_ALIGN_PARAGRAPH\u001b[0m\u001b[0;34m\u001b[0m\u001b[0;34m\u001b[0m\u001b[0m\n\u001b[1;32m      4\u001b[0m \u001b[0;32mfrom\u001b[0m \u001b[0mdocx\u001b[0m\u001b[0;34m.\u001b[0m\u001b[0mshared\u001b[0m \u001b[0;32mimport\u001b[0m \u001b[0mPt\u001b[0m\u001b[0;34m\u001b[0m\u001b[0;34m\u001b[0m\u001b[0m\n",
      "\u001b[0;31mModuleNotFoundError\u001b[0m: No module named 'docx'"
     ]
    }
   ],
   "source": [
    "import os\n",
    "import docx\n",
    "from docx.enum.text import WD_ALIGN_PARAGRAPH\n",
    "from docx.shared import Pt"
   ]
  },
  {
   "cell_type": "code",
   "execution_count": null,
   "id": "60a173fa",
   "metadata": {},
   "outputs": [],
   "source": [
    "def createInvitations(txtFile, docName):\n",
    "    doc = docx.Document()\n",
    "    intro = 'It would be a pleasure to have the company of'\n",
    "    address = 'at 11101 Memory lane on the evening of'\n",
    "    date = 'April 31st'\n",
    "    time = \"at 24 O'Clock\"\n",
    "\n",
    "    with open(txtFile) as guestList:\n",
    "        for guest in guestList:\n",
    "            name = guest[:-1]\n",
    "            p1 = doc.add_paragraph()\n",
    "            p1.paragraph_format.alignment = WD_ALIGN_PARAGRAPH.CENTER\n",
    "            f1 = p1.add_run(intro)\n",
    "            f1.font.bold = True\n",
    "            f1.font.italic = True\n",
    "            f1.font.size = Pt(13)\n",
    "\n",
    "            p2 = doc.add_paragraph()\n",
    "            p2.paragraph_format.alignment = WD_ALIGN_PARAGRAPH.CENTER\n",
    "            f2 = p2.add_run(name)\n",
    "            f2.font.bold = True\n",
    "            f2.font.size = Pt(15)\n",
    "\n",
    "            p3 = doc.add_paragraph()\n",
    "            p3.paragraph_format.alignment = WD_ALIGN_PARAGRAPH.CENTER\n",
    "            f3 = p3.add_run(address)\n",
    "            f3.font.bold = True\n",
    "            f3.font.italic = True\n",
    "            f3.font.size = Pt(12)\n",
    "\n",
    "            p4 = doc.add_paragraph()\n",
    "            p4.paragraph_format.alignment = WD_ALIGN_PARAGRAPH.CENTER\n",
    "            f4 = p4.add_run(date)\n",
    "            f4.font.size = Pt(12)\n",
    "\n",
    "            p5 = doc.add_paragraph()\n",
    "            p5.paragraph_format.alignment = WD_ALIGN_PARAGRAPH.CENTER\n",
    "            f5 = p5.add_run(time)\n",
    "            f5.font.bold = True\n",
    "            f5.font.italic = True\n",
    "            f5.font.size = Pt(12)\n",
    "\n",
    "            doc.add_page_break()\n",
    "    \n",
    "    doc.save(docName)"
   ]
  },
  {
   "cell_type": "code",
   "execution_count": null,
   "id": "84d6e674",
   "metadata": {},
   "outputs": [],
   "source": [
    "if __name__ == \"__main__\":\n",
    "    createInvitations('input/guests.txt', 'output/guests.docx')"
   ]
  },
  {
   "cell_type": "code",
   "execution_count": null,
   "id": "32a8a6e6",
   "metadata": {},
   "outputs": [],
   "source": []
  }
 ],
 "metadata": {
  "kernelspec": {
   "display_name": "Python 3 (ipykernel)",
   "language": "python",
   "name": "python3"
  },
  "language_info": {
   "codemirror_mode": {
    "name": "ipython",
    "version": 3
   },
   "file_extension": ".py",
   "mimetype": "text/x-python",
   "name": "python",
   "nbconvert_exporter": "python",
   "pygments_lexer": "ipython3",
   "version": "3.9.7"
  }
 },
 "nbformat": 4,
 "nbformat_minor": 5
}
