{
 "cells": [
  {
   "cell_type": "markdown",
   "id": "07f9bf5d",
   "metadata": {},
   "source": [
    "## Iterators"
   ]
  },
  {
   "cell_type": "code",
   "execution_count": 1,
   "id": "b1141a11",
   "metadata": {},
   "outputs": [
    {
     "name": "stdout",
     "output_type": "stream",
     "text": [
      "1\n",
      "3\n",
      "5\n"
     ]
    }
   ],
   "source": [
    "class Infinite_Iter:\n",
    "    def __iter__(self):\n",
    "        self.num = 1\n",
    "        return self\n",
    "    \n",
    "    def __next__(self):\n",
    "        num = self.num\n",
    "        self.num += 2\n",
    "        return num\n",
    "\n",
    "i = Infinite_Iter()\n",
    "a = iter(i)\n",
    "print(next(a))\n",
    "print(next(a))\n",
    "print(next(a))"
   ]
  },
  {
   "cell_type": "code",
   "execution_count": 2,
   "id": "82ab504f",
   "metadata": {},
   "outputs": [
    {
     "name": "stdout",
     "output_type": "stream",
     "text": [
      "1\n",
      "2\n",
      "3\n",
      "4\n",
      "5\n"
     ]
    }
   ],
   "source": [
    "a = [1,2,3,4,5]\n",
    "\n",
    "for i in a:\n",
    "    print(i)"
   ]
  },
  {
   "cell_type": "code",
   "execution_count": 3,
   "id": "97059260",
   "metadata": {},
   "outputs": [
    {
     "name": "stdout",
     "output_type": "stream",
     "text": [
      "6\n",
      "7\n",
      "8\n",
      "9\n",
      "10\n"
     ]
    }
   ],
   "source": [
    "for i in range(6,11):\n",
    "    print(i)"
   ]
  },
  {
   "cell_type": "code",
   "execution_count": 4,
   "id": "86fd58d7",
   "metadata": {},
   "outputs": [
    {
     "name": "stdout",
     "output_type": "stream",
     "text": [
      "11\n",
      "12\n",
      "13\n",
      "14\n",
      "15\n",
      "Printing Completed!\n"
     ]
    }
   ],
   "source": [
    "b=(11,12,13,14,15)\n",
    "\n",
    "for i in b:\n",
    "    print(i)\n",
    "else:\n",
    "    print(\"Printing Completed!\")"
   ]
  },
  {
   "cell_type": "markdown",
   "id": "f574dde5",
   "metadata": {},
   "source": [
    "## OOP"
   ]
  },
  {
   "cell_type": "code",
   "execution_count": 5,
   "id": "7b8c7b95",
   "metadata": {},
   "outputs": [],
   "source": [
    "class myBird:\n",
    "    def __init__(self):\n",
    "        print(\"my Bird class constructor\")\n",
    "    def whatType(self):\n",
    "        print('I am bird')\n",
    "    def canSwin(self):\n",
    "        print('I can Swim')"
   ]
  },
  {
   "cell_type": "code",
   "execution_count": 6,
   "id": "af26f0fb",
   "metadata": {},
   "outputs": [],
   "source": [
    "class myParrot:\n",
    "    species = 'bird'\n",
    "    \n",
    "    def __init__(self,name,age):\n",
    "        print(\"MyParrot class constructor\")\n",
    "        self.name = name\n",
    "        self.age = age\n",
    "    \n",
    "    def canSing(self, thisSong):\n",
    "        return \"{} can sign{}...\" .format(self.name, thisSong)"
   ]
  },
  {
   "cell_type": "code",
   "execution_count": 7,
   "id": "ac642b11",
   "metadata": {},
   "outputs": [],
   "source": [
    "class myPenguin(myBird):\n",
    "    def __init__(self):\n",
    "        super().__init__()\n",
    "        print(\"Penguin is ready\")\n",
    "\n",
    "    def whoisThis(self):\n",
    "        print('I am Penguin')\n",
    "    def canRun(self):\n",
    "        print('I can Run')"
   ]
  },
  {
   "cell_type": "code",
   "execution_count": 8,
   "id": "5315579a",
   "metadata": {},
   "outputs": [
    {
     "name": "stdout",
     "output_type": "stream",
     "text": [
      "MyParrot class constructor\n",
      "MyParrot class constructor\n",
      "MP1 is a bird\n",
      "MP2 is a bird\n",
      "MyParrot1 is 10 years of age\n",
      "MyParrot2 is 15 years of age\n",
      "MyParrot1 can signChirp...\n",
      "my Bird class constructor\n",
      "Penguin is ready\n",
      "I am Penguin\n",
      "I can Run\n"
     ]
    }
   ],
   "source": [
    "# instantiate the Parrot class\n",
    "mp1 = myParrot(\"MyParrot1\",10)\n",
    "mp2 = myParrot(\"MyParrot2\",15)\n",
    "\n",
    "# access the class attributes\n",
    "print(\"MP1 is a {}\".format(mp1.__class__.species))\n",
    "print(\"MP2 is a {}\".format(mp2.__class__.species))\n",
    "\n",
    "# access the instance attributes\n",
    "print(\"{} is {} years of age\".format(mp1.name, mp1.age))\n",
    "print(\"{} is {} years of age\".format(mp2.name, mp2.age))\n",
    "print(mp1.canSing(\"Chirp\"))\n",
    "\n",
    "# Accessing the child class's attributes (Inheritance)\n",
    "pg1 = myPenguin()\n",
    "pg1.whoisThis()\n",
    "pg1.canRun()"
   ]
  },
  {
   "cell_type": "markdown",
   "id": "93472b63",
   "metadata": {},
   "source": [
    "## 運算子多載 (Operator overloading)"
   ]
  },
  {
   "cell_type": "code",
   "execution_count": 9,
   "id": "96b004cc",
   "metadata": {},
   "outputs": [],
   "source": [
    "class myPoint:\n",
    "    def __init__(self, x=0, y=0):\n",
    "        self.x = x\n",
    "        self.y = y\n",
    "    \n",
    "    def __str__(self):\n",
    "        return \"({0},{1})\".format(self.x,self.y)\n",
    "    \n",
    "    def __add__(self, other):\n",
    "        x = self.x + other.x\n",
    "        y = self.x + other.y\n",
    "        return myPoint(x,y)\n",
    "    \n",
    "    def __lt__(self, other):\n",
    "        self_msg = (self.x **2) + (self.y **2)\n",
    "        other_msg = (other.x **2) + (other.y **2)\n",
    "        return self_msg < other_msg"
   ]
  },
  {
   "cell_type": "code",
   "execution_count": 10,
   "id": "1ebf5551",
   "metadata": {},
   "outputs": [
    {
     "name": "stdout",
     "output_type": "stream",
     "text": [
      "(1,2) (4,5)\n",
      "True\n",
      "(5,6)\n",
      "True\n",
      "(5,6)\n"
     ]
    }
   ],
   "source": [
    "p1 = myPoint(1,2)\n",
    "p2 = myPoint(4,5)\n",
    "print(p1,p2)\n",
    "\n",
    "print(p1<p2)\n",
    "print(p1+p2)\n",
    "\n",
    "print(p1.__lt__(p2))\n",
    "print(p1.__add__(p2))"
   ]
  },
  {
   "cell_type": "markdown",
   "id": "5faf9809",
   "metadata": {},
   "source": [
    "## 1.2 For, while ve iterator ilişkisi"
   ]
  },
  {
   "cell_type": "code",
   "execution_count": 11,
   "id": "9ab4ae5c",
   "metadata": {},
   "outputs": [
    {
     "name": "stdout",
     "output_type": "stream",
     "text": [
      "343\n",
      "51\n",
      "2\n",
      "51\n",
      "2\n",
      "--------\n",
      "343\n",
      "51\n",
      "2\n",
      "51\n",
      "2\n"
     ]
    }
   ],
   "source": [
    "liste = [343,51,2,51,2]\n",
    "\n",
    "for i in liste:\n",
    "    print(i)\n",
    "    \n",
    "print(\"--------\")\n",
    "\n",
    "iterator1 = iter(liste)\n",
    "\n",
    "while True:\n",
    "    try:\n",
    "        i = next(iterator1)\n",
    "        print(i)\n",
    "    except StopIteration:\n",
    "        break"
   ]
  },
  {
   "cell_type": "markdown",
   "id": "f736c7b1",
   "metadata": {},
   "source": [
    "## 1.3 Kendi Class'ımızda Kullanabilmek"
   ]
  },
  {
   "cell_type": "code",
   "execution_count": 12,
   "id": "c0b741e2",
   "metadata": {},
   "outputs": [],
   "source": [
    "class rafdakiKitaplar():\n",
    "    def __init__(self,kitaplar,raf):\n",
    "        self.kitaplar = kitaplar\n",
    "        self.raf = raf\n",
    "        self.index = -1\n",
    "        \n",
    "    def __iter__(self):\n",
    "        return self\n",
    "    \n",
    "    def __next__(self):\n",
    "        self.index += 1\n",
    "        if (self.index < len(self.kitaplar)):\n",
    "            return self.kitaplar[self.index]\n",
    "        else:\n",
    "            self.index = -1\n",
    "            raise StopIteration"
   ]
  },
  {
   "cell_type": "code",
   "execution_count": 13,
   "id": "58ff1b08",
   "metadata": {},
   "outputs": [],
   "source": [
    "kitaplar1 = rafdakiKitaplar([\"Simyacı\",\"Küçük Prens\",\"Saatleri Ayarlama Enstitüsü\",\"Mai ve Siyah\"],\"F43\")"
   ]
  },
  {
   "cell_type": "code",
   "execution_count": 14,
   "id": "7a7a3adc",
   "metadata": {},
   "outputs": [
    {
     "name": "stdout",
     "output_type": "stream",
     "text": [
      "Simyacı\n",
      "Küçük Prens\n",
      "Saatleri Ayarlama Enstitüsü\n",
      "Mai ve Siyah\n"
     ]
    }
   ],
   "source": [
    "for i in kitaplar1:\n",
    "    print(i)"
   ]
  },
  {
   "cell_type": "markdown",
   "id": "4263147d",
   "metadata": {},
   "source": [
    "## Generator"
   ]
  },
  {
   "cell_type": "code",
   "execution_count": 15,
   "id": "44064a95",
   "metadata": {},
   "outputs": [
    {
     "name": "stdout",
     "output_type": "stream",
     "text": [
      "[1, 8, 27, 64, 125, 216, 343, 512, 729]\n",
      "1\n",
      "8\n",
      "27\n",
      "64\n"
     ]
    }
   ],
   "source": [
    "#for i in range(3,10,2):\n",
    "#    print(i)\n",
    "\n",
    "#print(range(1,10))\n",
    "\n",
    "def küpAl():\n",
    "    cevap = []\n",
    "    for i in range(1,10):\n",
    "        cevap.append(i**3)\n",
    "    return cevap\n",
    "\n",
    "print(küpAl())\n",
    "\n",
    "def küpAl():\n",
    "    for i in range(1,100):\n",
    "        yield i ** 3\n",
    "        \n",
    "generator = küpAl()\n",
    "iterator = iter(generator)\n",
    "print(next(iterator))\n",
    "print(next(iterator))\n",
    "print(next(iterator))\n",
    "print(next(iterator))\n",
    "\n"
   ]
  },
  {
   "cell_type": "markdown",
   "id": "eabd27d7",
   "metadata": {},
   "source": [
    "## Generator'lerde List Comprehension"
   ]
  },
  {
   "cell_type": "code",
   "execution_count": 16,
   "id": "2df7597b",
   "metadata": {},
   "outputs": [
    {
     "name": "stdout",
     "output_type": "stream",
     "text": [
      "[1, 8, 27, 64, 125, 216, 343, 512, 729]\n"
     ]
    }
   ],
   "source": [
    "liste = [i**3 for i in range(1,10)]\n",
    "print(liste)"
   ]
  },
  {
   "cell_type": "code",
   "execution_count": 17,
   "id": "c96532db",
   "metadata": {},
   "outputs": [
    {
     "name": "stdout",
     "output_type": "stream",
     "text": [
      "1\n",
      "8\n",
      "27\n",
      "64\n"
     ]
    }
   ],
   "source": [
    "generator1 = (i**3 for i in range(1,10))\n",
    "iterator1 = iter(generator1)\n",
    "print(next(iterator1))\n",
    "print(next(iterator1))\n",
    "print(next(iterator1))\n",
    "print(next(iterator1))"
   ]
  },
  {
   "cell_type": "code",
   "execution_count": null,
   "id": "1ade13c9",
   "metadata": {},
   "outputs": [],
   "source": []
  }
 ],
 "metadata": {
  "kernelspec": {
   "display_name": "Python 3 (ipykernel)",
   "language": "python",
   "name": "python3"
  },
  "language_info": {
   "codemirror_mode": {
    "name": "ipython",
    "version": 3
   },
   "file_extension": ".py",
   "mimetype": "text/x-python",
   "name": "python",
   "nbconvert_exporter": "python",
   "pygments_lexer": "ipython3",
   "version": "3.10.9"
  }
 },
 "nbformat": 4,
 "nbformat_minor": 5
}
