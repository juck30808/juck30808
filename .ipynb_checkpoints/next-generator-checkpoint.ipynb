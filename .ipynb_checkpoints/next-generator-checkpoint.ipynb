{
 "cells": [
  {
   "cell_type": "markdown",
   "id": "ff524b24",
   "metadata": {},
   "source": [
    "# Iterators in Python"
   ]
  },
  {
   "cell_type": "code",
   "execution_count": 1,
   "id": "c2e97986",
   "metadata": {},
   "outputs": [],
   "source": [
    "numbers = [10, 20, 30, 40, 50, 60, 70]\n",
    "\n",
    "new_iterator = iter(numbers)"
   ]
  },
  {
   "cell_type": "code",
   "execution_count": 2,
   "id": "83e5e778",
   "metadata": {},
   "outputs": [
    {
     "name": "stdout",
     "output_type": "stream",
     "text": [
      "10\n",
      "20\n",
      "30\n",
      "40\n",
      "50\n",
      "60\n"
     ]
    }
   ],
   "source": [
    "print(next(new_iterator))\n",
    "print(next(new_iterator))\n",
    "print(next(new_iterator))\n",
    "print(next(new_iterator))\n",
    "print(next(new_iterator))\n",
    "print(next(new_iterator))\n",
    "# print(next(new_iterator))"
   ]
  },
  {
   "cell_type": "code",
   "execution_count": 3,
   "id": "99e9c1d6",
   "metadata": {},
   "outputs": [
    {
     "name": "stdout",
     "output_type": "stream",
     "text": [
      "I\n",
      "t\n",
      "e\n",
      "r\n",
      "a\n",
      "t\n",
      "o\n",
      "r\n"
     ]
    }
   ],
   "source": [
    "seq = \"Iterator tutorial in python\"\n",
    "\n",
    "new_iterator = iter(seq)\n",
    "print(next(new_iterator))\n",
    "print(next(new_iterator))\n",
    "print(next(new_iterator))\n",
    "print(next(new_iterator))\n",
    "print(next(new_iterator))\n",
    "print(next(new_iterator))\n",
    "print(next(new_iterator))\n",
    "print(next(new_iterator))"
   ]
  },
  {
   "cell_type": "code",
   "execution_count": 4,
   "id": "d11cc2a7",
   "metadata": {},
   "outputs": [],
   "source": [
    "def new_iterator(n):\n",
    "    my_iterable = iter(n)\n",
    "    \n",
    "    while True:\n",
    "        try:\n",
    "            print(next(my_iterable))\n",
    "        except StopIteration:\n",
    "            break"
   ]
  },
  {
   "cell_type": "code",
   "execution_count": 5,
   "id": "611bcec2",
   "metadata": {},
   "outputs": [
    {
     "name": "stdout",
     "output_type": "stream",
     "text": [
      "10\n",
      "30\n",
      "50\n",
      "70\n"
     ]
    }
   ],
   "source": [
    "new_iterator([10, 30, 50, 70])\n",
    "#new_iterator((11, 12, 13, 14, 15))"
   ]
  },
  {
   "cell_type": "code",
   "execution_count": 6,
   "id": "cd33ffe5",
   "metadata": {},
   "outputs": [
    {
     "name": "stdout",
     "output_type": "stream",
     "text": [
      "A\n",
      " \n",
      "P\n",
      "o\n",
      "w\n",
      "e\n",
      "r\n",
      "f\n",
      "u\n",
      "l\n",
      " \n",
      "i\n",
      "t\n",
      "e\n",
      "r\n",
      "a\n",
      "t\n",
      "o\n",
      "r\n",
      "!\n"
     ]
    }
   ],
   "source": [
    "new_iterator(\"A Powerful iterator!\")"
   ]
  },
  {
   "cell_type": "code",
   "execution_count": 7,
   "id": "a5014b02",
   "metadata": {},
   "outputs": [],
   "source": [
    "# Building Iterator using OOP\n",
    "class Incrementing:\n",
    "    def __iter__(self):\n",
    "        self.count = 0\n",
    "        return self\n",
    "    \n",
    "    def __next__(self):\n",
    "        if self.count <= 15:\n",
    "            x = self.count\n",
    "            self.count = self.count + 1\n",
    "            return x\n",
    "        else:\n",
    "            raise StopIteration"
   ]
  },
  {
   "cell_type": "code",
   "execution_count": 8,
   "id": "cd4da055",
   "metadata": {},
   "outputs": [
    {
     "name": "stdout",
     "output_type": "stream",
     "text": [
      "0\n",
      "1\n",
      "2\n",
      "3\n",
      "4\n",
      "5\n",
      "6\n"
     ]
    }
   ],
   "source": [
    "new_obj = Incrementing()\n",
    "new_iter = iter(new_obj)\n",
    "\n",
    "print(next(new_iter))\n",
    "print(next(new_iter))\n",
    "print(next(new_iter))\n",
    "print(next(new_iter))\n",
    "print(next(new_iter))\n",
    "print(next(new_iter))\n",
    "print(next(new_iter))"
   ]
  },
  {
   "cell_type": "code",
   "execution_count": 9,
   "id": "1a7d9562",
   "metadata": {},
   "outputs": [
    {
     "name": "stdout",
     "output_type": "stream",
     "text": [
      "0\n",
      "1\n",
      "2\n",
      "3\n",
      "4\n",
      "5\n",
      "6\n",
      "7\n",
      "8\n",
      "9\n",
      "10\n",
      "11\n",
      "12\n",
      "13\n",
      "14\n",
      "15\n"
     ]
    }
   ],
   "source": [
    "for num in Incrementing():\n",
    "    print(num)"
   ]
  },
  {
   "cell_type": "code",
   "execution_count": 10,
   "id": "e7fba383",
   "metadata": {},
   "outputs": [
    {
     "name": "stdout",
     "output_type": "stream",
     "text": [
      "First Result\n",
      "20\n"
     ]
    },
    {
     "ename": "StopIteration",
     "evalue": "",
     "output_type": "error",
     "traceback": [
      "\u001b[0;31m---------------------------------------------------------------------------\u001b[0m",
      "\u001b[0;31mStopIteration\u001b[0m                             Traceback (most recent call last)",
      "\u001b[0;32m/var/folders/9q/486czkcn7lv5v0hwbt71twdc0000gn/T/ipykernel_33523/1863669680.py\u001b[0m in \u001b[0;36m<module>\u001b[0;34m\u001b[0m\n\u001b[1;32m     15\u001b[0m \u001b[0mgen1\u001b[0m \u001b[0;34m=\u001b[0m \u001b[0mnewGenerator\u001b[0m\u001b[0;34m(\u001b[0m\u001b[0;34m)\u001b[0m\u001b[0;34m\u001b[0m\u001b[0;34m\u001b[0m\u001b[0m\n\u001b[1;32m     16\u001b[0m \u001b[0mprint\u001b[0m\u001b[0;34m(\u001b[0m\u001b[0mnext\u001b[0m\u001b[0;34m(\u001b[0m\u001b[0mgen1\u001b[0m\u001b[0;34m)\u001b[0m\u001b[0;34m)\u001b[0m\u001b[0;34m\u001b[0m\u001b[0;34m\u001b[0m\u001b[0m\n\u001b[0;32m---> 17\u001b[0;31m \u001b[0mprint\u001b[0m\u001b[0;34m(\u001b[0m\u001b[0mnext\u001b[0m\u001b[0;34m(\u001b[0m\u001b[0mgen1\u001b[0m\u001b[0;34m)\u001b[0m\u001b[0;34m)\u001b[0m\u001b[0;34m\u001b[0m\u001b[0;34m\u001b[0m\u001b[0m\n\u001b[0m\u001b[1;32m     18\u001b[0m \u001b[0mprint\u001b[0m\u001b[0;34m(\u001b[0m\u001b[0mnext\u001b[0m\u001b[0;34m(\u001b[0m\u001b[0mgen1\u001b[0m\u001b[0;34m)\u001b[0m\u001b[0;34m)\u001b[0m\u001b[0;34m\u001b[0m\u001b[0;34m\u001b[0m\u001b[0m\n\u001b[1;32m     19\u001b[0m \u001b[0;34m\u001b[0m\u001b[0m\n",
      "\u001b[0;31mStopIteration\u001b[0m: "
     ]
    }
   ],
   "source": [
    "# Building a simple generator function.\n",
    "def newGenerator():\n",
    "    print(\"First Result\")\n",
    "    yield 20\n",
    "\n",
    "    return\n",
    "\n",
    "    print(\"Second Result\")\n",
    "    yield 40\n",
    "\n",
    "    print(\"Last Result\")\n",
    "    yield 60\n",
    "\n",
    "# return values for each yield\n",
    "gen1 = newGenerator()\n",
    "print(next(gen1)) \n",
    "print(next(gen1)) \n",
    "print(next(gen1)) \n",
    "\n"
   ]
  },
  {
   "cell_type": "code",
   "execution_count": null,
   "id": "e8a88845",
   "metadata": {},
   "outputs": [],
   "source": [
    "# Using generator with For Loop\n",
    "def upTo(i):\n",
    "    for x in range(i):\n",
    "        yield x\n",
    "\n",
    "\n",
    "# get a sequence up to \n",
    "newSeq = upTo(4)\n",
    "\n",
    "print(next(newSeq)) # 0\n",
    "print(next(newSeq)) # 1\n",
    "print(next(newSeq)) # 2\n",
    "print(next(newSeq)) # 3\n",
    "print(next(newSeq)) # StopIteration"
   ]
  },
  {
   "cell_type": "code",
   "execution_count": null,
   "id": "85cd5a46",
   "metadata": {},
   "outputs": [],
   "source": [
    "# Yielding the square of a number\n",
    "def squaredSequence(i):\n",
    "    for x in range(i):\n",
    "        yield x * x\n",
    "\n",
    "\n",
    "newGenera = squaredSequence(6)\n",
    "# while True:\n",
    "#     try:\n",
    "#         print(\"Received on next(): \", next(newGenera))\n",
    "#     except StopIteration:\n",
    "#         break\n",
    "for square in newGenera:\n",
    "    print(square)\n"
   ]
  },
  {
   "cell_type": "code",
   "execution_count": null,
   "id": "141e5487",
   "metadata": {},
   "outputs": [],
   "source": [
    "# short way to create a generator function using expression\n",
    "# squared = (i * i for i in range(4))\n",
    "\n",
    "# print(next(squared))\n",
    "# print(next(squared))\n",
    "# print(next(squared))\n",
    "# print(next(squared))\n",
    "# print(next(squared))\n",
    "\n",
    "# generator expression passed in a function\n",
    "import math\n",
    "print(sum(y * y for y in range(3)))"
   ]
  },
  {
   "cell_type": "markdown",
   "id": "36126e60",
   "metadata": {},
   "source": [
    "## Iterator"
   ]
  },
  {
   "cell_type": "code",
   "execution_count": null,
   "id": "0dc135a1",
   "metadata": {},
   "outputs": [],
   "source": [
    "# Iterator from a fruits tuple and print values\n",
    "fruitstup = (\"Lemon\", \"Orange\", \"Banana\")\n",
    "newit = iter(fruitstup)\n",
    "\n",
    "# Printing each value from fruitstup\n",
    "print(next(newit))  # Lemon\n",
    "print(next(newit))  # Orange\n",
    "print(next(newit))  # Banana"
   ]
  },
  {
   "cell_type": "code",
   "execution_count": null,
   "id": "f22c0962",
   "metadata": {},
   "outputs": [],
   "source": [
    "# iterator from a fruit string and print characters\n",
    "fruitstr = \"Orange\"\n",
    "newit = iter(fruitstr)\n",
    "\n",
    "print(next(newit)) # O\n",
    "print(next(newit)) # r\n",
    "print(next(newit)) # a\n",
    "print(next(newit)) # n\n",
    "print(next(newit)) # g\n",
    "print(next(newit)) # e"
   ]
  },
  {
   "cell_type": "code",
   "execution_count": null,
   "id": "3bdf1265",
   "metadata": {},
   "outputs": [],
   "source": [
    "# Iterator from a fruits tuple and print values\n",
    "# fruitstup = (\"Lemon\", \"Orange\", \"Banana\")\n",
    "\n",
    "# # loop to iterate through fruitstup \n",
    "# for i in fruitstup:\n",
    "#     print(i)\n",
    "\n",
    "\n",
    "# iterator from a fruit string and print characters\n",
    "fruitstr = \"Orange\"\n",
    "\n",
    "# loop to iterate through fruitstup\n",
    "for i in fruitstr:\n",
    "    print(i)"
   ]
  },
  {
   "cell_type": "code",
   "execution_count": null,
   "id": "fb3ced29",
   "metadata": {},
   "outputs": [],
   "source": [
    "# Build iterator to return numbers, start from 1, and +1 each sequence\n",
    "class NewNumbers:\n",
    "    def __iter__(self):\n",
    "        self.a = 1\n",
    "        return self\n",
    "    def __next__(self):\n",
    "        x = self.a\n",
    "        self.a += 1\n",
    "        return x\n",
    "\n",
    "# Create Object based on NewNumbers class\n",
    "newclass = NewNumbers()\n",
    "newiter = iter(newclass)\n",
    "\n",
    "# Iterate over numbers\n",
    "print(next(newiter))\n",
    "print(next(newiter))\n",
    "print(next(newiter))\n",
    "print(next(newiter))\n",
    "print(next(newiter))\n",
    "print(next(newiter))\n",
    "print(next(newiter))"
   ]
  },
  {
   "cell_type": "code",
   "execution_count": null,
   "id": "afea1a4e",
   "metadata": {},
   "outputs": [],
   "source": [
    "# Build iterator to return numbers, start from 1, and +1 each sequence\n",
    "class NewNumbers:\n",
    "    def __iter__(self):\n",
    "        self.a = 1\n",
    "        return self\n",
    "    def __next__(self):\n",
    "        if self.a <= 17:\n",
    "            x = self.a\n",
    "            self.a += 1\n",
    "            return x\n",
    "        else:\n",
    "            raise StopIteration\n",
    "\n",
    "# Create Object based on NewNumbers class\n",
    "newclass = NewNumbers()\n",
    "newiter = iter(newclass)\n",
    "\n",
    "# Displaying values one by one\n",
    "# for x in newiter:\n",
    "#     print(x)\n",
    "print(next(newiter))\n",
    "print(next(newiter))\n",
    "print(next(newiter))\n",
    "print(next(newiter))\n",
    "print(next(newiter))\n",
    "print(next(newiter))\n",
    "print(next(newiter))\n",
    "print(next(newiter))\n",
    "print(next(newiter))\n",
    "print(next(newiter))\n",
    "print(next(newiter))\n",
    "print(next(newiter))\n",
    "print(next(newiter))\n",
    "print(next(newiter))\n",
    "print(next(newiter))\n",
    "print(next(newiter))\n",
    "print(next(newiter))\n",
    "print(next(newiter))\n"
   ]
  },
  {
   "cell_type": "code",
   "execution_count": null,
   "id": "a9a2e925",
   "metadata": {},
   "outputs": [],
   "source": [
    "# Generadores\n",
    "# Es una función especial, retorna una secuencia de valores\n",
    "# suspende la ejecución de la función yield (producir) (no se usar return)\n",
    "def generador():\n",
    "    yield 1\n",
    "    print('Se reanuda la ejecución')\n",
    "    yield 2\n",
    "    print('Se reanuda la ejecución')\n",
    "    yield 3\n",
    "\n",
    "# Consumimos el generador a demanda\n",
    "gen = generador()\n",
    "# Con cada llamada consumimos un valor\n",
    "print(next(gen))\n",
    "print(next(gen))\n",
    "print(next(gen))\n",
    "# Si tratamos de consumir más valores de los que produce el generador\n",
    "# lanza un error de StopIteration\n",
    "# print(next(gen))\n",
    "\n",
    "# Consumiendo los valores del generador con un ciclo for\n",
    "for valor in generador():\n",
    "    print(f'Número generado: {valor}')"
   ]
  },
  {
   "cell_type": "code",
   "execution_count": null,
   "id": "77c7dd24",
   "metadata": {},
   "outputs": [],
   "source": [
    "# Generador de números del 1 al 5\n",
    "def generador_numeros():\n",
    "    for numero in range(1,6):\n",
    "        yield numero\n",
    "        print('Se reanuda la ejecución de la función')\n",
    "\n",
    "# Utilizamos el generador\n",
    "generador = generador_numeros()\n",
    "print(f'Objeto generador: {generador}')\n",
    "print(type(generador))\n",
    "\n",
    "# Consumimos los valores del generador\n",
    "for valor in generador:\n",
    "    print(f'Número producido: {valor}')\n",
    "\n",
    "# Consumir a demanda\n",
    "generador = generador_numeros()\n",
    "try:\n",
    "    print(f'consumimos a demanda: {next(generador)}')\n",
    "    print(f'consumimos a demanda: {next(generador)}')\n",
    "    print(f'consumimos a demanda: {next(generador)}')\n",
    "    print(f'consumimos a demanda: {next(generador)}')\n",
    "    print(f'consumimos a demanda: {next(generador)}')\n",
    "    print(f'consumimos a demanda: {next(generador)}')\n",
    "except StopIteration as e:\n",
    "    print(f'Error al consumir generador {e}')\n",
    "\n",
    "# Otra forma de consumir un generador\n",
    "generador = generador_numeros()\n",
    "while True:\n",
    "    try:\n",
    "        valor = next(generador)\n",
    "        print(f'Impresión valor generado: {valor}')\n",
    "    except StopIteration as e:\n",
    "        print('Se terminó de iterar el generador')\n",
    "        break"
   ]
  },
  {
   "cell_type": "code",
   "execution_count": null,
   "id": "7b793d5c",
   "metadata": {
    "scrolled": true
   },
   "outputs": [],
   "source": [
    "# Expresión generadora (es un generador anónimo)\n",
    "multiplicacion = (valor*valor for valor in range(4))\n",
    "print(type(multiplicacion))\n",
    "print(next(multiplicacion))\n",
    "print(next(multiplicacion))\n",
    "print(next(multiplicacion))\n",
    "print(next(multiplicacion))\n",
    "# print(next(multiplicacion))\n",
    "\n",
    "# También se puede pasar una expresión generadora a una función (sin paréntesis)\n",
    "import math\n",
    "suma = sum(valor*valor for valor in range(4))\n",
    "print(f'Resultado suma: {suma}')\n",
    "\n",
    "# También podemos usar una lista o cualquier otro iterador\n",
    "lista = ['Juan','Perez']\n",
    "generador = (valor for valor in lista)\n",
    "print(next(generador))\n",
    "print(next(generador))\n",
    "\n",
    "# Crear un string a partir de un generador creado a partir de una lista\n",
    "lista = ['Karla','Gomez', 22]\n",
    "contador = 0\n",
    "# Definimos una función para incrementar el contador\n",
    "def incremetar():\n",
    "    global contador\n",
    "    contador += 1\n",
    "    return contador\n",
    "# La primera para es el yield, la segunda es el for, entre paréntesis\n",
    "generador = (f'{incremetar()}. {nombre}' for nombre in lista)\n",
    "lista = list(generador)\n",
    "print(lista)\n",
    "cadena = ', '.join(lista)\n",
    "print(f'Cadena generada: {cadena}')\n",
    "\n",
    "\n"
   ]
  },
  {
   "cell_type": "code",
   "execution_count": null,
   "id": "c61c7ba7",
   "metadata": {},
   "outputs": [],
   "source": [
    "class Counter:\n",
    "    def __init__(self,start,stop):\n",
    "        self.start = start\n",
    "        self.stop = stop\n",
    "\n",
    "    def __iter__(self):\n",
    "        return self\n",
    "\n",
    "    def __next__(self):\n",
    "        if self.start <= self.stop:\n",
    "            x = self.start\n",
    "            self.start += 1\n",
    "            return x\n",
    "        else:\n",
    "            raise StopIteration\n",
    "\n",
    "\n",
    "# for i in Counter(10,20):\n",
    "#     print(i)\n",
    "\n",
    "iterator = iter(Counter(20,30))\n",
    "\n",
    "while True:\n",
    "    try:\n",
    "        print(next(iterator))\n",
    "    except StopIteration:\n",
    "        break"
   ]
  },
  {
   "cell_type": "code",
   "execution_count": null,
   "id": "12642019",
   "metadata": {},
   "outputs": [],
   "source": [
    "def sayi_say(max):\n",
    "    sayi = 1    \n",
    "    while sayi <= max:\n",
    "        yield sayi\n",
    "        sayi += 1\n",
    "\n",
    "iterator = sayi_say(10)\n",
    "\n",
    "# print(help(generator))\n",
    "\n",
    "# print(next(iterator))\n",
    "# print(next(iterator))\n",
    "\n",
    "# for i in iterator:\n",
    "#     print(i)\n",
    "\n",
    "# sonuc = list(iterator)\n",
    "\n",
    "\n",
    "generator = (i for i in range(1,11))\n",
    "\n",
    "print(next(generator))\n",
    "print(next(generator))"
   ]
  },
  {
   "cell_type": "markdown",
   "id": "d3a77913",
   "metadata": {},
   "source": [
    "## Generator\""
   ]
  },
  {
   "cell_type": "code",
   "execution_count": null,
   "id": "e8a739be",
   "metadata": {},
   "outputs": [],
   "source": [
    "def new_generator():\n",
    "    x = 0\n",
    "    print(\"Our first point here\")\n",
    "    yield x\n",
    "    x += 1\n",
    "    print(\"Our second point here\")\n",
    "    yield x\n",
    "    x += 1\n",
    "    print(\"Our third point here\")\n",
    "    yield x"
   ]
  },
  {
   "cell_type": "code",
   "execution_count": null,
   "id": "c21e8ed2",
   "metadata": {},
   "outputs": [],
   "source": [
    "new_ob = new_generator()"
   ]
  },
  {
   "cell_type": "code",
   "execution_count": null,
   "id": "02b6c72c",
   "metadata": {},
   "outputs": [],
   "source": [
    "print(new_ob)"
   ]
  },
  {
   "cell_type": "code",
   "execution_count": null,
   "id": "24a48154",
   "metadata": {},
   "outputs": [],
   "source": [
    "print(f\"The value of x is {next(new_ob)}\")\n",
    "print(f\"The value of x is {next(new_ob)}\")\n",
    "print(f\"The value of x is {next(new_ob)}\")"
   ]
  },
  {
   "cell_type": "code",
   "execution_count": null,
   "id": "d4a4ae49",
   "metadata": {},
   "outputs": [],
   "source": [
    "print(f\"The value of x is {next(new_ob)}\")"
   ]
  },
  {
   "cell_type": "code",
   "execution_count": null,
   "id": "6605e873",
   "metadata": {},
   "outputs": [],
   "source": [
    "for i in new_ob:\n",
    "    print(f\"The value of x is {i}\")"
   ]
  },
  {
   "cell_type": "code",
   "execution_count": null,
   "id": "c07399e4",
   "metadata": {},
   "outputs": [],
   "source": [
    "# Use generator expression\n",
    "new_list = [i * i for i in range(0, 12)]  # Using list comprehension\n",
    "new_generator = (i * i for i in range(0, 12))\n",
    "\n",
    "print(new_list)\n",
    "print(new_generator)"
   ]
  },
  {
   "cell_type": "code",
   "execution_count": null,
   "id": "dfe573f2",
   "metadata": {},
   "outputs": [],
   "source": [
    "for num in new_generator:\n",
    "    print(num)"
   ]
  },
  {
   "cell_type": "code",
   "execution_count": null,
   "id": "8fdc29e2",
   "metadata": {},
   "outputs": [],
   "source": [
    "def new_generator():\n",
    "    x = 0\n",
    "    print(\"Our first point here\")\n",
    "    yield x\n",
    "    x += 1\n",
    "    print(\"Our second point here\")\n",
    "    yield x\n",
    "    x += 1\n",
    "    print(\"Our third point here\")\n",
    "    yield x\n",
    "\n",
    "new_ob = new_generator()\n",
    "\n",
    "print(new_ob)\n",
    "\n",
    "print(f\"The value of x is {next(new_ob)}\")\n",
    "print(f\"The value of x is {next(new_ob)}\")\n",
    "print(f\"The value of x is {next(new_ob)}\")\n",
    "\n",
    "print(f\"The value of x is {next(new_ob)}\")\n",
    "\n",
    "for i in new_ob:\n",
    "    print(f\"The value of x is {i}\")\n",
    "\n",
    "# Use generator expression\n",
    "new_list = [i * i for i in range(0, 12)]  # Using list comprehension\n",
    "new_generator = (i * i for i in range(0, 12))\n",
    "\n",
    "print(new_list)\n",
    "print(new_generator)\n",
    "\n",
    "for num in new_generator:\n",
    "    print(num)"
   ]
  },
  {
   "cell_type": "markdown",
   "id": "7fb1ced4",
   "metadata": {},
   "source": [
    "# 2. Generator"
   ]
  },
  {
   "cell_type": "markdown",
   "id": "60ae3b94",
   "metadata": {},
   "source": [
    "## 2.1 Nedir?"
   ]
  },
  {
   "cell_type": "code",
   "execution_count": null,
   "id": "408e2e5c",
   "metadata": {},
   "outputs": [],
   "source": [
    "#for i in range(3,10,2):\n",
    "#    print(i)\n",
    "\n",
    "#print(range(1,10))\n",
    "\n",
    "def küpAl():\n",
    "    cevap = []\n",
    "    for i in range(1,10):\n",
    "        cevap.append(i**3)\n",
    "    return cevap\n",
    "\n",
    "print(küpAl())\n",
    "\n",
    "def küpAl():\n",
    "    for i in range(1,10):\n",
    "        yield i ** 3\n",
    "        \n",
    "generator = küpAl()\n",
    "iterator = iter(generator)\n",
    "print(next(iterator))\n",
    "print(next(iterator))\n",
    "print(next(iterator))\n",
    "print(next(iterator))\n"
   ]
  },
  {
   "cell_type": "markdown",
   "id": "241c193b",
   "metadata": {},
   "source": [
    "## 2.2 Generator'lerde List Comprehension"
   ]
  },
  {
   "cell_type": "code",
   "execution_count": null,
   "id": "bfb0dac1",
   "metadata": {},
   "outputs": [],
   "source": [
    "liste = [i**3 for i in range(1,10)]\n",
    "print(liste)\n"
   ]
  },
  {
   "cell_type": "code",
   "execution_count": null,
   "id": "71e601df",
   "metadata": {},
   "outputs": [],
   "source": [
    "generator1 = (i**3 for i in range(1,10))\n",
    "iterator1 = iter(generator1)\n",
    "print(next(iterator1))\n",
    "print(next(iterator1))\n",
    "print(next(iterator1))\n",
    "print(next(iterator1))"
   ]
  }
 ],
 "metadata": {
  "kernelspec": {
   "display_name": "Python 3 (ipykernel)",
   "language": "python",
   "name": "python3"
  },
  "language_info": {
   "codemirror_mode": {
    "name": "ipython",
    "version": 3
   },
   "file_extension": ".py",
   "mimetype": "text/x-python",
   "name": "python",
   "nbconvert_exporter": "python",
   "pygments_lexer": "ipython3",
   "version": "3.9.7"
  }
 },
 "nbformat": 4,
 "nbformat_minor": 5
}
