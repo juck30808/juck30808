{
 "cells": [
  {
   "cell_type": "code",
   "execution_count": 1,
   "id": "6760db4e",
   "metadata": {},
   "outputs": [],
   "source": [
    "#!pip install pulp"
   ]
  },
  {
   "cell_type": "code",
   "execution_count": 2,
   "id": "5881bce7",
   "metadata": {},
   "outputs": [
    {
     "ename": "ModuleNotFoundError",
     "evalue": "No module named 'pulp'",
     "output_type": "error",
     "traceback": [
      "\u001b[0;31m---------------------------------------------------------------------------\u001b[0m",
      "\u001b[0;31mModuleNotFoundError\u001b[0m                       Traceback (most recent call last)",
      "\u001b[0;32m/var/folders/9q/486czkcn7lv5v0hwbt71twdc0000gn/T/ipykernel_2859/3336047200.py\u001b[0m in \u001b[0;36m<module>\u001b[0;34m\u001b[0m\n\u001b[0;32m----> 1\u001b[0;31m \u001b[0;32mfrom\u001b[0m \u001b[0mpulp\u001b[0m \u001b[0;32mimport\u001b[0m \u001b[0;34m*\u001b[0m\u001b[0;34m\u001b[0m\u001b[0;34m\u001b[0m\u001b[0m\n\u001b[0m\u001b[1;32m      2\u001b[0m \u001b[0;34m\u001b[0m\u001b[0m\n\u001b[1;32m      3\u001b[0m \u001b[0mproduct1\u001b[0m\u001b[0;34m=\u001b[0m \u001b[0;36m25\u001b[0m\u001b[0;34m\u001b[0m\u001b[0;34m\u001b[0m\u001b[0m\n\u001b[1;32m      4\u001b[0m \u001b[0mproduct2\u001b[0m\u001b[0;34m=\u001b[0m\u001b[0;36m35\u001b[0m\u001b[0;34m\u001b[0m\u001b[0;34m\u001b[0m\u001b[0m\n\u001b[1;32m      5\u001b[0m \u001b[0;34m\u001b[0m\u001b[0m\n",
      "\u001b[0;31mModuleNotFoundError\u001b[0m: No module named 'pulp'"
     ]
    }
   ],
   "source": [
    "from pulp import *\n",
    "\n",
    "product1= 25\n",
    "product2=35\n",
    "\n",
    "## 25 kg of feather\n",
    "## 35 for cotton\n",
    "\n",
    "## it takes 0.3 k f and 0.5 k c to make x1\n",
    "## it takes 0.5 k f and 0.5 k c to make x2\n",
    "\n",
    "model = LpProblem('PILLOWS',LpMaximize)\n",
    "\n",
    "X1= LpVariable('X1',0,None,'Integer')\n",
    "X2= LpVariable('X2',0,None,'Integer')\n",
    "\n",
    "##define our objeective function\n",
    "\n",
    "model += X1 *25 +X2 *35\n",
    "\n",
    "model += X1* 0.3 +X2 * 0.5 <= 20\n",
    "model += X1* 0.5 +X2 * 0.5 <= 35\n",
    "\n",
    "model.solve()\n",
    "\n",
    "X1.varValue\n",
    "X2.varValue\n",
    "\n",
    "\n",
    "\n",
    "\n",
    "import pandas as pd\n",
    "from pulp import *\n",
    "\n",
    "param=pd.read_excel('input/Production_scheduling.xlsx')\n",
    "\n",
    "\n",
    "param=param.rename(columns={'Unnamed: 0': 'period'} )\n",
    "param['Capacity']=5000\n",
    "param['t']= range(1,13)\n",
    "\n",
    "param= param.set_index('t')\n",
    "\n",
    "inventory= LpVariable.dicts('inv',[0,1,2,3,4,5,6,7,8,9,10,11,12],0,None,'Integer')\n",
    "inventory[0]= 200\n",
    "\n",
    "production=LpVariable.dicts('Prod',[1,2,3,4,5,6,7,8,9,10,11,12],0,None,'Integer')\n",
    "binary= LpVariable.dicts('binary',[1,2,3,4,5,6,7,8,9,10,11,12],0,None,'Binary')\n",
    "\n",
    "time= [1,2,3,4,5,6,7,8,9,10,11,12]\n",
    "\n",
    "\n",
    "model= LpProblem('Production',LpMinimize)\n",
    "model += lpSum([ inventory[t]* param.loc[t,'storage cost']+ production[t]* param.loc[t,'var']+\n",
    "                binary[t]* param.loc[t,'fixed cost'] for t in time])\n",
    "\n",
    "\n",
    "for t in time:\n",
    "    model+=  production[t]  -  inventory[t]+ inventory[t-1]>= param.loc[t,'demand']\n",
    "    model +=   production[t]<=        binary[t]* param.loc[t,'Capacity']\n",
    "    \n",
    "model.solve()    \n",
    "for v in model.variables():\n",
    "    print(v,v.varValue)\n",
    "\n",
    "for i in production: print(production[i],production[i].varValue)"
   ]
  },
  {
   "cell_type": "code",
   "execution_count": null,
   "id": "40bfc18d",
   "metadata": {},
   "outputs": [],
   "source": []
  }
 ],
 "metadata": {
  "kernelspec": {
   "display_name": "Python 3 (ipykernel)",
   "language": "python",
   "name": "python3"
  },
  "language_info": {
   "codemirror_mode": {
    "name": "ipython",
    "version": 3
   },
   "file_extension": ".py",
   "mimetype": "text/x-python",
   "name": "python",
   "nbconvert_exporter": "python",
   "pygments_lexer": "ipython3",
   "version": "3.9.7"
  }
 },
 "nbformat": 4,
 "nbformat_minor": 5
}
