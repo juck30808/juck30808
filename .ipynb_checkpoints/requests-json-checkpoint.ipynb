{
 "cells": [
  {
   "cell_type": "code",
   "execution_count": 2,
   "metadata": {},
   "outputs": [
    {
     "data": {
      "text/plain": [
       "<Response [200]>"
      ]
     },
     "execution_count": 2,
     "metadata": {},
     "output_type": "execute_result"
    }
   ],
   "source": [
    "import requests\n",
    "import json\n",
    "\n",
    "response = requests.get(\"https://jsonplaceholder.typicode.com/todos\")\n",
    "response"
   ]
  },
  {
   "cell_type": "code",
   "execution_count": 1,
   "metadata": {},
   "outputs": [
    {
     "name": "stdout",
     "output_type": "stream",
     "text": [
      "delectus aut autem\n",
      "quis ut nam facilis et officia qui\n",
      "fugiat veniam minus\n",
      "et porro tempora\n",
      "laboriosam mollitia et enim quasi adipisci quia provident illum\n",
      "qui ullam ratione quibusdam voluptatem quia omnis\n",
      "illo expedita consequatur quia in\n",
      "quo adipisci enim quam ut ab\n",
      "molestiae perspiciatis ipsa\n",
      "illo est ratione doloremque quia maiores aut\n",
      "vero rerum temporibus dolor\n",
      "ipsa repellendus fugit nisi\n",
      "et doloremque nulla\n",
      "repellendus sunt dolores architecto voluptatum\n",
      "ab voluptatum amet voluptas\n",
      "accusamus eos facilis sint et aut voluptatem\n",
      "quo laboriosam deleniti aut qui\n",
      "dolorum est consequatur ea mollitia in culpa\n",
      "molestiae ipsa aut voluptatibus pariatur dolor nihil\n",
      "ullam nobis libero sapiente ad optio sint\n",
      "delectus aut autem\n"
     ]
    }
   ],
   "source": [
    "import requests\n",
    "import json\n",
    "\n",
    "response = requests.get(\"https://jsonplaceholder.typicode.com/todos\")\n",
    "\n",
    "sonuc = response\n",
    "sonuc = type(response)\n",
    "sonuc = response.status_code\n",
    "sonuc = response.headers\n",
    "sonuc = response.headers[\"Content-Type\"]\n",
    "sonuc = response.url\n",
    "sonuc = response.encoding\n",
    "sonuc = response.text\n",
    "todos = json.loads(response.text)\n",
    "sonuc = todos[0][\"title\"]\n",
    "\n",
    "for item in todos:\n",
    "    if (item[\"userId\"]==1):\n",
    "        print(item[\"title\"])\n",
    "\n",
    "print(sonuc)"
   ]
  },
  {
   "cell_type": "code",
   "execution_count": null,
   "metadata": {},
   "outputs": [],
   "source": []
  }
 ],
 "metadata": {
  "kernelspec": {
   "display_name": "Python 3 (ipykernel)",
   "language": "python",
   "name": "python3"
  },
  "language_info": {
   "codemirror_mode": {
    "name": "ipython",
    "version": 3
   },
   "file_extension": ".py",
   "mimetype": "text/x-python",
   "name": "python",
   "nbconvert_exporter": "python",
   "pygments_lexer": "ipython3",
   "version": "3.9.7"
  }
 },
 "nbformat": 4,
 "nbformat_minor": 4
}
