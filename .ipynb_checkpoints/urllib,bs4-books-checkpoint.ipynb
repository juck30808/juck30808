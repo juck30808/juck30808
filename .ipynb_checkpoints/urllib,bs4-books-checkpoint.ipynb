{
 "cells": [
  {
   "cell_type": "markdown",
   "metadata": {},
   "source": [
    "## Urllib"
   ]
  },
  {
   "cell_type": "markdown",
   "metadata": {},
   "source": [
    "# WebCrawler_books\n",
    "## 博客來書店\n",
    "https://search.books.com.tw/search/query/key/python/cat/all"
   ]
  },
  {
   "cell_type": "code",
   "execution_count": 1,
   "metadata": {},
   "outputs": [
    {
     "name": "stdout",
     "output_type": "stream",
     "text": [
      "Enter your keyword:Python\n",
      "40\n"
     ]
    },
    {
     "data": {
      "text/plain": [
       "[('//search.books.com.tw/redirect/move/key/Python/area/mid/item/0010867440/page/1/idx/1/cat/001/pdf/1',\n",
       "  'Python 自動化的樂趣：搞定重複瑣碎&單調無聊的工作(第二版)',\n",
       "  'Al Sweigart',\n",
       "  '537'),\n",
       " ('//search.books.com.tw/redirect/move/key/Python/area/mid/item/0010858475/page/1/idx/2/cat/001/pdf/1',\n",
       "  '精通 Python：運用簡單的套件進行現代運算(第二版)',\n",
       "  'Bill Lubanovic',\n",
       "  '695'),\n",
       " ('//search.books.com.tw/redirect/move/key/Python/area/mid/item/0010869590/page/1/idx/3/cat/001/pdf/1',\n",
       "  'Python最強入門邁向頂尖高手之路：王者歸來(第二版)全彩版',\n",
       "  '洪錦魁',\n",
       "  '853'),\n",
       " ('//search.books.com.tw/redirect/move/key/Python/area/mid/item/0010876198/page/1/idx/4/cat/001/pdf/1',\n",
       "  '跨領域學 Python：資料科學基礎養成',\n",
       "  '施威銘研究室',\n",
       "  '379'),\n",
       " ('//search.books.com.tw/redirect/move/key/Python/area/mid/item/0010863623/page/1/idx/5/cat/001/pdf/1',\n",
       "  'Python初學特訓班(第四版)：從快速入門到主流應用全面實戰(附250分鐘影音教學/範例程式)',\n",
       "  '文淵閣工作室',\n",
       "  '379'),\n",
       " ('//search.books.com.tw/redirect/move/key/Python/area/mid/item/0010877656/page/1/idx/6/cat/001/pdf/1',\n",
       "  'Python 從網路爬蟲到生活應用超實務：人工智慧世代必備的資料擷取術',\n",
       "  '陳會安',\n",
       "  '558'),\n",
       " ('//search.books.com.tw/redirect/move/key/Python/area/mid/item/0010870722/page/1/idx/7/cat/001/pdf/1',\n",
       "  'Python機器學習超進化：AI影像辨識跨界應用實戰(附100分鐘影像處理入門影音教學/範例程式)',\n",
       "  '文淵閣工作室',\n",
       "  '356'),\n",
       " ('//search.books.com.tw/redirect/move/key/Python/area/mid/item/0010851019/page/1/idx/8/cat/001/pdf/1',\n",
       "  'Python自學聖經：從程式素人到開發強者的技術與實戰大全!(附影音/範例程式)',\n",
       "  '文淵閣工作室',\n",
       "  '695'),\n",
       " ('//search.books.com.tw/redirect/move/key/Python/area/mid/item/0010859289/page/1/idx/9/cat/001/pdf/1',\n",
       "  'Python大數據特訓班(第二版)：資料自動化收集、整理、清洗、儲存、分析與應用實戰(附300分鐘影音教學/範例程式)',\n",
       "  '文淵閣工作室',\n",
       "  '411'),\n",
       " ('//search.books.com.tw/redirect/move/key/Python/area/mid/item/0010869464/page/1/idx/10/cat/001/pdf/1',\n",
       "  'Python程式交易應用與實作：從零開始!自動化投資實戰指南',\n",
       "  '劉承彥',\n",
       "  '395'),\n",
       " ('//search.books.com.tw/redirect/move/key/Python/area/mid/item/0010879493/page/1/idx/11/cat/001/pdf/1',\n",
       "  '零基礎入門的機器學習圖鑑：2大類機器學習╳ 17種演算法 ╳ Python基礎教學，讓你輕鬆學以致用',\n",
       "  '寺田學',\n",
       "  '356'),\n",
       " ('//search.books.com.tw/redirect/move/key/Python/area/mid/item/0010877639/page/1/idx/12/cat/001/pdf/1',\n",
       "  'Effective Python中文版：寫出良好Python程式的90個具體做法(第二版)',\n",
       "  'Brett Slatkin',\n",
       "  '458'),\n",
       " ('//search.books.com.tw/redirect/move/key/Python/area/mid/item/0010874725/page/1/idx/13/cat/001/pdf/1',\n",
       "  'Python零基礎學程式設計與運算思維：王者歸來 (第二版)',\n",
       "  '洪錦魁',\n",
       "  '537'),\n",
       " ('//search.books.com.tw/redirect/move/key/Python/area/mid/item/0010857799/page/1/idx/14/cat/001/pdf/1',\n",
       "  '深度學習的數學地圖：用 Python 實作神經網路的數學模型(附數學快查學習地圖)',\n",
       "  'Masanori Akaishi',\n",
       "  '551'),\n",
       " ('//search.books.com.tw/redirect/move/key/Python/area/mid/item/0010866777/page/1/idx/15/cat/001/pdf/1',\n",
       "  '機器學習：彩色圖解 + 基礎數學篇 + Python實作 王者歸來(全彩)',\n",
       "  '洪錦魁',\n",
       "  '435'),\n",
       " ('//search.books.com.tw/redirect/move/key/Python/area/mid/item/0010852573/page/1/idx/16/cat/001/pdf/1',\n",
       "  '演算法：最強彩色圖鑑 + Python程式實作 王者歸來(全彩印刷)',\n",
       "  '洪錦魁',\n",
       "  '537'),\n",
       " ('//search.books.com.tw/redirect/move/key/Python/area/mid/item/0010879153/page/1/idx/17/cat/001/pdf/1',\n",
       "  'LINE Bot by Python 全攻略：從Heroku到AWS跨平台實踐(iT邦幫忙鐵人賽系列書)',\n",
       "  '饒孟桓',\n",
       "  '484'),\n",
       " ('//search.books.com.tw/redirect/move/key/Python/area/mid/item/0010836667/page/1/idx/18/cat/001/pdf/1',\n",
       "  'Python網路爬蟲：大數據擷取、清洗、儲存與分析：王者歸來',\n",
       "  '洪錦魁',\n",
       "  '514'),\n",
       " ('//search.books.com.tw/redirect/move/key/Python/area/mid/item/0010869555/page/1/idx/19/cat/001/pdf/1',\n",
       "  'Python機器學習第三版(上)',\n",
       "  'Sebastian Raschka',\n",
       "  '490'),\n",
       " ('//search.books.com.tw/redirect/move/key/Python/area/mid/item/0010877962/page/1/idx/20/cat/001/pdf/1',\n",
       "  'Python零基礎入門班(含MTA Python國際認證模擬試題)(第二版)',\n",
       "  '文淵閣工作室',\n",
       "  '332'),\n",
       " ('//search.books.com.tw/redirect/move/key/Python/area/mid/item/0010867440/page/1/idx/1/cat/001/pdf/1',\n",
       "  'Python 自動化的樂趣：搞定重複瑣碎&單調無聊的工作(第二版)',\n",
       "  'Al Sweigart',\n",
       "  '537'),\n",
       " ('//search.books.com.tw/redirect/move/key/Python/area/mid/item/0010858475/page/1/idx/2/cat/001/pdf/1',\n",
       "  '精通 Python：運用簡單的套件進行現代運算(第二版)',\n",
       "  'Bill Lubanovic',\n",
       "  '695'),\n",
       " ('//search.books.com.tw/redirect/move/key/Python/area/mid/item/0010869590/page/1/idx/3/cat/001/pdf/1',\n",
       "  'Python最強入門邁向頂尖高手之路：王者歸來(第二版)全彩版',\n",
       "  '洪錦魁',\n",
       "  '853'),\n",
       " ('//search.books.com.tw/redirect/move/key/Python/area/mid/item/0010876198/page/1/idx/4/cat/001/pdf/1',\n",
       "  '跨領域學 Python：資料科學基礎養成',\n",
       "  '施威銘研究室',\n",
       "  '379'),\n",
       " ('//search.books.com.tw/redirect/move/key/Python/area/mid/item/0010863623/page/1/idx/5/cat/001/pdf/1',\n",
       "  'Python初學特訓班(第四版)：從快速入門到主流應用全面實戰(附250分鐘影音教學/範例程式)',\n",
       "  '文淵閣工作室',\n",
       "  '379'),\n",
       " ('//search.books.com.tw/redirect/move/key/Python/area/mid/item/0010877656/page/1/idx/6/cat/001/pdf/1',\n",
       "  'Python 從網路爬蟲到生活應用超實務：人工智慧世代必備的資料擷取術',\n",
       "  '陳會安',\n",
       "  '558'),\n",
       " ('//search.books.com.tw/redirect/move/key/Python/area/mid/item/0010870722/page/1/idx/7/cat/001/pdf/1',\n",
       "  'Python機器學習超進化：AI影像辨識跨界應用實戰(附100分鐘影像處理入門影音教學/範例程式)',\n",
       "  '文淵閣工作室',\n",
       "  '356'),\n",
       " ('//search.books.com.tw/redirect/move/key/Python/area/mid/item/0010851019/page/1/idx/8/cat/001/pdf/1',\n",
       "  'Python自學聖經：從程式素人到開發強者的技術與實戰大全!(附影音/範例程式)',\n",
       "  '文淵閣工作室',\n",
       "  '695'),\n",
       " ('//search.books.com.tw/redirect/move/key/Python/area/mid/item/0010859289/page/1/idx/9/cat/001/pdf/1',\n",
       "  'Python大數據特訓班(第二版)：資料自動化收集、整理、清洗、儲存、分析與應用實戰(附300分鐘影音教學/範例程式)',\n",
       "  '文淵閣工作室',\n",
       "  '411'),\n",
       " ('//search.books.com.tw/redirect/move/key/Python/area/mid/item/0010869464/page/1/idx/10/cat/001/pdf/1',\n",
       "  'Python程式交易應用與實作：從零開始!自動化投資實戰指南',\n",
       "  '劉承彥',\n",
       "  '395'),\n",
       " ('//search.books.com.tw/redirect/move/key/Python/area/mid/item/0010879493/page/1/idx/11/cat/001/pdf/1',\n",
       "  '零基礎入門的機器學習圖鑑：2大類機器學習╳ 17種演算法 ╳ Python基礎教學，讓你輕鬆學以致用',\n",
       "  '寺田學',\n",
       "  '356'),\n",
       " ('//search.books.com.tw/redirect/move/key/Python/area/mid/item/0010877639/page/1/idx/12/cat/001/pdf/1',\n",
       "  'Effective Python中文版：寫出良好Python程式的90個具體做法(第二版)',\n",
       "  'Brett Slatkin',\n",
       "  '458'),\n",
       " ('//search.books.com.tw/redirect/move/key/Python/area/mid/item/0010874725/page/1/idx/13/cat/001/pdf/1',\n",
       "  'Python零基礎學程式設計與運算思維：王者歸來 (第二版)',\n",
       "  '洪錦魁',\n",
       "  '537'),\n",
       " ('//search.books.com.tw/redirect/move/key/Python/area/mid/item/0010857799/page/1/idx/14/cat/001/pdf/1',\n",
       "  '深度學習的數學地圖：用 Python 實作神經網路的數學模型(附數學快查學習地圖)',\n",
       "  'Masanori Akaishi',\n",
       "  '551'),\n",
       " ('//search.books.com.tw/redirect/move/key/Python/area/mid/item/0010866777/page/1/idx/15/cat/001/pdf/1',\n",
       "  '機器學習：彩色圖解 + 基礎數學篇 + Python實作 王者歸來(全彩)',\n",
       "  '洪錦魁',\n",
       "  '435'),\n",
       " ('//search.books.com.tw/redirect/move/key/Python/area/mid/item/0010852573/page/1/idx/16/cat/001/pdf/1',\n",
       "  '演算法：最強彩色圖鑑 + Python程式實作 王者歸來(全彩印刷)',\n",
       "  '洪錦魁',\n",
       "  '537'),\n",
       " ('//search.books.com.tw/redirect/move/key/Python/area/mid/item/0010879153/page/1/idx/17/cat/001/pdf/1',\n",
       "  'LINE Bot by Python 全攻略：從Heroku到AWS跨平台實踐(iT邦幫忙鐵人賽系列書)',\n",
       "  '饒孟桓',\n",
       "  '484'),\n",
       " ('//search.books.com.tw/redirect/move/key/Python/area/mid/item/0010836667/page/1/idx/18/cat/001/pdf/1',\n",
       "  'Python網路爬蟲：大數據擷取、清洗、儲存與分析：王者歸來',\n",
       "  '洪錦魁',\n",
       "  '514'),\n",
       " ('//search.books.com.tw/redirect/move/key/Python/area/mid/item/0010869555/page/1/idx/19/cat/001/pdf/1',\n",
       "  'Python機器學習第三版(上)',\n",
       "  'Sebastian Raschka',\n",
       "  '490'),\n",
       " ('//search.books.com.tw/redirect/move/key/Python/area/mid/item/0010877962/page/1/idx/20/cat/001/pdf/1',\n",
       "  'Python零基礎入門班(含MTA Python國際認證模擬試題)(第二版)',\n",
       "  '文淵閣工作室',\n",
       "  '332')]"
      ]
     },
     "execution_count": 1,
     "metadata": {},
     "output_type": "execute_result"
    }
   ],
   "source": [
    "from bs4 import BeautifulSoup\n",
    "from urllib.parse import unquote\n",
    "import urllib\n",
    "import urllib.request\n",
    "import os\n",
    "import string\n",
    "import time\n",
    "\n",
    "#url = 'https://search.books.com.tw/search/query/key/python/cat/all'\n",
    "def getPage(url):\n",
    "    headers = {'User-Agent':'Mozilla/5.0 (Windows NT 6.1; WOW64; rv:23.0) Gecko/20100101 Firefox/23.0'}\n",
    "    req = urllib.request.Request(url= urllib.parse.quote(url, safe=string.printable), headers=headers)\n",
    "    html_doc = urllib.request.urlopen(req).read()\n",
    "    soup = BeautifulSoup(html_doc, 'html.parser')\n",
    "    form_tag = soup.find('form',class_='result')\n",
    "\n",
    "    result = []\n",
    "    li_tags = form_tag.find_all('li')\n",
    "    for li_tag in li_tags:\n",
    "        href = li_tag.find('a', rel='mid_image').attrs['href']\n",
    "        title = li_tag.find('a', rel='mid_image').attrs['title']\n",
    "        author = li_tag.find('a', rel='go_author').attrs['title']\n",
    "        price = li_tag.find_all('strong')[1].find('b').string\n",
    "        result.append((href, title, author, price))\n",
    "    return result\n",
    "\n",
    "keyword = input('Enter your keyword:')\n",
    "pageNum = 2\n",
    "data = getPage('https://search.books.com.tw/search/query/key/%s/cat/all'%keyword)\n",
    "\n",
    "\n",
    "for i in range(1,pageNum):\n",
    "    url = 'https://search.books.com.tw/search/query/cat/all/key/%s/sort/1/ms2/ms2_1/page/%d/v/0/'%(keyword,i)\n",
    "    data.extend(getPage(url))\n",
    "    time.sleep(1)\n",
    "    \n",
    "print(len(data))\n",
    "data\n"
   ]
  },
  {
   "cell_type": "markdown",
   "metadata": {},
   "source": [
    "# 執行流程 Process"
   ]
  },
  {
   "cell_type": "code",
   "execution_count": 2,
   "metadata": {
    "scrolled": false
   },
   "outputs": [],
   "source": [
    "from bs4 import BeautifulSoup\n",
    "from urllib.parse import unquote\n",
    "import urllib\n",
    "import urllib.request\n",
    "import os\n",
    "import string\n",
    "\n",
    "url = 'https://search.books.com.tw/search/query/key/python/cat/all'\n",
    "headers = {'User-Agent':'Mozilla/5.0 (Windows NT 6.1; WOW64; rv:23.0) Gecko/20100101 Firefox/23.0'}\n",
    "req = urllib.request.Request(url= urllib.parse.quote(url, safe=string.printable), headers=headers)\n",
    "html_doc = urllib.request.urlopen(req).read()\n",
    "soup = BeautifulSoup(html_doc, 'html.parser')\n",
    "form_tag = soup.find('form',class_='result')\n",
    "#form_tag\n"
   ]
  },
  {
   "cell_type": "code",
   "execution_count": 3,
   "metadata": {},
   "outputs": [
    {
     "data": {
      "text/plain": [
       "<li class=\"item\">\n",
       "<!--若無勾選選項時,可將下方input_buy的div整個拿掉-->\n",
       "<div class=\"input_buy\">\n",
       "<input name=\"C1\" type=\"checkbox\" value=\"0010867440\"/>\n",
       "</div>\n",
       "<a href=\"//search.books.com.tw/redirect/move/key/python/area/mid/item/0010867440/page/1/idx/1/cat/001/pdf/1\" rel=\"mid_image\" target=\"_blank\" title=\"Python 自動化的樂趣：搞定重複瑣碎&amp;單調無聊的工作(第二版)\">\n",
       "<img alt=\"Python 自動化的樂趣：搞定重複瑣碎&amp;單調無聊的工作(第二版)\" class=\"itemcov\" data-original=\"https://im1.book.com.tw/image/getImage?i=https://www.books.com.tw/img/001/086/74/0010867440.jpg&amp;w=85&amp;h=120&amp;v=5f33c4b4\" height=\"120\" width=\"85\"/>\n",
       "</a>\n",
       "<h3>\n",
       "<a href=\"//search.books.com.tw/redirect/move/key/python/area/mid/item/0010867440/page/1/idx/1/cat/001/pdf/1\" rel=\"mid_name\" target=\"_blank\" title=\"Python 自動化的樂趣：搞定重複瑣碎&amp;單調無聊的工作(第二版)\">\n",
       "<em>Python</em> 自動化的樂趣：搞定重複瑣碎&amp;單調無聊的工作(第二版)\t\t\t\t\t\t\t\t\t</a>\n",
       "</h3>\n",
       "<span class=\"cat\">中文書</span>\n",
       "\t                        \t,   \n",
       "\t\t\t\t                            <a href=\"//search.books.com.tw/search/query/cat/all/key/Al+Sweigart/adv_author/1\" rel=\"go_author\" title=\"Al Sweigart\">Al Sweigart</a>\n",
       "\t                            \t   \n",
       "\t\t\t\t                            <a href=\"//search.books.com.tw/search/query/cat/all/key/H%26amp%3BC/adv_author/1\" rel=\"go_author\" title=\"H&amp;C\">H&amp;C</a>\n",
       "\t                            \t\t                        \t\t                       \t\t\t\t                            \t\t\t\t\t\t\t\t\t\t\t, <a href=\"//search.books.com.tw/redirect/move/type/001/key/python/area/mid_publish/pubid/gotop/page/1/item/0010867440/idx/1/cat/001/pdf/1\" rel=\"mid_publish\" target=\"_blank\" title=\"碁峰\">碁峰</a>\n",
       "\t\t                            \t                        \t                         \n",
       "\t                            \t                                \t, 出版日期: 2020-08-28<br/>\n",
       "<span class=\"price\">\n",
       "\t                        \t\t\t\t\t\t\t\t\t\t\t\t\t\t\t\t優惠價: <strong><b>79</b> 折</strong>, <strong><b>537</b> 元</strong>\n",
       "<button class=\"btn_type01\" onclick=\"redirect('//search.books.com.tw/redirect/move/key/python/area/mid_cart/item/0010867440/page/1/cart/1/idx/1/cat/001/pdf/1');return false;\">放入購物車</button>\n",
       "<button class=\"btn_type01 btn_font1\" onclick=\"rewopen('//search.books.com.tw/redirect/move/key/python/area/mid_epub/item/0010867440/page/1/epub/1/idx/1/cat/001/pdf/1', '_blank');return false;\">試閱</button>\n",
       "</span>\n",
       "<p><em>Python</em>寫出程式，幫您在幾分鐘內搞定人工手動處理需要花費數小時的工作。您將學到<em>Python</em>的基礎知識，並探索<em>Python</em>豐富的模組程式庫來完成某些特定工作，例如從網站上抓取資料、讀取PDF和Word文件，以及自動化執行滑鼠點按和鍵盤輸入的工作...... <span><a href=\"//search.books.com.tw/redirect/move/key/python/area/mid_more/item/0010867440/page/1/idx/1/cat/001/pdf/1\" rel=\"mid_more\" target=\"_blank\">more</a></span>\n",
       "</p>\n",
       "</li>"
      ]
     },
     "execution_count": 3,
     "metadata": {},
     "output_type": "execute_result"
    }
   ],
   "source": [
    "#對著想爬蟲的資料抓取 發現單一品項容器為 <li class=\"item\">\n",
    "li_tags = form_tag.find_all('li')\n",
    "\n",
    "#在容器中尋找品項數 [0]~[x]\n",
    "li_tag = li_tags[0]\n",
    "li_tag"
   ]
  },
  {
   "cell_type": "code",
   "execution_count": 4,
   "metadata": {
    "scrolled": true
   },
   "outputs": [
    {
     "data": {
      "text/plain": [
       "'Python 自動化的樂趣：搞定重複瑣碎&單調無聊的工作(第二版)'"
      ]
     },
     "execution_count": 4,
     "metadata": {},
     "output_type": "execute_result"
    }
   ],
   "source": [
    "#<a target=\"_blank\" rel=\"mid_image\" \n",
    "# href=\"//search.books.com.tw/redirect/move/key/python/area/mid/item/0010869590/page/1/idx/1/cat/001/pdf/1\" \n",
    "# title=\"Python最強入門邁向頂尖高手之路：王者歸來(第二版)全彩版\">\n",
    "\n",
    "li_tag.find('a', rel='mid_image').attrs['title']\n",
    "#li_tag.find('a', rel='mid_image').attrs['href']"
   ]
  },
  {
   "cell_type": "code",
   "execution_count": 5,
   "metadata": {},
   "outputs": [
    {
     "data": {
      "text/plain": [
       "'Al Sweigart'"
      ]
     },
     "execution_count": 5,
     "metadata": {},
     "output_type": "execute_result"
    }
   ],
   "source": [
    "#<a href=\"//search.books.com.tw/search/query/cat/all/key/%E6%B4%AA%E9%8C%A6%E9%AD%81/adv_author/1\" \n",
    "# rel=\"go_author\" \n",
    "# title=\"洪錦魁\">\n",
    "li_tag.find('a', rel='go_author').attrs['title']"
   ]
  },
  {
   "cell_type": "code",
   "execution_count": 6,
   "metadata": {},
   "outputs": [
    {
     "data": {
      "text/plain": [
       "'碁峰'"
      ]
     },
     "execution_count": 6,
     "metadata": {},
     "output_type": "execute_result"
    }
   ],
   "source": [
    "li_tag.find('a', rel='mid_publish').attrs['title']"
   ]
  },
  {
   "cell_type": "code",
   "execution_count": 7,
   "metadata": {},
   "outputs": [
    {
     "data": {
      "text/plain": [
       "'79'"
      ]
     },
     "execution_count": 7,
     "metadata": {},
     "output_type": "execute_result"
    }
   ],
   "source": [
    "#<span class=\"price\">優惠價:\n",
    "# <strong><b>66</b> 折</strong>, <strong><b>713</b> 元</strong>\n",
    "#</span>\n",
    "li_tag.find_all('strong')[0].find('b').string"
   ]
  },
  {
   "cell_type": "code",
   "execution_count": 8,
   "metadata": {
    "scrolled": true
   },
   "outputs": [
    {
     "data": {
      "text/plain": [
       "'537'"
      ]
     },
     "execution_count": 8,
     "metadata": {},
     "output_type": "execute_result"
    }
   ],
   "source": [
    "li_tag.find_all('strong')[1].find('b').string"
   ]
  },
  {
   "cell_type": "code",
   "execution_count": 10,
   "metadata": {},
   "outputs": [
    {
     "name": "stdout",
     "output_type": "stream",
     "text": [
      "[Python 自動化的樂趣：搞定重複瑣碎&單調無聊的工作(第二版)], Al Sweigart, 537元\n",
      "--------------------------------------\n",
      "[精通 Python：運用簡單的套件進行現代運算(第二版)], Bill Lubanovic, 695元\n",
      "--------------------------------------\n",
      "[Python最強入門邁向頂尖高手之路：王者歸來(第二版)全彩版], 洪錦魁, 853元\n",
      "--------------------------------------\n",
      "[跨領域學 Python：資料科學基礎養成], 施威銘研究室, 379元\n",
      "--------------------------------------\n",
      "[Python初學特訓班(第四版)：從快速入門到主流應用全面實戰(附250分鐘影音教學/範例程式)], 文淵閣工作室, 379元\n",
      "--------------------------------------\n",
      "[Python 從網路爬蟲到生活應用超實務：人工智慧世代必備的資料擷取術], 陳會安, 558元\n",
      "--------------------------------------\n",
      "[Python機器學習超進化：AI影像辨識跨界應用實戰(附100分鐘影像處理入門影音教學/範例程式)], 文淵閣工作室, 356元\n",
      "--------------------------------------\n",
      "[Python自學聖經：從程式素人到開發強者的技術與實戰大全!(附影音/範例程式)], 文淵閣工作室, 695元\n",
      "--------------------------------------\n",
      "[Python大數據特訓班(第二版)：資料自動化收集、整理、清洗、儲存、分析與應用實戰(附300分鐘影音教學/範例程式)], 文淵閣工作室, 411元\n",
      "--------------------------------------\n",
      "[Python程式交易應用與實作：從零開始!自動化投資實戰指南], 劉承彥, 395元\n",
      "--------------------------------------\n",
      "[零基礎入門的機器學習圖鑑：2大類機器學習╳ 17種演算法 ╳ Python基礎教學，讓你輕鬆學以致用], 寺田學, 356元\n",
      "--------------------------------------\n",
      "[Effective Python中文版：寫出良好Python程式的90個具體做法(第二版)], Brett Slatkin, 458元\n",
      "--------------------------------------\n",
      "[Python零基礎學程式設計與運算思維：王者歸來 (第二版)], 洪錦魁, 537元\n",
      "--------------------------------------\n",
      "[深度學習的數學地圖：用 Python 實作神經網路的數學模型(附數學快查學習地圖)], Masanori Akaishi, 551元\n",
      "--------------------------------------\n",
      "[機器學習：彩色圖解 + 基礎數學篇 + Python實作 王者歸來(全彩)], 洪錦魁, 435元\n",
      "--------------------------------------\n",
      "[演算法：最強彩色圖鑑 + Python程式實作 王者歸來(全彩印刷)], 洪錦魁, 537元\n",
      "--------------------------------------\n",
      "[LINE Bot by Python 全攻略：從Heroku到AWS跨平台實踐(iT邦幫忙鐵人賽系列書)], 饒孟桓, 484元\n",
      "--------------------------------------\n",
      "[Python網路爬蟲：大數據擷取、清洗、儲存與分析：王者歸來], 洪錦魁, 514元\n",
      "--------------------------------------\n",
      "[Python機器學習第三版(上)], Sebastian Raschka, 490元\n",
      "--------------------------------------\n",
      "[Python零基礎入門班(含MTA Python國際認證模擬試題)(第二版)], 文淵閣工作室, 332元\n",
      "--------------------------------------\n"
     ]
    }
   ],
   "source": [
    "from bs4 import BeautifulSoup\n",
    "from urllib.parse import unquote\n",
    "import urllib\n",
    "import urllib.request\n",
    "import os\n",
    "import string\n",
    "\n",
    "url = 'https://search.books.com.tw/search/query/key/python/cat/all'\n",
    "headers = {'User-Agent':'Mozilla/5.0 (Windows NT 6.1; WOW64; rv:23.0) Gecko/20100101 Firefox/23.0'}\n",
    "req = urllib.request.Request(url= urllib.parse.quote(url, safe=string.printable), headers=headers)\n",
    "html_doc = urllib.request.urlopen(req).read()\n",
    "soup = BeautifulSoup(html_doc, 'html.parser')\n",
    "form_tag = soup.find('form',class_='result')\n",
    "\n",
    "li_tags = form_tag.find_all('li')\n",
    "for li_tag in li_tags:\n",
    "    href = li_tag.find('a', rel='mid_image').attrs['href']\n",
    "    title = li_tag.find('a', rel='mid_image').attrs['title']\n",
    "    author = li_tag.find('a', rel='go_author').attrs['title']\n",
    "    \n",
    "    price = li_tag.find_all('strong')[1].find('b').string\n",
    "    print('[%s], %s, %s元'%(title, author, price))\n",
    "    #print(href)\n",
    "    print('--------------------------------------')\n"
   ]
  },
  {
   "cell_type": "code",
   "execution_count": null,
   "metadata": {},
   "outputs": [],
   "source": []
  }
 ],
 "metadata": {
  "kernelspec": {
   "display_name": "Python 3 (ipykernel)",
   "language": "python",
   "name": "python3"
  },
  "language_info": {
   "codemirror_mode": {
    "name": "ipython",
    "version": 3
   },
   "file_extension": ".py",
   "mimetype": "text/x-python",
   "name": "python",
   "nbconvert_exporter": "python",
   "pygments_lexer": "ipython3",
   "version": "3.9.7"
  }
 },
 "nbformat": 4,
 "nbformat_minor": 4
}
