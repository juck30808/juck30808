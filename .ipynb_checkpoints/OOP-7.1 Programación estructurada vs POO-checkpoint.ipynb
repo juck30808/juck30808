{
 "cells": [
  {
   "cell_type": "markdown",
   "metadata": {},
   "source": [
    "<font color=Green>\n",
    "    \n",
    "# **7.1 Programación Orientada a Objetos**\n",
    "\n",
    "</font>\n",
    "\n",
    "### Para entender las diferencias entre los dos paradigmas de programación, trabajemos un ejemplo donde se nos pide la creación de un registro para manejar el inventario de un negocio. \n",
    "### Debe incluir:\n",
    "+ Código identificador del producto\n",
    "+ Nombre del producto \n",
    "+ Categoría del producto\n",
    "+ PVP\n",
    "\n",
    "### El programa debe permitirnos mostrar o borrar los datos de cada producto a partir del Código identificador"
   ]
  },
  {
   "cell_type": "markdown",
   "metadata": {},
   "source": [
    "<font color=#003d5c>\n",
    "\n",
    "## Solución del problema con Programación Estructurada --->\n",
    "</font> "
   ]
  },
  {
   "cell_type": "code",
   "execution_count": 1,
   "metadata": {},
   "outputs": [],
   "source": [
    "productos = [\n",
    "    {'cod':'10001', 'Nombre':'Jabón Harmony', 'Categoría':'Higiene personal', 'pvp':0.9},\n",
    "    {'cod':'10002', 'Nombre':'Cereal Nestlé', 'Categoría':'Cereal', 'pvp':1.5},\n",
    "    {'cod':'10003', 'Nombre':'Limones', 'Categoría':'Fruta', 'pvp':.7}\n",
    "]"
   ]
  },
  {
   "cell_type": "code",
   "execution_count": 2,
   "metadata": {},
   "outputs": [
    {
     "data": {
      "text/plain": [
       "{'cod': '10001',\n",
       " 'Nombre': 'Jabón Harmony',\n",
       " 'Categoría': 'Higiene personal',\n",
       " 'pvp': 0.9}"
      ]
     },
     "execution_count": 2,
     "metadata": {},
     "output_type": "execute_result"
    }
   ],
   "source": [
    "productos[0]"
   ]
  },
  {
   "cell_type": "code",
   "execution_count": 3,
   "metadata": {},
   "outputs": [],
   "source": [
    "def mostrar_producto(productos, cod):\n",
    "    for p in productos:\n",
    "        if (cod == p['cod']):\n",
    "                    return print('{} {}'.format(p['Nombre'],p['pvp']))\n",
    "    print('Producto no encontrado')"
   ]
  },
  {
   "cell_type": "code",
   "execution_count": 4,
   "metadata": {
    "scrolled": true
   },
   "outputs": [
    {
     "name": "stdout",
     "output_type": "stream",
     "text": [
      "Limones 0.7\n"
     ]
    }
   ],
   "source": [
    "mostrar_producto(productos,'10003')"
   ]
  },
  {
   "cell_type": "code",
   "execution_count": 5,
   "metadata": {},
   "outputs": [
    {
     "name": "stdout",
     "output_type": "stream",
     "text": [
      "Producto no encontrado\n"
     ]
    }
   ],
   "source": [
    "mostrar_producto(productos,'111')"
   ]
  },
  {
   "cell_type": "code",
   "execution_count": 6,
   "metadata": {},
   "outputs": [],
   "source": [
    "def borrar_producto(productos, cod):\n",
    "    for i,p in enumerate(productos):\n",
    "        if (cod == p['cod']):\n",
    "            del(productos[i])\n",
    "            return print(str(p),\">ELIMINADO\")\n",
    "    print('Producto no encontrado')"
   ]
  },
  {
   "cell_type": "code",
   "execution_count": 7,
   "metadata": {},
   "outputs": [
    {
     "name": "stdout",
     "output_type": "stream",
     "text": [
      "{'cod': '10003', 'Nombre': 'Limones', 'Categoría': 'Fruta', 'pvp': 0.7} >ELIMINADO\n"
     ]
    }
   ],
   "source": [
    "borrar_producto(productos,'10003')"
   ]
  },
  {
   "cell_type": "code",
   "execution_count": 8,
   "metadata": {},
   "outputs": [
    {
     "name": "stdout",
     "output_type": "stream",
     "text": [
      "Producto no encontrado\n"
     ]
    }
   ],
   "source": [
    "mostrar_producto(productos,'10003')"
   ]
  },
  {
   "cell_type": "code",
   "execution_count": 9,
   "metadata": {},
   "outputs": [
    {
     "name": "stdout",
     "output_type": "stream",
     "text": [
      "==CATÁLOGO DE PRODUCTOS==\n",
      "[{'cod': '10001', 'Nombre': 'Jabón Harmony', 'Categoría': 'Higiene personal', 'pvp': 0.9}, {'cod': '10002', 'Nombre': 'Cereal Nestlé', 'Categoría': 'Cereal', 'pvp': 1.5}]\n",
      "\n",
      "==MOSTRAR PRODUCTOS POR COD==\n",
      "Jabón Harmony 0.9\n",
      "Cereal Nestlé 1.5\n",
      "\n",
      "==BORRAR PRODUCTOS POR COD==\n",
      "{'cod': '10001', 'Nombre': 'Jabón Harmony', 'Categoría': 'Higiene personal', 'pvp': 0.9} >ELIMINADO\n",
      "{'cod': '10002', 'Nombre': 'Cereal Nestlé', 'Categoría': 'Cereal', 'pvp': 1.5} >ELIMINADO\n",
      "\n",
      "==CATÁLOGO DE PRODUCTOS==\n",
      "[]\n"
     ]
    }
   ],
   "source": [
    "print(\"==CATÁLOGO DE PRODUCTOS==\")\n",
    "print(productos)\n",
    "\n",
    "print(\"\\n==MOSTRAR PRODUCTOS POR COD==\")\n",
    "mostrar_producto(productos,'10001')\n",
    "mostrar_producto(productos,'10002')\n",
    "\n",
    "print(\"\\n==BORRAR PRODUCTOS POR COD==\")\n",
    "borrar_producto(productos, '10001')\n",
    "borrar_producto(productos, '10002')\n",
    "\n",
    "print(\"\\n==CATÁLOGO DE PRODUCTOS==\")\n",
    "print(productos)"
   ]
  },
  {
   "cell_type": "markdown",
   "metadata": {},
   "source": [
    "<font color=#003d5c>\n",
    "\n",
    "## Solución del problema con Programación Orientada a Objetos --->\n",
    "</font> "
   ]
  },
  {
   "cell_type": "code",
   "execution_count": 10,
   "metadata": {},
   "outputs": [],
   "source": [
    "# Se crea una estructura para los productos\n",
    "\n",
    "class Producto:\n",
    "\n",
    "    def __init__(self,cod,nombre,categoria,pvp):\n",
    "        self.cod = cod\n",
    "        self.nombre = nombre\n",
    "        self.categoria = categoria\n",
    "        self.pvp = pvp\n",
    "\n",
    "    def __str__(self):\n",
    "        return '{} {}'.format(self.nombre,self.pvp)\n",
    "\n",
    "# Y otra estructura para el negocio\n",
    "class Negocio:\n",
    "\n",
    "    def __init__(self, productos=[]):\n",
    "        self.productos = productos\n",
    "\n",
    "    def mostrar_producto(self, cod=None):\n",
    "        for p in self.productos:\n",
    "            if p.cod == cod:\n",
    "                print(p)\n",
    "                return\n",
    "        print(\"Producto no encontrado\")\n",
    "\n",
    "    def borrar_producto(self, cod=None):\n",
    "        for i,p in enumerate(self.productos):\n",
    "            if p.cod == cod:\n",
    "                del(self.productos[i])\n",
    "                print(str(p),\"> ELIMINADO\")\n",
    "                return\n",
    "        print(\"Producto no encontrado\")\n"
   ]
  },
  {
   "cell_type": "code",
   "execution_count": 11,
   "metadata": {},
   "outputs": [],
   "source": [
    "limones = Producto(nombre=\"Limones\", cod=\"10010\", categoria=\"Frutas\",pvp=0.8)\n",
    "platos = Producto(\"10020\", \"Platos Alpina\", \"Vajilla\", 2.4)"
   ]
  },
  {
   "cell_type": "code",
   "execution_count": 12,
   "metadata": {},
   "outputs": [
    {
     "data": {
      "text/plain": [
       "<__main__.Producto at 0x7fdcb0249490>"
      ]
     },
     "execution_count": 12,
     "metadata": {},
     "output_type": "execute_result"
    }
   ],
   "source": [
    "limones"
   ]
  },
  {
   "cell_type": "code",
   "execution_count": 13,
   "metadata": {},
   "outputs": [
    {
     "data": {
      "text/plain": [
       "<__main__.Producto at 0x7fdcb0249c40>"
      ]
     },
     "execution_count": 13,
     "metadata": {},
     "output_type": "execute_result"
    }
   ],
   "source": [
    "platos"
   ]
  },
  {
   "cell_type": "code",
   "execution_count": 14,
   "metadata": {},
   "outputs": [
    {
     "data": {
      "text/plain": [
       "'Platos Alpina 2.4'"
      ]
     },
     "execution_count": 14,
     "metadata": {},
     "output_type": "execute_result"
    }
   ],
   "source": [
    "str(platos)"
   ]
  },
  {
   "cell_type": "code",
   "execution_count": 15,
   "metadata": {},
   "outputs": [],
   "source": [
    "negocio = Negocio(productos=[limones,platos])"
   ]
  },
  {
   "cell_type": "code",
   "execution_count": 16,
   "metadata": {},
   "outputs": [
    {
     "data": {
      "text/plain": [
       "[<__main__.Producto at 0x7fdcb0249490>, <__main__.Producto at 0x7fdcb0249c40>]"
      ]
     },
     "execution_count": 16,
     "metadata": {},
     "output_type": "execute_result"
    }
   ],
   "source": [
    "negocio.productos"
   ]
  },
  {
   "cell_type": "code",
   "execution_count": 17,
   "metadata": {},
   "outputs": [
    {
     "name": "stdout",
     "output_type": "stream",
     "text": [
      "Limones 0.8\n"
     ]
    }
   ],
   "source": [
    "# Para mostrar el producto por código\n",
    "\n",
    "negocio.mostrar_producto('10010')"
   ]
  },
  {
   "cell_type": "code",
   "execution_count": 18,
   "metadata": {},
   "outputs": [
    {
     "name": "stdout",
     "output_type": "stream",
     "text": [
      "Limones 0.8 > ELIMINADO\n"
     ]
    }
   ],
   "source": [
    "# Para borrar el productos por código\n",
    "negocio.borrar_producto('10010')"
   ]
  },
  {
   "cell_type": "code",
   "execution_count": 19,
   "metadata": {},
   "outputs": [
    {
     "name": "stdout",
     "output_type": "stream",
     "text": [
      "Producto no encontrado\n"
     ]
    }
   ],
   "source": [
    "negocio.mostrar_producto('10010')"
   ]
  },
  {
   "cell_type": "markdown",
   "metadata": {},
   "source": [
    "<font color=Green>\n",
    "    \n",
    "# **7.2 Clases y objetos**\n",
    "\n",
    "</font>\n",
    "\n",
    "### Las clases se asemejan a moldes que nos permiten crear objetos."
   ]
  },
  {
   "cell_type": "code",
   "execution_count": 20,
   "metadata": {},
   "outputs": [],
   "source": [
    "class Torta:\n",
    "    pass"
   ]
  },
  {
   "cell_type": "markdown",
   "metadata": {},
   "source": [
    "### El proceso de crear un objeto a partir de su clase se llama instanciación y por esto los objetos se conocen también como una instancia de clase."
   ]
  },
  {
   "cell_type": "code",
   "execution_count": 21,
   "metadata": {},
   "outputs": [],
   "source": [
    "torta = Torta()\n",
    "\n",
    "torta_3_leches = Torta()"
   ]
  },
  {
   "cell_type": "code",
   "execution_count": 22,
   "metadata": {},
   "outputs": [
    {
     "data": {
      "text/plain": [
       "<__main__.Torta at 0x7fdc902df970>"
      ]
     },
     "execution_count": 22,
     "metadata": {},
     "output_type": "execute_result"
    }
   ],
   "source": [
    "torta"
   ]
  },
  {
   "cell_type": "code",
   "execution_count": 23,
   "metadata": {
    "scrolled": true
   },
   "outputs": [
    {
     "data": {
      "text/plain": [
       "<__main__.Torta at 0x7fdc902df2b0>"
      ]
     },
     "execution_count": 23,
     "metadata": {},
     "output_type": "execute_result"
    }
   ],
   "source": [
    "torta_3_leches"
   ]
  },
  {
   "cell_type": "markdown",
   "metadata": {},
   "source": [
    "<font color=Green>\n",
    "    \n",
    "# **7.3 Atributos y métodos de clase**\n",
    "\n",
    "</font>\n",
    "\n",
    "### Aunque los objetos salgan del mismo molde (clase), no todos los objetos son iguales. \n",
    "### Un objeto se diferencia de otros objetos de su misma clase por el valor de sus atributos"
   ]
  },
  {
   "cell_type": "code",
   "execution_count": 24,
   "metadata": {},
   "outputs": [],
   "source": [
    "class Torta:\n",
    "    pass\n",
    "\n",
    "torta_fresa = Torta()"
   ]
  },
  {
   "cell_type": "code",
   "execution_count": 25,
   "metadata": {},
   "outputs": [
    {
     "data": {
      "text/plain": [
       "<__main__.Torta at 0x7fdcb0245c10>"
      ]
     },
     "execution_count": 25,
     "metadata": {},
     "output_type": "execute_result"
    }
   ],
   "source": [
    "torta_fresa"
   ]
  },
  {
   "cell_type": "markdown",
   "metadata": {},
   "source": [
    "### Podemos asignarle atributos al objeto luego de su creación."
   ]
  },
  {
   "cell_type": "code",
   "execution_count": 26,
   "metadata": {},
   "outputs": [],
   "source": [
    "torta_fresa.sabor = \"Fresa\"\n",
    "torta_fresa.color = \"Rosado\""
   ]
  },
  {
   "cell_type": "code",
   "execution_count": 27,
   "metadata": {},
   "outputs": [
    {
     "data": {
      "text/plain": [
       "'Fresa'"
      ]
     },
     "execution_count": 27,
     "metadata": {},
     "output_type": "execute_result"
    }
   ],
   "source": [
    "torta_fresa.sabor"
   ]
  },
  {
   "cell_type": "code",
   "execution_count": 28,
   "metadata": {},
   "outputs": [
    {
     "data": {
      "text/plain": [
       "'El sabor de la torta es Fresa'"
      ]
     },
     "execution_count": 28,
     "metadata": {},
     "output_type": "execute_result"
    }
   ],
   "source": [
    "f'El sabor de la torta es {torta_fresa.sabor}'"
   ]
  },
  {
   "cell_type": "markdown",
   "metadata": {},
   "source": [
    "### También podemos definir internamente los atributos de clase, y asignarle un valor por defecto que compartirán todas las instancias."
   ]
  },
  {
   "cell_type": "code",
   "execution_count": 29,
   "metadata": {},
   "outputs": [],
   "source": [
    "class Torta:\n",
    "    chocolate = False"
   ]
  },
  {
   "cell_type": "code",
   "execution_count": 30,
   "metadata": {},
   "outputs": [
    {
     "data": {
      "text/plain": [
       "False"
      ]
     },
     "execution_count": 30,
     "metadata": {},
     "output_type": "execute_result"
    }
   ],
   "source": [
    "torta_2 = Torta()\n",
    "torta_2.chocolate"
   ]
  },
  {
   "cell_type": "code",
   "execution_count": 31,
   "metadata": {},
   "outputs": [
    {
     "data": {
      "text/plain": [
       "True"
      ]
     },
     "execution_count": 31,
     "metadata": {},
     "output_type": "execute_result"
    }
   ],
   "source": [
    "torta_2.chocolate = True\n",
    "torta_2.chocolate"
   ]
  },
  {
   "cell_type": "markdown",
   "metadata": {},
   "source": [
    "<font color=#003d5c>\n",
    "\n",
    "## El método _INIT_ y el término _self_\n",
    "</font>\n",
    "\n",
    "+ _init_ (método constructor) se ejecuta al crear un objeto: Permite enviarle argumentos al objeto durante la instanciación.\n",
    "+ _self_ hace referencia al propio objeto: Sirve para diferenciar el ámbito de clase y el de un método."
   ]
  },
  {
   "cell_type": "code",
   "execution_count": 32,
   "metadata": {},
   "outputs": [
    {
     "name": "stdout",
     "output_type": "stream",
     "text": [
      "Se creó una torta.\n"
     ]
    }
   ],
   "source": [
    "class Torta():\n",
    "    glaseado = False\n",
    "    \n",
    "    def __init__(self):\n",
    "        print('Se creó una torta.')\n",
    "        \n",
    "t = Torta()\n",
    "        "
   ]
  },
  {
   "cell_type": "code",
   "execution_count": 33,
   "metadata": {},
   "outputs": [
    {
     "name": "stdout",
     "output_type": "stream",
     "text": [
      "Se creó una torta.\n"
     ]
    },
    {
     "data": {
      "text/plain": [
       "False"
      ]
     },
     "execution_count": 33,
     "metadata": {},
     "output_type": "execute_result"
    }
   ],
   "source": [
    "class Torta():\n",
    "    glaseado = False\n",
    "    \n",
    "    def __init__(self):\n",
    "        print('Se creó una torta.')\n",
    "    \n",
    "    def glasear(self):\n",
    "        self.glaseado = True\n",
    "        \n",
    "t = Torta()\n",
    "t.glaseado\n",
    "        "
   ]
  },
  {
   "cell_type": "code",
   "execution_count": 34,
   "metadata": {},
   "outputs": [
    {
     "data": {
      "text/plain": [
       "True"
      ]
     },
     "execution_count": 34,
     "metadata": {},
     "output_type": "execute_result"
    }
   ],
   "source": [
    "t.glasear()\n",
    "t.glaseado"
   ]
  },
  {
   "cell_type": "code",
   "execution_count": 35,
   "metadata": {},
   "outputs": [],
   "source": [
    "class Torta():\n",
    "    glaseado = False\n",
    "    \n",
    "    def __init__(self):\n",
    "        print('Se creó una torta.')\n",
    "    \n",
    "    def glasear(self):\n",
    "        self.glaseado = True\n",
    "        \n",
    "    def esta_glaseada(self):\n",
    "        if (self.glaseado):\n",
    "            print('Soy una torta glaseada')\n",
    "        else:\n",
    "            print('Soy una torta sencilla sin glaseado')"
   ]
  },
  {
   "cell_type": "code",
   "execution_count": 36,
   "metadata": {},
   "outputs": [
    {
     "name": "stdout",
     "output_type": "stream",
     "text": [
      "Se creó una torta.\n"
     ]
    }
   ],
   "source": [
    "t = Torta()"
   ]
  },
  {
   "cell_type": "code",
   "execution_count": 37,
   "metadata": {},
   "outputs": [
    {
     "name": "stdout",
     "output_type": "stream",
     "text": [
      "Soy una torta sencilla sin glaseado\n"
     ]
    }
   ],
   "source": [
    "t.esta_glaseada()"
   ]
  },
  {
   "cell_type": "code",
   "execution_count": 38,
   "metadata": {},
   "outputs": [],
   "source": [
    "t.glasear()"
   ]
  },
  {
   "cell_type": "code",
   "execution_count": 39,
   "metadata": {},
   "outputs": [
    {
     "name": "stdout",
     "output_type": "stream",
     "text": [
      "Soy una torta glaseada\n"
     ]
    }
   ],
   "source": [
    "t.esta_glaseada()"
   ]
  },
  {
   "cell_type": "code",
   "execution_count": 40,
   "metadata": {},
   "outputs": [],
   "source": [
    "class Torta():\n",
    "    glaseado = False\n",
    "    \n",
    "    def __init__(self,sabor,color):\n",
    "        self.sabor = sabor\n",
    "        self.color = color\n",
    "        print(f'Se acaba de crear una torta de {sabor} {color}.')\n",
    "    \n",
    "    def glasear(self):\n",
    "        self.glaseado = True\n",
    "        \n",
    "    def esta_glaseada(self):\n",
    "        if (self.glaseado):\n",
    "            print(f'Soy una torta de {self.sabor} glaseada')\n",
    "        else:\n",
    "            print(f'Soy una torta de {self.sabor} sin glaseado')"
   ]
  },
  {
   "cell_type": "code",
   "execution_count": 41,
   "metadata": {},
   "outputs": [
    {
     "name": "stdout",
     "output_type": "stream",
     "text": [
      "Se acaba de crear una torta de Fresa Morada.\n"
     ]
    }
   ],
   "source": [
    "o = Torta('Fresa','Morada')"
   ]
  },
  {
   "cell_type": "code",
   "execution_count": 42,
   "metadata": {},
   "outputs": [
    {
     "data": {
      "text/plain": [
       "'Morada'"
      ]
     },
     "execution_count": 42,
     "metadata": {},
     "output_type": "execute_result"
    }
   ],
   "source": [
    "o.color"
   ]
  },
  {
   "cell_type": "code",
   "execution_count": 43,
   "metadata": {},
   "outputs": [
    {
     "name": "stdout",
     "output_type": "stream",
     "text": [
      "Soy una torta de Fresa sin glaseado\n"
     ]
    }
   ],
   "source": [
    "o.esta_glaseada()"
   ]
  },
  {
   "cell_type": "code",
   "execution_count": 44,
   "metadata": {},
   "outputs": [
    {
     "name": "stdout",
     "output_type": "stream",
     "text": [
      "Soy una torta de Fresa glaseada\n"
     ]
    }
   ],
   "source": [
    "o.glasear()\n",
    "o.esta_glaseada()"
   ]
  },
  {
   "cell_type": "code",
   "execution_count": 45,
   "metadata": {},
   "outputs": [
    {
     "ename": "TypeError",
     "evalue": "__init__() missing 2 required positional arguments: 'sabor' and 'color'",
     "output_type": "error",
     "traceback": [
      "\u001b[0;31m---------------------------------------------------------------------------\u001b[0m",
      "\u001b[0;31mTypeError\u001b[0m                                 Traceback (most recent call last)",
      "\u001b[0;32m/var/folders/9q/486czkcn7lv5v0hwbt71twdc0000gn/T/ipykernel_2481/1068116335.py\u001b[0m in \u001b[0;36m<module>\u001b[0;34m\u001b[0m\n\u001b[0;32m----> 1\u001b[0;31m \u001b[0mm\u001b[0m \u001b[0;34m=\u001b[0m \u001b[0mTorta\u001b[0m\u001b[0;34m(\u001b[0m\u001b[0;34m)\u001b[0m\u001b[0;34m\u001b[0m\u001b[0;34m\u001b[0m\u001b[0m\n\u001b[0m",
      "\u001b[0;31mTypeError\u001b[0m: __init__() missing 2 required positional arguments: 'sabor' and 'color'"
     ]
    }
   ],
   "source": [
    "m = Torta()"
   ]
  },
  {
   "cell_type": "code",
   "execution_count": null,
   "metadata": {},
   "outputs": [],
   "source": [
    "class Torta():\n",
    "    glaseado = False\n",
    "    \n",
    "    def __init__(self,sabor=None,color=None):\n",
    "        self.sabor = sabor\n",
    "        self.color = color\n",
    "        print(f'Se creó una torta de {sabor} {color}.')\n",
    "            \n",
    "    def glasear(self):\n",
    "        self.glaseado = True\n",
    "      \n",
    "    def esta_glaseada(self):\n",
    "        if (self.glaseado):\n",
    "            print(f'Soy una torta de {self.sabor} glaseada')\n",
    "        else:\n",
    "            print(f'Soy una torta de {self.sabor} sin glaseado')"
   ]
  },
  {
   "cell_type": "code",
   "execution_count": null,
   "metadata": {},
   "outputs": [],
   "source": [
    "m=Torta()"
   ]
  },
  {
   "cell_type": "code",
   "execution_count": null,
   "metadata": {},
   "outputs": [],
   "source": [
    "class Torta():\n",
    "    glaseado = False\n",
    "    \n",
    "    def __init__(self,sabor=None,color=None):\n",
    "        self.sabor = sabor\n",
    "        self.color = color\n",
    "        if sabor is not None and color is not None:\n",
    "            print(f'Se creó una torta de {sabor} {color}.')\n",
    "        else: \n",
    "            print(f'Se creó una torta de vainilla')\n",
    "            \n",
    "    def glasear(self):\n",
    "        self.glaseado = True\n",
    "      \n",
    "    def esta_glaseada(self):\n",
    "        if (self.glaseado):\n",
    "            print(f'Soy una torta de {self.sabor} glaseada')\n",
    "        else:\n",
    "            print(f'Soy una torta de {self.sabor} sin glaseado')"
   ]
  },
  {
   "cell_type": "code",
   "execution_count": null,
   "metadata": {},
   "outputs": [],
   "source": [
    "m=Torta()"
   ]
  },
  {
   "cell_type": "markdown",
   "metadata": {},
   "source": [
    "<font color=Green>\n",
    "    \n",
    "# **7.4 Métodos especiales**\n",
    "\n",
    "</font>\n"
   ]
  },
  {
   "cell_type": "markdown",
   "metadata": {},
   "source": [
    "<font color=#003d5c>\n",
    "\n",
    "## El constructor de clase\n",
    "</font> "
   ]
  },
  {
   "cell_type": "code",
   "execution_count": null,
   "metadata": {},
   "outputs": [],
   "source": [
    "class Video():\n",
    "    \n",
    "    # Constructor de clase\n",
    "    def __init__(self,titulo,duracion,lanzamiento):\n",
    "        self.titulo = titulo\n",
    "        self.duracion = duracion\n",
    "        self.lanzamiento = lanzamiento\n",
    "        print('Se creo el video', self.titulo)\n",
    "        \n",
    "v=Video('The Avengers',143,2012)"
   ]
  },
  {
   "cell_type": "markdown",
   "metadata": {},
   "source": [
    "<font color=#003d5c>\n",
    "\n",
    "## El destructor de clase\n",
    "</font> "
   ]
  },
  {
   "cell_type": "code",
   "execution_count": null,
   "metadata": {},
   "outputs": [],
   "source": [
    "class Video():\n",
    "  \n",
    "    def __init__(self,titulo,duracion,lanzamiento):\n",
    "        self.titulo = titulo\n",
    "        self.duracion = duracion\n",
    "        self.lanzamiento = lanzamiento\n",
    "        print('Se creo el video', self.titulo)\n",
    "     \n",
    "    # Destructor de clase\n",
    "    def __del__(self):\n",
    "        print('Se eliminó el video', self.titulo)\n",
    "        \n",
    "v=Video('The Avengers',143,2012)"
   ]
  },
  {
   "cell_type": "code",
   "execution_count": null,
   "metadata": {},
   "outputs": [],
   "source": [
    "del(v)"
   ]
  },
  {
   "cell_type": "markdown",
   "metadata": {},
   "source": [
    "<font color=#003d5c>\n",
    "\n",
    "## Métodos str() y len()\n",
    "</font> "
   ]
  },
  {
   "cell_type": "code",
   "execution_count": null,
   "metadata": {},
   "outputs": [],
   "source": [
    "v=Video('The Avengers',143,2012)"
   ]
  },
  {
   "cell_type": "code",
   "execution_count": null,
   "metadata": {},
   "outputs": [],
   "source": [
    "str(v)"
   ]
  },
  {
   "cell_type": "code",
   "execution_count": null,
   "metadata": {},
   "outputs": [],
   "source": [
    "class Video():\n",
    "    def __init__(self,titulo,duracion,lanzamiento):\n",
    "        self.titulo = titulo\n",
    "        self.duracion = duracion\n",
    "        self.lanzamiento = lanzamiento\n",
    "        print('Se creo el video', self.titulo)\n",
    "     \n",
    "    def __del__(self):\n",
    "        print('Se eliminó el video', self.titulo)\n",
    "    \n",
    "    # Redefinimos str para que muestre la información del video\n",
    "    def __str__(self):\n",
    "        return f\"{self.titulo} publicado en {self.lanzamiento} con una duración de {self.duracion} minutos\"\n",
    "        \n",
    "c=Video(\"Black Panther\", 134,2018)"
   ]
  },
  {
   "cell_type": "code",
   "execution_count": null,
   "metadata": {},
   "outputs": [],
   "source": [
    "str(c)"
   ]
  },
  {
   "cell_type": "code",
   "execution_count": null,
   "metadata": {},
   "outputs": [],
   "source": [
    "len(c)"
   ]
  },
  {
   "cell_type": "code",
   "execution_count": null,
   "metadata": {
    "scrolled": true
   },
   "outputs": [],
   "source": [
    "class Video():\n",
    "    def __init__(self,titulo,duracion,lanzamiento):\n",
    "        self.titulo = titulo\n",
    "        self.duracion = duracion\n",
    "        self.lanzamiento = lanzamiento\n",
    "        print('Se creo el video', self.titulo)\n",
    "    \n",
    "    def __str__(self):\n",
    "        return f\"{self.titulo} publicado en {self.lanzamiento} con una duración de {self.duracion} minutos\"\n",
    "        \n",
    "    # Redefinimos el método len() para que devuelva la duración del video\n",
    "    def __len__(self):\n",
    "        return self.duracion\n",
    "    \n",
    "    def __del__(self):\n",
    "        print('Se eliminó el video', self.titulo)"
   ]
  },
  {
   "cell_type": "code",
   "execution_count": null,
   "metadata": {},
   "outputs": [],
   "source": [
    "v=Video('The Avengers',143,2012)\n",
    "        \n",
    "c=Video(\"Black Panther\",134,2018)"
   ]
  },
  {
   "cell_type": "code",
   "execution_count": null,
   "metadata": {},
   "outputs": [],
   "source": [
    "str(v)"
   ]
  },
  {
   "cell_type": "code",
   "execution_count": null,
   "metadata": {},
   "outputs": [],
   "source": [
    "len(v)"
   ]
  },
  {
   "cell_type": "code",
   "execution_count": null,
   "metadata": {},
   "outputs": [],
   "source": [
    "len(c)"
   ]
  },
  {
   "cell_type": "markdown",
   "metadata": {},
   "source": [
    "<font color=Green>\n",
    "    \n",
    "# **7.5 Objetos dentro de objetos**\n",
    "\n",
    "</font>"
   ]
  },
  {
   "cell_type": "code",
   "execution_count": null,
   "metadata": {},
   "outputs": [],
   "source": [
    "class Videojuego:\n",
    "\n",
    "    # Constructor de clase\n",
    "    def __init__(self, titulo, genero, lanzamiento):\n",
    "        self.titulo = titulo\n",
    "        self.genero = genero\n",
    "        self.lanzamiento = lanzamiento\n",
    "        print('Se creó el videojuego:', self.titulo)\n",
    "\n",
    "    def __str__(self):\n",
    "        return '{} ({})'.format(self.titulo, self.lanzamiento)"
   ]
  },
  {
   "cell_type": "code",
   "execution_count": null,
   "metadata": {},
   "outputs": [],
   "source": [
    "vj= Videojuego(\"The Last of Us\", \"Acción\", 2013)\n",
    "str(vj)"
   ]
  },
  {
   "cell_type": "code",
   "execution_count": null,
   "metadata": {},
   "outputs": [],
   "source": [
    "class Catalogo:\n",
    "\n",
    "    vjuegos = []  # Esta lista contendrá objetos de la clase Videojuego\n",
    "\n",
    "    def __init__(self, vjuegos=[]):\n",
    "        self.vjuegos = vjuegos\n",
    "\n",
    "    def agregar(self, v):  # v será un objeto de clase Videojuego\n",
    "        self.vjuegos.append(v)\n",
    "\n",
    "    def mostrar(self):\n",
    "        for v in self.vjuegos:\n",
    "            print(v)  # Print toma por defecto str(v)"
   ]
  },
  {
   "cell_type": "code",
   "execution_count": null,
   "metadata": {},
   "outputs": [],
   "source": [
    "vi = Videojuego(\"The Last of Us Part II\", \"Acción\", 2020)"
   ]
  },
  {
   "cell_type": "code",
   "execution_count": null,
   "metadata": {},
   "outputs": [],
   "source": [
    "c = Catalogo([vj,vi])"
   ]
  },
  {
   "cell_type": "code",
   "execution_count": null,
   "metadata": {},
   "outputs": [],
   "source": [
    "c.mostrar()"
   ]
  },
  {
   "cell_type": "code",
   "execution_count": null,
   "metadata": {},
   "outputs": [],
   "source": [
    "c.agregar(Videojuego(\"Pokémon\", \"RPG\", 1996))"
   ]
  },
  {
   "cell_type": "code",
   "execution_count": null,
   "metadata": {},
   "outputs": [],
   "source": [
    "c.mostrar()"
   ]
  },
  {
   "cell_type": "markdown",
   "metadata": {},
   "source": [
    "<font color=Green>\n",
    "    \n",
    "# **7.6 Ejercicios**\n",
    "\n",
    "</font>\n",
    "\n",
    "### Crea una clase llamada _Punto_ con sus dos coordenadas X y Y.\n",
    "+ Añade un método constructor para crear puntos, si no se recibe una coordenada, su valor será cero.\n",
    "+ Redefine el método string para que al imprimir por pantalla el punto aparezca en formato (X,Y)\n",
    "+ Define el método Cuadrante que indique a qué cuadrante pertenece el punto: \n",
    "<img src=\"https://robertoramirezblog.weebly.com/uploads/8/7/2/9/87295088/e70d9bdcdcab6e673b2c0356a02bdf6f_orig.jpg\">\n",
    "+ Define el método Vector, cuyos parámetros sean otro par de coordenadas y que calcule el vector que une los dos puntos.\n",
    "<img src=\"https://encrypted-tbn0.gstatic.com/images?q=tbn%3AANd9GcQGsL80EM7IlKq2eMT8Y98Niw8WvV14l54aag&usqp=CAU\">\n",
    "+ Define el método Distancia, cuyos parámetros sean otro par de coordenadas y que calcule la distancia entre los dos puntos y la muestre por pantalla. \n",
    "<img src=\"https://www.matesfacil.com/BAC/geometria2D/puntos/t6.png\">\n",
    "\n",
    "<font color=#003d5c>\n",
    "  \n",
    "> PROTIP: En Python, la función raíz cuadrada se debe importar del módulo math y se llama sqrt().\n",
    "</font>\n",
    "    "
   ]
  },
  {
   "cell_type": "code",
   "execution_count": null,
   "metadata": {},
   "outputs": [],
   "source": [
    "import math\n",
    "\n",
    "class Punto:\n",
    "\n",
    "    def __init__(self,x=0,y=0):\n",
    "        self.x = x\n",
    "        self.y = y\n",
    "\n",
    "    def __str__(self):\n",
    "        return f\"({self.x}, {self.y})\"\n",
    "\n",
    "    def cuadrante(self):\n",
    "        if self.x > 0 and self.y > 0:\n",
    "            print(f\"{self} pertenece al primer cuadrante\")\n",
    "        elif self.x < 0 and self.y > 0:\n",
    "            print(f\"{self} pertenece al segundo cuadrante\")\n",
    "        elif self.x < 0 and self.y < 0:\n",
    "            print(f\"{self} pertenece al tercer cuadrante\")\n",
    "        elif self.x > 0 and self.y < 0:\n",
    "            print(f\"{self} pertenece al cuarto cuadrante\")\n",
    "            \n",
    "        # Si Y == 0, el punto se ubica sobre el eje X\n",
    "        elif self.x != 0 and self.y == 0:\n",
    "            print(f\"{self} se ubica sobre el eje X\")\n",
    "            \n",
    "        # Si X == 0, el punto se ubica sobre el eje Y    \n",
    "        elif self.x == 0 and self.y != 0:\n",
    "            print(f\"{self} se ubica sobre el eje Y\")\n",
    "            \n",
    "        # Si ambos son 0, el punto se ubica en el origen   \n",
    "        else:\n",
    "            print(f\"{self} se ubica en el origen\")\n",
    "\n",
    "    def vector(self, p):\n",
    "        print(f\"El vector que une los puntos {self} y {p} es igual a ({p.x-self.x}, {p.y-self.y})\")\n",
    "\n",
    "    def distancia(self, p):\n",
    "        mod = math.sqrt( (p.x - self.x)**2 + (p.y - self.y)**2 )\n",
    "        print(f\"La distancia entre los puntos {self} y {p} es {mod}\")"
   ]
  },
  {
   "cell_type": "code",
   "execution_count": null,
   "metadata": {},
   "outputs": [],
   "source": [
    "a = Punto(5,8)\n",
    "b = Punto(10,2)\n",
    "c = Punto(0,0)"
   ]
  },
  {
   "cell_type": "code",
   "execution_count": null,
   "metadata": {},
   "outputs": [],
   "source": [
    "str(c)"
   ]
  },
  {
   "cell_type": "code",
   "execution_count": null,
   "metadata": {},
   "outputs": [],
   "source": [
    "d=Punto(-8,4)\n",
    "d.cuadrante()"
   ]
  },
  {
   "cell_type": "code",
   "execution_count": null,
   "metadata": {},
   "outputs": [],
   "source": [
    "c.cuadrante()"
   ]
  },
  {
   "cell_type": "code",
   "execution_count": null,
   "metadata": {},
   "outputs": [],
   "source": [
    "a.vector(d)"
   ]
  },
  {
   "cell_type": "code",
   "execution_count": null,
   "metadata": {},
   "outputs": [],
   "source": [
    "a.distancia(d)"
   ]
  },
  {
   "cell_type": "markdown",
   "metadata": {},
   "source": [
    "### Crea una clase llamada _Rectangulo_ con dos puntos (inicial y final) que formarán la diagonal del rectángulo.\n",
    "+ Añade un método constructor para crear ambos puntos fácilmente, si no se envían se crearán dos puntos en el origen por defecto.\n",
    "+ Añade al rectángulo un método llamado Mostrar_base que muestre la base.\n",
    "+ Añade al rectángulo un método llamado Mostrar_altura que muestre la altura.\n",
    "+ Añade al rectángulo un método llamado Mostrar_area que muestre el area."
   ]
  },
  {
   "cell_type": "code",
   "execution_count": null,
   "metadata": {},
   "outputs": [],
   "source": [
    "class Rectangulo:\n",
    "\n",
    "    def __init__(self, inicio=Punto(0,0), final=Punto(0,0)):\n",
    "        self.inicio = inicio\n",
    "        self.final = final\n",
    "        self.base = abs(self.final.x - self.inicio.x)\n",
    "        self.altura = abs(self.final.y - self.inicio.y)\n",
    "        self.area = self.base * self.altura\n",
    "\n",
    "    def mostrar_base(self):\n",
    "        print(f\"La base del rectángulo es {self.base}\")\n",
    "\n",
    "    def mostrar_altura(self):\n",
    "        print(f\"La altura del rectángulo es {self.altura}\")\n",
    "\n",
    "    def mostrar_area(self):\n",
    "        print(f\"El área del rectángulo es {self.area}\")"
   ]
  },
  {
   "cell_type": "code",
   "execution_count": null,
   "metadata": {},
   "outputs": [],
   "source": [
    "rec = Rectangulo(a,c)"
   ]
  },
  {
   "cell_type": "code",
   "execution_count": null,
   "metadata": {},
   "outputs": [],
   "source": [
    "rec.mostrar_area()"
   ]
  },
  {
   "cell_type": "code",
   "execution_count": null,
   "metadata": {},
   "outputs": [],
   "source": [
    "rec.mostrar_altura()"
   ]
  },
  {
   "cell_type": "code",
   "execution_count": null,
   "metadata": {},
   "outputs": [],
   "source": [
    "rec.mostrar_base()"
   ]
  },
  {
   "cell_type": "code",
   "execution_count": null,
   "metadata": {},
   "outputs": [],
   "source": []
  }
 ],
 "metadata": {
  "kernelspec": {
   "display_name": "Python 3 (ipykernel)",
   "language": "python",
   "name": "python3"
  },
  "language_info": {
   "codemirror_mode": {
    "name": "ipython",
    "version": 3
   },
   "file_extension": ".py",
   "mimetype": "text/x-python",
   "name": "python",
   "nbconvert_exporter": "python",
   "pygments_lexer": "ipython3",
   "version": "3.10.9"
  }
 },
 "nbformat": 4,
 "nbformat_minor": 4
}
