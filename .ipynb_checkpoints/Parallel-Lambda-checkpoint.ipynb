{
 "cells": [
  {
   "cell_type": "markdown",
   "id": "7c6f6613",
   "metadata": {},
   "source": [
    "## Lambda Functions \n",
    "匿名函數 (lambda): 您已經看到函數式編程如何讓您編寫可用於映射和減少數據的函數。 但是到目前為止，這並沒有讓您免於鍵入大量代碼。這是因為您必須聲明要使用的每個函數，即您必須使用以下語法："
   ]
  },
  {
   "cell_type": "code",
   "execution_count": null,
   "id": "6caf2244",
   "metadata": {},
   "outputs": [],
   "source": [
    "## def add(x, y):\n",
    "    return x + y"
   ]
  },
  {
   "cell_type": "code",
   "execution_count": 2,
   "id": "1cef1981",
   "metadata": {},
   "outputs": [
    {
     "data": {
      "text/plain": [
       "[7, 9, 11, 13, 15]"
      ]
     },
     "execution_count": 2,
     "metadata": {},
     "output_type": "execute_result"
    }
   ],
   "source": [
    "a = [1, 2, 3, 4, 5]\n",
    "b = [6, 7, 8, 9, 10]\n",
    "total = map(lambda x, y: x + y, a, b)\n",
    "list(total)"
   ]
  },
  {
   "cell_type": "code",
   "execution_count": 3,
   "id": "02e8624a",
   "metadata": {},
   "outputs": [
    {
     "data": {
      "text/plain": [
       "120"
      ]
     },
     "execution_count": 3,
     "metadata": {},
     "output_type": "execute_result"
    }
   ],
   "source": [
    "from functools import reduce\n",
    "\n",
    "a = [1, 2, 3, 4, 5]\n",
    "\n",
    "reduce(lambda x, y: x * y, a)"
   ]
  },
  {
   "cell_type": "code",
   "execution_count": 4,
   "id": "1dceec3b",
   "metadata": {},
   "outputs": [],
   "source": [
    "# 除了 def 版本將此函數對象分配給名為 name 的變量，\n",
    "# 而 lambda 版本創建函數對象而不將其分配給變量。\n",
    "\n",
    "# 為了理解我們上面的例子，它需要兩個參數，x 和 y：\n",
    "\n",
    "#   ↓  ↓\n",
    "# λ x, y: x + y\n",
    "# 並返回表達式 x + y 的結果。\n",
    "\n",
    "# 每當想將簡單的單行表達式作為參數傳遞時都可以使用 lambda"
   ]
  },
  {
   "cell_type": "code",
   "execution_count": 5,
   "id": "740ca76e",
   "metadata": {},
   "outputs": [
    {
     "data": {
      "text/plain": [
       "120"
      ]
     },
     "execution_count": 5,
     "metadata": {},
     "output_type": "execute_result"
    }
   ],
   "source": [
    "from functools import reduce\n",
    "a = [1, 2, 3, 4, 5]\n",
    "reduce(lambda x, y: x * y, a)"
   ]
  },
  {
   "cell_type": "code",
   "execution_count": 6,
   "id": "de5f527d",
   "metadata": {},
   "outputs": [
    {
     "data": {
      "text/plain": [
       "[1, 4, 9, 16, 25]"
      ]
     },
     "execution_count": 6,
     "metadata": {},
     "output_type": "execute_result"
    }
   ],
   "source": [
    "squares = map(lambda x: x * x, a)\n",
    "list(squares)"
   ]
  },
  {
   "cell_type": "code",
   "execution_count": 7,
   "id": "d8c1b716",
   "metadata": {},
   "outputs": [
    {
     "data": {
      "text/plain": [
       "[1, 4, 9, 16, 25]"
      ]
     },
     "execution_count": 7,
     "metadata": {},
     "output_type": "execute_result"
    }
   ],
   "source": [
    "A = [1,2,3,4,5]\n",
    "list(map(lambda x: x**2, A))"
   ]
  },
  {
   "cell_type": "code",
   "execution_count": 8,
   "id": "44c0600b",
   "metadata": {},
   "outputs": [
    {
     "data": {
      "text/plain": [
       "['apple', 'book']"
      ]
     },
     "execution_count": 8,
     "metadata": {},
     "output_type": "execute_result"
    }
   ],
   "source": [
    "B = [\"Apple\", \"Book\"]\n",
    "list(map(lambda x: x.lower(), B))"
   ]
  },
  {
   "cell_type": "code",
   "execution_count": 9,
   "id": "8de7508b",
   "metadata": {},
   "outputs": [
    {
     "data": {
      "text/plain": [
       "0    Perfect\n",
       "1       Good\n",
       "2       Good\n",
       "3       Good\n",
       "4       Good\n",
       "Name: Score, dtype: object"
      ]
     },
     "execution_count": 9,
     "metadata": {},
     "output_type": "execute_result"
    }
   ],
   "source": [
    "import pandas as pd\n",
    "df = pd.DataFrame({\"Name\": [\"Alice\", \"Bob\", \"Bob\", \"Bob\", \"Carol\"],\n",
    "                   \"Score\": [100, 95, 97, 97, 95]})\n",
    "df[\"Score\"].map(lambda x: \"Perfect\" if x == 100 else \"Good\")"
   ]
  },
  {
   "cell_type": "code",
   "execution_count": 10,
   "id": "3e23c417",
   "metadata": {},
   "outputs": [
    {
     "name": "stdout",
     "output_type": "stream",
     "text": [
      "Resultado sumar con función lambda: 10\n",
      "Llamar función lambda sin argumentos: Función sin argumentos\n",
      "Resultado argumentos por default: 5\n",
      "Resultado argumentos variables: 5\n",
      "Resultado función lambda: 12\n"
     ]
    }
   ],
   "source": [
    "mi_funcion_lambda = lambda a, b: a + b\n",
    "\n",
    "resultado = mi_funcion_lambda(4,6)\n",
    "print(f'Resultado sumar con función lambda: {resultado}')\n",
    "\n",
    "# Función lambda que no recibe argumentos (debemos regresar una expresión válida)\n",
    "mi_funcion_lambda = lambda: 'Función sin argumentos'\n",
    "print(f'Llamar función lambda sin argumentos: {mi_funcion_lambda()}')\n",
    "\n",
    "# Función lambda con parámetros por default\n",
    "mi_funcion_lambda = lambda a=2, b=3: a + b\n",
    "print(f'Resultado argumentos por default: {mi_funcion_lambda()}')\n",
    "\n",
    "# Función lambda con argumentos variables *args y **kwargs\n",
    "mi_funcion_lambda = lambda *args, **kwargs: len(args) + len(kwargs)\n",
    "print(f'Resultado argumentos variables: {mi_funcion_lambda(1,2,3, a=5,b=6)}')\n",
    "\n",
    "# Funciones lambda con argumentos, argumentos variables y valores por default\n",
    "mi_funcion_lambda = lambda a, b, c=3, *args, **kwargs: a+b+c+len(args)+len(kwargs)\n",
    "print(f'Resultado función lambda: {mi_funcion_lambda(1,2,4, 5,6,7,e=5,f=7)}')"
   ]
  },
  {
   "cell_type": "code",
   "execution_count": 11,
   "id": "1bb24e04",
   "metadata": {},
   "outputs": [
    {
     "name": "stdout",
     "output_type": "stream",
     "text": [
      "Resultado sumar con función lambda: 10\n",
      "Llamar función lambda sin argumentos: Función sin argumentos\n",
      "Resultado argumentos por default: 5\n",
      "Resultado argumentos variables: 5\n",
      "Resultado función lambda: 12\n"
     ]
    }
   ],
   "source": [
    "# Funciones lambda\n",
    "# Son funciones anónimas, y son pequeñas (una línea de código)\n",
    "\n",
    "# No es posible asignar una función a una variable\n",
    "# mi_funcion = def sumar(a, b): return a + b\n",
    "\n",
    "# Con una función lambda(anónima, sin nombre, y una sola línea de código)\n",
    "# No se necesita agregar paréntesis para los parámetros\n",
    "# No se necesita usar la palabra return, pero sí debe regresar una expresión\n",
    "mi_funcion_lambda = lambda a, b: a + b\n",
    "\n",
    "resultado = mi_funcion_lambda(4,6)\n",
    "print(f'Resultado sumar con función lambda: {resultado}')\n",
    "\n",
    "# Función lambda que no recibe argumentos (debemos regresar una expresión válida)\n",
    "mi_funcion_lambda = lambda: 'Función sin argumentos'\n",
    "print(f'Llamar función lambda sin argumentos: {mi_funcion_lambda()}')\n",
    "\n",
    "# Función lambda con parámetros por default\n",
    "mi_funcion_lambda = lambda a=2, b=3: a + b\n",
    "print(f'Resultado argumentos por default: {mi_funcion_lambda()}')\n",
    "\n",
    "# Función lambda con argumentos variables *args y **kwargs\n",
    "mi_funcion_lambda = lambda *args, **kwargs: len(args) + len(kwargs)\n",
    "print(f'Resultado argumentos variables: {mi_funcion_lambda(1,2,3, a=5,b=6)}')\n",
    "\n",
    "# Funciones lambda con argumentos, argumentos variables y valores por default\n",
    "mi_funcion_lambda = lambda a, b, c=3, *args, **kwargs: a+b+c+len(args)+len(kwargs)\n",
    "print(f'Resultado función lambda: {mi_funcion_lambda(1,2,4, 5,6,7,e=5,f=7)}')"
   ]
  },
  {
   "cell_type": "markdown",
   "id": "5861a860",
   "metadata": {},
   "source": [
    "## Binding Arguments\n",
    "除了使用 lambda 創建函數作為參數外，您還可以使用 lambda 更快地創建簡單函數："
   ]
  },
  {
   "cell_type": "code",
   "execution_count": 12,
   "id": "0fe531a6",
   "metadata": {},
   "outputs": [
    {
     "data": {
      "text/plain": [
       "25"
      ]
     },
     "execution_count": 12,
     "metadata": {},
     "output_type": "execute_result"
    }
   ],
   "source": [
    "square = lambda x: x * x\n",
    "square(5)"
   ]
  },
  {
   "cell_type": "code",
   "execution_count": 13,
   "id": "21563a99",
   "metadata": {},
   "outputs": [
    {
     "data": {
      "text/plain": [
       "12"
      ]
     },
     "execution_count": 13,
     "metadata": {},
     "output_type": "execute_result"
    }
   ],
   "source": [
    "def add(x, y):\n",
    "    \"\"\"Return the sum of the two arguments\"\"\"\n",
    "    return x + y\n",
    "\n",
    "plus_five = lambda x: add(x, 5)\n",
    "plus_five(7)"
   ]
  },
  {
   "cell_type": "code",
   "execution_count": 14,
   "id": "053ea2f9",
   "metadata": {},
   "outputs": [
    {
     "data": {
      "text/plain": [
       "12"
      ]
     },
     "execution_count": 14,
     "metadata": {},
     "output_type": "execute_result"
    }
   ],
   "source": [
    "def plus_five(x):\n",
    "    return add(x, 5)\n",
    "\n",
    "plus_five(7)"
   ]
  },
  {
   "cell_type": "code",
   "execution_count": 15,
   "id": "87e70ec7",
   "metadata": {
    "scrolled": true
   },
   "outputs": [
    {
     "data": {
      "text/plain": [
       "[2, 4, 6, 8, 10]"
      ]
     },
     "execution_count": 15,
     "metadata": {},
     "output_type": "execute_result"
    }
   ],
   "source": [
    "def multiply(x, y):\n",
    "    \"\"\"Return the product of the two arguments\"\"\"\n",
    "    return x * y\n",
    "\n",
    "a = [1, 2, 3, 4, 5]\n",
    "double_a = map(lambda x: multiply(x, 2), a)\n",
    "list(double_a)"
   ]
  },
  {
   "cell_type": "markdown",
   "id": "9d96de88",
   "metadata": {},
   "source": [
    "## Addition"
   ]
  },
  {
   "cell_type": "code",
   "execution_count": 16,
   "id": "908f991f",
   "metadata": {},
   "outputs": [
    {
     "name": "stdout",
     "output_type": "stream",
     "text": [
      "10.0\n"
     ]
    }
   ],
   "source": [
    "#Lambda\n",
    "\n",
    "def xyz(a,b,c):\n",
    "    return a*a+2*b/c\n",
    "\n",
    "print(xyz(3,4,8))"
   ]
  },
  {
   "cell_type": "code",
   "execution_count": 17,
   "id": "dd8f6a94",
   "metadata": {
    "scrolled": true
   },
   "outputs": [
    {
     "name": "stdout",
     "output_type": "stream",
     "text": [
      "10.0\n"
     ]
    }
   ],
   "source": [
    "xyz = lambda a,b,c : a*a+2*b/c\n",
    "print(xyz(3,4,8))"
   ]
  },
  {
   "cell_type": "code",
   "execution_count": 18,
   "id": "d7bcee4f",
   "metadata": {
    "scrolled": true
   },
   "outputs": [
    {
     "name": "stdout",
     "output_type": "stream",
     "text": [
      "4\n"
     ]
    }
   ],
   "source": [
    "z = lambda a : a + 2\n",
    "print(z(2))"
   ]
  },
  {
   "cell_type": "code",
   "execution_count": 19,
   "id": "62e3dee5",
   "metadata": {},
   "outputs": [
    {
     "name": "stdout",
     "output_type": "stream",
     "text": [
      "6\n"
     ]
    }
   ],
   "source": [
    "y = lambda a,b : a * b\n",
    "print(y(2,3))"
   ]
  },
  {
   "cell_type": "code",
   "execution_count": 20,
   "id": "97d9b5f9",
   "metadata": {},
   "outputs": [
    {
     "name": "stdout",
     "output_type": "stream",
     "text": [
      "1\n"
     ]
    }
   ],
   "source": [
    "x = lambda a,b,c : a-b-c\n",
    "print(x(5,2,2))"
   ]
  },
  {
   "cell_type": "code",
   "execution_count": 21,
   "id": "40c9b2b3",
   "metadata": {},
   "outputs": [
    {
     "name": "stdout",
     "output_type": "stream",
     "text": [
      "1\n"
     ]
    }
   ],
   "source": [
    "n = lambda a,b : a % b\n",
    "print(n(5,2))"
   ]
  },
  {
   "cell_type": "code",
   "execution_count": 22,
   "id": "cc7a885e",
   "metadata": {},
   "outputs": [
    {
     "name": "stdout",
     "output_type": "stream",
     "text": [
      "25\n"
     ]
    }
   ],
   "source": [
    "x= lambda a: a*a\n",
    "print(x(5))"
   ]
  },
  {
   "cell_type": "code",
   "execution_count": 23,
   "id": "9d9bb67c",
   "metadata": {},
   "outputs": [
    {
     "data": {
      "text/plain": [
       "40"
      ]
     },
     "execution_count": 23,
     "metadata": {},
     "output_type": "execute_result"
    }
   ],
   "source": [
    "y= lambda a,b: a+b\n",
    "y(10,30)"
   ]
  },
  {
   "cell_type": "markdown",
   "id": "26752cbe",
   "metadata": {},
   "source": [
    "## Filter"
   ]
  },
  {
   "cell_type": "code",
   "execution_count": 24,
   "id": "5c90234e",
   "metadata": {},
   "outputs": [
    {
     "name": "stdout",
     "output_type": "stream",
     "text": [
      "[4, 8, 4, 2]\n"
     ]
    }
   ],
   "source": [
    "#Filter Functions\n",
    "\n",
    "\n",
    "l = [4,7,8,5,3,4,1,2]\n",
    "\n",
    "def xyz(n):\n",
    "    if n%2 == 0:\n",
    "        return True\n",
    "    else:\n",
    "        return False\n",
    "result = filter(xyz,l)\n",
    "print(list(result))"
   ]
  },
  {
   "cell_type": "code",
   "execution_count": 25,
   "id": "b0659be3",
   "metadata": {},
   "outputs": [
    {
     "name": "stdout",
     "output_type": "stream",
     "text": [
      "[4, 6, 8, 12]\n"
     ]
    }
   ],
   "source": [
    "my_list = [1,5,4,6,8,11,3,12]\n",
    "new_list = list(filter(lambda x:(x%2==0), my_list))\n",
    "print(new_list)"
   ]
  },
  {
   "cell_type": "code",
   "execution_count": 26,
   "id": "f4d61be3",
   "metadata": {},
   "outputs": [],
   "source": [
    "score =[76,23,54,12,65,43]\n",
    "def score_check(s):\n",
    "    if s>50:\n",
    "        return True\n",
    "    else:\n",
    "        return False"
   ]
  },
  {
   "cell_type": "code",
   "execution_count": 27,
   "id": "64b38594",
   "metadata": {},
   "outputs": [
    {
     "name": "stdout",
     "output_type": "stream",
     "text": [
      "76\n",
      "54\n",
      "65\n"
     ]
    }
   ],
   "source": [
    "students_passed=filter(score_check, score)\n",
    "for i in students_passed:\n",
    "    print(i)\n"
   ]
  },
  {
   "cell_type": "markdown",
   "id": "1deb1b9c",
   "metadata": {},
   "source": [
    "## Zip"
   ]
  },
  {
   "cell_type": "code",
   "execution_count": 28,
   "id": "496038ef",
   "metadata": {},
   "outputs": [
    {
     "data": {
      "text/plain": [
       "[('Rohan', 67), ('Amita', 34), ('Shushant', 78), ('Pawan', 85), ('Kiran', 65)]"
      ]
     },
     "execution_count": 28,
     "metadata": {},
     "output_type": "execute_result"
    }
   ],
   "source": [
    "student_names = ['Rohan', 'Amita', 'Shushant', 'Pawan', 'Kiran']\n",
    "student_marks = [67,34,78,85,65]\n",
    "zipped_list = zip(student_names, student_marks)\n",
    "zipped_list = list(zipped_list)\n",
    "zipped_list"
   ]
  },
  {
   "cell_type": "code",
   "execution_count": 29,
   "id": "b30f1f80",
   "metadata": {},
   "outputs": [
    {
     "name": "stdout",
     "output_type": "stream",
     "text": [
      "names =  ['Rohan', 'Amita', 'Shushant', 'Pawan', 'Kiran']\n",
      "marks =  [67, 34, 78, 85, 65]\n"
     ]
    }
   ],
   "source": [
    "student_names, student_marks = zip( *zipped_list)\n",
    "print('names = ',list(student_names))\n",
    "print('marks = ',list(student_marks))"
   ]
  },
  {
   "cell_type": "markdown",
   "id": "ee713dea",
   "metadata": {},
   "source": [
    "## Recyrsivas"
   ]
  },
  {
   "cell_type": "code",
   "execution_count": 30,
   "id": "71f46da3",
   "metadata": {},
   "outputs": [
    {
     "name": "stdout",
     "output_type": "stream",
     "text": [
      "El factorial de 5 es 120\n"
     ]
    }
   ],
   "source": [
    "# 5! = 5 * 4 * 3 * 2 * 1\n",
    "# 5! = 5 * 4 * 3 * 2\n",
    "# 5! = 5 * 4 * 6\n",
    "# 5! = 5 * 24\n",
    "# 5! = 120\n",
    "def factorial(numero):\n",
    "    if numero == 1:\n",
    "        return 1\n",
    "    else:\n",
    "        return numero * factorial(numero-1)\n",
    "\n",
    "numero = 5\n",
    "resultado = factorial(numero)\n",
    "print(f'El factorial de {numero} es {resultado}')"
   ]
  },
  {
   "cell_type": "code",
   "execution_count": 31,
   "id": "db9b030d",
   "metadata": {},
   "outputs": [
    {
     "name": "stdout",
     "output_type": "stream",
     "text": [
      "30\n"
     ]
    }
   ],
   "source": [
    "# sonuc = (lambda a: a ** 2)(3)\n",
    "multiply = lambda a: a ** 2\n",
    "sonuc = multiply(5)\n",
    "\n",
    "toplama = lambda a,b,c: a+b+c\n",
    "sonuc = toplama(1,4,7)\n",
    "\n",
    "tersCevir = lambda s: s[::-1]\n",
    "sonuc = tersCevir(\"Sadık\")\n",
    "\n",
    "def myFunc(n):\n",
    "    return lambda a: a * n\n",
    "\n",
    "multiply2 = myFunc(2)\n",
    "multiply3 = myFunc(3)\n",
    "\n",
    "sonuc = multiply2(10)\n",
    "sonuc = multiply2(20)\n",
    "sonuc = multiply3(10)\n",
    "\n",
    "\n",
    "print(sonuc)"
   ]
  },
  {
   "cell_type": "code",
   "execution_count": 32,
   "id": "d760dc0d",
   "metadata": {},
   "outputs": [
    {
     "name": "stdout",
     "output_type": "stream",
     "text": [
      "sum of 51\n"
     ]
    }
   ],
   "source": [
    "a=lambda b:b+1\n",
    "print(\"sum of\",a(50))"
   ]
  },
  {
   "cell_type": "code",
   "execution_count": 33,
   "id": "ddf192e1",
   "metadata": {},
   "outputs": [
    {
     "name": "stdout",
     "output_type": "stream",
     "text": [
      "30\n"
     ]
    }
   ],
   "source": [
    "# add 20 to a number x\n",
    "a = lambda x: x + 20\n",
    "print(a(10))\n"
   ]
  },
  {
   "cell_type": "code",
   "execution_count": 34,
   "id": "87237ccd",
   "metadata": {},
   "outputs": [
    {
     "name": "stdout",
     "output_type": "stream",
     "text": [
      "24\n"
     ]
    }
   ],
   "source": [
    "# lambda args\n",
    "# store_lambda = lambda x, y : x * y\n",
    "# print(store_lambda(10, 11))\n",
    "\n",
    "# sum of args\n",
    "store_args = lambda x, y, z : x + y + z\n",
    "print(store_args(7, 8, 9))\n"
   ]
  },
  {
   "cell_type": "markdown",
   "id": "981d120e",
   "metadata": {},
   "source": [
    "### Exmaple"
   ]
  },
  {
   "cell_type": "code",
   "execution_count": 35,
   "id": "e394f6b8",
   "metadata": {},
   "outputs": [
    {
     "data": {
      "text/plain": [
       "7.0"
      ]
     },
     "execution_count": 35,
     "metadata": {},
     "output_type": "execute_result"
    }
   ],
   "source": [
    "def discount(value):\n",
    "    return value-(value*0.30)\n",
    "discount(10)"
   ]
  },
  {
   "cell_type": "code",
   "execution_count": 36,
   "id": "68c7caf6",
   "metadata": {},
   "outputs": [
    {
     "data": {
      "text/plain": [
       "70.0"
      ]
     },
     "execution_count": 36,
     "metadata": {},
     "output_type": "execute_result"
    }
   ],
   "source": [
    "discount = lambda value:value-(value*0.30)\n",
    "discount(100)"
   ]
  },
  {
   "cell_type": "code",
   "execution_count": 37,
   "id": "c8947631",
   "metadata": {},
   "outputs": [
    {
     "data": {
      "text/plain": [
       "[7.0, 16.1, 28.0, 39.900000000000006, 42.0, 70.0]"
      ]
     },
     "execution_count": 37,
     "metadata": {},
     "output_type": "execute_result"
    }
   ],
   "source": [
    "numbers = [10,23,40,57,60,100]\n",
    "list(map(lambda value:value-(value*0.30), numbers))"
   ]
  },
  {
   "cell_type": "code",
   "execution_count": 38,
   "id": "d57f2bc0",
   "metadata": {},
   "outputs": [],
   "source": [
    "def even_numbers(number):\n",
    "    return number%2==0"
   ]
  },
  {
   "cell_type": "code",
   "execution_count": 39,
   "id": "1633347e",
   "metadata": {},
   "outputs": [
    {
     "name": "stdout",
     "output_type": "stream",
     "text": [
      "10\n",
      "40\n",
      "60\n",
      "100\n"
     ]
    }
   ],
   "source": [
    "for x in filter(lambda number:number%2==0, numbers):\n",
    "    print (x)"
   ]
  },
  {
   "cell_type": "code",
   "execution_count": 40,
   "id": "58571b0c",
   "metadata": {},
   "outputs": [
    {
     "data": {
      "text/plain": [
       "[10, 40, 60, 100]"
      ]
     },
     "execution_count": 40,
     "metadata": {},
     "output_type": "execute_result"
    }
   ],
   "source": [
    "list(filter(lambda number:number%2==0, numbers))"
   ]
  },
  {
   "cell_type": "code",
   "execution_count": 41,
   "id": "000efb1e",
   "metadata": {},
   "outputs": [
    {
     "name": "stdout",
     "output_type": "stream",
     "text": [
      "20\n",
      "57\n",
      "11\n",
      "False\n"
     ]
    }
   ],
   "source": [
    "multi = lambda x:x*2\n",
    "print(multi(10))\n",
    "\n",
    "add = lambda x,y:x+y\n",
    "print(add(2,55))\n",
    "\n",
    "def add(a,b):\n",
    "    return a+b\n",
    "print(add(5,6))\n",
    "\n",
    "oddeven = lambda num: True if num%2 == 0 else False\n",
    "print(oddeven(55))"
   ]
  },
  {
   "cell_type": "code",
   "execution_count": 42,
   "id": "98014e0f",
   "metadata": {},
   "outputs": [
    {
     "data": {
      "text/plain": [
       "<map at 0x7fbb81813bb0>"
      ]
     },
     "execution_count": 42,
     "metadata": {},
     "output_type": "execute_result"
    }
   ],
   "source": [
    "# Creation lambda oject\n",
    "lambda x: x**2\n",
    "\n",
    "# Create a list to apply a lambda function\n",
    "lis = [1,2,3]\n",
    "\n",
    "# Use map function to apply lambda function to a list\n",
    "generator = map(lambda x: x**2,lis)\n",
    "generator"
   ]
  },
  {
   "cell_type": "code",
   "execution_count": 43,
   "id": "5bc7f55f",
   "metadata": {},
   "outputs": [
    {
     "data": {
      "text/plain": [
       "[1, 4, 9]"
      ]
     },
     "execution_count": 43,
     "metadata": {},
     "output_type": "execute_result"
    }
   ],
   "source": [
    "# Map the list\n",
    "list(generator)"
   ]
  },
  {
   "cell_type": "code",
   "execution_count": 44,
   "id": "4c2d030d",
   "metadata": {},
   "outputs": [
    {
     "data": {
      "text/plain": [
       "[2]"
      ]
     },
     "execution_count": 44,
     "metadata": {},
     "output_type": "execute_result"
    }
   ],
   "source": [
    "# Create a function wich verify if the number is odd or not\n",
    "def f(num):\n",
    "    return num%2==0\n",
    "\n",
    "# Filter take only the values wich return True \n",
    "list(filter(f, lis))"
   ]
  },
  {
   "cell_type": "markdown",
   "id": "94968ac6",
   "metadata": {},
   "source": [
    "## lambda - Function Application and Mapping"
   ]
  },
  {
   "cell_type": "code",
   "execution_count": 24,
   "id": "0a601522",
   "metadata": {},
   "outputs": [],
   "source": [
    "# pd.DataFrame.apply?\n",
    "# pd.DataFrame.applymap?"
   ]
  },
  {
   "cell_type": "code",
   "execution_count": 25,
   "id": "d4e483b5",
   "metadata": {},
   "outputs": [
    {
     "data": {
      "text/html": [
       "<div>\n",
       "<style scoped>\n",
       "    .dataframe tbody tr th:only-of-type {\n",
       "        vertical-align: middle;\n",
       "    }\n",
       "\n",
       "    .dataframe tbody tr th {\n",
       "        vertical-align: top;\n",
       "    }\n",
       "\n",
       "    .dataframe thead th {\n",
       "        text-align: right;\n",
       "    }\n",
       "</style>\n",
       "<table border=\"1\" class=\"dataframe\">\n",
       "  <thead>\n",
       "    <tr style=\"text-align: right;\">\n",
       "      <th></th>\n",
       "      <th>b</th>\n",
       "      <th>d</th>\n",
       "      <th>e</th>\n",
       "    </tr>\n",
       "  </thead>\n",
       "  <tbody>\n",
       "    <tr>\n",
       "      <th>One</th>\n",
       "      <td>1.909629</td>\n",
       "      <td>1.662833</td>\n",
       "      <td>-1.554754</td>\n",
       "    </tr>\n",
       "    <tr>\n",
       "      <th>Two</th>\n",
       "      <td>1.030018</td>\n",
       "      <td>1.810934</td>\n",
       "      <td>0.954190</td>\n",
       "    </tr>\n",
       "    <tr>\n",
       "      <th>Three</th>\n",
       "      <td>-0.727966</td>\n",
       "      <td>1.818814</td>\n",
       "      <td>-1.057969</td>\n",
       "    </tr>\n",
       "    <tr>\n",
       "      <th>Four</th>\n",
       "      <td>-0.172923</td>\n",
       "      <td>0.064562</td>\n",
       "      <td>1.767658</td>\n",
       "    </tr>\n",
       "  </tbody>\n",
       "</table>\n",
       "</div>"
      ],
      "text/plain": [
       "              b         d         e\n",
       "One    1.909629  1.662833 -1.554754\n",
       "Two    1.030018  1.810934  0.954190\n",
       "Three -0.727966  1.818814 -1.057969\n",
       "Four  -0.172923  0.064562  1.767658"
      ]
     },
     "execution_count": 25,
     "metadata": {},
     "output_type": "execute_result"
    }
   ],
   "source": [
    "import pandas as pd\n",
    "import numpy as np\n",
    "df8 = pd.DataFrame(np.random.randn(4, 3),  \n",
    "                  columns=list('bde'), index=['One', 'Two', 'Three', 'Four'])\n",
    "df8"
   ]
  },
  {
   "cell_type": "code",
   "execution_count": 26,
   "id": "5cd61ce9",
   "metadata": {},
   "outputs": [
    {
     "data": {
      "text/html": [
       "<div>\n",
       "<style scoped>\n",
       "    .dataframe tbody tr th:only-of-type {\n",
       "        vertical-align: middle;\n",
       "    }\n",
       "\n",
       "    .dataframe tbody tr th {\n",
       "        vertical-align: top;\n",
       "    }\n",
       "\n",
       "    .dataframe thead th {\n",
       "        text-align: right;\n",
       "    }\n",
       "</style>\n",
       "<table border=\"1\" class=\"dataframe\">\n",
       "  <thead>\n",
       "    <tr style=\"text-align: right;\">\n",
       "      <th></th>\n",
       "      <th>b</th>\n",
       "      <th>d</th>\n",
       "      <th>e</th>\n",
       "    </tr>\n",
       "  </thead>\n",
       "  <tbody>\n",
       "    <tr>\n",
       "      <th>One</th>\n",
       "      <td>1.909629</td>\n",
       "      <td>1.662833</td>\n",
       "      <td>1.554754</td>\n",
       "    </tr>\n",
       "    <tr>\n",
       "      <th>Two</th>\n",
       "      <td>1.030018</td>\n",
       "      <td>1.810934</td>\n",
       "      <td>0.954190</td>\n",
       "    </tr>\n",
       "    <tr>\n",
       "      <th>Three</th>\n",
       "      <td>0.727966</td>\n",
       "      <td>1.818814</td>\n",
       "      <td>1.057969</td>\n",
       "    </tr>\n",
       "    <tr>\n",
       "      <th>Four</th>\n",
       "      <td>0.172923</td>\n",
       "      <td>0.064562</td>\n",
       "      <td>1.767658</td>\n",
       "    </tr>\n",
       "  </tbody>\n",
       "</table>\n",
       "</div>"
      ],
      "text/plain": [
       "              b         d         e\n",
       "One    1.909629  1.662833  1.554754\n",
       "Two    1.030018  1.810934  0.954190\n",
       "Three  0.727966  1.818814  1.057969\n",
       "Four   0.172923  0.064562  1.767658"
      ]
     },
     "execution_count": 26,
     "metadata": {},
     "output_type": "execute_result"
    }
   ],
   "source": [
    "abs(df8)"
   ]
  },
  {
   "cell_type": "code",
   "execution_count": 27,
   "id": "55d17c48",
   "metadata": {},
   "outputs": [
    {
     "data": {
      "text/plain": [
       "b    1.909629\n",
       "d    1.818814\n",
       "e    1.767658\n",
       "dtype: float64"
      ]
     },
     "execution_count": 27,
     "metadata": {},
     "output_type": "execute_result"
    }
   ],
   "source": [
    "f = lambda x: x.max()\n",
    "#f = lambda x: x.min()\n",
    "#f = lambda x: x.max() - x.min()\n",
    "df8.apply(f)"
   ]
  },
  {
   "cell_type": "code",
   "execution_count": 28,
   "id": "7d13a666",
   "metadata": {},
   "outputs": [
    {
     "data": {
      "text/plain": [
       "One      1.909629\n",
       "Two      1.810934\n",
       "Three    1.818814\n",
       "Four     1.767658\n",
       "dtype: float64"
      ]
     },
     "execution_count": 28,
     "metadata": {},
     "output_type": "execute_result"
    }
   ],
   "source": [
    "f = lambda x: x.max()\n",
    "#f = lambda x: x.max() - x.min()\n",
    "df8.apply(f, axis='columns')\n",
    "df8.apply(f, axis='columns')"
   ]
  },
  {
   "cell_type": "code",
   "execution_count": 29,
   "id": "907c1bd3",
   "metadata": {},
   "outputs": [
    {
     "data": {
      "text/html": [
       "<div>\n",
       "<style scoped>\n",
       "    .dataframe tbody tr th:only-of-type {\n",
       "        vertical-align: middle;\n",
       "    }\n",
       "\n",
       "    .dataframe tbody tr th {\n",
       "        vertical-align: top;\n",
       "    }\n",
       "\n",
       "    .dataframe thead th {\n",
       "        text-align: right;\n",
       "    }\n",
       "</style>\n",
       "<table border=\"1\" class=\"dataframe\">\n",
       "  <thead>\n",
       "    <tr style=\"text-align: right;\">\n",
       "      <th></th>\n",
       "      <th>b</th>\n",
       "      <th>d</th>\n",
       "      <th>e</th>\n",
       "    </tr>\n",
       "  </thead>\n",
       "  <tbody>\n",
       "    <tr>\n",
       "      <th>max</th>\n",
       "      <td>1.909629</td>\n",
       "      <td>1.818814</td>\n",
       "      <td>1.767658</td>\n",
       "    </tr>\n",
       "    <tr>\n",
       "      <th>min</th>\n",
       "      <td>-0.727966</td>\n",
       "      <td>0.064562</td>\n",
       "      <td>-1.554754</td>\n",
       "    </tr>\n",
       "    <tr>\n",
       "      <th>mean</th>\n",
       "      <td>0.509689</td>\n",
       "      <td>1.339286</td>\n",
       "      <td>0.027281</td>\n",
       "    </tr>\n",
       "  </tbody>\n",
       "</table>\n",
       "</div>"
      ],
      "text/plain": [
       "             b         d         e\n",
       "max   1.909629  1.818814  1.767658\n",
       "min  -0.727966  0.064562 -1.554754\n",
       "mean  0.509689  1.339286  0.027281"
      ]
     },
     "execution_count": 29,
     "metadata": {},
     "output_type": "execute_result"
    }
   ],
   "source": [
    "def f(x):  return pd.Series([x.max(), x.min(), x.mean()], index=['max', 'min', 'mean'])\n",
    "df8.apply(f)"
   ]
  },
  {
   "cell_type": "code",
   "execution_count": 30,
   "id": "3712c742",
   "metadata": {},
   "outputs": [
    {
     "data": {
      "text/html": [
       "<div>\n",
       "<style scoped>\n",
       "    .dataframe tbody tr th:only-of-type {\n",
       "        vertical-align: middle;\n",
       "    }\n",
       "\n",
       "    .dataframe tbody tr th {\n",
       "        vertical-align: top;\n",
       "    }\n",
       "\n",
       "    .dataframe thead th {\n",
       "        text-align: right;\n",
       "    }\n",
       "</style>\n",
       "<table border=\"1\" class=\"dataframe\">\n",
       "  <thead>\n",
       "    <tr style=\"text-align: right;\">\n",
       "      <th></th>\n",
       "      <th>b</th>\n",
       "      <th>d</th>\n",
       "      <th>e</th>\n",
       "    </tr>\n",
       "  </thead>\n",
       "  <tbody>\n",
       "    <tr>\n",
       "      <th>One</th>\n",
       "      <td>1.910</td>\n",
       "      <td>1.663</td>\n",
       "      <td>-1.555</td>\n",
       "    </tr>\n",
       "    <tr>\n",
       "      <th>Two</th>\n",
       "      <td>1.030</td>\n",
       "      <td>1.811</td>\n",
       "      <td>0.954</td>\n",
       "    </tr>\n",
       "    <tr>\n",
       "      <th>Three</th>\n",
       "      <td>-0.728</td>\n",
       "      <td>1.819</td>\n",
       "      <td>-1.058</td>\n",
       "    </tr>\n",
       "    <tr>\n",
       "      <th>Four</th>\n",
       "      <td>-0.173</td>\n",
       "      <td>0.065</td>\n",
       "      <td>1.768</td>\n",
       "    </tr>\n",
       "  </tbody>\n",
       "</table>\n",
       "</div>"
      ],
      "text/plain": [
       "            b      d       e\n",
       "One     1.910  1.663  -1.555\n",
       "Two     1.030  1.811   0.954\n",
       "Three  -0.728  1.819  -1.058\n",
       "Four   -0.173  0.065   1.768"
      ]
     },
     "execution_count": 30,
     "metadata": {},
     "output_type": "execute_result"
    }
   ],
   "source": [
    "f = lambda x: '%.3f' %x\n",
    "df8.applymap(f)"
   ]
  },
  {
   "cell_type": "code",
   "execution_count": null,
   "id": "5e431478",
   "metadata": {},
   "outputs": [],
   "source": []
  }
 ],
 "metadata": {
  "kernelspec": {
   "display_name": "Python 3 (ipykernel)",
   "language": "python",
   "name": "python3"
  },
  "language_info": {
   "codemirror_mode": {
    "name": "ipython",
    "version": 3
   },
   "file_extension": ".py",
   "mimetype": "text/x-python",
   "name": "python",
   "nbconvert_exporter": "python",
   "pygments_lexer": "ipython3",
   "version": "3.9.7"
  }
 },
 "nbformat": 4,
 "nbformat_minor": 5
}
