{
 "cells": [
  {
   "cell_type": "code",
   "execution_count": 6,
   "id": "97ee3837",
   "metadata": {},
   "outputs": [
    {
     "data": {
      "text/html": [
       "<div>\n",
       "<style scoped>\n",
       "    .dataframe tbody tr th:only-of-type {\n",
       "        vertical-align: middle;\n",
       "    }\n",
       "\n",
       "    .dataframe tbody tr th {\n",
       "        vertical-align: top;\n",
       "    }\n",
       "\n",
       "    .dataframe thead th {\n",
       "        text-align: right;\n",
       "    }\n",
       "</style>\n",
       "<table border=\"1\" class=\"dataframe\">\n",
       "  <thead>\n",
       "    <tr style=\"text-align: right;\">\n",
       "      <th></th>\n",
       "      <th>year</th>\n",
       "      <th>week</th>\n",
       "      <th>date</th>\n",
       "      <th>ATV</th>\n",
       "      <th>UPT</th>\n",
       "      <th>n_invoices</th>\n",
       "      <th>ASP</th>\n",
       "    </tr>\n",
       "  </thead>\n",
       "  <tbody>\n",
       "    <tr>\n",
       "      <th>35</th>\n",
       "      <td>2010</td>\n",
       "      <td>32</td>\n",
       "      <td>2010-08-09</td>\n",
       "      <td>534.523205</td>\n",
       "      <td>541.439169</td>\n",
       "      <td>337</td>\n",
       "      <td>0.987227</td>\n",
       "    </tr>\n",
       "  </tbody>\n",
       "</table>\n",
       "</div>"
      ],
      "text/plain": [
       "    year  week       date         ATV         UPT  n_invoices       ASP\n",
       "35  2010    32 2010-08-09  534.523205  541.439169         337  0.987227"
      ]
     },
     "execution_count": 6,
     "metadata": {},
     "output_type": "execute_result"
    }
   ],
   "source": [
    "import pandas as pd\n",
    "import numpy as np\n",
    "import random\n",
    "    \n",
    "uk= pd.read_csv(r'C:\\Users\\cti110016\\Dropbox\\DB\\retail_clean.csv')\n",
    "uk['InvoiceDate']= pd.to_datetime(uk['InvoiceDate'])\n",
    "uk['date']= uk['InvoiceDate'].dt.strftime('%Y-%m-%d')\n",
    "uk['date']= pd.to_datetime(uk['date'])\n",
    "\n",
    "\n",
    "uk.columns\n",
    "\n",
    "a=uk.groupby(['date','Invoice']).agg(n_invoices= ('Invoice','count')).reset_index().groupby('date').agg(n_invoices=('Invoice','count'))\n",
    "uk_weekly= a.resample('W').sum().reset_index()\n",
    "\n",
    "#1)\tWhich week year has the highest conversion rate ?\n",
    "\n",
    "footfall_uk= pd.read_excel(r'C:\\Users\\cti110016\\Dropbox\\DB\\footfall_uk.xlsx')\n",
    "footfall_uk['date']=pd.to_datetime(footfall_uk['date'])\n",
    "\n",
    "footfall_uk.set_index('date',inplace=True)\n",
    "footfall_weekly= footfall_uk.resample('W')['website_visitors'].sum()\n",
    "footfall_weekly=footfall_weekly.reset_index()\n",
    "joined= pd.merge(uk_weekly,footfall_weekly,how='left')\n",
    "joined['conversion_rate']= joined['n_invoices']/joined['website_visitors']\n",
    "\n",
    "joined[joined.conversion_rate== max(joined.conversion_rate)]\n",
    "\n",
    "#2)\tWhich week year has the highest average transaction value ?\n",
    "\n",
    "uk['revenue']= uk['Price']* uk['Quantity']\n",
    "\n",
    "revenue_per_invoice= uk.groupby(['date','Invoice']).agg(revenue=('revenue','sum'),\n",
    "                                                        Qty= ('Quantity','sum')).reset_index()\n",
    "\n",
    "revenue_per_invoice['week']=revenue_per_invoice['date'].dt.isocalendar().week\n",
    "revenue_per_invoice['year']=revenue_per_invoice['date'].dt.isocalendar().year\n",
    "\n",
    "ATV= revenue_per_invoice.groupby(['year','week']).agg(date= ('date','first'),\n",
    "                                                                             ATV= ('revenue','mean'),\n",
    "                                                                             UPT= ('Qty','mean'),\n",
    "                                                                             n_invoices= ('Invoice','count')).reset_index()\n",
    "ATV[ATV.ATV== max(ATV.ATV)]\n",
    "\n",
    "#3)\tWhich week year has the lowest units per transaction?\n",
    "ATV[ATV.UPT== min(ATV.UPT)]\n",
    "\n",
    "\n",
    "#4)\tWhich week has the lowest average selling price ?\n",
    "\n",
    "ATV['ASP']=ATV['ATV']/ATV['UPT']\n",
    "ATV[ATV.ASP== min(ATV.ASP)]"
   ]
  },
  {
   "cell_type": "code",
   "execution_count": null,
   "id": "8961ad47",
   "metadata": {},
   "outputs": [],
   "source": []
  }
 ],
 "metadata": {
  "kernelspec": {
   "display_name": "Python 3 (ipykernel)",
   "language": "python",
   "name": "python3"
  },
  "language_info": {
   "codemirror_mode": {
    "name": "ipython",
    "version": 3
   },
   "file_extension": ".py",
   "mimetype": "text/x-python",
   "name": "python",
   "nbconvert_exporter": "python",
   "pygments_lexer": "ipython3",
   "version": "3.9.7"
  }
 },
 "nbformat": 4,
 "nbformat_minor": 5
}
