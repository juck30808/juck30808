{
 "cells": [
  {
   "cell_type": "code",
   "execution_count": 1,
   "metadata": {},
   "outputs": [
    {
     "name": "stdout",
     "output_type": "stream",
     "text": [
      "Welcome to the Thesaurus App!\n",
      "\n",
      "Choose a word from the thesaurus and I will give you a synonym.\n",
      "\n",
      "Here are the words in the thesaurus: \n",
      "\t-hot\n",
      "\t-cold\n",
      "\t-happy\n",
      "\t-sad\n",
      "\n",
      "What word would you like a synonym for: happy\n",
      "A synonym for happy is merry.\n",
      "\n",
      "Would you like to see the whole thesaurus (yes/no):yes\n",
      "\n",
      "Hot synonyms are: \n",
      "\t-balmy\n",
      "\t-summery\n",
      "\t-tropical\n",
      "\t-boiling\n",
      "\t-scorching\n",
      "\n",
      "Cold synonyms are: \n",
      "\t-chilly\n",
      "\t-cool\n",
      "\t-freezing\n",
      "\t-frigid\n",
      "\t-polar\n",
      "\n",
      "Happy synonyms are: \n",
      "\t-content\n",
      "\t-cheery\n",
      "\t-merry\n",
      "\t-jovial\n",
      "\t-jocular\n",
      "\n",
      "Sad synonyms are: \n",
      "\t-unhappy\n",
      "\t-downcast\n",
      "\t-miserable\n",
      "\t-glum\n",
      "\t-melancholy\n"
     ]
    }
   ],
   "source": [
    "import random\n",
    "\n",
    "thesaurus = {\n",
    "    \"hot\":['balmy', 'summery', 'tropical', 'boiling', 'scorching'],\n",
    "    \"cold\":['chilly', 'cool', 'freezing', 'frigid', 'polar'],\n",
    "    \"happy\":['content', 'cheery', 'merry', 'jovial', 'jocular'],\n",
    "    \"sad\":['unhappy', 'downcast', 'miserable', 'glum', 'melancholy'],\n",
    "}\n",
    "\n",
    "#Print welcome information\n",
    "print(\"Welcome to the Thesaurus App!\")\n",
    "print(\"\\nChoose a word from the thesaurus and I will give you a synonym.\")\n",
    "print(\"\\nHere are the words in the thesaurus: \")\n",
    "for key in thesaurus.keys():\n",
    "    print(\"\\t-\" + key)\n",
    "\n",
    "#Get user input\n",
    "choice = input(\"\\nWhat word would you like a synonym for: \").lower().strip()\n",
    "if choice in thesaurus.keys():\n",
    "    index = random.randint(0,4)\n",
    "    print(\"A synonym for \" + choice + \" is \" + thesaurus[choice][index] + \".\")\n",
    "else:\n",
    "    print(\"I'm sorry, that word is not currently in the thesaurus.\")\n",
    "\n",
    "#Get user input to see the whole thesaurus\n",
    "choice = input(\"\\nWould you like to see the whole thesaurus (yes/no):\").lower().strip()\n",
    "if choice == 'yes':\n",
    "    for key, values in thesaurus.items():\n",
    "        print(\"\\n\" + key.title() + \" synonyms are: \")\n",
    "        for value in values:\n",
    "            print(\"\\t-\" + value)\n",
    "else:\n",
    "    print(\"\\nI hope you enjoyed the program. Thank you!\")"
   ]
  },
  {
   "cell_type": "code",
   "execution_count": null,
   "metadata": {},
   "outputs": [],
   "source": []
  }
 ],
 "metadata": {
  "kernelspec": {
   "display_name": "Python 3 (ipykernel)",
   "language": "python",
   "name": "python3"
  },
  "language_info": {
   "codemirror_mode": {
    "name": "ipython",
    "version": 3
   },
   "file_extension": ".py",
   "mimetype": "text/x-python",
   "name": "python",
   "nbconvert_exporter": "python",
   "pygments_lexer": "ipython3",
   "version": "3.9.7"
  }
 },
 "nbformat": 4,
 "nbformat_minor": 4
}
