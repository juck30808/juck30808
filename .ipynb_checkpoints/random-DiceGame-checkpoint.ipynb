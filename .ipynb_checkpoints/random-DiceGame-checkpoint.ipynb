{
 "cells": [
  {
   "cell_type": "code",
   "execution_count": 1,
   "metadata": {},
   "outputs": [
    {
     "name": "stdout",
     "output_type": "stream",
     "text": [
      "Welcome to the Python Dice App\n",
      "How many dice would you like to roll: 5\n",
      "\n",
      "You rolled 5 6 sided dice.\n",
      "\n",
      "-----Results are as followed-----\n",
      "\t2\n",
      "\t6\n",
      "\t6\n",
      "\t5\n",
      "\t6\n",
      "The total value of your roll is 2.\n",
      "The total value of your roll is 8.\n",
      "The total value of your roll is 14.\n",
      "The total value of your roll is 19.\n",
      "The total value of your roll is 25.\n",
      "\n",
      "Would you like to roll again (y/n): n\n",
      "\n",
      "Thank you for using the Python Dice App.\n"
     ]
    }
   ],
   "source": [
    "import random\n",
    "\n",
    "def dice_sides():\n",
    "    sides = 6\n",
    "    return sides \n",
    "\n",
    "def dice_number():\n",
    "    number = int(input(\"How many dice would you like to roll: \"))\n",
    "    return number\n",
    "\n",
    "def roll_dice(sides, number):\n",
    "    dice = []\n",
    "    print(\"\\nYou rolled \" + str(number) + \" \" + str(sides) + \" sided dice.\")\n",
    "    print(\"\\n-----Results are as followed-----\")\n",
    "    for i in range(number):\n",
    "        value = random.randint(1, sides)\n",
    "        print(\"\\t\" + str(value))\n",
    "        dice.append(value)\n",
    "    return dice\n",
    "\n",
    "#Add all values of dice in a list\n",
    "def sum_dice(dice):\n",
    "    total = 0\n",
    "    for die in dice:\n",
    "        total += die\n",
    "        print(\"The total value of your roll is \" + str(total) + \".\")\n",
    "\n",
    "def roll_again():\n",
    "    choice = input(\"\\nWould you like to roll again (y/n): \").lower()\n",
    "    if choice != 'y':\n",
    "        roll = False\n",
    "    else:\n",
    "        roll = True\n",
    "    return roll\n",
    "\n",
    "\n",
    "#The main code\n",
    "print(\"Welcome to the Python Dice App\")\n",
    "rolling = True\n",
    "while rolling:\n",
    "    d_sides = dice_sides()\n",
    "    d_number = dice_number()\n",
    "    \n",
    "    #Roll and sum the dice\n",
    "    my_dice = roll_dice(d_sides, d_number)\n",
    "    sum_dice(my_dice)\n",
    "    \n",
    "    #Roll again\n",
    "    rolling = roll_again()\n",
    "print(\"\\nThank you for using the Python Dice App.\")"
   ]
  },
  {
   "cell_type": "code",
   "execution_count": null,
   "metadata": {},
   "outputs": [],
   "source": []
  }
 ],
 "metadata": {
  "kernelspec": {
   "display_name": "Python 3 (ipykernel)",
   "language": "python",
   "name": "python3"
  },
  "language_info": {
   "codemirror_mode": {
    "name": "ipython",
    "version": 3
   },
   "file_extension": ".py",
   "mimetype": "text/x-python",
   "name": "python",
   "nbconvert_exporter": "python",
   "pygments_lexer": "ipython3",
   "version": "3.9.7"
  }
 },
 "nbformat": 4,
 "nbformat_minor": 4
}
