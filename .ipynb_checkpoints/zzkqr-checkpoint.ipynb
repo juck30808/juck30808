{
 "cells": [
  {
   "cell_type": "markdown",
   "metadata": {},
   "source": [
    "## IPython Magic Commands\n",
    "> The previous sections showed how IPython lets you use and explore Python efficiently and interactively.\n",
    "Here we'll begin discussing some of the enhancements that IPython adds on top of the normal Python syntax.\n",
    "These are known in IPython as *magic commands*, and are prefixed by the ``%`` character.\n",
    "These magic commands are designed to succinctly solve various common problems in standard data analysis.\n",
    "Magic commands come in two flavors: *line magics*, which are denoted by a single ``%`` prefix and operate on a single line of input, and *cell magics*, which are denoted by a double ``%%`` prefix and operate on multiple lines of input.\n",
    "We'll demonstrate and discuss a few brief examples here, and come back to more focused discussion of several useful magic commands later in the chapter.\n",
    "\n",
    "前面展示了怎樣使用IPython，令你在其中執行Python代碼更加有效和具有交互性。現在我們要開始討論一些IPython增強的語言特性。這些特性被稱為IPython的*魔術命令*，它們都是以`%`字符開頭的。這些魔術命令被設計用來簡潔地實現很多通用的標準數據科學問題。魔術命令分成兩種模式：*行魔術*，以一個`%`開頭，是對於一行的輸入進行魔術處理的；另一種是*單元格魔術*，以兩個`%%`開頭，是對於多行的輸入進行魔術處理的。本節我們會展示和討論一些例子，然後本章後續小節會對部分有用的魔術命令進行詳細的討論。"
   ]
  },
  {
   "cell_type": "markdown",
   "metadata": {},
   "source": [
    "Ipython\n",
    "- Pasting Code Blocks: ``%paste`` and ``%cpaste``\n",
    "- Running External Code: ``%run``\n",
    "- Timing Code Execution: ``%timeit``\n",
    "- Help on Magic Functions: ``?``, ``%magic``, and ``%lsmagic``"
   ]
  },
  {
   "cell_type": "markdown",
   "metadata": {},
   "source": [
    "### Quick Introduction to the Shell 快速介绍 (Cmd)\n",
    "\n",
    ">Notice that all of this is just a compact way to do familiar operations (navigating a directory structure, creating a directory, moving a file, etc.) by typing commands rather than clicking icons and menus. Note that with just a few commands (``pwd``, ``ls``, ``cd``, ``mkdir``, and ``cp``) you can do many of the most common file operations.\n",
    "It's when you go beyond these basics that the shell approach becomes really powerful.\n",
    "\n",
    "作為一個例子，這裡有一個用戶在Linux/OSX系統上瀏覽、創建和修改目錄以及文件的shell會話，請注意，上面的命令都是使用命令輸入完成我們平常使用鼠標點擊操作完成的任務（瀏覽目錄結構、創建目錄、移動文件等）。只需要少量的命令輸入（`pwd`、`ls`、`cd`、`mkdir`和`cp`）我們就能完成很多通用的文件操作。當你更深入學習shell之後，你就會發現它們非常強大。（`osx:~ $`是提示符，所有出現在`$`後面的文本都是一條命令；以`#`開始的文本是註釋作為命令的解釋，而不是你需要真正輸入的內容）：\n",
    "\n",
    "```bash\n",
    "osx:~ $ echo \"hello world\"             # 使用echo打印输出，类似Python中的print\n",
    "osx:~ $ pwd                            # pwd = 打印当前工作目录\n",
    "osx:~ $ ls                             # ls = 列示目录内容\n",
    "osx:~ $ cd projects/                   # cd = 改变目录位置\n",
    "osx:projects $ pwd\n",
    "osx:projects $ ls\n",
    "osx:projects $ mkdir myproject          # mkdir = 创建新目录\n",
    "osx:projects $ cd myproject/\n",
    "osx:myproject $ mv ../myproject.txt ./  # mv = 移动文件，这里我们将父目录中的myproject.txt\n",
    "osx:myproject $ ls\n",
    "```"
   ]
  },
  {
   "cell_type": "code",
   "execution_count": 6,
   "metadata": {},
   "outputs": [
    {
     "data": {
      "text/plain": [
       "'/Users/jerrychien/Documents/GitHub/WhaleFall'"
      ]
     },
     "execution_count": 6,
     "metadata": {},
     "output_type": "execute_result"
    }
   ],
   "source": [
    "pwd"
   ]
  },
  {
   "cell_type": "markdown",
   "metadata": {},
   "source": [
    "### Shell Commands in IPython IPython 中的 shell 命令 (!)\n",
    "\n",
    "> Any command that works at the command-line can be used in IPython by prefixing it with the ``!`` character.\n",
    "For example, the ``ls``, ``pwd``, and ``echo`` commands can be run as follows:\n",
    "\n",
    "任何在命令行中可以使用的命令，也都可以在IPython中使用，只需要在前面加上`!`号。例如，`ls`、`pwd`和`echo`命令：\n",
    "\n",
    "```bash\n",
    "In [1]: !ls\n",
    "In [2]: !pwd\n",
    "In [3]: !echo \"printing from the shell\"\n",
    "```"
   ]
  },
  {
   "cell_type": "code",
   "execution_count": 7,
   "metadata": {},
   "outputs": [
    {
     "name": "stdout",
     "output_type": "stream",
     "text": [
      "/Users/jerrychien/Documents/GitHub/WhaleFall\r\n"
     ]
    }
   ],
   "source": [
    "!pwd"
   ]
  },
  {
   "cell_type": "markdown",
   "metadata": {},
   "source": [
    "### Passing Values to and from the Shell 與IPython的命名交互 ( {x} )\n",
    "\n",
    "> Shell commands can not only be called from IPython, but can also be made to interact with the IPython namespace.\n",
    "For example, you can save the output of any shell command to a Python list using the assignment operator, Note that these results are not returned as lists, but as a special shell return type defined in IPython:\n",
    "\n",
    "shell命令不但能被IPython環境中調用，還能與IPython的命名空間產生交互。例如，你可以將shell命令的輸出保存成一個Python的列表，值得注意的是，這些結果並不是返回成為普通的Python列表，而是一個IPython定義的特殊shell返回值類型：\n",
    "\n",
    "> Communication in the other direction–passing Python variables into the shell–is possible using the ``{varname}`` syntax: The curly braces contain the variable name, which is replaced by the variable's contents in the shell command.\n",
    "\n",
    "反過來，也可以傳遞Python的變量給shell，通過`{變量名}`語法就可以實現： 花括號裡面是變量的名稱，在執行shell命令的時候將會被變量的值替代。\n",
    "\n",
    "\n",
    "```python\n",
    "In []: contents = !ls\n",
    "In []: print(contents)\n",
    "\n",
    "In []: directory = !pwd\n",
    "In []: print(directory)\n",
    "\n",
    "In []: message = \"hello from Python\"\n",
    "In []: !echo {message}\n",
    "```"
   ]
  },
  {
   "cell_type": "code",
   "execution_count": null,
   "metadata": {},
   "outputs": [],
   "source": []
  },
  {
   "cell_type": "code",
   "execution_count": null,
   "metadata": {},
   "outputs": [],
   "source": []
  },
  {
   "cell_type": "code",
   "execution_count": null,
   "metadata": {},
   "outputs": [],
   "source": []
  },
  {
   "cell_type": "markdown",
   "metadata": {},
   "source": [
    "### Controlling Exceptions: ``%xmode``\n",
    "\n",
    "> Most of the time when a Python script fails, it will raise an Exception.\n",
    "When the interpreter hits one of these exceptions, information about the cause of the error can be found in the *traceback*, which can be accessed from within Python.\n",
    "With the ``%xmode`` magic function, IPython allows you to control the amount of information printed when the exception is raised.\n",
    "Consider the following code:\n",
    "\n",
    "大部分情況下如果Python腳本執行失敗了，都是由於拋出了異常導致的。當解釋器碰到了這些異常的時候，會將錯誤產生的原因壓到當前程序執行的堆棧當中，你可以通過Python的traceback訪問到這些信息。使用 `%xmode` 魔術指令，IPython允許你控制異常發生時錯誤信息的數量。看例子："
   ]
  },
  {
   "cell_type": "code",
   "execution_count": 2,
   "metadata": {},
   "outputs": [
    {
     "name": "stdout",
     "output_type": "stream",
     "text": [
      "Exception reporting mode: Verbose\n"
     ]
    }
   ],
   "source": [
    "%xmode\n",
    "def func1(a, b):\n",
    "    return a / b\n",
    "\n",
    "def func2(x):\n",
    "    a = x\n",
    "    b = x - 1\n",
    "    return func1(a, b)"
   ]
  },
  {
   "cell_type": "code",
   "execution_count": 3,
   "metadata": {},
   "outputs": [],
   "source": [
    "# func2(1)"
   ]
  },
  {
   "cell_type": "markdown",
   "metadata": {},
   "source": [
    "> ``%xmode`` takes a single argument, the mode, and there are three possibilities: ``Plain``, ``Context``, and ``Verbose``.\n",
    "The default is ``Context``, and gives output like that just shown before.\n",
    "``Plain`` is more compact and gives less information:\n",
    "\n",
    "`%xmode`需要一個參數，就是輸出錯誤的模式，有三種選擇：`Plain`，`Context`和`Verbose`。默認是`Context`，該該模式下的輸出就如上面所見。"
   ]
  },
  {
   "cell_type": "code",
   "execution_count": 4,
   "metadata": {},
   "outputs": [],
   "source": [
    "# %xmode Plain\n",
    "# func2(1)\n",
    "\n",
    "# %xmode Verbose\n",
    "# func2(1)"
   ]
  },
  {
   "cell_type": "markdown",
   "metadata": {},
   "source": [
    "### Debugging: When Reading Tracebacks Is Not Enough\n",
    "\n",
    "> In IPython, perhaps the most convenient interface to debugging is the ``%debug`` magic command.\n",
    "If you call it after hitting an exception, it will automatically open an interactive debugging prompt at the point of the exception.\n",
    "The ``ipdb`` prompt lets you explore the current state of the stack, explore the available variables, and even run Python commands!\n",
    "\n",
    "在IPython中，也許最簡單的調試方式就是使用`%debug`魔術指令了。如果當你遇到一個異常之後調用它，IPython會自動打開一個交互式的調試提示符，並定位在異常發生的地方。 `ipdb`提示符允許你查看當前的堆棧信息，顯示變量和它們的值，甚至執行Python命令。\n",
    "\n",
    "> Let's look at the most recent exception, then do some basic tasks–print the values of ``a`` and ``b``, and type ``quit`` to quit the debugging session:\n",
    "\n",
    "讓我們查看最近發生的那個異常，然後執行一些基礎的指令來打印變量`a`和`b`的值, `up`,`down`,`print(a)`，最後使用`quit`退出調試模式："
   ]
  },
  {
   "cell_type": "code",
   "execution_count": 6,
   "metadata": {},
   "outputs": [
    {
     "name": "stderr",
     "output_type": "stream",
     "text": [
      "ERROR:root:No traceback has been produced, nothing to debug.\n"
     ]
    }
   ],
   "source": [
    "%debug"
   ]
  },
  {
   "cell_type": "markdown",
   "metadata": {},
   "source": [
    "> If you'd like the debugger to launch automatically whenever an exception is raised, you can use the ``%pdb`` magic function to turn on this automatic behavior:\n",
    "\n",
    "如果你希望調試器保持打開狀態，每當發生異常時就自動啟動，你可以使用 %pdb魔術指令，使用on/off參數就能打開或關閉調試器的自動啟動模式。"
   ]
  },
  {
   "cell_type": "code",
   "execution_count": 7,
   "metadata": {},
   "outputs": [],
   "source": [
    "# %xmode Plain\n",
    "# %pdb on\n",
    "# func2(1)"
   ]
  },
  {
   "cell_type": "markdown",
   "metadata": {},
   "source": [
    "### Partial list of debugging commands 調試命令部分列表\n",
    "\n",
    "> There are many more available commands for interactive debugging than we've listed here; the following table contains a description of some of the more common and useful ones:  For more information, use the ``help`` command in the debugger, or take a look at ``ipdb``'s [online documentation](https://github.com/gotcha/ipdb).\n",
    "\n",
    "| Command         |  Description                                                |\n",
    "|-----------------|-------------------------------------------------------------|\n",
    "| ``list``        | 顯示當前在文件中的位置信息                       |\n",
    "| ``h(elp)``      | 查看幫助文檔，可以顯示列表，或查看某個命令的具體幫助信息 |\n",
    "| ``q(uit)``      | 退出調試模式提示符                         |\n",
    "| ``c(ontinue)``  | 退出調試模式，繼續執行代碼                  |\n",
    "| ``n(ext)``      | 執行下一行代碼，單步調試                          |\n",
    "| ``<enter>``     | 直接重複執行上一條命令                                 |\n",
    "| ``p(rint)``     | 打印變量內容                                            |\n",
    "| ``s(tep)``      | 跟踪進入子函數內部進行調試                                   |\n",
    "| ``r(eturn)``    | 直接執行到函數返回                              |\n",
    "\n",
    "- 需要了解更多信息，可以在调试器模式下使用`help`命令，或者参见`ipdb`的[在线文档](https://github.com/gotcha/ipdb)。"
   ]
  },
  {
   "cell_type": "markdown",
   "metadata": {},
   "source": [
    "## Profiling and Timing Code 性能測算和計時"
   ]
  },
  {
   "cell_type": "markdown",
   "metadata": {},
   "source": [
    "> In the process of developing code and creating data processing pipelines, there are often trade-offs you can make between various implementations.\n",
    "Early in developing your algorithm, it can be counterproductive to worry about such things. As Donald Knuth famously quipped, \"We should forget about small efficiencies, say about 97% of the time: premature optimization is the root of all evil.\"\n",
    "\n",
    "在開發階段以及創建數據處理任務流時，經常都會出現多種可能的實現方案，每種都有各自優缺點，你需要在這之中進行權衡。在開發你的算法的早期階段，過於關注性能很可能會影響你的實現效率。正如高德納（譯者註：Donald Knuth，《計算機程序設計藝術》作者，最年輕的ACM圖靈獎獲得者，計算機算法泰山北斗）的名言：“我們應該忘掉那些小的效率問題，在絕大部分情況下：過早的優化是所有罪惡之源。”\n",
    "\n",
    "> But once you have your code working, it can be useful to dig into its efficiency a bit.\n",
    "Sometimes it's useful to check the execution time of a given command or set of commands; other times it's useful to dig into a multiline process and determine where the bottleneck lies in some complicated series of operations.\n",
    "IPython provides access to a wide array of functionality for this kind of timing and profiling of code.\n",
    "Here we'll discuss the following IPython magic commands:\n",
    "\n",
    "一旦你的代碼已經開始工作了，那麼你就應該開始深入的考慮一下性能問題了。有時你會需要檢查一行代碼或者一系列代碼的執行時間；有時你又需要對多個線程進行研究，找到一系列複雜操作當中的瓶頸所在。 IPython提供了這類計時或性能測算的豐富功能。本章節中我們會討論下述的IPython魔術指令：\n",
    "- ``%time``: 測量單條語句的執行時間\n",
    "- ``%timeit``: 對單條語句進行多次重複執行，並測量平均執行時間，以獲得更加準確的結果\n",
    "- ``%prun``: 執行代碼，並使用性能測算工具進行測算\n",
    "- ``%lprun``: 執行代碼，並使用單條語句性能測算工具進行測算\n",
    "- ``%memit``: 測量單條語句的內存佔用情況\n",
    "- ``%mprun``: 執行代碼，並使用單條語句內存測算工具進行測算"
   ]
  },
  {
   "cell_type": "markdown",
   "metadata": {},
   "source": [
    "### Timing Code Snippets: ``%timeit`` and ``%time``"
   ]
  },
  {
   "cell_type": "markdown",
   "metadata": {},
   "source": [
    "> Note that because this operation is so fast, ``%timeit`` automatically does a large number of repetitions.\n",
    "For slower commands, ``%timeit`` will automatically adjust and perform fewer repetitions:For more information on ``%time`` and ``%timeit``, as well as their available options, use the IPython help functionality (i.e., type ``%time?`` at the IPython prompt).\n",
    "\n",
    "`%timeit`自動做了很多次的重複執行。如果換成一個執行慢的操作，`%timeit`會自動調整（減少）重複次數。"
   ]
  },
  {
   "cell_type": "code",
   "execution_count": 8,
   "metadata": {},
   "outputs": [
    {
     "name": "stdout",
     "output_type": "stream",
     "text": [
      "839 ns ± 11.8 ns per loop (mean ± std. dev. of 7 runs, 1000000 loops each)\n"
     ]
    }
   ],
   "source": [
    "%timeit sum(range(100))"
   ]
  },
  {
   "cell_type": "code",
   "execution_count": 9,
   "metadata": {},
   "outputs": [
    {
     "name": "stdout",
     "output_type": "stream",
     "text": [
      "278 ms ± 32.2 ms per loop (mean ± std. dev. of 7 runs, 1 loop each)\n"
     ]
    }
   ],
   "source": [
    "%%timeit\n",
    "total = 0\n",
    "for i in range(1000):\n",
    "    for j in range(1000):\n",
    "        total += i * (-1) ** j"
   ]
  },
  {
   "cell_type": "code",
   "execution_count": 10,
   "metadata": {},
   "outputs": [
    {
     "name": "stdout",
     "output_type": "stream",
     "text": [
      "290 µs ± 19.6 µs per loop (mean ± std. dev. of 7 runs, 1000 loops each)\n"
     ]
    }
   ],
   "source": [
    "L = range(1000)\n",
    "%timeit [i**2 for i in L]"
   ]
  },
  {
   "cell_type": "code",
   "execution_count": 11,
   "metadata": {},
   "outputs": [
    {
     "name": "stdout",
     "output_type": "stream",
     "text": [
      "1.93 µs ± 30 ns per loop (mean ± std. dev. of 7 runs, 100000 loops each)\n"
     ]
    }
   ],
   "source": [
    "import numpy as np\n",
    "a = np.arange(1000)\n",
    "%timeit a**2"
   ]
  },
  {
   "cell_type": "markdown",
   "metadata": {},
   "source": [
    "> Sometimes repeating an operation is not the best option.\n",
    "For example, if we have a list that we'd like to sort, we might be misled by a repeated operation.\n",
    "Sorting a pre-sorted list is much faster than sorting an unsorted list, so the repetition will skew the result:\n",
    "\n",
    "值得注意的是，有些情況下，重複多次執行反而會得出一個錯誤的測量數據。例如，我們有一個列表，希望對它進行排序，重複執行的結果會明顯的誤導我們。因為對一個已經排好序的列表執行排序是非常快的，因此在第一次執行完成之後，後面重複進行排序的測量數據都是錯誤的："
   ]
  },
  {
   "cell_type": "code",
   "execution_count": 12,
   "metadata": {},
   "outputs": [
    {
     "name": "stdout",
     "output_type": "stream",
     "text": [
      "The slowest run took 5.77 times longer than the fastest. This could mean that an intermediate result is being cached.\n",
      "1.5 ms ± 826 µs per loop (mean ± std. dev. of 7 runs, 100 loops each)\n"
     ]
    }
   ],
   "source": [
    "import random\n",
    "L = [random.random() for i in range(100000)]\n",
    "%timeit L.sort()"
   ]
  },
  {
   "cell_type": "markdown",
   "metadata": {},
   "source": [
    "> For this, the ``%time`` magic function may be a better choice. It also is a good choice for longer-running commands, when short, system-related delays are unlikely to affect the result.\n",
    "Let's time the sorting of an unsorted and a presorted list:\n",
    "\n",
    "在這種情況下，`%time`魔術指令可能會是一個更好的選擇。對於一個執行時間較長的操作來說，它也更加適用，因為與系統相關的那些持續時間很短的延遲將不會對結果產生什麼影響。讓我們對一個未排序和一個已排序的列表進行排序，並觀察執行時間："
   ]
  },
  {
   "cell_type": "code",
   "execution_count": 13,
   "metadata": {},
   "outputs": [
    {
     "name": "stdout",
     "output_type": "stream",
     "text": [
      "sorting an unsorted list:\n",
      "Wall time: 19.9 ms\n"
     ]
    }
   ],
   "source": [
    "import random\n",
    "L = [random.random() for i in range(100000)]\n",
    "print(\"sorting an unsorted list:\")\n",
    "%time L.sort()"
   ]
  },
  {
   "cell_type": "code",
   "execution_count": 14,
   "metadata": {},
   "outputs": [
    {
     "name": "stdout",
     "output_type": "stream",
     "text": [
      "sorting an already sorted list:\n",
      "Wall time: 2.99 ms\n"
     ]
    }
   ],
   "source": [
    "print(\"sorting an already sorted list:\")\n",
    "%time L.sort()"
   ]
  },
  {
   "cell_type": "markdown",
   "metadata": {},
   "source": [
    "> Notice how much faster the presorted list is to sort, but notice also how much longer the timing takes with ``%time`` versus ``%timeit``, even for the presorted list!\n",
    "This is a result of the fact that ``%timeit`` does some clever things under the hood to prevent system calls from interfering with the timing.\n",
    "For example, it prevents cleanup of unused Python objects (known as *garbage collection*) which might otherwise affect the timing.\n",
    "For this reason, ``%timeit`` results are usually noticeably faster than ``%time`` results.\n",
    "For ``%time`` as with ``%timeit``, using the double-percent-sign cell magic syntax allows timing of multiline scripts:\n",
    "\n",
    "你應該首先註意到的是對於未排序的列表和對於已排序的列表進行排序的執行時間差別。而且你還需要了解`%time`和`%timeit`執行的區別，即使都是使用已經排好序的列表的情況下。這是因為`%timeit`會使用一種額外的機制來防止系統調用影響計時的結果。例如，它會阻止Python解析器清理不再使用的對象（*垃圾收集*），否則垃圾收集會影響計時的結果。因此通常情況下`%timeit`的結果都會比`%time`的結果要快。對於`%time`和`%timeit`指令，使用兩個百分號可以對一段代碼進行計時："
   ]
  },
  {
   "cell_type": "code",
   "execution_count": 15,
   "metadata": {},
   "outputs": [
    {
     "name": "stdout",
     "output_type": "stream",
     "text": [
      "Wall time: 378 ms\n"
     ]
    }
   ],
   "source": [
    "%%time\n",
    "total = 0\n",
    "for i in range(1000):\n",
    "    for j in range(1000):\n",
    "        total += i * (-1) ** j"
   ]
  },
  {
   "cell_type": "markdown",
   "metadata": {},
   "source": [
    "### Profiling Full Scripts: ``%prun`` 腳本代碼塊性能測算\n",
    "\n",
    "> A program is made of many single statements, and sometimes timing these statements in context is more important than timing them on their own.\n",
    "Python contains a built-in code profiler (which you can read about in the Python documentation), but IPython offers a much more convenient way to use this profiler, in the form of the magic function ``%prun``.\n",
    "\n",
    "一個程序都是有很多條代碼組成的，有的時候對整段代碼塊性能進行測算比對每條代碼進行計時要更加重要。 Python自帶一個內建的代碼性能測算工具（你可以在Python文檔中找到它），而IPython提供了一個更加簡便的方式來使用這個測算工具，使用`%prun`魔術指令。"
   ]
  },
  {
   "cell_type": "code",
   "execution_count": 16,
   "metadata": {},
   "outputs": [
    {
     "name": "stdout",
     "output_type": "stream",
     "text": [
      " "
     ]
    }
   ],
   "source": [
    "def sum_of_lists(N):\n",
    "    total = 0\n",
    "    for i in range(5):\n",
    "        L = [j ^ (j >> i) for j in range(N)]\n",
    "        total += sum(L)\n",
    "    return total\n",
    "\n",
    "%prun sum_of_lists(1000000)"
   ]
  },
  {
   "cell_type": "markdown",
   "metadata": {},
   "source": [
    "> The result is a table that indicates, in order of total time on each function call, where the execution is spending the most time. In this case, the bulk of execution time is in the list comprehension inside ``sum_of_lists``.\n",
    "From here, we could start thinking about what changes we might make to improve the performance in the algorithm.\n",
    "For more information on ``%prun``, as well as its available options, use the IPython help functionality (i.e., type ``%prun?`` at the IPython prompt).\n",
    "\n",
    "這個結果的表格，使用的是每個函數調用執行總時間進行排序（從大到小）。從上面的結果可以看出，絕大部分的執行時間都發生在函數`sum_of_lists`中的列表解析之上。然後，我們就可以知道如果需要優化這段代碼的性能，可以從哪個方面開始著手了。\n"
   ]
  }
 ],
 "metadata": {
  "anaconda-cloud": {},
  "kernelspec": {
   "display_name": "Python 3 (ipykernel)",
   "language": "python",
   "name": "python3"
  },
  "language_info": {
   "codemirror_mode": {
    "name": "ipython",
    "version": 3
   },
   "file_extension": ".py",
   "mimetype": "text/x-python",
   "name": "python",
   "nbconvert_exporter": "python",
   "pygments_lexer": "ipython3",
   "version": "3.9.7"
  }
 },
 "nbformat": 4,
 "nbformat_minor": 1
}
