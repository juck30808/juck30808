{
 "cells": [
  {
   "cell_type": "code",
   "execution_count": 1,
   "metadata": {},
   "outputs": [
    {
     "name": "stdin",
     "output_type": "stream",
     "text": [
      "1- Find User\n",
      "2- Get Repositories\n",
      "3- Create Repository\n",
      "4- Exit\n",
      "Seçim:  2\n",
      "username:  jerry\n"
     ]
    },
    {
     "name": "stdout",
     "output_type": "stream",
     "text": [
      "CalendarData\n",
      "captain_oveur\n",
      "clearance_admins\n",
      "cookbook-gitlabhq\n",
      "deep-freeze-node\n",
      "fwfoosball\n",
      "httparty\n",
      "ITP\n",
      "jerry.github.com\n",
      "ml\n",
      "noaa-observations\n",
      "scala-faker\n",
      "spark\n",
      "spark-ml-serving\n",
      "SparkTreeInterpreter\n"
     ]
    },
    {
     "name": "stdin",
     "output_type": "stream",
     "text": [
      "1- Find User\n",
      "2- Get Repositories\n",
      "3- Create Repository\n",
      "4- Exit\n",
      "Seçim:  4\n"
     ]
    }
   ],
   "source": [
    "import requests\n",
    "\n",
    "class Github:\n",
    "    def __init__(self):\n",
    "        self.api_url = 'https://api.github.com'\n",
    "        self.token = '<token_bilgisi>'\n",
    "\n",
    "    def getUser(self, username):\n",
    "        response = requests.get(self.api_url+'/users/'+ username)\n",
    "        return response.json()\n",
    "\n",
    "    def getRepositories(self,username):\n",
    "        response = requests.get(self.api_url+'/users/'+ username+'/repos')\n",
    "        return response.json()\n",
    "\n",
    "    def createRepository(self, name):\n",
    "        response = requests.post(self.api_url+'/user/repos?access_token='+ self.token, json={\n",
    "            \"name\": name,\n",
    "            \"description\": \"This is your first repository\",\n",
    "            \"homepage\": \"https://sadikturan.com\",\n",
    "            \"private\": False,\n",
    "            \"has_issues\": True,\n",
    "            \"has_projects\": True,\n",
    "            \"has_wiki\": True\n",
    "        })\n",
    "        return response.json()\n",
    "\n",
    "github = Github()\n",
    "\n",
    "while True:\n",
    "    secim = input('1- Find User\\n2- Get Repositories\\n3- Create Repository\\n4- Exit\\nSeçim: ')\n",
    "\n",
    "    if secim == '4':\n",
    "        break\n",
    "    else:\n",
    "        if secim == '1':\n",
    "            username= input('username: ')\n",
    "            result = github.getUser(username)\n",
    "            print(f\"name: {result['name']} public repos: {result['public_repos']}  follower : {result['followers']}\")\n",
    "        elif secim == '2':\n",
    "            username = input('username: ')\n",
    "            result = github.getRepositories(username)\n",
    "            for repo in result:\n",
    "                print(repo['name'])    \n",
    "        elif secim == '3':\n",
    "            name = input('repository name: ')\n",
    "            result = github.createRepository(name)\n",
    "            print(result) \n",
    "        else:\n",
    "            print('yanlış seçim') "
   ]
  },
  {
   "cell_type": "code",
   "execution_count": null,
   "metadata": {},
   "outputs": [],
   "source": []
  }
 ],
 "metadata": {
  "kernelspec": {
   "display_name": "Python 3 (ipykernel)",
   "language": "python",
   "name": "python3"
  },
  "language_info": {
   "codemirror_mode": {
    "name": "ipython",
    "version": 3
   },
   "file_extension": ".py",
   "mimetype": "text/x-python",
   "name": "python",
   "nbconvert_exporter": "python",
   "pygments_lexer": "ipython3",
   "version": "3.11.3"
  }
 },
 "nbformat": 4,
 "nbformat_minor": 4
}
