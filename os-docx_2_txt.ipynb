{
 "cells": [
  {
   "cell_type": "code",
   "execution_count": 1,
   "id": "3f8ac8fc",
   "metadata": {},
   "outputs": [
    {
     "name": "stdout",
     "output_type": "stream",
     "text": [
      "Collecting python-docx\n",
      "  Using cached python_docx-1.0.1-py3-none-any.whl (237 kB)\n",
      "Requirement already satisfied: lxml>=3.1.0 in c:\\users\\cti110016\\appdata\\local\\anaconda3\\lib\\site-packages (from python-docx) (4.9.2)\n",
      "Requirement already satisfied: typing-extensions in c:\\users\\cti110016\\appdata\\local\\anaconda3\\lib\\site-packages (from python-docx) (4.5.0)\n",
      "Installing collected packages: python-docx\n",
      "Successfully installed python-docx-1.0.1\n"
     ]
    }
   ],
   "source": [
    "!pip install python-docx"
   ]
  },
  {
   "cell_type": "code",
   "execution_count": 2,
   "id": "c31742a9",
   "metadata": {},
   "outputs": [],
   "source": [
    "import os\n",
    "import docx\n",
    "from docx.enum.text import WD_ALIGN_PARAGRAPH\n",
    "from docx.shared import Pt"
   ]
  },
  {
   "cell_type": "code",
   "execution_count": 3,
   "id": "60a173fa",
   "metadata": {},
   "outputs": [],
   "source": [
    "def createInvitations(txtFile, docName):\n",
    "    doc = docx.Document()\n",
    "    intro = 'It would be a pleasure to have the company of'\n",
    "    address = 'at 11101 Memory lane on the evening of'\n",
    "    date = 'April 31st'\n",
    "    time = \"at 24 O'Clock\"\n",
    "\n",
    "    with open(txtFile) as guestList:\n",
    "        for guest in guestList:\n",
    "            name = guest[:-1]\n",
    "            p1 = doc.add_paragraph()\n",
    "            p1.paragraph_format.alignment = WD_ALIGN_PARAGRAPH.CENTER\n",
    "            f1 = p1.add_run(intro)\n",
    "            f1.font.bold = True\n",
    "            f1.font.italic = True\n",
    "            f1.font.size = Pt(13)\n",
    "\n",
    "            p2 = doc.add_paragraph()\n",
    "            p2.paragraph_format.alignment = WD_ALIGN_PARAGRAPH.CENTER\n",
    "            f2 = p2.add_run(name)\n",
    "            f2.font.bold = True\n",
    "            f2.font.size = Pt(15)\n",
    "\n",
    "            p3 = doc.add_paragraph()\n",
    "            p3.paragraph_format.alignment = WD_ALIGN_PARAGRAPH.CENTER\n",
    "            f3 = p3.add_run(address)\n",
    "            f3.font.bold = True\n",
    "            f3.font.italic = True\n",
    "            f3.font.size = Pt(12)\n",
    "\n",
    "            p4 = doc.add_paragraph()\n",
    "            p4.paragraph_format.alignment = WD_ALIGN_PARAGRAPH.CENTER\n",
    "            f4 = p4.add_run(date)\n",
    "            f4.font.size = Pt(12)\n",
    "\n",
    "            p5 = doc.add_paragraph()\n",
    "            p5.paragraph_format.alignment = WD_ALIGN_PARAGRAPH.CENTER\n",
    "            f5 = p5.add_run(time)\n",
    "            f5.font.bold = True\n",
    "            f5.font.italic = True\n",
    "            f5.font.size = Pt(12)\n",
    "\n",
    "            doc.add_page_break()\n",
    "    \n",
    "    doc.save(docName)"
   ]
  },
  {
   "cell_type": "code",
   "execution_count": 4,
   "id": "84d6e674",
   "metadata": {},
   "outputs": [
    {
     "ename": "FileNotFoundError",
     "evalue": "[Errno 2] No such file or directory: 'output/guests.docx'",
     "output_type": "error",
     "traceback": [
      "\u001b[1;31m---------------------------------------------------------------------------\u001b[0m",
      "\u001b[1;31mFileNotFoundError\u001b[0m                         Traceback (most recent call last)",
      "Cell \u001b[1;32mIn[4], line 2\u001b[0m\n\u001b[0;32m      1\u001b[0m \u001b[38;5;28;01mif\u001b[39;00m \u001b[38;5;18m__name__\u001b[39m \u001b[38;5;241m==\u001b[39m \u001b[38;5;124m\"\u001b[39m\u001b[38;5;124m__main__\u001b[39m\u001b[38;5;124m\"\u001b[39m:\n\u001b[1;32m----> 2\u001b[0m     createInvitations(\u001b[38;5;124m'\u001b[39m\u001b[38;5;124minput/guests.txt\u001b[39m\u001b[38;5;124m'\u001b[39m, \u001b[38;5;124m'\u001b[39m\u001b[38;5;124moutput/guests.docx\u001b[39m\u001b[38;5;124m'\u001b[39m)\n",
      "Cell \u001b[1;32mIn[3], line 45\u001b[0m, in \u001b[0;36mcreateInvitations\u001b[1;34m(txtFile, docName)\u001b[0m\n\u001b[0;32m     41\u001b[0m         f5\u001b[38;5;241m.\u001b[39mfont\u001b[38;5;241m.\u001b[39msize \u001b[38;5;241m=\u001b[39m Pt(\u001b[38;5;241m12\u001b[39m)\n\u001b[0;32m     43\u001b[0m         doc\u001b[38;5;241m.\u001b[39madd_page_break()\n\u001b[1;32m---> 45\u001b[0m doc\u001b[38;5;241m.\u001b[39msave(docName)\n",
      "File \u001b[1;32m~\\AppData\\Local\\anaconda3\\Lib\\site-packages\\docx\\document.py:123\u001b[0m, in \u001b[0;36mDocument.save\u001b[1;34m(self, path_or_stream)\u001b[0m\n\u001b[0;32m    117\u001b[0m \u001b[38;5;28;01mdef\u001b[39;00m \u001b[38;5;21msave\u001b[39m(\u001b[38;5;28mself\u001b[39m, path_or_stream):\n\u001b[0;32m    118\u001b[0m \u001b[38;5;250m    \u001b[39m\u001b[38;5;124;03m\"\"\"Save this document to `path_or_stream`.\u001b[39;00m\n\u001b[0;32m    119\u001b[0m \n\u001b[0;32m    120\u001b[0m \u001b[38;5;124;03m    `path_or_stream` can be either a path to a filesystem location (a string) or a\u001b[39;00m\n\u001b[0;32m    121\u001b[0m \u001b[38;5;124;03m    file-like object.\u001b[39;00m\n\u001b[0;32m    122\u001b[0m \u001b[38;5;124;03m    \"\"\"\u001b[39;00m\n\u001b[1;32m--> 123\u001b[0m     \u001b[38;5;28mself\u001b[39m\u001b[38;5;241m.\u001b[39m_part\u001b[38;5;241m.\u001b[39msave(path_or_stream)\n",
      "File \u001b[1;32m~\\AppData\\Local\\anaconda3\\Lib\\site-packages\\docx\\parts\\document.py:106\u001b[0m, in \u001b[0;36mDocumentPart.save\u001b[1;34m(self, path_or_stream)\u001b[0m\n\u001b[0;32m    103\u001b[0m \u001b[38;5;28;01mdef\u001b[39;00m \u001b[38;5;21msave\u001b[39m(\u001b[38;5;28mself\u001b[39m, path_or_stream):\n\u001b[0;32m    104\u001b[0m \u001b[38;5;250m    \u001b[39m\u001b[38;5;124;03m\"\"\"Save this document to `path_or_stream`, which can be either a path to a\u001b[39;00m\n\u001b[0;32m    105\u001b[0m \u001b[38;5;124;03m    filesystem location (a string) or a file-like object.\"\"\"\u001b[39;00m\n\u001b[1;32m--> 106\u001b[0m     \u001b[38;5;28mself\u001b[39m\u001b[38;5;241m.\u001b[39mpackage\u001b[38;5;241m.\u001b[39msave(path_or_stream)\n",
      "File \u001b[1;32m~\\AppData\\Local\\anaconda3\\Lib\\site-packages\\docx\\opc\\package.py:151\u001b[0m, in \u001b[0;36mOpcPackage.save\u001b[1;34m(self, pkg_file)\u001b[0m\n\u001b[0;32m    149\u001b[0m \u001b[38;5;28;01mfor\u001b[39;00m part \u001b[38;5;129;01min\u001b[39;00m \u001b[38;5;28mself\u001b[39m\u001b[38;5;241m.\u001b[39mparts:\n\u001b[0;32m    150\u001b[0m     part\u001b[38;5;241m.\u001b[39mbefore_marshal()\n\u001b[1;32m--> 151\u001b[0m PackageWriter\u001b[38;5;241m.\u001b[39mwrite(pkg_file, \u001b[38;5;28mself\u001b[39m\u001b[38;5;241m.\u001b[39mrels, \u001b[38;5;28mself\u001b[39m\u001b[38;5;241m.\u001b[39mparts)\n",
      "File \u001b[1;32m~\\AppData\\Local\\anaconda3\\Lib\\site-packages\\docx\\opc\\pkgwriter.py:27\u001b[0m, in \u001b[0;36mPackageWriter.write\u001b[1;34m(pkg_file, pkg_rels, parts)\u001b[0m\n\u001b[0;32m     23\u001b[0m \u001b[38;5;129m@staticmethod\u001b[39m\n\u001b[0;32m     24\u001b[0m \u001b[38;5;28;01mdef\u001b[39;00m \u001b[38;5;21mwrite\u001b[39m(pkg_file, pkg_rels, parts):\n\u001b[0;32m     25\u001b[0m \u001b[38;5;250m    \u001b[39m\u001b[38;5;124;03m\"\"\"Write a physical package (.pptx file) to `pkg_file` containing `pkg_rels` and\u001b[39;00m\n\u001b[0;32m     26\u001b[0m \u001b[38;5;124;03m    `parts` and a content types stream based on the content types of the parts.\"\"\"\u001b[39;00m\n\u001b[1;32m---> 27\u001b[0m     phys_writer \u001b[38;5;241m=\u001b[39m PhysPkgWriter(pkg_file)\n\u001b[0;32m     28\u001b[0m     PackageWriter\u001b[38;5;241m.\u001b[39m_write_content_types_stream(phys_writer, parts)\n\u001b[0;32m     29\u001b[0m     PackageWriter\u001b[38;5;241m.\u001b[39m_write_pkg_rels(phys_writer, pkg_rels)\n",
      "File \u001b[1;32m~\\AppData\\Local\\anaconda3\\Lib\\site-packages\\docx\\opc\\phys_pkg.py:109\u001b[0m, in \u001b[0;36m_ZipPkgWriter.__init__\u001b[1;34m(self, pkg_file)\u001b[0m\n\u001b[0;32m    107\u001b[0m \u001b[38;5;28;01mdef\u001b[39;00m \u001b[38;5;21m__init__\u001b[39m(\u001b[38;5;28mself\u001b[39m, pkg_file):\n\u001b[0;32m    108\u001b[0m     \u001b[38;5;28msuper\u001b[39m(_ZipPkgWriter, \u001b[38;5;28mself\u001b[39m)\u001b[38;5;241m.\u001b[39m\u001b[38;5;21m__init__\u001b[39m()\n\u001b[1;32m--> 109\u001b[0m     \u001b[38;5;28mself\u001b[39m\u001b[38;5;241m.\u001b[39m_zipf \u001b[38;5;241m=\u001b[39m ZipFile(pkg_file, \u001b[38;5;124m\"\u001b[39m\u001b[38;5;124mw\u001b[39m\u001b[38;5;124m\"\u001b[39m, compression\u001b[38;5;241m=\u001b[39mZIP_DEFLATED)\n",
      "File \u001b[1;32m~\\AppData\\Local\\anaconda3\\Lib\\zipfile.py:1283\u001b[0m, in \u001b[0;36mZipFile.__init__\u001b[1;34m(self, file, mode, compression, allowZip64, compresslevel, strict_timestamps, metadata_encoding)\u001b[0m\n\u001b[0;32m   1281\u001b[0m \u001b[38;5;28;01mwhile\u001b[39;00m \u001b[38;5;28;01mTrue\u001b[39;00m:\n\u001b[0;32m   1282\u001b[0m     \u001b[38;5;28;01mtry\u001b[39;00m:\n\u001b[1;32m-> 1283\u001b[0m         \u001b[38;5;28mself\u001b[39m\u001b[38;5;241m.\u001b[39mfp \u001b[38;5;241m=\u001b[39m io\u001b[38;5;241m.\u001b[39mopen(file, filemode)\n\u001b[0;32m   1284\u001b[0m     \u001b[38;5;28;01mexcept\u001b[39;00m \u001b[38;5;167;01mOSError\u001b[39;00m:\n\u001b[0;32m   1285\u001b[0m         \u001b[38;5;28;01mif\u001b[39;00m filemode \u001b[38;5;129;01min\u001b[39;00m modeDict:\n",
      "\u001b[1;31mFileNotFoundError\u001b[0m: [Errno 2] No such file or directory: 'output/guests.docx'"
     ]
    }
   ],
   "source": [
    "if __name__ == \"__main__\":\n",
    "    createInvitations('input/guests.txt', 'output/guests.docx')"
   ]
  },
  {
   "cell_type": "code",
   "execution_count": null,
   "id": "32a8a6e6",
   "metadata": {},
   "outputs": [],
   "source": []
  }
 ],
 "metadata": {
  "kernelspec": {
   "display_name": "Python 3 (ipykernel)",
   "language": "python",
   "name": "python3"
  },
  "language_info": {
   "codemirror_mode": {
    "name": "ipython",
    "version": 3
   },
   "file_extension": ".py",
   "mimetype": "text/x-python",
   "name": "python",
   "nbconvert_exporter": "python",
   "pygments_lexer": "ipython3",
   "version": "3.11.3"
  }
 },
 "nbformat": 4,
 "nbformat_minor": 5
}
