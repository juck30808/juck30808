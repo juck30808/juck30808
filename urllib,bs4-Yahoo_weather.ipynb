{
 "cells": [
  {
   "cell_type": "markdown",
   "metadata": {},
   "source": [
    "# WebCrawler_Yahoo_weather\n",
    "##  Yahoo氣象\n",
    "https://tw.news.yahoo.com/weather/%E8%87%BA%E7%81%A3/%E8%87%BA%E5%8C%97%E5%B8%82/%E8%87%BA%E5%8C%97%E5%B8%82-2306179"
   ]
  },
  {
   "cell_type": "code",
   "execution_count": 1,
   "metadata": {},
   "outputs": [
    {
     "ename": "AttributeError",
     "evalue": "'NoneType' object has no attribute 'find_all'",
     "output_type": "error",
     "traceback": [
      "\u001b[0;31m---------------------------------------------------------------------------\u001b[0m",
      "\u001b[0;31mAttributeError\u001b[0m                            Traceback (most recent call last)",
      "Cell \u001b[0;32mIn[1], line 23\u001b[0m\n\u001b[1;32m     17\u001b[0m \u001b[38;5;66;03m#print(soup.prettify())    #sort use\u001b[39;00m\n\u001b[1;32m     18\u001b[0m \u001b[38;5;66;03m#print(soup.head.title)    #catch head with title \u001b[39;00m\n\u001b[1;32m     19\u001b[0m \u001b[38;5;66;03m#print(soup.title.string)  #catch only string\u001b[39;00m\n\u001b[1;32m     20\u001b[0m \n\u001b[1;32m     21\u001b[0m \u001b[38;5;66;03m# big div class\u001b[39;00m\n\u001b[1;32m     22\u001b[0m main_tag \u001b[38;5;241m=\u001b[39m soup\u001b[38;5;241m.\u001b[39mfind(\u001b[38;5;124m'\u001b[39m\u001b[38;5;124mdiv\u001b[39m\u001b[38;5;124m'\u001b[39m,class_\u001b[38;5;241m=\u001b[39m\u001b[38;5;124m'\u001b[39m\u001b[38;5;124maccordion Ov(h) Trsdu(.42s) daily\u001b[39m\u001b[38;5;124m'\u001b[39m)\n\u001b[0;32m---> 23\u001b[0m item_tags \u001b[38;5;241m=\u001b[39m \u001b[43mmain_tag\u001b[49m\u001b[38;5;241;43m.\u001b[39;49m\u001b[43mfind_all\u001b[49m(\u001b[38;5;124m'\u001b[39m\u001b[38;5;124mdiv\u001b[39m\u001b[38;5;124m'\u001b[39m, class_\u001b[38;5;241m=\u001b[39m\u001b[38;5;124m'\u001b[39m\u001b[38;5;124mBdB Bds(d) Bdbc(#fff.12) Fz(1.2em) Py(2px) O(0) Pos(r) forecast-item\u001b[39m\u001b[38;5;124m'\u001b[39m)\n\u001b[1;32m     24\u001b[0m \u001b[38;5;66;03m#print(item_tags)\u001b[39;00m\n\u001b[1;32m     25\u001b[0m \n\u001b[1;32m     26\u001b[0m \u001b[38;5;66;03m#catch span_tags\u001b[39;00m\n\u001b[1;32m     27\u001b[0m \u001b[38;5;28;01mfor\u001b[39;00m item_tag \u001b[38;5;129;01min\u001b[39;00m item_tags:\n",
      "\u001b[0;31mAttributeError\u001b[0m: 'NoneType' object has no attribute 'find_all'"
     ]
    }
   ],
   "source": [
    "from bs4 import BeautifulSoup\n",
    "from urllib.parse import unquote\n",
    "import urllib\n",
    "import urllib.request\n",
    "import os\n",
    "import string\n",
    "\n",
    "\n",
    "\n",
    "#catch all web in html_doc\n",
    "url = 'https://tw.news.yahoo.com/weather/%E8%87%BA%E7%81%A3/%E8%87%BA%E5%8C%97%E5%B8%82/%E8%87%BA%E5%8C%97%E5%B8%82-2306179'\n",
    "headers = {'User-Agent':'Mozilla/5.0 (Windows NT 6.1; WOW64; rv:23.0) Gecko/20100101 Firefox/23.0'}\n",
    "req = urllib.request.Request(url= urllib.parse.quote(url, safe=string.printable), \n",
    "                             headers=headers)\n",
    "html_doc = urllib.request.urlopen(req).read()\n",
    "soup = BeautifulSoup(html_doc, 'html.parser')\n",
    "#print(soup.prettify())    #sort use\n",
    "#print(soup.head.title)    #catch head with title \n",
    "#print(soup.title.string)  #catch only string\n",
    "\n",
    "# big div class\n",
    "main_tag = soup.find('div',class_='accordion Ov(h) Trsdu(.42s) daily')\n",
    "item_tags = main_tag.find_all('div', class_='BdB Bds(d) Bdbc(#fff.12) Fz(1.2em) Py(2px) O(0) Pos(r) forecast-item')\n",
    "#print(item_tags)\n",
    "\n",
    "#catch span_tags\n",
    "for item_tag in item_tags:\n",
    "    span_tags = item_tag.find_all('span')\n",
    "    print(span_tags[0].getText(),\n",
    "          \"|\", span_tags[1].find('img')['alt'],\" | \", \n",
    "          span_tags[2].find('img')['alt'].split(':'),\n",
    "          '高溫', span_tags[6].getText(),'低溫', span_tags[7].getText()\n",
    "         )"
   ]
  },
  {
   "cell_type": "markdown",
   "metadata": {},
   "source": [
    "# 執行流程 Process"
   ]
  },
  {
   "cell_type": "code",
   "execution_count": null,
   "metadata": {},
   "outputs": [],
   "source": [
    "import datetime\n",
    "datetime.date.today()"
   ]
  },
  {
   "cell_type": "code",
   "execution_count": null,
   "metadata": {},
   "outputs": [],
   "source": [
    "from bs4 import BeautifulSoup\n",
    "from urllib.parse import unquote\n",
    "import urllib\n",
    "import urllib.request\n",
    "import os\n",
    "import string\n",
    "\n",
    "url = 'https://tw.news.yahoo.com/weather/%E8%87%BA%E7%81%A3/%E8%87%BA%E5%8C%97%E5%B8%82/%E8%87%BA%E5%8C%97%E5%B8%82-2306179'\n",
    "headers = {'User-Agent':'Mozilla/5.0 (Windows NT 6.1; WOW64; rv:23.0) Gecko/20100101 Firefox/23.0'}\n",
    "req = urllib.request.Request(url= urllib.parse.quote(url, safe=string.printable), headers=headers)\n",
    "html_doc = urllib.request.urlopen(req).read()\n",
    "soup = BeautifulSoup(html_doc, 'html.parser')\n",
    "main_tag = soup.find('div',class_='accordion Ov(h) Trsdu(.42s) daily')\n",
    "#main_tag"
   ]
  },
  {
   "cell_type": "code",
   "execution_count": null,
   "metadata": {},
   "outputs": [],
   "source": [
    "tag = soup.find_all('div',class_='D(ib) Va(m) W(1/4)') #catch all\n",
    "#tag = soup.find('div',class_='D(ib) Va(m) W(1/4)')    #cath 1 \n",
    "tag"
   ]
  },
  {
   "cell_type": "code",
   "execution_count": null,
   "metadata": {},
   "outputs": [],
   "source": [
    "item_tags = main_tag.find_all('div', class_='BdB Bds(d) Bdbc(#fff.12) Fz(1.2em) Py(2px) O(0) Pos(r) forecast-item')\n",
    "item_tags[0]"
   ]
  },
  {
   "cell_type": "code",
   "execution_count": null,
   "metadata": {},
   "outputs": [],
   "source": [
    "item_tag = item_tags[0]\n",
    "span_tags = item_tag.find_all('span')\n",
    "#span_tags"
   ]
  },
  {
   "cell_type": "code",
   "execution_count": null,
   "metadata": {},
   "outputs": [],
   "source": [
    "#span_tags[0]\n",
    "span_tags[0].getText() #newest"
   ]
  },
  {
   "cell_type": "code",
   "execution_count": null,
   "metadata": {},
   "outputs": [],
   "source": [
    "#span_tags[1].find('img')\n",
    "span_tags[1].find('img')['alt']"
   ]
  },
  {
   "cell_type": "code",
   "execution_count": null,
   "metadata": {},
   "outputs": [],
   "source": [
    "#span_tags[2]\n",
    "span_tags[2].find('img')['alt']"
   ]
  },
  {
   "cell_type": "code",
   "execution_count": null,
   "metadata": {},
   "outputs": [],
   "source": [
    "span_tags[2].find('img')['alt'].split(':')"
   ]
  },
  {
   "cell_type": "code",
   "execution_count": null,
   "metadata": {},
   "outputs": [],
   "source": [
    "#span_tags[6]\n",
    "print(span_tags[6].getText(),\"-\",span_tags[7].getText())"
   ]
  },
  {
   "cell_type": "markdown",
   "metadata": {},
   "source": [
    "# 計算未來十天的最高氣溫與最低氣溫"
   ]
  },
  {
   "cell_type": "code",
   "execution_count": null,
   "metadata": {},
   "outputs": [],
   "source": [
    "from bs4 import BeautifulSoup\n",
    "from urllib.parse import unquote\n",
    "import urllib\n",
    "import urllib.request\n",
    "import os\n",
    "import string\n",
    "\n",
    "tem = []\n",
    "for item_tag in item_tags:\n",
    "    span_tags = item_tag.find_all('span')\n",
    "    w1 = span_tags[6].getText().replace('°','')\n",
    "    w2 = span_tags[7].getText().replace('°','')\n",
    "    tem.append(int(w1))\n",
    "    tem.append(int(w2))\n",
    "    \n",
    "tem.sort()\n",
    "print('未來十天最低溫度', tem[0])  #min(tem)\n",
    "print('未來十天最高溫度', tem[-1]) #max(tem)\n"
   ]
  },
  {
   "cell_type": "code",
   "execution_count": null,
   "metadata": {},
   "outputs": [],
   "source": []
  }
 ],
 "metadata": {
  "kernelspec": {
   "display_name": "Python 3 (ipykernel)",
   "language": "python",
   "name": "python3"
  },
  "language_info": {
   "codemirror_mode": {
    "name": "ipython",
    "version": 3
   },
   "file_extension": ".py",
   "mimetype": "text/x-python",
   "name": "python",
   "nbconvert_exporter": "python",
   "pygments_lexer": "ipython3",
   "version": "3.11.3"
  }
 },
 "nbformat": 4,
 "nbformat_minor": 4
}
