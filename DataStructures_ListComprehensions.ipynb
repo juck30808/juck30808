{
 "cells": [
  {
   "cell_type": "markdown",
   "metadata": {},
   "source": [
    "## Week 3 : Comprehensions & Functions Files \n",
    "Why would we use comprehensions? Don’t say how you want the object constructed.Just say what you want in the object. \n",
    "- Comprehensions 推導式\n",
    "- Inside Python Functions\n",
    "- Parameters\n",
    "- Variadic Arguments\n",
    "- Parameter Ordering\n",
    "- Aside: Code Style\n",
    "- First-Class Functions"
   ]
  },
  {
   "cell_type": "code",
   "execution_count": 5,
   "metadata": {},
   "outputs": [
    {
     "name": "stdout",
     "output_type": "stream",
     "text": [
      "[0, 3, 6, 9, 12, 15, 18, 21, 24, 27]\n"
     ]
    },
    {
     "data": {
      "text/plain": [
       "[0, 3, 6, 9, 12, 15, 18, 21, 24, 27]"
      ]
     },
     "execution_count": 5,
     "metadata": {},
     "output_type": "execute_result"
    }
   ],
   "source": [
    "numbers = []\n",
    "for x in range(10): \n",
    "    numbers.append(x * 3)\n",
    "print(numbers)\n",
    "\n",
    "[x * 3 for x in range(10)]  # List Comprehensions 列表推導式"
   ]
  },
  {
   "cell_type": "code",
   "execution_count": 6,
   "metadata": {},
   "outputs": [
    {
     "name": "stdout",
     "output_type": "stream",
     "text": [
      "[[0, 1, 2], [0, 1, 2], [0, 1, 2]]\n"
     ]
    },
    {
     "data": {
      "text/plain": [
       "[[0, 1, 2], [0, 1, 2], [0, 1, 2]]"
      ]
     },
     "execution_count": 6,
     "metadata": {},
     "output_type": "execute_result"
    }
   ],
   "source": [
    "new_matrix = [] \n",
    "for i in range(3):          \n",
    "    new_matrix.append([])\n",
    "    for j in range(3):\n",
    "        new_matrix[i].append(j)\n",
    "print(new_matrix)\n",
    "\n",
    "[[j for j in range(3)] for i in range(3)]  # List Comprehensions 列表推導式"
   ]
  },
  {
   "cell_type": "code",
   "execution_count": 7,
   "metadata": {},
   "outputs": [
    {
     "name": "stdout",
     "output_type": "stream",
     "text": [
      "['fig', 'kiwi']\n"
     ]
    },
    {
     "data": {
      "text/plain": [
       "['fig', 'kiwi']"
      ]
     },
     "execution_count": 7,
     "metadata": {},
     "output_type": "execute_result"
    }
   ],
   "source": [
    "fruits_list = [\"fig\", \"banana\", \"kiwi\", \"cherry\"]\n",
    "my_list = []\n",
    "\n",
    "for item in fruits_list:\n",
    "    if \"i\" in item:\n",
    "        my_list.append(item)\n",
    "print(my_list)\n",
    "\n",
    "[item for item in fruits_list if \"i\" in item] # ListComprehensions 列表推導式"
   ]
  },
  {
   "cell_type": "code",
   "execution_count": 8,
   "metadata": {},
   "outputs": [
    {
     "name": "stdout",
     "output_type": "stream",
     "text": [
      "['P', 'o', 'w', 'e', 'r']\n"
     ]
    },
    {
     "data": {
      "text/plain": [
       "['P', 'o', 'w', 'e', 'r']"
      ]
     },
     "execution_count": 8,
     "metadata": {},
     "output_type": "execute_result"
    }
   ],
   "source": [
    "new_list = [] #empty list\n",
    "\n",
    "for new_char in \"Power\":\n",
    "    new_list.append(new_char)\n",
    "print(new_list) #printing the list \n",
    "\n",
    "[new_char for new_char in \"Power\"] # List Comprehensions 列表推導式"
   ]
  },
  {
   "cell_type": "code",
   "execution_count": 11,
   "metadata": {},
   "outputs": [],
   "source": [
    "# [x * 3 for x in range(10) if x > 4]\n",
    "# [word.lower() for word in sentence]\n",
    "# [ch for ch in word.lower() if ch not in 'aeiou']\n",
    "# [(x, x**2, x**3) for x in seq]\n",
    "# [(i,j) for i in range(5) for j in range(i)]"
   ]
  },
  {
   "cell_type": "code",
   "execution_count": 12,
   "metadata": {},
   "outputs": [
    {
     "name": "stdout",
     "output_type": "stream",
     "text": [
      "{'e'}\n"
     ]
    }
   ],
   "source": [
    "## Set Comprehensions\n",
    "\n",
    "titles = \"Learn Code With Mike\"\n",
    "result = {letter for letter in titles if letter == \"e\"}\n",
    "print(result)"
   ]
  },
  {
   "cell_type": "code",
   "execution_count": null,
   "metadata": {},
   "outputs": [],
   "source": []
  },
  {
   "cell_type": "code",
   "execution_count": null,
   "metadata": {},
   "outputs": [],
   "source": []
  },
  {
   "cell_type": "code",
   "execution_count": 14,
   "metadata": {},
   "outputs": [
    {
     "data": {
      "text/plain": [
       "[0, 1, 4, 9, 16, 25, 36, 49, 64, 81]"
      ]
     },
     "execution_count": 14,
     "metadata": {},
     "output_type": "execute_result"
    }
   ],
   "source": [
    "squares = []\n",
    "for x in range(10):\n",
    "    squares.append(x**2)\n",
    "squares"
   ]
  },
  {
   "cell_type": "code",
   "execution_count": 15,
   "metadata": {},
   "outputs": [
    {
     "data": {
      "text/plain": [
       "[0, 1, 4, 9, 16, 25, 36, 49, 64, 81]"
      ]
     },
     "execution_count": 15,
     "metadata": {},
     "output_type": "execute_result"
    }
   ],
   "source": [
    "squares = list(map(lambda x: x**2, range(10)))\n",
    "squares"
   ]
  },
  {
   "cell_type": "code",
   "execution_count": 16,
   "metadata": {},
   "outputs": [
    {
     "data": {
      "text/plain": [
       "[0, 1, 4, 9, 16, 25, 36, 49, 64, 81]"
      ]
     },
     "execution_count": 16,
     "metadata": {},
     "output_type": "execute_result"
    }
   ],
   "source": [
    "squares = [x**2 for x in range(10)]\n",
    "squares"
   ]
  },
  {
   "cell_type": "code",
   "execution_count": 17,
   "metadata": {
    "scrolled": true
   },
   "outputs": [
    {
     "data": {
      "text/plain": [
       "[(1, 3), (1, 4), (2, 3), (2, 1), (2, 4), (3, 1), (3, 4)]"
      ]
     },
     "execution_count": 17,
     "metadata": {},
     "output_type": "execute_result"
    }
   ],
   "source": [
    "[(x, y) for x in [1,2,3] for y in [3,1,4] if x != y]"
   ]
  },
  {
   "cell_type": "code",
   "execution_count": null,
   "metadata": {},
   "outputs": [],
   "source": [
    "my_list=[2,3,4,5,6]\n",
    "squared_list=[val**2 for val in my_list]\n",
    "print(squared_list)"
   ]
  },
  {
   "cell_type": "code",
   "execution_count": null,
   "metadata": {},
   "outputs": [],
   "source": [
    "even_list=[var for var in my_list if var%2==0]\n",
    "print(even_list)"
   ]
  },
  {
   "cell_type": "code",
   "execution_count": 18,
   "metadata": {},
   "outputs": [
    {
     "name": "stdout",
     "output_type": "stream",
     "text": [
      "  apples Alice  dogs \n",
      " oranges   Bob  cats \n",
      "cherries Carol moose \n",
      "  banana David goose \n"
     ]
    }
   ],
   "source": [
    "def printTable(list2D):\n",
    "    # get the max length string of each row\n",
    "    row_max_len = []\n",
    "    for row in range(len(list2D)):\n",
    "        row_max_len.append(max([len(col) for col in list2D[row]]))\n",
    "\n",
    "    # print table right Justified\n",
    "    for col in range(len(list2D[0])):\n",
    "        for row in range(len(list2D)):\n",
    "            print(list2D[row][col].rjust(row_max_len[row]), end=' ')\n",
    "        print()\n",
    "        \n",
    "if __name__ == \"__main__\":\n",
    "\n",
    "    tableData = [['apples', 'oranges', 'cherries', 'banana'],\n",
    "                 ['Alice', 'Bob', 'Carol', 'David'],\n",
    "                 ['dogs', 'cats', 'moose', 'goose']]\n",
    "\n",
    "    printTable(tableData)"
   ]
  },
  {
   "cell_type": "code",
   "execution_count": null,
   "metadata": {},
   "outputs": [],
   "source": []
  }
 ],
 "metadata": {
  "kernelspec": {
   "display_name": "Python 3 (ipykernel)",
   "language": "python",
   "name": "python3"
  },
  "language_info": {
   "codemirror_mode": {
    "name": "ipython",
    "version": 3
   },
   "file_extension": ".py",
   "mimetype": "text/x-python",
   "name": "python",
   "nbconvert_exporter": "python",
   "pygments_lexer": "ipython3",
   "version": "3.9.7"
  }
 },
 "nbformat": 4,
 "nbformat_minor": 4
}
