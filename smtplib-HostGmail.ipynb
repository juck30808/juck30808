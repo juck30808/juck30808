{
 "cells": [
  {
   "cell_type": "code",
   "execution_count": 1,
   "id": "991c12ec",
   "metadata": {},
   "outputs": [],
   "source": [
    "#Search: host name for gmail"
   ]
  },
  {
   "cell_type": "code",
   "execution_count": 2,
   "id": "3ec9bdee",
   "metadata": {},
   "outputs": [
    {
     "name": "stdout",
     "output_type": "stream",
     "text": [
      "<smtplib.SMTP object at 0x000001D5B819B190>\n"
     ]
    }
   ],
   "source": [
    "import smtplib\n",
    "session = smtplib.SMTP('smtp.gmail.com',587)\n",
    "print(session)"
   ]
  },
  {
   "cell_type": "code",
   "execution_count": 3,
   "id": "b985f49b",
   "metadata": {},
   "outputs": [
    {
     "data": {
      "text/plain": [
       "(250,\n",
       " b'smtp.gmail.com at your service, [210.208.112.50]\\nSIZE 35882577\\n8BITMIME\\nSTARTTLS\\nENHANCEDSTATUSCODES\\nPIPELINING\\nCHUNKING\\nSMTPUTF8')"
      ]
     },
     "execution_count": 3,
     "metadata": {},
     "output_type": "execute_result"
    }
   ],
   "source": [
    "session.ehlo()"
   ]
  },
  {
   "cell_type": "code",
   "execution_count": 4,
   "id": "a6bec423",
   "metadata": {},
   "outputs": [
    {
     "data": {
      "text/plain": [
       "(220, b'2.0.0 Ready to start TLS')"
      ]
     },
     "execution_count": 4,
     "metadata": {},
     "output_type": "execute_result"
    }
   ],
   "source": [
    "session.starttls()"
   ]
  },
  {
   "cell_type": "code",
   "execution_count": 5,
   "id": "8a98163b",
   "metadata": {},
   "outputs": [
    {
     "data": {
      "text/plain": [
       "(250,\n",
       " b'smtp.gmail.com at your service, [210.208.112.50]\\nSIZE 35882577\\n8BITMIME\\nAUTH LOGIN PLAIN XOAUTH2 PLAIN-CLIENTTOKEN OAUTHBEARER XOAUTH\\nENHANCEDSTATUSCODES\\nPIPELINING\\nCHUNKING\\nSMTPUTF8')"
      ]
     },
     "execution_count": 5,
     "metadata": {},
     "output_type": "execute_result"
    }
   ],
   "source": [
    "session.ehlo()"
   ]
  },
  {
   "cell_type": "code",
   "execution_count": 6,
   "id": "c35b80fd",
   "metadata": {
    "scrolled": true
   },
   "outputs": [
    {
     "name": "stdin",
     "output_type": "stream",
     "text": [
      " ········\n"
     ]
    },
    {
     "ename": "NameError",
     "evalue": "name 'Password' is not defined",
     "output_type": "error",
     "traceback": [
      "\u001b[1;31m---------------------------------------------------------------------------\u001b[0m",
      "\u001b[1;31mNameError\u001b[0m                                 Traceback (most recent call last)",
      "Cell \u001b[1;32mIn[6], line 4\u001b[0m\n\u001b[0;32m      1\u001b[0m \u001b[38;5;28;01mimport\u001b[39;00m \u001b[38;5;21;01mgetpass\u001b[39;00m\n\u001b[0;32m      2\u001b[0m password \u001b[38;5;241m=\u001b[39m getpass\u001b[38;5;241m.\u001b[39mgetpass()\n\u001b[1;32m----> 4\u001b[0m session\u001b[38;5;241m.\u001b[39mlogin(\u001b[38;5;124m'\u001b[39m\u001b[38;5;124mjuck30808@gmail.com\u001b[39m\u001b[38;5;124m'\u001b[39m, password \u001b[38;5;241m=\u001b[39m Password)\n",
      "\u001b[1;31mNameError\u001b[0m: name 'Password' is not defined"
     ]
    }
   ],
   "source": [
    "import getpass\n",
    "password = getpass.getpass()\n",
    "\n",
    "session.login('juck30808@gmail.com', password = Password)"
   ]
  },
  {
   "cell_type": "code",
   "execution_count": null,
   "id": "0a312452",
   "metadata": {},
   "outputs": [],
   "source": [
    "#Method1\n",
    "from smtplib import SMTP  \n",
    "\n",
    "sender = 'juck30808@gmail.com'\n",
    "Password = getpass.getpass()\n",
    "recipient = 'b10523030@yuntech.org.tw'\n",
    "\n",
    "#connect_server = SMTP( host ='smtp.mail.yahoo.com', port = 587)\n",
    "#connect_server = SMTP(host ='smtp.gmail.com', port = 465)\n",
    "connect_server = SMTP(host ='smtp.gmail.com',port = 587)\n",
    "connect_server.ehlo()\n",
    "connect_server\n",
    "connect_server.starttls()\n",
    "connect_server.login(user = sender, password = Password)\n",
    "connect_server.sendmail(from_addr = sender, to_addrs = recipient, msg = 'Subject:Discount Offer\\n\\nHi, there.')\n",
    "connect_server.close()\n",
    "print(\"send Mail\")"
   ]
  },
  {
   "cell_type": "code",
   "execution_count": null,
   "id": "6dd7f217",
   "metadata": {},
   "outputs": [],
   "source": [
    "#Method2\n",
    "import getpass\n",
    "from smtplib import SMTP  \n",
    "from email.mime. text import MIMEText\n",
    "from email.header import Header\n",
    "\n",
    "sender = 'juck30808@gmail.com'\n",
    "Password = getpass.getpass()\n",
    "recipient = 'b10523030@yuntech.org.tw'\n",
    "\n",
    "mail_title = 'Hello'\n",
    "mail_body = 'Man'\n",
    "message = MIMEText (mail_body, 'plain', 'utf-8' )  # Text \n",
    "message['From'] = sender  # Sender's name\n",
    "message['To'] = recipient  # receiver's name\n",
    "message['Subject'] = Header(mail_title, 'utf-8' )  # title\n",
    "\n",
    "#connect_server = SMTP( host ='smtp.mail.yahoo.com', port = 587)\n",
    "#connect_server = SMTP(host ='smtp.gmail.com', port = 465)\n",
    "connect_server = SMTP(host ='smtp.gmail.com',port = 587)\n",
    "connect_server.ehlo()\n",
    "connect_server\n",
    "connect_server.starttls()\n",
    "\n",
    "connect_server.login(user = sender, password = Password)\n",
    "connect_server.sendmail(sender, recipient, message.as_string())\n",
    "connect_server.close()\n",
    "print(\"send Mail\")"
   ]
  },
  {
   "cell_type": "code",
   "execution_count": null,
   "id": "afef85a4",
   "metadata": {},
   "outputs": [],
   "source": [
    "# importing needed Python  Modules\n",
    "import getpass\n",
    "from smtplib import SMTP \n",
    "import datetime\n",
    "import pandas as pd \n",
    "\n",
    "#Assign and delare needed variables\n",
    "Password = getpass.getpass()\n",
    "Sender = 'juck30808@gmail.com'\n",
    "\n",
    "now = datetime.datetime.now()\n",
    "actual_date = (now.day, now.month)\n",
    "\n",
    "#Read from Excel sheet using Pandas Module\n",
    "Emails_list = pd.read_excel('input/emails_list.xlsx')\n",
    "\n",
    "#Extract the customers names and the customers emails from the excel sheet as a list\n",
    "names = Emails_list['Name']\n",
    "emails = Emails_list['Email']\n",
    "\n",
    "# Connect to the server of the sender email account\n",
    "with SMTP(host = 'smtp.gmail.com', port = 587) as connect_server:\n",
    "    connect_server.starttls()  # Encrypt our emails using tls protocol\n",
    "    connect_server.login(Sender, Password) # Log in the Sender Account\n",
    "    \n",
    "    # iterate through records to get each name and email\n",
    "    for item in range(len(emails)):\n",
    "        name = names[item]\n",
    "        email = emails[item]\n",
    "        \n",
    "    # Adjust the time of sending emails to customers using control flow if statement\n",
    "    if actual_date == (20, 11):\n",
    "        message = \"Subject:Black Friday Discount Offer\\n\\nHi, {}, Don't wait and buy now.\".format(name)\n",
    "        connect_server.sendmail(Sender, [email], message)\n",
    "    elif actual_date == (20, 12):\n",
    "        message = \"Subject:White Friday Discount Offer\\n\\nHi, {}, Don't wait and buy now.\".format(name)\n",
    "        connect_server.sendmail(Sender, [email], message)\n",
    "    \n",
    "    # Testing our code by sending emails and print statements\n",
    "    elif actual_date == (5, 12):\n",
    "        message = \"Subject:Discount Offer\\n\\nHi, {}, Code is okay.\".format(name)\n",
    "        connect_server.sendmail(Sender, [email], message)\n",
    "        print('Code testing result is okay.')\n",
    "\n",
    "print('All Done.')"
   ]
  },
  {
   "cell_type": "code",
   "execution_count": null,
   "id": "a82ae560",
   "metadata": {},
   "outputs": [],
   "source": []
  }
 ],
 "metadata": {
  "kernelspec": {
   "display_name": "Python 3 (ipykernel)",
   "language": "python",
   "name": "python3"
  },
  "language_info": {
   "codemirror_mode": {
    "name": "ipython",
    "version": 3
   },
   "file_extension": ".py",
   "mimetype": "text/x-python",
   "name": "python",
   "nbconvert_exporter": "python",
   "pygments_lexer": "ipython3",
   "version": "3.11.3"
  }
 },
 "nbformat": 4,
 "nbformat_minor": 5
}
