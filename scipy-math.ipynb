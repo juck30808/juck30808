{
 "cells": [
  {
   "cell_type": "markdown",
   "metadata": {},
   "source": [
    "## SciPy：科學 Python\n",
    "\n",
    "SciPy 基於 NumPy。用於數值計算的著名 Fortran 庫的一組 Python 包裝器，並從那裡發展壯大。該包被安排為一組子模塊，每個子模塊都實現了某類數值算法。以下是一些對數據科學更重要的不完整示例：\n",
    "\n",
    "- ``scipy.fftpack``：快速傅立葉變換\n",
    "- ``scipy.integrate``：數值積分\n",
    "- ``scipy.interpolate``：數值插值\n",
    "- ``scipy.linalg``：線性代數例程\n",
    "- ``scipy.optimize``：函數的數值優化\n",
    "- ``scipy.sparse``：稀疏矩陣存儲和線性代數\n",
    "- ``scipy.stats``：統計分析例程\n",
    "\n",
    "例如，我們來看看在一些數據之間插入一條平滑的曲線"
   ]
  },
  {
   "cell_type": "code",
   "execution_count": 1,
   "metadata": {},
   "outputs": [
    {
     "data": {
      "image/png": "[encoded data removed]",
      "text/plain": [
       "<Figure size 432x288 with 1 Axes>"
      ]
     },
     "metadata": {
      "needs_background": "light"
     },
     "output_type": "display_data"
    }
   ],
   "source": [
    "import numpy as np\n",
    "import matplotlib.pyplot as plt\n",
    "from scipy import interpolate\n",
    "\n",
    "# choose eight points between 0 and 10\n",
    "x = np.linspace(0, 10, 8)\n",
    "y = np.sin(x)\n",
    "\n",
    "# create a cubic interpolation function\n",
    "func = interpolate.interp1d(x, y, kind='cubic')\n",
    "\n",
    "# interpolate on a grid of 1,000 points\n",
    "x_interp = np.linspace(0, 10, 1000)\n",
    "y_interp = func(x_interp)\n",
    "\n",
    "# plot the results\n",
    "plt.figure()  # new figure\n",
    "plt.plot(x, y, 'o')\n",
    "plt.plot(x_interp, y_interp);"
   ]
  },
  {
   "cell_type": "code",
   "execution_count": 2,
   "metadata": {},
   "outputs": [
    {
     "name": "stdout",
     "output_type": "stream",
     "text": [
      "In file: C:\\Users\\cti110016\\Anaconda3\\lib\\site-packages\\scipy\\cluster\\__init__.py\n",
      "\n",
      "\"\"\"\n",
      "=========================================\n",
      "Clustering package (:mod:`scipy.cluster`)\n",
      "=========================================\n",
      "\n",
      ".. currentmodule:: scipy.cluster\n",
      "\n",
      ":mod:`scipy.cluster.vq`\n",
      "\n",
      "Clustering algorithms are useful in information theory, target detection,\n",
      "communications, compression, and other areas. The `vq` module only\n",
      "supports vector quantization and the k-means algorithms.\n",
      "\n",
      ":mod:`scipy.cluster.hierarchy`\n",
      "\n",
      "The `hierarchy` module provides functions for hierarchical and\n",
      "agglomerative clustering.  Its features include generating hierarchical\n",
      "clusters from distance matrices,\n",
      "calculating statistics on clusters, cutting linkages\n",
      "to generate flat clusters, and visualizing clusters with dendrograms.\n",
      "\n",
      "\"\"\"\n",
      "__all__ = ['vq', 'hierarchy']\n",
      "\n",
      "from . import vq, hierarchy\n",
      "\n",
      "from scipy._lib._testutils import PytestTester\n",
      "test = PytestTester(__name__)\n",
      "del PytestTester\n",
      "\n"
     ]
    },
    {
     "name": "stderr",
     "output_type": "stream",
     "text": [
      "<ipython-input-2-f98ffcc8dd0a>:4: DeprecationWarning: scipy.source is deprecated and will be removed in SciPy 2.0.0, use numpy.source instead\n",
      "  sp.source(cluster)\n"
     ]
    }
   ],
   "source": [
    "import scipy as sp\n",
    "from scipy import cluster\n",
    "\n",
    "sp.source(cluster)"
   ]
  },
  {
   "cell_type": "code",
   "execution_count": 3,
   "metadata": {},
   "outputs": [
    {
     "name": "stdout",
     "output_type": "stream",
     "text": [
      "[[12.+0.j         -3.+1.73205081j -3.-1.73205081j]\n",
      " [ 9.+0.j         -3.+1.73205081j -3.-1.73205081j]]\n"
     ]
    },
    {
     "name": "stderr",
     "output_type": "stream",
     "text": [
      "<ipython-input-3-de5ee8c643c5>:6: DeprecationWarning: Using scipy.fft as a function is deprecated and will be removed in SciPy 1.5.0, use scipy.fft.fft instead.\n",
      "  tranas1 = sp.fft(var1)\n"
     ]
    }
   ],
   "source": [
    "import scipy as sp\n",
    "import numpy as np\n",
    "from scipy import fft\n",
    "\n",
    "var1 = np.array([[2,4,6],[1,3,5]])\n",
    "tranas1 = sp.fft(var1)\n",
    "                 \n",
    "print(tranas1)"
   ]
  },
  {
   "cell_type": "code",
   "execution_count": 4,
   "metadata": {},
   "outputs": [
    {
     "data": {
      "image/png": "[encoded data removed]",
      "text/plain": [
       "<Figure size 720x288 with 1 Axes>"
      ]
     },
     "metadata": {},
     "output_type": "display_data"
    }
   ],
   "source": [
    "L = [2, 3, 5, 7, 11]\n",
    "\n",
    "fig = plt.figure(figsize=(10, 4))\n",
    "ax = fig.add_axes([0, 0, 1, 1], xticks=[], yticks=[], frameon=False,\n",
    "                  aspect='equal')\n",
    "\n",
    "for i in range(5):\n",
    "    ax.add_patch(plt.Rectangle([i - 0.5, -0.5], 1, 1, fc='none', ec='black'))\n",
    "    ax.text(i, -0.05, L[i], size=100,\n",
    "            ha='center', va='center', family='monospace')\n",
    "    \n",
    "for i in range(6):\n",
    "    ax.text(i - 0.5, 0.55, str(i), size=20,\n",
    "            ha='center', va='bottom', family='monospace')\n",
    "    \n",
    "for i in range(5):\n",
    "    ax.text(i - 0.5, -0.58, str(-5 + i), size=20,\n",
    "            ha='center', va='top', family='monospace')\n",
    "    \n",
    "ax.axis([-0.7, 4.7, -0.7, 0.7]);\n",
    "\n",
    "#fig.savefig('fig/list-indexing.png');"
   ]
  },
  {
   "cell_type": "code",
   "execution_count": 1,
   "metadata": {},
   "outputs": [
    {
     "name": "stdout",
     "output_type": "stream",
     "text": [
      "Final outputs\n",
      "[[0.30126202]\n",
      " [0.54184808]\n",
      " [0.66389892]]\n"
     ]
    }
   ],
   "source": [
    "#C:\\Users\\Administrator\\Documents\\create own neural network\\Module 2\n",
    "\n",
    "import numpy\n",
    "import scipy.special\n",
    "\n",
    "input_nodes = 3\n",
    "hidden_nodes = 3\n",
    "output_nodes = 3\n",
    "\n",
    "wih = numpy.random.normal(0.0,pow(input_nodes,-0.5),(hidden_nodes,input_nodes))\n",
    "who  = numpy.random.normal(0.0,pow(hidden_nodes,-0.5),(output_nodes,hidden_nodes))\n",
    "\n",
    "lr = 0.3\n",
    "activation_function = lambda x : scipy.special.expit(x)\n",
    "\n",
    "inputs_list = [0.2,0.3,0.4]\n",
    "targets_list = [0.3,0.2,0.1]\n",
    "\n",
    "inputs = numpy.array(inputs_list,ndmin=2).T\n",
    "targets = numpy.array(targets_list,ndmin = 2).T\n",
    "\n",
    "hidden_inputs = numpy.dot(wih,inputs)\n",
    "hidden_outputs = activation_function(hidden_inputs)\n",
    "\n",
    "final_inputs = numpy.dot(who,hidden_outputs)\n",
    "\n",
    "final_outputs = activation_function(final_inputs)\n",
    "\n",
    "output_errors = targets - final_outputs\n",
    "\n",
    "hidden_errors = numpy.dot(who.T,output_errors)\n",
    "\n",
    "who += lr * numpy.dot((output_errors * final_outputs * (1.0 - final_outputs)), numpy.transpose(hidden_outputs))\n",
    "\n",
    "wih += lr * numpy.dot((hidden_errors * hidden_outputs * (1.0 - hidden_outputs)), numpy.transpose(inputs))\n",
    "\n",
    "inputs = numpy.array(inputs_list,ndmin=2).T\n",
    "hidden_inputs = numpy.dot(wih,inputs)\n",
    "hidden_outputs = activation_function(hidden_inputs)\n",
    "final_inputs = numpy.dot(who,hidden_outputs)\n",
    "final_outputs = activation_function(final_inputs)\n",
    "\n",
    "print(\"Final outputs\")\n",
    "print(final_outputs)\n"
   ]
  },
  {
   "cell_type": "code",
   "execution_count": null,
   "metadata": {},
   "outputs": [],
   "source": []
  }
 ],
 "metadata": {
  "kernelspec": {
   "display_name": "Python 3 (ipykernel)",
   "language": "python",
   "name": "python3"
  },
  "language_info": {
   "codemirror_mode": {
    "name": "ipython",
    "version": 3
   },
   "file_extension": ".py",
   "mimetype": "text/x-python",
   "name": "python",
   "nbconvert_exporter": "python",
   "pygments_lexer": "ipython3",
   "version": "3.11.3"
  }
 },
 "nbformat": 4,
 "nbformat_minor": 4
}
